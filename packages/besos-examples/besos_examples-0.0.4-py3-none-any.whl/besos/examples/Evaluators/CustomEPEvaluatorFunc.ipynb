{
 "cells": [
  {
   "cell_type": "markdown",
   "metadata": {
    "papermill": {
     "duration": 0.009832,
     "end_time": "2019-10-28T22:50:45.858299",
     "exception": false,
     "start_time": "2019-10-28T22:50:45.848467",
     "status": "completed"
    },
    "tags": []
   },
   "source": [
    "# Custom EnergyPlus Evaluator functions\n",
    "This notebook shows how to write a custom function that gets applied to the EnergyPlus outputs."
   ]
  },
  {
   "cell_type": "code",
   "execution_count": null,
   "metadata": {
    "lines_to_next_cell": 2,
    "papermill": {
     "duration": 1.073601,
     "end_time": "2019-10-28T22:50:46.943564",
     "exception": false,
     "start_time": "2019-10-28T22:50:45.869963",
     "status": "completed"
    },
    "tags": []
   },
   "outputs": [],
   "source": [
    "\n",
    "from besos import eppy_funcs as ef\n",
    "from besos.evaluator import EvaluatorEP\n",
    "from besos.objectives import MeterReader, time_series_values\n",
    "from besos.parameters import FieldSelector, Parameter, RangeParameter\n",
    "from besos.problem import EPProblem"
   ]
  },
  {
   "cell_type": "markdown",
   "metadata": {
    "papermill": {
     "duration": 0.003859,
     "end_time": "2019-10-28T22:50:46.952324",
     "exception": false,
     "start_time": "2019-10-28T22:50:46.948465",
     "status": "completed"
    },
    "tags": []
   },
   "source": [
    "### Set up an EnergyPlus Evaluator\n",
    "Here is a standard EnergyPlus Evaluator for editing the lighting power density for the default building and getting the electricity demand time series.\n",
    "By default, we get the sum of the variable we specify."
   ]
  },
  {
   "cell_type": "code",
   "execution_count": null,
   "metadata": {
    "papermill": {
     "duration": 1.468574,
     "end_time": "2019-10-28T22:50:48.426374",
     "exception": false,
     "start_time": "2019-10-28T22:50:46.957800",
     "status": "completed"
    },
    "tags": []
   },
   "outputs": [],
   "source": [
    "building = ef.get_building()\n",
    "EPparameters = [\n",
    "    Parameter(\n",
    "        FieldSelector(\"Lights\", \"*\", \"Watts per Zone Floor Area\"),\n",
    "        value_descriptor=RangeParameter(8, 12),\n",
    "        name=\"Lights Watts/Area\",\n",
    "    )\n",
    "]\n",
    "EPobjectives = MeterReader(\"Electricity:Facility\")\n",
    "problem = EPProblem(EPparameters, EPobjectives)\n",
    "evaluator = EvaluatorEP(problem, building)\n",
    "result = evaluator([8])\n",
    "result"
   ]
  },
  {
   "cell_type": "markdown",
   "metadata": {
    "papermill": {
     "duration": 0.004593,
     "end_time": "2019-10-28T22:50:48.436059",
     "exception": false,
     "start_time": "2019-10-28T22:50:48.431466",
     "status": "completed"
    },
    "tags": []
   },
   "source": [
    "### Time series data\n",
    "\n",
    "Sometimes we want to get back an entire time series, for example for linking to the Energy Hub model (see [here](../EnergyHub/EPtoEHEvaluators.ipynb)).\n",
    "For that we can specify `func=time_series_values`, which comes as part of besos.objectives."
   ]
  },
  {
   "cell_type": "code",
   "execution_count": null,
   "metadata": {
    "papermill": {
     "duration": 1.467034,
     "end_time": "2019-10-28T22:50:49.909550",
     "exception": false,
     "start_time": "2019-10-28T22:50:48.442516",
     "status": "completed"
    },
    "tags": []
   },
   "outputs": [],
   "source": [
    "EPobjectives = MeterReader(\"Electricity:Facility\", func=time_series_values)\n",
    "problem = EPProblem(EPparameters, EPobjectives)\n",
    "evaluator = EvaluatorEP(problem, building)\n",
    "result = evaluator([8])\n",
    "result"
   ]
  },
  {
   "cell_type": "markdown",
   "metadata": {
    "papermill": {
     "duration": 0.004563,
     "end_time": "2019-10-28T22:50:49.919433",
     "exception": false,
     "start_time": "2019-10-28T22:50:49.914870",
     "status": "completed"
    },
    "tags": []
   },
   "source": [
    "### Define a custom function\n",
    "Now we will define the function that we will apply to the EnergyPlus output data.\n",
    "The function `highloadhoursfunc` counts the hours in which the load is above a threshold."
   ]
  },
  {
   "cell_type": "code",
   "execution_count": null,
   "metadata": {
    "papermill": {
     "duration": 0.009645,
     "end_time": "2019-10-28T22:50:49.933549",
     "exception": false,
     "start_time": "2019-10-28T22:50:49.923904",
     "status": "completed"
    },
    "tags": []
   },
   "outputs": [],
   "source": [
    "def highloadhoursfunc(result):\n",
    "    threshold = 1e7\n",
    "    highloadhours = sum(result.data[\"Value\"] >= threshold)\n",
    "    return highloadhours"
   ]
  },
  {
   "cell_type": "markdown",
   "metadata": {
    "papermill": {
     "duration": 0.004084,
     "end_time": "2019-10-28T22:50:49.942002",
     "exception": false,
     "start_time": "2019-10-28T22:50:49.937918",
     "status": "completed"
    },
    "tags": []
   },
   "source": [
    "By specifying `func=highloadhoursfunc`, the result is the number of hours in which `Electricity:Facility` is above the threshold."
   ]
  },
  {
   "cell_type": "code",
   "execution_count": null,
   "metadata": {
    "papermill": {
     "duration": 1.441183,
     "end_time": "2019-10-28T22:50:51.387399",
     "exception": false,
     "start_time": "2019-10-28T22:50:49.946216",
     "status": "completed"
    },
    "tags": []
   },
   "outputs": [],
   "source": [
    "EPobjectives = MeterReader(\"Electricity:Facility\", func=highloadhoursfunc)\n",
    "problem = EPProblem(EPparameters, EPobjectives)\n",
    "evaluator = EvaluatorEP(problem, building)\n",
    "result = evaluator([8])\n",
    "result"
   ]
  }
 ],
 "metadata": {
  "kernelspec": {
   "display_name": "Python 3",
   "language": "python",
   "name": "python3"
  }
 },
 "nbformat": 4,
 "nbformat_minor": 4
}
