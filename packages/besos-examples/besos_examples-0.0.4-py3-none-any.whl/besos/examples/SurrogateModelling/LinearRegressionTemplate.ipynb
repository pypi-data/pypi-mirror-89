{
 "cells": [
  {
   "cell_type": "code",
   "execution_count": null,
   "metadata": {
    "lines_to_end_of_cell_marker": 2
   },
   "outputs": [],
   "source": [
    "import seaborn as sns\n",
    "from sklearn import linear_model\n",
    "from sklearn.model_selection import train_test_split\n",
    "\n",
    "from besos import eppy_funcs as ef, sampling\n",
    "from besos.evaluator import EvaluatorEP\n",
    "from besos.parameters import expand_plist\n",
    "from besos.problem import EPProblem"
   ]
  },
  {
   "cell_type": "markdown",
   "metadata": {},
   "source": [
    "# Linear Regression Template\n",
    "\n",
    "Linear Regression is a type of machine learning that assumes that the dataset that is given can be estimated and plotted as a linear function, and will then use that linear function to predict other values with decent accuracy.\n",
    "\n",
    "Other types of machine learning algorithms (Neural Networks or Gaussian Processes) will have much greater accuracy, but Linear Regression is a very quick and simple way to estimate."
   ]
  },
  {
   "cell_type": "markdown",
   "metadata": {},
   "source": [
    "Before we can start creating the model and fitting data to it, we have to initialise all of the necessary EPlus variables, which include:\n",
    "\n",
    "* The building we are modifying\n",
    "* What parameters we want to modify\n",
    "* The type of problem we are solving for\n",
    "* The samples that we plan to use\n",
    "\n",
    "More info can be found on these from the jupyter notebooks inside of the \"Polished Examples\" folder."
   ]
  },
  {
   "cell_type": "code",
   "execution_count": null,
   "metadata": {},
   "outputs": [],
   "source": [
    "building = ef.get_building()\n",
    "\n",
    "parameters = expand_plist(\n",
    "    {\n",
    "        \"Mass NonRes Wall Insulation\": {\"Thickness\": (0.01, 0.99)},\n",
    "        \"NonRes Fixed Assembly Window\": {\"U-Factor\": (0.1, 5)},\n",
    "    }\n",
    ")\n",
    "\n",
    "problem = EPProblem(parameters, [\"Electricity:Facility\"])\n",
    "\n",
    "samples = sampling.dist_sampler(sampling.seeded_sampler, problem, 500)"
   ]
  },
  {
   "cell_type": "markdown",
   "metadata": {},
   "source": [
    "With those variables made we can then create the EPlus evaluator and use that to get our outputs, which we will be using to train and test our machine learning model"
   ]
  },
  {
   "cell_type": "code",
   "execution_count": null,
   "metadata": {},
   "outputs": [],
   "source": [
    "evaluator = EvaluatorEP(problem, building)\n",
    "\n",
    "outputs = evaluator.df_apply(samples)"
   ]
  },
  {
   "cell_type": "markdown",
   "metadata": {},
   "source": [
    "Now with all of that out of the way we can start on making our machine learning model.\n",
    "\n",
    "Firstly we need to split the data into training data and testing data, which will be used to test:"
   ]
  },
  {
   "cell_type": "code",
   "execution_count": null,
   "metadata": {},
   "outputs": [],
   "source": [
    "train_in, test_in, train_out, test_out = train_test_split(\n",
    "    samples, outputs, test_size=0.2\n",
    ")"
   ]
  },
  {
   "cell_type": "markdown",
   "metadata": {},
   "source": [
    "Next we need to initiate the machine learning model we want to use, in this case we are using Linear Regression:"
   ]
  },
  {
   "cell_type": "code",
   "execution_count": null,
   "metadata": {},
   "outputs": [],
   "source": [
    "reg = linear_model.LinearRegression()"
   ]
  },
  {
   "cell_type": "markdown",
   "metadata": {},
   "source": [
    "Linear Regression models are very simple and do not come with many options for customization, but they are very quick and easy to set up and use.\n",
    "\n",
    "More info can be found [here](https://scikit-learn.org/stable/modules/generated/sklearn.linear_model.LinearRegression.html)"
   ]
  },
  {
   "cell_type": "markdown",
   "metadata": {},
   "source": [
    "Afterwards we just need to calibrate the model by giving it the training input and the output data that we got before:"
   ]
  },
  {
   "cell_type": "code",
   "execution_count": null,
   "metadata": {},
   "outputs": [],
   "source": [
    "reg.fit(train_in, train_out)"
   ]
  },
  {
   "cell_type": "markdown",
   "metadata": {},
   "source": [
    "And with that we will have our results:"
   ]
  },
  {
   "cell_type": "code",
   "execution_count": null,
   "metadata": {},
   "outputs": [],
   "source": [
    "results = test_in.copy()\n",
    "results[\"Energy Use\"] = test_out\n",
    "results[\"Predicted\"] = reg.predict(test_in)\n",
    "\n",
    "results.head()"
   ]
  },
  {
   "cell_type": "markdown",
   "metadata": {},
   "source": [
    "If we want to check our accuracy with the R^2 value we can see it using score():"
   ]
  },
  {
   "cell_type": "code",
   "execution_count": null,
   "metadata": {},
   "outputs": [],
   "source": [
    "r_2 = reg.score(train_in, train_out)\n",
    "r_2"
   ]
  },
  {
   "cell_type": "code",
   "execution_count": null,
   "metadata": {},
   "outputs": [],
   "source": [
    "sns.set(style=\"darkgrid\")\n",
    "sns.relplot(\n",
    "    x=\"Thickness\",\n",
    "    y=\"U-Factor\",\n",
    "    hue=\"Energy Use\",\n",
    "    palette=\"ch:2.5,-.2,2,l=.7,d=.3\",\n",
    "    data=results,\n",
    ")"
   ]
  }
 ],
 "metadata": {
  "jupytext": {
   "formats": "ipynb,py:light"
  },
  "kernelspec": {
   "display_name": "Python 3",
   "language": "python",
   "name": "python3"
  },
  "language_info": {
   "codemirror_mode": {
    "name": "ipython",
    "version": 3
   },
   "file_extension": ".py",
   "mimetype": "text/x-python",
   "name": "python",
   "nbconvert_exporter": "python",
   "pygments_lexer": "ipython3",
   "version": "3.8.3"
  }
 },
 "nbformat": 4,
 "nbformat_minor": 4
}
