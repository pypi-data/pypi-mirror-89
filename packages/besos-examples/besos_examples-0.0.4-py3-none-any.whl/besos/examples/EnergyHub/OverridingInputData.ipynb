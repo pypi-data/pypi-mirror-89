{
 "cells": [
  {
   "cell_type": "markdown",
   "metadata": {
    "papermill": {
     "duration": 0.007415,
     "end_time": "2019-10-28T23:03:55.872487",
     "exception": false,
     "start_time": "2019-10-28T23:03:55.865072",
     "status": "completed"
    },
    "tags": []
   },
   "source": [
    "# Overriding input data\n",
    "\n",
    "This notebook runs an Energy Hub model for different time series data loaded from a seperate Excel file.\n",
    "The model is run several times and the results are collected in a single `DataFrame` for analysis."
   ]
  },
  {
   "cell_type": "code",
   "execution_count": null,
   "metadata": {
    "lines_to_next_cell": 2,
    "papermill": {
     "duration": 0.937953,
     "end_time": "2019-10-28T23:03:56.819435",
     "exception": false,
     "start_time": "2019-10-28T23:03:55.881482",
     "status": "completed"
    },
    "tags": []
   },
   "outputs": [],
   "source": [
    "import pandas as pd\n",
    "from pyehub.energy_hub.ehub_model import EHubModel\n",
    "from pyehub.outputter import print_section"
   ]
  },
  {
   "cell_type": "markdown",
   "metadata": {
    "papermill": {
     "duration": 0.002701,
     "end_time": "2019-10-28T23:03:56.825833",
     "exception": false,
     "start_time": "2019-10-28T23:03:56.823132",
     "status": "completed"
    },
    "tags": []
   },
   "source": [
    "Since none of the constraints are altered in this example, we only have a `main()` function running the original Energy Hub model.\n",
    "+ Specify the input EXCEL file. _[Must be in current directory]._\n",
    "+ Form the model.\n",
    "+ We use a different file to specify the LOADS for the model. You can similarly override any existing data present in the original excel file.\n",
    "+ We here run the model 8 times with different `Elec` and `Heat` loads specified in the `8760_loads.xlsx` file."
   ]
  },
  {
   "cell_type": "code",
   "execution_count": null,
   "metadata": {
    "papermill": {
     "duration": 1.118903,
     "end_time": "2019-10-28T23:03:57.947606",
     "exception": false,
     "start_time": "2019-10-28T23:03:56.828703",
     "status": "completed"
    },
    "tags": []
   },
   "outputs": [],
   "source": [
    "excel_file = \"test_file_all_constraints_work.xlsx\"  # name of the excel file. [This must be in the current directory]\n",
    "my_model = EHubModel(\n",
    "    excel=excel_file\n",
    ")  # instantiate our model. Nothing is solved at this point.\n",
    "\n",
    "dataframe = pd.read_excel(\n",
    "    \"8760_loads.xlsx\", dtype=float\n",
    ")  # load yearly data from an Excel file\n",
    "start_days = [\n",
    "    0,\n",
    "    50,\n",
    "    100,\n",
    "    150,\n",
    "    200,\n",
    "    250,\n",
    "    300,\n",
    "    350,\n",
    "]  # solve the model for single days starting at these days\n",
    "start_times = [start_day * 24 for start_day in start_days]\n",
    "\n",
    "results = []\n",
    "for start_time in start_times:\n",
    "    # We enumerate the data so that's it in the range 0..23\n",
    "    elec_data = dataframe[\"Elec\"][start_time : start_time + 24]\n",
    "    new_elec = {t: value for t, value in enumerate(elec_data)}\n",
    "    my_model.LOADS[\n",
    "        \"Elec\"\n",
    "    ] = new_elec  # replace elec load data with the new one from the Excel file\n",
    "\n",
    "    heat_data = dataframe[\"Heat\"][start_time : start_time + 24]\n",
    "    new_heat = {t: value for t, value in enumerate(heat_data)}\n",
    "    my_model.LOADS[\n",
    "        \"Heat\"\n",
    "    ] = new_heat  # replace heat load data with the new one from the Excel file\n",
    "\n",
    "    my_model.recompile()  # recompile the model to update the constraints to reflect the new loads\n",
    "    results.append(my_model.solve())  # solve the model and add to the results dataframe\n",
    "\n",
    "for i, result in enumerate(results):  # for each run\n",
    "    solution = result[\"solution\"]  # get the optimal solution\n",
    "\n",
    "    print_section(\n",
    "        f\"Solution {i} starting at time t = {start_times[i]}\",\n",
    "        {  # print the header\n",
    "            \"total_cost\": solution[\"total_cost\"],  # print the total cost value\n",
    "            \"LOADS\": solution[\"LOADS\"],  # print the loads used\n",
    "        },\n",
    "    )"
   ]
  },
  {
   "cell_type": "code",
   "execution_count": null,
   "metadata": {
    "papermill": {
     "duration": 0.002743,
     "end_time": "2019-10-28T23:03:57.954668",
     "exception": false,
     "start_time": "2019-10-28T23:03:57.951925",
     "status": "completed"
    },
    "tags": []
   },
   "outputs": [],
   "source": []
  }
 ],
 "metadata": {
  "kernelspec": {
   "display_name": "Python 3",
   "language": "python",
   "name": "python3"
  }
 },
 "nbformat": 4,
 "nbformat_minor": 4
}
