{
 "cells": [
  {
   "cell_type": "markdown",
   "metadata": {
    "papermill": {
     "duration": 0.010428,
     "end_time": "2019-10-28T22:51:47.228185",
     "exception": false,
     "start_time": "2019-10-28T22:51:47.217757",
     "status": "completed"
    },
    "tags": []
   },
   "source": [
    "# Fit a Gaussian Process surrogate model\n",
    "\n",
    "Here we define a surrogate model using Gaussian Processes.\n",
    "We use the GP model from ScikitLearn - we compared it to other models like GPFlow but observed better speed and better code maintenance in this model."
   ]
  },
  {
   "cell_type": "code",
   "execution_count": null,
   "metadata": {
    "lines_to_next_cell": 2,
    "papermill": {
     "duration": 1.4882,
     "end_time": "2019-10-28T22:51:48.725523",
     "exception": false,
     "start_time": "2019-10-28T22:51:47.237323",
     "status": "completed"
    },
    "tags": []
   },
   "outputs": [],
   "source": [
    "import warnings\n",
    "\n",
    "import chart_studio\n",
    "from besos import eppy_funcs as ef, sampling\n",
    "from besos.evaluator import EvaluatorEP, EvaluatorGeneric\n",
    "from besos.problem import EPProblem\n",
    "from chart_studio import plotly as py\n",
    "from plotly import graph_objs as go\n",
    "from sklearn.gaussian_process import GaussianProcessRegressor\n",
    "from sklearn.gaussian_process.kernels import RBF, Matern, RationalQuadratic\n",
    "from sklearn.model_selection import GridSearchCV, train_test_split\n",
    "\n",
    "from parameter_sets import parameter_set"
   ]
  },
  {
   "cell_type": "markdown",
   "metadata": {
    "papermill": {
     "duration": 0.008085,
     "end_time": "2019-10-28T22:51:48.742814",
     "exception": false,
     "start_time": "2019-10-28T22:51:48.734729",
     "status": "completed"
    },
    "tags": []
   },
   "source": [
    "We begin by:\n",
    "+ getting a predefined list of 7 parameters from `parameter_sets.py`\n",
    "+ making these into a `problem` with electricty use as the objective\n",
    "+ and making an `evaluator` using the default EnergyPlus building."
   ]
  },
  {
   "cell_type": "code",
   "execution_count": null,
   "metadata": {
    "code_folding": [
     0,
     1,
     59,
     60
    ],
    "papermill": {
     "duration": 0.018066,
     "end_time": "2019-10-28T22:51:48.771296",
     "exception": false,
     "start_time": "2019-10-28T22:51:48.753230",
     "status": "completed"
    },
    "tags": []
   },
   "outputs": [],
   "source": [
    "parameters = parameter_set(7)\n",
    "problem = EPProblem(parameters, [\"Electricity:Facility\"])\n",
    "building = ef.get_building()\n",
    "evaluator = EvaluatorEP(problem, building)"
   ]
  },
  {
   "cell_type": "markdown",
   "metadata": {
    "papermill": {
     "duration": 0.008067,
     "end_time": "2019-10-28T22:51:48.787888",
     "exception": false,
     "start_time": "2019-10-28T22:51:48.779821",
     "status": "completed"
    },
    "tags": []
   },
   "source": [
    "Then we get 50 samples across this design space and evaluate them."
   ]
  },
  {
   "cell_type": "code",
   "execution_count": null,
   "metadata": {
    "code_folding": [],
    "papermill": {
     "duration": 5.915093,
     "end_time": "2019-10-28T22:51:54.711321",
     "exception": false,
     "start_time": "2019-10-28T22:51:48.796228",
     "status": "completed"
    },
    "tags": []
   },
   "outputs": [],
   "source": [
    "inputs = sampling.dist_sampler(sampling.lhs, problem, 5)\n",
    "outputs = evaluator.df_apply(inputs)\n",
    "inputs"
   ]
  },
  {
   "cell_type": "markdown",
   "metadata": {
    "papermill": {
     "duration": 0.010127,
     "end_time": "2019-10-28T22:51:54.736290",
     "exception": false,
     "start_time": "2019-10-28T22:51:54.726163",
     "status": "completed"
    },
    "tags": []
   },
   "source": [
    "## Train-test split\n",
    "\n",
    "Next we split the data into a training set (80%) and a testing set (20%)."
   ]
  },
  {
   "cell_type": "code",
   "execution_count": null,
   "metadata": {
    "papermill": {
     "duration": 0.016601,
     "end_time": "2019-10-28T22:51:54.763097",
     "exception": false,
     "start_time": "2019-10-28T22:51:54.746496",
     "status": "completed"
    },
    "tags": []
   },
   "outputs": [],
   "source": [
    "train_in, test_in, train_out, test_out = train_test_split(\n",
    "    inputs, outputs, test_size=0.2\n",
    ")"
   ]
  },
  {
   "cell_type": "markdown",
   "metadata": {
    "papermill": {
     "duration": 0.009287,
     "end_time": "2019-10-28T22:51:54.782132",
     "exception": false,
     "start_time": "2019-10-28T22:51:54.772845",
     "status": "completed"
    },
    "tags": []
   },
   "source": [
    "## Hyper-parameters"
   ]
  },
  {
   "cell_type": "markdown",
   "metadata": {
    "papermill": {
     "duration": 0.00934,
     "end_time": "2019-10-28T22:51:54.800792",
     "exception": false,
     "start_time": "2019-10-28T22:51:54.791452",
     "status": "completed"
    },
    "tags": []
   },
   "source": [
    "Before fitting the GP model we define the set of hyperparameters we want to optimize.\n",
    "Here we use \\textit{3} folds in the k-fold cross validation scheme.\n",
    "We select a set of Kernel functions, which must fit the characteristics of a problem - details and examples may be found in the [Kernel cookbook](https://www.cs.toronto.edu/~duvenaud/cookbook/).\n",
    "Note that the parameters of the Kernel itself are [optimized during each model fitting run](https://scikit-learn.org/stable/modules/generated/sklearn.gaussian_process.GaussianProcessRegressor.html)."
   ]
  },
  {
   "cell_type": "code",
   "execution_count": null,
   "metadata": {
    "papermill": {
     "duration": 0.015073,
     "end_time": "2019-10-28T22:51:54.825148",
     "exception": false,
     "start_time": "2019-10-28T22:51:54.810075",
     "status": "completed"
    },
    "tags": []
   },
   "outputs": [],
   "source": [
    "hyperparameters = {\n",
    "    \"kernel\": [\n",
    "        None,\n",
    "        1.0 * RBF(length_scale=1.0, length_scale_bounds=(1e-1, 10.0)),\n",
    "        1.0 * RationalQuadratic(length_scale=1.0, alpha=0.5),\n",
    "        # ConstantKernel(0.1, (0.01, 10.0))*(DotProduct(sigma_0=1.0, sigma_0_bounds=(0.1, 10.0))**2),\n",
    "        1.0 * Matern(length_scale=1.0, length_scale_bounds=(1e-1, 10.0)),\n",
    "    ]\n",
    "}\n",
    "\n",
    "folds = 3"
   ]
  },
  {
   "cell_type": "markdown",
   "metadata": {
    "papermill": {
     "duration": 0.010561,
     "end_time": "2019-10-28T22:51:54.846311",
     "exception": false,
     "start_time": "2019-10-28T22:51:54.835750",
     "status": "completed"
    },
    "tags": []
   },
   "source": [
    "## Model fitting"
   ]
  },
  {
   "cell_type": "markdown",
   "metadata": {
    "papermill": {
     "duration": 0.009632,
     "end_time": "2019-10-28T22:51:54.865875",
     "exception": false,
     "start_time": "2019-10-28T22:51:54.856243",
     "status": "completed"
    },
    "tags": []
   },
   "source": [
    "Here we fit the model using these hyperparameters."
   ]
  },
  {
   "cell_type": "code",
   "execution_count": null,
   "metadata": {
    "code_folding": [
     23
    ],
    "papermill": {
     "duration": 0.132473,
     "end_time": "2019-10-28T22:51:55.007586",
     "exception": false,
     "start_time": "2019-10-28T22:51:54.875113",
     "status": "completed"
    },
    "tags": []
   },
   "outputs": [],
   "source": [
    "gp = GaussianProcessRegressor(normalize_y=True)\n",
    "\n",
    "clf = GridSearchCV(gp, hyperparameters, iid=True, cv=folds)\n",
    "\n",
    "with warnings.catch_warnings():\n",
    "    warnings.simplefilter(\"ignore\", category=FutureWarning)\n",
    "    clf.fit(inputs, outputs)\n",
    "\n",
    "print(f\"Best performing model $R^2$ score on training set: {clf.best_score_}\")\n",
    "print(f\"Model $R^2$ parameters: {clf.best_params_}\")\n",
    "print(\n",
    "    f\"Best performing model $R^2$ score on a separate test set: {clf.best_estimator_.score(test_in, test_out)}\"\n",
    ")"
   ]
  },
  {
   "cell_type": "markdown",
   "metadata": {
    "papermill": {
     "duration": 0.010939,
     "end_time": "2019-10-28T22:51:55.029568",
     "exception": false,
     "start_time": "2019-10-28T22:51:55.018629",
     "status": "completed"
    },
    "tags": []
   },
   "source": [
    "## Surrogate Modelling Evaluator object\n",
    "We can wrap the fitted model in a BESOS `Evaluator`."
   ]
  },
  {
   "cell_type": "code",
   "execution_count": null,
   "metadata": {
    "papermill": {
     "duration": 0.015573,
     "end_time": "2019-10-28T22:51:55.055805",
     "exception": false,
     "start_time": "2019-10-28T22:51:55.040232",
     "status": "completed"
    },
    "tags": []
   },
   "outputs": [],
   "source": [
    "def evaluation_func(ind):\n",
    "    return (clf.predict([ind])[0][0],)\n",
    "\n",
    "\n",
    "GP_SM = EvaluatorGeneric(evaluation_func, problem)"
   ]
  },
  {
   "cell_type": "markdown",
   "metadata": {
    "papermill": {
     "duration": 0.009839,
     "end_time": "2019-10-28T22:51:55.075582",
     "exception": false,
     "start_time": "2019-10-28T22:51:55.065743",
     "status": "completed"
    },
    "tags": []
   },
   "source": [
    "This has identical behaviour to the original EnergyPlus Evaluator object.\n",
    "In the next cells we generate a single input sample and evaluate it using the surrogate model and EnergyPlus."
   ]
  },
  {
   "cell_type": "code",
   "execution_count": null,
   "metadata": {
    "papermill": {
     "duration": 0.01831,
     "end_time": "2019-10-28T22:51:55.103803",
     "exception": false,
     "start_time": "2019-10-28T22:51:55.085493",
     "status": "completed"
    },
    "tags": []
   },
   "outputs": [],
   "source": [
    "sample = sampling.dist_sampler(sampling.lhs, problem, 1)\n",
    "values = sample.values[0]\n",
    "print(values)"
   ]
  },
  {
   "cell_type": "code",
   "execution_count": null,
   "metadata": {
    "papermill": {
     "duration": 0.016449,
     "end_time": "2019-10-28T22:51:55.130247",
     "exception": false,
     "start_time": "2019-10-28T22:51:55.113798",
     "status": "completed"
    },
    "tags": []
   },
   "outputs": [],
   "source": [
    "GP_SM(values)[0]"
   ]
  },
  {
   "cell_type": "code",
   "execution_count": null,
   "metadata": {
    "papermill": {
     "duration": 1.197246,
     "end_time": "2019-10-28T22:51:56.338601",
     "exception": false,
     "start_time": "2019-10-28T22:51:55.141355",
     "status": "completed"
    },
    "tags": []
   },
   "outputs": [],
   "source": [
    "evaluator(values)[0]"
   ]
  },
  {
   "cell_type": "markdown",
   "metadata": {
    "papermill": {
     "duration": 0.009953,
     "end_time": "2019-10-28T22:51:56.358976",
     "exception": false,
     "start_time": "2019-10-28T22:51:56.349023",
     "status": "completed"
    },
    "tags": []
   },
   "source": [
    "## Running a large surrogate evaluation"
   ]
  },
  {
   "cell_type": "code",
   "execution_count": null,
   "metadata": {
    "papermill": {
     "duration": 1.428181,
     "end_time": "2019-10-28T22:51:57.797224",
     "exception": false,
     "start_time": "2019-10-28T22:51:56.369043",
     "status": "completed"
    },
    "tags": []
   },
   "outputs": [],
   "source": [
    "inputs = sampling.dist_sampler(sampling.lhs, problem, 5000)\n",
    "outputs = GP_SM.df_apply(inputs)\n",
    "results = inputs.join(outputs)\n",
    "results.head()"
   ]
  },
  {
   "cell_type": "markdown",
   "metadata": {},
   "source": [
    "## Generate an idf/epJSON file with data in dataframe"
   ]
  },
  {
   "cell_type": "markdown",
   "metadata": {},
   "source": [
    "Generate an idf/epJSON file with selected row of data in dataframe and save it in current directory."
   ]
  },
  {
   "cell_type": "code",
   "execution_count": null,
   "metadata": {},
   "outputs": [],
   "source": [
    "# generate_building(dataframe, index, filename)\n",
    "evaluator.generate_building(results, 2, \"output\")"
   ]
  },
  {
   "cell_type": "markdown",
   "metadata": {
    "papermill": {
     "duration": 0.012325,
     "end_time": "2019-10-28T22:51:57.821959",
     "exception": false,
     "start_time": "2019-10-28T22:51:57.809634",
     "status": "completed"
    },
    "tags": []
   },
   "source": [
    "## Visualization"
   ]
  },
  {
   "cell_type": "code",
   "execution_count": null,
   "metadata": {
    "papermill": {
     "duration": 9.575393,
     "end_time": "2019-10-28T22:52:07.409382",
     "exception": false,
     "start_time": "2019-10-28T22:51:57.833989",
     "status": "completed"
    },
    "tags": []
   },
   "outputs": [],
   "source": [
    "chart_studio.tools.set_credentials_file(\n",
    "    username=\"besos\", api_key=\"Kb2G2bjOh5gmwh1Midwq\"\n",
    ")\n",
    "df = inputs.round(3)\n",
    "\n",
    "# generate list if dictionaries\n",
    "l = list()\n",
    "for i in df.columns:\n",
    "    l.extend([dict(label=i, values=df[i])])\n",
    "\n",
    "l.extend([dict(label=outputs.columns[0], values=outputs.round(-5))])\n",
    "\n",
    "data = [\n",
    "    go.Parcoords(\n",
    "        line=dict(\n",
    "            color=outputs[\"Electricity:Facility\"],\n",
    "            colorscale=[[0, \"#D7C16B\"], [0.5, \"#23D8C3\"], [1, \"#F3F10F\"]],\n",
    "        ),\n",
    "        dimensions=l,\n",
    "    )\n",
    "]\n",
    "\n",
    "layout = go.Layout(plot_bgcolor=\"#E5E5E5\", paper_bgcolor=\"#E5E5E5\")\n",
    "\n",
    "fig = go.Figure(data=data, layout=layout)\n",
    "py.iplot(fig, filename=\"parcoords-basic\")"
   ]
  },
  {
   "cell_type": "code",
   "execution_count": null,
   "metadata": {
    "papermill": {
     "duration": 0.012842,
     "end_time": "2019-10-28T22:52:07.434812",
     "exception": false,
     "start_time": "2019-10-28T22:52:07.421970",
     "status": "completed"
    },
    "tags": []
   },
   "outputs": [],
   "source": []
  }
 ],
 "metadata": {
  "kernelspec": {
   "display_name": "Python 3",
   "language": "python",
   "name": "python3"
  }
 },
 "nbformat": 4,
 "nbformat_minor": 4
}
