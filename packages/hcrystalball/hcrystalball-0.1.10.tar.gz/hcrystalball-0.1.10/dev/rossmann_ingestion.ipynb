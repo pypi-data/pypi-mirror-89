{
 "cells": [
  {
   "cell_type": "markdown",
   "metadata": {},
   "source": [
    "# Rossmann Dataset Preparation\n",
    "\n",
    "This notebook creates the `rossmann_train_rich_top_100.csv` example dataset\n",
    "that is distributed with `hcrystalball`.\n",
    "\n",
    "Input files:\n",
    "\n",
    "- https://www.kaggle.com/c/rossmann-store-sales/data?select=train.csv (use download all button and unzip it)\n",
    "- https://storage.googleapis.com/kaggle-forum-message-attachments/96497/3097/store_states.csv\n",
    "\n",
    "## Data fields\n",
    "\n",
    "See https://www.kaggle.com/c/rossmann-store-sales/data"
   ]
  },
  {
   "cell_type": "code",
   "execution_count": null,
   "metadata": {},
   "outputs": [],
   "source": [
    "from pathlib import Path\n",
    "import pandas as pd\n",
    "import hcrystalball.data as hcb_data"
   ]
  },
  {
   "cell_type": "markdown",
   "metadata": {},
   "source": [
    "## Storing data"
   ]
  },
  {
   "cell_type": "code",
   "execution_count": null,
   "metadata": {},
   "outputs": [],
   "source": [
    "# update data_path to where rossmann-store-sales folder is. Make sure store_states.csv is there as well\n",
    "data_path = Path('rossmann-store-sales')\n",
    "train_path = Path(data_path, 'train.csv')\n",
    "store_path = Path(data_path, 'store.csv')\n",
    "store_states_path = Path(data_path, 'store_states.csv')"
   ]
  },
  {
   "cell_type": "code",
   "execution_count": null,
   "metadata": {},
   "outputs": [],
   "source": [
    "df_train = pd.read_csv(train_path, parse_dates=['Date'], dtype={'Store':int, \n",
    "                                                                'DayOfWeek':int, \n",
    "                                                                'Sales':int, \n",
    "                                                                'Customers':int, \n",
    "                                                                'Open':bool, \n",
    "                                                                'Promo':bool, \n",
    "                                                                'StateHoliday':str, \n",
    "                                                                'SchoolHoliday':bool})\n",
    "df_store = pd.read_csv(store_path, dtype={'Store':int, \n",
    "                                          'StoreType':str, \n",
    "                                          'Assortment':str, \n",
    "                                          'CompetitionDistance':float, \n",
    "                                          'CompetitionOpenSinceMonth':float,\n",
    "                                          'CompetitionOpenSinceYear':float,\n",
    "                                          'Promo2':bool,\n",
    "                                          'Promo2SinceWeek':float,\n",
    "                                          'Promo2SinceYear':float,\n",
    "                                          'PromoInterval':str\n",
    "                                          })\n",
    "df_store_states = pd.read_csv(store_states_path, dtype={'Store':int, \n",
    "                                                        'State':str})"
   ]
  },
  {
   "cell_type": "code",
   "execution_count": null,
   "metadata": {},
   "outputs": [],
   "source": [
    "df_train_rich = (df_train[['Date','Store', 'Sales', 'Open', 'Promo', 'SchoolHoliday']]\n",
    "                         .merge(df_store[['Store', 'StoreType', 'Assortment','Promo2']], on='Store', how='left')\n",
    "                         .merge(df_store_states, on='Store', how='left')\n",
    "                         .replace({'State':{'HB,NI':'HB'}})\n",
    "                         .assign(HolidayCode=lambda x:'DE-'+x['State'])\n",
    "                         .set_index('Date')\n",
    "                )"
   ]
  },
  {
   "cell_type": "code",
   "execution_count": null,
   "metadata": {},
   "outputs": [],
   "source": [
    "df_train_rich_top_100 = df_train_rich[df_train_rich['Store'].isin(df_train_rich.groupby('Store')['Sales'].sum().nlargest(100).index)]"
   ]
  },
  {
   "cell_type": "code",
   "execution_count": null,
   "metadata": {},
   "outputs": [],
   "source": [
    "df_train_rich_top_100.to_csv(Path(hcb_data.__path__._path[0], 'rossmann_train_rich_top_100.csv'))"
   ]
  },
  {
   "cell_type": "markdown",
   "metadata": {},
   "source": [
    "## Example data read"
   ]
  },
  {
   "cell_type": "code",
   "execution_count": null,
   "metadata": {},
   "outputs": [],
   "source": [
    "from hcrystalball.utils import get_sales_data"
   ]
  },
  {
   "cell_type": "code",
   "execution_count": null,
   "metadata": {},
   "outputs": [],
   "source": [
    "df = get_sales_data(n_dates=200, n_assortments=2, n_states=2, n_stores=2)\n",
    "df.head()"
   ]
  }
 ],
 "metadata": {
  "language_info": {
   "name": "python",
   "pygments_lexer": "ipython3"
  }
 },
 "nbformat": 4,
 "nbformat_minor": 4
}
