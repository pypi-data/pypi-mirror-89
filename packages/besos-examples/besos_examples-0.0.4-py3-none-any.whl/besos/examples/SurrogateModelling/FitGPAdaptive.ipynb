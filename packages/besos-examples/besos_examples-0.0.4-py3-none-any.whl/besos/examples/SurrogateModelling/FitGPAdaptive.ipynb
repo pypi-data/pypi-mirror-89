{
 "cells": [
  {
   "cell_type": "markdown",
   "metadata": {
    "papermill": {
     "duration": 0.009626,
     "end_time": "2019-10-28T22:52:49.297380",
     "exception": false,
     "start_time": "2019-10-28T22:52:49.287754",
     "status": "completed"
    },
    "tags": []
   },
   "source": [
    "# Adaptive Sampling\n",
    "\n",
    "This notebook implements adaptive sampling, which explores under-sampled parts of the design space while exploiting the knowledge gained from previous simulation runs.  The aim is to reduce the number of samples required to train an accurate surrogate model.\n",
    "We use Lola-Voronoi based sampling, which is compatible with any surrogate model type.\n",
    "Here it is applied with a Gaussian Process model."
   ]
  },
  {
   "cell_type": "code",
   "execution_count": null,
   "metadata": {
    "lines_to_next_cell": 2,
    "papermill": {
     "duration": 1.435484,
     "end_time": "2019-10-28T22:52:50.740487",
     "exception": false,
     "start_time": "2019-10-28T22:52:49.305003",
     "status": "completed"
    },
    "tags": []
   },
   "outputs": [],
   "source": [
    "import warnings\n",
    "\n",
    "import numpy as np\n",
    "import seaborn as sns\n",
    "from besos import eppy_funcs as ef, sampling\n",
    "from besos.evaluator import EvaluatorEP\n",
    "from besos.problem import EPProblem\n",
    "from dask.distributed import Client\n",
    "from matplotlib import pyplot as plt\n",
    "from scipy.interpolate import griddata\n",
    "from sklearn.gaussian_process import GaussianProcessRegressor\n",
    "from sklearn.gaussian_process.kernels import RBF, Matern, RationalQuadratic\n",
    "from sklearn.manifold import MDS\n",
    "from sklearn.model_selection import GridSearchCV, train_test_split\n",
    "from sklearn.preprocessing import StandardScaler\n",
    "\n",
    "from parameter_sets import parameter_set\n",
    "from sampling import adaptive_sampler_lv"
   ]
  },
  {
   "cell_type": "code",
   "execution_count": null,
   "metadata": {
    "papermill": {
     "duration": 0.745973,
     "end_time": "2019-10-28T22:52:51.494191",
     "exception": false,
     "start_time": "2019-10-28T22:52:50.748218",
     "status": "completed"
    },
    "tags": []
   },
   "outputs": [],
   "source": [
    "client = Client(threads_per_worker=1)\n",
    "client"
   ]
  },
  {
   "cell_type": "markdown",
   "metadata": {
    "papermill": {
     "duration": 0.007292,
     "end_time": "2019-10-28T22:52:51.509898",
     "exception": false,
     "start_time": "2019-10-28T22:52:51.502606",
     "status": "completed"
    },
    "tags": []
   },
   "source": [
    "## Define sampler settings"
   ]
  },
  {
   "cell_type": "code",
   "execution_count": null,
   "metadata": {
    "papermill": {
     "duration": 0.012281,
     "end_time": "2019-10-28T22:52:51.530482",
     "exception": false,
     "start_time": "2019-10-28T22:52:51.518201",
     "status": "completed"
    },
    "tags": []
   },
   "outputs": [],
   "source": [
    "n_samples_init = (\n",
    "    20  # initial set of samples collected using the standard low-discrepancy sampling\n",
    ")\n",
    "\n",
    "no_iter = 10  # number of iterations of the adaptive sampler to run\n",
    "n = 4  # number of samples added per iteration"
   ]
  },
  {
   "cell_type": "markdown",
   "metadata": {
    "papermill": {
     "duration": 0.00696,
     "end_time": "2019-10-28T22:52:51.544856",
     "exception": false,
     "start_time": "2019-10-28T22:52:51.537896",
     "status": "completed"
    },
    "tags": []
   },
   "source": [
    "## Generate data set"
   ]
  },
  {
   "cell_type": "markdown",
   "metadata": {
    "papermill": {
     "duration": 0.007087,
     "end_time": "2019-10-28T22:52:51.558972",
     "exception": false,
     "start_time": "2019-10-28T22:52:51.551885",
     "status": "completed"
    },
    "tags": []
   },
   "source": [
    "This generates an example model and the initial sampling data, see [this example](FitGPModel.ipynb)."
   ]
  },
  {
   "cell_type": "code",
   "execution_count": null,
   "metadata": {
    "papermill": {
     "duration": 8.776903,
     "end_time": "2019-10-28T22:53:00.343096",
     "exception": false,
     "start_time": "2019-10-28T22:52:51.566193",
     "status": "completed"
    },
    "tags": []
   },
   "outputs": [],
   "source": [
    "parameters = parameter_set(7)\n",
    "problem = EPProblem(parameters, [\"Electricity:Facility\"])\n",
    "building = ef.get_building()\n",
    "inputs = sampling.dist_sampler(sampling.lhs, problem, n_samples_init)\n",
    "evaluator = EvaluatorEP(problem, building, multi=True)\n",
    "outputs = evaluator.df_apply(inputs, processes=4)\n",
    "results = inputs.join(outputs)\n",
    "results.head()"
   ]
  },
  {
   "cell_type": "markdown",
   "metadata": {
    "papermill": {
     "duration": 0.008273,
     "end_time": "2019-10-28T22:53:00.360276",
     "exception": false,
     "start_time": "2019-10-28T22:53:00.352003",
     "status": "completed"
    },
    "tags": []
   },
   "source": [
    "## Initial training of Surrogate Model\n",
    "Here we use a Gaussian Process surrogate model, see [here](FitGPModel.ipynb) for details."
   ]
  },
  {
   "cell_type": "code",
   "execution_count": null,
   "metadata": {
    "papermill": {
     "duration": 0.015614,
     "end_time": "2019-10-28T22:53:00.384057",
     "exception": false,
     "start_time": "2019-10-28T22:53:00.368443",
     "status": "completed"
    },
    "tags": []
   },
   "outputs": [],
   "source": [
    "train_in, test_in, train_out, test_out = train_test_split(\n",
    "    inputs, outputs, test_size=0.2\n",
    ")"
   ]
  },
  {
   "cell_type": "code",
   "execution_count": null,
   "metadata": {
    "papermill": {
     "duration": 0.214792,
     "end_time": "2019-10-28T22:53:00.606772",
     "exception": false,
     "start_time": "2019-10-28T22:53:00.391980",
     "status": "completed"
    },
    "tags": []
   },
   "outputs": [],
   "source": [
    "hyperparameters = {\n",
    "    \"kernel\": [\n",
    "        None,\n",
    "        1.0 * RBF(length_scale=1.0, length_scale_bounds=(1e-1, 10.0)),\n",
    "        1.0 * RationalQuadratic(length_scale=1.0, alpha=0.5),\n",
    "        # ConstantKernel(0.1, (0.01, 10.0))*(DotProduct(sigma_0=1.0, sigma_0_bounds=(0.1, 10.0))**2),\n",
    "        1.0 * Matern(length_scale=1.0, length_scale_bounds=(1e-1, 10.0)),\n",
    "    ]\n",
    "}\n",
    "\n",
    "folds = 3\n",
    "\n",
    "gp = GaussianProcessRegressor(normalize_y=True)\n",
    "\n",
    "clf = GridSearchCV(gp, hyperparameters, iid=True, cv=folds)\n",
    "with warnings.catch_warnings():\n",
    "    warnings.simplefilter(\"ignore\", category=FutureWarning)\n",
    "    clf.fit(inputs, outputs)\n",
    "\n",
    "print(f\"The best performing model $R^2$ score on the validation set: {clf.best_score_}\")\n",
    "print(f\"The model $R^2$ parameters: {clf.best_params_}\")\n",
    "print(\n",
    "    f\"The best performing model $R^2$ score on a separate test set: {clf.best_estimator_.score(test_in, test_out)}\"\n",
    ")\n",
    "reg = clf.best_estimator_"
   ]
  },
  {
   "cell_type": "markdown",
   "metadata": {
    "papermill": {
     "duration": 0.008986,
     "end_time": "2019-10-28T22:53:00.625450",
     "exception": false,
     "start_time": "2019-10-28T22:53:00.616464",
     "status": "completed"
    },
    "tags": []
   },
   "source": [
    "# LOLA - Voronoi sampling\n",
    "Here we run our implementation of LOLA-Voronoi sampling.\n",
    "New designs to be simulated are picked around previously simulated designs with a high hybrid score $H$.\n",
    "\n",
    "$H = V + E$\n",
    "\n",
    "$H$ is used to incentives exploration $V$ and exploitation $E$.\n",
    "$V$ is the Voronoi cell size to approximate the sample density and $E$ the local-linear estimate to approximate the gradient in the neighbourhood of a sample."
   ]
  },
  {
   "cell_type": "code",
   "execution_count": null,
   "metadata": {
    "code_folding": [],
    "papermill": {
     "duration": 117.344203,
     "end_time": "2019-10-28T22:54:57.978197",
     "exception": false,
     "start_time": "2019-10-28T22:53:00.633994",
     "status": "completed"
    },
    "tags": []
   },
   "outputs": [],
   "source": [
    "numiter = 10\n",
    "AS = adaptive_sampler_lv(\n",
    "    train_in.values,\n",
    "    train_out.values,\n",
    "    n,\n",
    "    problem,\n",
    "    evaluator,\n",
    "    reg,\n",
    "    test_in,\n",
    "    test_out,\n",
    "    verbose=False,\n",
    ")\n",
    "AS.run(numiter)"
   ]
  },
  {
   "cell_type": "markdown",
   "metadata": {
    "papermill": {
     "duration": 0.022086,
     "end_time": "2019-10-28T22:54:58.030091",
     "exception": false,
     "start_time": "2019-10-28T22:54:58.008005",
     "status": "completed"
    },
    "tags": []
   },
   "source": [
    "## Visualization\n",
    "We visualize the working of the adaptive sampler by reducing the input dimensionality to 2 using multi-dimensional scaling."
   ]
  },
  {
   "cell_type": "code",
   "execution_count": null,
   "metadata": {
    "papermill": {
     "duration": 0.223744,
     "end_time": "2019-10-28T22:54:58.274080",
     "exception": false,
     "start_time": "2019-10-28T22:54:58.050336",
     "status": "completed"
    },
    "tags": []
   },
   "outputs": [],
   "source": [
    "plt.plot(range(n_samples_init, n_samples_init + no_iter * n, n), AS.score[:-1], \"-o\")\n",
    "plt.ylabel(\"R^2 score\")\n",
    "plt.xlabel(\"No. of samples\")"
   ]
  },
  {
   "cell_type": "code",
   "execution_count": null,
   "metadata": {
    "papermill": {
     "duration": 0.307808,
     "end_time": "2019-10-28T22:54:58.594141",
     "exception": false,
     "start_time": "2019-10-28T22:54:58.286333",
     "status": "completed"
    },
    "tags": []
   },
   "outputs": [],
   "source": [
    "# Manifold model\n",
    "scaler_mds = StandardScaler()\n",
    "p_norm = scaler_mds.fit_transform(AS.P)\n",
    "model = MDS(n_components=2, random_state=1)\n",
    "out3 = model.fit_transform(p_norm)\n",
    "\n",
    "plt.scatter(out3[:n_samples_init, 0], out3[:n_samples_init, 1], color=\"grey\")\n",
    "plt.scatter(out3[n_samples_init:, 0], out3[n_samples_init:, 1], color=\"r\")\n",
    "plt.axis(\"equal\")"
   ]
  },
  {
   "cell_type": "code",
   "execution_count": null,
   "metadata": {
    "papermill": {
     "duration": 0.700459,
     "end_time": "2019-10-28T22:54:59.308638",
     "exception": false,
     "start_time": "2019-10-28T22:54:58.608179",
     "status": "completed"
    },
    "tags": []
   },
   "outputs": [],
   "source": [
    "ax = sns.kdeplot(out3[n_samples_init:, 0], out3[n_samples_init:, 1], shade=True)\n",
    "plt.ylim([-4, 4])\n",
    "plt.xlim([-4, 4])"
   ]
  },
  {
   "cell_type": "code",
   "execution_count": null,
   "metadata": {
    "papermill": {
     "duration": 0.793858,
     "end_time": "2019-10-28T22:55:00.116091",
     "exception": false,
     "start_time": "2019-10-28T22:54:59.322233",
     "status": "completed"
    },
    "tags": []
   },
   "outputs": [],
   "source": [
    "x = out3[:, 0]\n",
    "y = out3[:, 1]\n",
    "z = reg.predict(AS.P)\n",
    "\n",
    "# Convert from pandas dataframes to numpy arrays\n",
    "X, Y, Z, = np.array([]), np.array([]), np.array([])\n",
    "for i in range(len(x)):\n",
    "    X = np.append(X, x[i])\n",
    "    Y = np.append(Y, y[i])\n",
    "    Z = np.append(Z, z[i])\n",
    "\n",
    "# create x-y points to be used in heatmap\n",
    "xi = np.linspace(X.min(), X.max(), 1000)\n",
    "yi = np.linspace(Y.min(), Y.max(), 1000)\n",
    "\n",
    "# Z is a matrix of x-y values\n",
    "zi = griddata((X, Y), Z, (xi[None, :], yi[:, None]), method=\"cubic\")\n",
    "\n",
    "# I control the range of my colorbar by removing data\n",
    "# outside of my range of interest\n",
    "zmin = 1.0 * 10 ** 9\n",
    "zmax = 3 * 10 ** 9\n",
    "zi[(zi < zmin) | (zi > zmax)] = None\n",
    "\n",
    "# Create the contour plot\n",
    "plt.figure(figsize=(10, 10))\n",
    "CS = plt.contourf(xi, yi, zi, 10, cmap=plt.cm.rainbow, vmax=zmax, vmin=zmin, alpha=0.8)\n",
    "plt.colorbar()\n",
    "plt.scatter(out3[:18, 0], out3[:18, 1], color=\"grey\")\n",
    "plt.scatter(out3[18:, 0], out3[18:, 1], color=\"r\")\n",
    "# ax = sns.kdeplot(out3[18:,0], out3[18:,1], shade=True)\n",
    "\n",
    "\n",
    "plt.ylim([-4, 4])\n",
    "plt.xlim([-4, 4])\n",
    "plt.grid()"
   ]
  },
  {
   "cell_type": "code",
   "execution_count": null,
   "metadata": {
    "papermill": {
     "duration": 0.013454,
     "end_time": "2019-10-28T22:55:00.144118",
     "exception": false,
     "start_time": "2019-10-28T22:55:00.130664",
     "status": "completed"
    },
    "tags": []
   },
   "outputs": [],
   "source": []
  }
 ],
 "metadata": {
  "kernelspec": {
   "display_name": "Python 3",
   "language": "python",
   "name": "python3"
  }
 },
 "nbformat": 4,
 "nbformat_minor": 4
}
