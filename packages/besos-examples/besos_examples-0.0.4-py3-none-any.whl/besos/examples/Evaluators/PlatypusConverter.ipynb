{
 "cells": [
  {
   "cell_type": "markdown",
   "metadata": {
    "papermill": {
     "duration": 0.008385,
     "end_time": "2019-10-28T22:50:52.550158",
     "exception": false,
     "start_time": "2019-10-28T22:50:52.541773",
     "status": "completed"
    },
    "tags": []
   },
   "source": [
    "# Evaluator Platypus Converter\n",
    "This notebook covers how to use the Platypus conveter for Energyhub or EnergyPlus evaluators."
   ]
  },
  {
   "cell_type": "code",
   "execution_count": null,
   "metadata": {
    "lines_to_next_cell": 2,
    "papermill": {
     "duration": 2.028803,
     "end_time": "2019-10-28T22:50:54.585424",
     "exception": false,
     "start_time": "2019-10-28T22:50:52.556621",
     "status": "completed"
    },
    "tags": []
   },
   "outputs": [],
   "source": [
    "import random\n",
    "\n",
    "import platypus\n",
    "from besos import eppy_funcs as ef, optimizer, pyehub_funcs as pf\n",
    "from besos.evaluator import EvaluatorEH, EvaluatorEP\n",
    "from besos.parameters import (\n",
    "    Parameter,\n",
    "    PathSelector,\n",
    "    RangeParameter,\n",
    "    expand_plist,\n",
    ")\n",
    "from besos.problem import EHProblem, EPProblem\n",
    "from matplotlib import pyplot as plt\n",
    "from platypus import DTLZ2, NSGAII"
   ]
  },
  {
   "cell_type": "markdown",
   "metadata": {
    "papermill": {
     "duration": 0.005476,
     "end_time": "2019-10-28T22:50:54.597672",
     "exception": false,
     "start_time": "2019-10-28T22:50:54.592196",
     "status": "completed"
    },
    "tags": []
   },
   "source": [
    "# Base Platypus Example\n",
    "Here is a simple example of generating a simple Platypus problem from the DTLZ2 function to be solved with the NSGAII algorithm. There are other algorithms outlined: https://platypus.readthedocs.io/en/latest/experimenter.html#comparing-algorithms-visually."
   ]
  },
  {
   "cell_type": "code",
   "execution_count": null,
   "metadata": {
    "papermill": {
     "duration": 4.92412,
     "end_time": "2019-10-28T22:50:59.527531",
     "exception": false,
     "start_time": "2019-10-28T22:50:54.603411",
     "status": "completed"
    },
    "tags": []
   },
   "outputs": [],
   "source": [
    "test = DTLZ2()  # instantiate the optimization algorithm\n",
    "algorithm = NSGAII(test)  # optimize the problem using 10,000 function evaluations\n",
    "algorithm.run(10000)  # plot the results using matplotlib\n",
    "plt.scatter(\n",
    "    [s.objectives[0] for s in algorithm.result],\n",
    "    [s.objectives[1] for s in algorithm.result],\n",
    ")\n",
    "plt.xlim([0, 1.1])\n",
    "plt.ylim([0, 1.1])\n",
    "plt.xlabel(\"$f_1(x)$\")\n",
    "plt.ylabel(\"$f_2(x)$\")\n",
    "plt.show()"
   ]
  },
  {
   "cell_type": "markdown",
   "metadata": {
    "papermill": {
     "duration": 0.006049,
     "end_time": "2019-10-28T22:50:59.540496",
     "exception": false,
     "start_time": "2019-10-28T22:50:59.534447",
     "status": "completed"
    },
    "tags": []
   },
   "source": [
    "## Creating an Energyhub Evaluator to convert\n",
    "The Platypus converter for Evaluators works with Energyhub Evaluators so long as each parameter also has a RangeParameter value_descriptor."
   ]
  },
  {
   "cell_type": "code",
   "execution_count": null,
   "metadata": {
    "papermill": {
     "duration": 0.027208,
     "end_time": "2019-10-28T22:50:59.573593",
     "exception": false,
     "start_time": "2019-10-28T22:50:59.546385",
     "status": "completed"
    },
    "tags": []
   },
   "outputs": [],
   "source": [
    "hub = pf.get_hub()  # load the hub model specified in config.yaml\n",
    "EHparameters = [\n",
    "    Parameter(\n",
    "        PathSelector([\"LINEAR_CAPITAL_COSTS\", \"Boiler\"]),\n",
    "        value_descriptor=RangeParameter(100.0, 200.0),\n",
    "        name=\"Boiler\",\n",
    "    ),\n",
    "    Parameter(\n",
    "        PathSelector([\"LINEAR_CAPITAL_COSTS\", \"CHP\"]),\n",
    "        value_descriptor=RangeParameter(300.0, 400.0),\n",
    "        name=\"CHP\",\n",
    "    ),\n",
    "]\n",
    "objectives = [\n",
    "    \"total_cost\",\n",
    "    \"total_carbon\",\n",
    "]  # the objectives are the total_carbon and total_cost variables of the Energy Hub problem\n",
    "EHproblem = EHProblem(\n",
    "    EHparameters, objectives\n",
    ")  # we make a problem out of the parameters and objectives\n",
    "evaluatorEH = EvaluatorEH(\n",
    "    EHproblem, hub\n",
    ")  # and an Evaluator by combining with the hub model"
   ]
  },
  {
   "cell_type": "code",
   "execution_count": null,
   "metadata": {
    "papermill": {
     "duration": 0.011668,
     "end_time": "2019-10-28T22:50:59.591092",
     "exception": false,
     "start_time": "2019-10-28T22:50:59.579424",
     "status": "completed"
    },
    "tags": []
   },
   "outputs": [],
   "source": [
    "EHproblem"
   ]
  },
  {
   "cell_type": "markdown",
   "metadata": {
    "papermill": {
     "duration": 0.005809,
     "end_time": "2019-10-28T22:50:59.603034",
     "exception": false,
     "start_time": "2019-10-28T22:50:59.597225",
     "status": "completed"
    },
    "tags": []
   },
   "source": [
    "#### Converting Evaluator to Platypus problem\n",
    "There's a converter in the evaluator module that makes the evaluator the function of a platypus problem with problem details from the evaluator's problem which are converted in the problem module."
   ]
  },
  {
   "cell_type": "code",
   "execution_count": null,
   "metadata": {
    "papermill": {
     "duration": 0.010766,
     "end_time": "2019-10-28T22:50:59.619485",
     "exception": false,
     "start_time": "2019-10-28T22:50:59.608719",
     "status": "completed"
    },
    "tags": []
   },
   "outputs": [],
   "source": [
    "platypus_problem = evaluatorEH.to_platypus()\n",
    "EHalgorithm = NSGAII(platypus_problem)"
   ]
  },
  {
   "cell_type": "code",
   "execution_count": null,
   "metadata": {
    "papermill": {
     "duration": 8.316371,
     "end_time": "2019-10-28T22:51:07.941797",
     "exception": false,
     "start_time": "2019-10-28T22:50:59.625426",
     "status": "completed"
    },
    "tags": []
   },
   "outputs": [],
   "source": [
    "EHalgorithm.run(5)\n",
    "results1 = optimizer.solutions_to_df(\n",
    "    EHalgorithm.result, EHproblem, parts=[\"inputs\", \"outputs\"]\n",
    ")\n",
    "results1"
   ]
  },
  {
   "cell_type": "code",
   "execution_count": null,
   "metadata": {
    "papermill": {
     "duration": 0.017749,
     "end_time": "2019-10-28T22:51:07.967079",
     "exception": false,
     "start_time": "2019-10-28T22:51:07.949330",
     "status": "completed"
    },
    "tags": []
   },
   "outputs": [],
   "source": [
    "best = results1.loc[results1[\"pareto-optimal\"] == True]\n",
    "best"
   ]
  },
  {
   "cell_type": "markdown",
   "metadata": {
    "papermill": {
     "duration": 0.006428,
     "end_time": "2019-10-28T22:51:07.980310",
     "exception": false,
     "start_time": "2019-10-28T22:51:07.973882",
     "status": "completed"
    },
    "tags": []
   },
   "source": [
    "## Creating an Energyplus Evaluator to convert\n",
    "\n",
    "Just like the Energyhub Evaluator the Energyplus requires the parameters all have RangeParameters but this is easier with the expand_plist\n",
    "that works with EnergyPlus Parameters.\n",
    "\n",
    "It appears to require that the idf be the idf and not json. (Format returned in default get_idf() and not get_building()."
   ]
  },
  {
   "cell_type": "code",
   "execution_count": null,
   "metadata": {
    "papermill": {
     "duration": 16.44633,
     "end_time": "2019-10-28T22:51:24.433011",
     "exception": false,
     "start_time": "2019-10-28T22:51:07.986681",
     "status": "completed"
    },
    "tags": []
   },
   "outputs": [],
   "source": [
    "parameters = expand_plist(\n",
    "    {\n",
    "        \"NonRes Fixed Assembly Window\": {\n",
    "            \"UFactor\": (0.1, 5),\n",
    "            \"Solar Heat Gain Coefficient\": (0.01, 0.99),\n",
    "        },\n",
    "        \"Mass NonRes Wall Insulation\": {\"Thickness\": (0.01, 0.09)},\n",
    "    }\n",
    ")\n",
    "objectives = [\"Electricity:Facility\", \"Gas:Facility\"]\n",
    "problem = EPProblem(parameters, objectives)\n",
    "idf = ef.get_idf()\n",
    "evaluator = EvaluatorEP(problem, idf)\n",
    "\n",
    "random.seed(1)\n",
    "# run the first algorithm\n",
    "platypus_problem = evaluator.to_platypus()\n",
    "algorithm = platypus.NSGAII(problem=platypus_problem, population_size=5)\n",
    "algorithm.run(5)\n",
    "\n",
    "# run the second algorithm\n",
    "generator = platypus.InjectedPopulation(algorithm.population)\n",
    "alg2 = platypus.EpsMOEA(\n",
    "    problem=platypus_problem, generator=generator, epsilons=3, population_size=5\n",
    ")\n",
    "alg2.run(5)\n",
    "\n",
    "results = optimizer.solutions_to_df(alg2.result, problem, parts=[\"inputs\", \"outputs\"])\n",
    "\n",
    "value = results.iloc[0][\"Electricity:Facility\"]\n",
    "results"
   ]
  },
  {
   "cell_type": "code",
   "execution_count": null,
   "metadata": {
    "papermill": {
     "duration": 0.028125,
     "end_time": "2019-10-28T22:51:24.469543",
     "exception": false,
     "start_time": "2019-10-28T22:51:24.441418",
     "status": "completed"
    },
    "tags": []
   },
   "outputs": [],
   "source": [
    "results2 = optimizer.solutions_to_df(\n",
    "    algorithm.result, problem, parts=[\"inputs\", \"outputs\"]\n",
    ")\n",
    "results2"
   ]
  }
 ],
 "metadata": {
  "kernelspec": {
   "display_name": "Python 3",
   "language": "python",
   "name": "python3"
  }
 },
 "nbformat": 4,
 "nbformat_minor": 4
}
