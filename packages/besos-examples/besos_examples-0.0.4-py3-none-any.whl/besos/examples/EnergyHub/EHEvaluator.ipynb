{
 "cells": [
  {
   "cell_type": "markdown",
   "metadata": {
    "papermill": {
     "duration": 0.009252,
     "end_time": "2019-10-28T23:03:29.717486",
     "exception": false,
     "start_time": "2019-10-28T23:03:29.708234",
     "status": "completed"
    },
    "tags": []
   },
   "source": [
    "## EvaluatorEH\n",
    "\n",
    "This notebook covers how to use the PyEHub Evaluator (`EvaluatorEH`)."
   ]
  },
  {
   "cell_type": "code",
   "execution_count": null,
   "metadata": {
    "lines_to_next_cell": 2,
    "papermill": {
     "duration": 1.161082,
     "end_time": "2019-10-28T23:03:30.889959",
     "exception": false,
     "start_time": "2019-10-28T23:03:29.728877",
     "status": "completed"
    },
    "tags": []
   },
   "outputs": [],
   "source": [
    "import numpy as np\n",
    "import pandas as pd\n",
    "from besos import pyehub_funcs as pf\n",
    "from besos.evaluator import EvaluatorEH\n",
    "from besos.parameters import Parameter, PathSelector\n",
    "from besos.problem import EHProblem"
   ]
  },
  {
   "cell_type": "markdown",
   "metadata": {
    "papermill": {
     "duration": 0.003837,
     "end_time": "2019-10-28T23:03:30.898379",
     "exception": false,
     "start_time": "2019-10-28T23:03:30.894542",
     "status": "completed"
    },
    "tags": []
   },
   "source": [
    "This evaluator needs an energy hub model, and a problem with parameters that can modify it, and objectives that correspond to outputs from the solution of the model.\n",
    "Parameters are provided as a list of key list mapping lists for the different variables inside the model.\n",
    "Outputs are provided as a list of the keys from the solution of the model."
   ]
  },
  {
   "cell_type": "code",
   "execution_count": null,
   "metadata": {
    "papermill": {
     "duration": 0.03079,
     "end_time": "2019-10-28T23:03:30.933026",
     "exception": false,
     "start_time": "2019-10-28T23:03:30.902236",
     "status": "completed"
    },
    "tags": []
   },
   "outputs": [],
   "source": [
    "hub = pf.get_hub()\n",
    "\n",
    "parameters = [\n",
    "    Parameter(PathSelector([\"LOADS\", \"Elec\"])),\n",
    "    Parameter(PathSelector([\"LOADS\", \"Heat\"])),\n",
    "]\n",
    "objectives = [\"total_cost\", \"total_carbon\"]\n",
    "problem = EHProblem(parameters, objectives)\n",
    "evaluatorEH = EvaluatorEH(problem, hub)"
   ]
  },
  {
   "cell_type": "markdown",
   "metadata": {
    "papermill": {
     "duration": 0.003488,
     "end_time": "2019-10-28T23:03:30.940160",
     "exception": false,
     "start_time": "2019-10-28T23:03:30.936672",
     "status": "completed"
    },
    "tags": []
   },
   "source": [
    "Input values for overwritting the specified parameters can be given in the form of single values, a dictionary time series, a dataframe of single values, or a dataframe of time series."
   ]
  },
  {
   "cell_type": "code",
   "execution_count": null,
   "metadata": {
    "papermill": {
     "duration": 0.014999,
     "end_time": "2019-10-28T23:03:30.958925",
     "exception": false,
     "start_time": "2019-10-28T23:03:30.943926",
     "status": "completed"
    },
    "tags": []
   },
   "outputs": [],
   "source": [
    "default_timeseries = [\n",
    "    {\n",
    "        0: 1.0,\n",
    "        1: 4.0,\n",
    "        2: 4.0,\n",
    "        3: 4.0,\n",
    "        4: 4.0,\n",
    "        5: 4.0,\n",
    "        6: 4.0,\n",
    "        7: 4.0,\n",
    "        8: 4.0,\n",
    "        9: 4.0,\n",
    "        10: 4.0,\n",
    "    },\n",
    "    {\n",
    "        0: 20.0,\n",
    "        1: 20.0,\n",
    "        2: 20.0,\n",
    "        3: 20.0,\n",
    "        4: 20.0,\n",
    "        5: 20.0,\n",
    "        6: 20.0,\n",
    "        7: 12.0,\n",
    "        8: 12.0,\n",
    "        9: 12.0,\n",
    "        10: 12.0,\n",
    "    },\n",
    "]\n",
    "modified_heat = [\n",
    "    {\n",
    "        0: 1.0,\n",
    "        1: 4.0,\n",
    "        2: 4.0,\n",
    "        3: 4.0,\n",
    "        4: 4.0,\n",
    "        5: 4.0,\n",
    "        6: 4.0,\n",
    "        7: 4.0,\n",
    "        8: 4.0,\n",
    "        9: 4.0,\n",
    "        10: 4.0,\n",
    "    },\n",
    "    {\n",
    "        0: 18.0,\n",
    "        1: 18.0,\n",
    "        2: 18.0,\n",
    "        3: 18.0,\n",
    "        4: 18.0,\n",
    "        5: 18.0,\n",
    "        6: 18.0,\n",
    "        7: 16.0,\n",
    "        8: 16.0,\n",
    "        9: 16.0,\n",
    "        10: 16.0,\n",
    "    },\n",
    "]\n",
    "modified_elec = [\n",
    "    {\n",
    "        0: 4.0,\n",
    "        1: 8.0,\n",
    "        2: 6.0,\n",
    "        3: 5.0,\n",
    "        4: 7.0,\n",
    "        5: 7.0,\n",
    "        6: 7.0,\n",
    "        7: 7.0,\n",
    "        8: 7.0,\n",
    "        9: 7.0,\n",
    "        10: 7.0,\n",
    "    },\n",
    "    {\n",
    "        0: 20.0,\n",
    "        1: 20.0,\n",
    "        2: 20.0,\n",
    "        3: 20.0,\n",
    "        4: 20.0,\n",
    "        5: 20.0,\n",
    "        6: 20.0,\n",
    "        7: 12.0,\n",
    "        8: 12.0,\n",
    "        9: 12.0,\n",
    "        10: 12.0,\n",
    "    },\n",
    "]\n",
    "modified_both = [\n",
    "    {\n",
    "        0: 4.0,\n",
    "        1: 8.0,\n",
    "        2: 6.0,\n",
    "        3: 5.0,\n",
    "        4: 7.0,\n",
    "        5: 7.0,\n",
    "        6: 7.0,\n",
    "        7: 7.0,\n",
    "        8: 7.0,\n",
    "        9: 7.0,\n",
    "        10: 7.0,\n",
    "    },\n",
    "    {\n",
    "        0: 18.0,\n",
    "        1: 18.0,\n",
    "        2: 18.0,\n",
    "        3: 18.0,\n",
    "        4: 18.0,\n",
    "        5: 18.0,\n",
    "        6: 18.0,\n",
    "        7: 16.0,\n",
    "        8: 16.0,\n",
    "        9: 16.0,\n",
    "        10: 16.0,\n",
    "    },\n",
    "]\n",
    "timeseries_df = pd.DataFrame(\n",
    "    np.array([default_timeseries, modified_heat, modified_elec, modified_both]),\n",
    "    columns=[\"p1\", \"p2\"],\n",
    ")"
   ]
  },
  {
   "cell_type": "markdown",
   "metadata": {
    "papermill": {
     "duration": 0.003672,
     "end_time": "2019-10-28T23:03:30.966485",
     "exception": false,
     "start_time": "2019-10-28T23:03:30.962813",
     "status": "completed"
    },
    "tags": []
   },
   "source": [
    "Normally the evaluator can be called directly with the input values but if using a dataframe as input df_apply must be used."
   ]
  },
  {
   "cell_type": "code",
   "execution_count": null,
   "metadata": {
    "papermill": {
     "duration": 0.399856,
     "end_time": "2019-10-28T23:03:31.370118",
     "exception": false,
     "start_time": "2019-10-28T23:03:30.970262",
     "status": "completed"
    },
    "tags": []
   },
   "outputs": [],
   "source": [
    "result = evaluatorEH.df_apply(timeseries_df)\n",
    "result"
   ]
  },
  {
   "cell_type": "code",
   "execution_count": null,
   "metadata": {
    "papermill": {
     "duration": 0.004837,
     "end_time": "2019-10-28T23:03:31.380706",
     "exception": false,
     "start_time": "2019-10-28T23:03:31.375869",
     "status": "completed"
    },
    "tags": []
   },
   "outputs": [],
   "source": []
  }
 ],
 "metadata": {
  "jupytext": {
   "formats": "ipynb,py:light"
  },
  "kernelspec": {
   "display_name": "Python 3",
   "language": "python",
   "name": "python3"
  }
 },
 "nbformat": 4,
 "nbformat_minor": 4
}
