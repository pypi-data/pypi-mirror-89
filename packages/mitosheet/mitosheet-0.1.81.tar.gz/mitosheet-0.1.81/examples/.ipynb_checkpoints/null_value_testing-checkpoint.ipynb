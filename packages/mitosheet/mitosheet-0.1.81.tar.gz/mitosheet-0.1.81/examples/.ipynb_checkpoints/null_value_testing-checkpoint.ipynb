{
 "cells": [
  {
   "cell_type": "code",
   "execution_count": 6,
   "metadata": {},
   "outputs": [
    {
     "data": {
      "application/vnd.jupyter.widget-view+json": {
       "model_id": "fe5f2d9361c04d5e948ff7c432ddc586",
       "version_major": 2,
       "version_minor": 0
      },
      "text/plain": [
       "MitoWidget(analysis_name='UUID-db703af6-2a35-4731-84fe-79b80fc5c160', code_json='{\"imports\": \"from mitosheet i…"
      ]
     },
     "metadata": {},
     "output_type": "display_data"
    }
   ],
   "source": [
    "import mitosheet\n",
    "import pandas as pd\n",
    "df = pd.DataFrame({'A': [123]})\n",
    "mitosheet.sheet(tutorial_mode=True)"
   ]
  },
  {
   "cell_type": "code",
   "execution_count": null,
   "metadata": {},
   "outputs": [],
   "source": []
  },
  {
   "cell_type": "code",
   "execution_count": null,
   "metadata": {},
   "outputs": [],
   "source": []
  }
 ],
 "metadata": {
  "kernelspec": {
   "display_name": "Python 3",
   "language": "python",
   "name": "python3"
  },
  "language_info": {
   "codemirror_mode": {
    "name": "ipython",
    "version": 3
   },
   "file_extension": ".py",
   "mimetype": "text/x-python",
   "name": "python",
   "nbconvert_exporter": "python",
   "pygments_lexer": "ipython3",
   "version": "3.8.5"
  },
  "widgets": {
   "application/vnd.jupyter.widget-state+json": {
    "state": {
     "0ff3ce3bb6d24d4bae1da16c0008204b": {
      "model_module": "@jupyter-widgets/base",
      "model_module_version": "1.2.0",
      "model_name": "LayoutModel",
      "state": {}
     },
     "0ffb75481fac4a7e835a6423b35449d5": {
      "model_module": "mitosheet",
      "model_module_version": "^0.1.74",
      "model_name": "ExampleModel",
      "state": {
       "_model_module_version": "^0.1.74",
       "_view_module_version": "^0.1.74",
       "analysis_name": "UUID-f40fee7c-89a1-427b-9230-1e77cf2179fc",
       "code_json": "{\"imports\": \"from mitosheet import *\", \"code\": []}",
       "column_filters_json": "[]",
       "column_spreadsheet_code_json": "[]",
       "column_type_json": "[]",
       "df_names_json": "{\"df_names\": []}",
       "df_shape_json": "[]",
       "layout": "IPY_MODEL_697fc491307d49a2b6c768f5cfae4fe9",
       "saved_analysis_names_json": "[\"28\", \"29\", \"Dork\", \"Double Import\", \"File Import Get Length\", \"File Import\", \"Testing\", \"_49hlkjtgp\", \"_7atqow0oj\", \"_8b9x4aa2m\", \"_dh590wtqu\", \"_g10n6gs9g\", \"_iu8qft83p\", \"_jqu6ydgq6\", \"_jsu04q2sl\", \"_jtip39qtx\", \"_k4ce9w8om\", \"_llskhy8k5\", \"_nq5ctxt9m\", \"_ojtvedr82\", \"_om4ymb3qz\", \"_rlna3gzml\", \"_ui8gi1btf\", \"_wyyvgfivw\", \"aaa\", \"new\"]",
       "sheet_json": "[]",
       "tutorial_mode": true,
       "user_id": "nate",
       "value": "Hello World"
      }
     },
     "171725d206d04d63a78f95f9a422e984": {
      "model_module": "@jupyter-widgets/base",
      "model_module_version": "1.2.0",
      "model_name": "LayoutModel",
      "state": {}
     },
     "1e9d4db94c314493ae1714c4d06cb8d6": {
      "model_module": "@jupyter-widgets/base",
      "model_module_version": "1.2.0",
      "model_name": "LayoutModel",
      "state": {}
     },
     "45d840ddfeec4b0681ebdae70fd6634a": {
      "model_module": "@jupyter-widgets/base",
      "model_module_version": "1.2.0",
      "model_name": "LayoutModel",
      "state": {}
     },
     "5218ea6ec08e4ada86aad44895042887": {
      "model_module": "mitosheet",
      "model_module_version": "^0.1.74",
      "model_name": "ExampleModel",
      "state": {
       "_model_module_version": "^0.1.74",
       "_view_module_version": "^0.1.74",
       "analysis_name": "UUID-a36338d4-2b83-469c-b3b8-10acb7d0a525",
       "code_json": "{\"imports\": \"from mitosheet import *\", \"code\": [\"# Step 1\", \"import pandas as pd\", \"df2_csv = pd.read_csv('df2.csv')\"]}",
       "column_filters_json": "[{\"A\": {\"operator\": \"And\", \"filters\": []}, \"B\": {\"operator\": \"And\", \"filters\": []}}]",
       "column_spreadsheet_code_json": "[{\"A\": \"\", \"B\": \"\"}]",
       "column_type_json": "[{\"A\": \"number\", \"B\": \"number\"}]",
       "df_names_json": "{\"df_names\": [\"df2_csv\"]}",
       "df_shape_json": "[{\"rows\": 3, \"cols\": 2}]",
       "layout": "IPY_MODEL_1e9d4db94c314493ae1714c4d06cb8d6",
       "saved_analysis_names_json": "[\"28\", \"29\", \"Dork\", \"Double Import\", \"File Import Get Length\", \"File Import\", \"Testing\", \"_49hlkjtgp\", \"_7atqow0oj\", \"_8b9x4aa2m\", \"_dh590wtqu\", \"_g10n6gs9g\", \"_iu8qft83p\", \"_jqu6ydgq6\", \"_jsu04q2sl\", \"_jtip39qtx\", \"_k4ce9w8om\", \"_llskhy8k5\", \"_nq5ctxt9m\", \"_ojtvedr82\", \"_om4ymb3qz\", \"_rlna3gzml\", \"_ui8gi1btf\", \"_wyyvgfivw\", \"aaa\", \"new\"]",
       "sheet_json": "[{\"columns\": [\"A\", \"B\"], \"index\": [0, 1, 2], \"data\": [[7, 10], [8, 11], [9, 12]]}]",
       "tutorial_mode": true,
       "user_id": "nate",
       "value": "Hello World"
      }
     },
     "697fc491307d49a2b6c768f5cfae4fe9": {
      "model_module": "@jupyter-widgets/base",
      "model_module_version": "1.2.0",
      "model_name": "LayoutModel",
      "state": {}
     },
     "73e22e32969541f59b48c9891e775183": {
      "model_module": "mitosheet",
      "model_module_version": "^0.1.74",
      "model_name": "ExampleModel",
      "state": {
       "_model_module_version": "^0.1.74",
       "_view_module_version": "^0.1.74",
       "analysis_name": "UUID-91d20082-fc4c-4523-aa0a-69b6231e1f24",
       "code_json": "{\"imports\": \"from mitosheet import *\", \"code\": [\"# Step 1\", \"import pandas as pd\", \"df2_csv = pd.read_csv('df2.csv')\"]}",
       "column_filters_json": "[{\"A\": {\"operator\": \"And\", \"filters\": []}, \"B\": {\"operator\": \"And\", \"filters\": []}}]",
       "column_spreadsheet_code_json": "[{\"A\": \"\", \"B\": \"\"}]",
       "column_type_json": "[{\"A\": \"number\", \"B\": \"number\"}]",
       "df_names_json": "{\"df_names\": [\"df2_csv\"]}",
       "df_shape_json": "[{\"rows\": 3, \"cols\": 2}]",
       "layout": "IPY_MODEL_be4706522fa244d0b37bce88f50d896b",
       "saved_analysis_names_json": "[\"28\", \"29\", \"Dork\", \"Double Import\", \"File Import Get Length\", \"File Import\", \"Testing\", \"_49hlkjtgp\", \"_7atqow0oj\", \"_8b9x4aa2m\", \"_dh590wtqu\", \"_g10n6gs9g\", \"_iu8qft83p\", \"_jqu6ydgq6\", \"_jsu04q2sl\", \"_jtip39qtx\", \"_k4ce9w8om\", \"_llskhy8k5\", \"_nq5ctxt9m\", \"_ojtvedr82\", \"_om4ymb3qz\", \"_rlna3gzml\", \"_ui8gi1btf\", \"_wyyvgfivw\", \"aaa\", \"new\"]",
       "sheet_json": "[{\"columns\": [\"A\", \"B\"], \"index\": [0, 1, 2], \"data\": [[7, 10], [8, 11], [9, 12]]}]",
       "tutorial_mode": true,
       "user_id": "nate",
       "value": "Hello World"
      }
     },
     "91469ddf902a48a3bef653507218902d": {
      "model_module": "mitosheet",
      "model_module_version": "^0.1.74",
      "model_name": "ExampleModel",
      "state": {
       "_model_module_version": "^0.1.74",
       "_view_module_version": "^0.1.74",
       "analysis_name": "UUID-2ed4654a-efff-4ff3-849f-f13c67dc5e84",
       "code_json": "{\"imports\": \"from mitosheet import *\", \"code\": [\"# Step 1\", \"import pandas as pd\", \"df2_csv = pd.read_csv('df2.csv')\"]}",
       "column_filters_json": "[{\"A\": {\"operator\": \"And\", \"filters\": []}, \"B\": {\"operator\": \"And\", \"filters\": []}}]",
       "column_spreadsheet_code_json": "[{\"A\": \"\", \"B\": \"\"}]",
       "column_type_json": "[{\"A\": \"number\", \"B\": \"number\"}]",
       "df_names_json": "{\"df_names\": [\"df2_csv\"]}",
       "df_shape_json": "[{\"rows\": 3, \"cols\": 2}]",
       "layout": "IPY_MODEL_45d840ddfeec4b0681ebdae70fd6634a",
       "saved_analysis_names_json": "[\"28\", \"29\", \"Dork\", \"Double Import\", \"File Import Get Length\", \"File Import\", \"Testing\", \"_49hlkjtgp\", \"_7atqow0oj\", \"_8b9x4aa2m\", \"_dh590wtqu\", \"_g10n6gs9g\", \"_iu8qft83p\", \"_jqu6ydgq6\", \"_jsu04q2sl\", \"_jtip39qtx\", \"_k4ce9w8om\", \"_llskhy8k5\", \"_nq5ctxt9m\", \"_ojtvedr82\", \"_om4ymb3qz\", \"_rlna3gzml\", \"_ui8gi1btf\", \"_wyyvgfivw\", \"aaa\", \"new\"]",
       "sheet_json": "[{\"columns\": [\"A\", \"B\"], \"index\": [0, 1, 2], \"data\": [[7, 10], [8, 11], [9, 12]]}]",
       "tutorial_mode": true,
       "user_id": "nate",
       "value": "Hello World"
      }
     },
     "a715ff6c20644f508c20a28332edad50": {
      "model_module": "mitosheet",
      "model_module_version": "^0.1.74",
      "model_name": "ExampleModel",
      "state": {
       "_model_module_version": "^0.1.74",
       "_view_module_version": "^0.1.74",
       "analysis_name": "UUID-870d1c47-ee90-4e0f-bf12-10de8ac3d8c6",
       "code_json": "{\"imports\": \"from mitosheet import *\", \"code\": []}",
       "column_filters_json": "[]",
       "column_spreadsheet_code_json": "[]",
       "column_type_json": "[]",
       "df_names_json": "{\"df_names\": []}",
       "df_shape_json": "[]",
       "layout": "IPY_MODEL_0ff3ce3bb6d24d4bae1da16c0008204b",
       "saved_analysis_names_json": "[\"28\", \"29\", \"Dork\", \"Double Import\", \"File Import Get Length\", \"File Import\", \"Testing\", \"_49hlkjtgp\", \"_7atqow0oj\", \"_8b9x4aa2m\", \"_dh590wtqu\", \"_g10n6gs9g\", \"_iu8qft83p\", \"_jqu6ydgq6\", \"_jsu04q2sl\", \"_jtip39qtx\", \"_k4ce9w8om\", \"_llskhy8k5\", \"_nq5ctxt9m\", \"_ojtvedr82\", \"_om4ymb3qz\", \"_rlna3gzml\", \"_ui8gi1btf\", \"_wyyvgfivw\", \"aaa\", \"new\"]",
       "sheet_json": "[]",
       "tutorial_mode": true,
       "user_id": "nate",
       "value": "Hello World"
      }
     },
     "be4706522fa244d0b37bce88f50d896b": {
      "model_module": "@jupyter-widgets/base",
      "model_module_version": "1.2.0",
      "model_name": "LayoutModel",
      "state": {}
     },
     "fe5f2d9361c04d5e948ff7c432ddc586": {
      "model_module": "mitosheet",
      "model_module_version": "^0.1.74",
      "model_name": "ExampleModel",
      "state": {
       "_model_module_version": "^0.1.74",
       "_view_module_version": "^0.1.74",
       "analysis_name": "UUID-db703af6-2a35-4731-84fe-79b80fc5c160",
       "code_json": "{\"imports\": \"from mitosheet import *\", \"code\": []}",
       "column_filters_json": "[]",
       "column_spreadsheet_code_json": "[]",
       "column_type_json": "[]",
       "df_names_json": "{\"df_names\": []}",
       "df_shape_json": "[]",
       "layout": "IPY_MODEL_171725d206d04d63a78f95f9a422e984",
       "saved_analysis_names_json": "[\"28\", \"29\", \"Dork\", \"Double Import\", \"File Import Get Length\", \"File Import\", \"Testing\", \"_49hlkjtgp\", \"_7atqow0oj\", \"_8b9x4aa2m\", \"_dh590wtqu\", \"_g10n6gs9g\", \"_iu8qft83p\", \"_jqu6ydgq6\", \"_jsu04q2sl\", \"_jtip39qtx\", \"_k4ce9w8om\", \"_llskhy8k5\", \"_nq5ctxt9m\", \"_ojtvedr82\", \"_om4ymb3qz\", \"_rlna3gzml\", \"_ui8gi1btf\", \"_wyyvgfivw\", \"aaa\", \"new\"]",
       "sheet_json": "[]",
       "tutorial_mode": true,
       "user_id": "nate",
       "value": "Hello World"
      }
     }
    },
    "version_major": 2,
    "version_minor": 0
   }
  }
 },
 "nbformat": 4,
 "nbformat_minor": 4
}
