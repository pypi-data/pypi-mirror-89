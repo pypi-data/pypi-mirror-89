{
 "cells": [
  {
   "cell_type": "code",
   "execution_count": null,
   "metadata": {
    "lines_to_end_of_cell_marker": 2,
    "papermill": {
     "duration": 1.053702,
     "end_time": "2019-10-28T22:50:14.623493",
     "exception": false,
     "start_time": "2019-10-28T22:50:13.569791",
     "status": "completed"
    },
    "tags": []
   },
   "outputs": [],
   "source": [
    "import pandas as pd\n",
    "from besos import eppy_funcs as ef\n",
    "from besos.evaluator import EvaluatorEP\n",
    "from besos.parameters import (\n",
    "    FieldSelector,\n",
    "    FilterSelector,\n",
    "    GenericSelector,\n",
    "    Parameter,\n",
    ")\n",
    "from besos.problem import EPProblem"
   ]
  },
  {
   "cell_type": "code",
   "execution_count": null,
   "metadata": {},
   "outputs": [],
   "source": [
    "building = ef.get_building(mode=\"json\")"
   ]
  },
  {
   "cell_type": "markdown",
   "metadata": {},
   "source": [
    "## Selecting things manually"
   ]
  },
  {
   "cell_type": "markdown",
   "metadata": {},
   "source": [
    "This example assumes that you know about the layered datastructure of buildings. (*classes*, *objects*, and *fields*). We can get the value of a field like this:"
   ]
  },
  {
   "cell_type": "code",
   "execution_count": null,
   "metadata": {},
   "outputs": [],
   "source": [
    "class_name = \"Material\"\n",
    "object_name = \"1/2IN Gypsum\"\n",
    "field_name = \"conductivity\"\n",
    "\n",
    "building[class_name][object_name][field_name]"
   ]
  },
  {
   "cell_type": "markdown",
   "metadata": {},
   "source": [
    "Note that we can access any field like this, as long as we know the class, object and field names that describe where the field is.\n",
    "\n",
    "We can also assign values to the field:"
   ]
  },
  {
   "cell_type": "code",
   "execution_count": null,
   "metadata": {},
   "outputs": [],
   "source": [
    "building[class_name][object_name][field_name] = 0.23\n",
    "print(\"new value is:\", building[class_name][object_name][field_name])"
   ]
  },
  {
   "cell_type": "markdown",
   "metadata": {
    "papermill": {
     "duration": 0.009648,
     "end_time": "2019-10-28T22:50:14.643197",
     "exception": false,
     "start_time": "2019-10-28T22:50:14.633549",
     "status": "completed"
    },
    "tags": []
   },
   "source": [
    "# Selectors\n",
    "\n",
    "`Selectors` identify which part of the building model to modify, and how to modify it, which lets us automate the changes above.\n",
    "\n",
    "Their main purpose is to be used automatically inside evaluators, which is described later.\n",
    "\n",
    "Here we will use them directly to modify the building, get the objects they affect, and read the current value of the field(s) they refer to. (Note that genericSelectors don't automatically support all of these operations)\n"
   ]
  },
  {
   "cell_type": "markdown",
   "metadata": {},
   "source": [
    "To create a selector, we need the same information that was needed to change the field in the building."
   ]
  },
  {
   "cell_type": "code",
   "execution_count": null,
   "metadata": {},
   "outputs": [],
   "source": [
    "gypsum_selector = FieldSelector(\n",
    "    class_name=\"Material\", object_name=\"1/2IN Gypsum\", field_name=\"Conductivity\",\n",
    ")"
   ]
  },
  {
   "cell_type": "markdown",
   "metadata": {},
   "source": [
    "Now, we can use the selector to modify the building, using the `.set` method."
   ]
  },
  {
   "cell_type": "code",
   "execution_count": null,
   "metadata": {},
   "outputs": [],
   "source": [
    "gypsum_selector.set(building=building, value=0.05)"
   ]
  },
  {
   "cell_type": "markdown",
   "metadata": {},
   "source": [
    "Selectors also let us get the current value of the field, using the `.get` method.\n",
    "This will return a list of values, since in some cases, a selector can refer to more than one field.\n",
    "In this case, the field we refered to has indeed been set to 0.05"
   ]
  },
  {
   "cell_type": "code",
   "execution_count": null,
   "metadata": {},
   "outputs": [],
   "source": [
    "gypsum_selector.get(building=building)"
   ]
  },
  {
   "cell_type": "markdown",
   "metadata": {},
   "source": [
    "The method `.get_objects` retrieves the objects that are affected by this selector. Since we only set it up to find one object, it returns a list with only the 1/2IN Gypsum material.\n",
    "Since the json format does not include the name inside the object, we do not see the object name here, just the fields."
   ]
  },
  {
   "cell_type": "code",
   "execution_count": null,
   "metadata": {},
   "outputs": [],
   "source": [
    "gypsum_selector.get_objects(building)"
   ]
  },
  {
   "cell_type": "markdown",
   "metadata": {
    "papermill": {
     "duration": 0.009029,
     "end_time": "2019-10-28T22:50:14.662773",
     "exception": false,
     "start_time": "2019-10-28T22:50:14.653744",
     "status": "completed"
    },
    "tags": []
   },
   "source": [
    "## Creating Selectors\n",
    "There are a few other options when creating selectors.\n",
    "\n",
    "We can skip using the class name. In this case the selector will search through all of the objects of all classes, and find the ones that match the object name given."
   ]
  },
  {
   "cell_type": "code",
   "execution_count": null,
   "metadata": {},
   "outputs": [],
   "source": [
    "gypsum_selector = FieldSelector(\n",
    "    #     class_name=\"Material\",      <--- Commented out instead of being used as an input\n",
    "    object_name=\"1/2IN Gypsum\",\n",
    "    field_name=\"Conductivity\",\n",
    ")"
   ]
  },
  {
   "cell_type": "markdown",
   "metadata": {},
   "source": [
    "Since there is only one object in this building with the name `1/2IN Gypsum`, this selector affects the same object as before. (We could also use get/set the same way as before)"
   ]
  },
  {
   "cell_type": "code",
   "execution_count": null,
   "metadata": {},
   "outputs": [],
   "source": [
    "gypsum_selector.get_objects(building)"
   ]
  },
  {
   "cell_type": "markdown",
   "metadata": {
    "papermill": {
     "duration": 0.00863,
     "end_time": "2019-10-28T22:50:14.724217",
     "exception": false,
     "start_time": "2019-10-28T22:50:14.715587",
     "status": "completed"
    },
    "tags": []
   },
   "source": [
    "There is only one object in the example building with the name `1/2IN Gypsum`. If there were multiple objects with the same name, we would get an error when using a json building. (For idfs, the selector will guess that you mean the first object with that name)"
   ]
  },
  {
   "cell_type": "markdown",
   "metadata": {},
   "source": [
    "### Setting all fields on objects of a certain class\n",
    "If you have multiple objects of the same type that all share the same field to modify, you can modify them all with one selector by setting `object_name` to `'*'`.\n",
    "\n",
    "Our building has several Lights, and all of the lights have a field called `Watts per Zone Floor Area`"
   ]
  },
  {
   "cell_type": "code",
   "execution_count": null,
   "metadata": {
    "papermill": {
     "duration": 0.015267,
     "end_time": "2019-10-28T22:50:14.884159",
     "exception": false,
     "start_time": "2019-10-28T22:50:14.868892",
     "status": "completed"
    },
    "tags": []
   },
   "outputs": [],
   "source": [
    "lights_selector = FieldSelector(\n",
    "    class_name=\"Lights\", object_name=\"*\", field_name=\"Watts per Zone Floor Area\"\n",
    ")"
   ]
  },
  {
   "cell_type": "code",
   "execution_count": null,
   "metadata": {},
   "outputs": [],
   "source": [
    "# this selector affects the following objects\n",
    "lights_selector.get_objects(building)"
   ]
  },
  {
   "cell_type": "code",
   "execution_count": null,
   "metadata": {},
   "outputs": [],
   "source": [
    "# setting sets all values at once, and getting retrieves the value of the field for each affected object.\n",
    "lights_selector.set(building, 11)\n",
    "lights_selector.get(building)"
   ]
  },
  {
   "cell_type": "markdown",
   "metadata": {},
   "source": [
    "Field selectors must always have a value for `field_name`"
   ]
  },
  {
   "cell_type": "markdown",
   "metadata": {
    "papermill": {
     "duration": 0.009523,
     "end_time": "2019-10-28T22:50:14.788314",
     "exception": false,
     "start_time": "2019-10-28T22:50:14.778791",
     "status": "completed"
    },
    "tags": []
   },
   "source": [
    "### Filtering Selectors (Set a field on each object from an arbitrary list)\n",
    "`FilterSelectors` allow us to use custom function to select the objects to modify.\n",
    "Here we define a function that finds all materials with `Insulation` in their name.\n",
    "Then we use this function to modify the thickness of all these materials."
   ]
  },
  {
   "cell_type": "code",
   "execution_count": null,
   "metadata": {
    "papermill": {
     "duration": 0.014863,
     "end_time": "2019-10-28T22:50:14.838508",
     "exception": false,
     "start_time": "2019-10-28T22:50:14.823645",
     "status": "completed"
    },
    "tags": []
   },
   "outputs": [],
   "source": [
    "def insulation_filter_json(building):\n",
    "    return [obj for name, obj in building[\"Material\"].items() if \"Insulation\" in name]\n",
    "    # This function only works for buildings with a json representation.\n",
    "\n",
    "\n",
    "insulation_json = FilterSelector(insulation_filter_json, field_name=\"Thickness\")\n",
    "building_json = ef.get_building(mode=\"json\")"
   ]
  },
  {
   "cell_type": "markdown",
   "metadata": {},
   "source": [
    "Filtering for `.idf` files works the same way, we just need to re-write the `insulation_filter` function so that it can handle idf objects instead of json ones."
   ]
  },
  {
   "cell_type": "code",
   "execution_count": null,
   "metadata": {
    "papermill": {
     "duration": 0.014863,
     "end_time": "2019-10-28T22:50:14.838508",
     "exception": false,
     "start_time": "2019-10-28T22:50:14.823645",
     "status": "completed"
    },
    "tags": []
   },
   "outputs": [],
   "source": [
    "def insulation_filter_idf(building):\n",
    "    return [obj for obj in building.idfobjects[\"MATERIAL\"] if \"Insulation\" in obj.Name]\n",
    "\n",
    "\n",
    "insulation_idf = FilterSelector(insulation_filter_idf, field_name=\"Thickness\")\n",
    "building_idf = ef.get_building(mode=\"idf\")"
   ]
  },
  {
   "cell_type": "markdown",
   "metadata": {},
   "source": [
    "These two selectors are equivalent, and support get/set/get_objects like the FieldSelectors before.\n",
    "Note that since the json file has objects in a different order than the idf, we get the results in a different order from each of these selectors."
   ]
  },
  {
   "cell_type": "code",
   "execution_count": null,
   "metadata": {},
   "outputs": [],
   "source": [
    "insulation_json.get(building_json)"
   ]
  },
  {
   "cell_type": "code",
   "execution_count": null,
   "metadata": {},
   "outputs": [],
   "source": [
    "insulation_idf.get(building_idf)"
   ]
  },
  {
   "cell_type": "code",
   "execution_count": null,
   "metadata": {},
   "outputs": [],
   "source": [
    "# .set() and .get_objects(), also work, try them out here if you want."
   ]
  },
  {
   "cell_type": "markdown",
   "metadata": {
    "papermill": {
     "duration": 0.009425,
     "end_time": "2019-10-28T22:50:14.902870",
     "exception": false,
     "start_time": "2019-10-28T22:50:14.893445",
     "status": "completed"
    },
    "tags": []
   },
   "source": [
    "### GenericSelectors (Descriptor supplied value is taken by a function which can do any changes)\n",
    "\n",
    "#### Parameter scripts using a Generic Selector\n",
    "\n",
    "Parameters can also be created by defining a function that takes an idf and a value and mutates the idf. These functions can be specific to a certain idf's format, and can perform any arbitrary transformation. Creating these can be more involved.\n",
    "`eppy_funcs` contains the functions `one_window` and `wwr_all`. `one_window` removes windows from a building until it has only one per wall. `wwr_all` takes a building with one window per wall and adjusts it to have a specific window to wall ratio."
   ]
  },
  {
   "cell_type": "markdown",
   "metadata": {
    "papermill": {
     "duration": 0.009492,
     "end_time": "2019-10-28T22:50:14.922118",
     "exception": false,
     "start_time": "2019-10-28T22:50:14.912626",
     "status": "completed"
    },
    "tags": []
   },
   "source": [
    "BESOS also includes some pre-defined parameter scripts:\n",
    "\n",
    "##### `wwr` for window to wall ratio\n",
    "\n",
    "Here we define a selector which will modify the window to wall ratio. For more details on how `GenericSelector`s work, and how to write your own scripts like this, check the Generic Selectors example notebook."
   ]
  },
  {
   "cell_type": "code",
   "execution_count": null,
   "metadata": {
    "papermill": {
     "duration": 0.01501,
     "end_time": "2019-10-28T22:50:14.946954",
     "exception": false,
     "start_time": "2019-10-28T22:50:14.931944",
     "status": "completed"
    },
    "tags": []
   },
   "outputs": [],
   "source": [
    "window_to_wall = GenericSelector(\n",
    "    setup=ef.one_window,  # adjusts the building so that each wall has only one window.\n",
    "    set=ef.wwr_all,  # adjusts the windows so that they have the requested ratio\n",
    ")"
   ]
  },
  {
   "cell_type": "markdown",
   "metadata": {
    "papermill": {
     "duration": 0.009363,
     "end_time": "2019-10-28T22:50:15.012612",
     "exception": false,
     "start_time": "2019-10-28T22:50:15.003249",
     "status": "completed"
    },
    "tags": []
   },
   "source": [
    "## Sampling and evaluating the design space"
   ]
  },
  {
   "cell_type": "markdown",
   "metadata": {},
   "source": [
    "Since `Selectors` do not describe the values they can take on, only where those values go, they are not sufficient to explore the design space.\n",
    "\n",
    "In order to evaluate several different building configurations, we need the values to use, `Selectors` to apply them to the building, and `Parameters` and an `Evaluator` to connect them together.\n",
    "\n",
    "**Breaking down what is happening behind the scenes:**\n",
    "We can specify several samples manually to look at the design space. (`Descriptors` and the sampling helper functions can be used to generate samples automatically) These values will be processed row by row by the evaluator which will split them up and send one value to each Parameter in the problem. (These parameters would use their descriptors to validate the values, but since there are no descriptors, this step is skipped) Then the selectors get the value from the Parameter, and use it to modify the building. The building is then run, and results collected."
   ]
  },
  {
   "cell_type": "code",
   "execution_count": null,
   "metadata": {
    "papermill": {
     "duration": 0.025219,
     "end_time": "2019-10-28T22:50:15.047616",
     "exception": false,
     "start_time": "2019-10-28T22:50:15.022397",
     "status": "completed"
    },
    "tags": []
   },
   "outputs": [],
   "source": [
    "samples = pd.DataFrame(\n",
    "    {\n",
    "        \"Thickness\": [x / 10 for x in range(1, 10)] * 2,\n",
    "        \"Watts\": [8, 10, 12] * 6,\n",
    "        \"wwr\": [0.25, 0.5] * 9,\n",
    "    }\n",
    ")\n",
    "\n",
    "# bundle all of the different selectors into a single list of parameters\n",
    "parameters = [\n",
    "    Parameter(selector=x) for x in (insulation_idf, lights_selector, window_to_wall)\n",
    "]\n",
    "\n",
    "# the inputs to the problem will be the parameters\n",
    "# default output is the total electricity use (measured by Electricity:Facility)\n",
    "problem = EPProblem(inputs=parameters)\n",
    "\n",
    "# The evaluator will take the problem and building file\n",
    "evaluator = EvaluatorEP(problem, building_idf)\n",
    "\n",
    "samples"
   ]
  },
  {
   "cell_type": "code",
   "execution_count": null,
   "metadata": {
    "papermill": {
     "duration": 29.648622,
     "end_time": "2019-10-28T22:50:44.727030",
     "exception": false,
     "start_time": "2019-10-28T22:50:15.078408",
     "status": "completed"
    },
    "tags": []
   },
   "outputs": [],
   "source": [
    "# We can apply some samples to the problem\n",
    "outputs = evaluator.df_apply(samples, keep_input=True)\n",
    "outputs"
   ]
  }
 ],
 "metadata": {
  "kernelspec": {
   "display_name": "Python 3",
   "language": "python",
   "name": "python3"
  },
  "language_info": {
   "codemirror_mode": {
    "name": "ipython",
    "version": 3
   },
   "file_extension": ".py",
   "mimetype": "text/x-python",
   "name": "python",
   "nbconvert_exporter": "python",
   "pygments_lexer": "ipython3",
   "version": "3.8.3"
  }
 },
 "nbformat": 4,
 "nbformat_minor": 4
}
