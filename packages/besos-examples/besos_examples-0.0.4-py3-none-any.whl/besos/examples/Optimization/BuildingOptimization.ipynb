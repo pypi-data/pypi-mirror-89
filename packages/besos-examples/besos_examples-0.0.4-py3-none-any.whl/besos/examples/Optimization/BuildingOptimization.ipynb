{
 "cells": [
  {
   "cell_type": "markdown",
   "metadata": {
    "papermill": {
     "duration": 0.0075,
     "end_time": "2019-10-28T22:56:35.783018",
     "exception": false,
     "start_time": "2019-10-28T22:56:35.775518",
     "status": "completed"
    },
    "tags": []
   },
   "source": [
    "# Building Optimization"
   ]
  },
  {
   "cell_type": "markdown",
   "metadata": {
    "papermill": {
     "duration": 0.006398,
     "end_time": "2019-10-28T22:56:35.796457",
     "exception": false,
     "start_time": "2019-10-28T22:56:35.790059",
     "status": "completed"
    },
    "tags": []
   },
   "source": [
    "This notebook performs building design optimization using EnergyPlus and BESOS helper functions.\n",
    "We load a model from in.idf, define parameters to vary, set objectives, test the model, then run a multi-objective genetic algorithm and plot the optimized designs."
   ]
  },
  {
   "cell_type": "markdown",
   "metadata": {
    "papermill": {
     "duration": 0.009494,
     "end_time": "2019-10-28T22:56:33.727129",
     "exception": false,
     "start_time": "2019-10-28T22:56:33.717635",
     "status": "completed"
    },
    "tags": []
   },
   "source": [
    "### Import libraries"
   ]
  },
  {
   "cell_type": "code",
   "execution_count": null,
   "metadata": {
    "lines_to_next_cell": 2,
    "papermill": {
     "duration": 2.03235,
     "end_time": "2019-10-28T22:56:35.767852",
     "exception": false,
     "start_time": "2019-10-28T22:56:33.735502",
     "status": "completed"
    },
    "tags": []
   },
   "outputs": [],
   "source": [
    "import pandas as pd\n",
    "from besos import eppy_funcs as ef, sampling\n",
    "from besos.evaluator import EvaluatorEP\n",
    "from besos.optimizer import NSGAII, df_solution_to_solutions\n",
    "from besos.parameters import RangeParameter, expand_plist, wwr\n",
    "from besos.problem import EPProblem\n",
    "from matplotlib import pyplot as plt\n",
    "from platypus import Archive, Hypervolume, Solution"
   ]
  },
  {
   "cell_type": "markdown",
   "metadata": {
    "papermill": {
     "duration": 0.006446,
     "end_time": "2019-10-28T22:56:35.809640",
     "exception": false,
     "start_time": "2019-10-28T22:56:35.803194",
     "status": "completed"
    },
    "tags": []
   },
   "source": [
    "### Load the base EnergyPlus .idf file"
   ]
  },
  {
   "cell_type": "code",
   "execution_count": null,
   "metadata": {
    "papermill": {
     "duration": 1.217628,
     "end_time": "2019-10-28T22:56:37.033873",
     "exception": false,
     "start_time": "2019-10-28T22:56:35.816245",
     "status": "completed"
    },
    "tags": []
   },
   "outputs": [],
   "source": [
    "building = ef.get_building(\"in.idf\")"
   ]
  },
  {
   "cell_type": "markdown",
   "metadata": {
    "papermill": {
     "duration": 0.007594,
     "end_time": "2019-10-28T22:56:37.049306",
     "exception": false,
     "start_time": "2019-10-28T22:56:37.041712",
     "status": "completed"
    },
    "tags": []
   },
   "source": [
    "### Define design parameters and ranges\n",
    "Define a parameter list using a helper function, in this case building orientation and window-to-wall ratio.\n"
   ]
  },
  {
   "cell_type": "code",
   "execution_count": null,
   "metadata": {
    "papermill": {
     "duration": 0.013148,
     "end_time": "2019-10-28T22:56:37.069830",
     "exception": false,
     "start_time": "2019-10-28T22:56:37.056682",
     "status": "completed"
    },
    "tags": []
   },
   "outputs": [],
   "source": [
    "parameters = []\n",
    "parameters = expand_plist(\n",
    "    {\"Building 1\": {\"North Axis\": (0, 359)}}  # Name from IDF Building object\n",
    ")\n",
    "\n",
    "parameters.append(\n",
    "    wwr(RangeParameter(0.1, 0.9))\n",
    ")  # Add window-to-wall ratio as a parameter between 0.1 and 0.9 using a custom function"
   ]
  },
  {
   "cell_type": "markdown",
   "metadata": {
    "papermill": {
     "duration": 0.007395,
     "end_time": "2019-10-28T22:56:37.084286",
     "exception": false,
     "start_time": "2019-10-28T22:56:37.076891",
     "status": "completed"
    },
    "tags": []
   },
   "source": [
    "### Objectives\n",
    "Using Heating and Cooling energy outputs as simulation objectives, make a problem instance from these parameters and objectives."
   ]
  },
  {
   "cell_type": "code",
   "execution_count": null,
   "metadata": {
    "papermill": {
     "duration": 0.014643,
     "end_time": "2019-10-28T22:56:37.106628",
     "exception": false,
     "start_time": "2019-10-28T22:56:37.091985",
     "status": "completed"
    },
    "tags": []
   },
   "outputs": [],
   "source": [
    "objectives = [\"DistrictCooling:Facility\", \"DistrictHeating:Facility\"]\n",
    "besos_problem = EPProblem(parameters, objectives)"
   ]
  },
  {
   "cell_type": "markdown",
   "metadata": {
    "papermill": {
     "duration": 0.007191,
     "end_time": "2019-10-28T22:56:37.122238",
     "exception": false,
     "start_time": "2019-10-28T22:56:37.115047",
     "status": "completed"
    },
    "tags": []
   },
   "source": [
    "### Set up EnergyPlus evaluator object to run simulations for this building and problem"
   ]
  },
  {
   "cell_type": "code",
   "execution_count": null,
   "metadata": {
    "papermill": {
     "duration": 4.431614,
     "end_time": "2019-10-28T22:56:41.561384",
     "exception": false,
     "start_time": "2019-10-28T22:56:37.129770",
     "status": "completed"
    },
    "tags": []
   },
   "outputs": [],
   "source": [
    "evaluator = EvaluatorEP(\n",
    "    besos_problem, building, out_dir=\"outputdir\", err_dir=\"outputdir\"\n",
    ")  # outputdir must exist; E+ files will be written there\n",
    "runs = pd.DataFrame.from_dict(\n",
    "    {\"0\": [180, 0.5]}, orient=\"index\"\n",
    ")  # Make a dataframe of runs with one entry for South and 50% glazing\n",
    "outputs = evaluator.df_apply(runs)  # Run this as a test\n",
    "outputs"
   ]
  },
  {
   "cell_type": "markdown",
   "metadata": {
    "papermill": {
     "duration": 0.009101,
     "end_time": "2019-10-28T22:56:41.579072",
     "exception": false,
     "start_time": "2019-10-28T22:56:41.569971",
     "status": "completed"
    },
    "tags": []
   },
   "source": [
    "## Run the Genetic Algorithm\n",
    "Run the optimizer using this evaluator for a population size of 20 for 10 generations."
   ]
  },
  {
   "cell_type": "code",
   "execution_count": null,
   "metadata": {
    "papermill": {
     "duration": 205.529346,
     "end_time": "2019-10-28T23:00:07.118048",
     "exception": false,
     "start_time": "2019-10-28T22:56:41.588702",
     "status": "completed"
    },
    "tags": []
   },
   "outputs": [],
   "source": [
    "results = NSGAII(evaluator, evaluations=10, population_size=20)\n",
    "results"
   ]
  },
  {
   "cell_type": "markdown",
   "metadata": {
    "papermill": {
     "duration": 0.010281,
     "end_time": "2019-10-28T23:00:07.138988",
     "exception": false,
     "start_time": "2019-10-28T23:00:07.128707",
     "status": "completed"
    },
    "tags": []
   },
   "source": [
    "### Visualize the results"
   ]
  },
  {
   "cell_type": "code",
   "execution_count": null,
   "metadata": {
    "papermill": {
     "duration": 0.224275,
     "end_time": "2019-10-28T23:00:07.374025",
     "exception": false,
     "start_time": "2019-10-28T23:00:07.149750",
     "status": "completed"
    },
    "tags": []
   },
   "outputs": [],
   "source": [
    "optres = results.loc[\n",
    "    results[\"pareto-optimal\"] == True, :\n",
    "]  # Get only the optimal results\n",
    "plt.plot(\n",
    "    results[\"DistrictCooling:Facility\"], results[\"DistrictHeating:Facility\"], \"x\"\n",
    ")  # Plot all results in the background as blue crosses\n",
    "plt.plot(\n",
    "    optres[\"DistrictCooling:Facility\"], optres[\"DistrictHeating:Facility\"], \"ro\"\n",
    ")  # Plot optimal results in red\n",
    "plt.xlabel(\"Cooling demand\")\n",
    "plt.ylabel(\"Heating demand\")"
   ]
  },
  {
   "cell_type": "code",
   "execution_count": null,
   "metadata": {
    "papermill": {
     "duration": 0.86736,
     "end_time": "2019-10-28T23:00:08.252043",
     "exception": false,
     "start_time": "2019-10-28T23:00:07.384683",
     "status": "completed"
    },
    "tags": []
   },
   "outputs": [],
   "source": [
    "optres = optres.sort_values(\"DistrictCooling:Facility\")  # Sort by the first objective\n",
    "optresplot = optres.drop(columns=\"violation\")  # Remove the constraint violation column\n",
    "ax = optresplot.plot.bar(\n",
    "    subplots=True, legend=None, figsize=(10, 10)\n",
    ")  # Plot the variable values of each of the optimal solutions"
   ]
  },
  {
   "cell_type": "markdown",
   "metadata": {},
   "source": [
    "### Hypervolume"
   ]
  },
  {
   "cell_type": "markdown",
   "metadata": {},
   "source": [
    "Now that initial results have been produced and verified against expectations, enlarge evaluations and population size to produce increased optimization of results."
   ]
  },
  {
   "cell_type": "code",
   "execution_count": null,
   "metadata": {},
   "outputs": [],
   "source": [
    "results_2 = NSGAII(evaluator, evaluations=20, population_size=50)"
   ]
  },
  {
   "cell_type": "markdown",
   "metadata": {},
   "source": [
    "### Compare first run and second run"
   ]
  },
  {
   "cell_type": "code",
   "execution_count": null,
   "metadata": {},
   "outputs": [],
   "source": [
    "optres_2 = results_2.loc[results_2[\"pareto-optimal\"] == True, :]\n",
    "plt.plot(\n",
    "    optres[\"DistrictCooling:Facility\"], optres[\"DistrictHeating:Facility\"], \"bo\"\n",
    ")  # Plot first optimal results in blue\n",
    "plt.plot(\n",
    "    optres_2[\"DistrictCooling:Facility\"], optres_2[\"DistrictHeating:Facility\"], \"ro\"\n",
    ")  # Plot second optimal results in red\n",
    "plt.xlabel(\"Cooling demand\")\n",
    "plt.ylabel(\"Heating demand\")"
   ]
  },
  {
   "cell_type": "markdown",
   "metadata": {},
   "source": [
    "### Calculate the hypervolume"
   ]
  },
  {
   "cell_type": "code",
   "execution_count": null,
   "metadata": {
    "papermill": {
     "duration": 0.011312,
     "end_time": "2019-10-28T23:00:08.276573",
     "exception": false,
     "start_time": "2019-10-28T23:00:08.265261",
     "status": "completed"
    },
    "tags": []
   },
   "outputs": [],
   "source": [
    "reference_set = Archive()\n",
    "platypus_problem = evaluator.to_platypus()\n",
    "for _ in range(20):\n",
    "    solution = Solution(platypus_problem)\n",
    "    solution.variables = sampling.dist_sampler(\n",
    "        sampling.lhs, besos_problem, 1\n",
    "    ).values.tolist()[0]\n",
    "    solution.evaluate()\n",
    "    reference_set.add(solution)\n",
    "\n",
    "hyp = Hypervolume(reference_set)\n",
    "print(\n",
    "    \"Hypervolume for result 1:\",\n",
    "    hyp.calculate(df_solution_to_solutions(results, platypus_problem, besos_problem)),\n",
    ")\n",
    "print(\n",
    "    \"Hypervolume for result 2:\",\n",
    "    hyp.calculate(df_solution_to_solutions(results_2, platypus_problem, besos_problem)),\n",
    ")"
   ]
  }
 ],
 "metadata": {
  "kernelspec": {
   "display_name": "Python 3",
   "language": "python",
   "name": "python3"
  }
 },
 "nbformat": 4,
 "nbformat_minor": 4
}
