{
 "cells": [
  {
   "cell_type": "markdown",
   "metadata": {},
   "source": [
    "# We can save outputs of df_apply for EP evaluators"
   ]
  },
  {
   "cell_type": "code",
   "execution_count": null,
   "metadata": {
    "lines_to_end_of_cell_marker": 2
   },
   "outputs": [],
   "source": [
    "\n",
    "from besos import eppy_funcs as ef, sampling\n",
    "from besos.evaluator import EvaluatorEP\n",
    "from besos.objectives import MeterReader\n",
    "from besos.parameters import FieldSelector, Parameter, RangeParameter\n",
    "from besos.problem import EPProblem"
   ]
  },
  {
   "cell_type": "markdown",
   "metadata": {},
   "source": [
    "Create EP evaluator and do the sampling first"
   ]
  },
  {
   "cell_type": "code",
   "execution_count": null,
   "metadata": {},
   "outputs": [],
   "source": [
    "building = ef.get_building()\n",
    "EPparameters = [\n",
    "    Parameter(\n",
    "        FieldSelector(\"Lights\", \"*\", \"Watts per Zone Floor Area\"),\n",
    "        value_descriptor=RangeParameter(8, 12),\n",
    "        name=\"Lights Watts/Area\",\n",
    "    )\n",
    "]\n",
    "\n",
    "EPobjectives = MeterReader(\"Electricity:Facility\")\n",
    "problem = EPProblem(EPparameters, EPobjectives)\n",
    "evaluator = EvaluatorEP(problem, building, out_dir=\"outdir\")\n",
    "inputs = sampling.dist_sampler(sampling.lhs, problem, 3)\n",
    "inputs"
   ]
  },
  {
   "cell_type": "markdown",
   "metadata": {},
   "source": [
    "In order to keep outputs we can flag keep_dirs, and once keep_dirs has been flagged, there will be a folder be created with a randomed name to store all the output files.\n",
    "And there is an extra option called dest_folder to select which folder to store all the outputs folders or otherwise it will be saved to a folder call BESOS_Output as default."
   ]
  },
  {
   "cell_type": "code",
   "execution_count": null,
   "metadata": {},
   "outputs": [],
   "source": [
    "evaluator.df_apply(\n",
    "    inputs, keep_input=True, keep_dirs=True\n",
    ")  # flag keep_dirs to True to save all ouput"
   ]
  }
 ],
 "metadata": {
  "kernelspec": {
   "display_name": "Python 3",
   "language": "python",
   "name": "python3"
  }
 },
 "nbformat": 4,
 "nbformat_minor": 4
}
