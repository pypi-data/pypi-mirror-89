{
 "cells": [
  {
   "cell_type": "code",
   "execution_count": 2,
   "metadata": {},
   "outputs": [
    {
     "name": "stdout",
     "output_type": "stream",
     "text": [
      "Help on function sheet in module mitosheet.example:\n",
      "\n",
      "sheet(*args: List[pandas.core.frame.DataFrame]) -> mitosheet.example.MitoWidget\n",
      "    Renders a Mito sheet. If no arguments are passed, renders an empty sheet. Otherwise, renders\n",
      "    any dataframe that are passed. Errors if any given arguments are not dataframes.\n",
      "    \n",
      "    \n",
      "    TODO: say what to do when you didn't rebuild Jupyter Lab!\n",
      "\n"
     ]
    }
   ],
   "source": [
    "import mitosheet\n",
    "help(mitosheet.sheet)"
   ]
  },
  {
   "cell_type": "code",
   "execution_count": null,
   "metadata": {},
   "outputs": [],
   "source": []
  }
 ],
 "metadata": {
  "kernelspec": {
   "display_name": "Python 3",
   "language": "python",
   "name": "python3"
  },
  "language_info": {
   "codemirror_mode": {
    "name": "ipython",
    "version": 3
   },
   "file_extension": ".py",
   "mimetype": "text/x-python",
   "name": "python",
   "nbconvert_exporter": "python",
   "pygments_lexer": "ipython3",
   "version": "3.8.5"
  },
  "widgets": {
   "application/vnd.jupyter.widget-state+json": {
    "state": {},
    "version_major": 2,
    "version_minor": 0
   }
  }
 },
 "nbformat": 4,
 "nbformat_minor": 4
}
