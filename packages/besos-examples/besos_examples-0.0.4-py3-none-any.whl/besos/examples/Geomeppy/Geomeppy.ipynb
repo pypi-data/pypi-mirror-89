{
 "cells": [
  {
   "cell_type": "markdown",
   "metadata": {
    "papermill": {
     "duration": 0.017878,
     "end_time": "2019-10-28T22:51:36.287835",
     "exception": false,
     "start_time": "2019-10-28T22:51:36.269957",
     "status": "completed"
    },
    "tags": []
   },
   "source": [
    "# Introducing Geomeppy"
   ]
  },
  {
   "cell_type": "markdown",
   "metadata": {
    "papermill": {
     "duration": 0.007651,
     "end_time": "2019-10-28T22:51:36.310454",
     "exception": false,
     "start_time": "2019-10-28T22:51:36.302803",
     "status": "completed"
    },
    "tags": []
   },
   "source": [
    "By adding the Geomeppy library into BESOS, we can now modify the building with some simple functions.\n",
    "Some of the following examples are from [Geomeppy documentation](https://geomeppy.readthedocs.io/en/latest/index.html)."
   ]
  },
  {
   "cell_type": "code",
   "execution_count": null,
   "metadata": {
    "lines_to_next_cell": 2,
    "papermill": {
     "duration": 0.378837,
     "end_time": "2019-10-28T22:51:36.696044",
     "exception": false,
     "start_time": "2019-10-28T22:51:36.317207",
     "status": "completed"
    },
    "tags": []
   },
   "outputs": [],
   "source": [
    "from besos import eppy_funcs as ef"
   ]
  },
  {
   "cell_type": "markdown",
   "metadata": {
    "papermill": {
     "duration": 0.005944,
     "end_time": "2019-10-28T22:51:36.709835",
     "exception": false,
     "start_time": "2019-10-28T22:51:36.703891",
     "status": "completed"
    },
    "tags": []
   },
   "source": [
    "First we will get the building, and show a representation of the IDF. \\\n",
    "View_model() returns matplotlib.pyplot Figure and Axes objects."
   ]
  },
  {
   "cell_type": "code",
   "execution_count": null,
   "metadata": {},
   "outputs": [],
   "source": [
    "building = ef.get_building(\"t-shaped.exp.idf\")\n",
    "fig, ax = building.view_model()"
   ]
  },
  {
   "cell_type": "markdown",
   "metadata": {},
   "source": [
    "You can then modify the pyplot objects and save it."
   ]
  },
  {
   "cell_type": "code",
   "execution_count": null,
   "metadata": {},
   "outputs": [],
   "source": [
    "ax.set_zlim(0, 10)\n",
    "fig.savefig(\"building.png\")"
   ]
  },
  {
   "cell_type": "markdown",
   "metadata": {},
   "source": [
    "If the building is in relative coordinates you can convert it to world coordinates"
   ]
  },
  {
   "cell_type": "code",
   "execution_count": null,
   "metadata": {},
   "outputs": [],
   "source": [
    "building.relative_to_world_coords()"
   ]
  },
  {
   "cell_type": "markdown",
   "metadata": {
    "papermill": {
     "duration": 0.009035,
     "end_time": "2019-10-28T22:51:38.371680",
     "exception": false,
     "start_time": "2019-10-28T22:51:38.362645",
     "status": "completed"
    },
    "tags": []
   },
   "source": [
    "Now you can modify geomeppy.idf with geomeppy functions. First we’ll set window to wall ratio. By default, the set_wwr() will set WWR to 20%, you can also pass the spcific value by set_wwr(0.2) or set_wwr(wwr = 0.2)"
   ]
  },
  {
   "cell_type": "code",
   "execution_count": null,
   "metadata": {
    "papermill": {
     "duration": 0.04521,
     "end_time": "2019-10-28T22:51:38.424529",
     "exception": false,
     "start_time": "2019-10-28T22:51:38.379319",
     "status": "completed"
    },
    "tags": []
   },
   "outputs": [],
   "source": [
    "# The result will be the same\n",
    "building.set_wwr()\n",
    "building.set_wwr(0.2)\n",
    "building.set_wwr(wwr=0.2)"
   ]
  },
  {
   "cell_type": "markdown",
   "metadata": {
    "papermill": {
     "duration": 0.011975,
     "end_time": "2019-10-28T22:51:38.448160",
     "exception": false,
     "start_time": "2019-10-28T22:51:38.436185",
     "status": "completed"
    },
    "tags": []
   },
   "source": [
    "We can also set WWR for sepcific orientation."
   ]
  },
  {
   "cell_type": "code",
   "execution_count": null,
   "metadata": {
    "papermill": {
     "duration": 0.028038,
     "end_time": "2019-10-28T22:51:38.489282",
     "exception": false,
     "start_time": "2019-10-28T22:51:38.461244",
     "status": "completed"
    },
    "tags": []
   },
   "outputs": [],
   "source": [
    "\"\"\"Set no windows on all external walls with azimuth of 90, and WWR of 20% on other walls\"\"\"\n",
    "building.set_wwr(wwr_map={90: 0})\n",
    "\n",
    "\"\"\"Set a WWR of 30% for all external walls with azimuth of 90, and no windows on other walls \"\"\"\n",
    "building.set_wwr(wwr=0, wwr_map={90: 0.3})"
   ]
  },
  {
   "cell_type": "markdown",
   "metadata": {},
   "source": [
    "We can add overhangs"
   ]
  },
  {
   "cell_type": "code",
   "execution_count": null,
   "metadata": {},
   "outputs": [],
   "source": [
    "\"\"\" adds overhangs with a depth of 0.5m to all windows with tilt 90 degrees from surface\"\"\"\n",
    "building.add_overhangs(depth=0.5, tilt=90)\n",
    "\n",
    "\"\"\"adds overhang with a depth of 1.0m with tilt of 70 to east-facing windows\"\"\"\n",
    "building.add_overhangs(depth=1.0, tilt=70, orientation=\"east\")"
   ]
  },
  {
   "cell_type": "markdown",
   "metadata": {},
   "source": [
    "We can then remove windows and overhangs as well"
   ]
  },
  {
   "cell_type": "code",
   "execution_count": null,
   "metadata": {},
   "outputs": [],
   "source": [
    "\"\"\"removing all windows and shading from south-facing walls\"\"\"\n",
    "building.remove_shading(orientation=\"south\")\n",
    "building.remove_windows(\"south\")\n",
    "fig, ax = building.view_model()\n",
    "\"\"\"removing all windows and shading\"\"\"\n",
    "building.remove_shading()\n",
    "building.remove_windows()\n",
    "fig, ax = building.view_model()"
   ]
  },
  {
   "cell_type": "markdown",
   "metadata": {
    "papermill": {
     "duration": 0.009502,
     "end_time": "2019-10-28T22:51:38.507541",
     "exception": false,
     "start_time": "2019-10-28T22:51:38.498039",
     "status": "completed"
    },
    "tags": []
   },
   "source": [
    "With newidfobject() function, we can add a new idfobject to the model. We will try to add a wall and use setcoords() to set the coordinates."
   ]
  },
  {
   "cell_type": "code",
   "execution_count": null,
   "metadata": {
    "papermill": {
     "duration": 0.16136,
     "end_time": "2019-10-28T22:51:38.676386",
     "exception": false,
     "start_time": "2019-10-28T22:51:38.515026",
     "status": "completed"
    },
    "tags": []
   },
   "outputs": [],
   "source": [
    "wall = building.newidfobject(\n",
    "    \"BUILDINGSURFACE:DETAILED\", Name=\"AWall\", Surface_Type=\"wall\",\n",
    ")\n",
    "wall.setcoords([(0, 30, 15), (0, 30, 0), (20, 30, 0), (20, 30, 15)])\n",
    "fig, ax = building.view_model()"
   ]
  },
  {
   "cell_type": "markdown",
   "metadata": {
    "papermill": {
     "duration": 0.008165,
     "end_time": "2019-10-28T22:51:38.694832",
     "exception": false,
     "start_time": "2019-10-28T22:51:38.686667",
     "status": "completed"
    },
    "tags": []
   },
   "source": [
    "Add a huge box to the model."
   ]
  },
  {
   "cell_type": "code",
   "execution_count": null,
   "metadata": {
    "papermill": {
     "duration": 0.20189,
     "end_time": "2019-10-28T22:51:38.907300",
     "exception": false,
     "start_time": "2019-10-28T22:51:38.705410",
     "status": "completed"
    },
    "tags": []
   },
   "outputs": [],
   "source": [
    "building.add_block(\n",
    "    name=\"AHugeBox\", coordinates=[(30, 25), (30, 30), (25, 30), (25, 25)], height=10\n",
    ")\n",
    "fig, ax = building.view_model()"
   ]
  },
  {
   "cell_type": "markdown",
   "metadata": {
    "papermill": {
     "duration": 0.012846,
     "end_time": "2019-10-28T22:51:38.935445",
     "exception": false,
     "start_time": "2019-10-28T22:51:38.922599",
     "status": "completed"
    },
    "tags": []
   },
   "source": [
    "We can output a .obj file in order to view the model in other software or website, such as [3D viewer](https://3dviewer.net/)."
   ]
  },
  {
   "cell_type": "code",
   "execution_count": null,
   "metadata": {
    "papermill": {
     "duration": 0.074779,
     "end_time": "2019-10-28T22:51:39.021379",
     "exception": false,
     "start_time": "2019-10-28T22:51:38.946600",
     "status": "completed"
    },
    "tags": []
   },
   "outputs": [],
   "source": [
    "building.to_obj(\"building.obj\")"
   ]
  }
 ],
 "metadata": {
  "jupytext": {
   "encoding": "# -*- coding: utf-8 -*-"
  },
  "kernelspec": {
   "display_name": "Python 3",
   "language": "python",
   "name": "python3"
  }
 },
 "nbformat": 4,
 "nbformat_minor": 4
}
