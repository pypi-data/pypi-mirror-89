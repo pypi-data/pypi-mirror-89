{
 "cells": [
  {
   "cell_type": "code",
   "execution_count": null,
   "metadata": {
    "lines_to_next_cell": 2,
    "papermill": {
     "duration": 0.490091,
     "end_time": "2019-10-28T23:04:43.163821",
     "exception": false,
     "start_time": "2019-10-28T23:04:42.673730",
     "status": "completed"
    },
    "tags": []
   },
   "outputs": [],
   "source": [
    "import sqlite3\n",
    "\n",
    "import pandas as pd\n",
    "from matplotlib import pyplot as plt"
   ]
  },
  {
   "cell_type": "markdown",
   "metadata": {
    "papermill": {
     "duration": 0.01007,
     "end_time": "2019-10-28T23:04:43.181548",
     "exception": false,
     "start_time": "2019-10-28T23:04:43.171478",
     "status": "completed"
    },
    "tags": []
   },
   "source": [
    "# Visualize eplusout.sql"
   ]
  },
  {
   "cell_type": "code",
   "execution_count": null,
   "metadata": {
    "papermill": {
     "duration": 0.013111,
     "end_time": "2019-10-28T23:04:43.201752",
     "exception": false,
     "start_time": "2019-10-28T23:04:43.188641",
     "status": "completed"
    },
    "tags": []
   },
   "outputs": [],
   "source": [
    "# Connect to SQL\n",
    "sql_path = \"eplusout.sql\"\n",
    "conn = sqlite3.connect(sql_path)\n",
    "\n",
    "# Define Queries\n",
    "def select_all_from_table(table_name):\n",
    "    q = \"SELECT * FROM {}\".format(table_name)\n",
    "    return pd.read_sql(q, conn)\n",
    "\n",
    "\n",
    "def select_tabular_report(report_name, table_name=None):\n",
    "    q = \"SELECT * FROM TabularDataWithStrings WHERE ReportName='{}'\".format(report_name)\n",
    "    if table_name:\n",
    "        q = q + \" and TableName='{}'\".format(table_name)\n",
    "    return pd.read_sql(q, conn)\n",
    "\n",
    "\n",
    "def select_tables():\n",
    "    query = \"SELECT name FROM sqlite_master WHERE type='table';\"\n",
    "    return pd.read_sql(query, conn)"
   ]
  },
  {
   "cell_type": "code",
   "execution_count": null,
   "metadata": {
    "papermill": {
     "duration": 0.012199,
     "end_time": "2019-10-28T23:04:43.220627",
     "exception": false,
     "start_time": "2019-10-28T23:04:43.208428",
     "status": "completed"
    },
    "tags": []
   },
   "outputs": [],
   "source": [
    "# helper functions\n",
    "def gj_to_kwh(gj):\n",
    "    return gj * 277.8\n",
    "\n",
    "\n",
    "def j_to_kwh(j):\n",
    "    return j * 2.77778e-7\n",
    "\n",
    "\n",
    "def get_total_floor_area():\n",
    "    z = select_all_from_table(\"Zones\")\n",
    "    return z[\"FloorArea\"].sum()"
   ]
  },
  {
   "cell_type": "markdown",
   "metadata": {
    "papermill": {
     "duration": 0.006192,
     "end_time": "2019-10-28T23:04:43.233177",
     "exception": false,
     "start_time": "2019-10-28T23:04:43.226985",
     "status": "completed"
    },
    "tags": []
   },
   "source": [
    "## SHOW TABLES"
   ]
  },
  {
   "cell_type": "code",
   "execution_count": null,
   "metadata": {
    "lines_to_next_cell": 2,
    "papermill": {
     "duration": 0.088493,
     "end_time": "2019-10-28T23:04:43.328265",
     "exception": false,
     "start_time": "2019-10-28T23:04:43.239772",
     "status": "completed"
    },
    "tags": []
   },
   "outputs": [],
   "source": [
    "tables = select_tables()\n",
    "tables.name.values"
   ]
  },
  {
   "cell_type": "markdown",
   "metadata": {
    "papermill": {
     "duration": 0.006847,
     "end_time": "2019-10-28T23:04:43.342937",
     "exception": false,
     "start_time": "2019-10-28T23:04:43.336090",
     "status": "completed"
    },
    "tags": []
   },
   "source": [
    "## PLOT END USES"
   ]
  },
  {
   "cell_type": "code",
   "execution_count": null,
   "metadata": {
    "papermill": {
     "duration": 0.851501,
     "end_time": "2019-10-28T23:04:44.201309",
     "exception": false,
     "start_time": "2019-10-28T23:04:43.349808",
     "status": "completed"
    },
    "tags": []
   },
   "outputs": [],
   "source": [
    "\n",
    "\n",
    "def plot_end_uses():\n",
    "    end_uses = select_tabular_report(\n",
    "        \"AnnualBuildingUtilityPerformanceSummary\", \"End Uses\"\n",
    "    )\n",
    "\n",
    "    # Preprocess dataframe\n",
    "    end_uses[\"Value\"] = pd.to_numeric(end_uses[\"Value\"])\n",
    "    end_uses[\"Value\"] = end_uses[\"Value\"].apply(gj_to_kwh)\n",
    "    floor_area = get_total_floor_area()\n",
    "    end_uses[\"Value\"] = end_uses[\"Value\"] / floor_area\n",
    "\n",
    "    end_uses = end_uses.drop(columns=[\"TabularDataIndex\"])\n",
    "    total_end_uses = end_uses[end_uses[\"RowName\"] == \"Total End Uses\"]\n",
    "    end_uses_only = end_uses[\n",
    "        (end_uses[\"RowName\"] == \"Cooling\")\n",
    "        | (end_uses[\"RowName\"] == \"Interior Equipment\")\n",
    "        | (end_uses[\"RowName\"] == \"Heating\")\n",
    "    ]\n",
    "\n",
    "    fig, axes = plt.subplots(\n",
    "        1, 2, sharey=True, gridspec_kw={\"width_ratios\": [2, 1]}, figsize=(20, 7)\n",
    "    )\n",
    "\n",
    "    axes[0].set_ylabel(\"Energy Use (kWh/$m^2$)\", fontsize=15)\n",
    "\n",
    "    # plot by type\n",
    "    end_uses_pivot = end_uses_only.pivot(\n",
    "        index=\"ColumnName\", columns=\"RowName\", values=\"Value\"\n",
    "    )\n",
    "    end_uses_pivot.plot.bar(stacked=True, ax=axes[0])\n",
    "\n",
    "    # plot total\n",
    "    total_end_uses_pivot = total_end_uses.pivot(\n",
    "        index=\"ReportName\", columns=\"ColumnName\", values=\"Value\"\n",
    "    )\n",
    "    return total_end_uses_pivot.plot.bar(stacked=True, ax=axes[1])\n",
    "\n",
    "\n",
    "end_uses_plot = plot_end_uses()"
   ]
  },
  {
   "cell_type": "markdown",
   "metadata": {
    "papermill": {
     "duration": 0.007754,
     "end_time": "2019-10-28T23:04:44.217633",
     "exception": false,
     "start_time": "2019-10-28T23:04:44.209879",
     "status": "completed"
    },
    "tags": []
   },
   "source": [
    "## PLOT TIME SERIES"
   ]
  },
  {
   "cell_type": "code",
   "execution_count": null,
   "metadata": {
    "papermill": {
     "duration": 0.284705,
     "end_time": "2019-10-28T23:04:44.510348",
     "exception": false,
     "start_time": "2019-10-28T23:04:44.225643",
     "status": "completed"
    },
    "tags": []
   },
   "outputs": [],
   "source": [
    "time = select_all_from_table(\"Time\")\n",
    "time.head()"
   ]
  },
  {
   "cell_type": "code",
   "execution_count": null,
   "metadata": {
    "papermill": {
     "duration": 0.023568,
     "end_time": "2019-10-28T23:04:44.542649",
     "exception": false,
     "start_time": "2019-10-28T23:04:44.519081",
     "status": "completed"
    },
    "tags": []
   },
   "outputs": [],
   "source": [
    "report_dict = select_all_from_table(\"ReportDataDictionary\")\n",
    "report_dict.head()"
   ]
  },
  {
   "cell_type": "code",
   "execution_count": null,
   "metadata": {
    "papermill": {
     "duration": 0.420756,
     "end_time": "2019-10-28T23:04:44.971767",
     "exception": false,
     "start_time": "2019-10-28T23:04:44.551011",
     "status": "completed"
    },
    "tags": []
   },
   "outputs": [],
   "source": [
    "report = select_all_from_table(\"ReportData\")\n",
    "report.head()"
   ]
  },
  {
   "cell_type": "code",
   "execution_count": null,
   "metadata": {
    "papermill": {
     "duration": 1.718472,
     "end_time": "2019-10-28T23:04:46.700850",
     "exception": false,
     "start_time": "2019-10-28T23:04:44.982378",
     "status": "completed"
    },
    "tags": []
   },
   "outputs": [],
   "source": [
    "reporting_frequencies = [\"Zone Timestep\", \"Hourly\", \"Daily\", \"Monthly\"]\n",
    "index_groups = [\n",
    "    \"Facility:DistrictHeating\",\n",
    "    \"Facility:Electricity\",\n",
    "    \"Zone\",\n",
    "    \"Facility:DistrictCooling\",\n",
    "]\n",
    "\n",
    "\n",
    "def zero_index_minutes(row):\n",
    "    minute = row[\"Minute\"]\n",
    "    hour = row[\"Hour\"]\n",
    "\n",
    "    minute_new = minute\n",
    "    return row\n",
    "\n",
    "\n",
    "def index_time_series(df, frequency):\n",
    "    if frequency == \"Monthly\":\n",
    "        df[\"Date\"] = pd.to_datetime(\n",
    "            df[\"Year\"].astype(str) + \"/\" + df[\"Month\"].astype(str) + \"/01\"\n",
    "        )\n",
    "    elif frequency == \"Daily\":\n",
    "        df[\"Date\"] = pd.to_datetime(\n",
    "            df[\"Year\"].astype(str)\n",
    "            + \"/\"\n",
    "            + df[\"Month\"].astype(str)\n",
    "            + \"/\"\n",
    "            + df[\"Day\"].astype(str)\n",
    "        )\n",
    "    elif frequency == \"Hourly\":\n",
    "        df[\"Hour\"] = df[\"Hour\"] - 1\n",
    "        df[\"Date\"] = pd.to_datetime(\n",
    "            df[\"Year\"].astype(str)\n",
    "            + \"/\"\n",
    "            + df[\"Month\"].astype(str)\n",
    "            + \"/\"\n",
    "            + df[\"Day\"].astype(str)\n",
    "            + \" \"\n",
    "            + df[\"Hour\"].astype(str)\n",
    "            + \":00\"\n",
    "        )\n",
    "    else:\n",
    "        df[\"Minute\"] = df[\"Minute\"] - 10\n",
    "        df.loc[df.Minute < 0, \"Hour\"] = df.loc[df.Minute < 0, \"Hour\"] - 1\n",
    "        df.loc[df.Minute < 0, \"Minute\"] = 50\n",
    "\n",
    "        df[\"Date\"] = pd.to_datetime(\n",
    "            df[\"Year\"].astype(str)\n",
    "            + \"/\"\n",
    "            + df[\"Month\"].astype(str)\n",
    "            + \"/\"\n",
    "            + df[\"Day\"].astype(str)\n",
    "            + \" \"\n",
    "            + df[\"Hour\"].astype(str)\n",
    "            + \":\"\n",
    "            + df[\"Minute\"].astype(str)\n",
    "        )\n",
    "\n",
    "    return df[\"Date\"]\n",
    "\n",
    "\n",
    "def select_time_series(reporting_frequency, index_group, convert_j=True):\n",
    "    q = (\n",
    "        \"SELECT * FROM ReportData as RD \"\n",
    "        \"JOIN ReportDataDictionary as RDD on RD.ReportDataDictionaryIndex = RDD.ReportDataDictionaryIndex \"\n",
    "        \"JOIN Time as T on T.TimeIndex = RD.TimeIndex \"\n",
    "        \"AND RDD.ReportingFrequency == '{}' \"\n",
    "        \"AND IndexGroup == '{}' \".format(reporting_frequency, index_group)\n",
    "    )\n",
    "\n",
    "    df = pd.read_sql(q, conn)\n",
    "    df.index = index_time_series(df, reporting_frequency)\n",
    "\n",
    "    df.Value = pd.to_numeric(df.Value)\n",
    "\n",
    "    if convert_j:\n",
    "        df.loc[df.Units == \"J\", \"Value\"] = df.loc[df.Units == \"J\", \"Value\"].apply(\n",
    "            j_to_kwh\n",
    "        )\n",
    "        df.loc[df.Units == \"J\", \"Units\"] = \"kWh\"\n",
    "    return df\n",
    "\n",
    "\n",
    "heating_time_series = select_time_series(\"Zone Timestep\", \"Facility:DistrictHeating\")\n",
    "cooling_time_series = select_time_series(\"Zone Timestep\", \"Facility:DistrictCooling\")"
   ]
  },
  {
   "cell_type": "code",
   "execution_count": null,
   "metadata": {
    "papermill": {
     "duration": 1.439232,
     "end_time": "2019-10-28T23:04:48.150504",
     "exception": false,
     "start_time": "2019-10-28T23:04:46.711272",
     "status": "completed"
    },
    "tags": []
   },
   "outputs": [],
   "source": [
    "print(\n",
    "    \"Total Heating (kWh/m2)\",\n",
    "    heating_time_series[\"Value\"].sum() / get_total_floor_area(),\n",
    ")\n",
    "heating_time_series[\"Value\"].plot(figsize=(30, 10), title=\"District Heating\")"
   ]
  },
  {
   "cell_type": "code",
   "execution_count": null,
   "metadata": {
    "papermill": {
     "duration": 1.24685,
     "end_time": "2019-10-28T23:04:49.408841",
     "exception": false,
     "start_time": "2019-10-28T23:04:48.161991",
     "status": "completed"
    },
    "tags": []
   },
   "outputs": [],
   "source": [
    "print(\n",
    "    \"Total Cooling (kWh/m2)\",\n",
    "    cooling_time_series[\"Value\"].sum() / get_total_floor_area(),\n",
    ")\n",
    "cooling_time_series[\"Value\"].plot(figsize=(30, 10), title=\"District Cooling\")"
   ]
  },
  {
   "cell_type": "code",
   "execution_count": null,
   "metadata": {
    "papermill": {
     "duration": 0.010467,
     "end_time": "2019-10-28T23:04:49.431231",
     "exception": false,
     "start_time": "2019-10-28T23:04:49.420764",
     "status": "completed"
    },
    "tags": []
   },
   "outputs": [],
   "source": []
  }
 ],
 "metadata": {
  "kernelspec": {
   "display_name": "Python 3",
   "language": "python",
   "name": "python3"
  }
 },
 "nbformat": 4,
 "nbformat_minor": 4
}
