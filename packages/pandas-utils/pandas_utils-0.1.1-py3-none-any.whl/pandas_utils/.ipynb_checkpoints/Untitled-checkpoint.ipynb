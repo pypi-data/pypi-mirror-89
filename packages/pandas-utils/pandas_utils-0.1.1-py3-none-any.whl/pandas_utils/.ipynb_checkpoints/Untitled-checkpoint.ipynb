{
 "cells": [
  {
   "cell_type": "code",
   "execution_count": 2,
   "metadata": {
    "execution": {
     "iopub.execute_input": "2020-12-21T19:36:34.195015Z",
     "iopub.status.busy": "2020-12-21T19:36:34.194834Z",
     "iopub.status.idle": "2020-12-21T19:36:34.198518Z",
     "shell.execute_reply": "2020-12-21T19:36:34.197750Z",
     "shell.execute_reply.started": "2020-12-21T19:36:34.194994Z"
    }
   },
   "outputs": [],
   "source": [
    "import pandas as pd\n",
    "from pandas_utils import groupcount_differences_between_rows"
   ]
  },
  {
   "cell_type": "code",
   "execution_count": null,
   "metadata": {},
   "outputs": [],
   "source": [
    "df1 = pd.Dataframe()\n",
    "\n",
    "groupcount_differences_between_rows"
   ]
  }
 ],
 "metadata": {
  "kernelspec": {
   "display_name": "pandas_cookbook",
   "language": "python",
   "name": "pandas_cookbook"
  },
  "language_info": {
   "codemirror_mode": {
    "name": "ipython",
    "version": 3
   },
   "file_extension": ".py",
   "mimetype": "text/x-python",
   "name": "python",
   "nbconvert_exporter": "python",
   "pygments_lexer": "ipython3",
   "version": "3.6.10"
  }
 },
 "nbformat": 4,
 "nbformat_minor": 4
}
