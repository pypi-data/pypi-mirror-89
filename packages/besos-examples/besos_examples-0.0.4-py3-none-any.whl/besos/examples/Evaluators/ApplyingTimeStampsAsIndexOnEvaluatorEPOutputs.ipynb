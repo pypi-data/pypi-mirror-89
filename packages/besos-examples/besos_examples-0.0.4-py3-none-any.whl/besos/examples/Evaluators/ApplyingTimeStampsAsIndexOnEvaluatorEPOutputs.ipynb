{
 "cells": [
  {
   "cell_type": "markdown",
   "metadata": {
    "papermill": {
     "duration": 0.010929,
     "end_time": "2019-10-28T22:48:57.979350",
     "exception": false,
     "start_time": "2019-10-28T22:48:57.968421",
     "status": "completed"
    },
    "tags": []
   },
   "source": [
    "# Applying  TimeStamp Dates on EvaluatorEP Outputs\n"
   ]
  },
  {
   "cell_type": "code",
   "execution_count": null,
   "metadata": {
    "lines_to_next_cell": 2,
    "papermill": {
     "duration": 1.094455,
     "end_time": "2019-10-28T22:48:59.082797",
     "exception": false,
     "start_time": "2019-10-28T22:48:57.988342",
     "status": "completed"
    },
    "tags": []
   },
   "outputs": [],
   "source": [
    "import eppy\n",
    "import numpy as np\n",
    "import pandas as pd\n",
    "import pvlib\n",
    "from besos import config, eppy_funcs as ef, objectives\n",
    "from besos.evaluator import EvaluatorEP\n",
    "from besos.objectives import MeterReader\n",
    "from besos.parameters import FieldSelector, Parameter, RangeParameter\n",
    "from besos.problem import EPProblem"
   ]
  },
  {
   "cell_type": "markdown",
   "metadata": {
    "papermill": {
     "duration": 0.009044,
     "end_time": "2019-10-28T22:48:59.100459",
     "exception": false,
     "start_time": "2019-10-28T22:48:59.091415",
     "status": "completed"
    },
    "tags": []
   },
   "source": [
    "## Recovering the dates for the index\n",
    "\n",
    "### Different modes of inputs\n",
    "\n",
    "As the EnergyPlus version currently used on Besos supports both IDF files that turn into eppy models and IDF files that turn into JSON examples of both are provided below along with their corresponding epw files."
   ]
  },
  {
   "cell_type": "code",
   "execution_count": null,
   "metadata": {
    "papermill": {
     "duration": 1.073723,
     "end_time": "2019-10-28T22:49:00.183344",
     "exception": false,
     "start_time": "2019-10-28T22:48:59.109621",
     "status": "completed"
    },
    "tags": []
   },
   "outputs": [],
   "source": [
    "epw_file_JSON = config.files[\"epw\"]\n",
    "epw_file_IDF = \"USA_IL_Chicago-OHare.Intl.AP.725300_TMY3.epw\"\n",
    "building_JSON = ef.get_building()\n",
    "building_IDF = ef.get_building(building=\"RefBldgWarehouseNew2004_Chicago.idf\")\n",
    "\n",
    "building = building_IDF\n",
    "epw_file = epw_file_IDF"
   ]
  },
  {
   "cell_type": "markdown",
   "metadata": {
    "papermill": {
     "duration": 0.008969,
     "end_time": "2019-10-28T22:49:00.200651",
     "exception": false,
     "start_time": "2019-10-28T22:49:00.191682",
     "status": "completed"
    },
    "tags": []
   },
   "source": [
    "### Getting Annual Timestamps from EPW\n",
    "\n",
    "The annual timestamps that are associated with the results of the evaluator can be pulled from the EPW file"
   ]
  },
  {
   "cell_type": "code",
   "execution_count": null,
   "metadata": {
    "papermill": {
     "duration": 0.092547,
     "end_time": "2019-10-28T22:49:00.302317",
     "exception": false,
     "start_time": "2019-10-28T22:49:00.209770",
     "status": "completed"
    },
    "tags": []
   },
   "outputs": [],
   "source": [
    "df, metadata = pvlib.iotools.read_epw(epw_file)\n",
    "\n",
    "df2 = df.reset_index()\n",
    "df2[\"index\"]"
   ]
  },
  {
   "cell_type": "markdown",
   "metadata": {
    "papermill": {
     "duration": 0.007538,
     "end_time": "2019-10-28T22:49:00.318484",
     "exception": false,
     "start_time": "2019-10-28T22:49:00.310946",
     "status": "completed"
    },
    "tags": []
   },
   "source": [
    "### Getting Sizing Period Dates and merging with EPW Dates\n",
    "\n",
    "It is possible that the idf has been set to run the simulation across sizing periods. If so those design days dates are grabed from the IDF and hourly timestamps are generated to match the timestamps from the EPW. The design days are the first outputed in the results so the EPW timestamps are appended after teh design days."
   ]
  },
  {
   "cell_type": "code",
   "execution_count": null,
   "metadata": {
    "papermill": {
     "duration": 0.114632,
     "end_time": "2019-10-28T22:49:00.443112",
     "exception": false,
     "start_time": "2019-10-28T22:49:00.328480",
     "status": "completed"
    },
    "tags": []
   },
   "outputs": [],
   "source": [
    "date_index = []\n",
    "\n",
    "if type(building) == dict:\n",
    "    # There can be multiple simulation controls for some reason but rarely is this used and we don't use it.\n",
    "    #     for simulation in building['SimulationControl']:\n",
    "    #         if(building['SimulationControl'][simulation]['run_simulation_for_sizing_periods'] == 'Yes'):\\\n",
    "    #         print(simulation + ' Uses design days')\n",
    "    if (\n",
    "        building[\"SimulationControl\"][\"SimulationControl 1\"][\n",
    "            \"run_simulation_for_sizing_periods\"\n",
    "        ]\n",
    "        == \"Yes\"\n",
    "    ):\n",
    "        for design_day in building[\"SizingPeriod:DesignDay\"]:\n",
    "            day = building[\"SizingPeriod:DesignDay\"][design_day][\"day_of_month\"]\n",
    "            month = building[\"SizingPeriod:DesignDay\"][design_day][\"month\"]\n",
    "            for hour in range(24):\n",
    "                date_index.append(\n",
    "                    pd.Timestamp(year=1900, month=month, day=day, hour=hour)\n",
    "                )\n",
    "\n",
    "elif type(building) == eppy.modeleditor.IDF:\n",
    "    # There can be multiple simulation controls for some reason but rarely is this used and we don't use it.\n",
    "    #     for i, simulation in enumerate(building.idfobjects['SIMULATIONCONTROL']):\n",
    "    #         if(simulation.Run_Simulation_for_Sizing_Periods == 'YES'):\n",
    "    #             print('SimulationControl ' + str(i+1) + ' Uses design days')\n",
    "    if (\n",
    "        building.idfobjects[\"SIMULATIONCONTROL\"][0].Run_Simulation_for_Sizing_Periods\n",
    "        == \"YES\"\n",
    "    ):\n",
    "        for j, design_day in enumerate(\n",
    "            building_IDF.idfobjects[\"SIZINGPERIOD:DESIGNDAY\"]\n",
    "        ):\n",
    "            day = design_day.Day_of_Month\n",
    "            month = design_day.Month\n",
    "            for hour in range(24):\n",
    "                date_index.append(\n",
    "                    pd.Timestamp(year=1900, month=month, day=day, hour=hour)\n",
    "                )\n",
    "\n",
    "epw_datelist = df.index.tolist()\n",
    "date_index.extend(epw_datelist)\n",
    "dates = pd.DataFrame(date_index)"
   ]
  },
  {
   "cell_type": "markdown",
   "metadata": {
    "papermill": {
     "duration": 0.009289,
     "end_time": "2019-10-28T22:49:00.464629",
     "exception": false,
     "start_time": "2019-10-28T22:49:00.455340",
     "status": "completed"
    },
    "tags": []
   },
   "source": [
    "## Creating and running a single input of an Evaluator"
   ]
  },
  {
   "cell_type": "code",
   "execution_count": null,
   "metadata": {
    "lines_to_next_cell": 2,
    "papermill": {
     "duration": 11.649827,
     "end_time": "2019-10-28T22:49:12.123807",
     "exception": false,
     "start_time": "2019-10-28T22:49:00.473980",
     "status": "completed"
    },
    "tags": []
   },
   "outputs": [],
   "source": [
    "EPparameters = [\n",
    "    Parameter(\n",
    "        FieldSelector(\"Lights\", \"*\", \"Watts per Zone Floor Area\"),\n",
    "        value_descriptor=RangeParameter(8, 12),\n",
    "        name=\"Lights Watts/Area\",\n",
    "    )\n",
    "]\n",
    "EPobjectives = [\n",
    "    MeterReader(\"Electricity:Facility\", func=objectives.time_series_values),\n",
    "    MeterReader(\"Gas:Facility\", func=objectives.time_series_values),\n",
    "]\n",
    "problem = EPProblem(EPparameters, EPobjectives)\n",
    "evaluator = EvaluatorEP(problem, building)\n",
    "result = evaluator([8])"
   ]
  },
  {
   "cell_type": "markdown",
   "metadata": {
    "papermill": {
     "duration": 0.007155,
     "end_time": "2019-10-28T22:49:12.139491",
     "exception": false,
     "start_time": "2019-10-28T22:49:12.132336",
     "status": "completed"
    },
    "tags": []
   },
   "source": [
    "### Applying dates to the single result\n",
    "\n",
    "Each objective in a single result is outputted in a tuple. Each element of the tuple is a Pandas Series. To ensure the output format is unchanged the result is iterated through, the dates are applied as the index, and then the results are converted back to a series and combined back in a tuple."
   ]
  },
  {
   "cell_type": "code",
   "execution_count": null,
   "metadata": {
    "papermill": {
     "duration": 0.021299,
     "end_time": "2019-10-28T22:49:12.168406",
     "exception": false,
     "start_time": "2019-10-28T22:49:12.147107",
     "status": "completed"
    },
    "tags": []
   },
   "outputs": [],
   "source": [
    "dated_output = ()\n",
    "for output in result:\n",
    "    output_frame = output.to_frame()\n",
    "    df = dates.merge(output_frame, left_index=True, right_index=True).set_index(0)\n",
    "    del df.index.name\n",
    "    ds = df.squeeze()\n",
    "    dated_output = dated_output + (ds,)"
   ]
  },
  {
   "cell_type": "code",
   "execution_count": null,
   "metadata": {
    "papermill": {
     "duration": 0.016717,
     "end_time": "2019-10-28T22:49:12.193754",
     "exception": false,
     "start_time": "2019-10-28T22:49:12.177037",
     "status": "completed"
    },
    "tags": []
   },
   "outputs": [],
   "source": [
    "dated_output"
   ]
  },
  {
   "cell_type": "markdown",
   "metadata": {
    "papermill": {
     "duration": 0.007732,
     "end_time": "2019-10-28T22:49:12.209623",
     "exception": false,
     "start_time": "2019-10-28T22:49:12.201891",
     "status": "completed"
    },
    "tags": []
   },
   "source": [
    "## Running a df_apply of the Evaluator"
   ]
  },
  {
   "cell_type": "code",
   "execution_count": null,
   "metadata": {
    "papermill": {
     "duration": 48.398359,
     "end_time": "2019-10-28T22:50:00.615859",
     "exception": false,
     "start_time": "2019-10-28T22:49:12.217500",
     "status": "completed"
    },
    "tags": []
   },
   "outputs": [],
   "source": [
    "df_input = pd.DataFrame(np.array([[8], [9], [10], [11]]), columns=[\"p1\"])\n",
    "results = evaluator.df_apply(df_input)"
   ]
  },
  {
   "cell_type": "code",
   "execution_count": null,
   "metadata": {
    "papermill": {
     "duration": 0.033496,
     "end_time": "2019-10-28T22:50:00.660322",
     "exception": false,
     "start_time": "2019-10-28T22:50:00.626826",
     "status": "completed"
    },
    "tags": []
   },
   "outputs": [],
   "source": [
    "results"
   ]
  },
  {
   "cell_type": "markdown",
   "metadata": {
    "papermill": {
     "duration": 0.009065,
     "end_time": "2019-10-28T22:50:00.678663",
     "exception": false,
     "start_time": "2019-10-28T22:50:00.669598",
     "status": "completed"
    },
    "tags": []
   },
   "source": [
    "### Applying Dates to df_apply results\n",
    "\n",
    "When the evaluator is called with df_apply the results are in a Pandas Dataframe. Each cell is an objective's Pandas Series. To ensure the output format is unchanged each cell is iterated across and the dates are applied as the index. Then the results are converted back to a series and the cell is updated with that series."
   ]
  },
  {
   "cell_type": "code",
   "execution_count": null,
   "metadata": {
    "papermill": {
     "duration": 0.03954,
     "end_time": "2019-10-28T22:50:00.728516",
     "exception": false,
     "start_time": "2019-10-28T22:50:00.688976",
     "status": "completed"
    },
    "tags": []
   },
   "outputs": [],
   "source": [
    "for x, key in enumerate(results):\n",
    "    for y, output in enumerate(results[key]):\n",
    "        output_frame = output.to_frame()\n",
    "        df = dates.merge(output_frame, left_index=True, right_index=True).set_index(0)\n",
    "        del df.index.name\n",
    "        ds = df.squeeze()\n",
    "        results.iat[y, x] = ds"
   ]
  },
  {
   "cell_type": "code",
   "execution_count": null,
   "metadata": {
    "papermill": {
     "duration": 0.042143,
     "end_time": "2019-10-28T22:50:00.782962",
     "exception": false,
     "start_time": "2019-10-28T22:50:00.740819",
     "status": "completed"
    },
    "tags": []
   },
   "outputs": [],
   "source": [
    "results"
   ]
  },
  {
   "cell_type": "code",
   "execution_count": null,
   "metadata": {
    "papermill": {
     "duration": 0.009445,
     "end_time": "2019-10-28T22:50:00.802023",
     "exception": false,
     "start_time": "2019-10-28T22:50:00.792578",
     "status": "completed"
    },
    "tags": []
   },
   "outputs": [],
   "source": []
  }
 ],
 "metadata": {
  "kernelspec": {
   "display_name": "Python 3",
   "language": "python",
   "name": "python3"
  }
 },
 "nbformat": 4,
 "nbformat_minor": 4
}
