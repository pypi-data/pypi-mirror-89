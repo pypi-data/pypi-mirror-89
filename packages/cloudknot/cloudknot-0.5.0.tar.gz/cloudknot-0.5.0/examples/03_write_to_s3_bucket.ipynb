{
 "cells": [
  {
   "cell_type": "markdown",
   "metadata": {},
   "source": [
    "# Using cloudknot to batch write files to an S3 bucket"
   ]
  },
  {
   "cell_type": "markdown",
   "metadata": {},
   "source": [
    "This example uses cloudknot to write files to an Amazon S3 bucket. Note that cloudknot usually returns output to the user, using Amazon S3 as an intermediary. But sometimes you might want to leave your data on S3 without transfering it back to your local machine. In that case, use the following example as a guide."
   ]
  },
  {
   "cell_type": "code",
   "execution_count": 1,
   "metadata": {},
   "outputs": [],
   "source": [
    "import cloudknot as ck"
   ]
  },
  {
   "cell_type": "markdown",
   "metadata": {},
   "source": [
    "First, we write the python script that we want to run on AWS batch. Note that we import the necessary python packages within the function `write_to_bucket`. You should change the `bucket_name` to the S3 bucket that you would like to write to. Since our function returns `None`, it minimizes the content added to your cloudknot S3 bucket."
   ]
  },
  {
   "cell_type": "code",
   "execution_count": 2,
   "metadata": {},
   "outputs": [],
   "source": [
    "def write_to_bucket(index):\n",
    "    import boto3\n",
    "    import platform\n",
    "    \n",
    "    client = boto3.resource('s3')\n",
    "    \n",
    "    host = platform.node()\n",
    "    \n",
    "    fn = 'temp_{i:03d}.txt'.format(i=int(index))\n",
    "    with open(fn, 'w') as f:\n",
    "        f.write(\"Hello World from index {i:s} on host {host:s}!\".format(\n",
    "            i=str(index), host=host))\n",
    "\n",
    "    bucket_name = 'escience.washington.edu.public'\n",
    "    b = client.Bucket(bucket_name)\n",
    "    b.upload_file(fn, fn)"
   ]
  },
  {
   "cell_type": "markdown",
   "metadata": {},
   "source": [
    "By default, cloudknot does not attach any additional policies to its IAM roles. But since we are writing to an S3 bucket, we want our IAM roles to have S3 access. So we add that to the roles in the PARS that our knot is based on.\n",
    "\n",
    "Create a knot using the `write_to_bucket` function and the \"AmazonS3FullAccess\" policy."
   ]
  },
  {
   "cell_type": "code",
   "execution_count": 3,
   "metadata": {},
   "outputs": [],
   "source": [
    "knot = ck.Knot(name='write-to-s3-bucket-2',\n",
    "               func=write_to_bucket,\n",
    "               base_image=\"python:3.7\",\n",
    "               pars_policies=('AmazonS3FullAccess',))"
   ]
  },
  {
   "cell_type": "markdown",
   "metadata": {},
   "source": [
    "Submit 10 batch jobs to the knot."
   ]
  },
  {
   "cell_type": "code",
   "execution_count": 4,
   "metadata": {},
   "outputs": [],
   "source": [
    "result_futures = knot.map(range(10))"
   ]
  },
  {
   "cell_type": "markdown",
   "metadata": {},
   "source": [
    "We can query the jobs associated with this knot by calling `knot.view_jobs()`, prints a bunch of job info and provides a consice summary of job statuses."
   ]
  },
  {
   "cell_type": "code",
   "execution_count": 5,
   "metadata": {},
   "outputs": [
    {
     "name": "stdout",
     "output_type": "stream",
     "text": [
      "Job ID              Name                        Status   \n",
      "---------------------------------------------------------\n",
      "c49bdc96-7b49-45d5-886c-8c22dbfad38d        write-to-s3-bucket-2-0        SUBMITTED\n"
     ]
    }
   ],
   "source": [
    "# Rerun this cell as often as you like to update your job status info\n",
    "knot.view_jobs()"
   ]
  },
  {
   "cell_type": "markdown",
   "metadata": {},
   "source": [
    "To check the results, you can login to the S3 console page at https://s3.console.aws.amazon.com/s3/home. Verify that cloudknot created a bunch of text files in your S3 bucket."
   ]
  },
  {
   "cell_type": "markdown",
   "metadata": {},
   "source": [
    "Once you're all done, clobber the knot, including the underlying PARS, local docker image, and the remote repo."
   ]
  },
  {
   "cell_type": "code",
   "execution_count": 6,
   "metadata": {},
   "outputs": [],
   "source": [
    "knot.clobber(clobber_pars=True, clobber_repo=True, clobber_image=True)"
   ]
  },
  {
   "cell_type": "code",
   "execution_count": null,
   "metadata": {},
   "outputs": [],
   "source": []
  }
 ],
 "metadata": {
  "kernelspec": {
   "display_name": "Python 3",
   "language": "python",
   "name": "python3"
  },
  "language_info": {
   "codemirror_mode": {
    "name": "ipython",
    "version": 3
   },
   "file_extension": ".py",
   "mimetype": "text/x-python",
   "name": "python",
   "nbconvert_exporter": "python",
   "pygments_lexer": "ipython3",
   "version": "3.7.2"
  }
 },
 "nbformat": 4,
 "nbformat_minor": 2
}
