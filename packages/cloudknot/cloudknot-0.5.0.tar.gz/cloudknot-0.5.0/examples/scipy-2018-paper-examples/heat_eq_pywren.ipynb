{
 "cells": [
  {
   "cell_type": "code",
   "execution_count": 22,
   "metadata": {},
   "outputs": [],
   "source": [
    "import cloudknot as ck\n",
    "import numpy as np\n",
    "import pandas as pd # for pd.to_datetime and the timedelta type\n",
    "import pickle # to save results\n",
    "import pywren\n",
    "\n",
    "from functools import partial\n",
    "from time import sleep"
   ]
  },
  {
   "cell_type": "markdown",
   "metadata": {},
   "source": [
    "`pywren`'s `get_logs()` method prints the logs and also returns them. We wanted to silence the printing so we use the following `nostdout` context."
   ]
  },
  {
   "cell_type": "code",
   "execution_count": 2,
   "metadata": {},
   "outputs": [],
   "source": [
    "import contextlib\n",
    "import sys\n",
    "\n",
    "class DummyFile(object):\n",
    "    def write(self, x): pass\n",
    "\n",
    "@contextlib.contextmanager\n",
    "def nostdout():\n",
    "    save_stdout = sys.stdout\n",
    "    sys.stdout = DummyFile()\n",
    "    yield\n",
    "    sys.stdout = save_stdout"
   ]
  },
  {
   "cell_type": "code",
   "execution_count": 25,
   "metadata": {},
   "outputs": [],
   "source": [
    "def solve_heateq_2d(t_top=100.0, t_bottom=0.0,\n",
    "                    t_left=0.0, t_right=0.0, side_len=10,\n",
    "                    max_iter=10000, rtol=1e-4, atol=1e-7):\n",
    "    \"\"\"Solve steady-state 2D heat equation by Gauss-Seidel Method\n",
    "    \n",
    "    This is a pedagogical or benchmarking tool only. There are\n",
    "    better ways to solve the 2D heat equation if that's all you\n",
    "    want. There are even better ways to implement Gauss-Seidel.\n",
    "    \n",
    "    Parameters\n",
    "    ----------\n",
    "    max_iter : int, default=10000\n",
    "        Maximum iteration number for Gauss-Seidel Method\n",
    "        \n",
    "    t_top : float, default=100.0\n",
    "        Dirichlet boundary condition for the top of the plate\n",
    "\n",
    "    t_bottom : float, default=0.0\n",
    "        Dirichlet boundary condition for the bottom of the plate\n",
    "    \n",
    "    t_left : float, default=0.0\n",
    "        Dirichlet boundary condition for the left of the plate\n",
    "    \n",
    "    t_right : float, default=0.0\n",
    "        Dirichlet boundary condition for the right of the plate\n",
    "\n",
    "    side_len : int, default=10\n",
    "        Number of points on one side of the 2D grid\n",
    "        \n",
    "    rtol : float, default=1e-4\n",
    "        Relative convergence tolerence for early exit of Gauss-Seidel loop\n",
    "\n",
    "    atol : float, default=1e-7\n",
    "        Absolute convergence tolerence for early exit of Gauss-Seidel loop\n",
    "        \n",
    "    Returns\n",
    "    -------\n",
    "    collections.namedtuple\n",
    "        namedtuple with elements\n",
    "        temp - final temperature\n",
    "        iteration - convergence iteration number\n",
    "            (or max_iter if convergence not reached)\n",
    "    \"\"\"\n",
    "    import numpy as np\n",
    "    from collections import namedtuple\n",
    "    \n",
    "    # Initial guess of interior grid\n",
    "    t_init = np.mean([t_top, t_bottom, t_left, t_right])\n",
    "\n",
    "    # Create grid of temps\n",
    "    t = np.ones((side_len, side_len), dtype=np.float64) * t_init\n",
    "\n",
    "    # Set Boundary condition\n",
    "    t[-1, :] = t_top\n",
    "    t[0, :] = t_bottom\n",
    "    t[:, -1] = t_right\n",
    "    t[:, 0] = t_left\n",
    "    \n",
    "    # Gauss-Seidel Loop\n",
    "    t_old = np.copy(t)\n",
    "    for iteration in range(0, max_iter):\n",
    "        for i in range(1, side_len-1):\n",
    "            for j in range(1, side_len-1):\n",
    "                t[i, j] = 0.25 * (t[i+1][j] + t[i-1][j] + t[i][j+1] + t[i][j-1])\n",
    "\n",
    "        if np.allclose(t, t_old):\n",
    "            break\n",
    "        else:\n",
    "            t_old = np.copy(t)\n",
    "    \n",
    "    return {'temperature': t, 'iteration': iteration}"
   ]
  },
  {
   "cell_type": "code",
   "execution_count": 26,
   "metadata": {},
   "outputs": [],
   "source": [
    "def solve_heateq_2d_ttop_arg(t_top):\n",
    "    return solve_heateq_2d(t_top=t_top)\n",
    "\n",
    "heateq_solver = {}\n",
    "side_lens = np.array([10, 25, 50, 100, 125, 150, 175])\n",
    "for side_len in side_lens:\n",
    "    heateq_solver[side_len] = partial(solve_heateq_2d, side_len=side_len)"
   ]
  },
  {
   "cell_type": "code",
   "execution_count": 7,
   "metadata": {},
   "outputs": [],
   "source": [
    "def get_max_execution_time(logs):\n",
    "    start_times = pd.to_datetime([\n",
    "        list(filter(\n",
    "            lambda s: 'invocation started' in s[1],\n",
    "            log\n",
    "        ))[0][1].split('\\t')[1]\n",
    "        for log in logs\n",
    "    ])\n",
    "    \n",
    "    end_times = pd.to_datetime([\n",
    "        list(filter(\n",
    "            lambda s: 'command execution finished' in s[1], \n",
    "            log\n",
    "        ))[0][1].split('\\t')[1]\n",
    "        for log in logs\n",
    "    ])\n",
    "    \n",
    "    return end_times.max() - start_times.min()"
   ]
  },
  {
   "cell_type": "code",
   "execution_count": 8,
   "metadata": {},
   "outputs": [],
   "source": [
    "def logs_ready(logs):\n",
    "    return all([any(['command execution finished' in tup[1] for tup in log]) for log in logs])"
   ]
  },
  {
   "cell_type": "code",
   "execution_count": 10,
   "metadata": {},
   "outputs": [
    {
     "name": "stdout",
     "output_type": "stream",
     "text": [
      "npoints = 2\n",
      "Waiting for logs to catch up...\n",
      "Waiting for logs to catch up...\n",
      "npoints = 4\n",
      "npoints = 8\n",
      "npoints = 16\n",
      "Waiting for logs to catch up...\n",
      "npoints = 32\n",
      "Waiting for logs to catch up...\n",
      "npoints = 64\n",
      "Waiting for logs to catch up...\n",
      "npoints = 128\n",
      "npoints = 256\n",
      "npoints = 512\n",
      "npoints = 1024\n",
      "npoints = 2048\n",
      "npoints = 4096\n"
     ]
    }
   ],
   "source": [
    "execution_times = {}\n",
    "for npoints in np.power(2, np.arange(1, 13)):\n",
    "    wrenexec = pywren.default_executor()\n",
    "    print('npoints = {npoints:d}'.format(npoints=int(npoints)))\n",
    "    args = np.linspace(0, 100, int(npoints))\n",
    "    futures = wrenexec.map(solve_heateq_2d_ttop_arg, args)\n",
    "    pywren.get_all_results(futures)\n",
    "    with nostdout():\n",
    "        logs = [wrenexec.get_logs(f) for f in futures]\n",
    "    while not logs_ready(logs):\n",
    "        sleep(5)\n",
    "        print('Waiting for logs to catch up...')\n",
    "        with nostdout():\n",
    "            logs = [wrenexec.get_logs(f) for f in futures]\n",
    "\n",
    "    execution_times[npoints] = get_max_execution_time(logs)"
   ]
  },
  {
   "cell_type": "code",
   "execution_count": 14,
   "metadata": {},
   "outputs": [
    {
     "data": {
      "text/plain": [
       "[{'max_job_time': Timedelta('0 days 00:00:02.291000'), 'npoints': 2},\n",
       " {'max_job_time': Timedelta('0 days 00:00:16.520000'), 'npoints': 4},\n",
       " {'max_job_time': Timedelta('0 days 00:00:17.443000'), 'npoints': 8},\n",
       " {'max_job_time': Timedelta('0 days 00:00:22.162000'), 'npoints': 16},\n",
       " {'max_job_time': Timedelta('0 days 00:00:19.345000'), 'npoints': 32},\n",
       " {'max_job_time': Timedelta('0 days 00:00:20.482000'), 'npoints': 64},\n",
       " {'max_job_time': Timedelta('0 days 00:00:22.035000'), 'npoints': 128},\n",
       " {'max_job_time': Timedelta('0 days 00:00:22.102000'), 'npoints': 256},\n",
       " {'max_job_time': Timedelta('0 days 00:00:14.131000'), 'npoints': 512},\n",
       " {'max_job_time': Timedelta('0 days 00:00:26.163000'), 'npoints': 1024},\n",
       " {'max_job_time': Timedelta('0 days 00:00:38.583000'), 'npoints': 2048},\n",
       " {'max_job_time': Timedelta('0 days 00:01:27.600000'), 'npoints': 4096}]"
      ]
     },
     "execution_count": 14,
     "metadata": {},
     "output_type": "execute_result"
    }
   ],
   "source": [
    "pywren_nargs_scaling = []\n",
    "for npoints in execution_times.keys():\n",
    "    pywren_nargs_scaling.append({\n",
    "        'npoints': npoints,\n",
    "        'max_job_time': execution_times[npoints]\n",
    "    })\n",
    "pywren_nargs_scaling"
   ]
  },
  {
   "cell_type": "code",
   "execution_count": 15,
   "metadata": {},
   "outputs": [],
   "source": [
    "with open('pywren_nargs_scaling.pkl', 'wb') as fp:\n",
    "    pickle.dump(pywren_nargs_scaling, fp)"
   ]
  },
  {
   "cell_type": "code",
   "execution_count": 27,
   "metadata": {},
   "outputs": [
    {
     "name": "stdout",
     "output_type": "stream",
     "text": [
      "npoints = 10\n",
      "Waiting for logs to catch up...\n",
      "Waiting for logs to catch up...\n",
      "npoints = 25\n",
      "Waiting for logs to catch up...\n",
      "Waiting for logs to catch up...\n",
      "npoints = 50\n",
      "Waiting for logs to catch up...\n",
      "npoints = 100\n",
      "npoints = 125\n",
      "npoints = 150\n"
     ]
    },
    {
     "ename": "Exception",
     "evalue": "process ran out of time",
     "output_type": "error",
     "traceback": [
      "\u001b[0;31m---------------------------------------------------------------------------\u001b[0m",
      "\u001b[0;31mException\u001b[0m                                 Traceback (most recent call last)",
      "\u001b[0;32m<ipython-input-27-2e9145cf4469>\u001b[0m in \u001b[0;36m<module>\u001b[0;34m()\u001b[0m\n\u001b[1;32m      5\u001b[0m     \u001b[0margs\u001b[0m \u001b[0;34m=\u001b[0m \u001b[0mnp\u001b[0m\u001b[0;34m.\u001b[0m\u001b[0mlinspace\u001b[0m\u001b[0;34m(\u001b[0m\u001b[0;36m0\u001b[0m\u001b[0;34m,\u001b[0m \u001b[0;36m100\u001b[0m\u001b[0;34m,\u001b[0m \u001b[0;36m5\u001b[0m\u001b[0;34m)\u001b[0m\u001b[0;34m\u001b[0m\u001b[0m\n\u001b[1;32m      6\u001b[0m     \u001b[0mfutures\u001b[0m \u001b[0;34m=\u001b[0m \u001b[0mwrenexec\u001b[0m\u001b[0;34m.\u001b[0m\u001b[0mmap\u001b[0m\u001b[0;34m(\u001b[0m\u001b[0mheateq_solver\u001b[0m\u001b[0;34m[\u001b[0m\u001b[0mnpoints\u001b[0m\u001b[0;34m]\u001b[0m\u001b[0;34m,\u001b[0m \u001b[0margs\u001b[0m\u001b[0;34m)\u001b[0m\u001b[0;34m\u001b[0m\u001b[0m\n\u001b[0;32m----> 7\u001b[0;31m     \u001b[0mpywren\u001b[0m\u001b[0;34m.\u001b[0m\u001b[0mget_all_results\u001b[0m\u001b[0;34m(\u001b[0m\u001b[0mfutures\u001b[0m\u001b[0;34m)\u001b[0m\u001b[0;34m\u001b[0m\u001b[0m\n\u001b[0m\u001b[1;32m      8\u001b[0m     \u001b[0;32mwith\u001b[0m \u001b[0mnostdout\u001b[0m\u001b[0;34m(\u001b[0m\u001b[0;34m)\u001b[0m\u001b[0;34m:\u001b[0m\u001b[0;34m\u001b[0m\u001b[0m\n\u001b[1;32m      9\u001b[0m         \u001b[0mlogs\u001b[0m \u001b[0;34m=\u001b[0m \u001b[0;34m[\u001b[0m\u001b[0mwrenexec\u001b[0m\u001b[0;34m.\u001b[0m\u001b[0mget_logs\u001b[0m\u001b[0;34m(\u001b[0m\u001b[0mf\u001b[0m\u001b[0;34m)\u001b[0m \u001b[0;32mfor\u001b[0m \u001b[0mf\u001b[0m \u001b[0;32min\u001b[0m \u001b[0mfutures\u001b[0m\u001b[0;34m]\u001b[0m\u001b[0;34m\u001b[0m\u001b[0m\n",
      "\u001b[0;32m~/anaconda/envs/cloudknot-dev/lib/python3.6/site-packages/pywren/wren.py\u001b[0m in \u001b[0;36mget_all_results\u001b[0;34m(fs)\u001b[0m\n\u001b[1;32m     68\u001b[0m     \"\"\"\n\u001b[1;32m     69\u001b[0m     \u001b[0mwait\u001b[0m\u001b[0;34m(\u001b[0m\u001b[0mfs\u001b[0m\u001b[0;34m,\u001b[0m \u001b[0mreturn_when\u001b[0m\u001b[0;34m=\u001b[0m\u001b[0mALL_COMPLETED\u001b[0m\u001b[0;34m)\u001b[0m\u001b[0;34m\u001b[0m\u001b[0m\n\u001b[0;32m---> 70\u001b[0;31m     \u001b[0;32mreturn\u001b[0m \u001b[0;34m[\u001b[0m\u001b[0mf\u001b[0m\u001b[0;34m.\u001b[0m\u001b[0mresult\u001b[0m\u001b[0;34m(\u001b[0m\u001b[0;34m)\u001b[0m \u001b[0;32mfor\u001b[0m \u001b[0mf\u001b[0m \u001b[0;32min\u001b[0m \u001b[0mfs\u001b[0m\u001b[0;34m]\u001b[0m\u001b[0;34m\u001b[0m\u001b[0m\n\u001b[0m",
      "\u001b[0;32m~/anaconda/envs/cloudknot-dev/lib/python3.6/site-packages/pywren/wren.py\u001b[0m in \u001b[0;36m<listcomp>\u001b[0;34m(.0)\u001b[0m\n\u001b[1;32m     68\u001b[0m     \"\"\"\n\u001b[1;32m     69\u001b[0m     \u001b[0mwait\u001b[0m\u001b[0;34m(\u001b[0m\u001b[0mfs\u001b[0m\u001b[0;34m,\u001b[0m \u001b[0mreturn_when\u001b[0m\u001b[0;34m=\u001b[0m\u001b[0mALL_COMPLETED\u001b[0m\u001b[0;34m)\u001b[0m\u001b[0;34m\u001b[0m\u001b[0m\n\u001b[0;32m---> 70\u001b[0;31m     \u001b[0;32mreturn\u001b[0m \u001b[0;34m[\u001b[0m\u001b[0mf\u001b[0m\u001b[0;34m.\u001b[0m\u001b[0mresult\u001b[0m\u001b[0;34m(\u001b[0m\u001b[0;34m)\u001b[0m \u001b[0;32mfor\u001b[0m \u001b[0mf\u001b[0m \u001b[0;32min\u001b[0m \u001b[0mfs\u001b[0m\u001b[0;34m]\u001b[0m\u001b[0;34m\u001b[0m\u001b[0m\n\u001b[0m",
      "\u001b[0;32m~/anaconda/envs/cloudknot-dev/lib/python3.6/site-packages/pywren/future.py\u001b[0m in \u001b[0;36mresult\u001b[0;34m(self, timeout, check_only, throw_except, storage_handler)\u001b[0m\n\u001b[1;32m    147\u001b[0m             \u001b[0;32melif\u001b[0m \u001b[0mexception_args\u001b[0m\u001b[0;34m[\u001b[0m\u001b[0;36m0\u001b[0m\u001b[0;34m]\u001b[0m \u001b[0;34m==\u001b[0m \u001b[0;34m\"OUTATIME\"\u001b[0m\u001b[0;34m:\u001b[0m\u001b[0;34m\u001b[0m\u001b[0m\n\u001b[1;32m    148\u001b[0m                 \u001b[0;32mif\u001b[0m \u001b[0mthrow_except\u001b[0m\u001b[0;34m:\u001b[0m\u001b[0;34m\u001b[0m\u001b[0m\n\u001b[0;32m--> 149\u001b[0;31m                     \u001b[0;32mraise\u001b[0m \u001b[0mException\u001b[0m\u001b[0;34m(\u001b[0m\u001b[0;34m\"process ran out of time\"\u001b[0m\u001b[0;34m)\u001b[0m\u001b[0;34m\u001b[0m\u001b[0m\n\u001b[0m\u001b[1;32m    150\u001b[0m                 \u001b[0;32mreturn\u001b[0m \u001b[0;32mNone\u001b[0m\u001b[0;34m\u001b[0m\u001b[0m\n\u001b[1;32m    151\u001b[0m             \u001b[0;32melse\u001b[0m\u001b[0;34m:\u001b[0m\u001b[0;34m\u001b[0m\u001b[0m\n",
      "\u001b[0;31mException\u001b[0m: process ran out of time"
     ]
    }
   ],
   "source": [
    "execution_times = {}\n",
    "for side_len in side_lens:\n",
    "    wrenexec = pywren.default_executor()\n",
    "    print('side_len = {sl:d}'.format(sl=int(side_len)))\n",
    "    args = np.linspace(0, 100, 5)\n",
    "    futures = wrenexec.map(heateq_solver[side_len], args)\n",
    "    pywren.get_all_results(futures)\n",
    "    with nostdout():\n",
    "        logs = [wrenexec.get_logs(f) for f in futures]\n",
    "    while not logs_ready(logs):\n",
    "        sleep(5)\n",
    "        print('Waiting for logs to catch up...')\n",
    "        with nostdout():\n",
    "            logs = [wrenexec.get_logs(f) for f in futures]\n",
    "\n",
    "    execution_times[side_len] = get_max_execution_time(logs)"
   ]
  },
  {
   "cell_type": "code",
   "execution_count": 29,
   "metadata": {},
   "outputs": [
    {
     "data": {
      "text/plain": [
       "[{'max_job_time': Timedelta('0 days 00:00:02.337000'), 'side_len': 10},\n",
       " {'max_job_time': Timedelta('0 days 00:00:02.545000'), 'side_len': 25},\n",
       " {'max_job_time': Timedelta('0 days 00:00:12.680000'), 'side_len': 50},\n",
       " {'max_job_time': Timedelta('0 days 00:02:06.445000'), 'side_len': 100},\n",
       " {'max_job_time': Timedelta('0 days 00:04:30.665000'), 'side_len': 125}]"
      ]
     },
     "execution_count": 29,
     "metadata": {},
     "output_type": "execute_result"
    }
   ],
   "source": [
    "pywren_syssize_scaling = []\n",
    "for side_len in execution_times.keys():\n",
    "    pywren_syssize_scaling.append({\n",
    "        'side_len': side_len,\n",
    "        'max_job_time': execution_times[side_len]\n",
    "    })\n",
    "pywren_syssize_scaling"
   ]
  },
  {
   "cell_type": "code",
   "execution_count": 30,
   "metadata": {},
   "outputs": [],
   "source": [
    "with open('pywren_syssize_scaling.pkl', 'wb') as fp:\n",
    "    pickle.dump(pywren_syssize_scaling, fp)"
   ]
  },
  {
   "cell_type": "code",
   "execution_count": null,
   "metadata": {},
   "outputs": [],
   "source": []
  }
 ],
 "metadata": {
  "kernelspec": {
   "display_name": "Python (cloudknot-dev)",
   "language": "python",
   "name": "cloudknot-dev"
  },
  "language_info": {
   "codemirror_mode": {
    "name": "ipython",
    "version": 3
   },
   "file_extension": ".py",
   "mimetype": "text/x-python",
   "name": "python",
   "nbconvert_exporter": "python",
   "pygments_lexer": "ipython3",
   "version": "3.6.3"
  }
 },
 "nbformat": 4,
 "nbformat_minor": 2
}
