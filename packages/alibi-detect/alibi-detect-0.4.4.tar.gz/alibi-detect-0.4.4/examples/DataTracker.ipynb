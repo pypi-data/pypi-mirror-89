{
 "cells": [
  {
   "cell_type": "markdown",
   "metadata": {},
   "source": [
    "# Data Tracker usage example on tabular data"
   ]
  },
  {
   "cell_type": "code",
   "execution_count": 1,
   "metadata": {},
   "outputs": [],
   "source": [
    "from sklearn.datasets import load_wine\n",
    "from alibi_detect.metrics import DataTracker"
   ]
  },
  {
   "cell_type": "markdown",
   "metadata": {},
   "source": [
    "## Load dataset\n",
    "We fetch the [wine dataset](https://scikit-learn.org/stable/modules/generated/sklearn.datasets.load_wine.html#sklearn.datasets.load_wine)."
   ]
  },
  {
   "cell_type": "code",
   "execution_count": 2,
   "metadata": {},
   "outputs": [
    {
     "name": "stdout",
     "output_type": "stream",
     "text": [
      "(178, 13)\n"
     ]
    }
   ],
   "source": [
    "data = load_wine()\n",
    "X = data.data\n",
    "print(X.shape)"
   ]
  },
  {
   "cell_type": "markdown",
   "metadata": {},
   "source": [
    "## Initialize `DataTracker` object"
   ]
  },
  {
   "cell_type": "code",
   "execution_count": 3,
   "metadata": {},
   "outputs": [],
   "source": [
    "dt = DataTracker(n_features=X.shape[1])"
   ]
  },
  {
   "cell_type": "markdown",
   "metadata": {},
   "source": [
    "## Simulate updating data\n",
    "The `DataTracker` supports batch updating, so we can simulate a sequence of events by passing a batch of the dataset to the `update` function."
   ]
  },
  {
   "cell_type": "code",
   "execution_count": 4,
   "metadata": {},
   "outputs": [],
   "source": [
    "dt.update(X[:50,:])"
   ]
  },
  {
   "cell_type": "markdown",
   "metadata": {},
   "source": [
    "## Inspect metrics\n",
    "We can use the `get` function to receive data metrics held by the `DataTracker`. We can choose to have these serialized (False by default) which would convert all `numpy` types to Python native types."
   ]
  },
  {
   "cell_type": "code",
   "execution_count": 5,
   "metadata": {},
   "outputs": [],
   "source": [
    "stats = dt.get(serialize=False)"
   ]
  },
  {
   "cell_type": "markdown",
   "metadata": {},
   "source": [
    "Stats contains the ```mean```, ```variance``` and ```median``` values by feature as well as a ```histogram``` for each feature."
   ]
  },
  {
   "cell_type": "code",
   "execution_count": 6,
   "metadata": {},
   "outputs": [
    {
     "name": "stdout",
     "output_type": "stream",
     "text": [
      "\n",
      "Feature 1\n",
      "mean: 13.76 -- variance: 0.23 -- median: 13.68\n",
      "\n",
      "Feature 2\n",
      "mean: 2.06 -- variance: 0.54 -- median: 1.79\n",
      "\n",
      "Feature 3\n",
      "mean: 2.46 -- variance: 0.05 -- median: 2.41\n",
      "\n",
      "Feature 4\n",
      "mean: 17.16 -- variance: 6.76 -- median: 17.33\n",
      "\n",
      "Feature 5\n",
      "mean: 106.00 -- variance: 113.18 -- median: 102.97\n",
      "\n",
      "Feature 6\n",
      "mean: 2.81 -- variance: 0.10 -- median: 2.81\n",
      "\n",
      "Feature 7\n",
      "mean: 2.95 -- variance: 0.16 -- median: 2.91\n",
      "\n",
      "Feature 8\n",
      "mean: 0.30 -- variance: 0.00 -- median: 0.29\n",
      "\n",
      "Feature 9\n",
      "mean: 1.87 -- variance: 0.17 -- median: 1.86\n",
      "\n",
      "Feature 10\n",
      "mean: 5.37 -- variance: 1.61 -- median: 5.03\n",
      "\n",
      "Feature 11\n",
      "mean: 1.07 -- variance: 0.01 -- median: 1.07\n",
      "\n",
      "Feature 12\n",
      "mean: 3.17 -- variance: 0.14 -- median: 3.18\n",
      "\n",
      "Feature 13\n",
      "mean: 1102.84 -- variance: 54384.30 -- median: 1055.54\n"
     ]
    }
   ],
   "source": [
    "for k, v in stats.items():\n",
    "    print('\\nFeature {}'.format(k+1))\n",
    "    print('mean: {:.2f} -- variance: {:.2f} -- median: {:.2f}'.format(v['mean'], v['variance'], v['median']))"
   ]
  },
  {
   "cell_type": "markdown",
   "metadata": {},
   "source": [
    "We can update these metrics with new data:"
   ]
  },
  {
   "cell_type": "code",
   "execution_count": 7,
   "metadata": {},
   "outputs": [
    {
     "name": "stdout",
     "output_type": "stream",
     "text": [
      "\n",
      "Feature 1\n",
      "mean: 13.00 -- variance: 0.66 -- median: 12.97\n",
      "\n",
      "Feature 2\n",
      "mean: 2.34 -- variance: 1.25 -- median: 2.03\n",
      "\n",
      "Feature 3\n",
      "mean: 2.37 -- variance: 0.08 -- median: 2.34\n",
      "\n",
      "Feature 4\n",
      "mean: 19.49 -- variance: 11.15 -- median: 19.56\n",
      "\n",
      "Feature 5\n",
      "mean: 99.74 -- variance: 203.99 -- median: 96.60\n",
      "\n",
      "Feature 6\n",
      "mean: 2.30 -- variance: 0.39 -- median: 2.28\n",
      "\n",
      "Feature 7\n",
      "mean: 2.03 -- variance: 1.00 -- median: 2.04\n",
      "\n",
      "Feature 8\n",
      "mean: 0.36 -- variance: 0.02 -- median: 0.35\n",
      "\n",
      "Feature 9\n",
      "mean: 1.59 -- variance: 0.33 -- median: 1.56\n",
      "\n",
      "Feature 10\n",
      "mean: 5.06 -- variance: 5.37 -- median: 4.63\n",
      "\n",
      "Feature 11\n",
      "mean: 0.96 -- variance: 0.05 -- median: 0.96\n",
      "\n",
      "Feature 12\n",
      "mean: 2.61 -- variance: 0.50 -- median: 2.73\n",
      "\n",
      "Feature 13\n",
      "mean: 746.89 -- variance: 99166.72 -- median: 678.04\n"
     ]
    }
   ],
   "source": [
    "dt.update(X[50:,:])\n",
    "stats = dt.get(serialize=False)\n",
    "\n",
    "for k, v in stats.items():\n",
    "    print('\\nFeature {}'.format(k+1))\n",
    "    print('mean: {:.2f} -- variance: {:.2f} -- median: {:.2f}'.format(v['mean'], v['variance'], v['median']))"
   ]
  }
 ],
 "metadata": {
  "kernelspec": {
   "display_name": "Python 3",
   "language": "python",
   "name": "python3"
  },
  "language_info": {
   "codemirror_mode": {
    "name": "ipython",
    "version": 3
   },
   "file_extension": ".py",
   "mimetype": "text/x-python",
   "name": "python",
   "nbconvert_exporter": "python",
   "pygments_lexer": "ipython3",
   "version": "3.6.9"
  }
 },
 "nbformat": 4,
 "nbformat_minor": 2
}
