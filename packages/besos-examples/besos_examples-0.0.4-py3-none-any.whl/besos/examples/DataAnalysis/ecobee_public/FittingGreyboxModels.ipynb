{
 "cells": [
  {
   "cell_type": "markdown",
   "metadata": {
    "papermill": {
     "duration": 0.012675,
     "end_time": "2019-10-28T22:48:49.506986",
     "exception": false,
     "start_time": "2019-10-28T22:48:49.494311",
     "status": "completed"
    },
    "tags": []
   },
   "source": [
    "# Run the Gray Box Models\n",
    "\n",
    "This notebook and associated files implement the methods used in a paper applying grey-box models to building temperature data to estimate building characteristics (R values, thermal capacitance, heating system power).\n",
    "This noteboook is provided so that the code used in the paper can be run and tested with different datasets. For privacy reasons, we provide only a small subset of the ecobee data. To run with your own data, upload it to `data/raw_data`.\n",
    "The directory `scripts` contains the Python code used to implement the model, which we load below.\n",
    "_Note that if you change a .py file loaded in this way, you must restart the kernel to see the impact._"
   ]
  },
  {
   "cell_type": "code",
   "execution_count": null,
   "metadata": {
    "lines_to_next_cell": 2,
    "papermill": {
     "duration": 0.530529,
     "end_time": "2019-10-28T22:48:50.050286",
     "exception": false,
     "start_time": "2019-10-28T22:48:49.519757",
     "status": "completed"
    },
    "tags": []
   },
   "outputs": [],
   "source": [
    "\n",
    "from scripts.analysis import run_analysis\n",
    "from scripts.run_all import run_all_methods"
   ]
  },
  {
   "cell_type": "markdown",
   "metadata": {
    "papermill": {
     "duration": 0.004974,
     "end_time": "2019-10-28T22:48:50.061155",
     "exception": false,
     "start_time": "2019-10-28T22:48:50.056181",
     "status": "completed"
    },
    "tags": []
   },
   "source": [
    "### 1. Setup the data filters"
   ]
  },
  {
   "cell_type": "markdown",
   "metadata": {
    "papermill": {
     "duration": 0.004404,
     "end_time": "2019-10-28T22:48:50.070243",
     "exception": false,
     "start_time": "2019-10-28T22:48:50.065839",
     "status": "completed"
    },
    "tags": []
   },
   "source": [
    "The variables in [scripts/filters.py](scripts/filters.py) indicate how the data will be filtered for each method. The filters that are chosen have a significant effect on the final model results. In order to test how these filters are working, change the values in the [scripts/filters.py](scripts/filters.py) file. A description of each of these filters is given in the paper that accompanies this notebook."
   ]
  },
  {
   "cell_type": "markdown",
   "metadata": {
    "papermill": {
     "duration": 0.004361,
     "end_time": "2019-10-28T22:48:50.079268",
     "exception": false,
     "start_time": "2019-10-28T22:48:50.074907",
     "status": "completed"
    },
    "tags": []
   },
   "source": [
    "### 2. Run the model fitting for all buildings"
   ]
  },
  {
   "cell_type": "markdown",
   "metadata": {
    "papermill": {
     "duration": 0.004222,
     "end_time": "2019-10-28T22:48:50.087841",
     "exception": false,
     "start_time": "2019-10-28T22:48:50.083619",
     "status": "completed"
    },
    "tags": []
   },
   "source": [
    "This code will run all the methods accross all the buildings. The results will be saved in `data/model_fitting`.\n",
    "Be careful not to overwrite your results.\n",
    "A .csv with all the parameters for this run will also be saved."
   ]
  },
  {
   "cell_type": "code",
   "execution_count": null,
   "metadata": {
    "papermill": {
     "duration": 2.966086,
     "end_time": "2019-10-28T22:48:53.058156",
     "exception": false,
     "start_time": "2019-10-28T22:48:50.092070",
     "status": "completed"
    },
    "tags": []
   },
   "outputs": [],
   "source": [
    "results_dir = run_all_methods()"
   ]
  },
  {
   "cell_type": "markdown",
   "metadata": {
    "papermill": {
     "duration": 0.005424,
     "end_time": "2019-10-28T22:48:53.069473",
     "exception": false,
     "start_time": "2019-10-28T22:48:53.064049",
     "status": "completed"
    },
    "tags": []
   },
   "source": [
    "### 3. Run the model comparison analysis"
   ]
  },
  {
   "cell_type": "markdown",
   "metadata": {
    "papermill": {
     "duration": 0.004179,
     "end_time": "2019-10-28T22:48:53.078818",
     "exception": false,
     "start_time": "2019-10-28T22:48:53.074639",
     "status": "completed"
    },
    "tags": []
   },
   "source": [
    "This code will evaluate all the buildings and create a summary file with means, standard deviations etc.\n",
    "This file is then used by the notebooks below to visualize the results."
   ]
  },
  {
   "cell_type": "code",
   "execution_count": null,
   "metadata": {
    "papermill": {
     "duration": 0.04172,
     "end_time": "2019-10-28T22:48:53.124910",
     "exception": false,
     "start_time": "2019-10-28T22:48:53.083190",
     "status": "completed"
    },
    "tags": []
   },
   "outputs": [],
   "source": [
    "run_analysis(results_dir)"
   ]
  },
  {
   "cell_type": "markdown",
   "metadata": {
    "papermill": {
     "duration": 0.004817,
     "end_time": "2019-10-28T22:48:53.134847",
     "exception": false,
     "start_time": "2019-10-28T22:48:53.130030",
     "status": "completed"
    },
    "tags": []
   },
   "source": [
    "# Visualize the Results"
   ]
  },
  {
   "cell_type": "markdown",
   "metadata": {
    "papermill": {
     "duration": 0.00479,
     "end_time": "2019-10-28T22:48:53.144521",
     "exception": false,
     "start_time": "2019-10-28T22:48:53.139731",
     "status": "completed"
    },
    "tags": []
   },
   "source": [
    "+ [Balance Point Visualization](BalancePointVisualization.ipynb)\n",
    "+ [Decay Curves Visualization](DecayCurvesVisualization.ipynb)\n",
    "+ [Model Fitting Visualization](ModelFittingVisualization.ipynb)\n",
    "+ [Analyze Model Results](AnalyzeModelResults.ipynb) makes a comparison."
   ]
  },
  {
   "cell_type": "code",
   "execution_count": null,
   "metadata": {
    "papermill": {
     "duration": 0.004642,
     "end_time": "2019-10-28T22:48:53.154056",
     "exception": false,
     "start_time": "2019-10-28T22:48:53.149414",
     "status": "completed"
    },
    "tags": []
   },
   "outputs": [],
   "source": []
  }
 ],
 "metadata": {
  "kernelspec": {
   "display_name": "Python 3",
   "language": "python",
   "name": "python3"
  }
 },
 "nbformat": 4,
 "nbformat_minor": 4
}
