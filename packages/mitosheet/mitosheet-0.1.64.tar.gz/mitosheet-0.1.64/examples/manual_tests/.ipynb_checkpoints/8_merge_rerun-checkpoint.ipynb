{
 "cells": [
  {
   "cell_type": "code",
   "execution_count": null,
   "metadata": {},
   "outputs": [],
   "source": [
    "\"\"\"\n",
    "This file tests some repetitive merging functionality with Mito, where\n",
    "the merged sheet is then used as part of another merge\n",
    "\n",
    "Instructions:\n",
    "1. Run this cell\n",
    "2. Click the merge button in the toolbar and merge df1 and df2 together on Key1 and Key2, respectivly\n",
    "3. Check that a new sheet, df3, is created and that it contains only 4 rows. The first row should read: [A, 1, A, 5]. \n",
    "4. Rerun this cell. \n",
    "5. Check that the sheet, df3, is still there. \n",
    "6. In sheet df3, put the columns in the order Key1, Key2, value_df1, value_df2\n",
    "7. On Sheet df1, create a new column and set it equal to column Key1\n",
    "8. On Sheet df2, create a new column and set it equal to column Key2 \n",
    "9. On df3, create a new column and set it to =CONCAT(Key1, Key2)\n",
    "10. Take a look at each sheet, rerun the codeblock and make sure that each sheet did not change. Make sure you can edit the columns you made above. \n",
    "11. Open the Merge modal\n",
    "    1. Set First Sheet to df1\n",
    "    2. Set Second Sheet to df3\n",
    "    3. Check to make sure that the keys automatically updated to Key1 and Key1\n",
    "    4. Click Merge\n",
    "12. Check the new sheet exists. \n",
    "\"\"\"\n",
    "\n",
    "    \n",
    "import pandas as pd\n",
    "import mitosheet\n",
    "df1 = pd.DataFrame(data={'Key1': ['A', 'B', 'C', 'D'], 'value': [1,2,3,4]})\n",
    "df2 = pd.DataFrame(data={'Key2': ['A', 'A', 'B', 'B'], 'value': [5,6,7,8]})\n",
    "mitosheet.sheet(df1, df2)"
   ]
  }
 ],
 "metadata": {
  "kernelspec": {
   "display_name": "Python 3",
   "language": "python",
   "name": "python3"
  },
  "language_info": {
   "codemirror_mode": {
    "name": "ipython",
    "version": 3
   },
   "file_extension": ".py",
   "mimetype": "text/x-python",
   "name": "python",
   "nbconvert_exporter": "python",
   "pygments_lexer": "ipython3",
   "version": "3.8.5"
  },
  "widgets": {
   "application/vnd.jupyter.widget-state+json": {
    "state": {},
    "version_major": 2,
    "version_minor": 0
   }
  }
 },
 "nbformat": 4,
 "nbformat_minor": 4
}
