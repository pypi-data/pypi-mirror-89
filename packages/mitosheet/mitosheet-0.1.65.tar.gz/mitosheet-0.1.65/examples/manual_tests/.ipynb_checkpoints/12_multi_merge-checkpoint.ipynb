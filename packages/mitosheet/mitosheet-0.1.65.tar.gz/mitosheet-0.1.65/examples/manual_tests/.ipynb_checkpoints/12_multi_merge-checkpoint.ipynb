{
 "cells": [
  {
   "cell_type": "code",
   "execution_count": null,
   "metadata": {},
   "outputs": [],
   "source": [
    "\"\"\"\n",
    "This file should test merging mulitple times. \n",
    "\n",
    "Instructions:\n",
    "- Run this cell. \n",
    "- Open the merge modal. Set the merge keys to Key1 and Key2 respectively. Toggle all on df1 to only take df2's value column.\n",
    "- Press merge and make sure df3 has been created with the first row [A, 5, A].\n",
    "- Open the merge modal. Set the merge keys to Key1 and Key2 respectively. Toggle all on df2 to only take df1's value column.\n",
    "- Press merge and make sure df4 has been created with the first row as [A, 1, A].\n",
    "- Run the generated code cell, print df3, df4, make sure they are the same as the data in the sheet.\n",
    "\"\"\"\n",
    "import pandas as pd\n",
    "import mitosheet\n",
    "df1 = pd.DataFrame(data={'Key1': ['A', 'B', 'C', 'D'], 'value': [1,2,3,4]})\n",
    "df2 = pd.DataFrame(data={'Key2': ['A', 'A', 'B', 'B'], 'value': [5,6,7,8]})\n",
    "mitosheet.sheet(df1, df2)"
   ]
  }
 ],
 "metadata": {
  "kernelspec": {
   "display_name": "Python 3",
   "language": "python",
   "name": "python3"
  },
  "language_info": {
   "codemirror_mode": {
    "name": "ipython",
    "version": 3
   },
   "file_extension": ".py",
   "mimetype": "text/x-python",
   "name": "python",
   "nbconvert_exporter": "python",
   "pygments_lexer": "ipython3",
   "version": "3.8.5"
  },
  "widgets": {
   "application/vnd.jupyter.widget-state+json": {
    "state": {
     "0ddd1fc44dde4a2cbae4f0033e99775e": {
      "model_module": "@jupyter-widgets/base",
      "model_module_version": "1.2.0",
      "model_name": "LayoutModel",
      "state": {}
     },
     "14d4f0979a83413ba62319f7296eabd9": {
      "model_module": "@jupyter-widgets/base",
      "model_module_version": "1.2.0",
      "model_name": "LayoutModel",
      "state": {}
     },
     "22a243b830a84f1495d1b58999cc35b5": {
      "model_module": "mitosheet",
      "model_module_version": "^0.1.30",
      "model_name": "ExampleModel",
      "state": {
       "_model_module_version": "^0.1.30",
       "_view_module_version": "^0.1.30",
       "analysis_name": "cc775a91-8faa-41af-b69a-f58c32fbb23a",
       "code_json": "{\"imports\": \"from mitosheet import AVG,CLEAN,CONCAT,FIND,LEFT,LEN,LOWER,MID,MULTIPLY,PROPER,RIGHT,SUBSTITUTE,SUM,TRIM,UPPER\", \"code\": []}",
       "column_spreadsheet_code_json": "[{\"Key1\": \"\", \"value\": \"\"}, {\"Key2\": \"\", \"value\": \"\"}]",
       "df_names_json": "{\"df_names\": [\"df1\", \"df2\"]}",
       "layout": "IPY_MODEL_a5261d97f4ef4cdaa444c16290c5cd3c",
       "sheet_json": "[{\"columns\": [\"Key1\", \"value\"], \"index\": [0, 1, 2, 3], \"data\": [[\"A\", 1], [\"B\", 2], [\"C\", 3], [\"D\", 4]]}, {\"columns\": [\"Key2\", \"value\"], \"index\": [0, 1, 2, 3], \"data\": [[\"A\", 5], [\"A\", 6], [\"B\", 7], [\"B\", 8]]}]",
       "user_id": "nate",
       "value": "Hello World"
      }
     },
     "3d68f1284c71447db9fe09859d99b29d": {
      "model_module": "mitosheet",
      "model_module_version": "^0.1.30",
      "model_name": "ExampleModel",
      "state": {
       "_model_module_version": "^0.1.30",
       "_view_module_version": "^0.1.30",
       "analysis_name": "faa64dda-9076-4efd-8f8f-15521b90cdc0",
       "code_json": "{\"imports\": \"from mitosheet import AVG,CLEAN,CONCAT,FIND,LEFT,LEN,LOWER,MID,MULTIPLY,PROPER,RIGHT,SUBSTITUTE,SUM,TRIM,UPPER\", \"code\": [\"# Step 1\", \"temp_df = df2.drop_duplicates(subset='Key2')\", \"df1_tmp = df1.drop(['value'], axis=1)\", \"df3 = df1_tmp.merge(temp_df, left_on=['Key1'], right_on=['Key2'], how='left', suffixes=['_df1', '_df2'])\", \"# Step 2\", \"temp_df = df2.drop_duplicates(subset='Key2')\", \"df2_tmp = df2.drop(['value'], axis=1)\", \"df4 = df1.merge(df2_tmp, left_on=['Key1'], right_on=['Key2'], how='left', suffixes=['_df1', '_df2'])\"]}",
       "column_spreadsheet_code_json": "[{\"Key1\": \"\", \"value\": \"\"}, {\"Key2\": \"\", \"value\": \"\"}, {\"Key1\": \"\", \"Key2\": \"\", \"value\": \"\"}, {\"Key1\": \"\", \"value\": \"\", \"Key2\": \"\"}]",
       "df_names_json": "{\"df_names\": [\"df1\", \"df2\"]}",
       "layout": "IPY_MODEL_0ddd1fc44dde4a2cbae4f0033e99775e",
       "sheet_json": "[{\"columns\": [\"Key1\", \"value\"], \"index\": [0, 1, 2, 3], \"data\": [[\"A\", 1], [\"B\", 2], [\"C\", 3], [\"D\", 4]]}, {\"columns\": [\"Key2\", \"value\"], \"index\": [0, 1, 2, 3], \"data\": [[\"A\", 5], [\"A\", 6], [\"B\", 7], [\"B\", 8]]}, {\"columns\": [\"Key1\", \"Key2\", \"value\"], \"index\": [0, 1, 2, 3], \"data\": [[\"A\", \"A\", 5.0], [\"B\", \"B\", 7.0], [\"C\", \"undefined\", \"undefined\"], [\"D\", \"undefined\", \"undefined\"]]}, {\"columns\": [\"Key1\", \"value\", \"Key2\"], \"index\": [0, 1, 2, 3], \"data\": [[\"A\", 1, \"A\"], [\"B\", 2, \"B\"], [\"C\", 3, \"undefined\"], [\"D\", 4, \"undefined\"]]}]",
       "user_id": "nate",
       "value": "Hello World"
      }
     },
     "7cb2c45d28b94e62bd2625e3cf694649": {
      "model_module": "@jupyter-widgets/base",
      "model_module_version": "1.2.0",
      "model_name": "LayoutModel",
      "state": {}
     },
     "8e77df05355f439a92bcd8e25fc44202": {
      "model_module": "mitosheet",
      "model_module_version": "^0.1.30",
      "model_name": "ExampleModel",
      "state": {
       "_model_module_version": "^0.1.30",
       "_view_module_version": "^0.1.30",
       "analysis_name": "fddc2d63-d6e2-4475-981a-d09a70055eb7",
       "code_json": "{\"imports\": \"from mitosheet import AVG,CLEAN,CONCAT,FIND,LEFT,LEN,LOWER,MID,MULTIPLY,PROPER,RIGHT,SUBSTITUTE,SUM,TRIM,UPPER\", \"code\": [\"# Step 1\", \"temp_df = df2.drop_duplicates(subset='Key2')\", \"df2_tmp = df2.drop(['value'], axis=1)\", \"df3 = df1.merge(df2_tmp, left_on=['Key1'], right_on=['Key2'], how='left', suffixes=['_df1', '_df2'])\"]}",
       "column_spreadsheet_code_json": "[{\"Key1\": \"\", \"value\": \"\"}, {\"Key2\": \"\", \"value\": \"\"}, {\"Key1\": \"\", \"value\": \"\", \"Key2\": \"\"}]",
       "df_names_json": "{\"df_names\": [\"df1\", \"df2\", \"df3\"]}",
       "layout": "IPY_MODEL_7cb2c45d28b94e62bd2625e3cf694649",
       "sheet_json": "[{\"columns\": [\"Key1\", \"value\"], \"index\": [0, 1, 2, 3], \"data\": [[\"A\", 1], [\"B\", 2], [\"C\", 3], [\"D\", 4]]}, {\"columns\": [\"Key2\", \"value\"], \"index\": [0, 1, 2, 3], \"data\": [[\"A\", 5], [\"A\", 6], [\"B\", 7], [\"B\", 8]]}, {\"columns\": [\"Key1\", \"value\", \"Key2\"], \"index\": [0, 1, 2, 3], \"data\": [[\"A\", 1, \"A\"], [\"B\", 2, \"B\"], [\"C\", 3, \"undefined\"], [\"D\", 4, \"undefined\"]]}]",
       "user_id": "nate",
       "value": "Hello World"
      }
     },
     "a5261d97f4ef4cdaa444c16290c5cd3c": {
      "model_module": "@jupyter-widgets/base",
      "model_module_version": "1.2.0",
      "model_name": "LayoutModel",
      "state": {}
     },
     "f2b95eb8e3e841ea802b5111bd08ffc1": {
      "model_module": "mitosheet",
      "model_module_version": "^0.1.30",
      "model_name": "ExampleModel",
      "state": {
       "_model_module_version": "^0.1.30",
       "_view_module_version": "^0.1.30",
       "analysis_name": "57704b70-3a19-488b-977b-dba9babc09e2",
       "code_json": "{\"imports\": \"from mitosheet import AVG,CLEAN,CONCAT,FIND,LEFT,LEN,LOWER,MID,MULTIPLY,PROPER,RIGHT,SUBSTITUTE,SUM,TRIM,UPPER\", \"code\": [\"# Step 1\", \"temp_df = df2.drop_duplicates(subset='Key2')\", \"df2_tmp = df2.drop(['value'], axis=1)\", \"df3 = df1.merge(df2_tmp, left_on=['Key1'], right_on=['Key2'], how='left', suffixes=['_df1', '_df2'])\"]}",
       "column_spreadsheet_code_json": "[{\"Key1\": \"\", \"value\": \"\"}, {\"Key2\": \"\", \"value\": \"\"}, {\"Key1\": \"\", \"value\": \"\", \"Key2\": \"\"}]",
       "df_names_json": "{\"df_names\": [\"df1\", \"df2\"]}",
       "layout": "IPY_MODEL_14d4f0979a83413ba62319f7296eabd9",
       "sheet_json": "[{\"columns\": [\"Key1\", \"value\"], \"index\": [0, 1, 2, 3], \"data\": [[\"A\", 1], [\"B\", 2], [\"C\", 3], [\"D\", 4]]}, {\"columns\": [\"Key2\", \"value\"], \"index\": [0, 1, 2, 3], \"data\": [[\"A\", 5], [\"A\", 6], [\"B\", 7], [\"B\", 8]]}, {\"columns\": [\"Key1\", \"value\", \"Key2\"], \"index\": [0, 1, 2, 3], \"data\": [[\"A\", 1, \"A\"], [\"B\", 2, \"B\"], [\"C\", 3, \"undefined\"], [\"D\", 4, \"undefined\"]]}]",
       "user_id": "nate",
       "value": "Hello World"
      }
     }
    },
    "version_major": 2,
    "version_minor": 0
   }
  }
 },
 "nbformat": 4,
 "nbformat_minor": 4
}
