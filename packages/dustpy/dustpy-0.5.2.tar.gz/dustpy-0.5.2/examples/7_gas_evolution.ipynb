{
 "cells": [
  {
   "cell_type": "markdown",
   "metadata": {},
   "source": [
    "# Gas Evolution\n",
    "\n",
    "In contrast to dust evolution `DustPy` solves gas evolution with an implicit scheme, because implicit schemes return smoother surface density profiles and lead to a more stable inner boundary.\n",
    "\n",
    "`DustPy` solves by default the following equation for a viscously evolving disk\n",
    "\n",
    "$\\frac{\\partial}{\\partial t} \\Sigma_\\mathrm{d} + \\frac{1}{r}\\frac{\\partial}{\\partial r} \\left( r\\Sigma_\\mathrm{g}v_\\mathrm{rad} \\right) = S_\\mathrm{ext}$.\n",
    "\n",
    "Where the radial gas velocity is given by\n",
    "\n",
    "$v_\\mathrm{rad} = Av_\\mathrm{visc} + 2B\\eta v_\\mathrm{K}$.\n",
    "\n",
    "$A$ and $B$ are the dust backreaction coefficients `Simulation.dust.backreaction` and the viscous accretion velocity is given by\n",
    "\n",
    "$v_\\mathrm{visc} = -\\frac{3}{\\Sigma_\\mathrm{g}\\sqrt{r}} \\frac{\\partial}{\\partial r} \\left( \\Sigma_\\mathrm{g} \\nu \\sqrt{r} \\right)$\n",
    "\n",
    "with the kinematic viscosity $\\nu$.\n",
    "\n",
    "$S_\\mathrm{ext}$ are the external source/loss terms, e.g. due to infall onto the disk or accretion of gas onto a planet."
   ]
  },
  {
   "cell_type": "code",
   "execution_count": 1,
   "metadata": {},
   "outputs": [],
   "source": [
    "from dustpy import Simulation\n",
    "sim = Simulation()\n",
    "sim.ini.grid.Nr = 15\n",
    "sim.initialize()"
   ]
  },
  {
   "cell_type": "markdown",
   "metadata": {},
   "source": [
    "## Hydrodynamics\n",
    "\n",
    "The implicit matrix equation that is solved for gas evolution is given by\n",
    "\n",
    "$\\frac{\\vec{\\Sigma}_\\mathrm{g}^{n+1}-\\vec{\\Sigma}_\\mathrm{g}^{n}}{\\Delta t} = \\mathbb{J} \\cdot \\vec{\\Sigma}_\\mathrm{g}^{n+1} + \\vec{S}_\\mathrm{ext},$\n",
    "\n",
    "which can be written as\n",
    "\n",
    "$\\begin{split}\n",
    "\\left( \\mathbb{1} - \\Delta t\\, \\mathbb{J} \\right) \\cdot \\vec{\\Sigma}_\\mathrm{g}^{n+1} &= \\vec{\\Sigma}_\\mathrm{g}^{n} + \\Delta t\\, \\vec{S}_\\mathrm{ext}\\\\\n",
    "&\\equiv \\vec{R}^n,\n",
    "\\end{split}$\n",
    "\n",
    "with\n",
    "\n",
    "$\\vec{R}^n = \\vec{\\Sigma}_\\mathrm{g}^{n} + \\Delta t\\, \\vec{S}_\\mathrm{ext}$.\n",
    "\n",
    "The Jacobian $\\mathbb{J}$ is a tri-diagonal matrix, since the grid cells only interact with their neighbouring grid cells."
   ]
  },
  {
   "cell_type": "code",
   "execution_count": 2,
   "metadata": {},
   "outputs": [],
   "source": [
    "import matplotlib.pyplot as plt\n",
    "import numpy as np"
   ]
  },
  {
   "cell_type": "code",
   "execution_count": 3,
   "metadata": {},
   "outputs": [
    {
     "data": {
      "image/png": "[encoded data removed]",
      "text/plain": [
       "<Figure size 432x288 with 1 Axes>"
      ]
     },
     "metadata": {
      "needs_background": "light"
     },
     "output_type": "display_data"
    }
   ],
   "source": [
    "plt.imshow(np.where(sim.gas.Sigma.jacobian().toarray() != 0., 1., 0.), cmap=\"Blues\")\n",
    "plt.hlines(np.arange(0., sim.grid.Nr)-0.5, -0.5, sim.grid.Nr-0.5, color=\"gray\", alpha=0.5)\n",
    "plt.vlines(np.arange(0., sim.grid.Nr)-0.5, -0.5, sim.grid.Nr-0.5, color=\"gray\", alpha=0.5)\n",
    "plt.gca().axes.get_xaxis().set_visible(False)\n",
    "plt.gca().axes.get_yaxis().set_visible(False)\n",
    "plt.title(\"Structure of Jacobian $\\mathbb{J}$\")\n",
    "plt.draw()"
   ]
  },
  {
   "cell_type": "markdown",
   "metadata": {},
   "source": [
    "Notable exceptions are the first and the last row, which are used to set the boundary conditions. They require up to three elements to set the gradients if needed.\n",
    "\n",
    "In the default model the inner boundary condition is set to constant gradient, which requires the following values\n",
    "\n",
    "$\\begin{split}\n",
    "J_{1,\\,1} &= 0 \\\\\n",
    "J_{1,\\,2} &= \\frac{1}{\\Delta t} \\frac{r_2}{r_1} \\left( 1 + \\frac{r_2}{r_3} \\cdot \\frac{r_2-r_1}{r_3-r_1} \\right) \\\\\n",
    "J_{1,\\,3} &= -\\frac{1}{\\Delta t} \\frac{r_2}{r_1} \\cdot \\frac{r_2-r_1}{r_3-r_1} \\\\\n",
    "R_1 &= 0.\n",
    "\\end{split}$\n",
    "\n",
    "The outer boundary is set to floor value, which requires\n",
    "\n",
    "$\\begin{split}\n",
    "J_{N,\\,i} &= 0 \\\\\n",
    "R_N &= \\Sigma_\\mathrm{floor}.\n",
    "\\end{split}$"
   ]
  },
  {
   "cell_type": "markdown",
   "metadata": {},
   "source": [
    "The implicit integration schemes that come with `simframe` only integrate equations of kind\n",
    "\n",
    "$\\left( \\mathbb{1} - \\Delta t\\, \\mathbb{J} \\right) \\cdot \\vec{Y}^{n+1} = \\vec{Y}^n$.\n",
    "\n",
    "We've therefore creates a custom integration schemes for our needs.  \n",
    "Whenever `Simulation.gas.Sigma.jacobian()` is called, the right-hand side of our equation is calculated and stored in a hidden field `Simulation.gas._rhs`, that can be accessed by our integration scheme.\n",
    "\n",
    "The first and the last rows of the Jacobian, which contain the boundary conditions do not contain the time step $\\Delta t$, since this is not necessarily known when calculating the Jacobian. The integration scheme will add the term containing the time step.\n",
    "\n",
    "The custom integration scheme can be found in `dustpy.std.gas.impl_1_euler_direct`."
   ]
  },
  {
   "cell_type": "markdown",
   "metadata": {},
   "source": [
    "The hydrodynamic source terms can be calculated with a matrix multiplication of the Jacobian with the gas surface density."
   ]
  },
  {
   "cell_type": "code",
   "execution_count": 4,
   "metadata": {},
   "outputs": [
    {
     "data": {
      "text/plain": [
       "array([ 9.89910382e-05, -1.45436122e-11, -6.35260799e-12, -3.78602233e-12,\n",
       "       -2.18024123e-12, -1.18702994e-12, -5.88313583e-13, -2.46962738e-13,\n",
       "       -7.38787316e-14, -5.59875935e-15,  8.05316307e-15,  4.18202183e-15,\n",
       "        8.11579433e-16,  5.66451936e-17,  0.00000000e+00])"
      ]
     },
     "execution_count": 4,
     "metadata": {},
     "output_type": "execute_result"
    }
   ],
   "source": [
    "sim.gas.Sigma.jacobian() @ sim.gas.Sigma"
   ]
  },
  {
   "cell_type": "markdown",
   "metadata": {},
   "source": [
    "However, the first and the last element will not have the correct value, since they contain the instructions for the boundaries without the time step.\n",
    "\n",
    "The interface fluxes and the gas velocity will be calculated after the integration step, when the new values of the gas surface density will be accessible. Changes to the fluxes or the gas velocities will therefore not influence the gas evolution. In other words, you cannot turn off the hydrodynamic gas evolution by setting the viscous velocity to zero."
   ]
  },
  {
   "cell_type": "markdown",
   "metadata": {},
   "source": [
    "### Turning off Hydrodynamics\n",
    "\n",
    "The diagonals of the Jacobian contain information about the grid $r$, the viscosity $\\nu$, and the backreaction quantities, as seen in the accretion equation above. To turn off only the gas hydrodynamics, but not the external sources, one has to set the Jacobian to zero (except for the boundaries). This can be achieved by setting the viscosity to zero and unsetting its updater.\n",
    "\n",
    "**Note:** This is only true, if there is no backreaction, i.e., $A=1$ and $B=0$. Otherwise, the interaction with the dust would still influence the gas."
   ]
  },
  {
   "cell_type": "code",
   "execution_count": 5,
   "metadata": {},
   "outputs": [],
   "source": [
    "sim.gas.nu[:] = 0.\n",
    "sim.gas.nu.updater = None"
   ]
  },
  {
   "cell_type": "code",
   "execution_count": 6,
   "metadata": {},
   "outputs": [
    {
     "data": {
      "text/plain": [
       "array([9.89910382e-05, 0.00000000e+00, 0.00000000e+00, 0.00000000e+00,\n",
       "       0.00000000e+00, 0.00000000e+00, 0.00000000e+00, 0.00000000e+00,\n",
       "       0.00000000e+00, 0.00000000e+00, 0.00000000e+00, 0.00000000e+00,\n",
       "       0.00000000e+00, 0.00000000e+00, 0.00000000e+00])"
      ]
     },
     "execution_count": 6,
     "metadata": {},
     "output_type": "execute_result"
    }
   ],
   "source": [
    "sim.gas.Sigma.jacobian() @ sim.gas.Sigma"
   ]
  },
  {
   "cell_type": "markdown",
   "metadata": {},
   "source": [
    "Another option would be to set the $\\alpha$-viscosity parameter `Simulation.gas.alpha` to zero and unset its updater. This would, however, influence other fields that depend on $\\alpha$ as well."
   ]
  },
  {
   "cell_type": "markdown",
   "metadata": {},
   "source": [
    "## External Sources\n",
    "\n",
    "The external gas sources `Simulation.gas.S.ext` can be used as additional source or loss term, for gas infall or photoevaporation. By default they are set to zero.\n",
    "\n",
    "The first and the last element of the array will not have an effect on gas evolution, since they will be overwritten by the integration scheme to set the boundaries as described above."
   ]
  },
  {
   "cell_type": "markdown",
   "metadata": {},
   "source": [
    "### Turning off External Sources\n",
    "\n",
    "To turn off external source terms set the field to zero and unset its updater."
   ]
  },
  {
   "cell_type": "code",
   "execution_count": 7,
   "metadata": {},
   "outputs": [],
   "source": [
    "sim.gas.S.ext[:] = 0.\n",
    "sim.gas.S.ext.updater = None"
   ]
  },
  {
   "cell_type": "markdown",
   "metadata": {},
   "source": [
    "## Turning off Gas Evolution\n",
    "\n",
    "To turn off the entire gas evolution you can either turn off hte individual parts as described above or you can remove the integration instruction of the gas from the instruction list."
   ]
  },
  {
   "cell_type": "code",
   "execution_count": 8,
   "metadata": {},
   "outputs": [
    {
     "data": {
      "text/plain": [
       "[Instruction (Dust: implicit 1st-order direct solver),\n",
       " Instruction (Gas: implicit 1st-order direct solver)]"
      ]
     },
     "execution_count": 8,
     "metadata": {},
     "output_type": "execute_result"
    }
   ],
   "source": [
    "sim.integrator.instructions"
   ]
  },
  {
   "cell_type": "code",
   "execution_count": 9,
   "metadata": {},
   "outputs": [],
   "source": [
    "del(sim.integrator.instructions[1])"
   ]
  },
  {
   "cell_type": "code",
   "execution_count": 10,
   "metadata": {},
   "outputs": [
    {
     "data": {
      "text/plain": [
       "[Instruction (Dust: implicit 1st-order direct solver)]"
      ]
     },
     "execution_count": 10,
     "metadata": {},
     "output_type": "execute_result"
    }
   ],
   "source": [
    "sim.integrator.instructions"
   ]
  },
  {
   "cell_type": "markdown",
   "metadata": {},
   "source": [
    "If you simply remove the integration instruction, the gas velocities will still be calculated at every time step, since the viscosity is non-zero. This will therefore still influence dust quantities that require the gas velocity."
   ]
  }
 ],
 "metadata": {
  "kernelspec": {
   "display_name": "Python 3",
   "language": "python",
   "name": "python3"
  },
  "language_info": {
   "codemirror_mode": {
    "name": "ipython",
    "version": 3
   },
   "file_extension": ".py",
   "mimetype": "text/x-python",
   "name": "python",
   "nbconvert_exporter": "python",
   "pygments_lexer": "ipython3",
   "version": "3.8.5"
  }
 },
 "nbformat": 4,
 "nbformat_minor": 4
}
