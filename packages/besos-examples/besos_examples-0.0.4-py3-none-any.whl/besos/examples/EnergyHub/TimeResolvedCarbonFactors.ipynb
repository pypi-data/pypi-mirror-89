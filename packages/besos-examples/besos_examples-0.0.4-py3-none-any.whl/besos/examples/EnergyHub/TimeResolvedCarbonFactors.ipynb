{
 "cells": [
  {
   "cell_type": "markdown",
   "metadata": {
    "papermill": {
     "duration": 0.012591,
     "end_time": "2019-10-28T23:03:45.372666",
     "exception": false,
     "start_time": "2019-10-28T23:03:45.360075",
     "status": "completed"
    },
    "tags": []
   },
   "source": [
    "# Time-Resolved Carbon Factors\n",
    "\n",
    "This notebook combines Energy Hub modelling in BESOS with analysis of the wider power system using SILVER [[1]].\n",
    "SILVER solves the optimal power flow problem for an entire electricty grid.\n",
    "From this we can extract the carbon emission every hour, which depends on the generation mix at that moment.\n",
    "This is obtained by running `uc_results_analysis_Storage_Remuneration_w_mustrun.py` to obtain `hourly_GHG_emission.csv`.\n",
    "After some processing, this gives the carbon factor time series that is used in place of the annual-averaged carbon factors typically used in the Energy Hub model.\n",
    "\n",
    "[1]:https://doi.org/10.1016/j.energy.2017.07.027"
   ]
  },
  {
   "cell_type": "code",
   "execution_count": null,
   "metadata": {
    "lines_to_next_cell": 2,
    "papermill": {
     "duration": 0.850927,
     "end_time": "2019-10-28T23:03:46.237387",
     "exception": false,
     "start_time": "2019-10-28T23:03:45.386460",
     "status": "completed"
    },
    "tags": []
   },
   "outputs": [],
   "source": [
    "from pprint import pprint as pp\n",
    "\n",
    "import pandas as pd\n",
    "from pyehub.energy_hub.ehub_model import EHubModel"
   ]
  },
  {
   "cell_type": "markdown",
   "metadata": {
    "papermill": {
     "duration": 0.006123,
     "end_time": "2019-10-28T23:03:46.250265",
     "exception": false,
     "start_time": "2019-10-28T23:03:46.244142",
     "status": "completed"
    },
    "tags": []
   },
   "source": [
    "## Importing CSV\n",
    "First the .csv file is read in and the date column is given a column name.\n",
    "The type of each generator is removed from the table as the type is not important for PyEHub."
   ]
  },
  {
   "cell_type": "code",
   "execution_count": null,
   "metadata": {
    "papermill": {
     "duration": 0.047426,
     "end_time": "2019-10-28T23:03:46.304053",
     "exception": false,
     "start_time": "2019-10-28T23:03:46.256627",
     "status": "completed"
    },
    "tags": []
   },
   "outputs": [],
   "source": [
    "raw_data = pd.read_csv(\"hourly_GHG_emission.csv\")\n",
    "raw_data.rename(columns={\"Unnamed: 0\": \"Date\"}, inplace=True)\n",
    "raw_data = raw_data.set_index(\"Date\")\n",
    "raw_data = raw_data.drop([\"kind\"], axis=0)\n",
    "raw_data.head()"
   ]
  },
  {
   "cell_type": "markdown",
   "metadata": {
    "papermill": {
     "duration": 0.00717,
     "end_time": "2019-10-28T23:03:46.317329",
     "exception": false,
     "start_time": "2019-10-28T23:03:46.310159",
     "status": "completed"
    },
    "tags": []
   },
   "source": [
    "## CSV Reformating\n",
    "To ensure no type errors all the columns are converted into floats.\n",
    "The index is switched to the time steps used by PyEHub and the specific dates are removed.\n",
    "*This can be changed depending on how the particular model handles the timesteps*.\n",
    "A unit conversion ensures the carbon factors are in the correct units for the PyEHub model.\n",
    "The output is then converted into a dictionary where the key is each timestep and the value is the hourly carbon factor."
   ]
  },
  {
   "cell_type": "code",
   "execution_count": null,
   "metadata": {
    "papermill": {
     "duration": 0.034009,
     "end_time": "2019-10-28T23:03:46.357512",
     "exception": false,
     "start_time": "2019-10-28T23:03:46.323503",
     "status": "completed"
    },
    "tags": []
   },
   "outputs": [],
   "source": [
    "data = raw_data.apply(pd.to_numeric)\n",
    "\n",
    "data = data.reset_index()\n",
    "data = data.drop([\"Date\"], axis=1)\n",
    "# data=data[:24] # first day only\n",
    "data = data.mean(axis=1) / 100000\n",
    "dict_w_index = data.to_dict()\n",
    "\n",
    "carbon_factor_input = dict_w_index"
   ]
  },
  {
   "cell_type": "markdown",
   "metadata": {
    "papermill": {
     "duration": 0.005921,
     "end_time": "2019-10-28T23:03:46.369925",
     "exception": false,
     "start_time": "2019-10-28T23:03:46.364004",
     "status": "completed"
    },
    "tags": []
   },
   "source": [
    "## Creating a PyEHub model\n",
    "The PyEHub model is created normally.\n",
    "To show the difference in results the unmodified example model is solved."
   ]
  },
  {
   "cell_type": "code",
   "execution_count": null,
   "metadata": {
    "papermill": {
     "duration": 0.114257,
     "end_time": "2019-10-28T23:03:46.490122",
     "exception": false,
     "start_time": "2019-10-28T23:03:46.375865",
     "status": "completed"
    },
    "tags": []
   },
   "outputs": [],
   "source": [
    "hub = EHubModel(excel=\"test_file_CO2.xlsx\")\n",
    "oldhub = hub.solve()"
   ]
  },
  {
   "cell_type": "markdown",
   "metadata": {
    "papermill": {
     "duration": 0.006122,
     "end_time": "2019-10-28T23:03:46.503591",
     "exception": false,
     "start_time": "2019-10-28T23:03:46.497469",
     "status": "completed"
    },
    "tags": []
   },
   "source": [
    "## Modifying Carbon Factors and Time Series\n",
    "The carbon factors are only applied to import streams and carbon credits are only applied to export streams.\n",
    "The carbon factor for the particular stream is tied to a time series by overwritting the value of the carbon factor with the key for the time series.\n",
    "The formated values from the csv are then inputted into the model as a time series."
   ]
  },
  {
   "cell_type": "code",
   "execution_count": null,
   "metadata": {
    "papermill": {
     "duration": 0.014694,
     "end_time": "2019-10-28T23:03:46.524504",
     "exception": false,
     "start_time": "2019-10-28T23:03:46.509810",
     "status": "completed"
    },
    "tags": []
   },
   "outputs": [],
   "source": [
    "print(\"Import Streams:\")\n",
    "print(hub.import_streams)\n",
    "print()\n",
    "\n",
    "print(\"Carbon Factors Before:\")\n",
    "print(hub.CARBON_FACTORS)\n",
    "print()\n",
    "hub.CARBON_FACTORS[\"Grid\"] = \"Grid_co2_factor\"\n",
    "print(\"Carbon Factors After:\")\n",
    "print(hub.CARBON_FACTORS)\n",
    "print()\n",
    "\n",
    "print(\"Time Series Before:\")\n",
    "print(hub.TIME_SERIES)\n",
    "print()\n",
    "hub.TIME_SERIES[\"Grid_co2_factor\"] = carbon_factor_input\n",
    "print(\"Time Series After:\")\n",
    "print(hub.TIME_SERIES)"
   ]
  },
  {
   "cell_type": "markdown",
   "metadata": {
    "papermill": {
     "duration": 0.006479,
     "end_time": "2019-10-28T23:03:46.537369",
     "exception": false,
     "start_time": "2019-10-28T23:03:46.530890",
     "status": "completed"
    },
    "tags": []
   },
   "source": [
    "## Results\n",
    "The model is then recompiled with the new time resolved carbon factors.\n",
    "We can see that the outputs have changed."
   ]
  },
  {
   "cell_type": "code",
   "execution_count": null,
   "metadata": {
    "papermill": {
     "duration": 0.097146,
     "end_time": "2019-10-28T23:03:46.641214",
     "exception": false,
     "start_time": "2019-10-28T23:03:46.544068",
     "status": "completed"
    },
    "tags": []
   },
   "outputs": [],
   "source": [
    "hub.recompile()\n",
    "newhub = hub.solve()\n",
    "print(oldhub[\"solution\"][\"total_carbon\"])\n",
    "print(newhub[\"solution\"][\"total_carbon\"])"
   ]
  },
  {
   "cell_type": "code",
   "execution_count": null,
   "metadata": {
    "papermill": {
     "duration": 0.084164,
     "end_time": "2019-10-28T23:03:46.732627",
     "exception": false,
     "start_time": "2019-10-28T23:03:46.648463",
     "status": "completed"
    },
    "tags": []
   },
   "outputs": [],
   "source": [
    "pp(newhub[\"solution\"])"
   ]
  },
  {
   "cell_type": "code",
   "execution_count": null,
   "metadata": {
    "papermill": {
     "duration": 0.007819,
     "end_time": "2019-10-28T23:03:46.748292",
     "exception": false,
     "start_time": "2019-10-28T23:03:46.740473",
     "status": "completed"
    },
    "tags": []
   },
   "outputs": [],
   "source": []
  }
 ],
 "metadata": {
  "kernelspec": {
   "display_name": "Python 3",
   "language": "python",
   "name": "python3"
  }
 },
 "nbformat": 4,
 "nbformat_minor": 4
}
