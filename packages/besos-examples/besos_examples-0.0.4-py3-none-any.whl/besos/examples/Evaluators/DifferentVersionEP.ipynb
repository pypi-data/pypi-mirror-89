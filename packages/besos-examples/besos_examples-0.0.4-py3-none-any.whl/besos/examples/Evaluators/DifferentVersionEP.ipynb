{
 "cells": [
  {
   "cell_type": "markdown",
   "metadata": {
    "papermill": {
     "duration": 0.013184,
     "end_time": "2019-10-28T22:50:02.075685",
     "exception": false,
     "start_time": "2019-10-28T22:50:02.062501",
     "status": "completed"
    },
    "tags": []
   },
   "source": [
    "## Working with different version of EnergyPlus"
   ]
  },
  {
   "cell_type": "markdown",
   "metadata": {
    "papermill": {
     "duration": 0.008454,
     "end_time": "2019-10-28T22:50:02.098418",
     "exception": false,
     "start_time": "2019-10-28T22:50:02.089964",
     "status": "completed"
    },
    "tags": []
   },
   "source": [
    "Since besos is using the absolute path, if you are running besos on your computer, make sure you install the EnergyPlus under:\n",
    "\n",
    "Windows: C:/EnergyPlusV{version}\n",
    "\n",
    "Linux: /usr/local/EnergyPlus-{version}"
   ]
  },
  {
   "cell_type": "code",
   "execution_count": null,
   "metadata": {
    "lines_to_next_cell": 2,
    "papermill": {
     "duration": 2.239704,
     "end_time": "2019-10-28T22:50:04.343927",
     "exception": false,
     "start_time": "2019-10-28T22:50:02.104223",
     "status": "completed"
    },
    "tags": []
   },
   "outputs": [],
   "source": [
    "from besos import eppy_funcs as ef\n",
    "from besos.evaluator import EvaluatorEP\n",
    "from besos.parameters import FieldSelector, Parameter\n",
    "from besos.problem import EPProblem\n",
    "\n",
    "import config"
   ]
  },
  {
   "cell_type": "markdown",
   "metadata": {
    "papermill": {
     "duration": 0.006063,
     "end_time": "2019-10-28T22:50:09.899361",
     "exception": false,
     "start_time": "2019-10-28T22:50:09.893298",
     "status": "completed"
    },
    "tags": []
   },
   "source": [
    "Currently, the default version for EnergyPlus is 9.1.0"
   ]
  },
  {
   "cell_type": "code",
   "execution_count": null,
   "metadata": {
    "papermill": {
     "duration": 0.006809,
     "end_time": "2019-10-28T22:50:09.913845",
     "exception": false,
     "start_time": "2019-10-28T22:50:09.907036",
     "status": "completed"
    },
    "tags": []
   },
   "outputs": [],
   "source": [
    "print(\"default version: \", config.energy_plus_version)"
   ]
  },
  {
   "cell_type": "markdown",
   "metadata": {
    "papermill": {
     "duration": 0.005379,
     "end_time": "2019-10-28T22:50:04.355648",
     "exception": false,
     "start_time": "2019-10-28T22:50:04.350269",
     "status": "completed"
    },
    "tags": []
   },
   "source": [
    "By passing the version parameter with format 'x.x.x', the program will try to find the 'Energy+.idd' under /usr/local/EnergyPus-9-1-0 and use it to read the idf."
   ]
  },
  {
   "cell_type": "code",
   "execution_count": null,
   "metadata": {
    "papermill": {
     "duration": 1.584329,
     "end_time": "2019-10-28T22:50:05.945312",
     "exception": false,
     "start_time": "2019-10-28T22:50:04.360983",
     "status": "completed"
    },
    "tags": []
   },
   "outputs": [],
   "source": [
    "building = ef.get_building(mode=\"idf\")"
   ]
  },
  {
   "cell_type": "markdown",
   "metadata": {
    "papermill": {
     "duration": 0.005223,
     "end_time": "2019-10-28T22:50:05.956655",
     "exception": false,
     "start_time": "2019-10-28T22:50:05.951432",
     "status": "completed"
    },
    "tags": []
   },
   "source": [
    "Only one idd file can be used in a program. If we try to read the building with a different idd file, it will raise an exception."
   ]
  },
  {
   "cell_type": "code",
   "execution_count": null,
   "metadata": {
    "papermill": {
     "duration": 0.011668,
     "end_time": "2019-10-28T22:50:05.974493",
     "exception": false,
     "start_time": "2019-10-28T22:50:05.962825",
     "status": "completed"
    },
    "tags": []
   },
   "outputs": [],
   "source": [
    "try:\n",
    "    building2 = ef.get_building(mode=\"idf\")\n",
    "except Exception as e:\n",
    "    print(e)"
   ]
  },
  {
   "cell_type": "code",
   "execution_count": null,
   "metadata": {
    "papermill": {
     "duration": 0.012568,
     "end_time": "2019-10-28T22:50:05.992722",
     "exception": false,
     "start_time": "2019-10-28T22:50:05.980154",
     "status": "completed"
    },
    "tags": []
   },
   "outputs": [],
   "source": [
    "parameters = [\n",
    "    Parameter(\n",
    "        FieldSelector(object_name=\"Mass NonRes Wall Insulation\", field_name=\"Thickness\")\n",
    "    )\n",
    "]\n",
    "\n",
    "objectives = [\"Electricity:Facility\", \"Gas:Facility\"]\n",
    "problem = EPProblem(parameters, objectives)"
   ]
  },
  {
   "cell_type": "markdown",
   "metadata": {
    "papermill": {
     "duration": 0.006204,
     "end_time": "2019-10-28T22:50:06.005007",
     "exception": false,
     "start_time": "2019-10-28T22:50:05.998803",
     "status": "completed"
    },
    "tags": []
   },
   "source": [
    "We can also set the version of energyplus that we want to use for simulation by passing the version parameter to the EvaluatorEP.\n",
    "\n",
    "The program will show a warning if the version in the building file doesn't match the input version."
   ]
  },
  {
   "cell_type": "code",
   "execution_count": null,
   "metadata": {
    "papermill": {
     "duration": 2.251256,
     "end_time": "2019-10-28T22:50:08.262550",
     "exception": false,
     "start_time": "2019-10-28T22:50:06.011294",
     "status": "completed"
    },
    "tags": []
   },
   "outputs": [],
   "source": [
    "evaluator = EvaluatorEP(problem, building)\n",
    "result = evaluator(\n",
    "    [0.5]\n",
    ")  # run the evaluator with wall insulation thickness set to 0.5m\n",
    "values = dict(zip(objectives, result))\n",
    "for key, value in values.items():\n",
    "    print(key, \" :: \", \"{0:.2f}\".format(value / 3.6e6), \"kWh\")"
   ]
  },
  {
   "cell_type": "markdown",
   "metadata": {
    "papermill": {
     "duration": 0.008477,
     "end_time": "2019-10-28T22:50:08.278348",
     "exception": false,
     "start_time": "2019-10-28T22:50:08.269871",
     "status": "completed"
    },
    "tags": []
   },
   "source": [
    "Unlike the get_building(), we can use different versions of energyplus in the same program."
   ]
  },
  {
   "cell_type": "code",
   "execution_count": null,
   "metadata": {
    "papermill": {
     "duration": 1.598065,
     "end_time": "2019-10-28T22:50:09.886282",
     "exception": false,
     "start_time": "2019-10-28T22:50:08.288217",
     "status": "completed"
    },
    "tags": []
   },
   "outputs": [],
   "source": [
    "evaluator2 = EvaluatorEP(problem, building)\n",
    "result2 = evaluator2(\n",
    "    [0.5]\n",
    ")  # run the evaluator with wall insulation thickness set to 0.5m\n",
    "values2 = dict(zip(objectives, result2))\n",
    "for key, value in values2.items():\n",
    "    print(key, \" :: \", \"{0:.2f}\".format(value / 3.6e6), \"kWh\")"
   ]
  }
 ],
 "metadata": {
  "kernelspec": {
   "display_name": "Python 3",
   "language": "python",
   "name": "python3"
  }
 },
 "nbformat": 4,
 "nbformat_minor": 4
}
