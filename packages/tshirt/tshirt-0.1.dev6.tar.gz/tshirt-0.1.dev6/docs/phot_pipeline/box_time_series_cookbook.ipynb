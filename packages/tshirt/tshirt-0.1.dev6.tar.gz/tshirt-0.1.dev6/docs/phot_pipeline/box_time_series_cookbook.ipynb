{
 "cells": [
  {
   "cell_type": "markdown",
   "metadata": {},
   "source": [
    "# Box Time Series Cookbook\n",
    "\n",
    "This cookbook shows how to make a simple box time series for data for doing simple tests of spectroscopic data."
   ]
  },
  {
   "cell_type": "code",
   "execution_count": 1,
   "metadata": {},
   "outputs": [],
   "source": [
    "from tshirt.pipeline import phot_pipeline\n",
    "import matplotlib.pyplot as plt\n",
    "%matplotlib inline"
   ]
  },
  {
   "cell_type": "markdown",
   "metadata": {},
   "source": [
    "## Edit the Extraction Parameters\n",
    "\n",
    "Here, we start with the default parameters and edit them. Alternatively, you can create a `yaml` file that contains the parameters. There is a database of example parameters here:\n",
    "https://github.com/eas342/tshirt/tree/master/tshirt/parameters/spec_params"
   ]
  },
  {
   "cell_type": "code",
   "execution_count": 2,
   "metadata": {},
   "outputs": [
    {
     "name": "stdout",
     "output_type": "stream",
     "text": [
      "Note: File Search comes up empty\n"
     ]
    }
   ],
   "source": [
    "default_phot = phot_pipeline.phot(directParam={})\n",
    "newParam = default_phot.param"
   ]
  },
  {
   "cell_type": "code",
   "execution_count": 3,
   "metadata": {},
   "outputs": [],
   "source": [
    "## Tell tshirt where to find the data files\n",
    "newParam['procFiles'] = '../../../../Documents/hst/corot1/visit01/ibh*.fits'\n",
    "## Give your source a name\n",
    "newParam['srcName'] = 'CoRoT-1'\n",
    "newParam['srcNameShort'] = 'corot1'\n",
    "## Assign a name for the observing \"Night\" or name\n",
    "newParam['nightName'] = 'visit01'\n",
    "## Identify the box's spatial position. List of [x,y] lists\n",
    "newParam['refStarPos'] = [[60,73]]\n",
    "## Define the Geometry and size of the Aperture\n",
    "newParam['srcGeometry'] = 'Rectangular'\n",
    "newParam['apHeight'] = 10\n",
    "newParam['apWidth'] = 30\n",
    "## Define the background Geometry and size of Aperture\n",
    "newParam['backWidth'] = 30\n",
    "newParam['backHeight'] = 10\n",
    "newParam['bkgGeometry'] = 'Rectangular'\n",
    "## Choose an offset for the background box\n",
    "newParam['backOffset'] = [0.,15.] ## here it is offset in X by 0.0 px and Y by 15.0 px\n",
    "\n",
    "## Choose the FITS extension for the data\n",
    "newParam['FITSextension'] = 'SCI'\n",
    "\n",
    "## Set an offset epoch for time series (optional)\n",
    "newParam['jdRef'] = 2455951\n",
    "\n",
    "## Set the read noise\n",
    "newParam['readNoise'] = 20."
   ]
  },
  {
   "cell_type": "code",
   "execution_count": 4,
   "metadata": {},
   "outputs": [],
   "source": [
    "phot = phot_pipeline.phot(directParam=newParam)"
   ]
  },
  {
   "cell_type": "markdown",
   "metadata": {},
   "source": [
    "## Check the aperture\n",
    "`showStarChoices` shows the source and background apertures we created.\n",
    "The label \"src\" is for the first star in the list"
   ]
  },
  {
   "cell_type": "code",
   "execution_count": 5,
   "metadata": {},
   "outputs": [
    {
     "name": "stderr",
     "output_type": "stream",
     "text": [
      "WARNING: AstropyDeprecationWarning: \"ax\" was deprecated in version 0.7 and will be removed in a future version. Use argument \"axes\" instead. [tshirt.pipeline.phot_pipeline]\n",
      "WARNING: AstropyDeprecationWarning: \"ax\" was deprecated in version 0.7 and will be removed in a future version. Use argument \"axes\" instead. [tshirt.pipeline.phot_pipeline]\n",
      "/Users/everettschlawin/anaconda/envs/py36/lib/python3.6/site-packages/tshirt/pipeline/phot_pipeline.py:333: UserWarning: Matplotlib is currently using module://ipykernel.pylab.backend_inline, which is a non-GUI backend, so cannot show the figure.\n",
      "  fig.show()\n"
     ]
    },
    {
     "data": {
      "image/png": "[encoded data removed]",
      "text/plain": [
       "<Figure size 432x288 with 2 Axes>"
      ]
     },
     "metadata": {
      "needs_background": "light"
     },
     "output_type": "display_data"
    }
   ],
   "source": [
    "phot.showStarChoices(showAps=True,showPlot=True,apColor='red',backColor='green')"
   ]
  },
  {
   "cell_type": "markdown",
   "metadata": {},
   "source": [
    "## Do the Extraction on all images\n",
    "the `useMultiprocessing` keyword uses several simultaneous processors to speed things up"
   ]
  },
  {
   "cell_type": "code",
   "execution_count": 6,
   "metadata": {},
   "outputs": [
    {
     "name": "stdout",
     "output_type": "stream",
     "text": [
      "On 0 of 98\n"
     ]
    },
    {
     "name": "stderr",
     "output_type": "stream",
     "text": [
      "WARNING: The \"exact\" method is not yet implemented for rectangular apertures -- using \"subpixel\" method with \"subpixels=32\" [photutils.aperture.core]\n",
      "WARNING: The \"exact\" method is not yet implemented for rectangular apertures -- using \"subpixel\" method with \"subpixels=32\" [photutils.aperture.core]\n"
     ]
    },
    {
     "name": "stdout",
     "output_type": "stream",
     "text": [
      "On 15 of 98\n",
      "On 30 of 98\n",
      "On 45 of 98\n",
      "On 60 of 98\n",
      "On 75 of 98\n",
      "On 90 of 98\n"
     ]
    },
    {
     "name": "stderr",
     "output_type": "stream",
     "text": [
      "WARNING: VerifyWarning: Card is too long, comment will be truncated. [astropy.io.fits.card]\n"
     ]
    }
   ],
   "source": [
    "phot.do_phot(useMultiprocessing=True)"
   ]
  },
  {
   "cell_type": "code",
   "execution_count": 7,
   "metadata": {},
   "outputs": [],
   "source": [
    "from importlib import reload\n",
    "reload(phot_pipeline)\n",
    "phot = phot_pipeline.phot(directParam=newParam)"
   ]
  },
  {
   "cell_type": "markdown",
   "metadata": {},
   "source": [
    "## Retrieve the photometry"
   ]
  },
  {
   "cell_type": "code",
   "execution_count": 8,
   "metadata": {},
   "outputs": [],
   "source": [
    "t1, t2 = phot.get_tSeries()"
   ]
  },
  {
   "cell_type": "code",
   "execution_count": 9,
   "metadata": {},
   "outputs": [
    {
     "data": {
      "text/plain": [
       "[<matplotlib.lines.Line2D at 0x1035d8ef0>]"
      ]
     },
     "execution_count": 9,
     "metadata": {},
     "output_type": "execute_result"
    },
    {
     "data": {
      "image/png": "[encoded data removed]",
      "text/plain": [
       "<Figure size 432x288 with 1 Axes>"
      ]
     },
     "metadata": {
      "needs_background": "light"
     },
     "output_type": "display_data"
    }
   ],
   "source": [
    "plt.plot(t1['Time (JD)'],t1['Flux 0'],'o')"
   ]
  },
  {
   "cell_type": "markdown",
   "metadata": {},
   "source": [
    "Here, the transit of CoRoT-1 b is clearly visible in the box photometry"
   ]
  },
  {
   "cell_type": "code",
   "execution_count": null,
   "metadata": {},
   "outputs": [],
   "source": []
  }
 ],
 "metadata": {
  "kernelspec": {
   "display_name": "Python 3",
   "language": "python",
   "name": "python3"
  },
  "language_info": {
   "codemirror_mode": {
    "name": "ipython",
    "version": 3
   },
   "file_extension": ".py",
   "mimetype": "text/x-python",
   "name": "python",
   "nbconvert_exporter": "python",
   "pygments_lexer": "ipython3",
   "version": "3.6.7"
  }
 },
 "nbformat": 4,
 "nbformat_minor": 4
}
