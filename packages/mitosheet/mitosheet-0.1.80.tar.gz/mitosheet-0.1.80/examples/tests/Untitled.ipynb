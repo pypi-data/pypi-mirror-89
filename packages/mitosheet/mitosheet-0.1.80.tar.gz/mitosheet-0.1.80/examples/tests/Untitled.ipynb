{
 "cells": [
  {
   "cell_type": "code",
   "execution_count": 1,
   "metadata": {},
   "outputs": [
    {
     "data": {
      "application/vnd.jupyter.widget-view+json": {
       "model_id": "af0652a17364460ca61637d226400d77",
       "version_major": 2,
       "version_minor": 0
      },
      "text/plain": [
       "MitoWidget(analysis_name='UUID-383bba05-f963-40d9-a627-1d5a08d60498', code_json='{\"imports\": \"from mitosheet i…"
      ]
     },
     "metadata": {},
     "output_type": "display_data"
    }
   ],
   "source": [
    "import mitosheet\n",
    "mitosheet.sheet(tutorial_mode=True)"
   ]
  },
  {
   "cell_type": "code",
   "execution_count": null,
   "metadata": {},
   "outputs": [],
   "source": []
  },
  {
   "cell_type": "code",
   "execution_count": null,
   "metadata": {},
   "outputs": [],
   "source": []
  }
 ],
 "metadata": {
  "kernelspec": {
   "display_name": "Python 3",
   "language": "python",
   "name": "python3"
  },
  "language_info": {
   "codemirror_mode": {
    "name": "ipython",
    "version": 3
   },
   "file_extension": ".py",
   "mimetype": "text/x-python",
   "name": "python",
   "nbconvert_exporter": "python",
   "pygments_lexer": "ipython3",
   "version": "3.8.5"
  },
  "widgets": {
   "application/vnd.jupyter.widget-state+json": {
    "state": {
     "73ad1cfbf35448f89e731be3cb298a97": {
      "model_module": "@jupyter-widgets/base",
      "model_module_version": "1.2.0",
      "model_name": "LayoutModel",
      "state": {}
     },
     "af0652a17364460ca61637d226400d77": {
      "model_module": "mitosheet",
      "model_module_version": "^0.1.79",
      "model_name": "ExampleModel",
      "state": {
       "_model_module_version": "^0.1.79",
       "_view_module_version": "^0.1.79",
       "analysis_name": "UUID-383bba05-f963-40d9-a627-1d5a08d60498",
       "code_json": "{\"imports\": \"from mitosheet import *\", \"code\": [\"# Step 1\", \"import pandas as pd\", \"df1_csv = pd.read_csv('df1.csv')\"]}",
       "column_filters_json": "[{\"A\": {\"operator\": \"And\", \"filters\": []}, \"B\": {\"operator\": \"And\", \"filters\": []}}]",
       "column_spreadsheet_code_json": "[{\"A\": \"\", \"B\": \"\"}]",
       "column_type_json": "[{\"A\": \"number\", \"B\": \"number\"}]",
       "df_names_json": "{\"df_names\": [\"df1_csv\"]}",
       "df_shape_json": "[{\"rows\": 3, \"cols\": 2}]",
       "layout": "IPY_MODEL_73ad1cfbf35448f89e731be3cb298a97",
       "saved_analysis_names_json": "[\"28\", \"29\", \"Dork\", \"Double Import\", \"File Import Get Length\", \"File Import\", \"Testing\", \"_49hlkjtgp\", \"_7atqow0oj\", \"_8b9x4aa2m\", \"_dh590wtqu\", \"_g10n6gs9g\", \"_iu8qft83p\", \"_jqu6ydgq6\", \"_jsu04q2sl\", \"_jtip39qtx\", \"_k4ce9w8om\", \"_llskhy8k5\", \"_nq5ctxt9m\", \"_ojtvedr82\", \"_om4ymb3qz\", \"_rlna3gzml\", \"_ui8gi1btf\", \"_wyyvgfivw\", \"aaa\", \"new\"]",
       "sheet_json": "[{\"columns\": [\"A\", \"B\"], \"index\": [0, 1, 2], \"data\": [[1, 4], [2, 5], [3, 6]]}]",
       "tutorial_mode": true,
       "user_id": "nate",
       "value": "Hello World"
      }
     }
    },
    "version_major": 2,
    "version_minor": 0
   }
  }
 },
 "nbformat": 4,
 "nbformat_minor": 4
}
