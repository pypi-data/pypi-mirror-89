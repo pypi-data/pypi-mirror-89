{
 "cells": [
  {
   "cell_type": "markdown",
   "metadata": {
    "papermill": {
     "duration": 0.007385,
     "end_time": "2019-10-28T23:04:07.464063",
     "exception": false,
     "start_time": "2019-10-28T23:04:07.456678",
     "status": "completed"
    },
    "tags": []
   },
   "source": [
    "# Modify an existing constraint\n",
    "This notebook demonstrates how to edit an existing constraint, in this case to add subsidies to the cost function.\n",
    "All constraints in the base model can be found on [ReadTheDocs](https://python-ehub.readthedocs.io/en/latest/ehub_model.html)."
   ]
  },
  {
   "cell_type": "code",
   "execution_count": null,
   "metadata": {
    "papermill": {
     "duration": 0.871371,
     "end_time": "2019-10-28T23:04:08.345115",
     "exception": false,
     "start_time": "2019-10-28T23:04:07.473744",
     "status": "completed"
    },
    "tags": []
   },
   "outputs": [],
   "source": [
    "from pyehub.energy_hub.ehub_model import EHubModel\n",
    "from pyehub.energy_hub.utils import constraint\n",
    "from pyehub.outputter import pretty_print"
   ]
  },
  {
   "cell_type": "markdown",
   "metadata": {
    "papermill": {
     "duration": 0.00364,
     "end_time": "2019-10-28T23:04:08.353219",
     "exception": false,
     "start_time": "2019-10-28T23:04:08.349579",
     "status": "completed"
    },
    "tags": []
   },
   "source": [
    "`calc_total_cost(self)` is an [existing constraint in the base Energy Hub model](https://python-ehub.readthedocs.io/en/latest/_modules/energy_hub/ehub_model.html#EHubModel.calc_total_cost). We show how to incorporate a subsidy in this calculation.\n",
    "\n",
    "First we define a new class `MyModel` which extends the parent class `EHubModel` and:\n",
    "+ Gets the original cost function to get the total cost.\n",
    "+ Calculates the subsidy based on the different technologies.\n",
    "+ Adds the subsidy to the previously estabilished total cost."
   ]
  },
  {
   "cell_type": "code",
   "execution_count": null,
   "metadata": {
    "papermill": {
     "duration": 0.013433,
     "end_time": "2019-10-28T23:04:08.370148",
     "exception": false,
     "start_time": "2019-10-28T23:04:08.356715",
     "status": "completed"
    },
    "tags": []
   },
   "outputs": [],
   "source": [
    "class MyModel(\n",
    "    EHubModel\n",
    "):  # inherit the `EHubModel` model class which defines all the governing constraints of the base Energy Hub model\n",
    "    @constraint()  # @ is important while defining the constraint.\n",
    "    def calc_total_cost(self):\n",
    "        \"\"\"Calculate a new total cost that allows for subsidies.\"\"\"\n",
    "        # This gets the constraint object from the parent class's\n",
    "        # `calc_total_cost`. If this function has arguments, you should\n",
    "        # pass in the arguments from the arguments of this new function.\n",
    "        parent_constraint = super().calc_total_cost()\n",
    "\n",
    "        # Now that we have the constraint, we also need to know how the\n",
    "        # constraint is structured. Is the LHS of the constraint the calculated\n",
    "        # total cost or is it the RHS? The only way to know is to look at the\n",
    "        # parent class's source code for `calc_total_cost`.\n",
    "        #\n",
    "        # In our case, the RHS is the calculated total cost.\n",
    "        old_total_cost = parent_constraint.rhs\n",
    "\n",
    "        # Now we calculate the total income we get from the subsidies. In this\n",
    "        # case we assume that we get $1000 for each converter we use.\n",
    "        # We slice the technologies list starting from index 1 since index 0 is 'Grid' which isn't subsidized\n",
    "        total_subsidy = sum(\n",
    "            1000 * self.is_installed[tech] for tech in self.technologies[1:]\n",
    "        )\n",
    "\n",
    "        # Now we return the new calculated total cost\n",
    "        return self.total_cost == old_total_cost - total_subsidy"
   ]
  },
  {
   "cell_type": "markdown",
   "metadata": {
    "papermill": {
     "duration": 0.003465,
     "end_time": "2019-10-28T23:04:08.378145",
     "exception": false,
     "start_time": "2019-10-28T23:04:08.374680",
     "status": "completed"
    },
    "tags": []
   },
   "source": [
    "Now we load and run a model."
   ]
  },
  {
   "cell_type": "code",
   "execution_count": null,
   "metadata": {
    "papermill": {
     "duration": 0.205107,
     "end_time": "2019-10-28T23:04:08.587010",
     "exception": false,
     "start_time": "2019-10-28T23:04:08.381903",
     "status": "completed"
    },
    "tags": []
   },
   "outputs": [],
   "source": [
    "excel_file = \"test_file_all_constraints_work.xlsx\"  # name of the excel file. [This must be in the current directory]\n",
    "my_model = MyModel(\n",
    "    excel=excel_file\n",
    ")  # instantiate our model. Nothing is solved at this point.\n",
    "results = my_model.solve()  # solve the model and get back our results\n",
    "pretty_print(results)  # print the results to the console"
   ]
  },
  {
   "cell_type": "code",
   "execution_count": null,
   "metadata": {
    "papermill": {
     "duration": 0.005615,
     "end_time": "2019-10-28T23:04:08.600172",
     "exception": false,
     "start_time": "2019-10-28T23:04:08.594557",
     "status": "completed"
    },
    "tags": []
   },
   "outputs": [],
   "source": []
  }
 ],
 "metadata": {
  "kernelspec": {
   "display_name": "Python 3",
   "language": "python",
   "name": "python3"
  }
 },
 "nbformat": 4,
 "nbformat_minor": 4
}
