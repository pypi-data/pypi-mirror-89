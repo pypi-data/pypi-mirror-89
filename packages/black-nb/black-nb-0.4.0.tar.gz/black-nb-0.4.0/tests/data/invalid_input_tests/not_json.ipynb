This is not a notebook
