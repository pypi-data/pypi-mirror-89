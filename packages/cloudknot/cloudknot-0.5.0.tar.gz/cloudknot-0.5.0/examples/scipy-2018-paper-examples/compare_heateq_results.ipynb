{
 "cells": [
  {
   "cell_type": "code",
   "execution_count": 1,
   "metadata": {},
   "outputs": [],
   "source": [
    "import altair as alt\n",
    "import numpy as np\n",
    "import pandas as pd\n",
    "import pickle"
   ]
  },
  {
   "cell_type": "code",
   "execution_count": 2,
   "metadata": {},
   "outputs": [],
   "source": [
    "def results_dataframe(systems, fnames):\n",
    "    frames = []\n",
    "    for sys, fname in zip(systems, fnames):\n",
    "        with open(fname, 'rb') as fp:\n",
    "            scaling_dict = pickle.load(fp)\n",
    "\n",
    "        df = pd.DataFrame(scaling_dict)\n",
    "        df['system'] = sys\n",
    "        frames.append(df)\n",
    "\n",
    "    results = pd.concat(frames)\n",
    "    results['max_job_time'] = results['max_job_time'] / np.timedelta64(1,'s')\n",
    "    return results"
   ]
  },
  {
   "cell_type": "code",
   "execution_count": 3,
   "metadata": {},
   "outputs": [],
   "source": [
    "sys_names = [\n",
    "    'pywren',\n",
    "    'cloudknot (default)',\n",
    "    'cloudknot (custom)',\n",
    "]\n",
    "\n",
    "nargs_fnames = [\n",
    "    'pywren_nargs_scaling.pkl',\n",
    "    'cloudknot_nargs_scaling_default_params.pkl',\n",
    "    'cloudknot_nargs_scaling.pkl',\n",
    "]\n",
    "\n",
    "syssize_fnames = [\n",
    "    'pywren_syssize_scaling.pkl',\n",
    "    'cloudknot_syssize_scaling_default_params.pkl',\n",
    "    'cloudknot_syssize_scaling.pkl',\n",
    "]\n",
    "\n",
    "nargs_scaling_results = results_dataframe(sys_names, nargs_fnames)\n",
    "syssize_scaling_results = results_dataframe(sys_names, syssize_fnames)"
   ]
  },
  {
   "cell_type": "code",
   "execution_count": 4,
   "metadata": {},
   "outputs": [
    {
     "data": {
      "text/html": [
       "<div>\n",
       "<style scoped>\n",
       "    .dataframe tbody tr th:only-of-type {\n",
       "        vertical-align: middle;\n",
       "    }\n",
       "\n",
       "    .dataframe tbody tr th {\n",
       "        vertical-align: top;\n",
       "    }\n",
       "\n",
       "    .dataframe thead th {\n",
       "        text-align: right;\n",
       "    }\n",
       "</style>\n",
       "<table border=\"1\" class=\"dataframe\">\n",
       "  <thead>\n",
       "    <tr style=\"text-align: right;\">\n",
       "      <th></th>\n",
       "      <th>max_job_time</th>\n",
       "      <th>npoints</th>\n",
       "      <th>system</th>\n",
       "    </tr>\n",
       "  </thead>\n",
       "  <tbody>\n",
       "    <tr>\n",
       "      <th>0</th>\n",
       "      <td>2.291</td>\n",
       "      <td>2</td>\n",
       "      <td>pywren</td>\n",
       "    </tr>\n",
       "    <tr>\n",
       "      <th>1</th>\n",
       "      <td>16.520</td>\n",
       "      <td>4</td>\n",
       "      <td>pywren</td>\n",
       "    </tr>\n",
       "    <tr>\n",
       "      <th>2</th>\n",
       "      <td>17.443</td>\n",
       "      <td>8</td>\n",
       "      <td>pywren</td>\n",
       "    </tr>\n",
       "    <tr>\n",
       "      <th>3</th>\n",
       "      <td>22.162</td>\n",
       "      <td>16</td>\n",
       "      <td>pywren</td>\n",
       "    </tr>\n",
       "    <tr>\n",
       "      <th>4</th>\n",
       "      <td>19.345</td>\n",
       "      <td>32</td>\n",
       "      <td>pywren</td>\n",
       "    </tr>\n",
       "    <tr>\n",
       "      <th>5</th>\n",
       "      <td>20.482</td>\n",
       "      <td>64</td>\n",
       "      <td>pywren</td>\n",
       "    </tr>\n",
       "    <tr>\n",
       "      <th>6</th>\n",
       "      <td>22.035</td>\n",
       "      <td>128</td>\n",
       "      <td>pywren</td>\n",
       "    </tr>\n",
       "    <tr>\n",
       "      <th>7</th>\n",
       "      <td>22.102</td>\n",
       "      <td>256</td>\n",
       "      <td>pywren</td>\n",
       "    </tr>\n",
       "    <tr>\n",
       "      <th>8</th>\n",
       "      <td>14.131</td>\n",
       "      <td>512</td>\n",
       "      <td>pywren</td>\n",
       "    </tr>\n",
       "    <tr>\n",
       "      <th>9</th>\n",
       "      <td>26.163</td>\n",
       "      <td>1024</td>\n",
       "      <td>pywren</td>\n",
       "    </tr>\n",
       "    <tr>\n",
       "      <th>10</th>\n",
       "      <td>38.583</td>\n",
       "      <td>2048</td>\n",
       "      <td>pywren</td>\n",
       "    </tr>\n",
       "    <tr>\n",
       "      <th>11</th>\n",
       "      <td>87.600</td>\n",
       "      <td>4096</td>\n",
       "      <td>pywren</td>\n",
       "    </tr>\n",
       "    <tr>\n",
       "      <th>0</th>\n",
       "      <td>48.337</td>\n",
       "      <td>2</td>\n",
       "      <td>cloudknot (default)</td>\n",
       "    </tr>\n",
       "    <tr>\n",
       "      <th>1</th>\n",
       "      <td>149.888</td>\n",
       "      <td>4</td>\n",
       "      <td>cloudknot (default)</td>\n",
       "    </tr>\n",
       "    <tr>\n",
       "      <th>2</th>\n",
       "      <td>247.269</td>\n",
       "      <td>8</td>\n",
       "      <td>cloudknot (default)</td>\n",
       "    </tr>\n",
       "    <tr>\n",
       "      <th>3</th>\n",
       "      <td>320.784</td>\n",
       "      <td>16</td>\n",
       "      <td>cloudknot (default)</td>\n",
       "    </tr>\n",
       "    <tr>\n",
       "      <th>4</th>\n",
       "      <td>108.277</td>\n",
       "      <td>32</td>\n",
       "      <td>cloudknot (default)</td>\n",
       "    </tr>\n",
       "    <tr>\n",
       "      <th>5</th>\n",
       "      <td>198.870</td>\n",
       "      <td>64</td>\n",
       "      <td>cloudknot (default)</td>\n",
       "    </tr>\n",
       "    <tr>\n",
       "      <th>6</th>\n",
       "      <td>252.449</td>\n",
       "      <td>128</td>\n",
       "      <td>cloudknot (default)</td>\n",
       "    </tr>\n",
       "    <tr>\n",
       "      <th>7</th>\n",
       "      <td>144.155</td>\n",
       "      <td>256</td>\n",
       "      <td>cloudknot (default)</td>\n",
       "    </tr>\n",
       "    <tr>\n",
       "      <th>8</th>\n",
       "      <td>324.914</td>\n",
       "      <td>512</td>\n",
       "      <td>cloudknot (default)</td>\n",
       "    </tr>\n",
       "    <tr>\n",
       "      <th>9</th>\n",
       "      <td>586.702</td>\n",
       "      <td>1024</td>\n",
       "      <td>cloudknot (default)</td>\n",
       "    </tr>\n",
       "    <tr>\n",
       "      <th>10</th>\n",
       "      <td>928.049</td>\n",
       "      <td>2048</td>\n",
       "      <td>cloudknot (default)</td>\n",
       "    </tr>\n",
       "    <tr>\n",
       "      <th>11</th>\n",
       "      <td>2457.198</td>\n",
       "      <td>4096</td>\n",
       "      <td>cloudknot (default)</td>\n",
       "    </tr>\n",
       "    <tr>\n",
       "      <th>0</th>\n",
       "      <td>62.008</td>\n",
       "      <td>2</td>\n",
       "      <td>cloudknot (custom)</td>\n",
       "    </tr>\n",
       "    <tr>\n",
       "      <th>1</th>\n",
       "      <td>45.058</td>\n",
       "      <td>4</td>\n",
       "      <td>cloudknot (custom)</td>\n",
       "    </tr>\n",
       "    <tr>\n",
       "      <th>2</th>\n",
       "      <td>43.976</td>\n",
       "      <td>8</td>\n",
       "      <td>cloudknot (custom)</td>\n",
       "    </tr>\n",
       "    <tr>\n",
       "      <th>3</th>\n",
       "      <td>26.312</td>\n",
       "      <td>16</td>\n",
       "      <td>cloudknot (custom)</td>\n",
       "    </tr>\n",
       "    <tr>\n",
       "      <th>4</th>\n",
       "      <td>23.610</td>\n",
       "      <td>32</td>\n",
       "      <td>cloudknot (custom)</td>\n",
       "    </tr>\n",
       "    <tr>\n",
       "      <th>5</th>\n",
       "      <td>30.847</td>\n",
       "      <td>64</td>\n",
       "      <td>cloudknot (custom)</td>\n",
       "    </tr>\n",
       "    <tr>\n",
       "      <th>6</th>\n",
       "      <td>43.013</td>\n",
       "      <td>128</td>\n",
       "      <td>cloudknot (custom)</td>\n",
       "    </tr>\n",
       "    <tr>\n",
       "      <th>7</th>\n",
       "      <td>76.391</td>\n",
       "      <td>256</td>\n",
       "      <td>cloudknot (custom)</td>\n",
       "    </tr>\n",
       "    <tr>\n",
       "      <th>8</th>\n",
       "      <td>129.463</td>\n",
       "      <td>512</td>\n",
       "      <td>cloudknot (custom)</td>\n",
       "    </tr>\n",
       "    <tr>\n",
       "      <th>9</th>\n",
       "      <td>222.536</td>\n",
       "      <td>1024</td>\n",
       "      <td>cloudknot (custom)</td>\n",
       "    </tr>\n",
       "    <tr>\n",
       "      <th>10</th>\n",
       "      <td>402.347</td>\n",
       "      <td>2048</td>\n",
       "      <td>cloudknot (custom)</td>\n",
       "    </tr>\n",
       "    <tr>\n",
       "      <th>11</th>\n",
       "      <td>662.090</td>\n",
       "      <td>4096</td>\n",
       "      <td>cloudknot (custom)</td>\n",
       "    </tr>\n",
       "  </tbody>\n",
       "</table>\n",
       "</div>"
      ],
      "text/plain": [
       "    max_job_time  npoints               system\n",
       "0          2.291        2               pywren\n",
       "1         16.520        4               pywren\n",
       "2         17.443        8               pywren\n",
       "3         22.162       16               pywren\n",
       "4         19.345       32               pywren\n",
       "5         20.482       64               pywren\n",
       "6         22.035      128               pywren\n",
       "7         22.102      256               pywren\n",
       "8         14.131      512               pywren\n",
       "9         26.163     1024               pywren\n",
       "10        38.583     2048               pywren\n",
       "11        87.600     4096               pywren\n",
       "0         48.337        2  cloudknot (default)\n",
       "1        149.888        4  cloudknot (default)\n",
       "2        247.269        8  cloudknot (default)\n",
       "3        320.784       16  cloudknot (default)\n",
       "4        108.277       32  cloudknot (default)\n",
       "5        198.870       64  cloudknot (default)\n",
       "6        252.449      128  cloudknot (default)\n",
       "7        144.155      256  cloudknot (default)\n",
       "8        324.914      512  cloudknot (default)\n",
       "9        586.702     1024  cloudknot (default)\n",
       "10       928.049     2048  cloudknot (default)\n",
       "11      2457.198     4096  cloudknot (default)\n",
       "0         62.008        2   cloudknot (custom)\n",
       "1         45.058        4   cloudknot (custom)\n",
       "2         43.976        8   cloudknot (custom)\n",
       "3         26.312       16   cloudknot (custom)\n",
       "4         23.610       32   cloudknot (custom)\n",
       "5         30.847       64   cloudknot (custom)\n",
       "6         43.013      128   cloudknot (custom)\n",
       "7         76.391      256   cloudknot (custom)\n",
       "8        129.463      512   cloudknot (custom)\n",
       "9        222.536     1024   cloudknot (custom)\n",
       "10       402.347     2048   cloudknot (custom)\n",
       "11       662.090     4096   cloudknot (custom)"
      ]
     },
     "execution_count": 4,
     "metadata": {},
     "output_type": "execute_result"
    }
   ],
   "source": [
    "nargs_scaling_results"
   ]
  },
  {
   "cell_type": "code",
   "execution_count": 5,
   "metadata": {},
   "outputs": [
    {
     "data": {
      "text/html": [
       "<div>\n",
       "<style scoped>\n",
       "    .dataframe tbody tr th:only-of-type {\n",
       "        vertical-align: middle;\n",
       "    }\n",
       "\n",
       "    .dataframe tbody tr th {\n",
       "        vertical-align: top;\n",
       "    }\n",
       "\n",
       "    .dataframe thead th {\n",
       "        text-align: right;\n",
       "    }\n",
       "</style>\n",
       "<table border=\"1\" class=\"dataframe\">\n",
       "  <thead>\n",
       "    <tr style=\"text-align: right;\">\n",
       "      <th></th>\n",
       "      <th>max_job_time</th>\n",
       "      <th>side_len</th>\n",
       "      <th>system</th>\n",
       "    </tr>\n",
       "  </thead>\n",
       "  <tbody>\n",
       "    <tr>\n",
       "      <th>0</th>\n",
       "      <td>2.337</td>\n",
       "      <td>10</td>\n",
       "      <td>pywren</td>\n",
       "    </tr>\n",
       "    <tr>\n",
       "      <th>1</th>\n",
       "      <td>2.545</td>\n",
       "      <td>25</td>\n",
       "      <td>pywren</td>\n",
       "    </tr>\n",
       "    <tr>\n",
       "      <th>2</th>\n",
       "      <td>12.680</td>\n",
       "      <td>50</td>\n",
       "      <td>pywren</td>\n",
       "    </tr>\n",
       "    <tr>\n",
       "      <th>3</th>\n",
       "      <td>126.445</td>\n",
       "      <td>100</td>\n",
       "      <td>pywren</td>\n",
       "    </tr>\n",
       "    <tr>\n",
       "      <th>4</th>\n",
       "      <td>270.665</td>\n",
       "      <td>125</td>\n",
       "      <td>pywren</td>\n",
       "    </tr>\n",
       "    <tr>\n",
       "      <th>0</th>\n",
       "      <td>151.120</td>\n",
       "      <td>10</td>\n",
       "      <td>cloudknot (default)</td>\n",
       "    </tr>\n",
       "    <tr>\n",
       "      <th>1</th>\n",
       "      <td>53.268</td>\n",
       "      <td>25</td>\n",
       "      <td>cloudknot (default)</td>\n",
       "    </tr>\n",
       "    <tr>\n",
       "      <th>2</th>\n",
       "      <td>26.474</td>\n",
       "      <td>50</td>\n",
       "      <td>cloudknot (default)</td>\n",
       "    </tr>\n",
       "    <tr>\n",
       "      <th>3</th>\n",
       "      <td>98.540</td>\n",
       "      <td>100</td>\n",
       "      <td>cloudknot (default)</td>\n",
       "    </tr>\n",
       "    <tr>\n",
       "      <th>4</th>\n",
       "      <td>186.018</td>\n",
       "      <td>125</td>\n",
       "      <td>cloudknot (default)</td>\n",
       "    </tr>\n",
       "    <tr>\n",
       "      <th>5</th>\n",
       "      <td>214.167</td>\n",
       "      <td>150</td>\n",
       "      <td>cloudknot (default)</td>\n",
       "    </tr>\n",
       "    <tr>\n",
       "      <th>6</th>\n",
       "      <td>369.690</td>\n",
       "      <td>175</td>\n",
       "      <td>cloudknot (default)</td>\n",
       "    </tr>\n",
       "    <tr>\n",
       "      <th>0</th>\n",
       "      <td>54.345</td>\n",
       "      <td>10</td>\n",
       "      <td>cloudknot (custom)</td>\n",
       "    </tr>\n",
       "    <tr>\n",
       "      <th>1</th>\n",
       "      <td>30.709</td>\n",
       "      <td>25</td>\n",
       "      <td>cloudknot (custom)</td>\n",
       "    </tr>\n",
       "    <tr>\n",
       "      <th>2</th>\n",
       "      <td>37.784</td>\n",
       "      <td>50</td>\n",
       "      <td>cloudknot (custom)</td>\n",
       "    </tr>\n",
       "    <tr>\n",
       "      <th>3</th>\n",
       "      <td>72.454</td>\n",
       "      <td>100</td>\n",
       "      <td>cloudknot (custom)</td>\n",
       "    </tr>\n",
       "    <tr>\n",
       "      <th>4</th>\n",
       "      <td>129.751</td>\n",
       "      <td>125</td>\n",
       "      <td>cloudknot (custom)</td>\n",
       "    </tr>\n",
       "    <tr>\n",
       "      <th>5</th>\n",
       "      <td>223.170</td>\n",
       "      <td>150</td>\n",
       "      <td>cloudknot (custom)</td>\n",
       "    </tr>\n",
       "    <tr>\n",
       "      <th>6</th>\n",
       "      <td>400.223</td>\n",
       "      <td>175</td>\n",
       "      <td>cloudknot (custom)</td>\n",
       "    </tr>\n",
       "  </tbody>\n",
       "</table>\n",
       "</div>"
      ],
      "text/plain": [
       "   max_job_time  side_len               system\n",
       "0         2.337        10               pywren\n",
       "1         2.545        25               pywren\n",
       "2        12.680        50               pywren\n",
       "3       126.445       100               pywren\n",
       "4       270.665       125               pywren\n",
       "0       151.120        10  cloudknot (default)\n",
       "1        53.268        25  cloudknot (default)\n",
       "2        26.474        50  cloudknot (default)\n",
       "3        98.540       100  cloudknot (default)\n",
       "4       186.018       125  cloudknot (default)\n",
       "5       214.167       150  cloudknot (default)\n",
       "6       369.690       175  cloudknot (default)\n",
       "0        54.345        10   cloudknot (custom)\n",
       "1        30.709        25   cloudknot (custom)\n",
       "2        37.784        50   cloudknot (custom)\n",
       "3        72.454       100   cloudknot (custom)\n",
       "4       129.751       125   cloudknot (custom)\n",
       "5       223.170       150   cloudknot (custom)\n",
       "6       400.223       175   cloudknot (custom)"
      ]
     },
     "execution_count": 5,
     "metadata": {},
     "output_type": "execute_result"
    }
   ],
   "source": [
    "syssize_scaling_results"
   ]
  },
  {
   "cell_type": "code",
   "execution_count": 8,
   "metadata": {},
   "outputs": [
    {
     "data": {
      "application/vnd.vegalite.v2+json": {
       "$schema": "https://vega.github.io/schema/vega-lite/v2.4.1.json",
       "config": {
        "legend": {
         "cornerRadius": 5,
         "fillColor": "#ffffff",
         "padding": 5,
         "strokeColor": "black"
        },
        "view": {
         "height": 300,
         "width": 400
        }
       },
       "data": {
        "values": [
         {
          "max_job_time": 2.291,
          "npoints": 2,
          "system": "pywren"
         },
         {
          "max_job_time": 16.52,
          "npoints": 4,
          "system": "pywren"
         },
         {
          "max_job_time": 17.443,
          "npoints": 8,
          "system": "pywren"
         },
         {
          "max_job_time": 22.162,
          "npoints": 16,
          "system": "pywren"
         },
         {
          "max_job_time": 19.345,
          "npoints": 32,
          "system": "pywren"
         },
         {
          "max_job_time": 20.482,
          "npoints": 64,
          "system": "pywren"
         },
         {
          "max_job_time": 22.035,
          "npoints": 128,
          "system": "pywren"
         },
         {
          "max_job_time": 22.102,
          "npoints": 256,
          "system": "pywren"
         },
         {
          "max_job_time": 14.131,
          "npoints": 512,
          "system": "pywren"
         },
         {
          "max_job_time": 26.163,
          "npoints": 1024,
          "system": "pywren"
         },
         {
          "max_job_time": 38.583,
          "npoints": 2048,
          "system": "pywren"
         },
         {
          "max_job_time": 87.6,
          "npoints": 4096,
          "system": "pywren"
         },
         {
          "max_job_time": 48.337,
          "npoints": 2,
          "system": "cloudknot (default)"
         },
         {
          "max_job_time": 149.888,
          "npoints": 4,
          "system": "cloudknot (default)"
         },
         {
          "max_job_time": 247.269,
          "npoints": 8,
          "system": "cloudknot (default)"
         },
         {
          "max_job_time": 320.784,
          "npoints": 16,
          "system": "cloudknot (default)"
         },
         {
          "max_job_time": 108.277,
          "npoints": 32,
          "system": "cloudknot (default)"
         },
         {
          "max_job_time": 198.87,
          "npoints": 64,
          "system": "cloudknot (default)"
         },
         {
          "max_job_time": 252.449,
          "npoints": 128,
          "system": "cloudknot (default)"
         },
         {
          "max_job_time": 144.155,
          "npoints": 256,
          "system": "cloudknot (default)"
         },
         {
          "max_job_time": 324.914,
          "npoints": 512,
          "system": "cloudknot (default)"
         },
         {
          "max_job_time": 586.702,
          "npoints": 1024,
          "system": "cloudknot (default)"
         },
         {
          "max_job_time": 928.049,
          "npoints": 2048,
          "system": "cloudknot (default)"
         },
         {
          "max_job_time": 2457.198,
          "npoints": 4096,
          "system": "cloudknot (default)"
         },
         {
          "max_job_time": 62.008,
          "npoints": 2,
          "system": "cloudknot (custom)"
         },
         {
          "max_job_time": 45.058,
          "npoints": 4,
          "system": "cloudknot (custom)"
         },
         {
          "max_job_time": 43.976,
          "npoints": 8,
          "system": "cloudknot (custom)"
         },
         {
          "max_job_time": 26.312,
          "npoints": 16,
          "system": "cloudknot (custom)"
         },
         {
          "max_job_time": 23.61,
          "npoints": 32,
          "system": "cloudknot (custom)"
         },
         {
          "max_job_time": 30.847,
          "npoints": 64,
          "system": "cloudknot (custom)"
         },
         {
          "max_job_time": 43.013,
          "npoints": 128,
          "system": "cloudknot (custom)"
         },
         {
          "max_job_time": 76.391,
          "npoints": 256,
          "system": "cloudknot (custom)"
         },
         {
          "max_job_time": 129.463,
          "npoints": 512,
          "system": "cloudknot (custom)"
         },
         {
          "max_job_time": 222.536,
          "npoints": 1024,
          "system": "cloudknot (custom)"
         },
         {
          "max_job_time": 402.347,
          "npoints": 2048,
          "system": "cloudknot (custom)"
         },
         {
          "max_job_time": 662.09,
          "npoints": 4096,
          "system": "cloudknot (custom)"
         }
        ]
       },
       "encoding": {
        "color": {
         "field": "system",
         "legend": {
          "orient": "top-left",
          "title": "System"
         },
         "type": "nominal"
        },
        "x": {
         "axis": {
          "title": "Number of arguments (log scale)"
         },
         "field": "npoints",
         "scale": {
          "base": 2,
          "type": "log"
         },
         "type": "quantitative"
        },
        "y": {
         "axis": {
          "title": "Execution Time (s)"
         },
         "field": "max_job_time",
         "scale": {
          "base": 10,
          "type": "log"
         },
         "type": "quantitative"
        }
       },
       "mark": "line"
      },
      "image/png": "[encoded data removed]",
      "text/plain": [
       "<VegaLite 2 object>\n",
       "\n",
       "If you see this message, it means the renderer has not been properly enabled\n",
       "for the frontend that you are using. For more information, see\n",
       "https://altair-viz.github.io/user_guide/troubleshooting.html\n"
      ]
     },
     "execution_count": 8,
     "metadata": {},
     "output_type": "execute_result"
    }
   ],
   "source": [
    "lines = alt.Chart(nargs_scaling_results).mark_line().encode(\n",
    "    alt.X(\"npoints:Q\", scale=alt.Scale(base=2, type=\"log\"), axis=alt.Axis(title=\"Number of arguments (log scale)\")),\n",
    "    alt.Y('max_job_time:Q', scale=alt.Scale(base=10, type=\"log\"), axis=alt.Axis(title='Execution Time (s)')),\n",
    "    color=alt.Color(\"system\", legend=alt.Legend(orient=\"top-left\", title=\"System\"))\n",
    ")\n",
    "\n",
    "lines = lines.configure_legend(fillColor='#ffffff', strokeColor='black', cornerRadius=5,\n",
    "                               padding=5)\n",
    "\n",
    "lines"
   ]
  },
  {
   "cell_type": "code",
   "execution_count": 7,
   "metadata": {},
   "outputs": [
    {
     "data": {
      "application/vnd.vegalite.v2+json": {
       "$schema": "https://vega.github.io/schema/vega-lite/v2.4.1.json",
       "config": {
        "legend": {
         "cornerRadius": 5,
         "fillColor": "#ffffff",
         "padding": 5,
         "strokeColor": "black"
        },
        "view": {
         "height": 300,
         "width": 400
        }
       },
       "layer": [
        {
         "data": {
          "values": [
           {
            "end": 180,
            "start": 125
           }
          ]
         },
         "encoding": {
          "x": {
           "field": "start",
           "type": "quantitative"
          },
          "x2": {
           "field": "end",
           "type": "quantitative"
          }
         },
         "mark": {
          "color": "#807f80",
          "opacity": 0.6,
          "type": "rect"
         }
        },
        {
         "data": {
          "values": [
           {
            "Threshold": "cloudknot only",
            "ThresholdValue": 125
           }
          ]
         },
         "encoding": {
          "x": {
           "field": "ThresholdValue",
           "type": "quantitative"
          }
         },
         "mark": "rule"
        },
        {
         "data": {
          "values": [
           {
            "max_job_time": 2.337,
            "side_len": 10,
            "system": "pywren"
           },
           {
            "max_job_time": 2.545,
            "side_len": 25,
            "system": "pywren"
           },
           {
            "max_job_time": 12.68,
            "side_len": 50,
            "system": "pywren"
           },
           {
            "max_job_time": 126.445,
            "side_len": 100,
            "system": "pywren"
           },
           {
            "max_job_time": 270.665,
            "side_len": 125,
            "system": "pywren"
           },
           {
            "max_job_time": 151.12,
            "side_len": 10,
            "system": "cloudknot (default)"
           },
           {
            "max_job_time": 53.268,
            "side_len": 25,
            "system": "cloudknot (default)"
           },
           {
            "max_job_time": 26.474,
            "side_len": 50,
            "system": "cloudknot (default)"
           },
           {
            "max_job_time": 98.54,
            "side_len": 100,
            "system": "cloudknot (default)"
           },
           {
            "max_job_time": 186.018,
            "side_len": 125,
            "system": "cloudknot (default)"
           },
           {
            "max_job_time": 214.167,
            "side_len": 150,
            "system": "cloudknot (default)"
           },
           {
            "max_job_time": 369.69,
            "side_len": 175,
            "system": "cloudknot (default)"
           },
           {
            "max_job_time": 54.345,
            "side_len": 10,
            "system": "cloudknot (custom)"
           },
           {
            "max_job_time": 30.709,
            "side_len": 25,
            "system": "cloudknot (custom)"
           },
           {
            "max_job_time": 37.784,
            "side_len": 50,
            "system": "cloudknot (custom)"
           },
           {
            "max_job_time": 72.454,
            "side_len": 100,
            "system": "cloudknot (custom)"
           },
           {
            "max_job_time": 129.751,
            "side_len": 125,
            "system": "cloudknot (custom)"
           },
           {
            "max_job_time": 223.17,
            "side_len": 150,
            "system": "cloudknot (custom)"
           },
           {
            "max_job_time": 400.223,
            "side_len": 175,
            "system": "cloudknot (custom)"
           }
          ]
         },
         "encoding": {
          "color": {
           "field": "system",
           "legend": {
            "orient": "bottom-right",
            "title": "System"
           },
           "type": "nominal"
          },
          "x": {
           "axis": {
            "title": "Side Length"
           },
           "field": "side_len",
           "type": "quantitative"
          },
          "y": {
           "axis": {
            "title": "Execution Time (s)"
           },
           "field": "max_job_time",
           "scale": {
            "base": 10,
            "type": "log"
           },
           "type": "quantitative"
          }
         },
         "mark": "line"
        },
        {
         "data": {
          "values": [
           {
            "Threshold": "cloudknot only",
            "ThresholdValue": 125
           }
          ]
         },
         "encoding": {
          "text": {
           "value": "cloudknot only"
          },
          "y": {
           "field": "ThresholdValue",
           "type": "quantitative"
          }
         },
         "mark": {
          "align": "left",
          "baseline": "middle",
          "dx": 261,
          "dy": 10,
          "type": "text"
         }
        }
       ]
      },
      "image/png": "[encoded data removed]",
      "text/plain": [
       "<VegaLite 2 object>\n",
       "\n",
       "If you see this message, it means the renderer has not been properly enabled\n",
       "for the frontend that you are using. For more information, see\n",
       "https://altair-viz.github.io/user_guide/troubleshooting.html\n"
      ]
     },
     "execution_count": 7,
     "metadata": {},
     "output_type": "execute_result"
    }
   ],
   "source": [
    "lines = alt.Chart(syssize_scaling_results).mark_line().encode(\n",
    "    alt.X(\"side_len:Q\", axis=alt.Axis(title='Side Length')),\n",
    "    alt.Y('max_job_time:Q', scale=alt.Scale(base=10, type=\"log\"), axis=alt.Axis(title='Execution Time (s)')),\n",
    "    color=alt.Color(\"system\", legend=alt.Legend(orient=\"bottom-right\", title=\"System\"))\n",
    ")\n",
    "\n",
    "data2 = pd.DataFrame([{\"ThresholdValue\": 125, \"Threshold\": \"cloudknot only\"}])\n",
    "data3 = pd.DataFrame([{\"start\": 125, \"end\": 180,}])\n",
    "\n",
    "rule = alt.Chart(data2).mark_rule().encode(\n",
    "    x='ThresholdValue:Q'\n",
    ")\n",
    "\n",
    "text = alt.Chart(data2).mark_text(\n",
    "    align='left', baseline='middle',\n",
    "    dx=261, dy=10\n",
    ").encode(\n",
    "    alt.Y('ThresholdValue:Q'),\n",
    "    text=alt.value('cloudknot only')\n",
    ")\n",
    "\n",
    "rect = alt.Chart(data3).mark_rect(color=\"#807f80\", opacity=0.6).encode(\n",
    "    x=\"start:Q\",\n",
    "    x2=\"end:Q\",\n",
    ")\n",
    "\n",
    "chart = rect + rule + lines + text\n",
    "\n",
    "chart = chart.configure_legend(fillColor='#ffffff', strokeColor='black', cornerRadius=5,\n",
    "                               padding=5)\n",
    "\n",
    "chart"
   ]
  },
  {
   "cell_type": "code",
   "execution_count": null,
   "metadata": {},
   "outputs": [],
   "source": []
  }
 ],
 "metadata": {
  "kernelspec": {
   "display_name": "Python 3",
   "language": "python",
   "name": "python3"
  },
  "language_info": {
   "codemirror_mode": {
    "name": "ipython",
    "version": 3
   },
   "file_extension": ".py",
   "mimetype": "text/x-python",
   "name": "python",
   "nbconvert_exporter": "python",
   "pygments_lexer": "ipython3",
   "version": "3.5.3"
  }
 },
 "nbformat": 4,
 "nbformat_minor": 2
}
