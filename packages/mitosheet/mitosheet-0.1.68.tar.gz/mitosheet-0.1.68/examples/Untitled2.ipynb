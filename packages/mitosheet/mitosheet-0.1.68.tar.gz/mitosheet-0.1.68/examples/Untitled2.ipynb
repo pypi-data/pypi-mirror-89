{
 "cells": [
  {
   "cell_type": "code",
   "execution_count": 3,
   "metadata": {},
   "outputs": [
    {
     "data": {
      "application/vnd.jupyter.widget-view+json": {
       "model_id": "6057b379aaf54acfbda2d37ac52b1288",
       "version_major": 2,
       "version_minor": 0
      },
      "text/plain": [
       "MitoWidget(analysis_name='UUID-17452586-170c-4c11-9e10-7afb666b9863', code_json='{\"imports\": \"from mitosheet i…"
      ]
     },
     "metadata": {},
     "output_type": "display_data"
    }
   ],
   "source": [
    "import mitosheet\n",
    "mitosheet.sheet()"
   ]
  },
  {
   "cell_type": "code",
   "execution_count": null,
   "metadata": {},
   "outputs": [],
   "source": [
    "# MITO CODE START (DO NOT EDIT)\n",
    "# SAVED-ANALYSIS-STARTUUID-17452586-170c-4c11-9e10-7afb666b9863SAVED-ANALYSIS-END\n",
    "\n",
    "from mitosheet import *\n",
    "\n",
    "# Step 1\n",
    "\n",
    "import pandas as pd\n",
    "  \n",
    "# MITO CODE END (DO NOT EDIT)"
   ]
  },
  {
   "cell_type": "code",
   "execution_count": null,
   "metadata": {},
   "outputs": [],
   "source": []
  },
  {
   "cell_type": "code",
   "execution_count": null,
   "metadata": {},
   "outputs": [],
   "source": []
  },
  {
   "cell_type": "code",
   "execution_count": null,
   "metadata": {},
   "outputs": [],
   "source": []
  }
 ],
 "metadata": {
  "kernelspec": {
   "display_name": "Python 3",
   "language": "python",
   "name": "python3"
  },
  "language_info": {
   "codemirror_mode": {
    "name": "ipython",
    "version": 3
   },
   "file_extension": ".py",
   "mimetype": "text/x-python",
   "name": "python",
   "nbconvert_exporter": "python",
   "pygments_lexer": "ipython3",
   "version": "3.8.5"
  },
  "widgets": {
   "application/vnd.jupyter.widget-state+json": {
    "state": {
     "15c33f8122bc43139e80917f22345b6d": {
      "model_module": "@jupyter-widgets/base",
      "model_module_version": "1.2.0",
      "model_name": "LayoutModel",
      "state": {}
     },
     "5559dbeb51604ddf990b92fb0e86f7bd": {
      "model_module": "@jupyter-widgets/base",
      "model_module_version": "1.2.0",
      "model_name": "LayoutModel",
      "state": {}
     },
     "6057b379aaf54acfbda2d37ac52b1288": {
      "model_module": "mitosheet",
      "model_module_version": "^0.1.63",
      "model_name": "ExampleModel",
      "state": {
       "_model_module_version": "^0.1.63",
       "_view_module_version": "^0.1.63",
       "analysis_name": "UUID-17452586-170c-4c11-9e10-7afb666b9863",
       "code_json": "{\"imports\": \"from mitosheet import *\", \"code\": [\"# Step 1\", \"import pandas as pd\"]}",
       "column_filters_json": "[{\"A\": {\"operator\": \"And\", \"filters\": []}, \"B\": {\"operator\": \"And\", \"filters\": []}}]",
       "column_spreadsheet_code_json": "[{\"A\": \"\", \"B\": \"\"}]",
       "column_type_json": "[{\"A\": \"number\", \"B\": \"number\"}]",
       "df_names_json": "{\"df_names\": []}",
       "df_shape_json": "[{\"rows\": 3, \"cols\": 2}]",
       "layout": "IPY_MODEL_5559dbeb51604ddf990b92fb0e86f7bd",
       "saved_analysis_names_json": "[\"1\", \"28\", \"Double Import\", \"File Import Get Length\", \"File Import\", \"Testing\", \"aaa\", \"new\"]",
       "sheet_json": "[{\"columns\": [\"A\", \"B\"], \"index\": [0, 1, 2], \"data\": [[7, 10], [8, 11], [9, 12]]}]",
       "user_id": "nate",
       "value": "Hello World"
      }
     },
     "80821787c06447bda612afb2307ffee3": {
      "model_module": "mitosheet",
      "model_module_version": "^0.1.63",
      "model_name": "ExampleModel",
      "state": {
       "_model_module_version": "^0.1.63",
       "_view_module_version": "^0.1.63",
       "analysis_name": "UUID-7ff25dd1-8e03-4266-9601-2921b98e78c3",
       "code_json": "{\"imports\": \"from mitosheet import *\", \"code\": []}",
       "column_filters_json": "[]",
       "column_spreadsheet_code_json": "[]",
       "column_type_json": "[]",
       "df_names_json": "{\"df_names\": []}",
       "df_shape_json": "[]",
       "layout": "IPY_MODEL_ae9b1536705e4a08bd55f4b65ed91db0",
       "saved_analysis_names_json": "[\"1\", \"28\", \"Double Import\", \"File Import Get Length\", \"File Import\", \"Testing\", \"aaa\", \"new\"]",
       "sheet_json": "[]",
       "user_id": "nate",
       "value": "Hello World"
      }
     },
     "ae9b1536705e4a08bd55f4b65ed91db0": {
      "model_module": "@jupyter-widgets/base",
      "model_module_version": "1.2.0",
      "model_name": "LayoutModel",
      "state": {}
     },
     "d9f03d55b4564c919926fa53ef2a9041": {
      "model_module": "mitosheet",
      "model_module_version": "^0.1.63",
      "model_name": "ExampleModel",
      "state": {
       "_model_module_version": "^0.1.63",
       "_view_module_version": "^0.1.63",
       "analysis_name": "UUID-c2dd2df1-22ce-459c-8871-f7fac5f8554c",
       "code_json": "{\"imports\": \"from mitosheet import *\", \"code\": []}",
       "column_filters_json": "[]",
       "column_spreadsheet_code_json": "[]",
       "column_type_json": "[]",
       "df_names_json": "{\"df_names\": []}",
       "df_shape_json": "[]",
       "layout": "IPY_MODEL_15c33f8122bc43139e80917f22345b6d",
       "saved_analysis_names_json": "[\"1\", \"28\", \"Double Import\", \"File Import Get Length\", \"File Import\", \"Testing\", \"aaa\", \"new\"]",
       "sheet_json": "[]",
       "user_id": "nate",
       "value": "Hello World"
      }
     }
    },
    "version_major": 2,
    "version_minor": 0
   }
  }
 },
 "nbformat": 4,
 "nbformat_minor": 4
}
