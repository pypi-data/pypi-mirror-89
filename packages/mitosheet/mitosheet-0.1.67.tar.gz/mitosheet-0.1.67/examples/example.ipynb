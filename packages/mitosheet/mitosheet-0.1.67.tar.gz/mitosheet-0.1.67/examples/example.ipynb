{
 "cells": [
  {
   "cell_type": "code",
<<<<<<< HEAD
   "execution_count": 7,
=======
   "execution_count": 1,
>>>>>>> dev
   "metadata": {},
   "outputs": [
    {
     "data": {
      "application/vnd.jupyter.widget-view+json": {
<<<<<<< HEAD
       "model_id": "7a6b0c5f014f40d68ff7d4049d57e5cf",
=======
       "model_id": "542143e718fc447698e978bdd0c7bc0f",
>>>>>>> dev
       "version_major": 2,
       "version_minor": 0
      },
      "text/plain": [
<<<<<<< HEAD
       "MitoWidget(analysis_name='UUID-f69d0422-351c-4a3d-91ad-edb23bc44579', code_json='{\"imports\": \"from mitosheet i…"
=======
       "MitoWidget(analysis_name='UUID-85857911-d241-4da9-b1e4-2f5b8d9a98f5', code_json='{\"imports\": \"from mitosheet i…"
>>>>>>> dev
      ]
     },
     "metadata": {},
     "output_type": "display_data"
    }
   ],
   "source": [
    "import pandas as pd\n",
    "import mitosheet\n",
<<<<<<< HEAD
    "import pandas as pd\n",
    "df = pd.DataFrame({'C': [123], 'D': [345], 'E': [12355]})\n",
    "mitosheet.sheet(df)"
=======
    "\n",
    "df1 = pd.DataFrame(data={'A': [1, 2, 3], 'B': [4, 5, 6]})\n",
    "df1.to_csv(\"df1.csv\", index=False)\n",
    "\n",
    "df2 = pd.DataFrame(data={'A': [7, 8, 9], 'B': [10, 11, 12]})\n",
    "df2.to_csv(\"df2.csv\", index=False)\n",
    "\n",
    "mitosheet.sheet()"
>>>>>>> dev
   ]
  },
  {
   "cell_type": "code",
   "execution_count": null,
   "metadata": {},
   "outputs": [],
   "source": [
    "# MITO CODE START (DO NOT EDIT)\n",
<<<<<<< HEAD
    "# SAVED-ANALYSIS-STARTUUID-f69d0422-351c-4a3d-91ad-edb23bc44579SAVED-ANALYSIS-END\n",
=======
    "# SAVED-ANALYSIS-STARTUUID-85857911-d241-4da9-b1e4-2f5b8d9a98f5SAVED-ANALYSIS-END\n",
>>>>>>> dev
    "\n",
    "from mitosheet import *\n",
    "\n",
    "# Step 1\n",
    "\n",
<<<<<<< HEAD
    "df['F'] = 0\n",
    "\n",
    "# Step 2\n",
    "\n",
    "df['G'] = 0\n",
    "\n",
    "# Step 3\n",
    "\n",
    "df['H'] = 0\n",
    "\n",
    "# Step 4\n",
    "\n",
    "df['I'] = 0\n",
    "\n",
    "# Step 5\n",
    "\n",
    "df['J'] = 0\n",
    "\n",
    "# Step 6\n",
    "\n",
    "df['K'] = 0\n",
    "\n",
    "# Step 7\n",
    "\n",
    "df['L'] = 0\n",
    "\n",
    "# Step 8\n",
    "\n",
    "df['M'] = 0\n",
    "\n",
    "# Step 9\n",
    "\n",
    "df['N'] = 0\n",
    "\n",
    "# Step 10\n",
    "\n",
    "df['O'] = 0\n",
    "\n",
    "# Step 11\n",
    "\n",
    "df['P'] = 0\n",
    "\n",
    "# Step 12\n",
    "\n",
    "df['Q'] = 0\n",
    "\n",
    "# Step 13\n",
    "\n",
    "df['R'] = 0\n",
    "\n",
    "# Step 14\n",
    "\n",
    "df['S'] = 0\n",
    "\n",
    "# Step 15\n",
    "\n",
    "df['T'] = 0\n",
    "\n",
    "# Step 16\n",
    "\n",
    "df['U'] = 0\n",
    "\n",
    "# Step 17\n",
    "\n",
    "df['V'] = 0\n",
    "\n",
    "# Step 18\n",
    "\n",
    "df['W'] = 0\n",
    "\n",
    "# Step 19\n",
    "\n",
    "df['X'] = 0\n",
    "\n",
    "# Step 20\n",
    "\n",
    "df['Y'] = 0\n",
    "\n",
    "# Step 21\n",
    "\n",
    "df['Z'] = 0\n",
    "\n",
    "# Step 22\n",
    "\n",
    "df['AA'] = 0\n",
    "\n",
    "# Step 23\n",
    "\n",
    "df['AB'] = 0\n",
    "\n",
    "# Step 24\n",
    "\n",
    "df['AC'] = 0\n",
    "\n",
    "# Step 25\n",
    "\n",
    "df['AD'] = 0\n",
    "\n",
    "# Step 26\n",
    "\n",
    "df['AE'] = 0\n",
    "\n",
    "# Step 27\n",
    "\n",
    "df['AF'] = 0\n",
    "\n",
    "# Step 28\n",
    "\n",
    "df['AG'] = 0\n",
    "\n",
    "# Step 29\n",
    "\n",
    "df['AH'] = 0\n",
    "\n",
    "# Step 30\n",
    "\n",
    "df['AI'] = 0\n",
    "\n",
    "# Step 31\n",
    "\n",
    "df['AJ'] = 0\n",
    "\n",
    "# Step 32\n",
    "\n",
    "df['AK'] = 0\n",
=======
    "import pandas as pd\n",
    "\n",
    "df1_csv = pd.read_csv('df1.csv')\n",
    "\n",
    "df2_csv = pd.read_csv('df2.csv')\n",
>>>>>>> dev
    "  \n",
    "# MITO CODE END (DO NOT EDIT)"
   ]
  },
  {
   "cell_type": "code",
   "execution_count": null,
   "metadata": {},
   "outputs": [],
   "source": []
  },
  {
   "cell_type": "code",
   "execution_count": null,
   "metadata": {},
   "outputs": [],
<<<<<<< HEAD
   "source": []
  },
  {
   "cell_type": "code",
   "execution_count": null,
   "metadata": {},
   "outputs": [],
   "source": []
  },
  {
   "cell_type": "code",
   "execution_count": null,
   "metadata": {},
   "outputs": [],
   "source": []
  },
  {
   "cell_type": "code",
   "execution_count": null,
   "metadata": {},
   "outputs": [],
   "source": []
  },
  {
   "cell_type": "code",
   "execution_count": null,
   "metadata": {},
   "outputs": [],
   "source": []
  },
  {
   "cell_type": "code",
   "execution_count": null,
   "metadata": {},
   "outputs": [],
   "source": []
  },
  {
   "cell_type": "code",
   "execution_count": null,
   "metadata": {},
   "outputs": [],
=======
>>>>>>> dev
   "source": []
  },
  {
   "cell_type": "code",
   "execution_count": null,
   "metadata": {},
   "outputs": [],
   "source": []
  }
 ],
 "metadata": {
  "kernelspec": {
   "display_name": "Python 3",
   "language": "python",
   "name": "python3"
  },
  "language_info": {
   "codemirror_mode": {
    "name": "ipython",
    "version": 3
   },
   "file_extension": ".py",
   "mimetype": "text/x-python",
   "name": "python",
   "nbconvert_exporter": "python",
   "pygments_lexer": "ipython3",
   "version": "3.8.5"
  },
  "widgets": {
   "application/vnd.jupyter.widget-state+json": {
    "state": {
<<<<<<< HEAD
     "1bff38efe1474220ada65ff74ad413a7": {
      "model_module": "@jupyter-widgets/base",
      "model_module_version": "1.2.0",
      "model_name": "LayoutModel",
      "state": {}
     },
     "27cafb9b80414021a2d4286a3b246247": {
      "model_module": "@jupyter-widgets/base",
      "model_module_version": "1.2.0",
      "model_name": "LayoutModel",
      "state": {}
     },
     "2a2e137273644ec598ebe26a7710d01e": {
      "model_module": "mitosheet",
      "model_module_version": "^0.1.62",
      "model_name": "ExampleModel",
      "state": {
       "_model_module_version": "^0.1.62",
       "_view_module_version": "^0.1.62",
       "analysis_name": "UUID-bd613577-766b-4461-9919-c267b68b2f68",
       "code_json": "{\"imports\": \"from mitosheet import *\", \"code\": [\"# Step 1\", \"df['B'] = 0\"]}",
       "column_filters_json": "[{\"A\": {\"operator\": \"And\", \"filters\": []}, \"B\": {\"operator\": \"And\", \"filters\": []}}]",
       "column_spreadsheet_code_json": "[{\"A\": \"\", \"B\": \"=0\"}]",
       "column_type_json": "[{\"A\": \"number\", \"B\": \"number\"}]",
       "df_names_json": "{\"df_names\": [\"df\"]}",
       "df_shape_json": "[{\"rows\": 1, \"cols\": 2}]",
       "layout": "IPY_MODEL_95b406196caf4ed79364ffb2b85903be",
       "saved_analysis_names_json": "[\"1\", \"28\", \"Double Import\", \"File Import Get Length\", \"File Import\", \"Testing\", \"aaa\", \"new\"]",
       "sheet_json": "[{\"columns\": [\"A\", \"B\"], \"index\": [0], \"data\": [[123, 0]]}]",
       "user_id": "nate",
       "value": "Hello World"
      }
     },
     "34df6c0c3a6342dc9f382a12d81117fb": {
      "model_module": "mitosheet",
      "model_module_version": "^0.1.62",
      "model_name": "ExampleModel",
      "state": {
       "_model_module_version": "^0.1.62",
       "_view_module_version": "^0.1.62",
       "analysis_name": "UUID-9a0f3a05-585e-45b2-9bb2-3b1fb5610ecf",
       "code_json": "{\"imports\": \"from mitosheet import *\", \"code\": [\"# Step 1\", \"df['C'] = 0\"]}",
       "column_filters_json": "[{\"B\": {\"operator\": \"And\", \"filters\": []}, \"C\": {\"operator\": \"And\", \"filters\": []}}]",
       "column_spreadsheet_code_json": "[{\"B\": \"\", \"C\": \"=0\"}]",
       "column_type_json": "[{\"B\": \"number\", \"C\": \"number\"}]",
       "df_names_json": "{\"df_names\": [\"df\"]}",
       "df_shape_json": "[{\"rows\": 1, \"cols\": 2}]",
       "layout": "IPY_MODEL_547086aec5bd4201884cc6e23a734b84",
       "saved_analysis_names_json": "[\"1\", \"28\", \"Double Import\", \"File Import Get Length\", \"File Import\", \"Testing\", \"aaa\", \"new\"]",
       "sheet_json": "[{\"columns\": [\"B\", \"C\"], \"index\": [0], \"data\": [[123, 0]]}]",
       "user_id": "nate",
       "value": "Hello World"
      }
     },
     "445f6a19fed54849b9471e0ed30bc6fc": {
      "model_module": "mitosheet",
      "model_module_version": "^0.1.62",
      "model_name": "ExampleModel",
      "state": {
       "_model_module_version": "^0.1.62",
       "_view_module_version": "^0.1.62",
       "analysis_name": "UUID-24fcc88a-105e-4a61-99a9-ae636715dbd2",
       "code_json": "{\"imports\": \"from mitosheet import *\", \"code\": []}",
       "column_filters_json": "[{\"A\": {\"operator\": \"And\", \"filters\": []}}]",
       "column_spreadsheet_code_json": "[{\"A\": \"\"}]",
       "column_type_json": "[{\"A\": \"number\"}]",
       "df_names_json": "{\"df_names\": [\"df\"]}",
       "df_shape_json": "[{\"rows\": 1, \"cols\": 1}]",
       "layout": "IPY_MODEL_1bff38efe1474220ada65ff74ad413a7",
       "saved_analysis_names_json": "[\"1\", \"28\", \"Double Import\", \"File Import Get Length\", \"File Import\", \"Testing\", \"aaa\", \"new\"]",
       "sheet_json": "[{\"columns\": [\"A\"], \"index\": [0], \"data\": [[123]]}]",
       "user_id": "nate",
       "value": "Hello World"
      }
     },
     "547086aec5bd4201884cc6e23a734b84": {
      "model_module": "@jupyter-widgets/base",
      "model_module_version": "1.2.0",
      "model_name": "LayoutModel",
      "state": {}
     },
     "651693ea95b240299930ce966076e210": {
      "model_module": "mitosheet",
      "model_module_version": "^0.1.62",
      "model_name": "ExampleModel",
      "state": {
       "_model_module_version": "^0.1.62",
       "_view_module_version": "^0.1.62",
       "analysis_name": "UUID-9099f16a-43ef-4804-a872-c167fbfdc451",
       "code_json": "{\"imports\": \"from mitosheet import *\", \"code\": []}",
       "column_filters_json": "[{\"A\": {\"operator\": \"And\", \"filters\": []}, \"B\": {\"operator\": \"And\", \"filters\": []}, \"C\": {\"operator\": \"And\", \"filters\": []}}]",
       "column_spreadsheet_code_json": "[{\"A\": \"\", \"B\": \"\", \"C\": \"\"}]",
       "column_type_json": "[{\"A\": \"number\", \"B\": \"number\", \"C\": \"number\"}]",
       "df_names_json": "{\"df_names\": [\"df\"]}",
       "df_shape_json": "[{\"rows\": 1, \"cols\": 3}]",
       "layout": "IPY_MODEL_aa19c70742914388a78dd6a78cba6256",
       "saved_analysis_names_json": "[\"1\", \"28\", \"Double Import\", \"File Import Get Length\", \"File Import\", \"Testing\", \"aaa\", \"new\"]",
       "sheet_json": "[{\"columns\": [\"A\", \"B\", \"C\"], \"index\": [0], \"data\": [[123, 345, 12355]]}]",
       "user_id": "nate",
       "value": "Hello World"
      }
     },
     "6ef95d1dae32475ebecb88766cfe2f53": {
      "model_module": "@jupyter-widgets/base",
      "model_module_version": "1.2.0",
      "model_name": "LayoutModel",
      "state": {}
     },
     "79fa0be855e34610b942d0883c7aaae3": {
      "model_module": "mitosheet",
      "model_module_version": "^0.1.62",
      "model_name": "ExampleModel",
      "state": {
       "_model_module_version": "^0.1.62",
       "_view_module_version": "^0.1.62",
       "analysis_name": "UUID-0056da5b-fadd-4983-86d6-202c7c241c26",
       "code_json": "{\"imports\": \"from mitosheet import *\", \"code\": [\"# Step 1\", \"df['C'] = 0\"]}",
       "column_filters_json": "[{\"A\": {\"operator\": \"And\", \"filters\": []}, \"B\": {\"operator\": \"And\", \"filters\": []}, \"C\": {\"operator\": \"And\", \"filters\": []}}]",
       "column_spreadsheet_code_json": "[{\"A\": \"\", \"B\": \"\", \"C\": \"=0\"}]",
       "column_type_json": "[{\"A\": \"number\", \"B\": \"number\", \"C\": \"number\"}]",
       "df_names_json": "{\"df_names\": [\"df\"]}",
       "df_shape_json": "[{\"rows\": 1, \"cols\": 3}]",
       "layout": "IPY_MODEL_27cafb9b80414021a2d4286a3b246247",
       "saved_analysis_names_json": "[\"1\", \"28\", \"Double Import\", \"File Import Get Length\", \"File Import\", \"Testing\", \"aaa\", \"new\"]",
       "sheet_json": "[{\"columns\": [\"A\", \"B\", \"C\"], \"index\": [0], \"data\": [[123, 345, 0]]}]",
       "user_id": "nate",
       "value": "Hello World"
      }
     },
     "7a6b0c5f014f40d68ff7d4049d57e5cf": {
      "model_module": "mitosheet",
      "model_module_version": "^0.1.62",
      "model_name": "ExampleModel",
      "state": {
       "_model_module_version": "^0.1.62",
       "_view_module_version": "^0.1.62",
       "analysis_name": "UUID-f69d0422-351c-4a3d-91ad-edb23bc44579",
       "code_json": "{\"imports\": \"from mitosheet import *\", \"code\": [\"# Step 1\", \"df['F'] = 0\", \"# Step 2\", \"df['G'] = 0\", \"# Step 3\", \"df['H'] = 0\", \"# Step 4\", \"df['I'] = 0\", \"# Step 5\", \"df['J'] = 0\", \"# Step 6\", \"df['K'] = 0\", \"# Step 7\", \"df['L'] = 0\", \"# Step 8\", \"df['M'] = 0\", \"# Step 9\", \"df['N'] = 0\", \"# Step 10\", \"df['O'] = 0\", \"# Step 11\", \"df['P'] = 0\", \"# Step 12\", \"df['Q'] = 0\", \"# Step 13\", \"df['R'] = 0\", \"# Step 14\", \"df['S'] = 0\", \"# Step 15\", \"df['T'] = 0\", \"# Step 16\", \"df['U'] = 0\", \"# Step 17\", \"df['V'] = 0\", \"# Step 18\", \"df['W'] = 0\", \"# Step 19\", \"df['X'] = 0\", \"# Step 20\", \"df['Y'] = 0\", \"# Step 21\", \"df['Z'] = 0\", \"# Step 22\", \"df['AA'] = 0\", \"# Step 23\", \"df['AB'] = 0\", \"# Step 24\", \"df['AC'] = 0\", \"# Step 25\", \"df['AD'] = 0\", \"# Step 26\", \"df['AE'] = 0\", \"# Step 27\", \"df['AF'] = 0\", \"# Step 28\", \"df['AG'] = 0\", \"# Step 29\", \"df['AH'] = 0\", \"# Step 30\", \"df['AI'] = 0\", \"# Step 31\", \"df['AJ'] = 0\", \"# Step 32\", \"df['AK'] = 0\"]}",
       "column_filters_json": "[{\"C\": {\"operator\": \"And\", \"filters\": []}, \"D\": {\"operator\": \"And\", \"filters\": []}, \"E\": {\"operator\": \"And\", \"filters\": []}, \"F\": {\"operator\": \"And\", \"filters\": []}, \"G\": {\"operator\": \"And\", \"filters\": []}, \"H\": {\"operator\": \"And\", \"filters\": []}, \"I\": {\"operator\": \"And\", \"filters\": []}, \"J\": {\"operator\": \"And\", \"filters\": []}, \"K\": {\"operator\": \"And\", \"filters\": []}, \"L\": {\"operator\": \"And\", \"filters\": []}, \"M\": {\"operator\": \"And\", \"filters\": []}, \"N\": {\"operator\": \"And\", \"filters\": []}, \"O\": {\"operator\": \"And\", \"filters\": []}, \"P\": {\"operator\": \"And\", \"filters\": []}, \"Q\": {\"operator\": \"And\", \"filters\": []}, \"R\": {\"operator\": \"And\", \"filters\": []}, \"S\": {\"operator\": \"And\", \"filters\": []}, \"T\": {\"operator\": \"And\", \"filters\": []}, \"U\": {\"operator\": \"And\", \"filters\": []}, \"V\": {\"operator\": \"And\", \"filters\": []}, \"W\": {\"operator\": \"And\", \"filters\": []}, \"X\": {\"operator\": \"And\", \"filters\": []}, \"Y\": {\"operator\": \"And\", \"filters\": []}, \"Z\": {\"operator\": \"And\", \"filters\": []}, \"AA\": {\"operator\": \"And\", \"filters\": []}, \"AB\": {\"operator\": \"And\", \"filters\": []}, \"AC\": {\"operator\": \"And\", \"filters\": []}, \"AD\": {\"operator\": \"And\", \"filters\": []}, \"AE\": {\"operator\": \"And\", \"filters\": []}, \"AF\": {\"operator\": \"And\", \"filters\": []}, \"AG\": {\"operator\": \"And\", \"filters\": []}, \"AH\": {\"operator\": \"And\", \"filters\": []}, \"AI\": {\"operator\": \"And\", \"filters\": []}, \"AJ\": {\"operator\": \"And\", \"filters\": []}, \"AK\": {\"operator\": \"And\", \"filters\": []}}]",
       "column_spreadsheet_code_json": "[{\"C\": \"\", \"D\": \"\", \"E\": \"\", \"F\": \"=0\", \"G\": \"=0\", \"H\": \"=0\", \"I\": \"=0\", \"J\": \"=0\", \"K\": \"=0\", \"L\": \"=0\", \"M\": \"=0\", \"N\": \"=0\", \"O\": \"=0\", \"P\": \"=0\", \"Q\": \"=0\", \"R\": \"=0\", \"S\": \"=0\", \"T\": \"=0\", \"U\": \"=0\", \"V\": \"=0\", \"W\": \"=0\", \"X\": \"=0\", \"Y\": \"=0\", \"Z\": \"=0\", \"AA\": \"=0\", \"AB\": \"=0\", \"AC\": \"=0\", \"AD\": \"=0\", \"AE\": \"=0\", \"AF\": \"=0\", \"AG\": \"=0\", \"AH\": \"=0\", \"AI\": \"=0\", \"AJ\": \"=0\", \"AK\": \"=0\"}]",
       "column_type_json": "[{\"C\": \"number\", \"D\": \"number\", \"E\": \"number\", \"F\": \"number\", \"G\": \"number\", \"H\": \"number\", \"I\": \"number\", \"J\": \"number\", \"K\": \"number\", \"L\": \"number\", \"M\": \"number\", \"N\": \"number\", \"O\": \"number\", \"P\": \"number\", \"Q\": \"number\", \"R\": \"number\", \"S\": \"number\", \"T\": \"number\", \"U\": \"number\", \"V\": \"number\", \"W\": \"number\", \"X\": \"number\", \"Y\": \"number\", \"Z\": \"number\", \"AA\": \"number\", \"AB\": \"number\", \"AC\": \"number\", \"AD\": \"number\", \"AE\": \"number\", \"AF\": \"number\", \"AG\": \"number\", \"AH\": \"number\", \"AI\": \"number\", \"AJ\": \"number\", \"AK\": \"number\"}]",
       "df_names_json": "{\"df_names\": [\"df\"]}",
       "df_shape_json": "[{\"rows\": 1, \"cols\": 35}]",
       "layout": "IPY_MODEL_deba3a7e435f41acaae538da95f916aa",
       "saved_analysis_names_json": "[\"1\", \"28\", \"Double Import\", \"File Import Get Length\", \"File Import\", \"Testing\", \"aaa\", \"new\"]",
       "sheet_json": "[{\"columns\": [\"C\", \"D\", \"E\", \"F\", \"G\", \"H\", \"I\", \"J\", \"K\", \"L\", \"M\", \"N\", \"O\", \"P\", \"Q\", \"R\", \"S\", \"T\", \"U\", \"V\", \"W\", \"X\", \"Y\", \"Z\", \"AA\", \"AB\", \"AC\", \"AD\", \"AE\", \"AF\", \"AG\", \"AH\", \"AI\", \"AJ\", \"AK\"], \"index\": [0], \"data\": [[123, 345, 12355, 0, 0, 0, 0, 0, 0, 0, 0, 0, 0, 0, 0, 0, 0, 0, 0, 0, 0, 0, 0, 0, 0, 0, 0, 0, 0, 0, 0, 0, 0, 0, 0]]}]",
       "user_id": "nate",
       "value": "Hello World"
      }
     },
     "95b406196caf4ed79364ffb2b85903be": {
      "model_module": "@jupyter-widgets/base",
      "model_module_version": "1.2.0",
      "model_name": "LayoutModel",
      "state": {}
     },
     "aa19c70742914388a78dd6a78cba6256": {
      "model_module": "@jupyter-widgets/base",
      "model_module_version": "1.2.0",
      "model_name": "LayoutModel",
      "state": {}
     },
     "dd1311a884ce444f9cd531b32aba4d8e": {
      "model_module": "mitosheet",
      "model_module_version": "^0.1.62",
      "model_name": "ExampleModel",
      "state": {
       "_model_module_version": "^0.1.62",
       "_view_module_version": "^0.1.62",
       "analysis_name": "UUID-7019095e-0c91-47b8-ae4d-31a9b5b4a66e",
       "code_json": "{\"imports\": \"from mitosheet import *\", \"code\": [\"# Step 1\", \"df['D'] = 0\"]}",
       "column_filters_json": "[{\"A\": {\"operator\": \"And\", \"filters\": []}, \"B\": {\"operator\": \"And\", \"filters\": []}, \"C\": {\"operator\": \"And\", \"filters\": []}, \"D\": {\"operator\": \"And\", \"filters\": []}}]",
       "column_spreadsheet_code_json": "[{\"A\": \"\", \"B\": \"\", \"C\": \"\", \"D\": \"=0\"}]",
       "column_type_json": "[{\"A\": \"number\", \"B\": \"number\", \"C\": \"number\", \"D\": \"number\"}]",
       "df_names_json": "{\"df_names\": [\"df\"]}",
       "df_shape_json": "[{\"rows\": 1, \"cols\": 4}]",
       "layout": "IPY_MODEL_6ef95d1dae32475ebecb88766cfe2f53",
       "saved_analysis_names_json": "[\"1\", \"28\", \"Double Import\", \"File Import Get Length\", \"File Import\", \"Testing\", \"aaa\", \"new\"]",
       "sheet_json": "[{\"columns\": [\"A\", \"B\", \"C\", \"D\"], \"index\": [0], \"data\": [[123, 345, 12355, 0]]}]",
=======
     "542143e718fc447698e978bdd0c7bc0f": {
      "model_module": "mitosheet",
      "model_module_version": "^0.1.61",
      "model_name": "ExampleModel",
      "state": {
       "_model_module_version": "^0.1.61",
       "_view_module_version": "^0.1.61",
       "analysis_name": "UUID-85857911-d241-4da9-b1e4-2f5b8d9a98f5",
       "code_json": "{\"imports\": \"from mitosheet import *\", \"code\": [\"# Step 1\", \"import pandas as pd\", \"df1_csv = pd.read_csv('df1.csv')\", \"df2_csv = pd.read_csv('df2.csv')\"]}",
       "column_filters_json": "[{\"A\": {\"operator\": \"And\", \"filters\": []}, \"B\": {\"operator\": \"And\", \"filters\": []}}, {\"A\": {\"operator\": \"And\", \"filters\": []}, \"B\": {\"operator\": \"And\", \"filters\": []}}]",
       "column_spreadsheet_code_json": "[{\"A\": \"\", \"B\": \"\"}, {\"A\": \"\", \"B\": \"\"}]",
       "column_type_json": "[{\"A\": \"number\", \"B\": \"number\"}, {\"A\": \"number\", \"B\": \"number\"}]",
       "df_names_json": "{\"df_names\": [\"df1_csv\", \"df2_csv\"]}",
       "df_shape_json": "[{\"rows\": 3, \"cols\": 2}, {\"rows\": 3, \"cols\": 2}]",
       "layout": "IPY_MODEL_5dead12f8777474690c87f969c8feeb9",
       "saved_analysis_names_json": "[\"1\", \"28\", \"Double Import\", \"File Import Get Length\", \"File Import\", \"Testing\", \"aaa\", \"new\"]",
       "sheet_json": "[{\"columns\": [\"A\", \"B\"], \"index\": [0, 1, 2], \"data\": [[1, 4], [2, 5], [3, 6]]}, {\"columns\": [\"A\", \"B\"], \"index\": [0, 1, 2], \"data\": [[7, 10], [8, 11], [9, 12]]}]",
>>>>>>> dev
       "user_id": "nate",
       "value": "Hello World"
      }
     },
<<<<<<< HEAD
     "deba3a7e435f41acaae538da95f916aa": {
=======
     "5dead12f8777474690c87f969c8feeb9": {
>>>>>>> dev
      "model_module": "@jupyter-widgets/base",
      "model_module_version": "1.2.0",
      "model_name": "LayoutModel",
      "state": {}
     }
    },
    "version_major": 2,
    "version_minor": 0
   }
  }
 },
 "nbformat": 4,
 "nbformat_minor": 4
}
