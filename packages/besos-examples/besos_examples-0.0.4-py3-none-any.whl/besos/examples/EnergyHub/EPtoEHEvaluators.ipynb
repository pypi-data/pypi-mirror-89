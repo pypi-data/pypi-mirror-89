{
 "cells": [
  {
   "cell_type": "markdown",
   "metadata": {
    "papermill": {
     "duration": 0.016223,
     "end_time": "2019-10-28T23:03:32.533362",
     "exception": false,
     "start_time": "2019-10-28T23:03:32.517139",
     "status": "completed"
    },
    "tags": []
   },
   "source": [
    "# Combining EnergyPlus and EnergyHub Evaluators\n",
    "This notebook covers different ways to use EnergyPlus and PyEHub Evaluators together."
   ]
  },
  {
   "cell_type": "code",
   "execution_count": null,
   "metadata": {
    "papermill": {
     "duration": 1.149725,
     "end_time": "2019-10-28T23:03:33.698335",
     "exception": false,
     "start_time": "2019-10-28T23:03:32.548610",
     "status": "completed"
    },
    "tags": []
   },
   "outputs": [],
   "source": [
    "import numpy as np\n",
    "import pandas as pd\n",
    "from besos import eppy_funcs as ef, pyehub_funcs as pf\n",
    "from besos.evaluator import EvaluatorEH, EvaluatorEP\n",
    "from besos.objectives import MeterReader\n",
    "from besos.parameters import (\n",
    "    FieldSelector,\n",
    "    Parameter,\n",
    "    PathSelector,\n",
    "    RangeParameter,\n",
    ")\n",
    "from besos.problem import EHProblem, EPProblem"
   ]
  },
  {
   "cell_type": "markdown",
   "metadata": {
    "papermill": {
     "duration": 0.013165,
     "end_time": "2019-10-28T23:03:33.725391",
     "exception": false,
     "start_time": "2019-10-28T23:03:33.712226",
     "status": "completed"
    },
    "tags": []
   },
   "source": [
    "### Custom EnergyPlus Evaluator Functions\n",
    "First we need to define a way to get a whole time series from EnergyPlus Evaluator, not just an objective function value.\n",
    "To extract a time series from an EnergyPlus Evaluator the default summation function must be replaced.\n",
    "The function `timeseriesfunc` returns the entire Pandas Series from the output of the EnergyPlus simulation."
   ]
  },
  {
   "cell_type": "code",
   "execution_count": null,
   "metadata": {
    "papermill": {
     "duration": 0.030235,
     "end_time": "2019-10-28T23:03:33.769170",
     "exception": false,
     "start_time": "2019-10-28T23:03:33.738935",
     "status": "completed"
    },
    "tags": []
   },
   "outputs": [],
   "source": [
    "def timeseriesfunc(result):\n",
    "    return result.data[\"Value\"]"
   ]
  },
  {
   "cell_type": "markdown",
   "metadata": {
    "papermill": {
     "duration": 0.01135,
     "end_time": "2019-10-28T23:03:33.791787",
     "exception": false,
     "start_time": "2019-10-28T23:03:33.780437",
     "status": "completed"
    },
    "tags": []
   },
   "source": [
    "### Create an EnergyPlus Evaluator\n",
    "Here is a standard EnergyPlus Evaluator for editing the lighting power density for the default building and getting the electricity demand time series.\n",
    "The output is a Pandas Series, and the units are Joules."
   ]
  },
  {
   "cell_type": "code",
   "execution_count": null,
   "metadata": {
    "papermill": {
     "duration": 1.744472,
     "end_time": "2019-10-28T23:03:35.548207",
     "exception": false,
     "start_time": "2019-10-28T23:03:33.803735",
     "status": "completed"
    },
    "tags": []
   },
   "outputs": [],
   "source": [
    "building = ef.get_building()\n",
    "EPparameters = [\n",
    "    Parameter(\n",
    "        FieldSelector(\"Lights\", \"*\", \"Watts per Zone Floor Area\"),\n",
    "        value_descriptor=RangeParameter(8, 12),\n",
    "        name=\"Lights Watts/Area\",\n",
    "    )\n",
    "]\n",
    "EPobjectives = MeterReader(\"Electricity:Facility\", func=timeseriesfunc)\n",
    "problem = EPProblem(EPparameters, EPobjectives)\n",
    "evaluator = EvaluatorEP(problem, building)\n",
    "result = evaluator([8])\n",
    "result"
   ]
  },
  {
   "cell_type": "markdown",
   "metadata": {
    "papermill": {
     "duration": 0.021081,
     "end_time": "2019-10-28T23:03:35.586192",
     "exception": false,
     "start_time": "2019-10-28T23:03:35.565111",
     "status": "completed"
    },
    "tags": []
   },
   "source": [
    "### EnergyPlus Evaluator Output conversions\n",
    "To ensure the output of the EnergyPlus evaluator is in the correct format for the Energy Hub, some conversions are required.\n",
    "\n",
    "First the result is converted from a Pandas Series to a dataframe."
   ]
  },
  {
   "cell_type": "code",
   "execution_count": null,
   "metadata": {
    "papermill": {
     "duration": 0.020495,
     "end_time": "2019-10-28T23:03:35.626821",
     "exception": false,
     "start_time": "2019-10-28T23:03:35.606326",
     "status": "completed"
    },
    "tags": []
   },
   "outputs": [],
   "source": [
    "act_result = result[0].to_frame()"
   ]
  },
  {
   "cell_type": "markdown",
   "metadata": {
    "papermill": {
     "duration": 0.012397,
     "end_time": "2019-10-28T23:03:35.654073",
     "exception": false,
     "start_time": "2019-10-28T23:03:35.641676",
     "status": "completed"
    },
    "tags": []
   },
   "source": [
    "#### Splitting into days\n",
    "Then because EnergyPlus simulated a summer design day and a winter design day, the output is split and their indexes reset."
   ]
  },
  {
   "cell_type": "code",
   "execution_count": null,
   "metadata": {
    "papermill": {
     "duration": 0.020109,
     "end_time": "2019-10-28T23:03:35.687821",
     "exception": false,
     "start_time": "2019-10-28T23:03:35.667712",
     "status": "completed"
    },
    "tags": []
   },
   "outputs": [],
   "source": [
    "cold_result = act_result.head(24)\n",
    "cold_result = cold_result.reset_index()\n",
    "warm_result = act_result.tail(24)\n",
    "warm_result = warm_result.reset_index()"
   ]
  },
  {
   "cell_type": "markdown",
   "metadata": {
    "papermill": {
     "duration": 0.011754,
     "end_time": "2019-10-28T23:03:35.710978",
     "exception": false,
     "start_time": "2019-10-28T23:03:35.699224",
     "status": "completed"
    },
    "tags": []
   },
   "source": [
    "#### Unit Conversions\n",
    "The output for an energy `Output:Meter` in EnergyPlus is in Joules but EnergyHub deals with kWh so the entire dataframe for both days is converted.\n",
    "They are then turned into dictionaries with the keys being the time series index."
   ]
  },
  {
   "cell_type": "code",
   "execution_count": null,
   "metadata": {
    "papermill": {
     "duration": 0.022022,
     "end_time": "2019-10-28T23:03:35.744933",
     "exception": false,
     "start_time": "2019-10-28T23:03:35.722911",
     "status": "completed"
    },
    "tags": []
   },
   "outputs": [],
   "source": [
    "cold_result = cold_result / 3600000\n",
    "cold_dict = cold_result.to_dict()\n",
    "cold_dict = cold_dict[\"Value\"]\n",
    "\n",
    "warm_result = warm_result / 3600000\n",
    "warm_dict = warm_result.to_dict()\n",
    "warm_dict = warm_dict[\"Value\"]"
   ]
  },
  {
   "cell_type": "markdown",
   "metadata": {
    "papermill": {
     "duration": 0.011413,
     "end_time": "2019-10-28T23:03:35.767386",
     "exception": false,
     "start_time": "2019-10-28T23:03:35.755973",
     "status": "completed"
    },
    "tags": []
   },
   "source": [
    "#### Wrapping in Dictionaries\n",
    "Lastly the dictionaries are wrapped as lists to match the input format for EnergyHub Evaluators."
   ]
  },
  {
   "cell_type": "code",
   "execution_count": null,
   "metadata": {
    "papermill": {
     "duration": 0.018025,
     "end_time": "2019-10-28T23:03:35.799001",
     "exception": false,
     "start_time": "2019-10-28T23:03:35.780976",
     "status": "completed"
    },
    "tags": []
   },
   "outputs": [],
   "source": [
    "cold_input = [cold_dict]\n",
    "warm_input = [warm_dict]"
   ]
  },
  {
   "cell_type": "markdown",
   "metadata": {
    "papermill": {
     "duration": 0.010716,
     "end_time": "2019-10-28T23:03:35.820549",
     "exception": false,
     "start_time": "2019-10-28T23:03:35.809833",
     "status": "completed"
    },
    "tags": []
   },
   "source": [
    "### Create a PyEHub Evaluator\n",
    "Here is a standard PyEHub Evaluator for editing the electrical load of a simple energy hub, minimizing the total cost and outputting both the total cost and total carbon emissions from the optimizied hub.\n",
    "See [EHEvaluator](EHEvaluator.ipynb) for more details.\n",
    "It is applied to the Energy Hub model specified in `config.yaml`."
   ]
  },
  {
   "cell_type": "code",
   "execution_count": null,
   "metadata": {
    "papermill": {
     "duration": 0.032993,
     "end_time": "2019-10-28T23:03:35.864444",
     "exception": false,
     "start_time": "2019-10-28T23:03:35.831451",
     "status": "completed"
    },
    "tags": []
   },
   "outputs": [],
   "source": [
    "EHparameters = [Parameter(PathSelector([\"LOADS\", \"Elec\"]))]\n",
    "EHobjectives = [\"total_cost\", \"total_carbon\"]\n",
    "EHproblem = EHProblem(EHparameters, EHobjectives)\n",
    "hub = pf.get_hub()\n",
    "EHevaluator = EvaluatorEH(EHproblem, hub)"
   ]
  },
  {
   "cell_type": "markdown",
   "metadata": {
    "papermill": {
     "duration": 0.010569,
     "end_time": "2019-10-28T23:03:35.885612",
     "exception": false,
     "start_time": "2019-10-28T23:03:35.875043",
     "status": "completed"
    },
    "tags": []
   },
   "source": [
    "#### Single timeseries for PyEHub Evaluator\n",
    "The wrapped dictionary inputs can be used directly as input for the PyEHub Evaluator."
   ]
  },
  {
   "cell_type": "code",
   "execution_count": null,
   "metadata": {
    "papermill": {
     "duration": 0.13249,
     "end_time": "2019-10-28T23:03:36.029910",
     "exception": false,
     "start_time": "2019-10-28T23:03:35.897420",
     "status": "completed"
    },
    "tags": []
   },
   "outputs": [],
   "source": [
    "result1 = EHevaluator(cold_input)\n",
    "result1"
   ]
  },
  {
   "cell_type": "code",
   "execution_count": null,
   "metadata": {
    "papermill": {
     "duration": 0.144313,
     "end_time": "2019-10-28T23:03:36.190307",
     "exception": false,
     "start_time": "2019-10-28T23:03:36.045994",
     "status": "completed"
    },
    "tags": []
   },
   "outputs": [],
   "source": [
    "result2 = EHevaluator(warm_input)\n",
    "result2"
   ]
  },
  {
   "cell_type": "markdown",
   "metadata": {
    "papermill": {
     "duration": 0.011942,
     "end_time": "2019-10-28T23:03:36.213799",
     "exception": false,
     "start_time": "2019-10-28T23:03:36.201857",
     "status": "completed"
    },
    "tags": []
   },
   "source": [
    "#### Dataframe of time series\n",
    "These inputs can be combined into a single dataframe and used as input for the evaluators."
   ]
  },
  {
   "cell_type": "code",
   "execution_count": null,
   "metadata": {
    "papermill": {
     "duration": 0.019646,
     "end_time": "2019-10-28T23:03:36.246975",
     "exception": false,
     "start_time": "2019-10-28T23:03:36.227329",
     "status": "completed"
    },
    "tags": []
   },
   "outputs": [],
   "source": [
    "seasons_df = pd.DataFrame(np.array([warm_input, cold_input]), columns=[\"p1\"])"
   ]
  },
  {
   "cell_type": "code",
   "execution_count": null,
   "metadata": {
    "papermill": {
     "duration": 0.235134,
     "end_time": "2019-10-28T23:03:36.493891",
     "exception": false,
     "start_time": "2019-10-28T23:03:36.258757",
     "status": "completed"
    },
    "tags": []
   },
   "outputs": [],
   "source": [
    "result3 = EHevaluator.df_apply(seasons_df)\n",
    "result3"
   ]
  },
  {
   "cell_type": "markdown",
   "metadata": {
    "papermill": {
     "duration": 0.013199,
     "end_time": "2019-10-28T23:03:36.521652",
     "exception": false,
     "start_time": "2019-10-28T23:03:36.508453",
     "status": "completed"
    },
    "tags": []
   },
   "source": [
    "### Energy Plus Dataframe input\n",
    "If the input of the EnergyPlus Evaluator is a dataframe, then `df_apply` can be used to execute the evaluator."
   ]
  },
  {
   "cell_type": "code",
   "execution_count": null,
   "metadata": {
    "papermill": {
     "duration": 6.577222,
     "end_time": "2019-10-28T23:03:43.113481",
     "exception": false,
     "start_time": "2019-10-28T23:03:36.536259",
     "status": "completed"
    },
    "tags": []
   },
   "outputs": [],
   "source": [
    "EPdf = pd.DataFrame(np.array([[8], [9], [10], [12]]), columns=[\"p1\"])\n",
    "df_results = evaluator.df_apply(EPdf)\n",
    "df_results"
   ]
  },
  {
   "cell_type": "markdown",
   "metadata": {
    "papermill": {
     "duration": 0.023138,
     "end_time": "2019-10-28T23:03:43.155566",
     "exception": false,
     "start_time": "2019-10-28T23:03:43.132428",
     "status": "completed"
    },
    "tags": []
   },
   "source": [
    "#### EnergyPlus Dataframe output conversion\n",
    "The conversions must be done while maintaining a dataframe to be used with `df_apply` for the PyEHub Evaluator.\n",
    "The previous splitting of days, unit conversions, and wrapping dictionaries must be done for every output of the EnergyPlus Dataframe, then appended into a larger dataframe to be used as the input to the Energy Hub.\n",
    "The larger dataframe is prepared with the number of objectives from the EnergyPlus simulator."
   ]
  },
  {
   "cell_type": "code",
   "execution_count": null,
   "metadata": {
    "lines_to_next_cell": 2,
    "papermill": {
     "duration": 0.048558,
     "end_time": "2019-10-28T23:03:43.222529",
     "exception": false,
     "start_time": "2019-10-28T23:03:43.173971",
     "status": "completed"
    },
    "tags": []
   },
   "outputs": [],
   "source": [
    "results_dicts = df_results.to_dict()\n",
    "columnnames = []\n",
    "for j in results_dicts:\n",
    "    columnnames.append(j)\n",
    "\n",
    "df_input = pd.DataFrame(columns=columnnames)\n",
    "\n",
    "for j in results_dicts:\n",
    "    for i in results_dicts[j]:\n",
    "\n",
    "        act_result = results_dicts[j][i].to_frame()\n",
    "\n",
    "        cold_result = act_result.head(24)\n",
    "        cold_result = cold_result.reset_index()\n",
    "        warm_result = act_result.tail(24)\n",
    "        warm_result = warm_result.reset_index()\n",
    "\n",
    "        cold_result = cold_result / 3600000\n",
    "        cold_dict = cold_result.to_dict()\n",
    "        cold_dict = cold_dict[\"Value\"]\n",
    "\n",
    "        warm_result = warm_result / 3600000\n",
    "        warm_dict = warm_result.to_dict()\n",
    "        warm_dict = warm_dict[\"Value\"]\n",
    "\n",
    "        temp_df1 = pd.DataFrame(np.array(cold_input), columns=[j])\n",
    "        temp_df2 = pd.DataFrame(np.array(warm_input), columns=[j])\n",
    "        df_input = df_input.append(temp_df1, ignore_index=True)\n",
    "        df_input = df_input.append(temp_df2, ignore_index=True)"
   ]
  },
  {
   "cell_type": "code",
   "execution_count": null,
   "metadata": {
    "papermill": {
     "duration": 0.028456,
     "end_time": "2019-10-28T23:03:43.265199",
     "exception": false,
     "start_time": "2019-10-28T23:03:43.236743",
     "status": "completed"
    },
    "tags": []
   },
   "outputs": [],
   "source": [
    "df_input"
   ]
  },
  {
   "cell_type": "markdown",
   "metadata": {
    "papermill": {
     "duration": 0.014281,
     "end_time": "2019-10-28T23:03:43.292729",
     "exception": false,
     "start_time": "2019-10-28T23:03:43.278448",
     "status": "completed"
    },
    "tags": []
   },
   "source": [
    "### EnergyPlus to EnergyHub Dataframe output\n",
    "The converted output from the EnergyPlus Evaluator can then be used as input for the PyEHub evaluator."
   ]
  },
  {
   "cell_type": "code",
   "execution_count": null,
   "metadata": {
    "papermill": {
     "duration": 0.928337,
     "end_time": "2019-10-28T23:03:44.235840",
     "exception": false,
     "start_time": "2019-10-28T23:03:43.307503",
     "status": "completed"
    },
    "tags": []
   },
   "outputs": [],
   "source": [
    "result4 = EHevaluator.df_apply(df_input)\n",
    "result4"
   ]
  },
  {
   "cell_type": "code",
   "execution_count": null,
   "metadata": {
    "papermill": {
     "duration": 0.01494,
     "end_time": "2019-10-28T23:03:44.266128",
     "exception": false,
     "start_time": "2019-10-28T23:03:44.251188",
     "status": "completed"
    },
    "tags": []
   },
   "outputs": [],
   "source": []
  }
 ],
 "metadata": {
  "kernelspec": {
   "display_name": "Python 3",
   "language": "python",
   "name": "python3"
  }
 },
 "nbformat": 4,
 "nbformat_minor": 4
}
