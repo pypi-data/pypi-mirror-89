{
 "cells": [
  {
   "cell_type": "code",
   "execution_count": null,
   "metadata": {},
   "outputs": [],
   "source": [
    "\"\"\"\n",
    "This file tests that grouping on multiple rows and a column works correctly\n",
    "\n",
    "1. run this cell\n",
    "2. click on the group modal \n",
    "    - select 'gender' and 'species' as rows\n",
    "    - select 'size' as columns\n",
    "    - aggregate 'weight' using 'sum'\n",
    "    - run the group\n",
    "3. check to make sure a new df, df2 is created that has the top row of [female, dog, 95, NaN]\n",
    "4. run the generated code and print out df2\n",
    "5. make sure df2 is the same as in the mitosheet\n",
    "\"\"\"\n",
    "\n",
    "\n",
    "import mitosheet\n",
    "import pandas as pd\n",
    "df = pd.DataFrame({\n",
    "    'gender': ['male','male','female', 'female', 'female'],\n",
    "    'species': ['human','dog','human', 'human', 'dog'],\n",
    "    'size': ['big', 'small', 'small', 'big', 'big'],\n",
    "    'weight': [160, 20, 110, 175, 95]\n",
    "})\n",
    "mitosheet.sheet(df)"
   ]
  }
 ],
 "metadata": {
  "kernelspec": {
   "display_name": "Python 3",
   "language": "python",
   "name": "python3"
  },
  "language_info": {
   "codemirror_mode": {
    "name": "ipython",
    "version": 3
   },
   "file_extension": ".py",
   "mimetype": "text/x-python",
   "name": "python",
   "nbconvert_exporter": "python",
   "pygments_lexer": "ipython3",
   "version": "3.8.5"
  },
  "widgets": {
   "application/vnd.jupyter.widget-state+json": {
    "state": {
     "22a0d30c5316495a81804191ee4b9447": {
      "model_module": "mitosheet",
      "model_module_version": "^0.1.65",
      "model_name": "ExampleModel",
      "state": {
       "_model_module_version": "^0.1.65",
       "_view_module_version": "^0.1.65",
       "analysis_name": "UUID-6e059234-3f17-445b-9f16-a2eee99e2f30",
       "code_json": "{\"imports\": \"from mitosheet import *\", \"code\": [\"# Step 1\", \"df['E'] = 0\"]}",
       "column_filters_json": "[{\"gender\": {\"operator\": \"And\", \"filters\": []}, \"species\": {\"operator\": \"And\", \"filters\": []}, \"size\": {\"operator\": \"And\", \"filters\": []}, \"weight\": {\"operator\": \"And\", \"filters\": []}, \"E\": {\"operator\": \"And\", \"filters\": []}}]",
       "column_spreadsheet_code_json": "[{\"gender\": \"\", \"species\": \"\", \"size\": \"\", \"weight\": \"\", \"E\": \"=0\"}]",
       "column_type_json": "[{\"gender\": \"string\", \"species\": \"string\", \"size\": \"string\", \"weight\": \"number\", \"E\": \"number\"}]",
       "df_names_json": "{\"df_names\": [\"df\"]}",
       "df_shape_json": "[{\"rows\": 5, \"cols\": 5}]",
       "layout": "IPY_MODEL_d5f58c3f30e841769269ba3e6386e5fe",
       "saved_analysis_names_json": "[\"1\", \"28\", \"Double Import\", \"File Import Get Length\", \"File Import\", \"Testing\", \"aaa\", \"new\"]",
       "sheet_json": "[{\"columns\": [\"gender\", \"species\", \"size\", \"weight\", \"E\"], \"index\": [0, 1, 2, 3, 4], \"data\": [[\"male\", \"human\", \"big\", 160, 0], [\"male\", \"dog\", \"small\", 20, 0], [\"female\", \"human\", \"small\", 110, 0], [\"female\", \"human\", \"big\", 175, 0], [\"female\", \"dog\", \"big\", 95, 0]]}]",
       "user_id": "nate",
       "value": "Hello World"
      }
     },
     "d5f58c3f30e841769269ba3e6386e5fe": {
      "model_module": "@jupyter-widgets/base",
      "model_module_version": "1.2.0",
      "model_name": "LayoutModel",
      "state": {}
     }
    },
    "version_major": 2,
    "version_minor": 0
   }
  }
 },
 "nbformat": 4,
 "nbformat_minor": 4
}
