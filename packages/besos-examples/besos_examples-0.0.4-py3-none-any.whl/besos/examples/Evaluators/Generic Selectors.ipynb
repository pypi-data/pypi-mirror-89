{
 "cells": [
  {
   "cell_type": "markdown",
   "metadata": {},
   "source": [
    "# GenericSelectors\n",
    "\n",
    "GenericSelectors let you do any kind of modifications to the building that you want from a custom function. This custom function gets the building and a value as input.\n",
    "\n",
    "For example, you can do calculations before setting some fields or read values from the building.\n",
    "You can change as many fields as you like, or even add/delete building objects.\n",
    "\n",
    "GenericSelectors also support custom `get` functions to read the values they apply to and `setup` functions which run before values are set."
   ]
  },
  {
   "cell_type": "code",
   "execution_count": null,
   "metadata": {
    "lines_to_end_of_cell_marker": 2,
    "papermill": {
     "duration": 1.053702,
     "end_time": "2019-10-28T22:50:14.623493",
     "exception": false,
     "start_time": "2019-10-28T22:50:13.569791",
     "status": "completed"
    },
    "tags": []
   },
   "outputs": [],
   "source": [
    "from besos import eppy_funcs as ef, sampling\n",
    "from besos.evaluator import EvaluatorEP\n",
    "from besos.parameters import (\n",
    "    FieldSelector,\n",
    "    GenericSelector,\n",
    "    Parameter,\n",
    "    RangeParameter,\n",
    ")\n",
    "from besos.problem import EPProblem\n",
    "\n",
    "from errors import ModeError"
   ]
  },
  {
   "cell_type": "code",
   "execution_count": null,
   "metadata": {},
   "outputs": [],
   "source": [
    "# Load Building\n",
    "json_building = ef.get_building(mode=\"json\")"
   ]
  },
  {
   "cell_type": "markdown",
   "metadata": {},
   "source": [
    "If we want to modify a building directly, we can do it like this"
   ]
  },
  {
   "cell_type": "code",
   "execution_count": null,
   "metadata": {
    "lines_to_next_cell": 2
   },
   "outputs": [],
   "source": [
    "print(\"before:\", json_building[\"Lights\"][\"Core_ZN_Lights\"][\"fraction_radiant\"])\n",
    "json_building[\"Lights\"][\"Core_ZN_Lights\"][\"fraction_radiant\"] = 0.6\n",
    "print(\"after:\", json_building[\"Lights\"][\"Core_ZN_Lights\"][\"fraction_radiant\"])"
   ]
  },
  {
   "cell_type": "markdown",
   "metadata": {
    "lines_to_next_cell": 2
   },
   "source": [
    "We can write a funtion which sets this field's value on any building and value that it is given:"
   ]
  },
  {
   "cell_type": "code",
   "execution_count": null,
   "metadata": {},
   "outputs": [],
   "source": [
    "def set_core_lights_fraction_radiant(json_building, value):\n",
    "    json_building[\"Lights\"][\"Core_ZN_Lights\"][\"fraction_radiant\"] = value"
   ]
  },
  {
   "cell_type": "markdown",
   "metadata": {},
   "source": [
    "If we put this function in a selector, it can perform this modification based on values input to an evaluator.\n",
    "The following two selectors transform a building in the same way."
   ]
  },
  {
   "cell_type": "code",
   "execution_count": null,
   "metadata": {},
   "outputs": [],
   "source": [
    "selector1 = GenericSelector(set=set_core_lights_fraction_radiant)\n",
    "\n",
    "selector2 = FieldSelector(\n",
    "    class_name=\"Lights\", object_name=\"Core_ZN_Lights\", field_name=\"fraction_radiant\"\n",
    ")"
   ]
  },
  {
   "cell_type": "code",
   "execution_count": null,
   "metadata": {},
   "outputs": [],
   "source": [
    "# they are equivalent when setting values on a building\n",
    "b1 = ef.get_building(mode=\"json\")\n",
    "selector1.set(b1, 0.65)\n",
    "\n",
    "b2 = ef.get_building(mode=\"json\")\n",
    "selector2.set(b2, 0.65)\n",
    "\n",
    "print(b1 == b2)"
   ]
  },
  {
   "cell_type": "code",
   "execution_count": null,
   "metadata": {},
   "outputs": [],
   "source": [
    "# they are also equivalent when used in evaluators\n",
    "descriptor = RangeParameter(0.5, 0.8)\n",
    "evaluator1 = EvaluatorEP(EPProblem([Parameter(selector1, descriptor)]), json_building)\n",
    "evaluator2 = EvaluatorEP(EPProblem([Parameter(selector2, descriptor)]), json_building)\n",
    "print(evaluator1([0.65]), evaluator2([0.65]))"
   ]
  },
  {
   "cell_type": "markdown",
   "metadata": {},
   "source": [
    "## Supporting idf and json\n",
    "As written, the function `set_core_lights_fraction_radiant` cannot handle idfs."
   ]
  },
  {
   "cell_type": "code",
   "execution_count": null,
   "metadata": {},
   "outputs": [],
   "source": [
    "idf_building = ef.get_building(mode=\"idf\")\n",
    "try:\n",
    "    set_core_lights_fraction_radiant(idf_building, 0.5)\n",
    "except TypeError as e:\n",
    "    print(e)"
   ]
  },
  {
   "cell_type": "markdown",
   "metadata": {},
   "source": [
    "We can re-write our function to use eppy (documented [here](https://pythonhosted.org/eppy/Main_Tutorial.html)) to manipulate the idf."
   ]
  },
  {
   "cell_type": "code",
   "execution_count": null,
   "metadata": {},
   "outputs": [],
   "source": [
    "def set_core_lights_fraction_radiant_idf(idf_building, value):\n",
    "    idf_building.idfobjects[\"LIGHTS\"][0].Fraction_Radiant = value\n",
    "\n",
    "\n",
    "set_core_lights_fraction_radiant_idf(idf_building, 0.6)"
   ]
  },
  {
   "cell_type": "markdown",
   "metadata": {},
   "source": [
    "We can also write a function which works on both json and idfs"
   ]
  },
  {
   "cell_type": "code",
   "execution_count": null,
   "metadata": {},
   "outputs": [],
   "source": [
    "def set_core_lights_fraction_radiant_anyfile(building, value):\n",
    "    mode = ef.get_mode(building)\n",
    "    if mode == \"json\":\n",
    "        building[\"Lights\"][\"Core_ZN_Lights\"][\"fraction_radiant\"] = value\n",
    "    elif mode == \"idf\":\n",
    "        building.idfobjects[\"LIGHTS\"][0].Fraction_Radiant = value\n",
    "    else:\n",
    "        # this should never happen, unless a new file type is introduced.\n",
    "        # including this else clause is optional\n",
    "        raise ModeError(mode)\n",
    "\n",
    "\n",
    "set_core_lights_fraction_radiant_anyfile(idf_building, 0.6)\n",
    "set_core_lights_fraction_radiant_anyfile(json_building, 0.6)"
   ]
  },
  {
   "cell_type": "markdown",
   "metadata": {},
   "source": [
    "## Using Selectors in custom functions\n",
    "Using a selector inside our custom function can often make them easier to write"
   ]
  },
  {
   "cell_type": "code",
   "execution_count": null,
   "metadata": {},
   "outputs": [],
   "source": [
    "core_lights = FieldSelector(\n",
    "    class_name=\"Lights\", object_name=\"Core_ZN_Lights\", field_name=\"fraction_radiant\"\n",
    ")\n",
    "\n",
    "\n",
    "def set_core_lights_fraction_radiant_simple(building, value):\n",
    "    core_lights.set(building, value)\n",
    "\n",
    "\n",
    "# Since FieldSelectors support json and idfs, our code works with both automatically\n",
    "set_core_lights_fraction_radiant_anyfile(idf_building, 0.6)\n",
    "set_core_lights_fraction_radiant_anyfile(json_building, 0.6)"
   ]
  },
  {
   "cell_type": "markdown",
   "metadata": {},
   "source": [
    "## Where this starts being useful\n",
    "So far, the examples have just been setting a field, which `FieldSelector`s do perfectly well.\n",
    "However, sometimes we want to do something more complex than set a field."
   ]
  },
  {
   "cell_type": "code",
   "execution_count": null,
   "metadata": {},
   "outputs": [],
   "source": [
    "lights_selector = FieldSelector(\n",
    "    class_name=\"Lights\", object_name=\"*\", field_name=\"Watts per Zone Floor Area\",\n",
    ")"
   ]
  },
  {
   "cell_type": "markdown",
   "metadata": {},
   "source": [
    "This function sets the equipment `Watts per Zone Floor Area` to the value it is given, and then sets the wattage for the lights to `25 - value`. This makes sure that the wattage used by the lights and equipment together stays constant. Also, since our selectors apply to all Lights/ElectricEquipment objects, they are all affected by the function, not just the ones printed below.\n",
    "\n",
    "Selectors can be defined both inside a generic selector function or before the function call. Selector defined outside a function can be reused elsewhere."
   ]
  },
  {
   "cell_type": "code",
   "execution_count": null,
   "metadata": {},
   "outputs": [],
   "source": [
    "def set_equipment_and_lights(building, value):\n",
    "    # dummy variable\n",
    "    total = 25\n",
    "    # Create a selector to change.\n",
    "    equipment_selector = FieldSelector(\n",
    "        class_name=\"ElectricEquipment\",\n",
    "        object_name=\"*\",\n",
    "        field_name=\"Watts per Zone Floor Area\",\n",
    "    )\n",
    "    # change the fields of the building\n",
    "    equipment_selector.set(building, value)\n",
    "    lights_selector.set(building, total - value)\n",
    "\n",
    "\n",
    "set_equipment_and_lights(\n",
    "    json_building, 2\n",
    ")  # idfs are also supported automatically, since we are using built-in selectors\n",
    "\n",
    "print(\n",
    "    json_building[\"ElectricEquipment\"][\"Core_ZN_MiscPlug_Equip\"][\n",
    "        \"watts_per_zone_floor_area\"\n",
    "    ],\n",
    "    json_building[\"Lights\"][\"Core_ZN_Lights\"][\"watts_per_zone_floor_area\"],\n",
    ")"
   ]
  },
  {
   "cell_type": "markdown",
   "metadata": {},
   "source": [
    "## A more advanced example\n",
    "We can get a list of **objects** affected by a selector using the `.get_objects` method. This lets us iterate over all the objects a selector applies to."
   ]
  },
  {
   "cell_type": "code",
   "execution_count": null,
   "metadata": {},
   "outputs": [],
   "source": [
    "# reload the building\n",
    "idf_building = ef.get_building(mode=\"idf\")\n",
    "json_building = ef.get_building(mode=\"json\")"
   ]
  },
  {
   "cell_type": "code",
   "execution_count": null,
   "metadata": {},
   "outputs": [],
   "source": [
    "# this reuses the lights_selector defined in the last example.\n",
    "lights_selector.get_objects(json_building)"
   ]
  },
  {
   "cell_type": "markdown",
   "metadata": {},
   "source": [
    "To make the following example more interesting, let's change the `Watts per Zone Floor Area` of one of the lights. (`[0]` gets the first entry from the list)"
   ]
  },
  {
   "cell_type": "code",
   "execution_count": null,
   "metadata": {
    "lines_to_next_cell": 2
   },
   "outputs": [],
   "source": [
    "lights_selector.get_objects(json_building)[0][\"watts_per_zone_floor_area\"] = 5\n",
    "lights_selector.get_objects(idf_building)[0].Watts_per_Zone_Floor_Area = 5"
   ]
  },
  {
   "cell_type": "markdown",
   "metadata": {
    "lines_to_next_cell": 2
   },
   "source": [
    "The following function takes the current value of a light's wattage, and multiplies it by the value `multiplier`"
   ]
  },
  {
   "cell_type": "code",
   "execution_count": null,
   "metadata": {},
   "outputs": [],
   "source": [
    "def multiply_lights(building, multiplier):\n",
    "    \"\"\"multiplies the lights wattage field by the multiplier argument\"\"\"\n",
    "    mode = ef.get_mode(building)\n",
    "    objects = lights_selector.get_objects(building)\n",
    "    if mode == \"idf\":\n",
    "        for o in objects:\n",
    "            current_value = o.Watts_per_Zone_Floor_Area\n",
    "            new_value = multiplier * current_value\n",
    "            o.Watts_per_Zone_Floor_Area = new_value\n",
    "    elif mode == \"json\":\n",
    "        for o in objects:\n",
    "            current_value = o[\"watts_per_zone_floor_area\"]\n",
    "            new_value = multiplier * current_value\n",
    "            o[\"watts_per_zone_floor_area\"] = new_value\n",
    "    else:\n",
    "        raise ModeError(mode)"
   ]
  },
  {
   "cell_type": "code",
   "execution_count": null,
   "metadata": {},
   "outputs": [],
   "source": [
    "lights_multiplier = GenericSelector(set=multiply_lights)"
   ]
  },
  {
   "cell_type": "code",
   "execution_count": null,
   "metadata": {},
   "outputs": [],
   "source": [
    "# this doubles the wattage of all lights. each time it is rerun, it will double them again.\n",
    "lights_multiplier.set(idf_building, 2)\n",
    "idf_building.idfobjects[\"LIGHTS\"][:2]  # remove [:2] to see all of the objects"
   ]
  },
  {
   "cell_type": "code",
   "execution_count": null,
   "metadata": {
    "papermill": {
     "duration": 0.015649,
     "end_time": "2019-10-28T22:50:14.993729",
     "exception": false,
     "start_time": "2019-10-28T22:50:14.978080",
     "status": "completed"
    },
    "tags": []
   },
   "outputs": [],
   "source": [
    "# We can run simulations with a GenericParameter\n",
    "\n",
    "# note that the lights selector is only used to help build the GenericSelector\n",
    "# using it normally (inside a parameter) would replace the values in the idf\n",
    "\n",
    "# reload the building to clear any changes\n",
    "building = ef.get_building()  # both modes work here\n",
    "\n",
    "parameters = [\n",
    "    Parameter(\n",
    "        selector=GenericSelector(set=multiply_lights),\n",
    "        value_descriptor=RangeParameter(0.5, 2),\n",
    "        name=\"multiplier\",\n",
    "    )\n",
    "]\n",
    "problem = EPProblem(inputs=parameters)\n",
    "evaluator = EvaluatorEP(problem, building)\n",
    "samples = sampling.dist_sampler(sampling.lhs, problem, num_samples=5)"
   ]
  },
  {
   "cell_type": "code",
   "execution_count": null,
   "metadata": {
    "papermill": {
     "duration": 0.025219,
     "end_time": "2019-10-28T22:50:15.047616",
     "exception": false,
     "start_time": "2019-10-28T22:50:15.022397",
     "status": "completed"
    },
    "tags": []
   },
   "outputs": [],
   "source": [
    "outputs = evaluator.df_apply(samples, keep_input=True)\n",
    "outputs.sort_values(by=\"Electricity:Facility\")\n",
    "# unsurprisingly, increasing the lighting wattage increases total electricity use"
   ]
  },
  {
   "cell_type": "markdown",
   "metadata": {},
   "source": [
    "## `setup` and `get` functions\n",
    "GenericSelectors also support `get` and `setup` functions.\n",
    "\n",
    "Setup functions do something to the building before all of the modifications of other functions have been applied. They will run once when an evaluator is created, modifying the building for all runs of that evaluator.\n",
    "\n",
    "get functions provide an option to have the selector read values for you. They should return a list of values, one for each of the building-objects the selector applies to. (Technically you can return any value you want from your get function, since you define it.)\n",
    "Get function are not used internally at the time of writing, and may be changed to make them more useful."
   ]
  },
  {
   "cell_type": "code",
   "execution_count": null,
   "metadata": {},
   "outputs": [],
   "source": [
    "def delete_one_fenstration_surface(building):\n",
    "    mode = ef.get_mode(building)\n",
    "    if mode == \"idf\":\n",
    "        building.idfobjects[\"FENESTRATIONSURFACE:DETAILED\"].pop(0)\n",
    "    elif mode == \"json\":\n",
    "        building[\"FenestrationSurface:Detailed\"].pop(\n",
    "            \"Perimeter_ZN_1_wall_south_Window_1\"\n",
    "        )\n",
    "    else:\n",
    "        raise ModeError(mode)\n",
    "\n",
    "\n",
    "glazing_selector = FieldSelector(\n",
    "    class_name=\"WindowMaterial:SimpleGlazingSystem\",\n",
    "    field_name=\"Solar Heat Gain Coefficient\",\n",
    ")\n",
    "\n",
    "\n",
    "def set_glazing_coefficient(building, value):\n",
    "    glazing_selector.set(building, value)\n",
    "\n",
    "\n",
    "def get_glazing_coefficient(building):\n",
    "    return glazing_selector.get(building)"
   ]
  },
  {
   "cell_type": "code",
   "execution_count": null,
   "metadata": {},
   "outputs": [],
   "source": [
    "idf_building, json_building = ef.get_building(mode=\"idf\"), ef.get_building(mode=\"json\")\n",
    "print(\n",
    "    \"before setup\",\n",
    "    len(idf_building.idfobjects[\"FENESTRATIONSURFACE:DETAILED\"]),\n",
    "    len(json_building[\"FenestrationSurface:Detailed\"]),\n",
    ")\n",
    "delete_one_fenstration_surface(json_building)\n",
    "delete_one_fenstration_surface(idf_building)\n",
    "print(\n",
    "    \"after setup \",\n",
    "    len(idf_building.idfobjects[\"FENESTRATIONSURFACE:DETAILED\"]),\n",
    "    len(json_building[\"FenestrationSurface:Detailed\"]),\n",
    ")"
   ]
  },
  {
   "cell_type": "markdown",
   "metadata": {},
   "source": [
    "custom setter, custom getter, and custom setup."
   ]
  },
  {
   "cell_type": "code",
   "execution_count": null,
   "metadata": {},
   "outputs": [],
   "source": [
    "selector = GenericSelector(\n",
    "    set=set_glazing_coefficient,\n",
    "    get=get_glazing_coefficient,\n",
    "    setup=delete_one_fenstration_surface,\n",
    ")\n",
    "\n",
    "print(\"before set\", selector.get(idf_building))\n",
    "selector.set(idf_building, 0.42)\n",
    "print(\"after set \", selector.get(idf_building))"
   ]
  }
 ],
 "metadata": {
  "kernelspec": {
   "display_name": "Python 3",
   "language": "python",
   "name": "python3"
  }
 },
 "nbformat": 4,
 "nbformat_minor": 4
}
