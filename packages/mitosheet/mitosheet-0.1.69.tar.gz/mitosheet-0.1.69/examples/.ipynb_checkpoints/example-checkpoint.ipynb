{
 "cells": [
  {
   "cell_type": "code",
   "execution_count": null,
   "metadata": {},
   "outputs": [],
   "source": [
    "import mitosheet\n",
    "mitosheet.sheet()"
   ]
  }
 ],
 "metadata": {
  "kernelspec": {
   "display_name": "Python 3",
   "language": "python",
   "name": "python3"
  },
  "language_info": {
   "codemirror_mode": {
    "name": "ipython",
    "version": 3
   },
   "file_extension": ".py",
   "mimetype": "text/x-python",
   "name": "python",
   "nbconvert_exporter": "python",
   "pygments_lexer": "ipython3",
   "version": "3.8.5"
  },
  "widgets": {
   "application/vnd.jupyter.widget-state+json": {
    "state": {
     "01f8bc130c8f45c8941c5e1ab16952ae": {
      "model_module": "mitosheet",
      "model_module_version": "^0.1.60",
      "model_name": "ExampleModel",
      "state": {
       "_model_module_version": "^0.1.60",
       "_view_module_version": "^0.1.60",
       "analysis_name": "UUID-16fd8a42-da9b-4885-abeb-380c1314d7c7",
       "code_json": "{\"imports\": \"from mitosheet import *\", \"code\": []}",
       "column_filters_json": "[]",
       "column_spreadsheet_code_json": "[]",
       "column_type_json": "[]",
       "df_names_json": "{\"df_names\": []}",
       "df_shape_json": "[]",
       "layout": "IPY_MODEL_44078266416f442696d1b09d40bfb952",
       "saved_analysis_names_json": "[\"Double Import\", \"File Import Get Length\", \"File Import\", \"Testing\"]",
       "sheet_json": "[]",
       "user_id": "nate",
       "value": "Hello World"
      }
     },
     "1376433b80ad45ed81fe11f5d65b8326": {
      "model_module": "@jupyter-widgets/base",
      "model_module_version": "1.2.0",
      "model_name": "LayoutModel",
      "state": {}
     },
     "1a4fd51332434856907f9e2513f8f2fd": {
      "model_module": "@jupyter-widgets/base",
      "model_module_version": "1.2.0",
      "model_name": "LayoutModel",
      "state": {}
     },
     "25ab4e7593e74908841dada4d6e3abac": {
      "model_module": "mitosheet",
      "model_module_version": "^0.1.60",
      "model_name": "ExampleModel",
      "state": {
       "_model_module_version": "^0.1.60",
       "_view_module_version": "^0.1.60",
       "analysis_name": "UUID-1331f145-68bd-4b67-b8d0-b83a75c78699",
       "code_json": "{\"imports\": \"from mitosheet import *\", \"code\": [\"# Step 1\", \"import pandas as pd\", \" = pd.read_csv('NamesNew.csv')\"]}",
       "column_filters_json": "[{\"Unnamed: 0\": {\"operator\": \"And\", \"filters\": []}, \"Names\": {\"operator\": \"And\", \"filters\": []}}]",
       "column_spreadsheet_code_json": "[{\"Unnamed: 0\": \"\", \"Names\": \"\"}]",
       "column_type_json": "[{\"Unnamed: 0\": \"number\", \"Names\": \"string\"}]",
       "df_names_json": "{\"df_names\": [\"\"]}",
       "df_shape_json": "[{\"rows\": 3, \"cols\": 2}]",
       "layout": "IPY_MODEL_1a4fd51332434856907f9e2513f8f2fd",
       "saved_analysis_names_json": "[\"Double Import\", \"File Import Get Length\", \"File Import\", \"Testing\"]",
       "sheet_json": "[{\"columns\": [\"Unnamed: 0\", \"Names\"], \"index\": [0, 1, 2], \"data\": [[0, \"Nate Rush Rush Rush\"], [1, \"Aaron Aaron Aaron\"], [2, \"Jake Jake Jake Jake\"]]}]",
       "user_id": "nate",
       "value": "Hello World"
      }
     },
     "2713dabc8f1a499391a484a45a481343": {
      "model_module": "@jupyter-widgets/base",
      "model_module_version": "1.2.0",
      "model_name": "LayoutModel",
      "state": {}
     },
     "29ef6aac0cfb490c8df6ff57a0bb323e": {
      "model_module": "mitosheet",
      "model_module_version": "^0.1.60",
      "model_name": "ExampleModel",
      "state": {
       "_model_module_version": "^0.1.60",
       "_view_module_version": "^0.1.60",
       "analysis_name": "UUID-678fe4c2-1c4e-47f1-942e-aa8744d7685f",
       "code_json": "{\"imports\": \"from mitosheet import *\", \"code\": [\"# Step 1\", \"import pandas as pd\", \"NamesNew_csv = pd.read_csv('NamesNew.csv')\", \"# Step 2\", \"# Pivot the data\\npivot_table = .pivot_table(\\n    index=['Names'],\\n    values=['Unnamed: 0'],\\n    aggfunc={'Unnamed: 0': 'sum'}\\n)\", \"# Reset the column name and the indexes\\ndf2 = pivot_table.rename_axis(None, axis=1).reset_index()\"]}",
       "column_filters_json": "[{\"Unnamed: 0\": {\"operator\": \"And\", \"filters\": []}, \"Names\": {\"operator\": \"And\", \"filters\": []}}, {\"Names\": {\"operator\": \"And\", \"filters\": []}, \"Unnamed: 0\": {\"operator\": \"And\", \"filters\": []}}]",
       "column_spreadsheet_code_json": "[{\"Unnamed: 0\": \"\", \"Names\": \"\"}, {\"Names\": \"\", \"Unnamed: 0\": \"\"}]",
       "column_type_json": "[{\"Unnamed: 0\": \"number\", \"Names\": \"string\"}, {\"Names\": \"string\", \"Unnamed: 0\": \"number\"}]",
       "df_names_json": "{\"df_names\": [\"\", \"NamesNew_csv\", \"df3\"]}",
       "df_shape_json": "[{\"rows\": 3, \"cols\": 2}, {\"rows\": 3, \"cols\": 2}]",
       "layout": "IPY_MODEL_b03cc63a98cd498d8662624762c3e112",
       "saved_analysis_names_json": "[\"Double Import\", \"File Import Get Length\", \"File Import\", \"Testing\"]",
       "sheet_json": "[{\"columns\": [\"Unnamed: 0\", \"Names\"], \"index\": [0, 1, 2], \"data\": [[0, \"Nate Rush Rush Rush\"], [1, \"Aaron Aaron Aaron\"], [2, \"Jake Jake Jake Jake\"]]}, {\"columns\": [\"Names\", \"Unnamed: 0\"], \"index\": [0, 1, 2], \"data\": [[\"Aaron Aaron Aaron\", 1], [\"Jake Jake Jake Jake\", 2], [\"Nate Rush Rush Rush\", 0]]}]",
       "user_id": "nate",
       "value": "Hello World"
      }
     },
     "44078266416f442696d1b09d40bfb952": {
      "model_module": "@jupyter-widgets/base",
      "model_module_version": "1.2.0",
      "model_name": "LayoutModel",
      "state": {}
     },
     "56b21f04550c46a882f857cf53c7c87c": {
      "model_module": "mitosheet",
      "model_module_version": "^0.1.60",
      "model_name": "ExampleModel",
      "state": {
       "_model_module_version": "^0.1.60",
       "_view_module_version": "^0.1.60",
       "analysis_name": "UUID-e4632e20-988a-462f-b67b-f66aa3406f1c",
       "code_json": "{\"imports\": \"from mitosheet import *\", \"code\": [\"# Step 1\", \"import pandas as pd\", \"NamesNew_csv = pd.read_csv('NamesNew.csv')\", \"# Step 2\", \"NamesNew_csv['B'] = LEN(NamesNew_csv['Names'])\"]}",
       "column_filters_json": "[{\"A\": {\"operator\": \"And\", \"filters\": []}}, {\"Unnamed: 0\": {\"operator\": \"And\", \"filters\": []}, \"Names\": {\"operator\": \"And\", \"filters\": []}, \"B\": {\"operator\": \"And\", \"filters\": []}}]",
       "column_spreadsheet_code_json": "[{\"A\": \"\"}, {\"Unnamed: 0\": \"\", \"Names\": \"\", \"B\": \"=LEN(Names)\"}]",
       "column_type_json": "[{\"A\": \"number\"}, {\"Unnamed: 0\": \"number\", \"Names\": \"string\", \"B\": \"number\"}]",
       "df_names_json": "{\"df_names\": [\"df\", \"NamesNew_csv\"]}",
       "df_shape_json": "[{\"rows\": 3, \"cols\": 1}, {\"rows\": 3, \"cols\": 3}]",
       "layout": "IPY_MODEL_67fd8a710843413ca57d6c81c3c4f32c",
       "saved_analysis_names_json": "[\"File Import Get Length\", \"File Import\", \"Testing\"]",
       "sheet_json": "[{\"columns\": [\"A\"], \"index\": [0, 1, 2], \"data\": [[1], [2], [3]]}, {\"columns\": [\"Unnamed: 0\", \"Names\", \"B\"], \"index\": [0, 1, 2], \"data\": [[0, \"Nate Rush Rush Rush\", 19], [1, \"Aaron Aaron Aaron\", 17], [2, \"Jake Jake Jake Jake\", 19]]}]",
       "user_id": "nate",
       "value": "Hello World"
      }
     },
     "584737d954de44dd9e6f27d8b2069a35": {
      "model_module": "mitosheet",
      "model_module_version": "^0.1.60",
      "model_name": "ExampleModel",
      "state": {
       "_model_module_version": "^0.1.60",
       "_view_module_version": "^0.1.60",
       "analysis_name": "UUID-0b695286-bc63-42d9-8244-475a5f94724a",
       "code_json": "{\"imports\": \"from mitosheet import *\", \"code\": [\"# Step 1\", \"import pandas as pd\", \"NamesNew_csv = pd.read_csv('NamesNew.csv')\", \"# Step 2\", \"NamesNew_csv['B'] = LEFT(NamesNew_csv['Names'])\", \"# Step 3\", \"import pandas as pd\", \"NamesNew_csv_0 = pd.read_csv('NamesNew.csv')\", \"# Step 4\", \"NamesNew_csv_0['B'] = LEFT(NamesNew_csv_0['Names'])\"]}",
       "column_filters_json": "[{\"A\": {\"operator\": \"And\", \"filters\": []}}, {\"Unnamed: 0\": {\"operator\": \"And\", \"filters\": []}, \"Names\": {\"operator\": \"And\", \"filters\": []}, \"B\": {\"operator\": \"And\", \"filters\": []}}, {\"Unnamed: 0\": {\"operator\": \"And\", \"filters\": []}, \"Names\": {\"operator\": \"And\", \"filters\": []}, \"B\": {\"operator\": \"And\", \"filters\": []}}]",
       "column_spreadsheet_code_json": "[{\"A\": \"\"}, {\"Unnamed: 0\": \"\", \"Names\": \"\", \"B\": \"=LEFT(Names)\"}, {\"Unnamed: 0\": \"\", \"Names\": \"\", \"B\": \"=LEFT(Names)\"}]",
       "column_type_json": "[{\"A\": \"number\"}, {\"Unnamed: 0\": \"number\", \"Names\": \"string\", \"B\": \"string\"}, {\"Unnamed: 0\": \"number\", \"Names\": \"string\", \"B\": \"string\"}]",
       "df_names_json": "{\"df_names\": [\"df\", \"NamesNew_csv\", \"NamesNew_csv_0\"]}",
       "df_shape_json": "[{\"rows\": 3, \"cols\": 1}, {\"rows\": 3, \"cols\": 3}, {\"rows\": 3, \"cols\": 3}]",
       "layout": "IPY_MODEL_5fb70d4b5ec748b3b476532af0e8f30c",
       "saved_analysis_names_json": "[\"Double Import\", \"File Import Get Length\", \"File Import\", \"Testing\"]",
       "sheet_json": "[{\"columns\": [\"A\"], \"index\": [0, 1, 2], \"data\": [[1], [2], [3]]}, {\"columns\": [\"Unnamed: 0\", \"Names\", \"B\"], \"index\": [0, 1, 2], \"data\": [[0, \"Nate Rush Rush Rush\", \"N\"], [1, \"Aaron Aaron Aaron\", \"A\"], [2, \"Jake Jake Jake Jake\", \"J\"]]}, {\"columns\": [\"Unnamed: 0\", \"Names\", \"B\"], \"index\": [0, 1, 2], \"data\": [[0, \"Nate Rush Rush Rush\", \"N\"], [1, \"Aaron Aaron Aaron\", \"A\"], [2, \"Jake Jake Jake Jake\", \"J\"]]}]",
       "user_id": "nate",
       "value": "Hello World"
      }
     },
     "5fb70d4b5ec748b3b476532af0e8f30c": {
      "model_module": "@jupyter-widgets/base",
      "model_module_version": "1.2.0",
      "model_name": "LayoutModel",
      "state": {}
     },
     "600eccf879c7453896ce7e2f92c56c5f": {
      "model_module": "@jupyter-widgets/base",
      "model_module_version": "1.2.0",
      "model_name": "LayoutModel",
      "state": {}
     },
     "67fd8a710843413ca57d6c81c3c4f32c": {
      "model_module": "@jupyter-widgets/base",
      "model_module_version": "1.2.0",
      "model_name": "LayoutModel",
      "state": {}
     },
     "69a9ccc798d5490ab7c8164e102cf3ce": {
      "model_module": "mitosheet",
      "model_module_version": "^0.1.60",
      "model_name": "ExampleModel",
      "state": {
       "_model_module_version": "^0.1.60",
       "_view_module_version": "^0.1.60",
       "analysis_name": "UUID-8fa787ba-fbba-450d-890e-f0694f1c00fd",
       "code_json": "{\"imports\": \"from mitosheet import *\", \"code\": []}",
       "column_filters_json": "[]",
       "column_spreadsheet_code_json": "[]",
       "column_type_json": "[]",
       "df_names_json": "{\"df_names\": []}",
       "df_shape_json": "[]",
       "layout": "IPY_MODEL_a1cc0682b90b4011855812d5fa4775f3",
       "saved_analysis_names_json": "[\"Double Import\", \"File Import Get Length\", \"File Import\", \"Testing\"]",
       "sheet_json": "[]",
       "user_id": "nate",
       "value": "Hello World"
      }
     },
     "96942329039a4ed9800b22e1873ca423": {
      "model_module": "@jupyter-widgets/base",
      "model_module_version": "1.2.0",
      "model_name": "LayoutModel",
      "state": {}
     },
     "97d82ccde0b740c6af76436c845f9b0b": {
      "model_module": "mitosheet",
      "model_module_version": "^0.1.60",
      "model_name": "ExampleModel",
      "state": {
       "_model_module_version": "^0.1.60",
       "_view_module_version": "^0.1.60",
       "analysis_name": "UUID-f47afa4e-f256-46b6-a0e1-a066b4d96f81",
       "code_json": "{\"imports\": \"from mitosheet import *\", \"code\": [\"# Step 1\", \"import pandas as pd\", \"Names1_csv = pd.read_csv('Names1.csv')\", \"# Step 2\", \"Names1_csv['B'] = LEFT(Names1_csv['Names'])\", \"# Step 3\", \"import pandas as pd\", \"Names2_csv = pd.read_csv('Names2.csv')\", \"# Step 4\", \"Names2_csv['B'] = LEFT(Names2_csv['Names'])\"]}",
       "column_filters_json": "[{\"A\": {\"operator\": \"And\", \"filters\": []}}, {\"Names\": {\"operator\": \"And\", \"filters\": []}, \"B\": {\"operator\": \"And\", \"filters\": []}}, {\"Names\": {\"operator\": \"And\", \"filters\": []}, \"B\": {\"operator\": \"And\", \"filters\": []}}]",
       "column_spreadsheet_code_json": "[{\"A\": \"\"}, {\"Names\": \"\", \"B\": \"=LEFT(Names)\"}, {\"Names\": \"\", \"B\": \"=LEFT(Names)\"}]",
       "column_type_json": "[{\"A\": \"number\"}, {\"Names\": \"string\", \"B\": \"string\"}, {\"Names\": \"string\", \"B\": \"string\"}]",
       "df_names_json": "{\"df_names\": [\"df\", \"Names1_csv\", \"Names2_csv\"]}",
       "df_shape_json": "[{\"rows\": 3, \"cols\": 1}, {\"rows\": 3, \"cols\": 2}, {\"rows\": 3, \"cols\": 2}]",
       "layout": "IPY_MODEL_96942329039a4ed9800b22e1873ca423",
       "saved_analysis_names_json": "[\"Double Import\", \"File Import Get Length\", \"File Import\", \"Testing\"]",
       "sheet_json": "[{\"columns\": [\"A\"], \"index\": [0, 1, 2], \"data\": [[1], [2], [3]]}, {\"columns\": [\"Names\", \"B\"], \"index\": [0, 1, 2], \"data\": [[\"nate rush\", \"n\"], [\"aaron d-r\", \"a\"], [\"jacob Diamond-Reivich\", \"j\"]]}, {\"columns\": [\"Names\", \"B\"], \"index\": [0, 1, 2], \"data\": [[\"nate rush\", \"n\"], [\"aaron d-r\", \"a\"], [\"jacob Diamond-Reivich\", \"j\"]]}]",
       "user_id": "nate",
       "value": "Hello World"
      }
     },
     "98f5c04ed87642e8b0cc1c21c3764254": {
      "model_module": "mitosheet",
      "model_module_version": "^0.1.60",
      "model_name": "ExampleModel",
      "state": {
       "_model_module_version": "^0.1.60",
       "_view_module_version": "^0.1.60",
       "analysis_name": "UUID-d1789f50-8367-4bdc-a7f6-9ad8bd981e2c",
       "code_json": "{\"imports\": \"from mitosheet import *\", \"code\": [\"# Step 1\", \"import pandas as pd\", \"NamesNew_csv = pd.read_csv('NamesNew.csv')\"]}",
       "column_filters_json": "[{\"Unnamed: 0\": {\"operator\": \"And\", \"filters\": []}, \"Names\": {\"operator\": \"And\", \"filters\": []}}]",
       "column_spreadsheet_code_json": "[{\"Unnamed: 0\": \"\", \"Names\": \"\"}]",
       "column_type_json": "[{\"Unnamed: 0\": \"number\", \"Names\": \"string\"}]",
       "df_names_json": "{\"df_names\": [\"\", \"NamesNew_csv\"]}",
       "df_shape_json": "[{\"rows\": 3, \"cols\": 2}]",
       "layout": "IPY_MODEL_fb1481c2fea24724826aee7c4d263594",
       "saved_analysis_names_json": "[\"Double Import\", \"File Import Get Length\", \"File Import\", \"Testing\"]",
       "sheet_json": "[{\"columns\": [\"Unnamed: 0\", \"Names\"], \"index\": [0, 1, 2], \"data\": [[0, \"Nate Rush Rush Rush\"], [1, \"Aaron Aaron Aaron\"], [2, \"Jake Jake Jake Jake\"]]}]",
       "user_id": "nate",
       "value": "Hello World"
      }
     },
     "a1cc0682b90b4011855812d5fa4775f3": {
      "model_module": "@jupyter-widgets/base",
      "model_module_version": "1.2.0",
      "model_name": "LayoutModel",
      "state": {}
     },
     "b03cc63a98cd498d8662624762c3e112": {
      "model_module": "@jupyter-widgets/base",
      "model_module_version": "1.2.0",
      "model_name": "LayoutModel",
      "state": {}
     },
     "b83a1401ab1649d6b15b736e716ba3c3": {
      "model_module": "mitosheet",
      "model_module_version": "^0.1.60",
      "model_name": "ExampleModel",
      "state": {
       "_model_module_version": "^0.1.60",
       "_view_module_version": "^0.1.60",
       "analysis_name": "UUID-58d457f9-055a-4245-a2e1-160047623d8c",
       "code_json": "{\"imports\": \"from mitosheet import *\", \"code\": []}",
       "column_filters_json": "[{\"A\": {\"operator\": \"And\", \"filters\": []}}]",
       "column_spreadsheet_code_json": "[{\"A\": \"\"}]",
       "column_type_json": "[{\"A\": \"number\"}]",
       "df_names_json": "{\"df_names\": [\"df\"]}",
       "df_shape_json": "[{\"rows\": 3, \"cols\": 1}]",
       "layout": "IPY_MODEL_2713dabc8f1a499391a484a45a481343",
       "saved_analysis_names_json": "[\"File Import Get Length\", \"File Import\", \"Testing\"]",
       "sheet_json": "[{\"columns\": [\"A\"], \"index\": [0, 1, 2], \"data\": [[1], [2], [3]]}]",
       "user_id": "nate",
       "value": "Hello World"
      }
     },
     "c074b04f7d6946b0a5148fd5976e9a7c": {
      "model_module": "mitosheet",
      "model_module_version": "^0.1.60",
      "model_name": "ExampleModel",
      "state": {
       "_model_module_version": "^0.1.60",
       "_view_module_version": "^0.1.60",
       "analysis_name": "UUID-6f6a8e91-cc45-4d3f-94e3-16c1332d821c",
       "code_json": "{\"imports\": \"from mitosheet import *\", \"code\": []}",
       "column_filters_json": "[]",
       "column_spreadsheet_code_json": "[]",
       "column_type_json": "[]",
       "df_names_json": "{\"df_names\": [\"\"]}",
       "df_shape_json": "[]",
       "layout": "IPY_MODEL_600eccf879c7453896ce7e2f92c56c5f",
       "saved_analysis_names_json": "[\"Double Import\", \"File Import Get Length\", \"File Import\", \"Testing\"]",
       "sheet_json": "[]",
       "user_id": "nate",
       "value": "Hello World"
      }
     },
     "c787520fc3fc4172b583ac4e58840b55": {
      "model_module": "mitosheet",
      "model_module_version": "^0.1.60",
      "model_name": "ExampleModel",
      "state": {
       "_model_module_version": "^0.1.60",
       "_view_module_version": "^0.1.60",
       "analysis_name": "UUID-1ca0e10b-a4f4-40e5-bc8c-88622513db8d",
       "code_json": "{\"imports\": \"from mitosheet import *\", \"code\": [\"# Step 1\", \"import pandas as pd\", \"NamesNew_csv = pd.read_csv('NamesNew.csv')\"]}",
       "column_filters_json": "[{\"Unnamed: 0\": {\"operator\": \"And\", \"filters\": []}, \"Names\": {\"operator\": \"And\", \"filters\": []}}]",
       "column_spreadsheet_code_json": "[{\"Unnamed: 0\": \"\", \"Names\": \"\"}]",
       "column_type_json": "[{\"Unnamed: 0\": \"number\", \"Names\": \"string\"}]",
       "df_names_json": "{\"df_names\": [\"\", \"NamesNew_csv\"]}",
       "df_shape_json": "[{\"rows\": 3, \"cols\": 2}]",
       "layout": "IPY_MODEL_f3b867bf4a3f487d8ceab858a3355c74",
       "saved_analysis_names_json": "[\"Double Import\", \"File Import Get Length\", \"File Import\", \"Testing\"]",
       "sheet_json": "[{\"columns\": [\"Unnamed: 0\", \"Names\"], \"index\": [0, 1, 2], \"data\": [[0, \"Nate Rush Rush Rush\"], [1, \"Aaron Aaron Aaron\"], [2, \"Jake Jake Jake Jake\"]]}]",
       "user_id": "nate",
       "value": "Hello World"
      }
     },
     "ccd8e6f74561463f816019a6b392e53b": {
      "model_module": "mitosheet",
      "model_module_version": "^0.1.60",
      "model_name": "ExampleModel",
      "state": {
       "_model_module_version": "^0.1.60",
       "_view_module_version": "^0.1.60",
       "analysis_name": "UUID-dbdf40eb-7936-4580-8231-8a1b86625106",
       "code_json": "{\"imports\": \"from mitosheet import *\", \"code\": []}",
       "column_filters_json": "[]",
       "column_spreadsheet_code_json": "[]",
       "column_type_json": "[]",
       "df_names_json": "{\"df_names\": []}",
       "df_shape_json": "[]",
       "layout": "IPY_MODEL_1376433b80ad45ed81fe11f5d65b8326",
       "saved_analysis_names_json": "[\"Double Import\", \"File Import Get Length\", \"File Import\", \"Testing\"]",
       "sheet_json": "[]",
       "user_id": "nate",
       "value": "Hello World"
      }
     },
     "f3b867bf4a3f487d8ceab858a3355c74": {
      "model_module": "@jupyter-widgets/base",
      "model_module_version": "1.2.0",
      "model_name": "LayoutModel",
      "state": {}
     },
     "fb1481c2fea24724826aee7c4d263594": {
      "model_module": "@jupyter-widgets/base",
      "model_module_version": "1.2.0",
      "model_name": "LayoutModel",
      "state": {}
     }
    },
    "version_major": 2,
    "version_minor": 0
   }
  }
 },
 "nbformat": 4,
 "nbformat_minor": 4
}
