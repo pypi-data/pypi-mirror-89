{
 "cells": [
  {
   "cell_type": "code",
   "execution_count": 2,
   "metadata": {},
   "outputs": [
    {
     "data": {
      "application/vnd.jupyter.widget-view+json": {
       "model_id": "ac6542c755e44cb9806ea4049b34b689",
       "version_major": 2,
       "version_minor": 0
      },
      "text/plain": [
       "MitoWidget(analysis_name='UUID-8d221796-56c9-44a8-b7b8-a9200a360074', code_json='{\"imports\": \"from mitosheet i…"
      ]
     },
     "metadata": {},
     "output_type": "display_data"
    }
   ],
   "source": [
    "import mitosheet\n",
    "mitosheet.sheet()"
   ]
  },
  {
   "cell_type": "code",
   "execution_count": null,
   "metadata": {},
   "outputs": [],
   "source": []
  },
  {
   "cell_type": "code",
   "execution_count": null,
   "metadata": {},
   "outputs": [],
   "source": []
  }
 ],
 "metadata": {
  "kernelspec": {
   "display_name": "Python 3",
   "language": "python",
   "name": "python3"
  },
  "language_info": {
   "codemirror_mode": {
    "name": "ipython",
    "version": 3
   },
   "file_extension": ".py",
   "mimetype": "text/x-python",
   "name": "python",
   "nbconvert_exporter": "python",
   "pygments_lexer": "ipython3",
   "version": "3.8.5"
  },
  "widgets": {
   "application/vnd.jupyter.widget-state+json": {
    "state": {
     "664267f9321a4b9a8a6518bd47a50920": {
      "model_module": "@jupyter-widgets/base",
      "model_module_version": "1.2.0",
      "model_name": "LayoutModel",
      "state": {}
     },
     "ac6542c755e44cb9806ea4049b34b689": {
      "model_module": "mitosheet",
      "model_module_version": "^0.1.74",
      "model_name": "ExampleModel",
      "state": {
       "_model_module_version": "^0.1.74",
       "_view_module_version": "^0.1.74",
       "analysis_name": "UUID-8d221796-56c9-44a8-b7b8-a9200a360074",
       "code_json": "{\"imports\": \"from mitosheet import *\", \"code\": []}",
       "column_filters_json": "[]",
       "column_spreadsheet_code_json": "[]",
       "column_type_json": "[]",
       "df_names_json": "{\"df_names\": []}",
       "df_shape_json": "[]",
       "layout": "IPY_MODEL_664267f9321a4b9a8a6518bd47a50920",
       "saved_analysis_names_json": "[\"28\", \"29\", \"Dork\", \"Double Import\", \"File Import Get Length\", \"File Import\", \"Testing\", \"_7atqow0oj\", \"_8b9x4aa2m\", \"_dh590wtqu\", \"_g10n6gs9g\", \"_iu8qft83p\", \"_jqu6ydgq6\", \"_jsu04q2sl\", \"_jtip39qtx\", \"_k4ce9w8om\", \"_llskhy8k5\", \"_nq5ctxt9m\", \"_om4ymb3qz\", \"_rlna3gzml\", \"_wyyvgfivw\", \"aaa\", \"new\"]",
       "sheet_json": "[]",
       "user_id": "nate",
       "value": "Hello World"
      }
     }
    },
    "version_major": 2,
    "version_minor": 0
   }
  }
 },
 "nbformat": 4,
 "nbformat_minor": 4
}
