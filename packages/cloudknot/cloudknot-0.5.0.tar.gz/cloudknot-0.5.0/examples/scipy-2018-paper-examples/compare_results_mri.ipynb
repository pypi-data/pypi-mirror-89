{
 "cells": [
  {
   "cell_type": "code",
   "execution_count": 1,
   "metadata": {},
   "outputs": [],
   "source": [
    "import pandas as pd"
   ]
  },
  {
   "cell_type": "code",
   "execution_count": 2,
   "metadata": {},
   "outputs": [],
   "source": [
    "import numpy as np"
   ]
  },
  {
   "cell_type": "code",
   "execution_count": 3,
   "metadata": {},
   "outputs": [],
   "source": [
    "results = pd.DataFrame(data={\"Dask\":[604.84,726.58,1081.46,1734.15,2381.18,4847.182541],\n",
    "                             \"Myria\":[383.047918, 591.677918, 986.376918, 1821.948918, 2825.507918, 5515.205029],\n",
    "                             \"Spark\":[377.560062, 650.516533, 1035.264338, 1917.513293, 2711.942099, 5541.589612],\n",
    "                             #\"SciDB\":[1246.487, 2520.439, 5028.889, 10076.557, 14947.759,  31251.326],\n",
    "                             #\"Tensorflow\":[4072.3, 7772.6, 14628.3, 28643.8, 43266.459, 91091],\n",
    "                             \"Cloudknot\":[np.nan, 1272, 1919, 3380, 3848, 6026],\n",
    "                             \"Subjects\":[1, 2, 4, 8, 12, 25]})"
   ]
  },
  {
   "cell_type": "code",
   "execution_count": null,
   "metadata": {},
   "outputs": [],
   "source": []
  },
  {
   "cell_type": "code",
   "execution_count": 4,
   "metadata": {},
   "outputs": [],
   "source": [
    "results = results.reset_index().melt(id_vars=['Subjects']).set_index(['Subjects', 'variable'])"
   ]
  },
  {
   "cell_type": "code",
   "execution_count": 5,
   "metadata": {},
   "outputs": [],
   "source": [
    "results = results.reset_index()"
   ]
  },
  {
   "cell_type": "code",
   "execution_count": 6,
   "metadata": {},
   "outputs": [],
   "source": [
    "results = results[results[\"variable\"] !=\"index\"]"
   ]
  },
  {
   "cell_type": "code",
   "execution_count": 7,
   "metadata": {},
   "outputs": [],
   "source": [
    "results = results.rename({\"variable\":\"System\", \"value\":\"Time(sec)\"}, axis=1)"
   ]
  },
  {
   "cell_type": "code",
   "execution_count": 8,
   "metadata": {},
   "outputs": [
    {
     "data": {
      "text/html": [
       "<div>\n",
       "<style scoped>\n",
       "    .dataframe tbody tr th:only-of-type {\n",
       "        vertical-align: middle;\n",
       "    }\n",
       "\n",
       "    .dataframe tbody tr th {\n",
       "        vertical-align: top;\n",
       "    }\n",
       "\n",
       "    .dataframe thead th {\n",
       "        text-align: right;\n",
       "    }\n",
       "</style>\n",
       "<table border=\"1\" class=\"dataframe\">\n",
       "  <thead>\n",
       "    <tr style=\"text-align: right;\">\n",
       "      <th></th>\n",
       "      <th>Subjects</th>\n",
       "      <th>System</th>\n",
       "      <th>Time(sec)</th>\n",
       "    </tr>\n",
       "  </thead>\n",
       "  <tbody>\n",
       "    <tr>\n",
       "      <th>6</th>\n",
       "      <td>1</td>\n",
       "      <td>Dask</td>\n",
       "      <td>604.84</td>\n",
       "    </tr>\n",
       "    <tr>\n",
       "      <th>7</th>\n",
       "      <td>2</td>\n",
       "      <td>Dask</td>\n",
       "      <td>726.58</td>\n",
       "    </tr>\n",
       "    <tr>\n",
       "      <th>8</th>\n",
       "      <td>4</td>\n",
       "      <td>Dask</td>\n",
       "      <td>1081.46</td>\n",
       "    </tr>\n",
       "    <tr>\n",
       "      <th>9</th>\n",
       "      <td>8</td>\n",
       "      <td>Dask</td>\n",
       "      <td>1734.15</td>\n",
       "    </tr>\n",
       "    <tr>\n",
       "      <th>10</th>\n",
       "      <td>12</td>\n",
       "      <td>Dask</td>\n",
       "      <td>2381.18</td>\n",
       "    </tr>\n",
       "  </tbody>\n",
       "</table>\n",
       "</div>"
      ],
      "text/plain": [
       "    Subjects System  Time(sec)\n",
       "6          1   Dask     604.84\n",
       "7          2   Dask     726.58\n",
       "8          4   Dask    1081.46\n",
       "9          8   Dask    1734.15\n",
       "10        12   Dask    2381.18"
      ]
     },
     "execution_count": 8,
     "metadata": {},
     "output_type": "execute_result"
    }
   ],
   "source": [
    "results.head()"
   ]
  },
  {
   "cell_type": "code",
   "execution_count": 9,
   "metadata": {},
   "outputs": [
    {
     "data": {
      "application/vnd.vegalite.v2+json": {
       "$schema": "https://vega.github.io/schema/vega-lite/v2.4.1.json",
       "config": {
        "legend": {
         "cornerRadius": 5,
         "padding": 5,
         "strokeColor": "black",
         "strokeWidth": 2
        },
        "view": {
         "height": 300,
         "width": 400
        }
       },
       "data": {
        "values": [
         {
          "Subjects": 1,
          "System": "Dask",
          "Time(sec)": 604.84
         },
         {
          "Subjects": 2,
          "System": "Dask",
          "Time(sec)": 726.58
         },
         {
          "Subjects": 4,
          "System": "Dask",
          "Time(sec)": 1081.46
         },
         {
          "Subjects": 8,
          "System": "Dask",
          "Time(sec)": 1734.15
         },
         {
          "Subjects": 12,
          "System": "Dask",
          "Time(sec)": 2381.18
         },
         {
          "Subjects": 25,
          "System": "Dask",
          "Time(sec)": 4847.182541
         },
         {
          "Subjects": 1,
          "System": "Myria",
          "Time(sec)": 383.047918
         },
         {
          "Subjects": 2,
          "System": "Myria",
          "Time(sec)": 591.677918
         },
         {
          "Subjects": 4,
          "System": "Myria",
          "Time(sec)": 986.376918
         },
         {
          "Subjects": 8,
          "System": "Myria",
          "Time(sec)": 1821.948918
         },
         {
          "Subjects": 12,
          "System": "Myria",
          "Time(sec)": 2825.507918
         },
         {
          "Subjects": 25,
          "System": "Myria",
          "Time(sec)": 5515.205029
         },
         {
          "Subjects": 1,
          "System": "Spark",
          "Time(sec)": 377.560062
         },
         {
          "Subjects": 2,
          "System": "Spark",
          "Time(sec)": 650.516533
         },
         {
          "Subjects": 4,
          "System": "Spark",
          "Time(sec)": 1035.264338
         },
         {
          "Subjects": 8,
          "System": "Spark",
          "Time(sec)": 1917.513293
         },
         {
          "Subjects": 12,
          "System": "Spark",
          "Time(sec)": 2711.942099
         },
         {
          "Subjects": 25,
          "System": "Spark",
          "Time(sec)": 5541.589612
         },
         {
          "Subjects": 1,
          "System": "Cloudknot",
          "Time(sec)": null
         },
         {
          "Subjects": 2,
          "System": "Cloudknot",
          "Time(sec)": 1272
         },
         {
          "Subjects": 4,
          "System": "Cloudknot",
          "Time(sec)": 1919
         },
         {
          "Subjects": 8,
          "System": "Cloudknot",
          "Time(sec)": 3380
         },
         {
          "Subjects": 12,
          "System": "Cloudknot",
          "Time(sec)": 3848
         },
         {
          "Subjects": 25,
          "System": "Cloudknot",
          "Time(sec)": 6026
         }
        ]
       },
       "encoding": {
        "color": {
         "field": "System",
         "legend": {
          "orient": "top-left",
          "title": "System"
         },
         "type": "nominal"
        },
        "x": {
         "axis": {
          "values": [
           0,
           1,
           2,
           4,
           8,
           12,
           25
          ]
         },
         "field": "Subjects",
         "scale": {
          "base": 2,
          "type": "log"
         },
         "type": "quantitative"
        },
        "y": {
         "field": "Time(sec)",
         "scale": {
          "base": 10,
          "type": "log"
         },
         "type": "quantitative"
        }
       },
       "mark": "line"
      },
      "image/png": "[encoded data removed]",
      "text/plain": [
       "<VegaLite 2 object>\n",
       "\n",
       "If you see this message, it means the renderer has not been properly enabled\n",
       "for the frontend that you are using. For more information, see\n",
       "https://altair-viz.github.io/user_guide/troubleshooting.html\n"
      ]
     },
     "execution_count": 9,
     "metadata": {},
     "output_type": "execute_result"
    }
   ],
   "source": [
    "import altair as alt\n",
    "from vega_datasets import data\n",
    "\n",
    "c = alt.Chart(results).mark_line()\n",
    "c.encode(\n",
    "    alt.X(\"Subjects:Q\", scale=alt.Scale(base=2, type=\"log\"), \n",
    "         axis=alt.Axis(values=[0, 1, 2, 4, 8, 12, 25])),\n",
    "    alt.Y('Time(sec):Q', scale=alt.Scale(base=10, type=\"log\")),\n",
    "    color=alt.Color('System', legend=alt.Legend(orient=\"bottom-right\", \n",
    "                                                title=\"System\"))\n",
    "    ).configure_legend(strokeColor='black', strokeWidth=2, cornerRadius=5,\n",
    "                       padding=5)"
   ]
  },
  {
   "cell_type": "code",
   "execution_count": 10,
   "metadata": {},
   "outputs": [],
   "source": [
    "s = results[results[\"Subjects\"]==25][\"Time(sec)\"]"
   ]
  },
  {
   "cell_type": "code",
   "execution_count": 11,
   "metadata": {},
   "outputs": [
    {
     "data": {
      "text/plain": [
       "11    1.243196\n",
       "17    1.092616\n",
       "23    1.087414\n",
       "29    1.000000\n",
       "Name: Time(sec), dtype: float64"
      ]
     },
     "execution_count": 11,
     "metadata": {},
     "output_type": "execute_result"
    }
   ],
   "source": [
    "s.loc[29] / s"
   ]
  },
  {
   "cell_type": "code",
   "execution_count": null,
   "metadata": {},
   "outputs": [],
   "source": []
  }
 ],
 "metadata": {
  "kernelspec": {
   "display_name": "Python 3",
   "language": "python",
   "name": "python3"
  },
  "language_info": {
   "codemirror_mode": {
    "name": "ipython",
    "version": 3
   },
   "file_extension": ".py",
   "mimetype": "text/x-python",
   "name": "python",
   "nbconvert_exporter": "python",
   "pygments_lexer": "ipython3",
   "version": "3.5.3"
  }
 },
 "nbformat": 4,
 "nbformat_minor": 2
}
