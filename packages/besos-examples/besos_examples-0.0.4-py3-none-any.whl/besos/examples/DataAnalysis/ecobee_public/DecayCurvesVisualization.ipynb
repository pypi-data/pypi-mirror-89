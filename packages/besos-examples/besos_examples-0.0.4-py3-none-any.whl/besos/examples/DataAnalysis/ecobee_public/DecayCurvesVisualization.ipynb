{
 "cells": [
  {
   "cell_type": "markdown",
   "metadata": {
    "papermill": {
     "duration": 0.012482,
     "end_time": "2019-10-28T22:48:25.801639",
     "exception": false,
     "start_time": "2019-10-28T22:48:25.789157",
     "status": "completed"
    },
    "tags": []
   },
   "source": [
    "# Decay Curves"
   ]
  },
  {
   "cell_type": "markdown",
   "metadata": {
    "papermill": {
     "duration": 0.009941,
     "end_time": "2019-10-28T22:48:25.824810",
     "exception": false,
     "start_time": "2019-10-28T22:48:25.814869",
     "status": "completed"
    },
    "tags": []
   },
   "source": [
    "## Description\n",
    "\n",
    "Decay curves occur when the indoor temperature in a building exponentially decays to meet a lower outdoor temperature. They can be used to obtain an estimate for RC, where R is the thermal resistivity and C is the capacitancy of the building. The physical equation that describes a decay curve is as follows:\n",
    "\n",
    "$$\\theta(t)=\\theta_0\\exp{\\frac{-t}{\\tau}}$$where$$\\theta(t)=T_{ext}-T_{in}$$\n",
    "\n",
    "\n",
    "### Filtering Parameters\n",
    "\n",
    "In order to find decay curves in a building a data filtering step takes place. Various parameters are used to filter the data and find suitable curves. These parameters are listed here.\n",
    "\n",
    "1. __setpoint_derivative_threshold__: The change in indoor heating setpoint. Decay curves occur after a heating setpoint drop. Finding a large drop would result in a larger decay curve.\n",
    "\n",
    "2. __T_out_stationarity__: An assumption in this modeling method is that the outdoor temperature is constant. This filter therefore checks for time periods where the mean of the outdoor temperature is relatively constant.\n",
    "\n",
    "3. __T_in_derivative_threshold__: For a decay curve to have occured, the indoor temperature must have dropped. This check asserts that is the case.\n",
    "\n",
    "4. __T_in_out_diff__: The difference between the outdoor and indoor temperature. The greater the difference, the steaper the decay curve.\n",
    "\n",
    "5. __proportion_heating__: The formulated equation for the decay curves does not account for heating input into the system. This value should therefore be close to 0.\n",
    "\n",
    "6. __max_duration__: The maximum time duration of a decay curve.\n",
    "7. __min_duration__: The minimum time duration of a decay curve."
   ]
  },
  {
   "cell_type": "markdown",
   "metadata": {
    "papermill": {
     "duration": 0.006063,
     "end_time": "2019-10-28T22:48:25.839131",
     "exception": false,
     "start_time": "2019-10-28T22:48:25.833068",
     "status": "completed"
    },
    "tags": []
   },
   "source": [
    "## Example"
   ]
  },
  {
   "cell_type": "markdown",
   "metadata": {
    "papermill": {
     "duration": 0.004266,
     "end_time": "2019-10-28T22:48:25.848487",
     "exception": false,
     "start_time": "2019-10-28T22:48:25.844221",
     "status": "completed"
    },
    "tags": []
   },
   "source": [
    "### 1. Import the required libraries"
   ]
  },
  {
   "cell_type": "code",
   "execution_count": null,
   "metadata": {
    "lines_to_next_cell": 2,
    "papermill": {
     "duration": 0.411947,
     "end_time": "2019-10-28T22:48:26.264742",
     "exception": false,
     "start_time": "2019-10-28T22:48:25.852795",
     "status": "completed"
    },
    "tags": []
   },
   "outputs": [],
   "source": [
    "import numpy as np\n",
    "import pandas as pd\n",
    "from matplotlib import pyplot as plt\n",
    "from scripts import decay_curves as dc, preprocessing as pp\n",
    "from scripts.filters import decay_curve_params, hours, months"
   ]
  },
  {
   "cell_type": "markdown",
   "metadata": {
    "papermill": {
     "duration": 0.004634,
     "end_time": "2019-10-28T22:48:26.274997",
     "exception": false,
     "start_time": "2019-10-28T22:48:26.270363",
     "status": "completed"
    },
    "tags": []
   },
   "source": [
    "### 2. Load the building data into memory"
   ]
  },
  {
   "cell_type": "markdown",
   "metadata": {
    "papermill": {
     "duration": 0.005506,
     "end_time": "2019-10-28T22:48:26.286501",
     "exception": false,
     "start_time": "2019-10-28T22:48:26.280995",
     "status": "completed"
    },
    "tags": []
   },
   "source": [
    "Edit the filename to chang which building is being evaluated. The example buildings included in this repo can be found  in `data/raw_data/Toronto`. Note that not all of the building files have decay curves."
   ]
  },
  {
   "cell_type": "code",
   "execution_count": null,
   "metadata": {
    "papermill": {
     "duration": 0.35933,
     "end_time": "2019-10-28T22:48:26.650628",
     "exception": false,
     "start_time": "2019-10-28T22:48:26.291298",
     "status": "completed"
    },
    "tags": []
   },
   "outputs": [],
   "source": [
    "filename = \"a937d992bbae47858967713080c8e8173b331e9c.csv\"\n",
    "df = pp.load_building_data(filename)"
   ]
  },
  {
   "cell_type": "markdown",
   "metadata": {
    "papermill": {
     "duration": 0.004406,
     "end_time": "2019-10-28T22:48:26.660631",
     "exception": false,
     "start_time": "2019-10-28T22:48:26.656225",
     "status": "completed"
    },
    "tags": []
   },
   "source": [
    "### 3. Extract decay curves"
   ]
  },
  {
   "cell_type": "code",
   "execution_count": null,
   "metadata": {
    "papermill": {
     "duration": 0.14886,
     "end_time": "2019-10-28T22:48:26.814646",
     "exception": false,
     "start_time": "2019-10-28T22:48:26.665786",
     "status": "completed"
    },
    "tags": []
   },
   "outputs": [],
   "source": [
    "intervals = dc.select_intervals(months, hours, decay_curve_params, df)\n",
    "print(len(intervals), \"Decay Curves Were Found\")"
   ]
  },
  {
   "cell_type": "markdown",
   "metadata": {
    "papermill": {
     "duration": 0.005435,
     "end_time": "2019-10-28T22:48:26.826183",
     "exception": false,
     "start_time": "2019-10-28T22:48:26.820748",
     "status": "completed"
    },
    "tags": []
   },
   "source": [
    "### 4. Run the model fitting and plot the results"
   ]
  },
  {
   "cell_type": "code",
   "execution_count": null,
   "metadata": {
    "papermill": {
     "duration": 5.604498,
     "end_time": "2019-10-28T22:48:32.435474",
     "exception": false,
     "start_time": "2019-10-28T22:48:26.830976",
     "status": "completed"
    },
    "tags": []
   },
   "outputs": [],
   "source": [
    "for start_time, end_time in intervals:\n",
    "    df_slice = df[start_time:end_time]\n",
    "\n",
    "    # plot the original data\n",
    "    enlarged_df_slice = df[\n",
    "        start_time - pd.Timedelta(10, \"min\") : end_time + pd.Timedelta(10, \"min\")\n",
    "    ]\n",
    "    plt.plot(\n",
    "        enlarged_df_slice.index,\n",
    "        enlarged_df_slice[\"Thermostat_Temperature\"],\n",
    "        label=\"inside temperature\",\n",
    "    )\n",
    "    plt.plot(\n",
    "        enlarged_df_slice.index,\n",
    "        enlarged_df_slice[\"T_stp_heat\"],\n",
    "        label=\"heating setpoint\",\n",
    "    )\n",
    "    xdata = np.arange(0, (len(df_slice) * 5) - 1, 5.0)\n",
    "\n",
    "    # fit the model\n",
    "    result = dc.fit_decay_curve(df_slice)\n",
    "    result_dict = dc.result_to_dict(None, None, None, None, result)\n",
    "    tau = result_dict.get(\"tau\")\n",
    "    theta0 = result_dict.get(\"T0\")\n",
    "    tau_variance = result_dict.get(\"tau_variance\")\n",
    "    #     print('tau', tau, 'theta0', theta0, 'tau_variance', tau_variance)\n",
    "    y = []\n",
    "    for x in xdata:\n",
    "        ydata = dc.decay_curve(x, tau, theta0)\n",
    "        y.append(ydata)\n",
    "    y = np.array(y)\n",
    "    T_out_mean = df_slice[\"T_out\"].mean()\n",
    "    y = y + T_out_mean\n",
    "\n",
    "    # plot the decay curve\n",
    "    plt.plot(df_slice.index, y, label=\"decay curve fit\")\n",
    "    plt.legend()\n",
    "    plt.show()"
   ]
  },
  {
   "cell_type": "code",
   "execution_count": null,
   "metadata": {
    "papermill": {
     "duration": 0.028307,
     "end_time": "2019-10-28T22:48:32.495009",
     "exception": false,
     "start_time": "2019-10-28T22:48:32.466702",
     "status": "completed"
    },
    "tags": []
   },
   "outputs": [],
   "source": []
  }
 ],
 "metadata": {
  "kernelspec": {
   "display_name": "Python 3",
   "language": "python",
   "name": "python3"
  }
 },
 "nbformat": 4,
 "nbformat_minor": 4
}
