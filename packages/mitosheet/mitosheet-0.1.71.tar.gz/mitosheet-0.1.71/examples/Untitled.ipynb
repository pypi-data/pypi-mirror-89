{
 "cells": [
  {
   "cell_type": "code",
   "execution_count": 1,
   "metadata": {},
   "outputs": [
    {
     "data": {
      "application/vnd.jupyter.widget-view+json": {
       "model_id": "0e59d9143816486489bfbe45dc6b01f8",
       "version_major": 2,
       "version_minor": 0
      },
      "text/plain": [
       "MitoWidget(analysis_name='UUID-20e5dade-a6cb-4d5f-b686-696814ac5a4f', code_json='{\"imports\": \"from mitosheet i…"
      ]
     },
     "metadata": {},
     "output_type": "display_data"
    }
   ],
   "source": [
    "import mitosheet\n",
    "mitosheet.sheet()"
   ]
  },
  {
   "cell_type": "code",
   "execution_count": null,
   "metadata": {},
   "outputs": [],
   "source": []
  },
  {
   "cell_type": "code",
   "execution_count": null,
   "metadata": {},
   "outputs": [],
   "source": []
  }
 ],
 "metadata": {
  "kernelspec": {
   "display_name": "Python 3",
   "language": "python",
   "name": "python3"
  },
  "language_info": {
   "codemirror_mode": {
    "name": "ipython",
    "version": 3
   },
   "file_extension": ".py",
   "mimetype": "text/x-python",
   "name": "python",
   "nbconvert_exporter": "python",
   "pygments_lexer": "ipython3",
   "version": "3.8.5"
  },
  "widgets": {
   "application/vnd.jupyter.widget-state+json": {
    "state": {
     "0e59d9143816486489bfbe45dc6b01f8": {
      "model_module": "mitosheet",
      "model_module_version": "^0.1.66",
      "model_name": "ExampleModel",
      "state": {
       "_model_module_version": "^0.1.66",
       "_view_module_version": "^0.1.66",
       "analysis_name": "UUID-20e5dade-a6cb-4d5f-b686-696814ac5a4f",
       "code_json": "{\"imports\": \"from mitosheet import *\", \"code\": []}",
       "column_filters_json": "[]",
       "column_spreadsheet_code_json": "[]",
       "column_type_json": "[]",
       "df_names_json": "{\"df_names\": []}",
       "df_shape_json": "[]",
       "layout": "IPY_MODEL_5c6273c47cba4f26bde2c9ef74278b92",
       "saved_analysis_names_json": "[\"1\", \"28\", \"Double Import\", \"File Import Get Length\", \"File Import\", \"Testing\", \"aaa\", \"new\"]",
       "sheet_json": "[]",
       "user_id": "nate",
       "value": "Hello World"
      }
     },
     "5c6273c47cba4f26bde2c9ef74278b92": {
      "model_module": "@jupyter-widgets/base",
      "model_module_version": "1.2.0",
      "model_name": "LayoutModel",
      "state": {}
     }
    },
    "version_major": 2,
    "version_minor": 0
   }
  }
 },
 "nbformat": 4,
 "nbformat_minor": 4
}
