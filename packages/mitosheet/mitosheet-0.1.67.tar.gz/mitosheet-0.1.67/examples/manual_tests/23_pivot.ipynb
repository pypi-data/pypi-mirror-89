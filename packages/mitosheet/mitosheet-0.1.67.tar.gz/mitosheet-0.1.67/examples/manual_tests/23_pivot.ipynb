{
 "cells": [
  {
   "cell_type": "code",
   "execution_count": 2,
   "metadata": {},
   "outputs": [
    {
     "data": {
      "application/vnd.jupyter.widget-view+json": {
       "model_id": "704cb6eefbee415ba4b3bb8bebf072d3",
       "version_major": 2,
       "version_minor": 0
      },
      "text/plain": [
       "MitoWidget(analysis_name='UUID-27c7bcfe-0aae-4d4e-a46b-4e37886acc3e', code_json='{\"imports\": \"from mitosheet i…"
      ]
     },
     "metadata": {},
     "output_type": "display_data"
    }
   ],
   "source": [
    "\"\"\"\n",
    "This file tests that grouping on multiple rows and a column works correctly\n",
    "\n",
    "1. run this cell\n",
    "2. click on the group modal \n",
    "    - select 'gender' and 'species' as rows\n",
    "    - select 'size' as columns\n",
    "    - aggregate 'weight' using 'sum'\n",
    "    - run the group\n",
    "3. check to make sure a new df, df2 is created that has the top row of [female, dog, 95, NaN]\n",
    "4. run the generated code and print out df2\n",
    "5. make sure df2 is the same as in the mitosheet\n",
    "\"\"\"\n",
    "\n",
    "\n",
    "import mitosheet\n",
    "import pandas as pd\n",
    "df = pd.DataFrame({\n",
    "    'gender': ['male','male','female', 'female', 'female'],\n",
    "    'species': ['human','dog','human', 'human', 'dog'],\n",
    "    'size': ['big', 'small', 'small', 'big', 'big'],\n",
    "    'weight': [160, 20, 110, 175, 95]\n",
    "})\n",
    "mitosheet.sheet(df)"
   ]
  },
  {
   "cell_type": "code",
   "execution_count": null,
   "metadata": {},
   "outputs": [],
   "source": []
  },
  {
   "cell_type": "code",
   "execution_count": null,
   "metadata": {},
   "outputs": [],
   "source": []
  },
  {
   "cell_type": "code",
   "execution_count": null,
   "metadata": {},
   "outputs": [],
   "source": []
  }
 ],
 "metadata": {
  "kernelspec": {
   "display_name": "Python 3",
   "language": "python",
   "name": "python3"
  },
  "language_info": {
   "codemirror_mode": {
    "name": "ipython",
    "version": 3
   },
   "file_extension": ".py",
   "mimetype": "text/x-python",
   "name": "python",
   "nbconvert_exporter": "python",
   "pygments_lexer": "ipython3",
   "version": "3.8.5"
  },
  "widgets": {
   "application/vnd.jupyter.widget-state+json": {
    "state": {
     "704cb6eefbee415ba4b3bb8bebf072d3": {
      "model_module": "mitosheet",
      "model_module_version": "^0.1.65",
      "model_name": "ExampleModel",
      "state": {
       "_model_module_version": "^0.1.65",
       "_view_module_version": "^0.1.65",
       "analysis_name": "UUID-27c7bcfe-0aae-4d4e-a46b-4e37886acc3e",
       "code_json": "{\"imports\": \"from mitosheet import *\", \"code\": []}",
       "column_filters_json": "[{\"gender\": {\"operator\": \"And\", \"filters\": []}, \"species\": {\"operator\": \"And\", \"filters\": []}, \"size\": {\"operator\": \"And\", \"filters\": []}, \"weight\": {\"operator\": \"And\", \"filters\": []}}]",
       "column_spreadsheet_code_json": "[{\"gender\": \"\", \"species\": \"\", \"size\": \"\", \"weight\": \"\"}]",
       "column_type_json": "[{\"gender\": \"string\", \"species\": \"string\", \"size\": \"string\", \"weight\": \"number\"}]",
       "df_names_json": "{\"df_names\": [\"df\"]}",
       "df_shape_json": "[{\"rows\": 5, \"cols\": 4}]",
       "layout": "IPY_MODEL_fbcd8381cb634111abe9552d64653cf3",
       "saved_analysis_names_json": "[\"1\", \"28\", \"Double Import\", \"File Import Get Length\", \"File Import\", \"Testing\", \"aaa\", \"new\"]",
       "sheet_json": "[{\"columns\": [\"gender\", \"species\", \"size\", \"weight\"], \"index\": [0, 1, 2, 3, 4], \"data\": [[\"male\", \"human\", \"big\", 160], [\"male\", \"dog\", \"small\", 20], [\"female\", \"human\", \"small\", 110], [\"female\", \"human\", \"big\", 175], [\"female\", \"dog\", \"big\", 95]]}]",
       "user_id": "nate",
       "value": "Hello World"
      }
     },
     "845d9cf7bc35404ea2eb715628ba8ea0": {
      "model_module": "@jupyter-widgets/base",
      "model_module_version": "1.2.0",
      "model_name": "LayoutModel",
      "state": {}
     },
     "b76283fd9ec845c78bbfce452cd951a0": {
      "model_module": "mitosheet",
      "model_module_version": "^0.1.65",
      "model_name": "ExampleModel",
      "state": {
       "_model_module_version": "^0.1.65",
       "_view_module_version": "^0.1.65",
       "analysis_name": "UUID-e81a46f2-04da-4a27-b63c-280caf96bdd4",
       "code_json": "{\"imports\": \"from mitosheet import *\", \"code\": []}",
       "column_filters_json": "[{\"gender\": {\"operator\": \"And\", \"filters\": []}, \"species\": {\"operator\": \"And\", \"filters\": []}, \"size\": {\"operator\": \"And\", \"filters\": []}, \"weight\": {\"operator\": \"And\", \"filters\": []}}]",
       "column_spreadsheet_code_json": "[{\"gender\": \"\", \"species\": \"\", \"size\": \"\", \"weight\": \"\"}]",
       "column_type_json": "[{\"gender\": \"string\", \"species\": \"string\", \"size\": \"string\", \"weight\": \"number\"}]",
       "df_names_json": "{\"df_names\": [\"df\"]}",
       "df_shape_json": "[{\"rows\": 5, \"cols\": 4}]",
       "layout": "IPY_MODEL_845d9cf7bc35404ea2eb715628ba8ea0",
       "saved_analysis_names_json": "[\"1\", \"28\", \"Double Import\", \"File Import Get Length\", \"File Import\", \"Testing\", \"aaa\", \"new\"]",
       "sheet_json": "[{\"columns\": [\"gender\", \"species\", \"size\", \"weight\"], \"index\": [0, 1, 2, 3, 4], \"data\": [[\"male\", \"human\", \"big\", 160], [\"male\", \"dog\", \"small\", 20], [\"female\", \"human\", \"small\", 110], [\"female\", \"human\", \"big\", 175], [\"female\", \"dog\", \"big\", 95]]}]",
       "user_id": "nate",
       "value": "Hello World"
      }
     },
     "fbcd8381cb634111abe9552d64653cf3": {
      "model_module": "@jupyter-widgets/base",
      "model_module_version": "1.2.0",
      "model_name": "LayoutModel",
      "state": {}
     }
    },
    "version_major": 2,
    "version_minor": 0
   }
  }
 },
 "nbformat": 4,
 "nbformat_minor": 4
}
