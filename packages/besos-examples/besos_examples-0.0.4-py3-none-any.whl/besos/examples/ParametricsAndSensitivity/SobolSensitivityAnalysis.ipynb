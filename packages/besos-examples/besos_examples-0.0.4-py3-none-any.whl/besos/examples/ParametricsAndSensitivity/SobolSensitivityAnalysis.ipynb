{
 "cells": [
  {
   "cell_type": "markdown",
   "metadata": {
    "papermill": {
     "duration": 0.008791,
     "end_time": "2019-10-28T23:06:46.804072",
     "exception": false,
     "start_time": "2019-10-28T23:06:46.795281",
     "status": "completed"
    },
    "tags": []
   },
   "source": [
    "# Sobol Sensitivity Analysis\n",
    "\n",
    "In this notebook we apply the Sobol Sensitivy Analysis method to a building design problem.\n",
    "We determine the sensitivty of the objective (electricty use) to each of the design parameters."
   ]
  },
  {
   "cell_type": "code",
   "execution_count": null,
   "metadata": {
    "lines_to_next_cell": 2,
    "papermill": {
     "duration": 1.447097,
     "end_time": "2019-10-28T23:06:48.257858",
     "exception": false,
     "start_time": "2019-10-28T23:06:46.810761",
     "status": "completed"
    },
    "tags": []
   },
   "outputs": [],
   "source": [
    "import time\n",
    "\n",
    "import numpy as np\n",
    "import pandas as pd\n",
    "from besos import eppy_funcs as ef\n",
    "from sklearn.gaussian_process import GaussianProcessRegressor\n",
    "from sklearn.gaussian_process.kernels import RBF, Matern, RationalQuadratic\n",
    "from sklearn.model_selection import GridSearchCV\n",
    "\n",
    "import sampling\n",
    "from SALib.analyze import sobol as sanalysis\n",
    "from SALib.sample import saltelli as ssampling\n",
    "from evaluator import EvaluatorEP, EvaluatorGeneric\n",
    "from parameter_sets import parameter_set\n",
    "from problem import EPProblem"
   ]
  },
  {
   "cell_type": "markdown",
   "metadata": {
    "papermill": {
     "duration": 0.006205,
     "end_time": "2019-10-28T23:06:48.271070",
     "exception": false,
     "start_time": "2019-10-28T23:06:48.264865",
     "status": "completed"
    },
    "tags": []
   },
   "source": [
    "## Build an EnergyPlus Evaluator"
   ]
  },
  {
   "cell_type": "code",
   "execution_count": null,
   "metadata": {
    "papermill": {
     "duration": 0.064922,
     "end_time": "2019-10-28T23:06:48.342458",
     "exception": false,
     "start_time": "2019-10-28T23:06:48.277536",
     "status": "completed"
    },
    "tags": []
   },
   "outputs": [],
   "source": [
    "parameters = parameter_set(7)  # use a pre-defined parameter set\n",
    "problem = EPProblem(parameters, [\"Electricity:Facility\"])\n",
    "building = ef.get_building()  # use the example building\n",
    "evaluator = EvaluatorEP(problem, building)\n",
    "inputs = sampling.dist_sampler(\n",
    "    sampling.lhs, problem, 50\n",
    ")  # get 50 samples of the input space"
   ]
  },
  {
   "cell_type": "markdown",
   "metadata": {
    "papermill": {
     "duration": 0.005913,
     "end_time": "2019-10-28T23:06:48.354331",
     "exception": false,
     "start_time": "2019-10-28T23:06:48.348418",
     "status": "completed"
    },
    "tags": []
   },
   "source": [
    "## Fit the Surrogate model\n",
    "\n",
    "Evaluate the samples to get training data."
   ]
  },
  {
   "cell_type": "code",
   "execution_count": null,
   "metadata": {
    "papermill": {
     "duration": 65.560832,
     "end_time": "2019-10-28T23:07:53.921206",
     "exception": false,
     "start_time": "2019-10-28T23:06:48.360374",
     "status": "completed"
    },
    "tags": []
   },
   "outputs": [],
   "source": [
    "outputs = evaluator.df_apply(inputs, processes=1)"
   ]
  },
  {
   "cell_type": "markdown",
   "metadata": {
    "papermill": {
     "duration": 0.007665,
     "end_time": "2019-10-28T23:07:53.937592",
     "exception": false,
     "start_time": "2019-10-28T23:07:53.929927",
     "status": "completed"
    },
    "tags": []
   },
   "source": [
    "Set up the surrogate and fit it."
   ]
  },
  {
   "cell_type": "code",
   "execution_count": null,
   "metadata": {
    "papermill": {
     "duration": 0.278561,
     "end_time": "2019-10-28T23:07:54.223910",
     "exception": false,
     "start_time": "2019-10-28T23:07:53.945349",
     "status": "completed"
    },
    "tags": []
   },
   "outputs": [],
   "source": [
    "hyperparameters = {\n",
    "    \"kernel\": [\n",
    "        None,\n",
    "        1.0 * RBF(length_scale=1.0, length_scale_bounds=(1e-1, 10.0)),\n",
    "        1.0 * RationalQuadratic(length_scale=1.0, alpha=0.5),\n",
    "        # ConstantKernel(0.1, (0.01, 10.0))*(DotProduct(sigma_0=1.0, sigma_0_bounds=(0.1, 10.0))**2),\n",
    "        1.0 * Matern(length_scale=1.0, length_scale_bounds=(1e-1, 10.0)),\n",
    "    ]\n",
    "}\n",
    "folds = 3\n",
    "gp = GaussianProcessRegressor(normalize_y=True)\n",
    "clf = GridSearchCV(gp, hyperparameters, iid=True, cv=folds)\n",
    "\n",
    "clf.fit(inputs, outputs)\n",
    "\n",
    "print(f\"The best performing model $R^2$ score on the validation set: {clf.best_score_}\")\n",
    "print(f\"The model $R^2$ parameters: {clf.best_params_}\")\n",
    "# print(f'The best performing model $R^2$ score on a separate test set: {clf.best_estimator_.score(test_in, test_out)}')"
   ]
  },
  {
   "cell_type": "markdown",
   "metadata": {
    "papermill": {
     "duration": 0.015391,
     "end_time": "2019-10-28T23:07:54.263868",
     "exception": false,
     "start_time": "2019-10-28T23:07:54.248477",
     "status": "completed"
    },
    "tags": []
   },
   "source": [
    "Make an `Evaluator`."
   ]
  },
  {
   "cell_type": "code",
   "execution_count": null,
   "metadata": {
    "papermill": {
     "duration": 0.020094,
     "end_time": "2019-10-28T23:07:54.296676",
     "exception": false,
     "start_time": "2019-10-28T23:07:54.276582",
     "status": "completed"
    },
    "tags": []
   },
   "outputs": [],
   "source": [
    "def evaluation_func(ind):\n",
    "    return ((clf.predict([ind])[0][0],), ())\n",
    "\n",
    "\n",
    "GP_SM = EvaluatorGeneric(evaluation_func, problem)"
   ]
  },
  {
   "cell_type": "markdown",
   "metadata": {
    "papermill": {
     "duration": 0.008854,
     "end_time": "2019-10-28T23:07:54.318850",
     "exception": false,
     "start_time": "2019-10-28T23:07:54.309996",
     "status": "completed"
    },
    "tags": []
   },
   "source": [
    "## Sobol Analysis"
   ]
  },
  {
   "cell_type": "markdown",
   "metadata": {
    "papermill": {
     "duration": 0.007363,
     "end_time": "2019-10-28T23:07:54.333679",
     "exception": false,
     "start_time": "2019-10-28T23:07:54.326316",
     "status": "completed"
    },
    "tags": []
   },
   "source": [
    "We can now derive the Sobol indices of the given design parameters.\n",
    "This is a global variance-based sensitivity analysis method.\n",
    "The resulting indices tell us how much of the variance is explained by each of the inputs.\n",
    "Sobol analysis may be very sample intensive, with 1000 samples per input.\n",
    "Simulation-based analysis would be very time intensive, so in this example we use a surrogate model instead. [[1]] [[2]]\n",
    "\n",
    "[1]: https://www.sciencedirect.com/science/article/pii/S1364032112007101\n",
    "[2]: http://statweb.stanford.edu/~owen/pubtalks/siamUQ.pdf"
   ]
  },
  {
   "cell_type": "code",
   "execution_count": null,
   "metadata": {
    "papermill": {
     "duration": 0.960175,
     "end_time": "2019-10-28T23:07:55.302550",
     "exception": false,
     "start_time": "2019-10-28T23:07:54.342375",
     "status": "completed"
    },
    "tags": []
   },
   "outputs": [],
   "source": [
    "names = [parameters[i].name for i in range(len(parameters))]\n",
    "bounds = [\n",
    "    [parameters[i].value_descriptor.min, parameters[i].value_descriptor.max]\n",
    "    for i in range(len(parameters))\n",
    "]\n",
    "\n",
    "problem = {\"num_vars\": len(parameters), \"names\": names, \"bounds\": bounds}\n",
    "\n",
    "X = np.round(ssampling.sample(problem, N=10000, calc_second_order=True), decimals=3)\n",
    "inputs = pd.DataFrame(data=X, columns=names)\n",
    "\n",
    "print(\n",
    "    f\"This Sobol analysis will require {len(inputs)} design evaulations for the analysis.\"\n",
    ")"
   ]
  },
  {
   "cell_type": "code",
   "execution_count": null,
   "metadata": {
    "papermill": {
     "duration": 46.975953,
     "end_time": "2019-10-28T23:08:42.286197",
     "exception": false,
     "start_time": "2019-10-28T23:07:55.310244",
     "status": "completed"
    },
    "tags": []
   },
   "outputs": [],
   "source": [
    "outputs = GP_SM.df_apply(inputs)\n",
    "Y = outputs.values.ravel()"
   ]
  },
  {
   "cell_type": "code",
   "execution_count": null,
   "metadata": {
    "papermill": {
     "duration": 1.16766,
     "end_time": "2019-10-28T23:08:43.463140",
     "exception": false,
     "start_time": "2019-10-28T23:08:42.295480",
     "status": "completed"
    },
    "tags": []
   },
   "outputs": [],
   "source": [
    "now = time.time()\n",
    "Si = sanalysis.analyze(\n",
    "    problem,\n",
    "    Y.ravel(),\n",
    "    conf_level=0.95,\n",
    "    print_to_console=True,\n",
    "    parallel=True,\n",
    "    n_processors=4,\n",
    ")\n",
    "print(time.time() - now)\n",
    "# pd.DataFrame(data=Si['mu_star'], index=Si['names']).sort_values(by=0)"
   ]
  },
  {
   "cell_type": "code",
   "execution_count": null,
   "metadata": {
    "papermill": {
     "duration": 0.008006,
     "end_time": "2019-10-28T23:08:43.480128",
     "exception": false,
     "start_time": "2019-10-28T23:08:43.472122",
     "status": "completed"
    },
    "tags": []
   },
   "outputs": [],
   "source": []
  }
 ],
 "metadata": {
  "kernelspec": {
   "display_name": "Python 3",
   "language": "python",
   "name": "python3"
  }
 },
 "nbformat": 4,
 "nbformat_minor": 4
}
