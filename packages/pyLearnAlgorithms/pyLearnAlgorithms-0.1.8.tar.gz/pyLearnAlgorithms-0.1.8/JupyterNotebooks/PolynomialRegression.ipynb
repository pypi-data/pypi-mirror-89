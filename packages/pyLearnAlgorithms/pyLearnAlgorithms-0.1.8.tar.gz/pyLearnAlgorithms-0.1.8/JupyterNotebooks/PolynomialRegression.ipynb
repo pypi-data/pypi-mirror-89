{
 "cells": [
  {
   "cell_type": "markdown",
   "metadata": {},
   "source": [
    "# Polynomial Regression Example"
   ]
  },
  {
   "cell_type": "code",
   "execution_count": 1,
   "metadata": {},
   "outputs": [],
   "source": [
    "import sys\n",
    "sys.path.append('../../MachineLearningPackage/')"
   ]
  },
  {
   "cell_type": "code",
   "execution_count": 2,
   "metadata": {},
   "outputs": [
    {
     "ename": "SyntaxError",
     "evalue": "non-default argument follows default argument (polynomial_regression.py, line 116)",
     "output_type": "error",
     "traceback": [
      "Traceback \u001b[1;36m(most recent call last)\u001b[0m:\n",
      "  File \u001b[0;32m\"c:\\users\\alysson\\appdata\\local\\programs\\python\\python37\\lib\\site-packages\\IPython\\core\\interactiveshell.py\"\u001b[0m, line \u001b[0;32m3319\u001b[0m, in \u001b[0;35mrun_code\u001b[0m\n    exec(code_obj, self.user_global_ns, self.user_ns)\n",
      "  File \u001b[0;32m\"<ipython-input-2-52393487ccb7>\"\u001b[0m, line \u001b[0;32m2\u001b[0m, in \u001b[0;35m<module>\u001b[0m\n    from graph_view import GraphView\n",
      "\u001b[1;36m  File \u001b[1;32m\"../../MachineLearningPackage\\graph_view.py\"\u001b[1;36m, line \u001b[1;32m4\u001b[1;36m, in \u001b[1;35m<module>\u001b[1;36m\u001b[0m\n\u001b[1;33m    from polynomial_regression import PolynomialRegression\u001b[0m\n",
      "\u001b[1;36m  File \u001b[1;32m\"../../MachineLearningPackage\\polynomial_regression.py\"\u001b[1;36m, line \u001b[1;32m116\u001b[0m\n\u001b[1;33m    def predict(self, X_poly, y, lambda_ = 0.0, Xtest):\u001b[0m\n\u001b[1;37m               ^\u001b[0m\n\u001b[1;31mSyntaxError\u001b[0m\u001b[1;31m:\u001b[0m non-default argument follows default argument\n"
     ]
    }
   ],
   "source": [
    "from load_data import LoadData\n",
    "from graph_view import GraphView\n",
    "from polynomial_regression import PolynomialRegression"
   ]
  },
  {
   "cell_type": "code",
   "execution_count": null,
   "metadata": {},
   "outputs": [],
   "source": [
    "dataset = LoadData('../tests/datasets', 'WaterLevel.mat')"
   ]
  },
  {
   "cell_type": "code",
   "execution_count": null,
   "metadata": {},
   "outputs": [],
   "source": [
    "data = dataset.load_mat()"
   ]
  },
  {
   "cell_type": "code",
   "execution_count": null,
   "metadata": {},
   "outputs": [],
   "source": [
    "X, y = data['X'], data['y'][:, 0]\n",
    "Xtest, ytest = data['Xtest'], data['ytest'][:, 0]\n",
    "Xval, yval = data['Xval'], data['yval'][:, 0]"
   ]
  },
  {
   "cell_type": "code",
   "execution_count": null,
   "metadata": {},
   "outputs": [],
   "source": [
    "dataset_graph = GraphView(X, y)\n",
    "dataset_graph.view_data('Mudança no nível da água (x)',\n",
    "                        'Água fluindo para fora da barragem (y)', \n",
    "                        'Análise do nível de água em uma barragem')"
   ]
  },
  {
   "cell_type": "code",
   "execution_count": null,
   "metadata": {},
   "outputs": [],
   "source": [
    "regressor = PolynomialRegression(X, y)"
   ]
  },
  {
   "cell_type": "code",
   "execution_count": null,
   "metadata": {},
   "outputs": [],
   "source": [
    "X_poly = regressor.polyFeatures(X, 8)"
   ]
  },
  {
   "cell_type": "code",
   "execution_count": null,
   "metadata": {},
   "outputs": [],
   "source": [
    "X_poly, mu, sigma = regressor.featureNormalize(X_poly)"
   ]
  },
  {
   "cell_type": "code",
   "execution_count": null,
   "metadata": {},
   "outputs": [],
   "source": [
    "Xval = regressor.prepareExtracts(Xval, yval, 8)\n",
    "Xtest = regressor.prepareExtracts(Xtest, ytest, 8)"
   ]
  },
  {
   "cell_type": "code",
   "execution_count": null,
   "metadata": {},
   "outputs": [],
   "source": [
    "dataset_graph = GraphView(X, y)"
   ]
  },
  {
   "cell_type": "code",
   "execution_count": null,
   "metadata": {},
   "outputs": [],
   "source": [
    "dataset_graph.model_poly('Mudança no nível da água (x)',\n",
    "                         'Água fluindo para fora da barragem (y)', \n",
    "                         'Análise do nível de água em uma barragem', \n",
    "                         polynomial_degree = 8, \n",
    "                         lambda_ = 2.323, \n",
    "                         maxiter = 200)"
   ]
  },
  {
   "cell_type": "code",
   "execution_count": null,
   "metadata": {},
   "outputs": [],
   "source": [
    "train_error, val_error = regressor.learningCurve(X_poly, y, Xval, yval, 2.323)\n",
    "print('# Training Examples\\tTraining Error\\t\\tCross Validation Error')\n",
    "for i in range(y.size):\n",
    "    print('{}\\t\\t\\t{}\\t{}'.format(i+1, train_error[i], val_error[i]))"
   ]
  },
  {
   "cell_type": "code",
   "execution_count": null,
   "metadata": {},
   "outputs": [],
   "source": [
    "dataset_graph.learning_curve_poly(X_poly, y, Xval, yval, 2.323)"
   ]
  },
  {
   "cell_type": "code",
   "execution_count": null,
   "metadata": {},
   "outputs": [],
   "source": [
    "lambda_vec, error_train, error_val = regressor.validationCurve(X_poly,y,Xval,yval)\n",
    "print('# Training Examples\\tTraining Error\\t\\tCross Validation Error')\n",
    "for i in range(y.size):\n",
    "    print('{}\\t\\t\\t{}\\t{}'.format(i+1, train_error[i], val_error[i]))"
   ]
  },
  {
   "cell_type": "code",
   "execution_count": null,
   "metadata": {},
   "outputs": [],
   "source": [
    "lambda_vec"
   ]
  },
  {
   "cell_type": "code",
   "execution_count": null,
   "metadata": {},
   "outputs": [],
   "source": [
    "dataset_graph.validation_curve_poly(X_poly, y, Xval, yval, lambda_vec)"
   ]
  },
  {
   "cell_type": "code",
   "execution_count": null,
   "metadata": {},
   "outputs": [],
   "source": [
    "dataset_graph.validation_curve_poly(X_poly, y, Xval, yval, \n",
    "                                    [2.25, 2.323, 2.34])"
   ]
  },
  {
   "cell_type": "code",
   "execution_count": null,
   "metadata": {},
   "outputs": [],
   "source": [
    "pred = regressor.predict(X_poly, y, lambda_ = 2.323, Xtest) "
   ]
  }
 ],
 "metadata": {
  "kernelspec": {
   "display_name": "Python 3",
   "language": "python",
   "name": "python3"
  },
  "language_info": {
   "codemirror_mode": {
    "name": "ipython",
    "version": 3
   },
   "file_extension": ".py",
   "mimetype": "text/x-python",
   "name": "python",
   "nbconvert_exporter": "python",
   "pygments_lexer": "ipython3",
   "version": "3.7.4"
  }
 },
 "nbformat": 4,
 "nbformat_minor": 4
}
