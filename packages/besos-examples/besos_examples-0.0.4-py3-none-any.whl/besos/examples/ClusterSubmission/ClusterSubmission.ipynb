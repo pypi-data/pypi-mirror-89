{
 "cells": [
  {
   "cell_type": "markdown",
   "metadata": {
    "lines_to_next_cell": 0,
    "title": "Submit the job"
   },
   "source": [
    "# Cluster submission from notebook\n",
    "\n",
    "This notebook shows how to take code from BESOS and run it on ComputeCanada cluster resources.  \n",
    "To run BESOS modules on ComputeCanada cluster resources, you will need:\n",
    "+ A ComputeCanada account with the following installed:\n",
    "    + `python 3` and `glpk` (both can be loaded with `module load`).\n",
    "    + `bonmin` and `energyplus`.\n",
    "    + `besos` (pip installable).  \n",
    "    \n",
    "You can also obviously develop Python files that use the BESOS modules locally and submit them to the cluster via your usual method.\n",
    "\n",
    "## Overall process\n",
    "The general process is as follows:\n",
    "+ Write your code to a .py file\n",
    "    + As shown below, you can write out a single cell from your notebook by adding `%%writefile filename.py` at the top  \n",
    "    This has the advantage that you can test your code on BESOS, then uncomment this line.\n",
    "    + To output a whole notebook, select File, Export Notebook As... and select Executable Script\n",
    "+ Write a batch file to submit it\n",
    "    + We use the `%%writefile` method below\n",
    "+ Execute the follwing steps in the terminal (here we use a window inside a notebook cell, or open a seperate terminal tab):\n",
    "    + Move the files over using SFTP (see [here](SFTP.ipynb)).\n",
    "    + Submit the job\n",
    "    + Copy back the results files using SFTP\n",
    "+ Unpickle the results and continue post-processing\n",
    "\n",
    "Whilst this process is somewhat cumbersome, it can be convienient for novice terminal users to use the cell below as a crib sheet of commands.  \n",
    "We recommend copying snippets of this notebook and the [SFTP](SFTP.ipynb) one together to make your own workflow."
   ]
  },
  {
   "cell_type": "markdown",
   "metadata": {
    "papermill": {
     "duration": 0.007701,
     "end_time": "2019-10-28T22:51:42.423165",
     "exception": false,
     "start_time": "2019-10-28T22:51:42.415464",
     "status": "completed"
    },
    "tags": []
   },
   "source": [
    "## Python file for execution on cluster\n",
    "The following cell will write a Python file `cluster.py` to be submitted to the ComputeCanada cluster.  "
   ]
  },
  {
   "cell_type": "code",
   "execution_count": null,
   "metadata": {
    "papermill": {
     "duration": 3.716312,
     "end_time": "2019-10-28T22:51:46.145421",
     "exception": false,
     "start_time": "2019-10-28T22:51:42.429109",
     "status": "completed"
    },
    "tags": []
   },
   "outputs": [],
   "source": [
    "#%%writefile cluster.py\n",
    "import pickle\n",
    "import time\n",
    "\n",
    "import numpy as np\n",
    "import pandas as pd\n",
    "from IPython.display import IFrame\n",
    "from besos import eppy_funcs as ef, pyehub_funcs as pf, sampling\n",
    "from besos.evaluator import EvaluatorEH, EvaluatorEP\n",
    "from besos.parameters import (\n",
    "    FieldSelector,\n",
    "    FilterSelector,\n",
    "    GenericSelector,\n",
    "    Parameter,\n",
    "    RangeParameter,\n",
    "    expand_plist,\n",
    "    wwr,\n",
    ")\n",
    "from besos.problem import EHProblem, EPProblem, Problem\n",
    "\n",
    "\n",
    "now = time.time() # get the starting timestamp\n",
    "\n",
    "building = ef.get_building() # load example file if no idf filename is provided\n",
    "parameters = expand_plist(\n",
    "    {'NonRes Fixed Assembly Window':\n",
    "          {'Solar Heat Gain Coefficient':(0.01,0.99)}}\n",
    "    )\n",
    "objectives = ['Electricity:Facility', 'Gas:Facility'] # these get made into `MeterReader` or `VariableReader`\n",
    "problem = EPProblem(parameters, objectives) # problem = parameters + objectives\n",
    "evaluator = EvaluatorEP(problem, building) # evaluator = problem + building\n",
    "samples = sampling.dist_sampler(sampling.lhs, problem, 2)\n",
    "outputs = evaluator.df_apply(samples, keep_input=True)\n",
    "\n",
    "passedtime = round(time.time()-now,2)\n",
    "timestr = 'Time to evaluate '+str(len(samples))+' samples: '+str(passedtime)+' seconds.'\n",
    "\n",
    "with open('time.cluster', 'wb') as timecluster:\n",
    "     pickle.dump(timestr, timecluster)\n",
    "with open('op.out', 'wb') as op:\n",
    "     pickle.dump(outputs, op)\n",
    "        \n",
    "timestr"
   ]
  },
  {
   "cell_type": "markdown",
   "metadata": {
    "papermill": {
     "duration": 0.005111,
     "end_time": "2019-10-28T22:51:46.156590",
     "exception": false,
     "start_time": "2019-10-28T22:51:46.151479",
     "status": "completed"
    },
    "tags": []
   },
   "source": [
    "## Batch file\n",
    "The following cell will write a batch file `clusterbatch.sh` used for submitting our job."
   ]
  },
  {
   "cell_type": "code",
   "execution_count": null,
   "metadata": {
    "papermill": {
     "duration": 0.014177,
     "end_time": "2019-10-28T22:51:46.177817",
     "exception": false,
     "start_time": "2019-10-28T22:51:46.163640",
     "status": "completed"
    },
    "tags": []
   },
   "outputs": [],
   "source": [
    "%%writefile clusterbatch.sh\n",
    "#!/bin/bash\n",
    "#SBATCH --account=def-revins\n",
    "#SBATCH --time=00:10:00\n",
    "#SBATCH --nodes=1\n",
    "#SBATCH --cpus-per-task=4\n",
    "#SBATCH --mem=1000mb\n",
    "#SBATCH --output=%x-%j.out\n",
    "\n",
    "echo \"Current work dir: `pwd`\"\n",
    "echo \"Starting run at: `date`\"\n",
    "\n",
    "echo \"Job ID: $SLURM_JOB_ID\"\n",
    "\n",
    "echo \"prog started at: `date`\"\n",
    "mpiexec python cluster.py\n",
    "echo \"prog ended at: `date`\""
   ]
  },
  {
   "cell_type": "markdown",
   "metadata": {
    "papermill": {
     "duration": 0.005208,
     "end_time": "2019-10-28T22:51:46.188731",
     "exception": false,
     "start_time": "2019-10-28T22:51:46.183523",
     "status": "completed"
    },
    "tags": []
   },
   "source": [
    "## File transfers\n",
    "Now we need to transfer following files to the cluster using SFTP as described in [this notebook](SFTP.ipynb):\n",
    "+ `cluster.py`\n",
    "+ `clusterbatch.sh`  \n",
    "Note that we need to transfer these files in a folder residing in `/scratch` (e.g. `/scratch/job`) on the cluster since we do not have access to submit jobs from `/home`.\n",
    "\n",
    "## Job submission\n",
    "### SSH login on the server\n",
    "Get the terminal inside the notebook:"
   ]
  },
  {
   "cell_type": "code",
   "execution_count": null,
   "metadata": {
    "papermill": {
     "duration": 0.01182,
     "end_time": "2019-10-28T22:51:46.205666",
     "exception": false,
     "start_time": "2019-10-28T22:51:46.193846",
     "status": "completed"
    },
    "tags": []
   },
   "outputs": [],
   "source": [
    "your_gitlab_username = 'mdrpanwar'# change this to your username\n",
    "IFrame(\"https://hub.besos.uvic.ca/user/\"+your_gitlab_username+\"/terminals/2\", width=1200, height=250)"
   ]
  },
  {
   "cell_type": "markdown",
   "metadata": {
    "papermill": {
     "duration": 0.005491,
     "end_time": "2019-10-28T22:51:46.216544",
     "exception": false,
     "start_time": "2019-10-28T22:51:46.211053",
     "status": "completed"
    },
    "tags": []
   },
   "source": [
    "If you have trouble getting the `$` prompt, change the number at the end of above url to `3` (or higher) to start a new terminal."
   ]
  },
  {
   "cell_type": "markdown",
   "metadata": {
    "lines_to_next_cell": 0,
    "papermill": {
     "duration": 0.005438,
     "end_time": "2019-10-28T22:51:46.227522",
     "exception": false,
     "start_time": "2019-10-28T22:51:46.222084",
     "status": "completed"
    },
    "tags": []
   },
   "source": [
    "+ Execute `ssh -Y cc_username@cluster_name.computecanada.ca` in the terminal, e.g. `ssh -Y mpanwar@cedar.computecanada.ca`\n",
    "+ Enter the password when prompted.\n",
    "+ This should get the `[cc_username@cluster_name<login_node> ~]$` prompt, e.g. `[mpanwar@cedar1 ~]$`\n",
    "\n",
    "### Submitting the job\n",
    "+ Execute `module load python/3.7`\n",
    "+ Execute `module load glpk/4.61`\n",
    "+ Assuming you have transfered the required files (as mentioned above), we will now submit the job.\n",
    "+ Navigate to the directory inside of `/scratch` where you transfered your files (i.e. `/scratch/job` as per [example](./sftp%20file%20transfer.ipynb#Example:-Sending-files-from-Jupyter-hub-to-the-cluster))\n",
    "    + Execute `cd scratch/job`\n",
    "+ Verify that this folder contains `cluster.py`, `parameter_sets.py` and `clusterbatch.sh` by executing `ls`.\n",
    "+ Execute `sbatch clusterbatch.sh`.\n",
    "+ You can check the status of the job by executing `squeue -u cc_username` e.g. `squeue -u mpanwar`.\n",
    "\n",
    "## Getting the results\n",
    "The job is finished when `squeue -u cc_username` does not contain any job details.\n",
    "\n",
    "Go back to the second half of the [SFTP guide](SFTP.ipynb) and get the results files, in this case:\n",
    " + `time.cluster`\n",
    " + `op.out`."
   ]
  },
  {
   "cell_type": "markdown",
   "metadata": {
    "papermill": {
     "duration": 0.005548,
     "end_time": "2019-10-28T22:51:46.238684",
     "exception": false,
     "start_time": "2019-10-28T22:51:46.233136",
     "status": "completed"
    },
    "tags": []
   },
   "source": [
    "## Loading the results\n",
    "You can now unpickle the results and continue post-processing in BESOS."
   ]
  },
  {
   "cell_type": "code",
   "execution_count": null,
   "metadata": {
    "papermill": {
     "duration": 0.020206,
     "end_time": "2019-10-28T22:51:46.264485",
     "exception": false,
     "start_time": "2019-10-28T22:51:46.244279",
     "status": "completed"
    },
    "tags": []
   },
   "outputs": [],
   "source": [
    "with open(\"time.cluster\", \"rb\") as timestr:\n",
    "  passedtime = pickle.load(timestr)\n",
    "with open('op.out', 'rb') as df:\n",
    "  outputs = pickle.load(df)\n",
    "\n",
    "print(passedtime)\n",
    "outputs"
   ]
  },
  {
   "cell_type": "code",
   "execution_count": null,
   "metadata": {
    "papermill": {
     "duration": 0.006064,
     "end_time": "2019-10-28T22:51:46.277857",
     "exception": false,
     "start_time": "2019-10-28T22:51:46.271793",
     "status": "completed"
    },
    "tags": []
   },
   "outputs": [],
   "source": []
  }
 ],
 "metadata": {
  "kernelspec": {
   "display_name": "Python 3",
   "language": "python",
   "name": "python3"
  },
  "language_info": {
   "codemirror_mode": {
    "name": "ipython",
    "version": 3
   },
   "file_extension": ".py",
   "mimetype": "text/x-python",
   "name": "python",
   "nbconvert_exporter": "python",
   "pygments_lexer": "ipython3",
   "version": "3.8.3"
  }
 },
 "nbformat": 4,
 "nbformat_minor": 4
}
