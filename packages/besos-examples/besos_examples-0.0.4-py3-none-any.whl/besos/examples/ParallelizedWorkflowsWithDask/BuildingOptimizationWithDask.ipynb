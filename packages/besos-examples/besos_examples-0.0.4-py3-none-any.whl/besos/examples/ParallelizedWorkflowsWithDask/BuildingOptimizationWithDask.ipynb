{
 "cells": [
  {
   "cell_type": "markdown",
   "metadata": {},
   "source": [
    "# Building Optimization with Dask\n",
    "\n",
    "This notebook uses Dask to parrallize the NSGAII alogrithm.\n",
    "Most of this notebook is copied from the \"BuildingOptimization\" notebook. But, this notebook will skip over concepts unrelated to Dask. Go to examples/Optimization/BuildingOptimization.ipynb for more details about the notebook."
   ]
  },
  {
   "cell_type": "markdown",
   "metadata": {},
   "source": [
    "### Setup dask\n",
    "To use Dask setup the scheduler and the workers by runnning the cell below.\n",
    "The client object is used to get and set various dask settings such as the number of workers.\n",
    "\n",
    "If you're running this notebook locally, you should be able to open the dashboard using the link provided by client."
   ]
  },
  {
   "cell_type": "code",
   "execution_count": null,
   "metadata": {},
   "outputs": [],
   "source": [
    "import pandas as pd\n",
    "from besos import eppy_funcs as ef\n",
    "from besos.evaluator import EvaluatorEP\n",
    "from besos.optimizer import NSGAII\n",
    "from besos.parameters import RangeParameter, expand_plist, wwr\n",
    "from besos.problem import EPProblem\n",
    "from matplotlib import pyplot as plt\n",
    "\n",
    "from dask.distributed import Client\n",
    "client = Client()\n",
    "client"
   ]
  },
  {
   "cell_type": "markdown",
   "metadata": {},
   "source": [
    "### Building Optimization setup"
   ]
  },
  {
   "cell_type": "code",
   "execution_count": null,
   "metadata": {},
   "outputs": [],
   "source": [
    "building = ef.get_building(\"in.idf\")  # Load the E+ model in.idf"
   ]
  },
  {
   "cell_type": "code",
   "execution_count": null,
   "metadata": {},
   "outputs": [],
   "source": [
    "parameters = []\n",
    "parameters = expand_plist(  # Use helper function to make parameter list\n",
    "    {\n",
    "        \"Building 1\": {\"North Axis\": (0, 359)}  # Name from IDF Building object\n",
    "    }  # Change orientation from North\n",
    ")\n",
    "\n",
    "parameters.append(\n",
    "    wwr(RangeParameter(0.1, 0.9))\n",
    ")  # Add window-to-wall ratio as a parameter between 0.1 and 0.9 using a custom function"
   ]
  },
  {
   "cell_type": "code",
   "execution_count": null,
   "metadata": {},
   "outputs": [],
   "source": [
    "objectives = [\n",
    "    \"DistrictCooling:Facility\",\n",
    "    \"DistrictHeating:Facility\",\n",
    "]  # Use Heating and Cooling (Ideal air loads) as objectives\n",
    "problem = EPProblem(\n",
    "    parameters, objectives\n",
    ")  # Make a problem instance from the parameters and objectives"
   ]
  },
  {
   "cell_type": "markdown",
   "metadata": {},
   "source": [
    "### Set up EnergyPlus evaluator\n",
    "The Energy Plus evaluator must have `multi = True` to enable multiprocessing.\n",
    "This disables the caching functionality of the evaluator which is incompatible with multiprocessing.\n",
    "If a distributed network is used, `distributed = True` must also be set in the evaluator.\n",
    "The `distributed` setting ensures that the eplus configuration files (.idf, .idd, and .epw) are sent to the workers.\n",
    "\n",
    "In this cell, a evaluator is created and one simulation is run as a test"
   ]
  },
  {
   "cell_type": "code",
   "execution_count": null,
   "metadata": {},
   "outputs": [],
   "source": [
    "evaluatorEP = EvaluatorEP(\n",
    "    problem, building, multi=True\n",
    ")  # outputdir must exist; E+ files will be written there\n",
    "runs = pd.DataFrame.from_dict(\n",
    "    {\"0\": [180, 0.5]}, orient=\"index\"\n",
    ")  # Make a dataframe of runs with one entry for South and 50% glazing\n",
    "outputs = evaluatorEP.df_apply(runs)  # Run this as a test\n",
    "outputs"
   ]
  },
  {
   "cell_type": "markdown",
   "metadata": {},
   "source": [
    "### Run the Genetic Algorithm\n",
    "Run the genetic algorith. Because the evaluator was created with `multi=True` the algorithm will also use multiprocessing\n",
    "For each iteration of the algorithm, the evaluator will be run in parrallel for each worker available (indicated by the Dask client objct).\n",
    "\n",
    "You might also see a bunch of warnings along the lines of \"..full garbage collections...\". I'm not sure exactly what's causing them, but restarting the workers from time to time will help minimize the warnings ~ goh."
   ]
  },
  {
   "cell_type": "code",
   "execution_count": null,
   "metadata": {},
   "outputs": [],
   "source": [
    "%%time\n",
    "results = NSGAII(\n",
    "    evaluatorEP, evaluations=20, population_size=50\n",
    ")  # Run the optimizer using this evaluator for a population size of 20 for 10 generations\n",
    "results"
   ]
  },
  {
   "cell_type": "markdown",
   "metadata": {},
   "source": [
    "Compare with sequential processing. The performance difference will be greater if your machine has more cores."
   ]
  },
  {
   "cell_type": "code",
   "execution_count": null,
   "metadata": {},
   "outputs": [],
   "source": [
    "%%time\n",
    "evaluatorEP = EvaluatorEP(problem, building)\n",
    "\n",
    "results2 = NSGAII(\n",
    "    evaluatorEP, evaluations=20, population_size=50\n",
    ")  # Run the optimizer using this evaluator for a population size of 20 for 10 generations\n",
    "results2"
   ]
  },
  {
   "cell_type": "code",
   "execution_count": null,
   "metadata": {},
   "outputs": [],
   "source": [
    "optres = results.loc[\n",
    "    results[\"pareto-optimal\"] == True, :\n",
    "]  # Get only the optimal results\n",
    "plt.plot(\n",
    "    results[\"DistrictCooling:Facility\"], results[\"DistrictHeating:Facility\"], \"x\"\n",
    ")  # Plot all results in the background\n",
    "plt.plot(\n",
    "    optres[\"DistrictCooling:Facility\"], optres[\"DistrictHeating:Facility\"], \"ro\"\n",
    ")  # Plot optimal results in red\n",
    "plt.xlabel(\"Cooling demand\")\n",
    "plt.ylabel(\"Heating demand\")"
   ]
  },
  {
   "cell_type": "markdown",
   "metadata": {},
   "source": [
    "## Visualize the results"
   ]
  },
  {
   "cell_type": "code",
   "execution_count": null,
   "metadata": {},
   "outputs": [],
   "source": [
    "optres = optres.sort_values(\"DistrictCooling:Facility\")  # Sort by the first objective\n",
    "optresplot = optres.drop(columns=\"violation\")  # Remove the constraint violation column\n",
    "ax = optresplot.plot.bar(\n",
    "    subplots=True, legend=None, figsize=(10, 10)\n",
    ")  # Plot the variable values of each of the optimal solutions"
   ]
  },
  {
   "cell_type": "code",
   "execution_count": null,
   "metadata": {},
   "outputs": [],
   "source": [
    "client.restart()"
   ]
  }
 ],
 "metadata": {
  "kernelspec": {
   "display_name": "Python 3",
   "language": "python",
   "name": "python3"
  },
  "language_info": {
   "codemirror_mode": {
    "name": "ipython",
    "version": 3
   },
   "file_extension": ".py",
   "mimetype": "text/x-python",
   "name": "python",
   "nbconvert_exporter": "python",
   "pygments_lexer": "ipython3",
   "version": "3.8.3"
  }
 },
 "nbformat": 4,
 "nbformat_minor": 4
}
