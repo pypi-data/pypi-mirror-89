{
 "cells": [
  {
   "cell_type": "markdown",
   "metadata": {
    "papermill": {
     "duration": 0.008655,
     "end_time": "2019-10-28T23:04:09.667116",
     "exception": false,
     "start_time": "2019-10-28T23:04:09.658461",
     "status": "completed"
    },
    "tags": []
   },
   "source": [
    "# Storage Analysis\n",
    "\n",
    "This notebook outlines the steps needed to plot the storage results obtained by solving the model.\n",
    "We can use this to analyse the state of the storages over the time span of the optimization."
   ]
  },
  {
   "cell_type": "code",
   "execution_count": null,
   "metadata": {
    "lines_to_next_cell": 2,
    "papermill": {
     "duration": 0.78452,
     "end_time": "2019-10-28T23:04:10.461790",
     "exception": false,
     "start_time": "2019-10-28T23:04:09.677270",
     "status": "completed"
    },
    "tags": []
   },
   "outputs": [],
   "source": [
    "from pyehub.energy_hub.ehub_model import EHubModel\n",
    "from pyehub.outputter import plot_storages"
   ]
  },
  {
   "cell_type": "markdown",
   "metadata": {
    "papermill": {
     "duration": 0.003598,
     "end_time": "2019-10-28T23:04:10.470015",
     "exception": false,
     "start_time": "2019-10-28T23:04:10.466417",
     "status": "completed"
    },
    "tags": []
   },
   "source": [
    "First we load and run a model."
   ]
  },
  {
   "cell_type": "code",
   "execution_count": null,
   "metadata": {
    "papermill": {
     "duration": 0.107572,
     "end_time": "2019-10-28T23:04:10.582993",
     "exception": false,
     "start_time": "2019-10-28T23:04:10.475421",
     "status": "completed"
    },
    "tags": []
   },
   "outputs": [],
   "source": [
    "excel_file = (\n",
    "    \"test_file.xlsx\"  # name of the excel file. [This must be in the current directory]\n",
    ")\n",
    "my_model = EHubModel(\n",
    "    excel=excel_file\n",
    ")  # instantiate our model. Nothing is solved at this point.\n",
    "results = my_model.solve()  # solve the model and get back our results"
   ]
  },
  {
   "cell_type": "markdown",
   "metadata": {
    "papermill": {
     "duration": 0.003547,
     "end_time": "2019-10-28T23:04:10.591292",
     "exception": false,
     "start_time": "2019-10-28T23:04:10.587745",
     "status": "completed"
    },
    "tags": []
   },
   "source": [
    "The function  `plot_storages(...)` plots storage variables for all the storages in the model.\n",
    "The parameters to be plotted can be passed as boolean values (see the docstring [TODO: Add a link to docstring after updating readthedocs.]).\n",
    "All parameters are plotted by default."
   ]
  },
  {
   "cell_type": "code",
   "execution_count": null,
   "metadata": {
    "papermill": {
     "duration": 0.858181,
     "end_time": "2019-10-28T23:04:11.453102",
     "exception": false,
     "start_time": "2019-10-28T23:04:10.594921",
     "status": "completed"
    },
    "tags": []
   },
   "outputs": [],
   "source": [
    "plot_storages(results)"
   ]
  },
  {
   "cell_type": "markdown",
   "metadata": {
    "papermill": {
     "duration": 0.005348,
     "end_time": "2019-10-28T23:04:11.464350",
     "exception": false,
     "start_time": "2019-10-28T23:04:11.459002",
     "status": "completed"
    },
    "tags": []
   },
   "source": [
    "+ You can also specify the size of the plot by passing `size` tuple _[default value is (10,5)]_.\n",
    "+ There is also an option to view the y-axis in percentage rather than kWh. Pass `percentage = True` during function call. _[default units are kWh]_."
   ]
  },
  {
   "cell_type": "code",
   "execution_count": null,
   "metadata": {
    "papermill": {
     "duration": 0.899577,
     "end_time": "2019-10-28T23:04:12.369547",
     "exception": false,
     "start_time": "2019-10-28T23:04:11.469970",
     "status": "completed"
    },
    "tags": []
   },
   "outputs": [],
   "source": [
    "plot_storages(results, size=(12, 6), percentage=True)"
   ]
  },
  {
   "cell_type": "code",
   "execution_count": null,
   "metadata": {
    "papermill": {
     "duration": 0.00635,
     "end_time": "2019-10-28T23:04:12.382882",
     "exception": false,
     "start_time": "2019-10-28T23:04:12.376532",
     "status": "completed"
    },
    "tags": []
   },
   "outputs": [],
   "source": []
  }
 ],
 "metadata": {
  "kernelspec": {
   "display_name": "Python 3",
   "language": "python",
   "name": "python3"
  }
 },
 "nbformat": 4,
 "nbformat_minor": 4
}
