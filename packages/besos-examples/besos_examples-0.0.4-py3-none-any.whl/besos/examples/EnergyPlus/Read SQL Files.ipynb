{
 "cells": [
  {
   "cell_type": "markdown",
   "metadata": {},
   "source": [
    "# Read SQL files"
   ]
  },
  {
   "cell_type": "markdown",
   "metadata": {},
   "source": [
    "Import all the libs needed"
   ]
  },
  {
   "cell_type": "code",
   "execution_count": null,
   "metadata": {},
   "outputs": [],
   "source": [
    "import pandas as pd\n",
    "from besos import eppy_funcs as ef, sampling\n",
    "from besos.evaluator import EvaluatorEP\n",
    "from besos.problem import EPProblem"
   ]
  },
  {
   "cell_type": "code",
   "execution_count": null,
   "metadata": {
    "lines_to_next_cell": 2
   },
   "outputs": [],
   "source": [
    "from parameter_sets import parameter_set"
   ]
  },
  {
   "cell_type": "markdown",
   "metadata": {},
   "source": [
    "We can use a handy function to read all sql files first, if there is only one just type in the file name."
   ]
  },
  {
   "cell_type": "code",
   "execution_count": null,
   "metadata": {},
   "outputs": [],
   "source": [
    "files = ef.get_files(\n",
    "    \"\", \"sql\"\n",
    ")  # The first input is directory to the folder(empty if it's in same folder), the second is the file type needed.\n",
    "files"
   ]
  },
  {
   "cell_type": "markdown",
   "metadata": {},
   "source": [
    "After we get all files name, next we can start read the information we need from the sql files"
   ]
  },
  {
   "cell_type": "code",
   "execution_count": null,
   "metadata": {},
   "outputs": [],
   "source": [
    "for file in files:\n",
    "    data = ef.read_sql(\n",
    "        path=file, cmds=[\"all\"], direction=None\n",
    "    )  # possible cmds: all, wall area, ceiling height, floor area, volume. Get all directions when direction is none."
   ]
  },
  {
   "cell_type": "markdown",
   "metadata": {},
   "source": [
    "Convert dictionary to panda data frames"
   ]
  },
  {
   "cell_type": "code",
   "execution_count": null,
   "metadata": {},
   "outputs": [],
   "source": [
    "pd.DataFrame.from_dict(data, orient=\"index\")"
   ]
  },
  {
   "cell_type": "markdown",
   "metadata": {},
   "source": [
    "## Set window to wall ratio using wwr_all\n",
    "Added option of select only set wwr of windows in a specified direction"
   ]
  },
  {
   "cell_type": "code",
   "execution_count": null,
   "metadata": {},
   "outputs": [],
   "source": [
    "building = ef.get_building()\n",
    "ef.wwr_all(building, wwr=0.5, direction=\"north\")"
   ]
  },
  {
   "cell_type": "markdown",
   "metadata": {
    "lines_to_next_cell": 2
   },
   "source": [
    "## Save outputs for every sample using df_appy\n",
    "Added option of keeping all outputs in a folder by flagging keep_dirs"
   ]
  },
  {
   "cell_type": "code",
   "execution_count": null,
   "metadata": {},
   "outputs": [],
   "source": [
    "parameters = parameter_set()\n",
    "problem = EPProblem(parameters, [\"Electricity:Facility\"])\n",
    "building = ef.get_building()  # use the example building\n",
    "evaluator = EvaluatorEP(problem, building,)\n",
    "inputs = sampling.dist_sampler(\n",
    "    sampling.lhs, problem, 2\n",
    ")  # get 50 samples of the input space\n",
    "outputs = evaluator.df_apply(inputs, processes=3, keep_dirs=True)\n",
    "outputs"
   ]
  }
 ],
 "metadata": {
  "kernelspec": {
   "display_name": "Python 3",
   "language": "python",
   "name": "python3"
  }
 },
 "nbformat": 4,
 "nbformat_minor": 4
}
