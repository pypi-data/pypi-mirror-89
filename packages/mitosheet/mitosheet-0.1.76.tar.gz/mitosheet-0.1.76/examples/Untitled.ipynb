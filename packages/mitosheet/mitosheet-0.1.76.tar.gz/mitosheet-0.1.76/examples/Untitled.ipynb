{
 "cells": [
  {
   "cell_type": "code",
   "execution_count": 1,
   "metadata": {},
   "outputs": [
    {
     "data": {
      "application/vnd.jupyter.widget-view+json": {
       "model_id": "bc0ccc1e2d9b4df0b516dc04b75fc36e",
       "version_major": 2,
       "version_minor": 0
      },
      "text/plain": [
       "MitoWidget(analysis_name='UUID-31148d34-0afb-4d04-98ec-dd3b4672a191', code_json='{\"imports\": \"from mitosheet i…"
      ]
     },
     "metadata": {},
     "output_type": "display_data"
    }
   ],
   "source": [
    "import mitosheet\n",
    "mitosheet.sheet()"
   ]
  },
  {
   "cell_type": "code",
   "execution_count": null,
   "metadata": {},
   "outputs": [],
   "source": []
  },
  {
   "cell_type": "code",
   "execution_count": null,
   "metadata": {},
   "outputs": [],
   "source": []
  }
 ],
 "metadata": {
  "kernelspec": {
   "display_name": "Python 3",
   "language": "python",
   "name": "python3"
  },
  "language_info": {
   "codemirror_mode": {
    "name": "ipython",
    "version": 3
   },
   "file_extension": ".py",
   "mimetype": "text/x-python",
   "name": "python",
   "nbconvert_exporter": "python",
   "pygments_lexer": "ipython3",
   "version": "3.8.5"
  },
  "widgets": {
   "application/vnd.jupyter.widget-state+json": {
    "state": {
     "02b7961badfd48538f5c6567a40ed54f": {
      "model_module": "@jupyter-widgets/base",
      "model_module_version": "1.2.0",
      "model_name": "LayoutModel",
      "state": {}
     },
     "bc0ccc1e2d9b4df0b516dc04b75fc36e": {
      "model_module": "mitosheet",
      "model_module_version": "^0.1.74",
      "model_name": "ExampleModel",
      "state": {
       "_model_module_version": "^0.1.74",
       "_view_module_version": "^0.1.74",
       "analysis_name": "UUID-31148d34-0afb-4d04-98ec-dd3b4672a191",
       "code_json": "{\"imports\": \"from mitosheet import *\", \"code\": []}",
       "column_filters_json": "[]",
       "column_spreadsheet_code_json": "[]",
       "column_type_json": "[]",
       "df_names_json": "{\"df_names\": []}",
       "df_shape_json": "[]",
       "is_local_deployment": true,
       "layout": "IPY_MODEL_02b7961badfd48538f5c6567a40ed54f",
       "saved_analysis_names_json": "[\"28\", \"29\", \"Dork\", \"Double Import\", \"File Import Get Length\", \"File Import\", \"Testing\", \"_8b9x4aa2m\", \"_jtip39qtx\", \"_k4ce9w8om\", \"aaa\", \"new\"]",
       "sheet_json": "[]",
       "user_id": "nate",
       "value": "Hello World"
      }
     }
    },
    "version_major": 2,
    "version_minor": 0
   }
  }
 },
 "nbformat": 4,
 "nbformat_minor": 4
}
