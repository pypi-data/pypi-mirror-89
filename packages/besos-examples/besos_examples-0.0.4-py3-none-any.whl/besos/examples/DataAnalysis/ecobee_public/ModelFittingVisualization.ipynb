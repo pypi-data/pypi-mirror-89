{
 "cells": [
  {
   "cell_type": "markdown",
   "metadata": {
    "papermill": {
     "duration": 0.012153,
     "end_time": "2019-10-28T22:48:46.069127",
     "exception": false,
     "start_time": "2019-10-28T22:48:46.056974",
     "status": "completed"
    },
    "tags": []
   },
   "source": [
    "# Model Fitting\n",
    "## Description\n",
    "\n",
    "A model is fitted to the temperature and heating duty cycle data. The model has the following form:\n",
    "$$\\frac{dT_{in}}{dt}=\\frac{1}{RC}\\Big[\\big(T_{ext}-T_{in}\\big)+\\delta_{on}RK_{heat}]$$\n",
    "\n",
    "### Inputs\n",
    "1. Outside temperature, $T_{ext}$\n",
    "2. Heating duty cycle $\\delta_{on}$\n",
    "\n",
    "### Parameters\n",
    "1. Time constant $RC$\n",
    "2. Heating power - thermal resistance product $RK$\n",
    "\n",
    "### Outputs\n",
    "1. Inside temperature $T$\n",
    "\n",
    "## Filtering parameters\n",
    "The data is first selected based on the following:\n",
    "1. __interval amnt__: number of intervals to consider per building\n",
    "2. __duration__: length of each interval\n",
    "3. __heating_runtime_upper_bound__: maximum heating duty cycle over an interval\n",
    "4. __heating_runtime_lower_bound__: minimum heating duty cycle over an interval\n",
    "5. __indoor_variance_thershold__:  minimum variance in the indoor temperature over an interval\n",
    "6. __cost_threshold__: maximum permissible value of the cost function\n",
    "7. __initial_guess_model_fitting__: initial guesses for the parameters"
   ]
  },
  {
   "cell_type": "markdown",
   "metadata": {
    "papermill": {
     "duration": 0.009689,
     "end_time": "2019-10-28T22:48:46.091502",
     "exception": false,
     "start_time": "2019-10-28T22:48:46.081813",
     "status": "completed"
    },
    "tags": []
   },
   "source": [
    "## Example\n",
    "### 1. Import required libraries"
   ]
  },
  {
   "cell_type": "code",
   "execution_count": null,
   "metadata": {
    "lines_to_next_cell": 2,
    "papermill": {
     "duration": 0.413427,
     "end_time": "2019-10-28T22:48:46.514914",
     "exception": false,
     "start_time": "2019-10-28T22:48:46.101487",
     "status": "completed"
    },
    "tags": []
   },
   "outputs": [],
   "source": [
    "from matplotlib import pyplot as plt\n",
    "from scripts import model_fitting as mf, preprocessing as pp\n",
    "from scripts.filters import (\n",
    "    hours,\n",
    "    initial_guess_model_fitting,\n",
    "    model_fitting_params,\n",
    "    months,\n",
    ")"
   ]
  },
  {
   "cell_type": "markdown",
   "metadata": {
    "papermill": {
     "duration": 0.004271,
     "end_time": "2019-10-28T22:48:46.524648",
     "exception": false,
     "start_time": "2019-10-28T22:48:46.520377",
     "status": "completed"
    },
    "tags": []
   },
   "source": [
    "### 2. Load the data"
   ]
  },
  {
   "cell_type": "markdown",
   "metadata": {
    "papermill": {
     "duration": 0.004927,
     "end_time": "2019-10-28T22:48:46.533753",
     "exception": false,
     "start_time": "2019-10-28T22:48:46.528826",
     "status": "completed"
    },
    "tags": []
   },
   "source": [
    "Edit the filename to chang which building is being evaluated. The example buildings included in this repo can be found  in `data/raw_data/Toronto`. Note that the selected intervals are random so the results may not always be identical."
   ]
  },
  {
   "cell_type": "code",
   "execution_count": null,
   "metadata": {
    "papermill": {
     "duration": 0.351236,
     "end_time": "2019-10-28T22:48:46.890183",
     "exception": false,
     "start_time": "2019-10-28T22:48:46.538947",
     "status": "completed"
    },
    "tags": []
   },
   "outputs": [],
   "source": [
    "filename = \"a937d992bbae47858967713080c8e8173b331e9c.csv\"\n",
    "df = pp.load_building_data(filename)"
   ]
  },
  {
   "cell_type": "code",
   "execution_count": null,
   "metadata": {
    "papermill": {
     "duration": 0.01044,
     "end_time": "2019-10-28T22:48:46.906175",
     "exception": false,
     "start_time": "2019-10-28T22:48:46.895735",
     "status": "completed"
    },
    "tags": []
   },
   "outputs": [],
   "source": [
    "relevant_variables = [\n",
    "    \"Thermostat_Temperature\",\n",
    "    \"T_out\",\n",
    "    \"T_stp_heat\",\n",
    "    \"auxHeat1\",\n",
    "    \"auxHeat2\",\n",
    "    \"auxHeat3\",\n",
    "]\n",
    "nice_labels = {\n",
    "    \"Thermostat_Temperature\": \"Thermostat temperature\",\n",
    "    \"T_out\": \"Outside temperature\",\n",
    "    \"T_stp_heat\": \"Heating setpoint\",\n",
    "    \"auxHeat1\": \"Heating stage 1\",\n",
    "    \"auxHeat2\": \"Heating stage 2\",\n",
    "    \"auxHeat3\": \"Heating stage 3\",\n",
    "}"
   ]
  },
  {
   "cell_type": "markdown",
   "metadata": {
    "papermill": {
     "duration": 0.004304,
     "end_time": "2019-10-28T22:48:46.915037",
     "exception": false,
     "start_time": "2019-10-28T22:48:46.910733",
     "status": "completed"
    },
    "tags": []
   },
   "source": [
    "### 3. Select the intervals and run the model fitting"
   ]
  },
  {
   "cell_type": "code",
   "execution_count": null,
   "metadata": {
    "papermill": {
     "duration": 0.151138,
     "end_time": "2019-10-28T22:48:47.070554",
     "exception": false,
     "start_time": "2019-10-28T22:48:46.919416",
     "status": "completed"
    },
    "tags": []
   },
   "outputs": [],
   "source": [
    "intervals = []\n",
    "while len(intervals) < 4:\n",
    "    intervals = mf.select_intervals(months, hours, df, model_fitting_params)\n",
    "solution = mf.fit_model(df, initial_guess_model_fitting, intervals)\n",
    "p = solution.x\n",
    "dt = 5.0\n",
    "\n",
    "var_list = mf.initialize_variables_for_fit(df, intervals)\n",
    "\n",
    "results = mf.ode_solution_helper(var_list, dt, p)"
   ]
  },
  {
   "cell_type": "markdown",
   "metadata": {
    "papermill": {
     "duration": 0.004529,
     "end_time": "2019-10-28T22:48:47.080551",
     "exception": false,
     "start_time": "2019-10-28T22:48:47.076022",
     "status": "completed"
    },
    "tags": []
   },
   "source": [
    "### 4. Plot the results"
   ]
  },
  {
   "cell_type": "code",
   "execution_count": null,
   "metadata": {
    "papermill": {
     "duration": 1.462303,
     "end_time": "2019-10-28T22:48:48.547779",
     "exception": false,
     "start_time": "2019-10-28T22:48:47.085476",
     "status": "completed"
    },
    "tags": []
   },
   "outputs": [],
   "source": [
    "for i, result in zip(intervals, results):\n",
    "    df_slice = df[i[0] : i[1]]\n",
    "    plt.figure(figsize=(20, 10))\n",
    "    for variable in relevant_variables:\n",
    "        plt.plot(df_slice.index, df_slice[variable], label=nice_labels.get(variable))\n",
    "\n",
    "    plt.plot(df_slice.index, result, label=\"Model temperature\")\n",
    "    plt.xlabel(\"Time\")\n",
    "    plt.ylabel(\"Temperatutre / Runtime fraction\")\n",
    "    plt.title(\"Model Fitting Visualization\")\n",
    "    plt.grid()\n",
    "    plt.legend()"
   ]
  },
  {
   "cell_type": "code",
   "execution_count": null,
   "metadata": {
    "papermill": {
     "duration": 0.008748,
     "end_time": "2019-10-28T22:48:48.565778",
     "exception": false,
     "start_time": "2019-10-28T22:48:48.557030",
     "status": "completed"
    },
    "tags": []
   },
   "outputs": [],
   "source": []
  }
 ],
 "metadata": {
  "kernelspec": {
   "display_name": "Python 3",
   "language": "python",
   "name": "python3"
  }
 },
 "nbformat": 4,
 "nbformat_minor": 4
}
