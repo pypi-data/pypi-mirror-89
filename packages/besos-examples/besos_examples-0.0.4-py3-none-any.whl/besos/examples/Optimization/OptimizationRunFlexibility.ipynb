{
 "cells": [
  {
   "cell_type": "markdown",
   "metadata": {
    "papermill": {
     "duration": 0.011594,
     "end_time": "2019-10-28T23:00:09.741483",
     "exception": false,
     "start_time": "2019-10-28T23:00:09.729889",
     "status": "completed"
    },
    "tags": []
   },
   "source": [
    "# Optimisation Run Flexibility\n",
    "It is possible to change the configuration of the algorithm part way through the optimization process, or even to switch algorithms completely.\n",
    "This allows an optimization process to be configured to be more exploritative early on, to explore the whole design space, then later to be more exploitative, to home in in exact optimal solutions.\n",
    "Doing so requires using [Platypus](https://platypus.readthedocs.io/en/latest/) algorithms directly, instead of the algorithm wrappers provided through the BESOS optimizer module."
   ]
  },
  {
   "cell_type": "code",
   "execution_count": null,
   "metadata": {
    "lines_to_next_cell": 2,
    "papermill": {
     "duration": 2.519324,
     "end_time": "2019-10-28T23:00:12.274169",
     "exception": false,
     "start_time": "2019-10-28T23:00:09.754845",
     "status": "completed"
    },
    "tags": []
   },
   "outputs": [],
   "source": [
    "import platypus\n",
    "from besos import eppy_funcs as ef, optimizer\n",
    "from besos.evaluator import EvaluatorEP\n",
    "from besos.parameters import expand_plist\n",
    "from besos.problem import EPProblem"
   ]
  },
  {
   "cell_type": "markdown",
   "metadata": {
    "papermill": {
     "duration": 0.009159,
     "end_time": "2019-10-28T23:00:12.292171",
     "exception": false,
     "start_time": "2019-10-28T23:00:12.283012",
     "status": "completed"
    },
    "tags": []
   },
   "source": [
    "First we create an example problem, see [here](BuildingOptimization.ipynb) for details."
   ]
  },
  {
   "cell_type": "code",
   "execution_count": null,
   "metadata": {
    "papermill": {
     "duration": 1.73479,
     "end_time": "2019-10-28T23:00:14.034388",
     "exception": false,
     "start_time": "2019-10-28T23:00:12.299598",
     "status": "completed"
    },
    "tags": []
   },
   "outputs": [],
   "source": [
    "idf = ef.get_idf()\n",
    "parameters = expand_plist(\n",
    "    {\n",
    "        \"NonRes Fixed Assembly Window\": {\n",
    "            \"UFactor\": (0.1, 5),\n",
    "            \"Solar Heat Gain Coefficient\": (0.01, 0.99),\n",
    "        },\n",
    "        \"Mass NonRes Wall Insulation\": {\"Thickness\": (0.01, 0.09)},\n",
    "    }\n",
    ")\n",
    "objectives = [\"Electricity:Facility\", \"Gas:Facility\"]\n",
    "problem = EPProblem(parameters, objectives)\n",
    "evaluator = EvaluatorEP(problem, idf)"
   ]
  },
  {
   "cell_type": "markdown",
   "metadata": {
    "papermill": {
     "duration": 0.005379,
     "end_time": "2019-10-28T23:00:14.045956",
     "exception": false,
     "start_time": "2019-10-28T23:00:14.040577",
     "status": "completed"
    },
    "tags": []
   },
   "source": [
    "Next we set up NSGA-II as the first algorithm, a good general purpose multi-objective genetic algorithm.\n",
    "The `to_platypus` shortcut converts the Evaluator object to a `platypus.Problem` object."
   ]
  },
  {
   "cell_type": "code",
   "execution_count": null,
   "metadata": {
    "papermill": {
     "duration": 0.011251,
     "end_time": "2019-10-28T23:00:14.063030",
     "exception": false,
     "start_time": "2019-10-28T23:00:14.051779",
     "status": "completed"
    },
    "tags": []
   },
   "outputs": [],
   "source": [
    "platypus_problem = evaluator.to_platypus()\n",
    "algorithm = platypus.NSGAII(problem=platypus_problem)"
   ]
  },
  {
   "cell_type": "markdown",
   "metadata": {
    "papermill": {
     "duration": 0.005348,
     "end_time": "2019-10-28T23:00:14.073991",
     "exception": false,
     "start_time": "2019-10-28T23:00:14.068643",
     "status": "completed"
    },
    "tags": []
   },
   "source": [
    "Now we can run the algorithm for a lot of generations, and pause it at some point.\n",
    "Use the **stop button** at the top of the notebook to interrupt the following cell.\n",
    "Note: The output from the next cells will vary from run to run, due to the randomness of the underlying algorithm as well as the amount of time this cell is run for."
   ]
  },
  {
   "cell_type": "code",
   "execution_count": null,
   "metadata": {
    "papermill": {
     "duration": 172.566031,
     "end_time": "2019-10-28T23:03:06.645542",
     "exception": false,
     "start_time": "2019-10-28T23:00:14.079511",
     "status": "completed"
    },
    "tags": []
   },
   "outputs": [],
   "source": [
    "try:\n",
    "    algorithm.run(10)\n",
    "except KeyboardInterrupt:\n",
    "    print(\"Algorithm interrupted\")\n",
    "algorithm.population[:5]"
   ]
  },
  {
   "cell_type": "markdown",
   "metadata": {
    "papermill": {
     "duration": 0.005538,
     "end_time": "2019-10-28T23:03:06.657604",
     "exception": false,
     "start_time": "2019-10-28T23:03:06.652066",
     "status": "completed"
    },
    "tags": []
   },
   "source": [
    "Now we want to continue from where the first algorithm left off, running `EpsMOEA` for 10 evaluations.\n",
    "In order to make the population carry over, we use the `InjectedPopulation` generator, then run the second algorithm.\n",
    "\n",
    "If we had let the first algorithm finish, we could use `algorithm.result` instead of `algorithm.population` to use the solutions found by the first algorithm as a starting point for the next."
   ]
  },
  {
   "cell_type": "code",
   "execution_count": null,
   "metadata": {
    "papermill": {
     "duration": 18.074939,
     "end_time": "2019-10-28T23:03:24.738270",
     "exception": false,
     "start_time": "2019-10-28T23:03:06.663331",
     "status": "completed"
    },
    "tags": []
   },
   "outputs": [],
   "source": [
    "generator = platypus.InjectedPopulation(algorithm.population)\n",
    "alg2 = platypus.EpsMOEA(\n",
    "    problem=platypus_problem, generator=generator, epsilons=3, population_size=10\n",
    ")\n",
    "alg2.run(10)"
   ]
  },
  {
   "cell_type": "markdown",
   "metadata": {
    "papermill": {
     "duration": 0.005215,
     "end_time": "2019-10-28T23:03:24.749549",
     "exception": false,
     "start_time": "2019-10-28T23:03:24.744334",
     "status": "completed"
    },
    "tags": []
   },
   "source": [
    "Now we convert the solutions to a dataframe using the BESOS helper function and display them."
   ]
  },
  {
   "cell_type": "code",
   "execution_count": null,
   "metadata": {
    "papermill": {
     "duration": 0.034799,
     "end_time": "2019-10-28T23:03:24.789763",
     "exception": false,
     "start_time": "2019-10-28T23:03:24.754964",
     "status": "completed"
    },
    "tags": []
   },
   "outputs": [],
   "source": [
    "optimizer.solutions_to_df(alg2.result, problem, parts=[\"inputs\", \"outputs\"])"
   ]
  },
  {
   "cell_type": "code",
   "execution_count": null,
   "metadata": {
    "papermill": {
     "duration": 0.005155,
     "end_time": "2019-10-28T23:03:24.800188",
     "exception": false,
     "start_time": "2019-10-28T23:03:24.795033",
     "status": "completed"
    },
    "tags": []
   },
   "outputs": [],
   "source": []
  }
 ],
 "metadata": {
  "jupytext": {
   "formats": "ipynb,py:light"
  },
  "kernelspec": {
   "display_name": "Python 3",
   "language": "python",
   "name": "python3"
  }
 },
 "nbformat": 4,
 "nbformat_minor": 4
}
