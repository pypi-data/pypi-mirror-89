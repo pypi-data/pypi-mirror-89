{
 "cells": [
  {
   "cell_type": "markdown",
   "metadata": {
    "papermill": {
     "duration": 0.010586,
     "end_time": "2019-10-28T23:03:59.085503",
     "exception": false,
     "start_time": "2019-10-28T23:03:59.074917",
     "status": "completed"
    },
    "tags": []
   },
   "source": [
    "# Parameter Editor"
   ]
  },
  {
   "cell_type": "code",
   "execution_count": null,
   "metadata": {
    "lines_to_next_cell": 2,
    "papermill": {
     "duration": 0.956385,
     "end_time": "2019-10-28T23:04:00.053414",
     "exception": false,
     "start_time": "2019-10-28T23:03:59.097029",
     "status": "completed"
    },
    "tags": []
   },
   "outputs": [],
   "source": [
    "\n",
    "from besos import pyehub_funcs as pf\n",
    "from besos.parameters import Parameter, PathSelector\n",
    "from pyehub.energy_hub.ehub_model import EHubModel\n",
    "from pyehub.outputter import pretty_print"
   ]
  },
  {
   "cell_type": "markdown",
   "metadata": {
    "papermill": {
     "duration": 0.005526,
     "end_time": "2019-10-28T23:04:00.068494",
     "exception": false,
     "start_time": "2019-10-28T23:04:00.062968",
     "status": "completed"
    },
    "tags": []
   },
   "source": [
    "Parameters are provided as a list of key mapping lists for the different variables inside the model.\n",
    "Input values must be provided as a list of the appropriate datatypes (dictionaries for time series) that match the number of parameters wanted to be changed."
   ]
  },
  {
   "cell_type": "code",
   "execution_count": null,
   "metadata": {
    "papermill": {
     "duration": 0.015991,
     "end_time": "2019-10-28T23:04:00.090276",
     "exception": false,
     "start_time": "2019-10-28T23:04:00.074285",
     "status": "completed"
    },
    "tags": []
   },
   "outputs": [],
   "source": [
    "parameters = [\n",
    "    Parameter(PathSelector([\"LINEAR_CAPITAL_COSTS\", \"Boiler\"])),\n",
    "    Parameter(PathSelector([\"LINEAR_CAPITAL_COSTS\", \"CHP\"])),\n",
    "]\n",
    "\n",
    "values = [200, 600]"
   ]
  },
  {
   "cell_type": "markdown",
   "metadata": {
    "papermill": {
     "duration": 0.006082,
     "end_time": "2019-10-28T23:04:00.103570",
     "exception": false,
     "start_time": "2019-10-28T23:04:00.097488",
     "status": "completed"
    },
    "tags": []
   },
   "source": [
    "Setting up the underlying PyEHub model:"
   ]
  },
  {
   "cell_type": "code",
   "execution_count": null,
   "metadata": {
    "papermill": {
     "duration": 0.03828,
     "end_time": "2019-10-28T23:04:00.148211",
     "exception": false,
     "start_time": "2019-10-28T23:04:00.109931",
     "status": "completed"
    },
    "tags": []
   },
   "outputs": [],
   "source": [
    "excel_file = \"test_file_all_constraints_work.xlsx\"  # name of the excel file. [This must be in the current directory]\n",
    "model = EHubModel(\n",
    "    excel=excel_file\n",
    ")  # instantiate our model. Nothing is solved at this point."
   ]
  },
  {
   "cell_type": "markdown",
   "metadata": {
    "papermill": {
     "duration": 0.007828,
     "end_time": "2019-10-28T23:04:00.162562",
     "exception": false,
     "start_time": "2019-10-28T23:04:00.154734",
     "status": "completed"
    },
    "tags": []
   },
   "source": [
    "Editing the parameters requires only one function call to pyehub_funcs and the pyehub_parameter_editor providing the model, parameters, and values to be changed."
   ]
  },
  {
   "cell_type": "code",
   "execution_count": null,
   "metadata": {
    "papermill": {
     "duration": 0.016316,
     "end_time": "2019-10-28T23:04:00.187428",
     "exception": false,
     "start_time": "2019-10-28T23:04:00.171112",
     "status": "completed"
    },
    "tags": []
   },
   "outputs": [],
   "source": [
    "pf.pyehub_parameter_editor(model, parameters, values)"
   ]
  },
  {
   "cell_type": "markdown",
   "metadata": {
    "papermill": {
     "duration": 0.007136,
     "end_time": "2019-10-28T23:04:00.203351",
     "exception": false,
     "start_time": "2019-10-28T23:04:00.196215",
     "status": "completed"
    },
    "tags": []
   },
   "source": [
    "Running and outputing is as normal."
   ]
  },
  {
   "cell_type": "code",
   "execution_count": null,
   "metadata": {
    "papermill": {
     "duration": 0.231419,
     "end_time": "2019-10-28T23:04:00.441905",
     "exception": false,
     "start_time": "2019-10-28T23:04:00.210486",
     "status": "completed"
    },
    "tags": []
   },
   "outputs": [],
   "source": [
    "results = model.solve()  # solve the model and get back our results\n",
    "pretty_print(results)  # print the results to the console"
   ]
  },
  {
   "cell_type": "code",
   "execution_count": null,
   "metadata": {
    "papermill": {
     "duration": 0.005529,
     "end_time": "2019-10-28T23:04:00.454838",
     "exception": false,
     "start_time": "2019-10-28T23:04:00.449309",
     "status": "completed"
    },
    "tags": []
   },
   "outputs": [],
   "source": []
  }
 ],
 "metadata": {
  "kernelspec": {
   "display_name": "Python 3",
   "language": "python",
   "name": "python3"
  }
 },
 "nbformat": 4,
 "nbformat_minor": 4
}
