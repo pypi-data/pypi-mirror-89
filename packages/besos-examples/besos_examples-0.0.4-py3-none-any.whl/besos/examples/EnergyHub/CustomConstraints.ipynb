{
 "cells": [
  {
   "cell_type": "markdown",
   "metadata": {
    "papermill": {
     "duration": 0.006728,
     "end_time": "2019-10-28T23:04:03.578673",
     "exception": false,
     "start_time": "2019-10-28T23:04:03.571945",
     "status": "completed"
    },
    "tags": []
   },
   "source": [
    "# Adding new constraints to the EHubModel\n",
    "\n",
    "This notebook demonstrates three ways of adding new constraints to extend the model:\n",
    "\n",
    "1. A constraint which limits a function of existing variables and parameters in the model.\n",
    "1. A constraint that is indexed by timeseries data.\n",
    "1. A list of constraints."
   ]
  },
  {
   "cell_type": "code",
   "execution_count": null,
   "metadata": {
    "papermill": {
     "duration": 0.760983,
     "end_time": "2019-10-28T23:04:04.344045",
     "exception": false,
     "start_time": "2019-10-28T23:04:03.583062",
     "status": "completed"
    },
    "tags": []
   },
   "outputs": [],
   "source": [
    "from pyehub.energy_hub.ehub_model import EHubModel\n",
    "from pyehub.energy_hub.utils import constraint, constraint_list\n",
    "from pyehub.outputter import pretty_print"
   ]
  },
  {
   "cell_type": "markdown",
   "metadata": {
    "papermill": {
     "duration": 0.003373,
     "end_time": "2019-10-28T23:04:04.351651",
     "exception": false,
     "start_time": "2019-10-28T23:04:04.348278",
     "status": "completed"
    },
    "tags": []
   },
   "source": [
    "The following is a custom class which extends the existing `EHubModel` class.\n",
    "Here we define three different ways of adding constraints.\n",
    "Every 'constraint' must be preceded by `@constraint()` decorator and every 'constraint list' must be preceded by `@constraint_list()` decorator.\n",
    "This is how the model recognizes constraints.\n",
    "\n",
    "### A simple constraint\n",
    "+ `new_constraint(self)` imposes a single constraint, here _sum of capacities of boiler and heat pump <= 10'\n",
    "\n",
    "### A constraint that is indexed by some data\n",
    "+ `indexed_constraint(self, t, export_stream)` is a constraint indexed by time and output_stream: _energy_exported at every time step from every export_stream = zero_.\n",
    "\n",
    "### A list of constraints\n",
    "+ `constraint_list_example(self)` is a list of constraints, i.e. we are imposing various constraints at once: _for time steps 8 to 10, the energy imported from 'Grid' >= 10_. This is equivalent to three `@constraint()`s."
   ]
  },
  {
   "cell_type": "code",
   "execution_count": null,
   "metadata": {
    "papermill": {
     "duration": 0.011162,
     "end_time": "2019-10-28T23:04:04.368254",
     "exception": false,
     "start_time": "2019-10-28T23:04:04.357092",
     "status": "completed"
    },
    "tags": []
   },
   "outputs": [],
   "source": [
    "class MyModel(EHubModel):\n",
    "    \"\"\"\n",
    "    This is a subclass of EHubModel where we can add our own constraints.\n",
    "    \"\"\"\n",
    "\n",
    "    @constraint()\n",
    "    def new_constraint(self):\n",
    "        \"\"\"\n",
    "        This is a new constraint of the model.\n",
    "\n",
    "        We flag constraints for the compiler using the @constraint() function decorator on the line above the definition\n",
    "\n",
    "        Returns:\n",
    "            Some constraint that relates variables, parameters, etc. with each other.\n",
    "        \"\"\"\n",
    "        # Here we impose the constraint. You can restrict any parameter's value, or bound the sum of parameters, etc.\n",
    "        return self.Boiler + self.HP <= 10\n",
    "\n",
    "    @constraint(\n",
    "        \"time\", \"export_streams\"\n",
    "    )  # the function decorator can also define the index(es) of the constraint\n",
    "    def indexed_constraint(self, t, export_stream):\n",
    "        \"\"\"\n",
    "        This is an example of a constraint that is indexed by some data.\n",
    "\n",
    "        Each of the arguments to `@contraint` are the names of sets of data that the model (self) has. \n",
    "        \n",
    "        The constraint is then passed each element of those sets to this method.\n",
    "\n",
    "        It acts much like:\n",
    "\n",
    "            for t in model.time:\n",
    "                for export_stream in model.export_streams:\n",
    "                    indexed_constraint(model, t, export_stream)\n",
    "\n",
    "        Args:\n",
    "            t: A specific time step in `self.time`\n",
    "            export_stream: A specific export energy stream from `self.export_streams`.\n",
    "\n",
    "        Returns:\n",
    "            Set of constraints imposing that energy_exported at every time step from every export_stream be zero.\n",
    "        \"\"\"\n",
    "        # This says the the energy exported at every time step and every export stream has to be 0.\n",
    "        return self.energy_exported[t][export_stream] == 0\n",
    "\n",
    "    @constraint_list()\n",
    "    def constraint_list_example(self):\n",
    "        \"\"\"\n",
    "        This is an example of using the constraint_list decorator.\n",
    "\n",
    "        This makes a method \"return\" a list of constraints for some data.\n",
    "\n",
    "        This is mostly used for some data that would make it too complicated to have it in a lot of regular @constraint methods.\n",
    "\n",
    "        Yields:\n",
    "            Constraints \n",
    "            [This function returns 'generators'. Lookup `Python generators` to learn more on what this does.]\n",
    "        \"\"\"\n",
    "        for t in range(len(self.time)):\n",
    "            if 8 <= t <= 10:\n",
    "                #\n",
    "                yield self.energy_imported[t][\"Grid\"] >= 10"
   ]
  },
  {
   "cell_type": "markdown",
   "metadata": {
    "papermill": {
     "duration": 0.003085,
     "end_time": "2019-10-28T23:04:04.374406",
     "exception": false,
     "start_time": "2019-10-28T23:04:04.371321",
     "status": "completed"
    },
    "tags": []
   },
   "source": [
    "Now we load and run a model."
   ]
  },
  {
   "cell_type": "code",
   "execution_count": null,
   "metadata": {
    "papermill": {
     "duration": 0.161124,
     "end_time": "2019-10-28T23:04:04.538904",
     "exception": false,
     "start_time": "2019-10-28T23:04:04.377780",
     "status": "completed"
    },
    "tags": []
   },
   "outputs": [],
   "source": [
    "excel_file = \"test_file_all_constraints_work.xlsx\"  # name of the excel file. [This must be in the current directory]\n",
    "my_model = MyModel(\n",
    "    excel=excel_file\n",
    ")  # instantiate our model. Nothing is solved at this point.\n",
    "results = my_model.solve()  # solve the model and get back our results\n",
    "pretty_print(results)  # print the results to the console"
   ]
  },
  {
   "cell_type": "code",
   "execution_count": null,
   "metadata": {
    "papermill": {
     "duration": 0.003665,
     "end_time": "2019-10-28T23:04:04.547403",
     "exception": false,
     "start_time": "2019-10-28T23:04:04.543738",
     "status": "completed"
    },
    "tags": []
   },
   "outputs": [],
   "source": []
  }
 ],
 "metadata": {
  "kernelspec": {
   "display_name": "Python 3",
   "language": "python",
   "name": "python3"
  }
 },
 "nbformat": 4,
 "nbformat_minor": 4
}
