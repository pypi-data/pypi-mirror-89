{
 "cells": [
  {
   "cell_type": "markdown",
   "metadata": {},
   "source": [
    "# Dependent Parameter and Additional Outputs"
   ]
  },
  {
   "cell_type": "code",
   "execution_count": null,
   "metadata": {
    "lines_to_end_of_cell_marker": 2
   },
   "outputs": [],
   "source": [
    "from besos import eppy_funcs as ef, sampling\n",
    "from besos.eplus_funcs import print_available_outputs\n",
    "from besos.evaluator import EvaluatorEP\n",
    "from besos.optimizer import NSGAII\n",
    "from besos.parameters import (\n",
    "    DependentParameter,\n",
    "    FieldSelector,\n",
    "    Parameter,\n",
    "    RangeParameter,\n",
    "    wwr,\n",
    ")\n",
    "from besos.problem import EPProblem"
   ]
  },
  {
   "cell_type": "markdown",
   "metadata": {},
   "source": [
    "## Dependent Parameter"
   ]
  },
  {
   "cell_type": "markdown",
   "metadata": {},
   "source": [
    "The dependent parameter couples two parameters together: Target parameter with Leading value (set by the sampling or optimization algorithm), and dependent parameter with following (reacts) value.\n",
    "\n",
    "In the following example, we want to set the sum of the ElectricEquipment and Light to 25. Assume ElectricEquipment is the target parameter, and Light is the DependentParameter."
   ]
  },
  {
   "cell_type": "code",
   "execution_count": null,
   "metadata": {},
   "outputs": [],
   "source": [
    "parameters = []\n",
    "parameters.append(wwr())  # index 0\n",
    "parameters.append(\n",
    "    Parameter(\n",
    "        name=\"Electric Equipment\",\n",
    "        selector=FieldSelector(\n",
    "            class_name=\"ElectricEquipment\",\n",
    "            object_name=\"*\",\n",
    "            field_name=\"Watts per Zone Floor Area\",\n",
    "        ),\n",
    "        value_descriptor=RangeParameter(min_val=10, max_val=15),\n",
    "    )\n",
    ")  # index 1"
   ]
  },
  {
   "cell_type": "markdown",
   "metadata": {},
   "source": [
    "Now we create a DependentParameter for Light. A DependentParameter requires three parameters: mode, factor, and index.\n",
    "\n",
    "There are three modes for DependentParameter:\n",
    "\n",
    "- 'sum': response_value = leading_value - factor\n",
    "- 'subtract': response_value = factor-leading_value\n",
    "- 'multiple': response_value = leading_value * factor\n",
    "- 'power': response_value = leading_value ** factor\n",
    "\n",
    "The response_value is the used value for the dependent parameter.\n",
    "\n",
    "For this example, we set the mode to 'sum', and factor to 25.\n",
    "\n",
    "The index represents the index of the target parameter in the parameter list. For this example, the leading parameter, ElectricEquipment, is at index 1.\n",
    "\n",
    "The DependentParameter should be placed after the target parameter in the parameter list."
   ]
  },
  {
   "cell_type": "code",
   "execution_count": null,
   "metadata": {},
   "outputs": [],
   "source": [
    "parameters.append(\n",
    "    Parameter(\n",
    "        name=\"Lights\",\n",
    "        selector=FieldSelector(\n",
    "            class_name=\"Lights\",\n",
    "            object_name=\"*\",\n",
    "            field_name=\"Watts per Zone Floor Area\",\n",
    "        ),\n",
    "        value_descriptor=DependentParameter(mode=\"sum\", factor=25, index=1),\n",
    "    )\n",
    ")"
   ]
  },
  {
   "cell_type": "code",
   "execution_count": null,
   "metadata": {},
   "outputs": [],
   "source": [
    "objectives = [\"Electricity:Facility\"]\n",
    "problem = EPProblem(parameters, objectives)\n",
    "building = ef.get_building()\n",
    "evaluator = EvaluatorEP(problem, building)"
   ]
  },
  {
   "cell_type": "code",
   "execution_count": null,
   "metadata": {},
   "outputs": [],
   "source": [
    "inputs = sampling.dist_sampler(sampling.lhs, problem, 5)\n",
    "inputs"
   ]
  },
  {
   "cell_type": "markdown",
   "metadata": {},
   "source": [
    "## Additional Outputs for optimization algorithm"
   ]
  },
  {
   "cell_type": "markdown",
   "metadata": {},
   "source": [
    "When running the optimization algorithm, all objectives will be optimized. The result of the objectives in the add_outputs list will include in the data frame, but they will not be optimized.\n",
    "\n",
    "For the following example, the output is still Electricity:Facility. We also want to know the value of Cooling:Electricity for different solutions, but we don't need it to be optimized. So instead of adding it in objectives, we add it in add_outputs.\n",
    "\n",
    "First of all we want to check if the 'Cooling:Electricity' is one of the outputs for this building."
   ]
  },
  {
   "cell_type": "code",
   "execution_count": null,
   "metadata": {},
   "outputs": [],
   "source": [
    "\n",
    "print_available_outputs(building, name=\"Cooling:Electricity\")"
   ]
  },
  {
   "cell_type": "markdown",
   "metadata": {},
   "source": [
    "Now we re-define the problem with add_outputs."
   ]
  },
  {
   "cell_type": "code",
   "execution_count": null,
   "metadata": {},
   "outputs": [],
   "source": [
    "problem = EPProblem(parameters, objectives, add_outputs=[\"Cooling:Electricity\"])\n",
    "evaluator = EvaluatorEP(problem, building)\n",
    "\n",
    "results = NSGAII(evaluator, evaluations=1, population_size=1)\n",
    "results"
   ]
  }
 ],
 "metadata": {
  "kernelspec": {
   "display_name": "Python 3",
   "language": "python",
   "name": "python3"
  }
 },
 "nbformat": 4,
 "nbformat_minor": 4
}
