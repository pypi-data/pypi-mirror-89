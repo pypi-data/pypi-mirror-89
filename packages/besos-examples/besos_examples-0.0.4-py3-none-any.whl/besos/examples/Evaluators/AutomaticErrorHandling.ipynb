{
 "cells": [
  {
   "cell_type": "markdown",
   "metadata": {
    "papermill": {
     "duration": 0.011186,
     "end_time": "2019-10-28T22:51:25.867433",
     "exception": false,
     "start_time": "2019-10-28T22:51:25.856247",
     "status": "completed"
    },
    "tags": []
   },
   "source": [
    "# Automatic Error Handling\n",
    "\n",
    "Sometimes there are parts of the design space that we want to explore that will cause the EnergyPlus simulation to fail, such as invalid combinations of parameter values."
   ]
  },
  {
   "cell_type": "code",
   "execution_count": null,
   "metadata": {
    "lines_to_next_cell": 2,
    "papermill": {
     "duration": 1.152866,
     "end_time": "2019-10-28T22:51:27.030144",
     "exception": false,
     "start_time": "2019-10-28T22:51:25.877278",
     "status": "completed"
    },
    "tags": []
   },
   "outputs": [],
   "source": [
    "\n",
    "from besos import eppy_funcs as ef, sampling\n",
    "from besos.evaluator import EvaluatorEP\n",
    "from besos.parameters import (\n",
    "    CategoryParameter,\n",
    "    FieldSelector,\n",
    "    Parameter,\n",
    "    RangeParameter,\n",
    ")\n",
    "from besos.problem import EPProblem"
   ]
  },
  {
   "cell_type": "markdown",
   "metadata": {
    "papermill": {
     "duration": 0.004313,
     "end_time": "2019-10-28T22:51:27.039928",
     "exception": false,
     "start_time": "2019-10-28T22:51:27.035615",
     "status": "completed"
    },
    "tags": []
   },
   "source": [
    "In this example, we load the emaple model and try to use an undefined material `Invalid Material`."
   ]
  },
  {
   "cell_type": "code",
   "execution_count": null,
   "metadata": {
    "papermill": {
     "duration": 0.026823,
     "end_time": "2019-10-28T22:51:27.071753",
     "exception": false,
     "start_time": "2019-10-28T22:51:27.044930",
     "status": "completed"
    },
    "tags": []
   },
   "outputs": [],
   "source": [
    "building = ef.get_building()\n",
    "\n",
    "problem = EPProblem(\n",
    "    [\n",
    "        Parameter(\n",
    "            FieldSelector(\n",
    "                object_name=\"Mass NonRes Wall Insulation\", field_name=\"Thickness\"\n",
    "            ),\n",
    "            RangeParameter(min_val=0.01, max_val=0.99),\n",
    "        ),\n",
    "        Parameter(\n",
    "            FieldSelector(\n",
    "                class_name=\"Construction\",\n",
    "                object_name=\"ext-slab\",\n",
    "                field_name=\"Outside Layer\",\n",
    "            ),\n",
    "            CategoryParameter(options=(\"HW CONCRETE\", \"Invalid Material\")),\n",
    "        ),\n",
    "    ]\n",
    ")\n",
    "\n",
    "samples = sampling.dist_sampler(sampling.lhs, problem, 5)\n",
    "samples"
   ]
  },
  {
   "cell_type": "markdown",
   "metadata": {
    "papermill": {
     "duration": 0.004682,
     "end_time": "2019-10-28T22:51:27.081398",
     "exception": false,
     "start_time": "2019-10-28T22:51:27.076716",
     "status": "completed"
    },
    "tags": []
   },
   "source": [
    "By default, evaluation of a DataFrame of parameters will end when an invalid combination is encountered."
   ]
  },
  {
   "cell_type": "code",
   "execution_count": null,
   "metadata": {
    "papermill": {
     "duration": 0.340856,
     "end_time": "2019-10-28T22:51:27.426949",
     "exception": false,
     "start_time": "2019-10-28T22:51:27.086093",
     "status": "completed"
    },
    "tags": []
   },
   "outputs": [],
   "source": [
    "try:\n",
    "    EvaluatorEP(\n",
    "        problem,\n",
    "        building,\n",
    "        error_mode=\"Failfast\",\n",
    "        out_dir=\"outputdir\",\n",
    "        err_dir=\"outputdir\",\n",
    "    ).df_apply(samples)\n",
    "except Exception as e:\n",
    "    print(\"caught\", e)"
   ]
  },
  {
   "cell_type": "markdown",
   "metadata": {
    "papermill": {
     "duration": 0.006467,
     "end_time": "2019-10-28T22:51:27.440335",
     "exception": false,
     "start_time": "2019-10-28T22:51:27.433868",
     "status": "completed"
    },
    "tags": []
   },
   "source": [
    "However sometimes we want to have a fallback value for these invalid states.\n",
    "For example, with an optimization algorithm that is minimizing, we can set a very high output value.\n",
    "This can be specified with the `error_value` argument for evaluators.\n",
    "It must be of the form `(objective_values, constraint_values)` where objective_values and constraint_values are tuples of the same length as the number of objectives/constraints.\n",
    "Since we have 1 objective and no constraints, we use a tuple with one item for objective_values, and an empty tuple for the constraint values."
   ]
  },
  {
   "cell_type": "code",
   "execution_count": null,
   "metadata": {
    "papermill": {
     "duration": 3.728747,
     "end_time": "2019-10-28T22:51:31.174925",
     "exception": false,
     "start_time": "2019-10-28T22:51:27.446178",
     "status": "completed"
    },
    "tags": []
   },
   "outputs": [],
   "source": [
    "error_value = ((10.0 ** 20,), ())\n",
    "\n",
    "EvaluatorEP(problem, building, error_mode=\"Print\", error_value=error_value).df_apply(\n",
    "    samples\n",
    ")"
   ]
  },
  {
   "cell_type": "markdown",
   "metadata": {
    "papermill": {
     "duration": 0.008233,
     "end_time": "2019-10-28T22:51:31.192813",
     "exception": false,
     "start_time": "2019-10-28T22:51:31.184580",
     "status": "completed"
    },
    "tags": []
   },
   "source": [
    "This time, we got a warning for the invalid states, and our error value was used as the result.\n",
    "If we do not want to display these warnings, we can set the `error_mode='Silent'`.\n",
    "Omiting the error value will use a reasonable default, set to the opposite of what we are optimizing each objective towards. (This does not work for problems with constraints)."
   ]
  },
  {
   "cell_type": "code",
   "execution_count": null,
   "metadata": {
    "papermill": {
     "duration": 0.014652,
     "end_time": "2019-10-28T22:51:31.216122",
     "exception": false,
     "start_time": "2019-10-28T22:51:31.201470",
     "status": "completed"
    },
    "tags": []
   },
   "outputs": [],
   "source": [
    "evaluator = EvaluatorEP(problem, building, error_mode=\"Silent\")\n",
    "print(\"Error value defaulted to:\", evaluator.error_value)"
   ]
  },
  {
   "cell_type": "code",
   "execution_count": null,
   "metadata": {
    "papermill": {
     "duration": 3.822997,
     "end_time": "2019-10-28T22:51:35.047185",
     "exception": false,
     "start_time": "2019-10-28T22:51:31.224188",
     "status": "completed"
    },
    "tags": []
   },
   "outputs": [],
   "source": [
    "evaluator.df_apply(samples)"
   ]
  },
  {
   "cell_type": "code",
   "execution_count": null,
   "metadata": {
    "papermill": {
     "duration": 0.009216,
     "end_time": "2019-10-28T22:51:35.066539",
     "exception": false,
     "start_time": "2019-10-28T22:51:35.057323",
     "status": "completed"
    },
    "tags": []
   },
   "outputs": [],
   "source": []
  }
 ],
 "metadata": {
  "jupytext": {
   "formats": "ipynb,py:light"
  },
  "kernelspec": {
   "display_name": "Python 3",
   "language": "python",
   "name": "python3"
  }
 },
 "nbformat": 4,
 "nbformat_minor": 4
}
