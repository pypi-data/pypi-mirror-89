{
 "cells": [
  {
   "cell_type": "markdown",
   "metadata": {
    "papermill": {
     "duration": 0.029854,
     "end_time": "2019-10-28T23:05:05.473436",
     "exception": false,
     "start_time": "2019-10-28T23:05:05.443582",
     "status": "completed"
    },
    "tags": []
   },
   "source": [
    "import libraries"
   ]
  },
  {
   "cell_type": "code",
   "execution_count": null,
   "metadata": {
    "jupyter": {
     "source_hidden": true
    },
    "papermill": {
     "duration": 1.521058,
     "end_time": "2019-10-28T23:05:07.015570",
     "exception": false,
     "start_time": "2019-10-28T23:05:05.494512",
     "status": "completed"
    },
    "tags": []
   },
   "outputs": [],
   "source": [
    "from besos import eppy_funcs as ef, sampling\n",
    "from besos.evaluator import EvaluatorEP\n",
    "from besos.parameters import (\n",
    "    FieldSelector,\n",
    "    Parameter,\n",
    "    RangeParameter,\n",
    "    expand_plist,\n",
    "    wwr,\n",
    ")\n",
    "from besos.problem import EPProblem\n",
    "from matplotlib import pyplot as plt\n",
    "from seaborn import heatmap, pairplot\n",
    "\n",
    "\n",
    "plt.rcParams[\"figure.figsize\"] = [8, 8]"
   ]
  },
  {
   "cell_type": "markdown",
   "metadata": {
    "papermill": {
     "duration": 0.013869,
     "end_time": "2019-10-28T23:05:07.044531",
     "exception": false,
     "start_time": "2019-10-28T23:05:07.030662",
     "status": "completed"
    },
    "tags": []
   },
   "source": [
    "# Parametric Analysis\n",
    "This notebook performs a parametric analysis of a building design using EnergyPlus and BESOS helper functions.\n",
    "We load a model from in.idf, define parameters to vary, set objectives,then run the model for all parameter combinations and plot the results.\n",
    "\n",
    "The EnergyPlus evaulator object `EvaluatorEP` consists of an `EPProblem` (`Parameters` to modify and `objectives` to report) and a `building` model.\n",
    "A problem (`problem = parameters + objectives`) can be easily applied to any building model (`evaluator = problem + building`)."
   ]
  },
  {
   "cell_type": "markdown",
   "metadata": {
    "papermill": {
     "duration": 0.013484,
     "end_time": "2019-10-28T23:05:07.071773",
     "exception": false,
     "start_time": "2019-10-28T23:05:07.058289",
     "status": "completed"
    },
    "tags": []
   },
   "source": [
    "Each building is described by an `.idf` or `epJSON` file.\n",
    "In order to modify it programatically, we load it as a Python object using wrappers for EEPy.\n",
    "\n",
    "If you are using the newer JSON format, then any JSON parsing library will work."
   ]
  },
  {
   "cell_type": "code",
   "execution_count": null,
   "metadata": {
    "papermill": {
     "duration": 1.302074,
     "end_time": "2019-10-28T23:05:08.387442",
     "exception": false,
     "start_time": "2019-10-28T23:05:07.085368",
     "status": "completed"
    },
    "tags": []
   },
   "outputs": [],
   "source": [
    "building = ef.get_building(\"in.idf\")"
   ]
  },
  {
   "cell_type": "markdown",
   "metadata": {
    "papermill": {
     "duration": 0.015761,
     "end_time": "2019-10-28T23:05:08.419320",
     "exception": false,
     "start_time": "2019-10-28T23:05:08.403559",
     "status": "completed"
    },
    "tags": []
   },
   "source": [
    "Let's check what materials are in the model.\n",
    "([Eppy's documentation](https://eppy.readthedocs.io/en/latest/) describes how to explore and modify the IDF object directly.)"
   ]
  },
  {
   "cell_type": "code",
   "execution_count": null,
   "metadata": {
    "papermill": {
     "duration": 0.024215,
     "end_time": "2019-10-28T23:05:08.459640",
     "exception": false,
     "start_time": "2019-10-28T23:05:08.435425",
     "status": "completed"
    },
    "tags": []
   },
   "outputs": [],
   "source": [
    "[\n",
    "    materials.Name for materials in building.idfobjects[\"MATERIAL\"]\n",
    "]  # get a list of the Name property of all IDF objects of class MATERIAL"
   ]
  },
  {
   "cell_type": "markdown",
   "metadata": {
    "papermill": {
     "duration": 0.01488,
     "end_time": "2019-10-28T23:05:08.489879",
     "exception": false,
     "start_time": "2019-10-28T23:05:08.474999",
     "status": "completed"
    },
    "tags": []
   },
   "source": [
    "Selectors identify which part of the building model to modify and how to modify it (see the [Selectors](Evaluators/Selectors.ipynb) notebook for details).\n",
    "The `Selector` below specifies the `Thickness` field of an object named `Mass NonRes Wall Insulation`."
   ]
  },
  {
   "cell_type": "code",
   "execution_count": null,
   "metadata": {
    "papermill": {
     "duration": 0.020458,
     "end_time": "2019-10-28T23:05:08.526625",
     "exception": false,
     "start_time": "2019-10-28T23:05:08.506167",
     "status": "completed"
    },
    "tags": []
   },
   "outputs": [],
   "source": [
    "insulation = FieldSelector(\n",
    "    class_name=\"Material\", object_name=\"Wall Insulation [31]\", field_name=\"Thickness\"\n",
    ")"
   ]
  },
  {
   "cell_type": "markdown",
   "metadata": {
    "papermill": {
     "duration": 0.014677,
     "end_time": "2019-10-28T23:05:08.555653",
     "exception": false,
     "start_time": "2019-10-28T23:05:08.540976",
     "status": "completed"
    },
    "tags": []
   },
   "source": [
    "#### Descriptors\n",
    "Descriptors specify what values are valid for a parameter, see the [Descriptors](Evaluators/Descriptors.ipynb) for details.\n",
    "If we want to vary a parameter $0.01 \\leq x \\leq 0.99$, we can use a `RangeParameter`:"
   ]
  },
  {
   "cell_type": "code",
   "execution_count": null,
   "metadata": {
    "papermill": {
     "duration": 0.020226,
     "end_time": "2019-10-28T23:05:08.594714",
     "exception": false,
     "start_time": "2019-10-28T23:05:08.574488",
     "status": "completed"
    },
    "tags": []
   },
   "outputs": [],
   "source": [
    "zero_to_one_exclusive = RangeParameter(min_val=0.01, max_val=0.99)"
   ]
  },
  {
   "cell_type": "markdown",
   "metadata": {
    "papermill": {
     "duration": 0.015808,
     "end_time": "2019-10-28T23:05:08.626349",
     "exception": false,
     "start_time": "2019-10-28T23:05:08.610541",
     "status": "completed"
    },
    "tags": []
   },
   "source": [
    "We can combine this with the `Selector` above to get a `Parameter`:"
   ]
  },
  {
   "cell_type": "code",
   "execution_count": null,
   "metadata": {
    "papermill": {
     "duration": 0.0218,
     "end_time": "2019-10-28T23:05:08.664930",
     "exception": false,
     "start_time": "2019-10-28T23:05:08.643130",
     "status": "completed"
    },
    "tags": []
   },
   "outputs": [],
   "source": [
    "insulation_param = Parameter(\n",
    "    selector=insulation,\n",
    "    value_descriptor=zero_to_one_exclusive,\n",
    "    name=\"Insulation Thickness\",\n",
    ")\n",
    "print(insulation_param)"
   ]
  },
  {
   "cell_type": "markdown",
   "metadata": {
    "papermill": {
     "duration": 0.015561,
     "end_time": "2019-10-28T23:05:08.695475",
     "exception": false,
     "start_time": "2019-10-28T23:05:08.679914",
     "status": "completed"
    },
    "tags": []
   },
   "source": [
    "#### Short-cuts for defining parameters\n",
    "The `expand_plist` funcion can define `Parameters` more concisely. It takes a nested dictionary as input.\n",
    "The keys in the first layer of this dictionary are the names of the idf objects.\n",
    "These are associated with a dictionary that has keys matching the Fields of that object to modify.\n",
    "Each field-key corresponds to a tuple containing the minimum and maximum values for that parameter.\n",
    "The `class_name` is not specified.\n",
    "Instead the model is searched for objects with the correct `object_name`.\n",
    "**Note - doesn't like duplicate object names!**."
   ]
  },
  {
   "cell_type": "code",
   "execution_count": null,
   "metadata": {
    "papermill": {
     "duration": 0.023553,
     "end_time": "2019-10-28T23:05:08.735788",
     "exception": false,
     "start_time": "2019-10-28T23:05:08.712235",
     "status": "completed"
    },
    "tags": []
   },
   "outputs": [],
   "source": [
    "more_parameters = expand_plist(\n",
    "    # class_name is NOT provided\n",
    "    # {'object_name':\n",
    "    # {'field_name':(min, max)}}\n",
    "    {\"Theoretical Glass [167]\": {\"Conductivity\": (0.1, 5)}}\n",
    ")\n",
    "\n",
    "for p in more_parameters:\n",
    "    print(p)"
   ]
  },
  {
   "cell_type": "markdown",
   "metadata": {
    "papermill": {
     "duration": 0.01525,
     "end_time": "2019-10-28T23:05:08.765545",
     "exception": false,
     "start_time": "2019-10-28T23:05:08.750295",
     "status": "completed"
    },
    "tags": []
   },
   "source": [
    "#### Parameter scripts\n",
    "BESOS also includes some pre-defined parameter scripts:\n",
    "+ `wwr(Range)` for window to wall ratio\n",
    "\n",
    "Here we define the WWR of all walls in the model to be between 10% and 90%."
   ]
  },
  {
   "cell_type": "code",
   "execution_count": null,
   "metadata": {
    "papermill": {
     "duration": 0.020405,
     "end_time": "2019-10-28T23:05:08.801309",
     "exception": false,
     "start_time": "2019-10-28T23:05:08.780904",
     "status": "completed"
    },
    "tags": []
   },
   "outputs": [],
   "source": [
    "window_to_wall = wwr(\n",
    "    RangeParameter(0.1, 0.9)\n",
    ")  # use a special shortcut to get the window-to-wall parameter"
   ]
  },
  {
   "cell_type": "markdown",
   "metadata": {
    "papermill": {
     "duration": 0.016215,
     "end_time": "2019-10-28T23:05:08.833584",
     "exception": false,
     "start_time": "2019-10-28T23:05:08.817369",
     "status": "completed"
    },
    "tags": []
   },
   "source": [
    "#### Custom parameter scripts\n",
    "Parameters can also be created by defining a function that takes an idf and a value and mutates the idf.\n",
    "These functions can be specific to a certain idf file, and can perform any arbitrary transformation.\n",
    "Creating these can be more involved, and is not covered in this example."
   ]
  },
  {
   "cell_type": "markdown",
   "metadata": {
    "papermill": {
     "duration": 0.015898,
     "end_time": "2019-10-28T23:05:08.865991",
     "exception": false,
     "start_time": "2019-10-28T23:05:08.850093",
     "status": "completed"
    },
    "tags": []
   },
   "source": [
    "## Problems\n",
    "`Problem` objects represent inputs and outputs.\n",
    "We have defined various inputs using `parameters` above, and we define objectives of heating and cooling use."
   ]
  },
  {
   "cell_type": "code",
   "execution_count": null,
   "metadata": {
    "papermill": {
     "duration": 0.022431,
     "end_time": "2019-10-28T23:05:08.904663",
     "exception": false,
     "start_time": "2019-10-28T23:05:08.882232",
     "status": "completed"
    },
    "tags": []
   },
   "outputs": [],
   "source": [
    "\n",
    "# Add all the parameters to a single parameters object.\n",
    "parameters = [insulation_param] + more_parameters + [window_to_wall]\n",
    "\n",
    "# Let us try to optimize the Cooling and the Heating of facility at the same time\n",
    "objectives = [\"DistrictCooling:Facility\", \"DistrictHeating:Facility\"]\n",
    "# These are hourly values, default is sum all the hourly values\n",
    "\n",
    "# Construct the problem\n",
    "problem = EPProblem(\n",
    "    parameters, objectives\n",
    ")  # Make a problem instance from the parameters and objectives"
   ]
  },
  {
   "cell_type": "markdown",
   "metadata": {
    "papermill": {
     "duration": 0.016547,
     "end_time": "2019-10-28T23:05:08.938818",
     "exception": false,
     "start_time": "2019-10-28T23:05:08.922271",
     "status": "completed"
    },
    "tags": []
   },
   "source": [
    "## Sampling\n",
    "Once you have defined your parameters, you may want to generate some random possible buildings. Sampling functions allow you to do this."
   ]
  },
  {
   "cell_type": "code",
   "execution_count": null,
   "metadata": {
    "papermill": {
     "duration": 0.031024,
     "end_time": "2019-10-28T23:05:08.987375",
     "exception": false,
     "start_time": "2019-10-28T23:05:08.956351",
     "status": "completed"
    },
    "tags": []
   },
   "outputs": [],
   "source": [
    "inputs = sampling.dist_sampler(sampling.full_factorial, problem, num_samples=5, level=2)\n",
    "inputs"
   ]
  },
  {
   "cell_type": "code",
   "execution_count": null,
   "metadata": {
    "papermill": {
     "duration": 0.026325,
     "end_time": "2019-10-28T23:05:09.028127",
     "exception": false,
     "start_time": "2019-10-28T23:05:09.001802",
     "status": "completed"
    },
    "tags": []
   },
   "outputs": [],
   "source": [
    "inputs_lhs = sampling.dist_sampler(sampling.lhs, problem, num_samples=5)\n",
    "inputs_lhs"
   ]
  },
  {
   "cell_type": "markdown",
   "metadata": {
    "papermill": {
     "duration": 0.016031,
     "end_time": "2019-10-28T23:05:09.059992",
     "exception": false,
     "start_time": "2019-10-28T23:05:09.043961",
     "status": "completed"
    },
    "tags": []
   },
   "source": [
    "## Evaluation\n",
    "Now we can evaluate the samples. We create an energy plus evaluator (`EvaluatroEP`) using the parameters, and idf describing the building, and the objectives we want to measure. For this example we will just use one of the premade objectives: Electricity use for the whole facility."
   ]
  },
  {
   "cell_type": "code",
   "execution_count": null,
   "metadata": {
    "lines_to_next_cell": 0,
    "papermill": {
     "duration": 37.119327,
     "end_time": "2019-10-28T23:05:46.195558",
     "exception": false,
     "start_time": "2019-10-28T23:05:09.076231",
     "status": "completed"
    },
    "tags": []
   },
   "outputs": [],
   "source": [
    "evaluator = EvaluatorEP(problem, building, out_dir=\"outputdir\", err_dir=\"outputdir\")\n",
    "outputs = evaluator.df_apply(inputs, keep_input=True)\n",
    "\n",
    "outputs.describe()"
   ]
  },
  {
   "cell_type": "markdown",
   "metadata": {
    "papermill": {
     "duration": 0.016228,
     "end_time": "2019-10-28T23:05:46.228241",
     "exception": false,
     "start_time": "2019-10-28T23:05:46.212013",
     "status": "completed"
    },
    "tags": []
   },
   "source": [
    "## Visualizing the results\n",
    "\n",
    "First we can see the variation in the objectives:"
   ]
  },
  {
   "cell_type": "code",
   "execution_count": null,
   "metadata": {
    "papermill": {
     "duration": 0.209367,
     "end_time": "2019-10-28T23:05:46.453508",
     "exception": false,
     "start_time": "2019-10-28T23:05:46.244141",
     "status": "completed"
    },
    "tags": []
   },
   "outputs": [],
   "source": [
    "_ = outputs.plot(x=objectives[0], y=objectives[1], style=\"o\")\n",
    "plt.xlabel(objectives[0])\n",
    "plt.ylabel(objectives[1])"
   ]
  },
  {
   "cell_type": "markdown",
   "metadata": {
    "papermill": {
     "duration": 0.01718,
     "end_time": "2019-10-28T23:05:46.487205",
     "exception": false,
     "start_time": "2019-10-28T23:05:46.470025",
     "status": "completed"
    },
    "tags": []
   },
   "source": [
    "And compare the trends in the input values as the heating objective increases:"
   ]
  },
  {
   "cell_type": "code",
   "execution_count": null,
   "metadata": {
    "papermill": {
     "duration": 0.830215,
     "end_time": "2019-10-28T23:05:47.334641",
     "exception": false,
     "start_time": "2019-10-28T23:05:46.504426",
     "status": "completed"
    },
    "tags": []
   },
   "outputs": [],
   "source": [
    "outputs = outputs.sort_values(by=objectives[1])\n",
    "ax = outputs.plot.bar(subplots=True, legend=None, figsize=(6, 6))"
   ]
  },
  {
   "cell_type": "markdown",
   "metadata": {
    "papermill": {
     "duration": 0.018973,
     "end_time": "2019-10-28T23:05:47.372151",
     "exception": false,
     "start_time": "2019-10-28T23:05:47.353178",
     "status": "completed"
    },
    "tags": []
   },
   "source": [
    "## Visualising the parametric analysis"
   ]
  },
  {
   "cell_type": "markdown",
   "metadata": {
    "papermill": {
     "duration": 0.018014,
     "end_time": "2019-10-28T23:05:47.409494",
     "exception": false,
     "start_time": "2019-10-28T23:05:47.391480",
     "status": "completed"
    },
    "tags": []
   },
   "source": [
    "A better way to analyse the results is by looking at scatter plots of the inputs versus the outputs.\n",
    "This enables us to visually see strong relationships of inputs and outputs."
   ]
  },
  {
   "cell_type": "code",
   "execution_count": null,
   "metadata": {
    "papermill": {
     "duration": 1.070181,
     "end_time": "2019-10-28T23:05:48.497632",
     "exception": false,
     "start_time": "2019-10-28T23:05:47.427451",
     "status": "completed"
    },
    "tags": []
   },
   "outputs": [],
   "source": [
    "_ = pairplot(outputs, x_vars=inputs.columns, y_vars=objectives, kind=\"scatter\")"
   ]
  },
  {
   "cell_type": "markdown",
   "metadata": {
    "papermill": {
     "duration": 0.018711,
     "end_time": "2019-10-28T23:05:48.534391",
     "exception": false,
     "start_time": "2019-10-28T23:05:48.515680",
     "status": "completed"
    },
    "tags": []
   },
   "source": [
    "### Correlation heat map\n",
    "Another way to analyse the impact of the inputs on the outputs is by analysing the correlation.\n",
    "A common metric is the Pearsson correlation coefficient:\n",
    "\n",
    "$ r = \\frac{N\\sum{XY}-(\\sum{X}\\sum{Y})}{\\sqrt{ [N\\sum{x^2}-(\\sum{x})^2 ][N\\sum{y^2}-(\\sum{y})^2 }]} $\n",
    "\n",
    "where N is the number of samples. $X$ is the vector of observation of variable 1 (e.g. wall conductivity) and $Y$ is the vetor of observations of variable 2 (e.g. electricity consumption).\n",
    "The closer $r$ is to one the stronger the correlation, and similarly for negative one and negative correleation.\n",
    "\n",
    "To visualize the correlation coefficients of all inputs and outputs, we can plot a heatmap:"
   ]
  },
  {
   "cell_type": "code",
   "execution_count": null,
   "metadata": {
    "papermill": {
     "duration": 0.217006,
     "end_time": "2019-10-28T23:05:48.772631",
     "exception": false,
     "start_time": "2019-10-28T23:05:48.555625",
     "status": "completed"
    },
    "tags": []
   },
   "outputs": [],
   "source": [
    "_ = heatmap(outputs.corr())"
   ]
  },
  {
   "cell_type": "markdown",
   "metadata": {
    "papermill": {
     "duration": 0.022183,
     "end_time": "2019-10-28T23:05:48.813872",
     "exception": false,
     "start_time": "2019-10-28T23:05:48.791689",
     "status": "completed"
    },
    "tags": []
   },
   "source": [
    "The heatmap shows well that the impact of 'Equipment' and 'Lighting' is the most important given this example of an office building.\n",
    "The U-Value and the attic insultation thickness have suprisingly little effect."
   ]
  },
  {
   "cell_type": "code",
   "execution_count": null,
   "metadata": {
    "papermill": {
     "duration": 0.019619,
     "end_time": "2019-10-28T23:05:48.853470",
     "exception": false,
     "start_time": "2019-10-28T23:05:48.833851",
     "status": "completed"
    },
    "tags": []
   },
   "outputs": [],
   "source": []
  }
 ],
 "metadata": {
  "jupytext": {
   "formats": "ipynb,py:light"
  },
  "kernelspec": {
   "display_name": "Python 3",
   "language": "python",
   "name": "python3"
  }
 },
 "nbformat": 4,
 "nbformat_minor": 4
}
