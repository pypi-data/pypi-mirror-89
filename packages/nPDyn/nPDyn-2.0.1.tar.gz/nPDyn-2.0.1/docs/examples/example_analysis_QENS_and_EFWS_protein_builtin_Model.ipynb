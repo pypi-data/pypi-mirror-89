{
 "cells": [
  {
   "cell_type": "markdown",
   "metadata": {},
   "source": [
    "# Analysis of quasi-elastic neutron scattering (QENS) measurement of a protein in liquid state\n",
    "\n",
    "This file contains the code of the nPDyn documentation available here: https://npdyn.readthedocs.io/en/latest/.\n"
   ]
  },
  {
   "cell_type": "code",
   "execution_count": 1,
   "metadata": {},
   "outputs": [],
   "source": [
    "import numpy as np\n",
    "\n",
    "from nPDyn import Dataset"
   ]
  },
  {
   "cell_type": "code",
   "execution_count": 2,
   "metadata": {},
   "outputs": [],
   "source": [
    "qens = Dataset(\n",
    "    QENSFiles=['sample_data/lys_part_01_QENS_before_280K.nxs'],\n",
    "    resFiles=['sample_data/vana_QENS_280K.nxs'],\n",
    "    ECFile='sample_data/empty_cell_QENS_280K.nxs',\n",
    "    D2OFile='sample_data/D2O_QENS_280K.nxs')\n",
    "\n",
    "efws = Dataset(\n",
    "    FWSFiles=['sample_data/D_syn_fibers_elastic_10to300K.inx'])"
   ]
  },
  {
   "cell_type": "markdown",
   "metadata": {},
   "source": [
    "## Process the data"
   ]
  },
  {
   "cell_type": "code",
   "execution_count": 3,
   "metadata": {},
   "outputs": [],
   "source": [
    "qens.binAll(5)\n",
    "qens.subtract_EC()\n",
    "qens.setQRange(0.4, 1.8)\n",
    "q = qens.dataList[0].data.qVals[:, np.newaxis]\n",
    "\n",
    "efws.binAll(20, 'observable')\n",
    "efws.normalize_usingLowTemp(nbrBins=6)\n",
    "efws.setQRange(0.2, 1)"
   ]
  },
  {
   "cell_type": "markdown",
   "metadata": {},
   "source": [
    "## For QENS, fit the resolution function and the D2O background"
   ]
  },
  {
   "cell_type": "code",
   "execution_count": 4,
   "metadata": {},
   "outputs": [
    {
     "name": "stdout",
     "output_type": "stream",
     "text": [
      "Fitting dataset: sample_data/vana_QENS_280K.nxs\n",
      "\tFit of observable 1 of 1 (time=0.0)\n",
      "Done.\n",
      "\n",
      "Fitting dataset: sample_data/D2O_QENS_280K.nxs\n",
      "\tFit of observable 1 of 1 (time=0.0)\n",
      "Done.\n",
      "\n"
     ]
    }
   ],
   "source": [
    "from nPDyn.models.builtins import modelD2OBackground, modelPVoigt\n",
    "\n",
    "qens.fitRes(model=modelPVoigt(q, 'resolution'))\n",
    "qens.D2OData.fit(model=modelD2OBackground(q, temperature=280))"
   ]
  },
  {
   "cell_type": "markdown",
   "metadata": {},
   "source": [
    "## Create the parameters"
   ]
  },
  {
   "cell_type": "code",
   "execution_count": 5,
   "metadata": {},
   "outputs": [],
   "source": [
    "from nPDyn.models import Parameters\n",
    "\n",
    "pQENS = Parameters(\n",
    "    beta={'value': np.zeros_like(q) + 1, 'bounds': (0., np.inf)},\n",
    "    alpha={'value': 0.5, 'bounds': (0., 1)},\n",
    "    Ds={'value': 5, 'bounds': (0., 100)},\n",
    "    Di={'value': 20, 'bounds': (0., 100)},\n",
    "    tau={'value': 1, 'bounds': (0., np.inf)},\n",
    "    bD2O={'value': np.zeros_like(q) + 0.1, 'bounds': (0., np.inf)})\n",
    "\n",
    "pEFWS = Parameters(scale=1, msd=0.5)\n",
    "pEFWS.set('scale', bounds=(0., np.inf), fixed=False)\n",
    "pEFWS.set('msd', bounds=(0., np.inf))"
   ]
  },
  {
   "cell_type": "markdown",
   "metadata": {},
   "source": [
    "## Create the models"
   ]
  },
  {
   "cell_type": "code",
   "execution_count": 6,
   "metadata": {},
   "outputs": [],
   "source": [
    "from nPDyn.models import Model\n",
    "\n",
    "modelQENS = Model(pQENS, 'QENS')\n",
    "modelEFWS = Model(pEFWS, 'EFWS')"
   ]
  },
  {
   "cell_type": "markdown",
   "metadata": {},
   "source": [
    "## Add the components to the models"
   ]
  },
  {
   "cell_type": "code",
   "execution_count": 7,
   "metadata": {},
   "outputs": [],
   "source": [
    "from nPDyn.models import Component\n",
    "from nPDyn.models.presets import lorentzian\n",
    "\n",
    "modelQENS.addComponent(Component(\n",
    "    'center-of-mass', \n",
    "    lorentzian,\n",
    "    scale='beta * alpha',  # will find the parameters values in pQENS\n",
    "    width='Ds * q**2',  # we will give q on the call to the fit method\n",
    "    center=0))  # we force the center to be at 0 \n",
    "                # (as it is given by the convolution with resolution)\n",
    "# we can add, subtract, multiply or divide a model using a Component o\n",
    "# another Model \n",
    "internal = Component(\n",
    "    'internal', \n",
    "    lorentzian,\n",
    "    scale='beta * (1 - alpha)', \n",
    "    width='Di * q**2 / (1 + Di * q**2 * tau) + Ds * q**2', \n",
    "    center=0)  # we force the center to be at 0 \n",
    "               # (as it is given by the convolution with resolution)\n",
    "modelQENS += internal\n",
    "# for the D2O signal, we use a lambda function to include the scaling\n",
    "modelQENS.addComponent(Component(\n",
    "    '$D_2O$',\n",
    "    lambda x, scale: scale * qens.D2OData.fit_best(x=x)[0], \n",
    "    scale='bD2O',\n",
    "    skip_convolve=True))\n",
    "\n",
    "modelEFWS.addComponent(Component(\n",
    "    'EISF',\n",
    "    lambda x, scale, msd: scale * np.exp(-x**2 * msd / 6)))"
   ]
  },
  {
   "cell_type": "markdown",
   "metadata": {},
   "source": [
    "## Fit the data"
   ]
  },
  {
   "cell_type": "code",
   "execution_count": 8,
   "metadata": {},
   "outputs": [
    {
     "name": "stdout",
     "output_type": "stream",
     "text": [
      "Fitting dataset: sample_data/lys_part_01_QENS_before_280K.nxs\n",
      "basinhopping step 0: f 1083.75e=0.0)\n",
      "basinhopping step 1: f 1083.75 trial_f 1083.75 accepted 1  lowest_f 1083.75\n",
      "found new global minimum on step 1 with function value 1083.75\n",
      "basinhopping step 2: f 1083.75 trial_f 1083.75 accepted 1  lowest_f 1083.75\n",
      "basinhopping step 3: f 1083.75 trial_f 1083.75 accepted 1  lowest_f 1083.75\n",
      "basinhopping step 4: f 1083.75 trial_f 1083.75 accepted 1  lowest_f 1083.75\n",
      "basinhopping step 5: f 1083.75 trial_f 1083.75 accepted 1  lowest_f 1083.75\n",
      "found new global minimum on step 5 with function value 1083.75\n",
      "basinhopping step 6: f 1083.75 trial_f 1083.75 accepted 1  lowest_f 1083.75\n",
      "found new global minimum on step 6 with function value 1083.75\n",
      "basinhopping step 7: f 1083.75 trial_f 1083.75 accepted 1  lowest_f 1083.75\n",
      "basinhopping step 8: f 1083.75 trial_f 1083.75 accepted 1  lowest_f 1083.75\n",
      "basinhopping step 9: f 1083.77 trial_f 1083.77 accepted 1  lowest_f 1083.75\n",
      "basinhopping step 10: f 1083.79 trial_f 1083.79 accepted 1  lowest_f 1083.75\n",
      "basinhopping step 11: f 1083.77 trial_f 1083.77 accepted 1  lowest_f 1083.75\n",
      "basinhopping step 12: f 1083.75 trial_f 1083.75 accepted 1  lowest_f 1083.75\n",
      "basinhopping step 13: f 1083.76 trial_f 1083.76 accepted 1  lowest_f 1083.75\n",
      "basinhopping step 14: f 1083.77 trial_f 1083.77 accepted 1  lowest_f 1083.75\n",
      "basinhopping step 15: f 1083.78 trial_f 1083.78 accepted 1  lowest_f 1083.75\n",
      "basinhopping step 16: f 1083.77 trial_f 1083.77 accepted 1  lowest_f 1083.75\n",
      "basinhopping step 17: f 1083.77 trial_f 1083.77 accepted 1  lowest_f 1083.75\n",
      "basinhopping step 18: f 1083.77 trial_f 1083.77 accepted 1  lowest_f 1083.75\n",
      "basinhopping step 19: f 1083.76 trial_f 1083.76 accepted 1  lowest_f 1083.75\n",
      "basinhopping step 20: f 1083.76 trial_f 1083.76 accepted 1  lowest_f 1083.75\n",
      "basinhopping step 21: f 1083.75 trial_f 1083.75 accepted 1  lowest_f 1083.75\n",
      "basinhopping step 22: f 1083.76 trial_f 1083.76 accepted 1  lowest_f 1083.75\n",
      "basinhopping step 23: f 1083.75 trial_f 1083.75 accepted 1  lowest_f 1083.75\n",
      "basinhopping step 24: f 1083.75 trial_f 1083.75 accepted 1  lowest_f 1083.75\n",
      "basinhopping step 25: f 1083.76 trial_f 1083.76 accepted 1  lowest_f 1083.75\n",
      "\n",
      "Done.\n",
      "\n",
      "Fitting dataset: sample_data/D_syn_fibers_elastic_10to300K.inx\n",
      "\tFit of observable 144 of 144 (temperature=298.99850000000004)\n",
      "Done.\n",
      "\n"
     ]
    }
   ],
   "source": [
    "qens.fitData(\n",
    "    model=modelQENS, convolveRes=True, q=q,\n",
    "    fit_method='basinhopping', fit_kws={'niter': 25, 'disp': True})\n",
    "\n",
    "efws.fitData(model=modelEFWS, x=efws.dataList[0].data.qVals[:, np.newaxis])"
   ]
  },
  {
   "cell_type": "markdown",
   "metadata": {},
   "source": [
    "## Plot the data"
   ]
  },
  {
   "cell_type": "code",
   "execution_count": 9,
   "metadata": {},
   "outputs": [],
   "source": [
    "qens.plotQENS()"
   ]
  },
  {
   "cell_type": "code",
   "execution_count": 10,
   "metadata": {},
   "outputs": [],
   "source": [
    "efws.plotFWS()"
   ]
  }
 ],
 "metadata": {
  "kernelspec": {
   "display_name": "Python 3",
   "language": "python",
   "name": "python3"
  },
  "language_info": {
   "codemirror_mode": {
    "name": "ipython",
    "version": 3
   },
   "file_extension": ".py",
   "mimetype": "text/x-python",
   "name": "python",
   "nbconvert_exporter": "python",
   "pygments_lexer": "ipython3",
   "version": "3.6.9"
  }
 },
 "nbformat": 4,
 "nbformat_minor": 4
}
