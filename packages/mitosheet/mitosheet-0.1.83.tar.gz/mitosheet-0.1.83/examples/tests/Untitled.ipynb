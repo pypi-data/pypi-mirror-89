{
 "cells": [
  {
   "cell_type": "code",
   "execution_count": 1,
   "metadata": {},
   "outputs": [
    {
     "data": {
      "application/vnd.jupyter.widget-view+json": {
       "model_id": "ee2a37fc4c4e4e86b453e2072d5772e3",
       "version_major": 2,
       "version_minor": 0
      },
      "text/plain": [
       "MitoWidget(analysis_name='UUID-b87e8485-2f01-46c2-9aad-d0b264d1ee38', code_json='{\"imports\": \"from mitosheet i…"
      ]
     },
     "metadata": {},
     "output_type": "display_data"
    }
   ],
   "source": [
    "import mitosheet\n",
    "mitosheet.sheet()"
   ]
  },
  {
   "cell_type": "code",
   "execution_count": null,
   "metadata": {},
   "outputs": [],
   "source": [
    "# MITO CODE START (DO NOT EDIT)\n",
    "# SAVED-ANALYSIS-STARTUUID-b87e8485-2f01-46c2-9aad-d0b264d1ee38SAVED-ANALYSIS-END\n",
    "\n",
    "from mitosheet import *\n",
    "\n",
    "# Step 1\n",
    "\n",
    "import pandas as pd\n",
    "\n",
    "df1_csv = pd.read_csv('df1.csv')\n",
    "  \n",
    "# MITO CODE END (DO NOT EDIT)"
   ]
  },
  {
   "cell_type": "code",
   "execution_count": null,
   "metadata": {},
   "outputs": [],
   "source": []
  },
  {
   "cell_type": "code",
   "execution_count": null,
   "metadata": {},
   "outputs": [],
   "source": []
  }
 ],
 "metadata": {
  "kernelspec": {
   "display_name": "Python 3",
   "language": "python",
   "name": "python3"
  },
  "language_info": {
   "codemirror_mode": {
    "name": "ipython",
    "version": 3
   },
   "file_extension": ".py",
   "mimetype": "text/x-python",
   "name": "python",
   "nbconvert_exporter": "python",
   "pygments_lexer": "ipython3",
   "version": "3.8.5"
  },
  "widgets": {
   "application/vnd.jupyter.widget-state+json": {
    "state": {
     "9c9e0efa51454390a1eb5acee50ce542": {
      "model_module": "@jupyter-widgets/base",
      "model_module_version": "1.2.0",
      "model_name": "LayoutModel",
      "state": {}
     },
     "ee2a37fc4c4e4e86b453e2072d5772e3": {
      "model_module": "mitosheet",
      "model_module_version": "^0.1.82",
      "model_name": "ExampleModel",
      "state": {
       "_model_module_version": "^0.1.82",
       "_view_module_version": "^0.1.82",
       "analysis_name": "UUID-b87e8485-2f01-46c2-9aad-d0b264d1ee38",
       "code_json": "{\"imports\": \"from mitosheet import *\", \"code\": [\"# Step 1\", \"import pandas as pd\", \"df1_csv = pd.read_csv('df1.csv')\"]}",
       "column_filters_json": "[{\"A\": {\"operator\": \"And\", \"filters\": []}, \"B\": {\"operator\": \"And\", \"filters\": []}}]",
       "column_spreadsheet_code_json": "[{\"A\": \"\", \"B\": \"\"}]",
       "column_type_json": "[{\"A\": \"number\", \"B\": \"number\"}]",
       "df_names_json": "{\"df_names\": [\"df1_csv\"]}",
       "df_shape_json": "[{\"rows\": 3, \"cols\": 2}]",
       "has_rendered": true,
       "is_local_deployment": true,
       "layout": "IPY_MODEL_9c9e0efa51454390a1eb5acee50ce542",
       "saved_analysis_names_json": "[\"111\", \"28\", \"29\", \"Dork\", \"Double Import\", \"File Import Get Length\", \"File Import\", \"Sample\", \"Testing\", \"_419wxryas\", \"_461fd87s7\", \"_49hlkjtgp\", \"_7atqow0oj\", \"_88amfqk2f\", \"_8b9x4aa2m\", \"_dh590wtqu\", \"_efldontof\", \"_g10n6gs9g\", \"_gs9b8mudg\", \"_iu8qft83p\", \"_jqu6ydgq6\", \"_jsu04q2sl\", \"_jtip39qtx\", \"_k4ce9w8om\", \"_ktv9i6xtb\", \"_llskhy8k5\", \"_nq5ctxt9m\", \"_obi4mo3a2\", \"_ojtvedr82\", \"_om4ymb3qz\", \"_rlna3gzml\", \"_rqyqe9rfu\", \"_ui8gi1btf\", \"_uzyu8vo18\", \"_wyyvgfivw\", \"aaa\", \"new\"]",
       "sheet_json": "[{\"columns\": [\"A\", \"B\"], \"index\": [0, 1, 2], \"data\": [[1, 4], [2, 5], [3, 6]]}]",
       "tutorial_mode": false,
       "user_id": "nate",
       "value": "Hello World"
      }
     }
    },
    "version_major": 2,
    "version_minor": 0
   }
  }
 },
 "nbformat": 4,
 "nbformat_minor": 4
}
