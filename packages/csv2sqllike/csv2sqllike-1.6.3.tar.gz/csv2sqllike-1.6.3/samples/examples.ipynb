{
 "cells": [
  {
   "cell_type": "code",
   "execution_count": 2,
   "metadata": {},
   "outputs": [],
   "source": [
    "import csv2sqllike"
   ]
  },
  {
   "cell_type": "markdown",
   "metadata": {},
   "source": [
    "# How to load data"
   ]
  },
  {
   "cell_type": "code",
   "execution_count": 3,
   "metadata": {},
   "outputs": [
    {
     "name": "stdout",
     "output_type": "stream",
     "text": [
      "region,country,name,sex,university,age\n",
      "\n",
      "north-america,usa,jhon,male,newyork university,23\n",
      "\n",
      "east-asia,japan,maya,female,tokyo university,19\n",
      "\n",
      "north-america,south-korea,park,male,seoul university,26\n",
      "\n",
      "east-asia,china,chang,female,beijing university,21\n",
      "\n"
     ]
    }
   ],
   "source": [
    "# csv file\n",
    "with open(\"./sample.csv\") as file:\n",
    "    for x in file:\n",
    "        print(x)"
   ]
  },
  {
   "cell_type": "code",
   "execution_count": 4,
   "metadata": {},
   "outputs": [
    {
     "name": "stdout",
     "output_type": "stream",
     "text": [
      "region                                                                                 north-america\n"
     ]
    },
    {
     "name": "stdin",
     "output_type": "stream",
     "text": [
      "insert type(default type is str. options[\" \":str, \"1\":int, \"2\":float, \"3\":date] :  \n"
     ]
    },
    {
     "name": "stdout",
     "output_type": "stream",
     "text": [
      "country                                                                                          usa\n"
     ]
    },
    {
     "name": "stdin",
     "output_type": "stream",
     "text": [
      "insert type(default type is str. options[\" \":str, \"1\":int, \"2\":float, \"3\":date] :  \n"
     ]
    },
    {
     "name": "stdout",
     "output_type": "stream",
     "text": [
      "name                                                                                            jhon\n"
     ]
    },
    {
     "name": "stdin",
     "output_type": "stream",
     "text": [
      "insert type(default type is str. options[\" \":str, \"1\":int, \"2\":float, \"3\":date] :  \n"
     ]
    },
    {
     "name": "stdout",
     "output_type": "stream",
     "text": [
      "sex                                                                                             male\n"
     ]
    },
    {
     "name": "stdin",
     "output_type": "stream",
     "text": [
      "insert type(default type is str. options[\" \":str, \"1\":int, \"2\":float, \"3\":date] :  \n"
     ]
    },
    {
     "name": "stdout",
     "output_type": "stream",
     "text": [
      "university                                                                        newyork university\n"
     ]
    },
    {
     "name": "stdin",
     "output_type": "stream",
     "text": [
      "insert type(default type is str. options[\" \":str, \"1\":int, \"2\":float, \"3\":date] :  \n"
     ]
    },
    {
     "name": "stdout",
     "output_type": "stream",
     "text": [
      "age                                                                                               23\n"
     ]
    },
    {
     "name": "stdin",
     "output_type": "stream",
     "text": [
      "insert type(default type is str. options[\" \":str, \"1\":int, \"2\":float, \"3\":date] :  1\n"
     ]
    },
    {
     "name": "stdout",
     "output_type": "stream",
     "text": [
      "Data Loaded : \n",
      "['region', 'country', 'name', 'sex', 'university', 'age']\n",
      "['north-america', 'usa', 'jhon', 'male', 'newyork university', 23]\n",
      "['east-asia', 'japan', 'maya', 'female', 'tokyo university', 19]\n",
      "['north-america', 'south-korea', 'park', 'male', 'seoul university', 26]\n",
      "['east-asia', 'china', 'chang', 'female', 'beijing university', 21]\n"
     ]
    }
   ],
   "source": [
    "# load data and specify data type\n",
    "data = csv2sqllike.get_data_from_csv(\"./sample.csv\")"
   ]
  },
  {
   "cell_type": "markdown",
   "metadata": {},
   "source": [
    "# How to check data and heads"
   ]
  },
  {
   "cell_type": "code",
   "execution_count": 5,
   "metadata": {},
   "outputs": [
    {
     "name": "stdout",
     "output_type": "stream",
     "text": [
      "['region', 'country', 'name', 'sex', 'university', 'age']\n",
      "{'region': 'str', 'country': 'str', 'name': 'str', 'sex': 'str', 'university': 'str', 'age': 'int'}\n"
     ]
    }
   ],
   "source": [
    "# check data heads\n",
    "print(data.header)\n",
    "# check specified data type when data loaded\n",
    "print(data.data_type)"
   ]
  },
  {
   "cell_type": "code",
   "execution_count": 6,
   "metadata": {},
   "outputs": [
    {
     "name": "stdout",
     "output_type": "stream",
     "text": [
      "Data Loaded : \n",
      "['region', 'country', 'name', 'sex', 'university', 'age']\n",
      "['north-america', 'usa', 'jhon', 'male', 'newyork university', 23]\n",
      "['east-asia', 'japan', 'maya', 'female', 'tokyo university', 19]\n",
      "['north-america', 'south-korea', 'park', 'male', 'seoul university', 26]\n",
      "['east-asia', 'china', 'chang', 'female', 'beijing university', 21]\n"
     ]
    }
   ],
   "source": [
    "# load data when you have specified data type dictionary\n",
    "# In this way, you don't needt to specify data type again\n",
    "data = csv2sqllike.get_data_from_csv(\"./sample.csv\", type_dict={'region': 'str', 'country': 'str', 'name': 'str', 'sex': 'str', 'university': 'str', 'age': 'int'})"
   ]
  },
  {
   "cell_type": "code",
   "execution_count": 7,
   "metadata": {},
   "outputs": [
    {
     "name": "stdout",
     "output_type": "stream",
     "text": [
      "['north-america', 'usa', 'jhon', 'male', 'newyork university', 23]\n",
      "['east-asia', 'japan', 'maya', 'female', 'tokyo university', 19]\n",
      "['north-america', 'south-korea', 'park', 'male', 'seoul university', 26]\n",
      "['east-asia', 'china', 'chang', 'female', 'beijing university', 21]\n"
     ]
    }
   ],
   "source": [
    "# check data\n",
    "for x in data.data:\n",
    "    print(x)"
   ]
  },
  {
   "cell_type": "markdown",
   "metadata": {},
   "source": [
    "# How to filter data using condition and check filtered data"
   ]
  },
  {
   "cell_type": "code",
   "execution_count": 8,
   "metadata": {},
   "outputs": [
    {
     "name": "stdout",
     "output_type": "stream",
     "text": [
      "['north-america', 'usa', 'jhon', 'male', 'newyork university', 23]\n",
      "['east-asia', 'japan', 'maya', 'female', 'tokyo university', 19]\n",
      "['north-america', 'south-korea', 'park', 'male', 'seoul university', 26]\n",
      "['east-asia', 'china', 'chang', 'female', 'beijing university', 21]\n"
     ]
    }
   ],
   "source": [
    "#check cache storage before fitering\n",
    "for x in data.cache_data:\n",
    "    print(x)"
   ]
  },
  {
   "cell_type": "code",
   "execution_count": 9,
   "metadata": {},
   "outputs": [
    {
     "data": {
      "text/plain": [
       "<csv2sqllike.PseudoSQLFromCSV.PsuedoSQLFromCSV at 0x7fda6914a518>"
      ]
     },
     "execution_count": 9,
     "metadata": {},
     "output_type": "execute_result"
    }
   ],
   "source": [
    "# filter data using specific condition\n",
    "data.where(\"age <= 23\")"
   ]
  },
  {
   "cell_type": "code",
   "execution_count": 10,
   "metadata": {},
   "outputs": [
    {
     "name": "stdout",
     "output_type": "stream",
     "text": [
      "['north-america', 'usa', 'jhon', 'male', 'newyork university', 23]\n",
      "['east-asia', 'japan', 'maya', 'female', 'tokyo university', 19]\n",
      "['east-asia', 'china', 'chang', 'female', 'beijing university', 21]\n"
     ]
    }
   ],
   "source": [
    "# check cache storage after fitering\n",
    "for x in data.cache_data:\n",
    "    print(x)"
   ]
  },
  {
   "cell_type": "code",
   "execution_count": 11,
   "metadata": {},
   "outputs": [
    {
     "name": "stdout",
     "output_type": "stream",
     "text": [
      "age <= 23\n"
     ]
    }
   ],
   "source": [
    "# check condition for filtering data\n",
    "print(data.condition_where)"
   ]
  },
  {
   "cell_type": "code",
   "execution_count": 12,
   "metadata": {},
   "outputs": [
    {
     "data": {
      "text/plain": [
       "<csv2sqllike.PseudoSQLFromCSV.PsuedoSQLFromCSV at 0x7fda6914a518>"
      ]
     },
     "execution_count": 12,
     "metadata": {},
     "output_type": "execute_result"
    }
   ],
   "source": [
    "# sequential filtering data\n",
    "data.where(\"sex == female\")"
   ]
  },
  {
   "cell_type": "code",
   "execution_count": 13,
   "metadata": {},
   "outputs": [
    {
     "name": "stdout",
     "output_type": "stream",
     "text": [
      "['east-asia', 'japan', 'maya', 'female', 'tokyo university', 19]\n",
      "['east-asia', 'china', 'chang', 'female', 'beijing university', 21]\n"
     ]
    }
   ],
   "source": [
    "# check cache storage after fitering\n",
    "for x in data.cache_data:\n",
    "    print(x)"
   ]
  },
  {
   "cell_type": "code",
   "execution_count": 14,
   "metadata": {},
   "outputs": [
    {
     "name": "stdout",
     "output_type": "stream",
     "text": [
      "age <= 23 AND sex == female\n"
     ]
    }
   ],
   "source": [
    "# check condition for filtering data\n",
    "print(data.condition_where)"
   ]
  },
  {
   "cell_type": "code",
   "execution_count": 15,
   "metadata": {},
   "outputs": [
    {
     "name": "stdout",
     "output_type": "stream",
     "text": [
      "\n",
      "['north-america', 'usa', 'jhon', 'male', 'newyork university', 23]\n",
      "['east-asia', 'japan', 'maya', 'female', 'tokyo university', 19]\n",
      "['north-america', 'south-korea', 'park', 'male', 'seoul university', 26]\n",
      "['east-asia', 'china', 'chang', 'female', 'beijing university', 21]\n"
     ]
    }
   ],
   "source": [
    "# clear cache data and fitering condition\n",
    "data.clear_cache_data()\n",
    "print(data.condition_where)\n",
    "for x in data.cache_data:\n",
    "    print(x)"
   ]
  },
  {
   "cell_type": "markdown",
   "metadata": {},
   "source": [
    "# How to group data with specific head and check grouped data"
   ]
  },
  {
   "cell_type": "code",
   "execution_count": 16,
   "metadata": {},
   "outputs": [
    {
     "name": "stdout",
     "output_type": "stream",
     "text": [
      "female [['east-asia', 'japan', 'maya', 'female', 'tokyo university', 19], ['east-asia', 'china', 'chang', 'female', 'beijing university', 21]]\n",
      "male [['north-america', 'usa', 'jhon', 'male', 'newyork university', 23], ['north-america', 'south-korea', 'park', 'male', 'seoul university', 26]]\n"
     ]
    }
   ],
   "source": [
    "# group data with head\n",
    "data.group_by(\"sex\")\n",
    "for key in data.cache_dict.keys():\n",
    "    print(key, data.cache_dict[key])"
   ]
  },
  {
   "cell_type": "code",
   "execution_count": 17,
   "metadata": {},
   "outputs": [
    {
     "name": "stdout",
     "output_type": "stream",
     "text": [
      "sex\n"
     ]
    }
   ],
   "source": [
    "# check conditions for grouping data\n",
    "print(data.condition_group_by)"
   ]
  },
  {
   "cell_type": "code",
   "execution_count": 18,
   "metadata": {},
   "outputs": [
    {
     "data": {
      "text/plain": [
       "<csv2sqllike.PseudoSQLFromCSV.PsuedoSQLFromCSV at 0x7fda6914a518>"
      ]
     },
     "execution_count": 18,
     "metadata": {},
     "output_type": "execute_result"
    }
   ],
   "source": [
    "# sequential data grouping\n",
    "data.group_by(\"country\")"
   ]
  },
  {
   "cell_type": "code",
   "execution_count": 19,
   "metadata": {},
   "outputs": [
    {
     "name": "stdout",
     "output_type": "stream",
     "text": [
      "female->japan [['east-asia', 'japan', 'maya', 'female', 'tokyo university', 19]]\n",
      "female->china [['east-asia', 'china', 'chang', 'female', 'beijing university', 21]]\n",
      "male->usa [['north-america', 'usa', 'jhon', 'male', 'newyork university', 23]]\n",
      "male->south-korea [['north-america', 'south-korea', 'park', 'male', 'seoul university', 26]]\n"
     ]
    }
   ],
   "source": [
    "# group data with head\n",
    "data.group_by(\"sex\")\n",
    "for key in data.cache_dict.keys():\n",
    "    print(key, data.cache_dict[key])"
   ]
  },
  {
   "cell_type": "code",
   "execution_count": 20,
   "metadata": {},
   "outputs": [
    {
     "name": "stdout",
     "output_type": "stream",
     "text": [
      "sex -> country\n"
     ]
    }
   ],
   "source": [
    "# check conditions for grouping data\n",
    "print(data.condition_group_by)"
   ]
  },
  {
   "cell_type": "code",
   "execution_count": 21,
   "metadata": {},
   "outputs": [
    {
     "name": "stdout",
     "output_type": "stream",
     "text": [
      "\n",
      "{}\n"
     ]
    }
   ],
   "source": [
    "# clear conditions and cache dictionary for grouping data\n",
    "data.clear_cache_data()\n",
    "print(data.condition_group_by)\n",
    "print(data.cache_dict)"
   ]
  },
  {
   "cell_type": "markdown",
   "metadata": {},
   "source": [
    "# How to modify data(add new head and delete head)\n"
   ]
  },
  {
   "cell_type": "code",
   "execution_count": 23,
   "metadata": {},
   "outputs": [],
   "source": [
    "# add new head\n",
    "data.add_head(\"class\")"
   ]
  },
  {
   "cell_type": "code",
   "execution_count": 24,
   "metadata": {},
   "outputs": [
    {
     "data": {
      "text/plain": [
       "['region', 'country', 'name', 'sex', 'university', 'age', 'class']"
      ]
     },
     "execution_count": 24,
     "metadata": {},
     "output_type": "execute_result"
    }
   ],
   "source": [
    "# check heads\n",
    "data.header"
   ]
  },
  {
   "cell_type": "code",
   "execution_count": 25,
   "metadata": {},
   "outputs": [
    {
     "name": "stdout",
     "output_type": "stream",
     "text": [
      "['north-america', 'usa', 'jhon', 'male', 'newyork university', 23, None]\n",
      "['east-asia', 'japan', 'maya', 'female', 'tokyo university', 19, None]\n",
      "['north-america', 'south-korea', 'park', 'male', 'seoul university', 26, None]\n",
      "['east-asia', 'china', 'chang', 'female', 'beijing university', 21, None]\n"
     ]
    }
   ],
   "source": [
    "# check data\n",
    "for x in data.data:\n",
    "    print(x)"
   ]
  },
  {
   "cell_type": "code",
   "execution_count": 26,
   "metadata": {},
   "outputs": [],
   "source": [
    "# modify data\n",
    "for index in range(len(data.data)):\n",
    "    data.data[index][-1] = \"human\""
   ]
  },
  {
   "cell_type": "code",
   "execution_count": 27,
   "metadata": {},
   "outputs": [
    {
     "name": "stdout",
     "output_type": "stream",
     "text": [
      "['north-america', 'usa', 'jhon', 'male', 'newyork university', 23, 'human']\n",
      "['east-asia', 'japan', 'maya', 'female', 'tokyo university', 19, 'human']\n",
      "['north-america', 'south-korea', 'park', 'male', 'seoul university', 26, 'human']\n",
      "['east-asia', 'china', 'chang', 'female', 'beijing university', 21, 'human']\n"
     ]
    }
   ],
   "source": [
    "# check data\n",
    "for x in data.data:\n",
    "    print(x)"
   ]
  },
  {
   "cell_type": "code",
   "execution_count": 28,
   "metadata": {},
   "outputs": [],
   "source": [
    "# delete head(column)\n",
    "data.delete_head(\"university\")"
   ]
  },
  {
   "cell_type": "code",
   "execution_count": 29,
   "metadata": {},
   "outputs": [
    {
     "name": "stdout",
     "output_type": "stream",
     "text": [
      "['north-america', 'usa', 'jhon', 'male', 23, 'human']\n",
      "['east-asia', 'japan', 'maya', 'female', 19, 'human']\n",
      "['north-america', 'south-korea', 'park', 'male', 26, 'human']\n",
      "['east-asia', 'china', 'chang', 'female', 21, 'human']\n"
     ]
    }
   ],
   "source": [
    "# check data\n",
    "for x in data.data:\n",
    "    print(x)"
   ]
  },
  {
   "cell_type": "markdown",
   "metadata": {},
   "source": [
    "# How to save current status of data into csv file"
   ]
  },
  {
   "cell_type": "code",
   "execution_count": 30,
   "metadata": {},
   "outputs": [],
   "source": [
    "data.save_data_to_csv(\"new_data.csv\")"
   ]
  },
  {
   "cell_type": "code",
   "execution_count": 31,
   "metadata": {},
   "outputs": [
    {
     "name": "stdout",
     "output_type": "stream",
     "text": [
      "region                                                                                 north-america\n"
     ]
    },
    {
     "name": "stdin",
     "output_type": "stream",
     "text": [
      "insert type(default type is str. options[\" \":str, \"1\":int, \"2\":float, \"3\":date] :  \n"
     ]
    },
    {
     "name": "stdout",
     "output_type": "stream",
     "text": [
      "country                                                                                          usa\n"
     ]
    },
    {
     "name": "stdin",
     "output_type": "stream",
     "text": [
      "insert type(default type is str. options[\" \":str, \"1\":int, \"2\":float, \"3\":date] :  \n"
     ]
    },
    {
     "name": "stdout",
     "output_type": "stream",
     "text": [
      "name                                                                                            jhon\n"
     ]
    },
    {
     "name": "stdin",
     "output_type": "stream",
     "text": [
      "insert type(default type is str. options[\" \":str, \"1\":int, \"2\":float, \"3\":date] :  \n"
     ]
    },
    {
     "name": "stdout",
     "output_type": "stream",
     "text": [
      "sex                                                                                             male\n"
     ]
    },
    {
     "name": "stdin",
     "output_type": "stream",
     "text": [
      "insert type(default type is str. options[\" \":str, \"1\":int, \"2\":float, \"3\":date] :  \n"
     ]
    },
    {
     "name": "stdout",
     "output_type": "stream",
     "text": [
      "age                                                                                               23\n"
     ]
    },
    {
     "name": "stdin",
     "output_type": "stream",
     "text": [
      "insert type(default type is str. options[\" \":str, \"1\":int, \"2\":float, \"3\":date] :  1\n"
     ]
    },
    {
     "name": "stdout",
     "output_type": "stream",
     "text": [
      "class                                                                                          human\n"
     ]
    },
    {
     "name": "stdin",
     "output_type": "stream",
     "text": [
      "insert type(default type is str. options[\" \":str, \"1\":int, \"2\":float, \"3\":date] :  \n"
     ]
    },
    {
     "name": "stdout",
     "output_type": "stream",
     "text": [
      "Data Loaded : \n",
      "['region', 'country', 'name', 'sex', 'age', 'class']\n",
      "['north-america', 'usa', 'jhon', 'male', 23, 'human']\n",
      "['east-asia', 'japan', 'maya', 'female', 19, 'human']\n",
      "['north-america', 'south-korea', 'park', 'male', 26, 'human']\n",
      "['east-asia', 'china', 'chang', 'female', 21, 'human']\n"
     ]
    }
   ],
   "source": [
    "new_data = csv2sqllike.get_data_from_csv(\"./new_data.csv\")"
   ]
  },
  {
   "cell_type": "code",
   "execution_count": null,
   "metadata": {},
   "outputs": [],
   "source": []
  }
 ],
 "metadata": {
  "kernelspec": {
   "display_name": "Python 3",
   "language": "python",
   "name": "python3"
  },
  "language_info": {
   "codemirror_mode": {
    "name": "ipython",
    "version": 3
   },
   "file_extension": ".py",
   "mimetype": "text/x-python",
   "name": "python",
   "nbconvert_exporter": "python",
   "pygments_lexer": "ipython3",
   "version": "3.6.5"
  }
 },
 "nbformat": 4,
 "nbformat_minor": 4
}
