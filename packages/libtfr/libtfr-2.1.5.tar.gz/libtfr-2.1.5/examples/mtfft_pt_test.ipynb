{
 "cells": [
  {
   "cell_type": "markdown",
   "metadata": {},
   "source": [
    "## Example Code for libtfr"
   ]
  },
  {
   "cell_type": "code",
   "execution_count": null,
   "metadata": {},
   "outputs": [],
   "source": [
    "import numpy as np\n",
    "import scipy as sp\n",
    "%matplotlib inline\n",
    "import matplotlib.pyplot as plt\n",
    "import seaborn as sns\n",
    "sns.set_style(\"whitegrid\")\n",
    "\n",
    "import libtfr\n",
    "import pointproc"
   ]
  },
  {
   "cell_type": "code",
   "execution_count": null,
   "metadata": {},
   "outputs": [],
   "source": [
    "def fmsin(N, fnormin, fnormax, period, t0, fnorm0, pm1):\n",
    "    from numpy import sign, sin, arccos, exp, arange, pi, real\n",
    "    fnormid = 0.5 * (fnormax+fnormin)\n",
    "    delta = 0.5 * (fnormax-fnormin)\n",
    "    phi = - sign(pm1) * arccos((fnorm0 - fnormid)/delta)\n",
    "    t = arange(0.0, N)\n",
    "    phase = 2 * pi * fnormid * (t - t0) + delta * period * (sin(2 * pi * (t - t0) / period + phi) - sin(phi))\n",
    "    return real(exp(1j * phase))\n",
    "\n",
    "Fs = 1000.\n",
    "sig = fmsin(17590, 0.15, 0.45, 1024, 256./4, 0.3, -1)\n",
    "\n",
    "# an inhomogeneous poisson process with rate = exp(sig). Times will be in units of s\n",
    "p = np.exp(sig - 1)\n",
    "events = (p > np.random.uniform(size=p.size)).nonzero()[0].astype('d') / Fs\n",
    "# jitter \n",
    "events += np.random.uniform(low=-0.00025, high=0.00025, size=events.size)"
   ]
  },
  {
   "cell_type": "code",
   "execution_count": null,
   "metadata": {},
   "outputs": [],
   "source": [
    "nfft = sig.size\n",
    "ntapers = 5\n",
    "transform = libtfr.mfft_dpss(nfft, 3, ntapers, nfft)"
   ]
  },
  {
   "cell_type": "code",
   "execution_count": null,
   "metadata": {},
   "outputs": [],
   "source": [
    "# transform a time series\n",
    "Z = transform.mtpsd(sig)\n",
    "f, idx = libtfr.fgrid(Fs, transform.nfft)\n",
    "plt.plot(f, Z[idx])"
   ]
  },
  {
   "cell_type": "code",
   "execution_count": null,
   "metadata": {},
   "outputs": [],
   "source": [
    "# point process fft - should look like noisy version of signal spectrum\n",
    "JJ = transform.mtfft_pt(events, 1 / Fs,  0)\n",
    "SS = np.mean(JJ * JJ.conj(), 1).real\n",
    "plt.plot(SS)"
   ]
  },
  {
   "cell_type": "code",
   "execution_count": null,
   "metadata": {},
   "outputs": [],
   "source": [
    "# spectrograms\n",
    "sns.set_style(\"dark\")\n",
    "nfft = 256\n",
    "window = 201\n",
    "shift = 10\n",
    "ntapers = 5\n",
    "nframes = (sig.size - nfft) // shift + 1\n",
    "D = libtfr.mfft_dpss(nfft, 3, ntapers, window)\n",
    "Z = D.mtspec(sig, shift)\n",
    "plt.imshow(Z, cmap=\"jet\")"
   ]
  },
  {
   "cell_type": "code",
   "execution_count": null,
   "metadata": {},
   "outputs": [],
   "source": [
    "Z, Nsp = D.mtstft_pt(events, 1 / Fs, shift / Fs, 0, sig.size / Fs)\n",
    "S = (Z * Z.conj()).mean(2).real\n",
    "plt.imshow(S, cmap=\"jet\")"
   ]
  },
  {
   "cell_type": "code",
   "execution_count": null,
   "metadata": {},
   "outputs": [],
   "source": []
  }
 ],
 "metadata": {
  "kernelspec": {
   "display_name": "akit",
   "language": "python",
   "name": "akit"
  },
  "language_info": {
   "codemirror_mode": {
    "name": "ipython",
    "version": 3
   },
   "file_extension": ".py",
   "mimetype": "text/x-python",
   "name": "python",
   "nbconvert_exporter": "python",
   "pygments_lexer": "ipython3",
   "version": "3.5.4"
  }
 },
 "nbformat": 4,
 "nbformat_minor": 2
}
