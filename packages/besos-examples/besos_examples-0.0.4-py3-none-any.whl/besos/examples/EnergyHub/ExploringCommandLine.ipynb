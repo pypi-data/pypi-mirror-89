{
 "cells": [
  {
   "cell_type": "markdown",
   "metadata": {
    "papermill": {
     "duration": 0.0092,
     "end_time": "2019-10-28T23:04:16.640419",
     "exception": false,
     "start_time": "2019-10-28T23:04:16.631219",
     "status": "completed"
    },
    "tags": []
   },
   "source": [
    "# Exploring command line features\n",
    "\n",
    "Various command line features are able to change the EHub objective function, solver options and output presentation."
   ]
  },
  {
   "cell_type": "code",
   "execution_count": null,
   "metadata": {
    "lines_to_next_cell": 2,
    "papermill": {
     "duration": 0.830705,
     "end_time": "2019-10-28T23:04:17.482583",
     "exception": false,
     "start_time": "2019-10-28T23:04:16.651878",
     "status": "completed"
    },
    "tags": []
   },
   "outputs": [],
   "source": [
    "from pyehub.energy_hub.ehub_model import EHubModel\n",
    "from pyehub.energy_hub.utils import constraint\n",
    "from pyehub.logger import create_logger\n",
    "from pyehub.outputter import (\n",
    "    output_excel,\n",
    "    pretty_print,\n",
    "    print_capacities,\n",
    "    print_section,\n",
    "    print_warning,\n",
    "    stream_info,\n",
    ")"
   ]
  },
  {
   "cell_type": "markdown",
   "metadata": {
    "papermill": {
     "duration": 0.003896,
     "end_time": "2019-10-28T23:04:17.491486",
     "exception": false,
     "start_time": "2019-10-28T23:04:17.487590",
     "status": "completed"
    },
    "tags": []
   },
   "source": [
    "Here you set the values of all the variables that would be passed as command line arguments in the terminal."
   ]
  },
  {
   "cell_type": "code",
   "execution_count": null,
   "metadata": {
    "papermill": {
     "duration": 0.011308,
     "end_time": "2019-10-28T23:04:17.507004",
     "exception": false,
     "start_time": "2019-10-28T23:04:17.495696",
     "status": "completed"
    },
    "tags": []
   },
   "outputs": [],
   "source": [
    "DEFAULT_LOG_FILE = \"logs.log\"\n",
    "\n",
    "settings = {\n",
    "    # Suppresses all output\n",
    "    \"quiet\": False,\n",
    "    # Output everything\n",
    "    \"verbose\": False,\n",
    "    # The Excel file of the model to solve\n",
    "    \"input_file\": \"test_file.xlsx\",\n",
    "    # The file to output the results in\n",
    "    \"output_file\": \"test_out.xlsx\",\n",
    "    # Add a maximum value to the carbon\n",
    "    \"carbon\": True,\n",
    "    # The maximum value that carbon can have if the --carbon switch is used.\n",
    "    \"max_carbon\": 5,\n",
    "    \"solver_options\": False,\n",
    "    # The solver to use', choices=['glpk', 'cplex']\n",
    "    \"solver\": {\"name\": \"glpk\", \"options\": {\"mipgap\": 0.05,},},\n",
    "    # Outputs the results in a different format, grouped info about streams\n",
    "    \"output_format\": False,\n",
    "}"
   ]
  },
  {
   "cell_type": "markdown",
   "metadata": {
    "papermill": {
     "duration": 0.003744,
     "end_time": "2019-10-28T23:04:17.514841",
     "exception": false,
     "start_time": "2019-10-28T23:04:17.511097",
     "status": "completed"
    },
    "tags": []
   },
   "source": [
    "Adding a carbon constraint is a common problem for the EHub. `CarbonEHubModel(EHubModel)` is a version of the EHub with a `max_carbon_level(self)` constraint limiting carbon emissions of the model. Below is added constraint:"
   ]
  },
  {
   "cell_type": "code",
   "execution_count": null,
   "metadata": {
    "papermill": {
     "duration": 0.010434,
     "end_time": "2019-10-28T23:04:17.529129",
     "exception": false,
     "start_time": "2019-10-28T23:04:17.518695",
     "status": "completed"
    },
    "tags": []
   },
   "outputs": [],
   "source": [
    "class CarbonEHubModel(EHubModel):\n",
    "    MAX_CARBON = 0\n",
    "\n",
    "    def __init__(self, *, excel=None, request=None, max_carbon=0):\n",
    "        super().__init__(excel=excel, request=request)\n",
    "        if max_carbon is not None:\n",
    "            self.MAX_CARBON = max_carbon\n",
    "\n",
    "    @constraint()\n",
    "    def max_carbon_level(self):\n",
    "        return self.total_carbon <= float(self.MAX_CARBON)"
   ]
  },
  {
   "cell_type": "markdown",
   "metadata": {
    "papermill": {
     "duration": 0.007022,
     "end_time": "2019-10-28T23:04:17.541880",
     "exception": false,
     "start_time": "2019-10-28T23:04:17.534858",
     "status": "completed"
    },
    "tags": []
   },
   "source": [
    "The main() function is where the EHub is defined."
   ]
  },
  {
   "cell_type": "code",
   "execution_count": null,
   "metadata": {
    "papermill": {
     "duration": 0.012795,
     "end_time": "2019-10-28T23:04:17.560930",
     "exception": false,
     "start_time": "2019-10-28T23:04:17.548135",
     "status": "completed"
    },
    "tags": []
   },
   "outputs": [],
   "source": [
    "def main():\n",
    "    create_logger(DEFAULT_LOG_FILE)\n",
    "    if settings[\"carbon\"]:\n",
    "        model = CarbonEHubModel(\n",
    "            excel=settings[\"input_file\"], max_carbon=settings[\"max_carbon\"]\n",
    "        )\n",
    "    else:\n",
    "        model = EHubModel(excel=settings[\"input_file\"])\n",
    "\n",
    "    # Printing out model prior to solving in the same format as after solving\n",
    "    if settings[\"verbose\"]:\n",
    "        print_section(\"Before_Solving\", model._public_attributes())\n",
    "\n",
    "    results = model.solve(settings[\"solver\"], is_verbose=settings[\"verbose\"])\n",
    "\n",
    "    if not settings[\"quiet\"]:\n",
    "        pretty_print(results)\n",
    "\n",
    "    output_excel(\n",
    "        results[\"solution\"],\n",
    "        settings[\"output_file\"],\n",
    "        time_steps=len(model.time),\n",
    "        sheets=[\"other\", \"capacity_storage\", \"capacity_tech\"],\n",
    "    )\n",
    "\n",
    "    # Outputs all the capacities form the results\n",
    "    if settings[\"verbose\"]:\n",
    "        print_capacities(results)\n",
    "\n",
    "    # Prints error at the end if the model burns energy(energy from storage and energy to storage at the same time step)\n",
    "    print_warning(results)\n",
    "\n",
    "    # Outputs additional sheets for each stream with information about storages and about the stream\n",
    "    if settings[\"output_format\"]:\n",
    "        stream_info(results, settings[\"output_file\"])"
   ]
  },
  {
   "cell_type": "code",
   "execution_count": null,
   "metadata": {
    "papermill": {
     "duration": 0.299713,
     "end_time": "2019-10-28T23:04:17.864951",
     "exception": false,
     "start_time": "2019-10-28T23:04:17.565238",
     "status": "completed"
    },
    "tags": []
   },
   "outputs": [],
   "source": [
    "# Execute main()\n",
    "if __name__ == \"__main__\":\n",
    "    main()"
   ]
  },
  {
   "cell_type": "code",
   "execution_count": null,
   "metadata": {
    "papermill": {
     "duration": 0.009408,
     "end_time": "2019-10-28T23:04:17.880320",
     "exception": false,
     "start_time": "2019-10-28T23:04:17.870912",
     "status": "completed"
    },
    "tags": []
   },
   "outputs": [],
   "source": []
  }
 ],
 "metadata": {
  "kernelspec": {
   "display_name": "Python 3",
   "language": "python",
   "name": "python3"
  }
 },
 "nbformat": 4,
 "nbformat_minor": 4
}
