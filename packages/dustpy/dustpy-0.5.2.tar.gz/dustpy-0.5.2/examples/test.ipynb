{
 "cells": [
  {
   "cell_type": "code",
   "execution_count": 1,
   "metadata": {},
   "outputs": [],
   "source": [
    "import matplotlib.pyplot as plt\n",
    "import numpy as np\n",
    "import sys\n",
    "\n",
    "from dustpy import Simulation\n",
    "from dustpy import plot\n",
    "import dustpy.constants as c"
   ]
  },
  {
   "cell_type": "code",
   "execution_count": 2,
   "metadata": {},
   "outputs": [],
   "source": [
    "sim = Simulation()"
   ]
  },
  {
   "cell_type": "code",
   "execution_count": 3,
   "metadata": {},
   "outputs": [],
   "source": [
    "sim.initialize()"
   ]
  },
  {
   "cell_type": "code",
   "execution_count": 4,
   "metadata": {},
   "outputs": [
    {
     "name": "stdout",
     "output_type": "stream",
     "text": [
      "Setting dust integrator\n",
      "    scheme: \u001b[94mexplicit\u001b[0m\n",
      "    method: \u001b[94mcash-karp\u001b[0m\n"
     ]
    }
   ],
   "source": [
    "sim.setdustintegrator()"
   ]
  },
  {
   "cell_type": "code",
   "execution_count": 5,
   "metadata": {},
   "outputs": [
    {
     "data": {
      "text/plain": [
       "[Instruction (Dust: explicit 5th-order adaptive Cash-Karp method),\n",
       " Instruction (Gas: implicit 1st-order direct solver)]"
      ]
     },
     "execution_count": 5,
     "metadata": {},
     "output_type": "execute_result"
    }
   ],
   "source": [
    "sim.integrator.instructions"
   ]
  },
  {
   "cell_type": "code",
   "execution_count": 6,
   "metadata": {},
   "outputs": [],
   "source": [
    "sim.writer.overwrite = True\n",
    "sim.writer.datadir = \"test\""
   ]
  },
  {
   "cell_type": "code",
   "execution_count": 7,
   "metadata": {},
   "outputs": [],
   "source": [
    "sim.t.snapshots = np.logspace(3., 5., 21) * c.year"
   ]
  },
  {
   "cell_type": "code",
   "execution_count": null,
   "metadata": {},
   "outputs": [
    {
     "name": "stdout",
     "output_type": "stream",
     "text": [
      "\n",
      "DustPy v0.5.1\n",
      "\n",
      "Documentation: https://stammler.github.io/dustpy/\n",
      "PyPI:          https://pypi.org/project/dustpy/\n",
      "GitHub:        https://github.com/stammler/dustpy/\n",
      "\u001b[91m\n",
      "Please read README.md on the GitHub repository for\n",
      "information about the Terms of Usage.\u001b[0m\n",
      "\n",
      "\u001b[93mChecking for mass conservation...\n",
      "\u001b[0m\n",
      "\u001b[93m    - Sticking:\u001b[0m\n",
      "\u001b[98m        max. rel. error: \u001b[92m 2.81e-14\u001b[0m\n",
      "        for particle collision\n",
      "            m[114] =  1.93e+04 g    with\n",
      "            m[116] =  3.73e+04 g\u001b[0m\n",
      "\u001b[93m    - Full fragmentation:\u001b[0m\n",
      "\u001b[98m        max. rel. error: \u001b[92m 3.33e-16\u001b[0m\n",
      "        for particle collision\n",
      "            m[4] =  3.73e-12 g    with\n",
      "            m[6] =  7.20e-12 g\u001b[0m\n",
      "\u001b[93m    - Cratering:\u001b[0m\n",
      "\u001b[98m        max. rel. error: \u001b[92m 1.78e-15\u001b[0m\n",
      "        for particle collision\n",
      "            m[110] =  5.18e+03 g    with\n",
      "            m[118] =  7.20e+04 g\n",
      "\u001b[0m\n",
      "Writing file \u001b[94mtest/data0000.hdf5\u001b[0m\n",
      "Writing dump file \u001b[94mtest/frame.dmp\u001b[0m\n"
     ]
    }
   ],
   "source": [
    "sim.run()"
   ]
  },
  {
   "cell_type": "code",
   "execution_count": null,
   "metadata": {},
   "outputs": [],
   "source": [
    "sim.t.prevstepsize/c.year"
   ]
  },
  {
   "cell_type": "code",
   "execution_count": null,
   "metadata": {},
   "outputs": [],
   "source": [
    "sim.t/c.year"
   ]
  },
  {
   "cell_type": "code",
   "execution_count": null,
   "metadata": {},
   "outputs": [],
   "source": [
    "plot.panel(sim, ir=1)"
   ]
  },
  {
   "cell_type": "code",
   "execution_count": null,
   "metadata": {},
   "outputs": [],
   "source": [
    "plot.panel(\"test\")"
   ]
  },
  {
   "cell_type": "code",
   "execution_count": null,
   "metadata": {},
   "outputs": [],
   "source": [
    "sim.toc"
   ]
  }
 ],
 "metadata": {
  "kernelspec": {
   "display_name": "Python 3",
   "language": "python",
   "name": "python3"
  },
  "language_info": {
   "codemirror_mode": {
    "name": "ipython",
    "version": 3
   },
   "file_extension": ".py",
   "mimetype": "text/x-python",
   "name": "python",
   "nbconvert_exporter": "python",
   "pygments_lexer": "ipython3",
   "version": "3.8.5"
  }
 },
 "nbformat": 4,
 "nbformat_minor": 4
}
