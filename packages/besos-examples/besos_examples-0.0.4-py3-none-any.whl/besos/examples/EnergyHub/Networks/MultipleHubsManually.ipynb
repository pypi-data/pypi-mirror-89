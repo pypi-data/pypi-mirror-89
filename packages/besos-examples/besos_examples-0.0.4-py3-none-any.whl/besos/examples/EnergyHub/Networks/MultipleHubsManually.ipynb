{
 "cells": [
  {
   "cell_type": "markdown",
   "metadata": {
    "papermill": {
     "duration": 0.013676,
     "end_time": "2019-10-28T23:04:23.590316",
     "exception": false,
     "start_time": "2019-10-28T23:04:23.576640",
     "status": "completed"
    },
    "tags": []
   },
   "source": [
    "# Multiple Hubs\n",
    "\n",
    "Here we show how to manually combine hub objects so that they are nested in larger hubs.\n",
    "In the [Multiple Hubs](MultipleHubs.ipynb) notebook this is done for us using the `multiple_hubs` function."
   ]
  },
  {
   "cell_type": "code",
   "execution_count": null,
   "metadata": {
    "lines_to_next_cell": 2,
    "papermill": {
     "duration": 0.811969,
     "end_time": "2019-10-28T23:04:24.414441",
     "exception": false,
     "start_time": "2019-10-28T23:04:23.602472",
     "status": "completed"
    },
    "tags": []
   },
   "outputs": [],
   "source": [
    "from pprint import pprint as pp\n",
    "\n",
    "import numpy as np\n",
    "from pyehub import multiple_hubs, network_to_request_format\n",
    "from pyehub.energy_hub.input_data import InputData\n",
    "from pyehub.energy_hub.utils import constraint\n",
    "from pyehub.multiple_hubs import NetworkModel, multiple_hubs\n",
    "\n",
    "import pylp\n",
    "from pylp import RealVariable"
   ]
  },
  {
   "cell_type": "markdown",
   "metadata": {
    "papermill": {
     "duration": 0.011713,
     "end_time": "2019-10-28T23:04:24.437897",
     "exception": false,
     "start_time": "2019-10-28T23:04:24.426184",
     "status": "completed"
    },
    "tags": []
   },
   "source": [
    "### Network Input as Request JSON\n",
    "\n",
    "The data for the links can be supplied to the multiple hubs in either an excel file or in the network request format."
   ]
  },
  {
   "cell_type": "code",
   "execution_count": null,
   "metadata": {
    "papermill": {
     "duration": 0.031352,
     "end_time": "2019-10-28T23:04:24.480824",
     "exception": false,
     "start_time": "2019-10-28T23:04:24.449472",
     "status": "completed"
    },
    "tags": []
   },
   "outputs": [],
   "source": [
    "network_json = network_to_request_format.convert(\"network.xlsx\")\n",
    "pp(network_json)"
   ]
  },
  {
   "cell_type": "markdown",
   "metadata": {
    "papermill": {
     "duration": 0.015945,
     "end_time": "2019-10-28T23:04:24.508105",
     "exception": false,
     "start_time": "2019-10-28T23:04:24.492160",
     "status": "completed"
    },
    "tags": []
   },
   "source": [
    "### Hub Inputs\n",
    "\n",
    "When running the multiple hubs script the hubs must be in some pattern with incrementing values starting at 1. In this instance of running the code manually the hubs can be listed out one by one with any name. The individual hubs in the network use a custom version of the EHub model that adds links and applies custom constraints."
   ]
  },
  {
   "cell_type": "code",
   "execution_count": null,
   "metadata": {
    "papermill": {
     "duration": 0.088207,
     "end_time": "2019-10-28T23:04:24.608285",
     "exception": false,
     "start_time": "2019-10-28T23:04:24.520078",
     "status": "completed"
    },
    "tags": []
   },
   "outputs": [],
   "source": [
    "network = network_json\n",
    "hub1 = NetworkModel(excel=\"hub__1.xlsx\", network_request=network, hub_id=0)\n",
    "hub2 = NetworkModel(excel=\"hub__2.xlsx\", network_request=network, hub_id=1)\n",
    "hub3 = NetworkModel(excel=\"hub__3.xlsx\", network_request=network, hub_id=2)\n",
    "hub4 = NetworkModel(excel=\"hub__4.xlsx\", network_request=network, hub_id=3)"
   ]
  },
  {
   "cell_type": "markdown",
   "metadata": {
    "papermill": {
     "duration": 0.012527,
     "end_time": "2019-10-28T23:04:24.633303",
     "exception": false,
     "start_time": "2019-10-28T23:04:24.620776",
     "status": "completed"
    },
    "tags": []
   },
   "source": [
    "### Tying the hub ids to their links in the network data\n",
    "The link information is stored in a seperate network excel or network request file. Each link has a starting and ending point id which connects to the assosciated hub in the list id."
   ]
  },
  {
   "cell_type": "code",
   "execution_count": null,
   "metadata": {
    "papermill": {
     "duration": 0.02142,
     "end_time": "2019-10-28T23:04:24.667587",
     "exception": false,
     "start_time": "2019-10-28T23:04:24.646167",
     "status": "completed"
    },
    "tags": []
   },
   "outputs": [],
   "source": [
    "_net_data = InputData(network)\n",
    "LINK_THERMAL_LOSS = _net_data.link_thermal_loss\n",
    "connections = []\n",
    "for i in _net_data.links_ids:\n",
    "    start = _net_data.link_start[i]\n",
    "    end = _net_data.link_end[i]\n",
    "\n",
    "    connections.insert(i, (start, end))\n",
    "print(connections)"
   ]
  },
  {
   "cell_type": "markdown",
   "metadata": {
    "papermill": {
     "duration": 0.012176,
     "end_time": "2019-10-28T23:04:24.692150",
     "exception": false,
     "start_time": "2019-10-28T23:04:24.679974",
     "status": "completed"
    },
    "tags": []
   },
   "source": [
    "### Creating a list of all the constraints from all the hubs\n",
    "For creating the larger problem to be solved with the model all the individual constraints for each Hub are all appended to one list."
   ]
  },
  {
   "cell_type": "code",
   "execution_count": null,
   "metadata": {
    "papermill": {
     "duration": 0.101816,
     "end_time": "2019-10-28T23:04:24.806412",
     "exception": false,
     "start_time": "2019-10-28T23:04:24.704596",
     "status": "completed"
    },
    "tags": []
   },
   "outputs": [],
   "source": [
    "hubs = [hub1, hub2, hub3, hub4]\n",
    "constraints = []\n",
    "for hub in hubs:\n",
    "    hub.recompile()\n",
    "    for constr in hub.constraints:\n",
    "        constraints.append(constr)"
   ]
  },
  {
   "cell_type": "markdown",
   "metadata": {
    "papermill": {
     "duration": 0.012202,
     "end_time": "2019-10-28T23:04:24.831066",
     "exception": false,
     "start_time": "2019-10-28T23:04:24.818864",
     "status": "completed"
    },
    "tags": []
   },
   "source": [
    "### Network specific constraints\n",
    "On top of the specific Hub constraints there is also a link capacity and energy balancing network constraint that is applied once for the entire network."
   ]
  },
  {
   "cell_type": "code",
   "execution_count": null,
   "metadata": {
    "papermill": {
     "duration": 0.020506,
     "end_time": "2019-10-28T23:04:24.864143",
     "exception": false,
     "start_time": "2019-10-28T23:04:24.843637",
     "status": "completed"
    },
    "tags": []
   },
   "outputs": [],
   "source": [
    "@constraint()\n",
    "def link_capacity_constraint(link, hub, i):\n",
    "    \"\"\"\n",
    "    Constraint for the flow in the links.\n",
    "    \"\"\"\n",
    "    for flow in link:\n",
    "        yield flow >= 0\n",
    "        yield flow <= hub.link_capacities[i]\n",
    "\n",
    "\n",
    "@constraint()\n",
    "def network_constraint(hub, link_end, link_start):\n",
    "    \"\"\"\n",
    "    Yields the constraints that allow a network connection between two hubs.\n",
    "\n",
    "    Args:\n",
    "        hub: The hub\n",
    "        link_end: all the links that the hub ends at\n",
    "        link_start: all the links that the hub start at\n",
    "    Yields:\n",
    "       A network energy balanced constraints for each hub\n",
    "    \"\"\"\n",
    "\n",
    "    for t in hub.time:\n",
    "        link_starting = []\n",
    "        link_ending = []\n",
    "\n",
    "        for i in range(len(link_start)):\n",
    "            link_starting.append(link_start[i][t])\n",
    "\n",
    "        for i in range(len(link_end)):\n",
    "            link_ending.append(link_end[i][t])\n",
    "\n",
    "        yield (\n",
    "            (\n",
    "                hub.energy_exported[t][\"Net_export\"]\n",
    "                - hub.energy_imported[t][\"Net_import\"]\n",
    "                + sum(link_ending)\n",
    "                - sum(link_starting)\n",
    "            )\n",
    "            == 0\n",
    "        )"
   ]
  },
  {
   "cell_type": "markdown",
   "metadata": {
    "papermill": {
     "duration": 0.012227,
     "end_time": "2019-10-28T23:04:24.887960",
     "exception": false,
     "start_time": "2019-10-28T23:04:24.875733",
     "status": "completed"
    },
    "tags": []
   },
   "source": [
    "### Energy flow Variables created for each connection\n",
    "Each link has an energy_flow variable that is part of the model's solution."
   ]
  },
  {
   "cell_type": "code",
   "execution_count": null,
   "metadata": {
    "papermill": {
     "duration": 0.024104,
     "end_time": "2019-10-28T23:04:24.924716",
     "exception": false,
     "start_time": "2019-10-28T23:04:24.900612",
     "status": "completed"
    },
    "tags": []
   },
   "outputs": [],
   "source": [
    "energy_flow = {\n",
    "    t: {con: RealVariable() for con in range(len(connections))} for t in hubs[0].time\n",
    "}\n",
    "links = []\n",
    "for i in range(len(connections)):\n",
    "    hub = hubs[0]\n",
    "    flow = []\n",
    "    for t in hub.time:\n",
    "        flow.append(energy_flow[t][i])\n",
    "    links.insert(i, flow)\n",
    "links"
   ]
  },
  {
   "cell_type": "markdown",
   "metadata": {
    "papermill": {
     "duration": 0.013238,
     "end_time": "2019-10-28T23:04:24.951560",
     "exception": false,
     "start_time": "2019-10-28T23:04:24.938322",
     "status": "completed"
    },
    "tags": []
   },
   "source": [
    "### Applying link capacity constraint to each link"
   ]
  },
  {
   "cell_type": "code",
   "execution_count": null,
   "metadata": {
    "papermill": {
     "duration": 0.053274,
     "end_time": "2019-10-28T23:04:25.018651",
     "exception": false,
     "start_time": "2019-10-28T23:04:24.965377",
     "status": "completed"
    },
    "tags": []
   },
   "outputs": [],
   "source": [
    "for hub in hubs:\n",
    "    for i, link in enumerate(links):\n",
    "        for c in link_capacity_constraint(link, hub, i):\n",
    "            constraints.append(c)"
   ]
  },
  {
   "cell_type": "markdown",
   "metadata": {
    "papermill": {
     "duration": 0.01182,
     "end_time": "2019-10-28T23:04:25.042040",
     "exception": false,
     "start_time": "2019-10-28T23:04:25.030220",
     "status": "completed"
    },
    "tags": []
   },
   "source": [
    "### Applying energy balance constraint to each link"
   ]
  },
  {
   "cell_type": "code",
   "execution_count": null,
   "metadata": {
    "papermill": {
     "duration": 0.021329,
     "end_time": "2019-10-28T23:04:25.076896",
     "exception": false,
     "start_time": "2019-10-28T23:04:25.055567",
     "status": "completed"
    },
    "tags": []
   },
   "outputs": [],
   "source": [
    "for k, hub in enumerate(hubs):\n",
    "    # New list for all the links that the hub starts at\n",
    "    link_start = []\n",
    "    # New list for all the links that the hub ends at\n",
    "    link_end = []\n",
    "\n",
    "    for i in range(len(connections)):\n",
    "        if connections[i][0] == k:\n",
    "            link_start.append(links[i])\n",
    "        # Searching for the links that the hubs ends at but are not power flow\n",
    "        if connections[i][1] == k:\n",
    "            # Multiplying by thermal loss to account for the thermal loss in the link\n",
    "            links[i] = np.array(links[i])\n",
    "            links[i] = links[i] * LINK_THERMAL_LOSS[i]\n",
    "            link_end.append(links[i])\n",
    "\n",
    "    # Creating the network constraints for the hubs:\n",
    "    # Energy balancing for none powerflow links\n",
    "    for c in network_constraint(hub, link_end, link_start):\n",
    "        constraints.append(c)"
   ]
  },
  {
   "cell_type": "markdown",
   "metadata": {
    "papermill": {
     "duration": 0.012105,
     "end_time": "2019-10-28T23:04:25.100959",
     "exception": false,
     "start_time": "2019-10-28T23:04:25.088854",
     "status": "completed"
    },
    "tags": []
   },
   "source": [
    "### Combining the objectives of all the hubs and Solving\n",
    "All the objectives and constraints are sent to pylp to form the MILP problem to be solved by the solver. The solution is then found dispersed in the solution dictionaries of the hubs."
   ]
  },
  {
   "cell_type": "code",
   "execution_count": null,
   "metadata": {
    "jupyter": {
     "outputs_hidden": true
    },
    "papermill": {
     "duration": 1.330967,
     "end_time": "2019-10-28T23:04:26.444612",
     "exception": false,
     "start_time": "2019-10-28T23:04:25.113645",
     "status": "completed"
    },
    "tags": []
   },
   "outputs": [],
   "source": [
    "objective = hubs[0].objective\n",
    "for hub in hubs[1:]:\n",
    "    objective += hub.objective\n",
    "\n",
    "# Now solve this model.\n",
    "status = pylp.solve(objective=objective, constraints=constraints, minimize=True)\n",
    "hubs[0].solution_dict"
   ]
  },
  {
   "cell_type": "markdown",
   "metadata": {
    "papermill": {
     "duration": 0.012676,
     "end_time": "2019-10-28T23:04:26.470280",
     "exception": false,
     "start_time": "2019-10-28T23:04:26.457604",
     "status": "completed"
    },
    "tags": []
   },
   "source": [
    "### Solving the Models\n",
    "\n",
    "Here we run the `multiple_hubs` function, which:\n",
    "+ combines the individual hub models into one big hub\n",
    "+ adds network constraints to allow energy to be exchanged\n",
    "+ solves the resulting hub model\n",
    "The stdout is very long, so we capture it to a variable `sol_output`."
   ]
  },
  {
   "cell_type": "code",
   "execution_count": null,
   "metadata": {
    "papermill": {
     "duration": 0.018264,
     "end_time": "2019-10-28T23:04:26.501564",
     "exception": false,
     "start_time": "2019-10-28T23:04:26.483300",
     "status": "completed"
    },
    "tags": []
   },
   "outputs": [],
   "source": [
    "input_file = \"hub__\"\n",
    "n = 4"
   ]
  },
  {
   "cell_type": "code",
   "execution_count": null,
   "metadata": {
    "papermill": {
     "duration": 2.891467,
     "end_time": "2019-10-28T23:04:29.405365",
     "exception": false,
     "start_time": "2019-10-28T23:04:26.513898",
     "status": "completed"
    },
    "tags": []
   },
   "outputs": [],
   "source": [
    "%%capture sol_output\n",
    "sol = multiple_hubs(input_files=input_file, n=n, network_excel=\"network.xlsx\")"
   ]
  },
  {
   "cell_type": "markdown",
   "metadata": {
    "papermill": {
     "duration": 0.012643,
     "end_time": "2019-10-28T23:04:29.431152",
     "exception": false,
     "start_time": "2019-10-28T23:04:29.418509",
     "status": "completed"
    },
    "tags": []
   },
   "source": [
    "### Results\n",
    "\n",
    "Results are returned for all four hubs, but all the network link capacities are the same by definition, so we can just take the values from the first hub."
   ]
  },
  {
   "cell_type": "code",
   "execution_count": null,
   "metadata": {
    "papermill": {
     "duration": 0.017562,
     "end_time": "2019-10-28T23:04:29.461326",
     "exception": false,
     "start_time": "2019-10-28T23:04:29.443764",
     "status": "completed"
    },
    "tags": []
   },
   "outputs": [],
   "source": [
    "hub = sol[0]"
   ]
  },
  {
   "cell_type": "markdown",
   "metadata": {
    "papermill": {
     "duration": 0.012353,
     "end_time": "2019-10-28T23:04:29.486790",
     "exception": false,
     "start_time": "2019-10-28T23:04:29.474437",
     "status": "completed"
    },
    "tags": []
   },
   "source": [
    "We can examine the network links that are installed:"
   ]
  },
  {
   "cell_type": "code",
   "execution_count": null,
   "metadata": {
    "papermill": {
     "duration": 0.01881,
     "end_time": "2019-10-28T23:04:29.518357",
     "exception": false,
     "start_time": "2019-10-28T23:04:29.499547",
     "status": "completed"
    },
    "tags": []
   },
   "outputs": [],
   "source": [
    "hub[\"is_link_installed\"]"
   ]
  },
  {
   "cell_type": "markdown",
   "metadata": {
    "papermill": {
     "duration": 0.013605,
     "end_time": "2019-10-28T23:04:29.545425",
     "exception": false,
     "start_time": "2019-10-28T23:04:29.531820",
     "status": "completed"
    },
    "tags": []
   },
   "source": [
    "And the capacity of the links:"
   ]
  },
  {
   "cell_type": "code",
   "execution_count": null,
   "metadata": {
    "papermill": {
     "duration": 0.020144,
     "end_time": "2019-10-28T23:04:29.578854",
     "exception": false,
     "start_time": "2019-10-28T23:04:29.558710",
     "status": "completed"
    },
    "tags": []
   },
   "outputs": [],
   "source": [
    "for i in range(4):\n",
    "    id = \"capacity\" + str(i)\n",
    "    print(\"Link\", i, \"has capacity\", hub[id])"
   ]
  },
  {
   "cell_type": "code",
   "execution_count": null,
   "metadata": {
    "papermill": {
     "duration": 0.013262,
     "end_time": "2019-10-28T23:04:29.605114",
     "exception": false,
     "start_time": "2019-10-28T23:04:29.591852",
     "status": "completed"
    },
    "tags": []
   },
   "outputs": [],
   "source": []
  }
 ],
 "metadata": {
  "kernelspec": {
   "display_name": "Python 3",
   "language": "python",
   "name": "python3"
  }
 },
 "nbformat": 4,
 "nbformat_minor": 4
}
