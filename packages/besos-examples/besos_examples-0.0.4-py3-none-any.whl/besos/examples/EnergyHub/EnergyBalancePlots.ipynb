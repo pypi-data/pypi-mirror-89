{
 "cells": [
  {
   "cell_type": "markdown",
   "metadata": {
    "papermill": {
     "duration": 0.008617,
     "end_time": "2019-10-28T23:04:18.868435",
     "exception": false,
     "start_time": "2019-10-28T23:04:18.859818",
     "status": "completed"
    },
    "tags": []
   },
   "source": [
    "# Energy Balance Analysis\n",
    "\n",
    "This notebook outlines the steps needed to visualize the energy balance for all the streams in the model.\n",
    "We can use this to analyse the energy flow to/from all the streams over the time span of the optimization.\n",
    "These plots tell us how the `LOAD`s are met, how much energy is being imported/exported, etc."
   ]
  },
  {
   "cell_type": "code",
   "execution_count": null,
   "metadata": {
    "lines_to_next_cell": 2,
    "papermill": {
     "duration": 0.847114,
     "end_time": "2019-10-28T23:04:19.727209",
     "exception": false,
     "start_time": "2019-10-28T23:04:18.880095",
     "status": "completed"
    },
    "tags": []
   },
   "outputs": [],
   "source": [
    "from pyehub.energy_hub.ehub_model import EHubModel\n",
    "from pyehub.outputter import plot_energy_balance"
   ]
  },
  {
   "cell_type": "markdown",
   "metadata": {
    "papermill": {
     "duration": 0.003497,
     "end_time": "2019-10-28T23:04:19.735550",
     "exception": false,
     "start_time": "2019-10-28T23:04:19.732053",
     "status": "completed"
    },
    "tags": []
   },
   "source": [
    "First we load and run a model."
   ]
  },
  {
   "cell_type": "code",
   "execution_count": null,
   "metadata": {
    "papermill": {
     "duration": 0.11149,
     "end_time": "2019-10-28T23:04:19.850972",
     "exception": false,
     "start_time": "2019-10-28T23:04:19.739482",
     "status": "completed"
    },
    "tags": []
   },
   "outputs": [],
   "source": [
    "excel_file = (\n",
    "    \"test_file.xlsx\"  # name of the excel file. [This must be in the current directory]\n",
    ")\n",
    "my_model = EHubModel(\n",
    "    excel=excel_file\n",
    ")  # instantiate our model. Nothing is solved at this point.\n",
    "results = my_model.solve()  # solve the model and get back our results"
   ]
  },
  {
   "cell_type": "markdown",
   "metadata": {
    "papermill": {
     "duration": 0.003667,
     "end_time": "2019-10-28T23:04:19.859243",
     "exception": false,
     "start_time": "2019-10-28T23:04:19.855576",
     "status": "completed"
    },
    "tags": []
   },
   "source": [
    "+ The function  `plot_energy_balance(...)` plots, for every stream, its energy interactions with respective converters, storages, etc.\n",
    "+ Every positive (negative) energy transfer line plot is overlayed over the previous positive (negative) line plot.\n",
    "+ Therefore, the actual amount of energy involved in `i`th plot is the difference between the `i`th and `i-1`th plot.\n",
    "+ Due to overlay, the topmost and bottommost plots for all the streams are mirror images of each other about x-axis. This verifies that energy is balanced for each stream.\n",
    "+ The order in which the line plots are plotted is the order in which they appear in the legend of the figure.\n",
    "+ Pass `my_model` and `results` to this plot function to yield the energy balance plots."
   ]
  },
  {
   "cell_type": "code",
   "execution_count": null,
   "metadata": {
    "papermill": {
     "duration": 1.410569,
     "end_time": "2019-10-28T23:04:21.273584",
     "exception": false,
     "start_time": "2019-10-28T23:04:19.863015",
     "status": "completed"
    },
    "tags": []
   },
   "outputs": [],
   "source": [
    "plot_energy_balance(my_model, results)"
   ]
  },
  {
   "cell_type": "markdown",
   "metadata": {
    "papermill": {
     "duration": 0.007812,
     "end_time": "2019-10-28T23:04:21.289720",
     "exception": false,
     "start_time": "2019-10-28T23:04:21.281908",
     "status": "completed"
    },
    "tags": []
   },
   "source": [
    "`plot_energy_balance(...)` function gives you various options to control properties of the plot (see the docstring [TODO: Add a link to docstring after updating readthedocs.])\n",
    "+ You can specify the size of the plot by passing `size` tuple _[default value is (9,5)]_.\n",
    "+ To change linewidth of the plots, use the `lw` parameter _[default value is 2]_.\n",
    "+ To change the length of dashes constituting the line plot, use `dl` parameter _[default value is 3]_."
   ]
  },
  {
   "cell_type": "code",
   "execution_count": null,
   "metadata": {
    "papermill": {
     "duration": 1.284875,
     "end_time": "2019-10-28T23:04:22.582244",
     "exception": false,
     "start_time": "2019-10-28T23:04:21.297369",
     "status": "completed"
    },
    "tags": []
   },
   "outputs": [],
   "source": [
    "plot_energy_balance(my_model, results, size=(12, 6), lw=3, dl=5)"
   ]
  },
  {
   "cell_type": "code",
   "execution_count": null,
   "metadata": {
    "papermill": {
     "duration": 0.011447,
     "end_time": "2019-10-28T23:04:22.605808",
     "exception": false,
     "start_time": "2019-10-28T23:04:22.594361",
     "status": "completed"
    },
    "tags": []
   },
   "outputs": [],
   "source": []
  }
 ],
 "metadata": {
  "kernelspec": {
   "display_name": "Python 3",
   "language": "python",
   "name": "python3"
  }
 },
 "nbformat": 4,
 "nbformat_minor": 4
}
