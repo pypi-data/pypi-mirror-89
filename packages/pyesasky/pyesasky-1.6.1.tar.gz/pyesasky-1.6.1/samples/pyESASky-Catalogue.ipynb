{
 "cells": [
  {
   "cell_type": "code",
   "execution_count": null,
   "metadata": {},
   "outputs": [],
   "source": [
    "from pyesasky import ESASkyWidget\n",
    "from pyesasky import Catalogue\n",
    "from pyesasky import CatalogueDescriptor\n",
    "from pyesasky import MetadataDescriptor\n",
    "from pyesasky import MetadataType\n",
    "from pyesasky import CooFrame"
   ]
  },
  {
   "cell_type": "code",
   "execution_count": null,
   "metadata": {},
   "outputs": [],
   "source": [
    "# instantiating pyESASky instance\n",
    "esasky = ESASkyWidget()"
   ]
  },
  {
   "cell_type": "code",
   "execution_count": null,
   "metadata": {
    "scrolled": false
   },
   "outputs": [],
   "source": [
    "# loading pyESASky instance\n",
    "esasky"
   ]
  },
  {
   "cell_type": "code",
   "execution_count": null,
   "metadata": {},
   "outputs": [],
   "source": [
    "# Go to the Cosmos field in ESASky (as resolved by SIMBAD):\n",
    "esasky.goToTargetName('Cosmos Field')"
   ]
  },
  {
   "cell_type": "code",
   "execution_count": null,
   "metadata": {},
   "outputs": [],
   "source": [
    "#####################################################\n",
    "# EX.1 creating a user defined catalogue on the fly #\n",
    "#####################################################\n",
    "catalogue = Catalogue('test catalogue name', CooFrame.FRAME_J2000, '#ee2345', 10)"
   ]
  },
  {
   "cell_type": "code",
   "execution_count": null,
   "metadata": {},
   "outputs": [],
   "source": [
    "# adding sources to the catalogue\n",
    "catalogue.addSource('source name A', '150.44963', '2.24640', 1, [{\"name\":\"Flux 1\", \"value\":\"10.5\", \"type\":\"STRING\" },{\"name\":\"Flux 2\", \"value\":\"1.7\", \"type\":\"STRING\" }])\n",
    "catalogue.addSource('source name B', '150.54963', '2.34640', 2, [{\"name\":\"Flux 1\", \"value\":\"11.5\", \"type\":\"STRING\" },{\"name\":\"Flux 2\", \"value\":\"2.7\", \"type\":\"STRING\" }])\n",
    "catalogue.addSource('source name c', '150.34963', '2.44640', 3, [{\"name\":\"Flux 1\", \"value\":\"12.5\", \"type\":\"STRING\" },{\"name\":\"Flux 2\", \"value\":\"0.7\", \"type\":\"STRING\" }])"
   ]
  },
  {
   "cell_type": "code",
   "execution_count": null,
   "metadata": {},
   "outputs": [],
   "source": [
    "# overlay catalogue in pyESASky\n",
    "esasky.overlayCatalogueWithDetails(catalogue)"
   ]
  },
  {
   "cell_type": "code",
   "execution_count": null,
   "metadata": {},
   "outputs": [],
   "source": [
    "############################################\n",
    "# EX.2 importing a catalogue from CSV file #\n",
    "############################################\n",
    "# CatalogueDescriptor('<catName>', '<HTMLcolor>', <lineWidth>, '<idColumn>', '<nameColumn>', '<RAColumn>', '<DecColumn>', Metadata)\n",
    "# where:\n",
    "# - <catName> : name of the catalogue that will be used in pyESASky as label\n",
    "# - <HTMLcolor> : HTML color. It could be a \"Color name\", \"Hex color code\" or \"RGB color code\"\n",
    "# - <lineWidth> : width used to draw sources. From 1 to 10\n",
    "# - <idColumn> : name of the column containing a unique identifier for sources if any. None if not applicable\n",
    "# - <nameColumn> : name of the column with the name of the source\n",
    "# - <RAColumn> : name of the RA column in degrees\n",
    "# - <DecColumn> : name of the Dec column in degrees\n",
    "#  - Metadata : list of pyesasky.pyesasky.MetadataDescriptor in case it has been defined. [] otherwise.\n",
    "catalogueDesc =CatalogueDescriptor('my test', 'yellow', 5, 'id', 'name', 'ra', 'dec', [])"
   ]
  },
  {
   "cell_type": "code",
   "execution_count": null,
   "metadata": {},
   "outputs": [],
   "source": [
    "# parse, import and overlay a catalogue from a CSV\n",
    "esasky.overlayCatalogueFromCSV('./testcat', ',', catalogueDesc, 'J2000')"
   ]
  },
  {
   "cell_type": "code",
   "execution_count": null,
   "metadata": {},
   "outputs": [],
   "source": [
    "###################################################################\n",
    "# EX.3 importing a catalogue from AstropyTable using Gaia archive #\n",
    "###################################################################\n",
    "from astroquery.gaia import Gaia"
   ]
  },
  {
   "cell_type": "code",
   "execution_count": null,
   "metadata": {},
   "outputs": [],
   "source": [
    "job = Gaia.launch_job(\"select top 10\\\n",
    " ra, dec, source_id, designation, ref_epoch,ra_dec_corr,astrometric_n_obs_al,matched_observations,duplicated_source,phot_variable_flag \\\n",
    " from gaiadr2.gaia_source order by source_id\", verbose=True)\n"
   ]
  },
  {
   "cell_type": "code",
   "execution_count": null,
   "metadata": {},
   "outputs": [],
   "source": [
    "myGaiaData = job.get_results()\n",
    "print(myGaiaData)"
   ]
  },
  {
   "cell_type": "code",
   "execution_count": null,
   "metadata": {},
   "outputs": [],
   "source": [
    "job.get_data()"
   ]
  },
  {
   "cell_type": "code",
   "execution_count": null,
   "metadata": {
    "scrolled": false
   },
   "outputs": [],
   "source": [
    "# overlayCatalogueFromAstropyTable('<catName>', '<cooFrame>', <HTMLcolor>, '<(astropy.table)>', '<RAColumn>', '<DecColumn>', '<nameColumn>')\n",
    "# where:\n",
    "# - <catName> : name of the catalogue that will be used in pyESASky as label\n",
    "# - <HTMLcolor> : HTML color. It could be a \"Color name\", \"Hex color code\" or \"RGB color code\"\n",
    "# - <lineWidth> : width used to draw sources. From 1 to 10\n",
    "# - <idColumn> : name of the column containing a unique identifier for sources if any. None if not applicable\n",
    "# - <nameColumn> : name of the column with the name of the source\n",
    "# - <RAColumn> : name of the RA column in degrees\n",
    "# - <DecColumn> : name of the Dec column in degrees\n",
    "\n",
    "esasky.overlayCatalogueFromAstropyTable('Gaia DR2', 'J2000', '#a343ff', 5, myGaiaData, '','','')"
   ]
  },
  {
   "cell_type": "code",
   "execution_count": null,
   "metadata": {},
   "outputs": [],
   "source": [
    "# Import the VizieR Astroquery module\n",
    "from astroquery.vizier import Vizier"
   ]
  },
  {
   "cell_type": "code",
   "execution_count": null,
   "metadata": {},
   "outputs": [],
   "source": [
    "# Search for 'The XMM-Newton survey of the COSMOS field (Brusa+, 2010)':\n",
    "catalog_list = Vizier.find_catalogs('Brusa+, 2010')\n",
    "print({k:v.description for k,v in catalog_list.items()})"
   ]
  },
  {
   "cell_type": "code",
   "execution_count": null,
   "metadata": {},
   "outputs": [],
   "source": [
    "# Get the above list of catalogues:\n",
    "Vizier.ROW_LIMIT = -1\n",
    "catalogs = Vizier.get_catalogs(catalog_list.keys())\n",
    "print(catalogs)"
   ]
  },
  {
   "cell_type": "code",
   "execution_count": null,
   "metadata": {},
   "outputs": [],
   "source": [
    "# Access one table: \n",
    "Brusa = catalogs['J/ApJ/716/348/table2']\n",
    "print(Brusa)"
   ]
  },
  {
   "cell_type": "code",
   "execution_count": null,
   "metadata": {},
   "outputs": [],
   "source": [
    "# Visualise the table in ESASky:\n",
    "esasky.overlayCatalogueFromAstropyTable('Brusa', CooFrame.FRAME_J2000, '#00ff00', 5, Brusa, 'RAJ2000','DEJ2000','Name')"
   ]
  },
  {
   "cell_type": "code",
   "execution_count": null,
   "metadata": {},
   "outputs": [],
   "source": [
    "# Go to the LMC in ESASky (as resolved by SIMBAD):\n",
    "esasky.goToTargetName('LMC')"
   ]
  },
  {
   "cell_type": "code",
   "execution_count": null,
   "metadata": {},
   "outputs": [],
   "source": [
    "# Search for 'The HIZOA-S survey':\n",
    "catalog_list2 = Vizier.find_catalogs('HIZOA-S survey 2016') #HIZOA-S survey 2016\n",
    "print({k:v.description for k,v in catalog_list2.items()})"
   ]
  },
  {
   "cell_type": "code",
   "execution_count": null,
   "metadata": {},
   "outputs": [],
   "source": [
    "# Get the above list of catalogues:\n",
    "Vizier.ROW_LIMIT = -1\n",
    "# Vizier.COLUMN_LIMIT = 20 Can't find the way to get all the columns rather than just the default columns. Going to try the TAP+ module\n",
    "catalog = Vizier.get_catalogs(catalog_list2.keys())\n",
    "print(catalog)"
   ]
  },
  {
   "cell_type": "code",
   "execution_count": null,
   "metadata": {},
   "outputs": [],
   "source": [
    "# Access the catalogue table: \n",
    "HIZOA = catalog['J/AJ/151/52/table2'] #\n",
    "print(HIZOA)"
   ]
  },
  {
   "cell_type": "code",
   "execution_count": null,
   "metadata": {},
   "outputs": [],
   "source": [
    "# Visualise the table in ESASky:\n",
    "###### NOTE: NOT PLOTTING GALACTIC COORDS CORRECTLY\n",
    "esasky.overlayCatalogueFromAstropyTable('HIZOA', CooFrame.FRAME_GALACTIC, '#0000ff', 7, HIZOA, 'GLON','GLAT','HIZOA')"
   ]
  },
  {
   "cell_type": "code",
   "execution_count": null,
   "metadata": {},
   "outputs": [],
   "source": [
    "# TRYING THE SAME BUT USING THE TAP/TAP+ ASTROQUERY MODULE:\n",
    "# Import the TAP/TAP+ Astroquery module\n",
    "from astroquery.utils.tap.core import TapPlus"
   ]
  },
  {
   "cell_type": "code",
   "execution_count": null,
   "metadata": {},
   "outputs": [],
   "source": [
    "vizier = TapPlus(url=\"http://tapvizier.u-strasbg.fr/TAPVizieR/tap\")"
   ]
  },
  {
   "cell_type": "code",
   "execution_count": null,
   "metadata": {},
   "outputs": [],
   "source": [
    "tables = vizier.load_tables(only_names=True)\n",
    "for table in (tables):\n",
    "  print(table.get_qualified_name())"
   ]
  },
  {
   "cell_type": "code",
   "execution_count": null,
   "metadata": {},
   "outputs": [],
   "source": [
    "#ONLY TAP+ compatible, so doesn't seem to work\n",
    "table = vizier.load_table('viz7.\"J/AJ/128/16/table2\"')\n",
    "for column in (table.get_columns()):\n",
    "    print(column.get_name())"
   ]
  },
  {
   "cell_type": "code",
   "execution_count": null,
   "metadata": {},
   "outputs": [],
   "source": [
    "# This works in TOPCAT to download the whole table: SELECT * FROM \"J/AJ/128/16/table2\"\n",
    "# This also works in TOPCAT : SELECT * FROM viz7.\"J/AJ/128/16/table2\"\n",
    "\n",
    "job = vizier.launch_job(\"SELECT * FROM \"'viz7.\"J/AJ/128/16/table2\"'\"\")\n",
    "#This also works:\n",
    "#job = vizier.launch_job(\"SELECT * FROM \"+str('viz7.\"J/AJ/128/16/table2\"')+\"\")\n",
    "print(job)"
   ]
  },
  {
   "cell_type": "code",
   "execution_count": null,
   "metadata": {},
   "outputs": [],
   "source": [
    "Koribalski = job.get_results()\n",
    "print(Koribalski['HIPASS', 'RAJ2000', 'DEJ2000'])"
   ]
  },
  {
   "cell_type": "code",
   "execution_count": null,
   "metadata": {},
   "outputs": [],
   "source": [
    "# Visualise the table in ESASky:\n",
    "esasky.overlayCatalogueFromAstropyTable('Koribalski', CooFrame.FRAME_J2000, '#ff0000', 6, Koribalski, 'RAJ2000','DEJ2000','HIPASS')"
   ]
  },
  {
   "cell_type": "code",
   "execution_count": null,
   "metadata": {},
   "outputs": [],
   "source": []
  }
 ],
 "metadata": {
  "kernelspec": {
   "display_name": "Python 3",
   "language": "python",
   "name": "python3"
  },
  "language_info": {
   "codemirror_mode": {
    "name": "ipython",
    "version": 3
   },
   "file_extension": ".py",
   "mimetype": "text/x-python",
   "name": "python",
   "nbconvert_exporter": "python",
   "pygments_lexer": "ipython3",
   "version": "3.7.3"
  }
 },
 "nbformat": 4,
 "nbformat_minor": 2
}
