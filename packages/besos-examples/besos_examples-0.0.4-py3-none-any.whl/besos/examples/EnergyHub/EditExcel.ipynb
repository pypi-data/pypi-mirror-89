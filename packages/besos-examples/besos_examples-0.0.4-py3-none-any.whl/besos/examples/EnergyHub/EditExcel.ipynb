{
 "cells": [
  {
   "cell_type": "markdown",
   "metadata": {
    "papermill": {
     "duration": 0.034221,
     "end_time": "2019-10-28T23:03:50.573918",
     "exception": false,
     "start_time": "2019-10-28T23:03:50.539697",
     "status": "completed"
    },
    "tags": []
   },
   "source": [
    "# Editing the Excel model inside a notebook\n",
    "\n",
    "\n",
    "This notebook displays each sheet of the Excel input file.\n",
    "These sheets are interactive: edit them inline by clicking on the cells.\n",
    "Specify the excel filenames below.\n",
    "\n",
    "In the longer term, notebooks will become the main way of specifying models and the Excel format will be depreciated."
   ]
  },
  {
   "cell_type": "code",
   "execution_count": null,
   "metadata": {
    "lines_to_next_cell": 2,
    "papermill": {
     "duration": 0.598839,
     "end_time": "2019-10-28T23:03:51.196693",
     "exception": false,
     "start_time": "2019-10-28T23:03:50.597854",
     "status": "completed"
    },
    "tags": []
   },
   "outputs": [],
   "source": [
    "import pandas as pd\n",
    "from ipysheet import from_dataframe, to_dataframe\n",
    "from openpyxl import load_workbook"
   ]
  },
  {
   "cell_type": "code",
   "execution_count": null,
   "metadata": {
    "papermill": {
     "duration": 0.344325,
     "end_time": "2019-10-28T23:03:51.555542",
     "exception": false,
     "start_time": "2019-10-28T23:03:51.211217",
     "status": "completed"
    },
    "tags": []
   },
   "outputs": [],
   "source": [
    "excel_file = \"test_file.xlsx\"  # specify the name of your input excel file\n",
    "book = load_workbook(excel_file)\n",
    "\n",
    "reader = pd.ExcelWriter(excel_file, engine=\"openpyxl\")\n",
    "writer = pd.ExcelWriter(\n",
    "    excel_file, engine=\"openpyxl\", options={\"strings_to_numbers\": True}\n",
    ")\n",
    "writer.book = book\n",
    "writer.sheets = dict((ws.title, ws) for ws in book.worksheets)\n",
    "sheet_names = [\n",
    "    \"General\",\n",
    "    \"Capacities\",\n",
    "    \"Streams\",\n",
    "    \"Converters\",\n",
    "    \"Storages\",\n",
    "    \"Time series\",\n",
    "    \"System types\",\n",
    "]\n",
    "\n",
    "dfr = []\n",
    "sheetr = []\n",
    "i = 0\n",
    "# loop over the sheets by name and add them as dataframes by number\n",
    "for current_sheet in sheet_names:\n",
    "    dfr.append(pd.read_excel(\"test_file.xlsx\", sheet_name=current_sheet))\n",
    "    dfr[i] = dfr[i].fillna(\"\")\n",
    "    sheetr.append(from_dataframe(dfr[i]))\n",
    "    i += 1"
   ]
  },
  {
   "cell_type": "markdown",
   "metadata": {
    "papermill": {
     "duration": 0.010551,
     "end_time": "2019-10-28T23:03:51.576079",
     "exception": false,
     "start_time": "2019-10-28T23:03:51.565528",
     "status": "completed"
    },
    "tags": []
   },
   "source": [
    "To save changes to a sheet, run the cell just below.\n",
    "\n",
    "Important points to note when working with `ipysheets`:\n",
    "+ `ipysheets` takes some time to save the changes from the edit to memory. These are then saved to the excel file from memory using the 'save' cell.\n",
    "+ Review the changes to memory by rerunning the `ipysheets` cell again to make sure the changes persist in the sheet. Repeat if change isn't seen.\n",
    "+ When your change persists, run the 'save' cell. After executing, a `DataFrame` is displayed below to reflect the changes made to the excel file.\n",
    "+ `ipysheets` can't edit column headings, so we keep a blank row for this, don't remove it."
   ]
  },
  {
   "cell_type": "markdown",
   "metadata": {
    "papermill": {
     "duration": 0.009542,
     "end_time": "2019-10-28T23:03:51.596436",
     "exception": false,
     "start_time": "2019-10-28T23:03:51.586894",
     "status": "completed"
    },
    "tags": []
   },
   "source": [
    "## Capacities"
   ]
  },
  {
   "cell_type": "code",
   "execution_count": null,
   "metadata": {
    "papermill": {
     "duration": 0.018598,
     "end_time": "2019-10-28T23:03:51.623805",
     "exception": false,
     "start_time": "2019-10-28T23:03:51.605207",
     "status": "completed"
    },
    "tags": []
   },
   "outputs": [],
   "source": [
    "sheetr[1]"
   ]
  },
  {
   "cell_type": "code",
   "execution_count": null,
   "metadata": {
    "papermill": {
     "duration": 0.086756,
     "end_time": "2019-10-28T23:03:51.718538",
     "exception": false,
     "start_time": "2019-10-28T23:03:51.631782",
     "status": "completed"
    },
    "tags": []
   },
   "outputs": [],
   "source": [
    "# Run to save changes\n",
    "df_1 = to_dataframe(sheetr[1])\n",
    "df_1.to_excel(\n",
    "    writer, sheet_name=sheet_names[1], index=False, engine=\"openpyxl\", na_rep=\"\"\n",
    ")\n",
    "writer.save()\n",
    "df_1"
   ]
  },
  {
   "cell_type": "markdown",
   "metadata": {
    "papermill": {
     "duration": 0.014883,
     "end_time": "2019-10-28T23:03:51.746269",
     "exception": false,
     "start_time": "2019-10-28T23:03:51.731386",
     "status": "completed"
    },
    "tags": []
   },
   "source": [
    "## Streams"
   ]
  },
  {
   "cell_type": "code",
   "execution_count": null,
   "metadata": {
    "papermill": {
     "duration": 0.023951,
     "end_time": "2019-10-28T23:03:51.784148",
     "exception": false,
     "start_time": "2019-10-28T23:03:51.760197",
     "status": "completed"
    },
    "tags": []
   },
   "outputs": [],
   "source": [
    "sheetr[2]"
   ]
  },
  {
   "cell_type": "code",
   "execution_count": null,
   "metadata": {
    "papermill": {
     "duration": 0.080589,
     "end_time": "2019-10-28T23:03:51.878401",
     "exception": false,
     "start_time": "2019-10-28T23:03:51.797812",
     "status": "completed"
    },
    "tags": []
   },
   "outputs": [],
   "source": [
    "df_2 = to_dataframe(sheetr[2])\n",
    "df_2.to_excel(\n",
    "    writer, sheet_name=sheet_names[2], index=False, engine=\"openpyxl\", na_rep=\"\"\n",
    ")\n",
    "writer.save()\n",
    "df_2"
   ]
  },
  {
   "cell_type": "markdown",
   "metadata": {
    "papermill": {
     "duration": 0.009424,
     "end_time": "2019-10-28T23:03:51.897885",
     "exception": false,
     "start_time": "2019-10-28T23:03:51.888461",
     "status": "completed"
    },
    "tags": []
   },
   "source": [
    "## Converters"
   ]
  },
  {
   "cell_type": "code",
   "execution_count": null,
   "metadata": {
    "papermill": {
     "duration": 0.018245,
     "end_time": "2019-10-28T23:03:51.926009",
     "exception": false,
     "start_time": "2019-10-28T23:03:51.907764",
     "status": "completed"
    },
    "tags": []
   },
   "outputs": [],
   "source": [
    "sheetr[3]"
   ]
  },
  {
   "cell_type": "code",
   "execution_count": null,
   "metadata": {
    "papermill": {
     "duration": 0.062605,
     "end_time": "2019-10-28T23:03:51.998410",
     "exception": false,
     "start_time": "2019-10-28T23:03:51.935805",
     "status": "completed"
    },
    "tags": []
   },
   "outputs": [],
   "source": [
    "# Run to save changes\n",
    "df_3 = to_dataframe(sheetr[3])\n",
    "df_3.to_excel(\n",
    "    writer, sheet_name=sheet_names[3], index=False, engine=\"openpyxl\", na_rep=\"\"\n",
    ")\n",
    "writer.save()\n",
    "df_3"
   ]
  },
  {
   "cell_type": "markdown",
   "metadata": {
    "papermill": {
     "duration": 0.01171,
     "end_time": "2019-10-28T23:03:52.024271",
     "exception": false,
     "start_time": "2019-10-28T23:03:52.012561",
     "status": "completed"
    },
    "tags": []
   },
   "source": [
    "## Storages"
   ]
  },
  {
   "cell_type": "code",
   "execution_count": null,
   "metadata": {
    "papermill": {
     "duration": 0.02398,
     "end_time": "2019-10-28T23:03:52.062874",
     "exception": false,
     "start_time": "2019-10-28T23:03:52.038894",
     "status": "completed"
    },
    "tags": []
   },
   "outputs": [],
   "source": [
    "sheetr[4]"
   ]
  },
  {
   "cell_type": "code",
   "execution_count": null,
   "metadata": {
    "papermill": {
     "duration": 0.081805,
     "end_time": "2019-10-28T23:03:52.160655",
     "exception": false,
     "start_time": "2019-10-28T23:03:52.078850",
     "status": "completed"
    },
    "tags": []
   },
   "outputs": [],
   "source": [
    "# Run to save changes\n",
    "df_4 = to_dataframe(sheetr[4])\n",
    "df_4.to_excel(\n",
    "    writer, sheet_name=sheet_names[4], index=False, engine=\"openpyxl\", na_rep=\"\"\n",
    ")\n",
    "writer.save()\n",
    "df_4"
   ]
  },
  {
   "cell_type": "markdown",
   "metadata": {
    "papermill": {
     "duration": 0.015446,
     "end_time": "2019-10-28T23:03:52.194037",
     "exception": false,
     "start_time": "2019-10-28T23:03:52.178591",
     "status": "completed"
    },
    "tags": []
   },
   "source": [
    "## Time Series"
   ]
  },
  {
   "cell_type": "code",
   "execution_count": null,
   "metadata": {
    "papermill": {
     "duration": 0.033177,
     "end_time": "2019-10-28T23:03:52.243857",
     "exception": false,
     "start_time": "2019-10-28T23:03:52.210680",
     "status": "completed"
    },
    "tags": []
   },
   "outputs": [],
   "source": [
    "sheetr[5]"
   ]
  },
  {
   "cell_type": "code",
   "execution_count": null,
   "metadata": {
    "papermill": {
     "duration": 0.075534,
     "end_time": "2019-10-28T23:03:52.342226",
     "exception": false,
     "start_time": "2019-10-28T23:03:52.266692",
     "status": "completed"
    },
    "tags": []
   },
   "outputs": [],
   "source": [
    "# Run to save changes\n",
    "df_5 = to_dataframe(sheetr[5])\n",
    "df_5.to_excel(\n",
    "    writer, sheet_name=sheet_names[5], index=False, engine=\"openpyxl\", na_rep=\"\"\n",
    ")\n",
    "writer.save()\n",
    "df_5"
   ]
  }
 ],
 "metadata": {
  "kernelspec": {
   "display_name": "Python 3",
   "language": "python",
   "name": "python3"
  }
 },
 "nbformat": 4,
 "nbformat_minor": 4
}
