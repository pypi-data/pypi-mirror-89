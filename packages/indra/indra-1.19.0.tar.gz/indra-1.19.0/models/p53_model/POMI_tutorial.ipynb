{
 "cells": [
  {
   "cell_type": "markdown",
   "metadata": {},
   "source": [
    "# Introduction to INDRA\n",
    "## Case study: modelling p53 oscillations"
   ]
  },
  {
   "cell_type": "markdown",
   "metadata": {},
   "source": [
    "Here we demonstrate building a dynamical model of a molecular mechanism automatically from natural language. We look at a small system describing the oscillatory dynamics of p53 upon double-stranded DNA damage, as described in [Purvis and Lahav (2013)](https://www.ncbi.nlm.nih.gov/pmc/articles/PMC3707615/), Figure 5B. Our goal will be to describe the mechanisms in this diagram in English and automatically read and assemble it into a model. The diagram in Purvis et al. simply shows activation and ihibition effects. Here we specified detailed mechanisms that are not explicitly included in the figure. Interestingly, we found that we needed to include some additional mechanisms that were not in the original diagram to reporduce the oscillatory dynamics, an example being the negative regulation of Mdm2 and Wip1 which is left out for visual clarity, but still plays a major role in dynamics. \n",
    "\n",
    "Below is the text describing the mechanisms we want to model."
   ]
  },
  {
   "cell_type": "code",
   "execution_count": null,
   "metadata": {
    "collapsed": true
   },
   "outputs": [],
   "source": [
    "model_text = \\\n",
    "'''\n",
    "Active ATM phosphorylates ATM, and phosphorylated ATM is active.\n",
    "Active ATM activates p53.\n",
    "p53 is transcribed and active p53 transcribes MDM2.\n",
    "MDM2 is degraded.\n",
    "Active p53 activates Wip1.\n",
    "Active Wip1 inactivates p53.\n",
    "Active Wip1 dephosphorylates ATM.\n",
    "MDM2 ubiquitinates p53 and ubiquitinated p53 is degraded.\n",
    "HIPK2 inactivates Wip1.\n",
    "'''"
   ]
  },
  {
   "cell_type": "markdown",
   "metadata": {},
   "source": [
    "## Processing the text using TRIPS\n",
    "\n",
    "We use INDRA's API to the TRIPS natural language processing system (http://trips.ihmc.us/parser/cgi/drum) developed by IHMC to read sentences describing molecular mechanisms and extract them as INDRA statements."
   ]
  },
  {
   "cell_type": "code",
   "execution_count": null,
   "metadata": {
    "scrolled": true
   },
   "outputs": [],
   "source": [
    "from indra.sources import trips"
   ]
  },
  {
   "cell_type": "markdown",
   "metadata": {},
   "source": [
    "We can pass the block of text defined above to the TRIPS processor:"
   ]
  },
  {
   "cell_type": "code",
   "execution_count": null,
   "metadata": {},
   "outputs": [],
   "source": [
    "tp = trips.process_text(model_text)"
   ]
  },
  {
   "cell_type": "markdown",
   "metadata": {},
   "source": [
    "Here tp is a TripsProcessor object which contains the extacted INDRA Statements as a list. We can inspect the statements extracted by TRIPS to make sure that all of the information was extracted."
   ]
  },
  {
   "cell_type": "code",
   "execution_count": null,
   "metadata": {},
   "outputs": [],
   "source": [
    "tp.statements"
   ]
  },
  {
   "cell_type": "markdown",
   "metadata": {},
   "source": [
    "## Assembling a PySB model"
   ]
  },
  {
   "cell_type": "markdown",
   "metadata": {},
   "source": [
    "INDRA Statements can be assembled into a number of formats and models for simulation or visualization. Next, we will assemble the statements into a PySB model which we will parametrize and run. To do this, we start by importing INDRA's PysbAssembler"
   ]
  },
  {
   "cell_type": "code",
   "execution_count": null,
   "metadata": {},
   "outputs": [],
   "source": [
    "from indra.assemblers.pysb import PysbAssembler"
   ]
  },
  {
   "cell_type": "markdown",
   "metadata": {},
   "source": [
    "Next, we instantiate a PySB assembler object."
   ]
  },
  {
   "cell_type": "code",
   "execution_count": null,
   "metadata": {
    "collapsed": true
   },
   "outputs": [],
   "source": [
    "pa = PysbAssembler()"
   ]
  },
  {
   "cell_type": "markdown",
   "metadata": {},
   "source": [
    "The assembler takes a list of INDRA Statements as input in order to build a model."
   ]
  },
  {
   "cell_type": "code",
   "execution_count": null,
   "metadata": {
    "collapsed": true
   },
   "outputs": [],
   "source": [
    "pa.add_statements(tp.statements)"
   ]
  },
  {
   "cell_type": "markdown",
   "metadata": {},
   "source": [
    "We finally call the assembler's `make_model` method to produce the PySB model."
   ]
  },
  {
   "cell_type": "code",
   "execution_count": null,
   "metadata": {},
   "outputs": [],
   "source": [
    "model = pa.make_model()\n",
    "model.name = 'p53_DSB_model'"
   ]
  },
  {
   "cell_type": "markdown",
   "metadata": {},
   "source": [
    "## Simulating the model"
   ]
  },
  {
   "cell_type": "markdown",
   "metadata": {},
   "source": [
    "We next parameterize the model for dynamical simulation and set up active p53 as an observable that we will plot. "
   ]
  },
  {
   "cell_type": "code",
   "execution_count": null,
   "metadata": {
    "collapsed": true
   },
   "outputs": [],
   "source": [
    "from pysb import Parameter, Observable"
   ]
  },
  {
   "cell_type": "markdown",
   "metadata": {},
   "source": [
    "We add some initial active ATM to start off the reaction network."
   ]
  },
  {
   "cell_type": "code",
   "execution_count": null,
   "metadata": {},
   "outputs": [],
   "source": [
    "model.add_component(Parameter('ATMa_0', 1))\n",
    "atm_atr_m = model.monomers['ATM']\n",
    "model.initial(atm_atr_m(phospho='p'),model.parameters['ATMa_0'])"
   ]
  },
  {
   "cell_type": "markdown",
   "metadata": {},
   "source": [
    "Below are the parameters we define for the simulation (these override the nominal parameters automatically defined by INDRA's PySB Assembler)."
   ]
  },
  {
   "cell_type": "code",
   "execution_count": null,
   "metadata": {
    "scrolled": true
   },
   "outputs": [],
   "source": [
    "parameters = {\n",
    "    \"kf_aa_phosphorylation_1\": 5e-07,\n",
    "    \"kf_pa_dephosphorylation_1\": 1e-05,\n",
    "    \"kf_mt_ubiquitination_1\": 1e-06,\n",
    "    \"kf_at_act_1\": 1e-07,\n",
    "    \"kf_tp_act_1\": 1e-07,\n",
    "    \"kf_pt_act_1\": 5e-07,\n",
    "    \"kf_hp_act_1\": 1e-07,\n",
    "    \"kf_m_deg_1\": 0.08,\n",
    "    \"kf_t_deg_1\": 2e-05,\n",
    "    \"kf_t_synth_1\": 2.0,\n",
    "    \"kf_tm_synth_1\": 0.02,\n",
    "    \"HIPK2_0\": 10000.0,\n",
    "    \"MDM2_0\": 0,\n",
    "    \"ATM_0\": 10000.0,\n",
    "    \"TP53_0\": 10000.0,\n",
    "    \"PPM1D_0\": 10000.0,\n",
    "    \"ATMa_0\": 1.0,\n",
    "}\n",
    "\n",
    "for name, value in parameters.items():\n",
    "    model.parameters[name].value = value"
   ]
  },
  {
   "cell_type": "markdown",
   "metadata": {},
   "source": [
    "Now we set up an observable which monitors the amount of active p53 over time in order to then be able to plot this quantity. "
   ]
  },
  {
   "cell_type": "code",
   "execution_count": null,
   "metadata": {},
   "outputs": [],
   "source": [
    "# Add active p53 observable\n",
    "p53 = model.monomers['TP53']\n",
    "obs = Observable('p53_active', p53(activity='active'))\n",
    "model.add_component(obs)"
   ]
  },
  {
   "cell_type": "markdown",
   "metadata": {},
   "source": [
    "We want to simulate the model over a relevant length of time: 24 hours, defined in seconds."
   ]
  },
  {
   "cell_type": "code",
   "execution_count": null,
   "metadata": {
    "collapsed": true
   },
   "outputs": [],
   "source": [
    "import numpy as np\n",
    "\n",
    "sim_hours = 24\n",
    "ts = np.linspace(0, sim_hours*3600, sim_hours*60)"
   ]
  },
  {
   "cell_type": "markdown",
   "metadata": {},
   "source": [
    "We now instantiate a numerical ODE solver and run it with the model for the specified time span."
   ]
  },
  {
   "cell_type": "code",
   "execution_count": null,
   "metadata": {
    "collapsed": true
   },
   "outputs": [],
   "source": [
    "from pysb.integrate import Solver\n",
    "\n",
    "solver = Solver(model, ts)\n",
    "solver.run()"
   ]
  },
  {
   "cell_type": "markdown",
   "metadata": {},
   "source": [
    "Finally, we plot the time course of active p53."
   ]
  },
  {
   "cell_type": "code",
   "execution_count": null,
   "metadata": {},
   "outputs": [],
   "source": [
    "import matplotlib.pyplot as plt\n",
    "%matplotlib inline\n",
    "\n",
    "plt.figure()\n",
    "plt.plot(ts, solver.yobs['p53_active'], 'r')\n",
    "plt.xticks([])\n",
    "plt.xlabel('Time (a.u.)')\n",
    "plt.ylabel('Active p53')\n",
    "plt.yticks([])"
   ]
  }
 ],
 "metadata": {
  "anaconda-cloud": {},
  "kernelspec": {
   "display_name": "Python 3",
   "language": "python",
   "name": "python3"
  },
  "language_info": {
   "codemirror_mode": {
    "name": "ipython",
    "version": 3
   },
   "file_extension": ".py",
   "mimetype": "text/x-python",
   "name": "python",
   "nbconvert_exporter": "python",
   "pygments_lexer": "ipython3",
   "version": "3.5.2"
  }
 },
 "nbformat": 4,
 "nbformat_minor": 1
}
