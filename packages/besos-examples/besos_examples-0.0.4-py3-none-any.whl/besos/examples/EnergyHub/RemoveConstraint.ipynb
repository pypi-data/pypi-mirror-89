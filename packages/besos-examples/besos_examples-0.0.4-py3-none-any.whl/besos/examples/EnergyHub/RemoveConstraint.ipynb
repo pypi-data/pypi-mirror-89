{
 "cells": [
  {
   "cell_type": "markdown",
   "metadata": {
    "papermill": {
     "duration": 0.010054,
     "end_time": "2019-10-28T23:04:13.411010",
     "exception": false,
     "start_time": "2019-10-28T23:04:13.400956",
     "status": "completed"
    },
    "tags": []
   },
   "source": [
    "# Removing an existing constraint\n",
    "\n",
    "This notebook outlines the steps to exclude an existing constraint from the model."
   ]
  },
  {
   "cell_type": "code",
   "execution_count": null,
   "metadata": {
    "papermill": {
     "duration": 0.889402,
     "end_time": "2019-10-28T23:04:14.311202",
     "exception": false,
     "start_time": "2019-10-28T23:04:13.421800",
     "status": "completed"
    },
    "tags": []
   },
   "outputs": [],
   "source": [
    "from pyehub.energy_hub.ehub_model import EHubModel\n",
    "from pyehub.energy_hub.utils import constraint_list\n",
    "from pyehub.outputter import pretty_print"
   ]
  },
  {
   "cell_type": "markdown",
   "metadata": {
    "papermill": {
     "duration": 0.003189,
     "end_time": "2019-10-28T23:04:14.318657",
     "exception": false,
     "start_time": "2019-10-28T23:04:14.315468",
     "status": "completed"
    },
    "tags": []
   },
   "source": [
    "We will inherit the `EHubModel` class to build a custom model.\n",
    "The idea is that we will exclude a constraint from the new model and the rest of the model will continue to work as it should.\n",
    "+ Extend the `EHubModel` class.\n",
    "+ Put the type of constraint decorator you want to be excluded. Here we exclude a constraint of type `constraint_list`(a list of constraints). To exclude one of type `constraint`, just use `@constraint()`.\n",
    "+ As an argument to the decorator, pass `enabled = False`.\n",
    "+ Define the constraint to be excluded from the model.\n",
    "+ This constraint will no longer be applied when you solve the child model."
   ]
  },
  {
   "cell_type": "code",
   "execution_count": null,
   "metadata": {
    "papermill": {
     "duration": 0.009166,
     "end_time": "2019-10-28T23:04:14.331133",
     "exception": false,
     "start_time": "2019-10-28T23:04:14.321967",
     "status": "completed"
    },
    "tags": []
   },
   "outputs": [],
   "source": [
    "class MyModel(EHubModel):\n",
    "    \"\"\"\n",
    "    This is a subclass of the original EHubModel.\n",
    "\n",
    "    We create a subclass so that we can modify the superclass (or parent class) without modifying the superclass's source code.\n",
    "\n",
    "    For this tutorial, say we want to remove the capacity bounds constraint(say).\n",
    "    \"\"\"\n",
    "\n",
    "    # We disable the constraint by using `enabled=False` in the function decorator's arguments\n",
    "    @constraint_list(enabled=False)\n",
    "    def capacity_bounds(self):\n",
    "        \"\"\"Now this constraint won't be used.\"\"\"\n",
    "        # We can test this by raising an Exception and then testing if we caught it later on.\n",
    "        # If this constraint is not disabled, we'll get an Exception due to the execution of the following statement.\n",
    "        raise Exception"
   ]
  },
  {
   "cell_type": "markdown",
   "metadata": {
    "papermill": {
     "duration": 0.003138,
     "end_time": "2019-10-28T23:04:14.337368",
     "exception": false,
     "start_time": "2019-10-28T23:04:14.334230",
     "status": "completed"
    },
    "tags": []
   },
   "source": [
    "Now we load and run a model."
   ]
  },
  {
   "cell_type": "code",
   "execution_count": null,
   "metadata": {
    "papermill": {
     "duration": 0.194104,
     "end_time": "2019-10-28T23:04:14.537112",
     "exception": false,
     "start_time": "2019-10-28T23:04:14.343008",
     "status": "completed"
    },
    "tags": []
   },
   "outputs": [],
   "source": [
    "excel_file = \"test_file_all_constraints_work.xlsx\"  # name of the excel file. [This must be in the current directory]\n",
    "my_model = MyModel(\n",
    "    excel=excel_file\n",
    ")  # instantiate our model. Nothing is solved at this point.\n",
    "results = my_model.solve()  # solve the model and get back our results\n",
    "pretty_print(results)  # print the results to the console"
   ]
  },
  {
   "cell_type": "code",
   "execution_count": null,
   "metadata": {
    "papermill": {
     "duration": 0.003443,
     "end_time": "2019-10-28T23:04:14.545116",
     "exception": false,
     "start_time": "2019-10-28T23:04:14.541673",
     "status": "completed"
    },
    "tags": []
   },
   "outputs": [],
   "source": []
  }
 ],
 "metadata": {
  "kernelspec": {
   "display_name": "Python 3",
   "language": "python",
   "name": "python3"
  }
 },
 "nbformat": 4,
 "nbformat_minor": 4
}
