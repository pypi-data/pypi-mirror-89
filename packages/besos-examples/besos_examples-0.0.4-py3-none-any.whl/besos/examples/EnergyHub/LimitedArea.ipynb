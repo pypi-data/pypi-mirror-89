{
 "cells": [
  {
   "cell_type": "markdown",
   "metadata": {
    "papermill": {
     "duration": 0.010409,
     "end_time": "2019-10-28T23:03:47.832200",
     "exception": false,
     "start_time": "2019-10-28T23:03:47.821791",
     "status": "completed"
    },
    "tags": []
   },
   "source": [
    "# Rooftop constraint\n",
    "\n",
    "This notebook incorporates a roof area constraint: The total area of all the converters occupying roof area must be less than the total area available on the roof."
   ]
  },
  {
   "cell_type": "code",
   "execution_count": null,
   "metadata": {
    "lines_to_next_cell": 2,
    "papermill": {
     "duration": 0.905487,
     "end_time": "2019-10-28T23:03:48.750168",
     "exception": false,
     "start_time": "2019-10-28T23:03:47.844681",
     "status": "completed"
    },
    "tags": []
   },
   "outputs": [],
   "source": [
    "from pyehub.energy_hub.ehub_model import EHubModel\n",
    "from pyehub.energy_hub.utils import constraint\n",
    "from pyehub.outputter import pretty_print\n",
    "\n",
    "from pylp import RealVariable"
   ]
  },
  {
   "cell_type": "markdown",
   "metadata": {
    "lines_to_next_cell": 0,
    "papermill": {
     "duration": 0.004486,
     "end_time": "2019-10-28T23:03:48.760629",
     "exception": false,
     "start_time": "2019-10-28T23:03:48.756143",
     "status": "completed"
    },
    "tags": []
   },
   "source": [
    "+ Specify the available roof area.\n",
    "+ Inherit the `EHubModel` class to build a custom model.\n",
    "+ Specify the Roof-Area constraint in this new model:\n",
    "    + precede the roof-area constraint function by `@constraint()` decorator. _[This is how the model recognizes a constraint]_\n",
    "    + make `roof_area_per_unit_capacity`, which is a `dictionary` containing the area occupied by roof-cnverters per unit capacity of the tech.\n",
    "    + calculate `total_roof_area` occupied by all roof-converters by summing up products of `roof_area_per_unit_capacity` and `capacities` ranging for all roof-converters.\n",
    "    + Impose the Roof-Area constraint."
   ]
  },
  {
   "cell_type": "code",
   "execution_count": null,
   "metadata": {
    "papermill": {
     "duration": 0.012751,
     "end_time": "2019-10-28T23:03:48.778182",
     "exception": false,
     "start_time": "2019-10-28T23:03:48.765431",
     "status": "completed"
    },
    "tags": []
   },
   "outputs": [],
   "source": [
    "MAX_ROOF_AREA = 80  # available roof area\n",
    "\n",
    "\n",
    "class RoofModel(EHubModel):\n",
    "    \"\"\"\n",
    "    This is a subclass of EHubModel with roof constraints.\n",
    "    \"\"\"\n",
    "\n",
    "    @constraint()\n",
    "    def roof_tech_area_below_max(self):\n",
    "        \"\"\" Ensure the roof techs are taking up less area than there is roof.\n",
    "        \"\"\"\n",
    "        # The following dictionary contains the 'area [m2] per unit capacity [kWp]'\n",
    "        roof_area_per_unit_capacity = {\"PV\": 40, \"ST\": 5}\n",
    "\n",
    "        # multiply roof-area-per-unit-capacity by the capacity for all listed technologies and sum\n",
    "        total_roof_area = sum(\n",
    "            (self.capacities[tech_name]) * (roof_area_per_unit_capacity[tech_name])\n",
    "            for tech_name in roof_area_per_unit_capacity\n",
    "        )\n",
    "\n",
    "        # return the constraint that this variable <= available area\n",
    "        return total_roof_area <= MAX_ROOF_AREA"
   ]
  },
  {
   "cell_type": "markdown",
   "metadata": {
    "papermill": {
     "duration": 0.00467,
     "end_time": "2019-10-28T23:03:48.787310",
     "exception": false,
     "start_time": "2019-10-28T23:03:48.782640",
     "status": "completed"
    },
    "tags": []
   },
   "source": [
    "Now we load and run a model."
   ]
  },
  {
   "cell_type": "code",
   "execution_count": null,
   "metadata": {
    "papermill": {
     "duration": 0.20254,
     "end_time": "2019-10-28T23:03:48.994921",
     "exception": false,
     "start_time": "2019-10-28T23:03:48.792381",
     "status": "completed"
    },
    "tags": []
   },
   "outputs": [],
   "source": [
    "excel_file = \"test_file_all_constraints_work.xlsx\"  # name of the excel file. [This must be in the current directory]\n",
    "my_model = RoofModel(\n",
    "    excel=excel_file\n",
    ")  # instantiate our model. Nothing is solved at this point.\n",
    "results = my_model.solve()  # solve the model and get back our results\n",
    "pretty_print(results)  # print the results to the console"
   ]
  },
  {
   "cell_type": "markdown",
   "metadata": {
    "papermill": {
     "duration": 0.005232,
     "end_time": "2019-10-28T23:03:49.007655",
     "exception": false,
     "start_time": "2019-10-28T23:03:49.002423",
     "status": "completed"
    },
    "tags": []
   },
   "source": [
    "# Tracking the roof area\n",
    "\n",
    "\n",
    "To keep track of the roof area used we build a tracking constraint that will track the area. Then add an additional constraint to contrain the tracking constraint.\n",
    "\n",
    "By adding a variable to track the roof area it will be stored in the output file."
   ]
  },
  {
   "cell_type": "code",
   "execution_count": null,
   "metadata": {
    "papermill": {
     "duration": 0.015473,
     "end_time": "2019-10-28T23:03:49.029216",
     "exception": false,
     "start_time": "2019-10-28T23:03:49.013743",
     "status": "completed"
    },
    "tags": []
   },
   "outputs": [],
   "source": [
    "MAX_ROOF_AREA = 80  # available roof area\n",
    "\n",
    "\n",
    "class RoofModel(EHubModel):\n",
    "    \"\"\"\n",
    "    This is a subclass of EHubModel with roof constraints.\n",
    "    \"\"\"\n",
    "\n",
    "    def __init__(\n",
    "        self, *, excel=None, request=None, max_carbon=0, MAX_ROOF_AREA=MAX_ROOF_AREA\n",
    "    ):\n",
    "        super().__init__(excel=excel, request=request)\n",
    "        self.MAX_ROOF_AREA = MAX_ROOF_AREA\n",
    "        # The following dictionary contains the 'area [m2] per unit capacity [kWp]'\n",
    "        self.area_per_capacity = {\"PV\": 40, \"ST\": 5}\n",
    "\n",
    "    def _add_variables(self):\n",
    "        super()._add_variables()\n",
    "        self.total_roof_area = RealVariable()\n",
    "\n",
    "    # This will track the amount of are used\n",
    "    @constraint()\n",
    "    def roof_tech_area_definition(self):\n",
    "        \"\"\" \n",
    "        Ensure the roof techs are taking up less area than there is roof.\n",
    "        \"\"\"\n",
    "\n",
    "        # multiply area-per-unit-capacity and capacity for all roof-techs and sum all of them\n",
    "        total_roof_area = sum(\n",
    "            (self.capacities[tech_name]) * (self.area_per_capacity[tech_name])\n",
    "            for tech_name in self.area_per_capacity\n",
    "        )\n",
    "\n",
    "        return self.total_roof_area == total_roof_area\n",
    "\n",
    "    # This will constrain the area used.\n",
    "    @constraint()\n",
    "    def roof_tech_area_below_max(self):\n",
    "        \"\"\" Ensure the roof techs are taking up less area than there is roof.\n",
    "        \"\"\"\n",
    "\n",
    "        # return the constraint that this variable <= available area\n",
    "        return self.total_roof_area <= self.MAX_ROOF_AREA"
   ]
  },
  {
   "cell_type": "code",
   "execution_count": null,
   "metadata": {
    "papermill": {
     "duration": 0.192899,
     "end_time": "2019-10-28T23:03:49.229124",
     "exception": false,
     "start_time": "2019-10-28T23:03:49.036225",
     "status": "completed"
    },
    "tags": []
   },
   "outputs": [],
   "source": [
    "excel_file = \"test_file_all_constraints_work.xlsx\"  # name of the excel file. [This must be in the current directory]\n",
    "my_model = RoofModel(\n",
    "    excel=excel_file\n",
    ")  # instantiate our model. Nothing is solved at this point.\n",
    "results = my_model.solve()  # solve the model and get back our results\n",
    "pretty_print(results)  # print the results to the console"
   ]
  },
  {
   "cell_type": "code",
   "execution_count": null,
   "metadata": {
    "papermill": {
     "duration": 0.005722,
     "end_time": "2019-10-28T23:03:49.241276",
     "exception": false,
     "start_time": "2019-10-28T23:03:49.235554",
     "status": "completed"
    },
    "tags": []
   },
   "outputs": [],
   "source": []
  }
 ],
 "metadata": {
  "kernelspec": {
   "display_name": "Python 3",
   "language": "python",
   "name": "python3"
  },
  "language_info": {
   "codemirror_mode": {
    "name": "ipython",
    "version": 3
   },
   "file_extension": ".py",
   "mimetype": "text/x-python",
   "name": "python",
   "nbconvert_exporter": "python",
   "pygments_lexer": "ipython3",
   "version": "3.8.3"
  }
 },
 "nbformat": 4,
 "nbformat_minor": 4
}
