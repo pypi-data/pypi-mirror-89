{
 "cells": [
  {
   "cell_type": "markdown",
   "metadata": {
    "papermill": {
     "duration": 0.005688,
     "end_time": "2019-10-28T23:05:50.039918",
     "exception": false,
     "start_time": "2019-10-28T23:05:50.034230",
     "status": "completed"
    },
    "tags": []
   },
   "source": [
    "# Morris Screening\n",
    "\n",
    "In this notebook we apply the popular Morris screening method to a building design problem.\n",
    "We determine the sensitivty of the objective (electricty use) to each of the design parameters."
   ]
  },
  {
   "cell_type": "code",
   "execution_count": null,
   "metadata": {
    "lines_to_next_cell": 2,
    "papermill": {
     "duration": 1.248574,
     "end_time": "2019-10-28T23:05:51.292894",
     "exception": false,
     "start_time": "2019-10-28T23:05:50.044320",
     "status": "completed"
    },
    "tags": []
   },
   "outputs": [],
   "source": [
    "import numpy as np\n",
    "import pandas as pd\n",
    "from besos import eppy_funcs as ef, sampling\n",
    "from besos.evaluator import EvaluatorEP\n",
    "from besos.problem import EPProblem\n",
    "\n",
    "from SALib.analyze import morris as manalysis\n",
    "from SALib.sample import morris as msampling\n",
    "from parameter_sets import parameter_set"
   ]
  },
  {
   "cell_type": "markdown",
   "metadata": {
    "papermill": {
     "duration": 0.003408,
     "end_time": "2019-10-28T23:05:51.300608",
     "exception": false,
     "start_time": "2019-10-28T23:05:51.297200",
     "status": "completed"
    },
    "tags": []
   },
   "source": [
    "## Build an EnergyPlus Evaluator"
   ]
  },
  {
   "cell_type": "code",
   "execution_count": null,
   "metadata": {
    "papermill": {
     "duration": 0.01999,
     "end_time": "2019-10-28T23:05:51.324351",
     "exception": false,
     "start_time": "2019-10-28T23:05:51.304361",
     "status": "completed"
    },
    "tags": []
   },
   "outputs": [],
   "source": [
    "parameters = parameter_set(7)  # use a pre-defined parameter set\n",
    "problem = EPProblem(parameters, [\"Electricity:Facility\"])\n",
    "building = ef.get_building()  # use the example building\n",
    "evaluator = EvaluatorEP(problem, building)\n",
    "inputs = sampling.dist_sampler(\n",
    "    sampling.lhs, problem, 50\n",
    ")  # get 50 samples of the input space"
   ]
  },
  {
   "cell_type": "markdown",
   "metadata": {
    "papermill": {
     "duration": 0.003977,
     "end_time": "2019-10-28T23:05:51.331711",
     "exception": false,
     "start_time": "2019-10-28T23:05:51.327734",
     "status": "completed"
    },
    "tags": []
   },
   "source": [
    "## Conduct a Morris screening of the parameters"
   ]
  },
  {
   "cell_type": "markdown",
   "metadata": {
    "papermill": {
     "duration": 0.003292,
     "end_time": "2019-10-28T23:05:51.338368",
     "exception": false,
     "start_time": "2019-10-28T23:05:51.335076",
     "status": "completed"
    },
    "tags": []
   },
   "source": [
    "The following cells conduct a Morris screening, a global sensitivity method.\n",
    "It uses $r$ times $n$ one-at-time changes (OAT) of each parameter at randomly selected points.\n",
    "The resulting distribution of $r$ samples provides a mean $\\mu^*$, and a standard deviation $\\sigma$ of the elementary effects of the $i$-th input parameter. [[1]] [[2]] [[3]]\n",
    "\n",
    "[1]: https://www.sciencedirect.com/science/article/pii/S1364032112007101\n",
    "[2]: https://en.wikipedia.org/wiki/Elementary_effects_method\n",
    "[3]: https://en.wikipedia.org/wiki/Morris_method"
   ]
  },
  {
   "cell_type": "code",
   "execution_count": null,
   "metadata": {
    "papermill": {
     "duration": 54.352325,
     "end_time": "2019-10-28T23:06:45.694131",
     "exception": false,
     "start_time": "2019-10-28T23:05:51.341806",
     "status": "completed"
    },
    "tags": []
   },
   "outputs": [],
   "source": [
    "names = [parameters[i].name for i in range(len(parameters))]\n",
    "bounds = [\n",
    "    [parameters[i].value_descriptor.min, parameters[i].value_descriptor.max]\n",
    "    for i in range(len(parameters))\n",
    "]\n",
    "\n",
    "problem = {\"num_vars\": len(parameters), \"names\": names, \"bounds\": bounds}\n",
    "\n",
    "X = np.round(msampling.sample(problem, N=5), decimals=3)\n",
    "inputs = pd.DataFrame(data=X, columns=names)\n",
    "outputs = evaluator.df_apply(inputs)\n",
    "\n",
    "\n",
    "Y = outputs.values\n",
    "Si = manalysis.analyze(\n",
    "    problem, X, Y, conf_level=0.95, print_to_console=True, num_levels=4\n",
    ")\n",
    "pd.DataFrame(data=Si[\"mu_star\"], index=Si[\"names\"]).sort_values(by=0)"
   ]
  },
  {
   "cell_type": "code",
   "execution_count": null,
   "metadata": {
    "papermill": {
     "duration": 0.005995,
     "end_time": "2019-10-28T23:06:45.707938",
     "exception": false,
     "start_time": "2019-10-28T23:06:45.701943",
     "status": "completed"
    },
    "tags": []
   },
   "outputs": [],
   "source": []
  }
 ],
 "metadata": {
  "kernelspec": {
   "display_name": "Python 3",
   "language": "python",
   "name": "python3"
  }
 },
 "nbformat": 4,
 "nbformat_minor": 4
}
