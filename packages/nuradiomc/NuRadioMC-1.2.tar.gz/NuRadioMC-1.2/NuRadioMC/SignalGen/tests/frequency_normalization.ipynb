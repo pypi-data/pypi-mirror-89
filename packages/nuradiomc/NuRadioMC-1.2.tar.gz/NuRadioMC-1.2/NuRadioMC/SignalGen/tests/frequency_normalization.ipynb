{
 "cells": [
  {
   "cell_type": "markdown",
   "metadata": {},
   "source": [
    "# Test of correct frequency normalization\n"
   ]
  },
  {
   "cell_type": "code",
   "execution_count": 20,
   "metadata": {},
   "outputs": [],
   "source": [
    "%matplotlib inline\n",
    "import numpy as np\n",
    "from NuRadioMC.utilities import fft\n",
    "from NuRadioMC.utilities import units\n",
    "import NuRadioMC.SignalGen.RalstonBuniy.askaryan_module as AskaryanModule"
   ]
  },
  {
   "cell_type": "markdown",
   "metadata": {},
   "source": [
    "the fft utility module implements a real fft with a normalization so that\n",
    "Plancherel theorem is valid. This means that the fourier transform must be unitary,\n",
    "which is achieved by normalizing both transforms with 1/sqrt(n) and an additional\n",
    "factor of sqrt(2) because negative frequencies are omitted in the real FFT.\n",
    "This means that the power calculated in the time domain is the same as the\n",
    "power calculated in the frequency domain."
   ]
  },
  {
   "cell_type": "markdown",
   "metadata": {},
   "source": [
    "One test of a correct frequency normalization of the signal generation modules is that the amplitude in the time domain should not depend on the frequency resolution, i.e., the number of samples in the time domain. \n",
    "\n",
    "We first implement a simple toy model with a constant amplitude for all frequencies of 1 / MHz. "
   ]
  },
  {
   "cell_type": "code",
   "execution_count": 21,
   "metadata": {},
   "outputs": [
    {
     "name": "stdout",
     "output_type": "stream",
     "text": [
      "number of samples = 1024 with a sampling of 10.0GHz result in a frequency bin width of 9.8MHz\n",
      "-> max amplitude with sqrt(df) normalization = 71\n",
      "-> max amplitude with df normalization = 2.2e+02\n"
     ]
    }
   ],
   "source": [
    "# we first calculate the maximum amplitude in the time domain for a\n",
    "# normalization with (df/1MHz)**0.5 and (df/1MHz)\n",
    "# for a 2**10 number of samples\n",
    "dt = 0.1 * units.ns\n",
    "n_trace = 2 ** 10  # samples of trace\n",
    "tt = np.arange(0, n_trace * dt, dt)\n",
    "ff = np.fft.rfftfreq(n_trace, dt)\n",
    "df = ff[1] - ff[0]\n",
    "print('number of samples = {} with a sampling of {:.1f}GHz result in a frequency bin width of {:.1f}MHz'.format(n_trace, 1./dt/units.GHz, df/units.MHz))\n",
    "\n",
    "spectrum = np.ones(len(ff), dtype=np.complex)\n",
    "spectrum[0] = 0  # set zero frequency bin to zero (no dc offset)\n",
    "spectrum *= (df / units.MHz) ** 0.5\n",
    "trace = fft.freq2time(spectrum)\n",
    "print(\"-> max amplitude with sqrt(df) normalization = {:.2g}\".format(np.abs(trace).max()))\n",
    "\n",
    "spectrum = np.ones(len(ff), dtype=np.complex)\n",
    "spectrum[0] = 0  # set zero frequency bin to zero (no dc offset)\n",
    "spectrum *= (df / units.MHz)\n",
    "trace = fft.freq2time(spectrum)\n",
    "print(\"-> max amplitude with df normalization = {:.2g}\".format(np.abs(trace).max()))"
   ]
  },
  {
   "cell_type": "code",
   "execution_count": 22,
   "metadata": {},
   "outputs": [
    {
     "name": "stdout",
     "output_type": "stream",
     "text": [
      "number of samples = 16384 with a sampling of 10.0GHz result in a frequency bin width of 0.6MHz\n",
      "-> max amplitude with sqrt(df) normalization = 71\n",
      "-> max amplitude with df normalization = 55\n"
     ]
    }
   ],
   "source": [
    "# now we repeat the above calculation but with 2**14 number of samples. The maximum \n",
    "# amplitude in the time domain shoud remain the same for the correct frequency normalization. \n",
    "\n",
    "dt = 0.1 * units.ns\n",
    "n_trace = 2 ** 14  # samples of trace\n",
    "tt = np.arange(0, n_trace * dt, dt)\n",
    "ff = np.fft.rfftfreq(n_trace, dt)\n",
    "df = ff[1] - ff[0]\n",
    "print('number of samples = {} with a sampling of {:.1f}GHz result in a frequency bin width of {:.1f}MHz'.format(n_trace, 1./dt/units.GHz, df/units.MHz))\n",
    "\n",
    "spectrum = np.ones(len(ff), dtype=np.complex)\n",
    "spectrum[0] = 0  # set zero frequency bin to zero (no dc offset)\n",
    "spectrum *= (df / units.MHz) ** 0.5\n",
    "trace = fft.freq2time(spectrum)\n",
    "print(\"-> max amplitude with sqrt(df) normalization = {:.2g}\".format(np.abs(trace).max()))\n",
    "\n",
    "spectrum = np.ones(len(ff), dtype=np.complex)\n",
    "spectrum[0] = 0  # set zero frequency bin to zero (no dc offset)\n",
    "spectrum *= (df / units.MHz)\n",
    "trace = fft.freq2time(spectrum)\n",
    "print(\"-> max amplitude with df normalization = {:.2g}\".format(np.abs(trace).max()))"
   ]
  },
  {
   "cell_type": "markdown",
   "metadata": {},
   "source": [
    "This small test showed that the correct normalization should be using the square root of the frequency bin width, i.e. (df/1MHz)**0.5\n"
   ]
  },
  {
   "cell_type": "code",
   "execution_count": null,
   "metadata": {},
   "outputs": [],
   "source": []
  },
  {
   "cell_type": "markdown",
   "metadata": {},
   "source": [
    "## test of wrapper around Askaryan module\n",
    "In the NuRadioMC implementation we only interface the function to generate the frequency spectrum. We obtain the time domain representation by normalizing the frequency spectrum correctly and applying an inverse FFT with a proper normalization. The following code checks that the amplitudes in the time domain do not depend on the number of samples:\n"
   ]
  },
  {
   "cell_type": "code",
   "execution_count": 23,
   "metadata": {},
   "outputs": [
    {
     "name": "stdout",
     "output_type": "stream",
     "text": [
      "Askaryan modules: maximum amplitude for 1024 samples is: 1.51874e-06V/m\n"
     ]
    }
   ],
   "source": [
    "E = 1e17 * units.eV\n",
    "n_index = 1.78\n",
    "theta = np.arccos(1. / n_index) + 2.5 * units.deg\n",
    "R = 5 * units.km\n",
    "dt = 0.1 * units.ns\n",
    "\n",
    "\n",
    "n_trace = 2 ** 10  # samples of trace\n",
    "tt = np.arange(0, n_trace * dt, dt)\n",
    "ff = np.fft.rfftfreq(n_trace, dt)\n",
    "\n",
    "trace = AskaryanModule.get_time_trace(E, theta, ff, 0, n=1.78, R=R)\n",
    "print('Askaryan modules: maximum amplitude for {:d} samples is: {:4g}V/m'.format(n_trace, np.abs(trace).max()/units.V*units.m))"
   ]
  },
  {
   "cell_type": "code",
   "execution_count": 24,
   "metadata": {},
   "outputs": [
    {
     "name": "stdout",
     "output_type": "stream",
     "text": [
      "Askaryan modules: maximum amplitude for 4096 samples is: 1.51873e-06V/m\n"
     ]
    }
   ],
   "source": [
    "n_trace = 2 ** 12  # samples of trace\n",
    "tt = np.arange(0, n_trace * dt, dt)\n",
    "ff = np.fft.rfftfreq(n_trace, dt)\n",
    "\n",
    "trace = AskaryanModule.get_time_trace(E, theta, ff, 0, n=1.78, R=R)\n",
    "print('Askaryan modules: maximum amplitude for {:d} samples is: {:4g}V/m'.format(n_trace, np.abs(trace).max()/units.V*units.m))"
   ]
  },
  {
   "cell_type": "markdown",
   "metadata": {},
   "source": [
    "the amplidues agree and thus do not depend on the frequency resolution, which shows that the frequency spectrum was normalized correctly to the frequency bin width. "
   ]
  },
  {
   "cell_type": "markdown",
   "metadata": {},
   "source": [
    "## test how amplitudes in frequency domain change with tracelength"
   ]
  },
  {
   "cell_type": "code",
   "execution_count": 28,
   "metadata": {},
   "outputs": [
    {
     "data": {
      "image/png": "[encoded data removed]",
      "text/plain": [
       "<matplotlib.figure.Figure at 0x7f69577c1748>"
      ]
     },
     "metadata": {},
     "output_type": "display_data"
    }
   ],
   "source": [
    "import matplotlib.pyplot as plt\n",
    "dt = 0.1 * units.ns\n",
    "n_trace = 2 ** 10  # samples of trace\n",
    "ff = np.fft.rfftfreq(n_trace, dt)\n",
    "trace_1 = np.zeros(n_trace)\n",
    "trace_1[n_trace//2] = 1\n",
    "spectrum_1 = fft.time2freq(trace_1)\n",
    "\n",
    "fig, ax = plt.subplots(1, 1)\n",
    "ax.plot(ff, np.abs(spectrum_1), label='{} samples'.format(n_trace))\n",
    "\n",
    "n_trace = 2 ** 11  # samples of trace\n",
    "ff = np.fft.rfftfreq(n_trace, dt)\n",
    "trace_2 = np.zeros(n_trace)\n",
    "trace_2[n_trace//2] = 1\n",
    "spectrum_2 = fft.time2freq(trace_2)\n",
    "ax.plot(ff, np.abs(spectrum_2), label='{} samples'.format(n_trace))\n",
    "\n",
    "n_trace = 2 ** 12  # samples of trace\n",
    "ff = np.fft.rfftfreq(n_trace, dt)\n",
    "trace_2 = np.zeros(n_trace)\n",
    "trace_2[n_trace//2] = 1\n",
    "spectrum_2 = fft.time2freq(trace_2)\n",
    "ax.plot(ff, np.abs(spectrum_2), label='{} samples'.format(n_trace))\n",
    "ax.set_ylim(0)\n",
    "ax.legend()\n",
    "plt.show()\n"
   ]
  },
  {
   "cell_type": "markdown",
   "metadata": {},
   "source": [
    "The above plot shows that the amplitudes A in the frequency domain drop by 1/sqrt(n_samples). As df is proportional to n_samples, A ~ 1/df, i.e. normalizing the frequency spectrum with the square root of the bin width seems to be the right choice. "
   ]
  },
  {
   "cell_type": "code",
   "execution_count": null,
   "metadata": {},
   "outputs": [],
   "source": []
  }
 ],
 "metadata": {
  "kernelspec": {
   "display_name": "Python 3",
   "language": "python",
   "name": "python3"
  },
  "language_info": {
   "codemirror_mode": {
    "name": "ipython",
    "version": 3
   },
   "file_extension": ".py",
   "mimetype": "text/x-python",
   "name": "python",
   "nbconvert_exporter": "python",
   "pygments_lexer": "ipython3",
   "version": "3.6.4"
  }
 },
 "nbformat": 4,
 "nbformat_minor": 2
}
