{
 "cells": [
  {
   "cell_type": "markdown",
   "metadata": {},
   "source": [
    "* * *\n",
    "### Objective:\n",
    "This notebook outlines the process of modelling energy systems for remote communities. There are three main parts for modelling the energy systems.\n",
    " 1. Input data\n",
    " 2. Optimization\n",
    " 3. Visualization\n",
    "* * *"
   ]
  },
  {
   "cell_type": "code",
   "execution_count": null,
   "metadata": {
    "lines_to_end_of_cell_marker": 2
   },
   "outputs": [],
   "source": [
    "import os\n",
    "import pickle\n",
    "import re\n",
    "\n",
    "import numpy as np\n",
    "import pandas as pd\n",
    "from matplotlib import pyplot as plt\n",
    "from pyehub.energy_hub.ehub_model import (\n",
    "    EHubModel,\n",
    ")  # importing EHubModel to minimize the total cost of the system.\n",
    "from pyehub.energy_hub.utils import constraint\n",
    "from pyehub.outputter import pretty_print  # To print the results in inderstandable way."
   ]
  },
  {
   "cell_type": "markdown",
   "metadata": {},
   "source": [
    "# Introduction"
   ]
  },
  {
   "cell_type": "markdown",
   "metadata": {},
   "source": [
    "# Input data\n",
    "There are three main inputs to the energy hub model which are hourly electricity demand, hourly solar and wind power and technical, economic and environmental data. Electricity demand is calculated by EnergyPlus. Hourly solar and wind power are obtained from \"Renewable.ninja\" (https://www.renewables.ninja/).\n"
   ]
  },
  {
   "cell_type": "markdown",
   "metadata": {},
   "source": [
    "# Base scenario: only diesel generator\n",
    "The optimization process has been done using BESOS Platform (https://besos.uvic.ca/)."
   ]
  },
  {
   "cell_type": "markdown",
   "metadata": {},
   "source": [
    "## Optimization: running Energy hub model"
   ]
  },
  {
   "cell_type": "markdown",
   "metadata": {},
   "source": [
    "#### BC"
   ]
  },
  {
   "cell_type": "code",
   "execution_count": null,
   "metadata": {},
   "outputs": [],
   "source": [
    "excel_file = \"data/BC/BC_Input_S1.xlsx\"\n",
    "my_model = EHubModel(excel=excel_file)\n",
    "results_BC = my_model.solve()  # solve the model and get back our results\n",
    "with open(\"data/BC/BC_output_base.results\", \"wb\") as res:\n",
    "    pickle.dump(results_BC, res)\n",
    "# pretty_print(results) # print the results to the console"
   ]
  },
  {
   "cell_type": "markdown",
   "metadata": {},
   "source": [
    "#### Yukon"
   ]
  },
  {
   "cell_type": "code",
   "execution_count": null,
   "metadata": {},
   "outputs": [],
   "source": [
    "excel_file = \"data/YT/YT_Input_S1.xlsx\"\n",
    "my_model = EHubModel(excel=excel_file)\n",
    "results_YT = my_model.solve()  # solve the model and get back our results\n",
    "with open(\"data/YT/YT_output_base.results\", \"wb\") as res:\n",
    "    pickle.dump(results_YT, res)\n",
    "# pretty_print(results) # print the results to the console"
   ]
  },
  {
   "cell_type": "markdown",
   "metadata": {},
   "source": [
    "## Vizualisation of the results\n",
    "The result of the optimization is a nested dictionnary.\n",
    "\n",
    "Let's have a look on some interesting values."
   ]
  },
  {
   "cell_type": "code",
   "execution_count": null,
   "metadata": {},
   "outputs": [],
   "source": [
    "diesel_cap_BC = results_BC[\"solution\"][\"capacity_tech\"][\"Diesel generator\"]\n",
    "diesel_cap_YT = results_YT[\"solution\"][\"capacity_tech\"][\"Diesel generator\"]\n",
    "\n",
    "total_cost_BC = results_BC[\"solution\"][\"total_cost\"]\n",
    "total_cost_YT = results_YT[\"solution\"][\"total_cost\"]\n",
    "\n",
    "# set a new figure\n",
    "fig, ax = plt.subplots(1, 2, figsize=(8, 5))\n",
    "\n",
    "# set width of bar\n",
    "barWidth = 0.8\n",
    "labels = [\"BC\", \"YT\"]\n",
    "\n",
    "# set height of bar\n",
    "bars1 = [diesel_cap_BC, diesel_cap_YT]\n",
    "bars2 = [total_cost_BC, total_cost_YT]\n",
    "\n",
    "# Set position of bar on X axis\n",
    "r1 = np.arange(len(bars1))\n",
    "\n",
    "# Make the plot\n",
    "ax[0].bar(\n",
    "    r1,\n",
    "    bars1,\n",
    "    color=\"k\",\n",
    "    width=barWidth,\n",
    "    edgecolor=\"white\",\n",
    "    label=\"Total Cost($/person)\",\n",
    ")\n",
    "\n",
    "ax[0].set_ylabel(\"Diesel generator capacity (kW)\", fontsize=14)\n",
    "ax[0].set_xticks(r1)\n",
    "ax[0].set_xticklabels(labels)\n",
    "ax[0].tick_params(axis=\"x\", labelsize=14)\n",
    "ax[0].tick_params(axis=\"y\", labelsize=14)\n",
    "\n",
    "# Make the plot\n",
    "ax[1].bar(\n",
    "    r1,\n",
    "    bars2,\n",
    "    color=\"grey\",\n",
    "    width=barWidth,\n",
    "    edgecolor=\"white\",\n",
    "    label=\"Total Carbon(kg/person)\",\n",
    ")\n",
    "\n",
    "ax[1].set_ylabel(\"Total cost ($)\", fontsize=14)\n",
    "ax[1].set_xticks(r1)\n",
    "ax[1].set_xticklabels(labels)\n",
    "ax[1].tick_params(axis=\"x\", labelsize=14)\n",
    "ax[1].tick_params(axis=\"y\", labelsize=14)\n",
    "\n",
    "# Avoid overlapping graphs\n",
    "plt.tight_layout()"
   ]
  },
  {
   "cell_type": "markdown",
   "metadata": {},
   "source": [
    "# Scenario 1: renewable energy and only cost optimization\n",
    "We add the possibility to add PV panels and wind turbines to meet energy demand.\n",
    "## Optimization\n",
    "To do that, the input Excel file of EnergyHub is modified in order to add this possibility.\n",
    "### BC"
   ]
  },
  {
   "cell_type": "code",
   "execution_count": null,
   "metadata": {},
   "outputs": [],
   "source": [
    "excel_file = \"data/BC/BC_Input_S2.xlsx\"\n",
    "my_model = EHubModel(excel=excel_file)\n",
    "results_100_BC = my_model.solve()  # solve the model and get back our results\n",
    "with open(\"data/BC/BC_output_S4_100.results\", \"wb\") as res:  # save the results\n",
    "    pickle.dump(results_100_BC, res)\n",
    "# pretty_print(results) # print the results to the console"
   ]
  },
  {
   "cell_type": "markdown",
   "metadata": {},
   "source": [
    "### Yukon"
   ]
  },
  {
   "cell_type": "code",
   "execution_count": null,
   "metadata": {},
   "outputs": [],
   "source": [
    "excel_file = \"data/YT/YT_Input_S2.xlsx\"\n",
    "my_model = EHubModel(excel=excel_file)\n",
    "results_100_YT = my_model.solve()  # solve the model and get back our results\n",
    "with open(\"data/YT/YT_output_S4_100.results\", \"wb\") as res:  # save the results\n",
    "    pickle.dump(results_100_YT, res)\n",
    "# pretty_print(results) # print the results to the console"
   ]
  },
  {
   "cell_type": "markdown",
   "metadata": {},
   "source": [
    "## Vizualisation\n",
    "Let's compare the solution."
   ]
  },
  {
   "cell_type": "code",
   "execution_count": null,
   "metadata": {
    "jupyter": {
     "source_hidden": true
    }
   },
   "outputs": [],
   "source": [
    "diesel_cap_100_BC = results_100_BC[\"solution\"][\"capacity_tech\"][\"Diesel generator\"]\n",
    "diesel_cap_100_YT = results_100_YT[\"solution\"][\"capacity_tech\"][\"Diesel generator\"]\n",
    "PV_cap_100_BC = results_100_BC[\"solution\"][\"capacity_tech\"][\"PV\"]\n",
    "PV_cap_100_YT = results_100_YT[\"solution\"][\"capacity_tech\"][\"PV\"]\n",
    "WT_cap_100_BC = results_100_BC[\"solution\"][\"capacity_tech\"][\"WT\"]\n",
    "WT_cap_100_YT = results_100_YT[\"solution\"][\"capacity_tech\"][\"WT\"]\n",
    "Liion_cap_100_BC = results_100_BC[\"solution\"][\"capacity_storage\"][\"Li-ion\"]\n",
    "Liion_cap_100_YT = results_100_YT[\"solution\"][\"capacity_storage\"][\"Li-ion\"]\n",
    "\n",
    "total_cost_100_BC = results_100_BC[\"solution\"][\"total_cost\"]\n",
    "total_cost_100_YT = results_100_YT[\"solution\"][\"total_cost\"]\n",
    "\n",
    "# set a new figure\n",
    "fig, ax = plt.subplots(1, 3, figsize=(15, 5))\n",
    "\n",
    "# set width of bar\n",
    "barWidth = 0.2\n",
    "labels = [\"Only diesel\", \"Diesel + RE\"]\n",
    "\n",
    "# Set position of bar on X axis\n",
    "r1 = np.arange(len(bars1))\n",
    "r2 = [x + barWidth for x in r1]\n",
    "r3 = [x + barWidth for x in r2]\n",
    "r4 = [x + barWidth for x in r3]\n",
    "\n",
    "# Make the plot\n",
    "# set height of bar\n",
    "bars1 = [diesel_cap_BC, diesel_cap_100_BC]\n",
    "bars2 = [0, PV_cap_100_BC]\n",
    "bars3 = [0, WT_cap_100_BC]\n",
    "bars4 = [0, Liion_cap_100_BC]\n",
    "ax[0].bar(\n",
    "    r1,\n",
    "    bars1,\n",
    "    color=\"k\",\n",
    "    width=barWidth,\n",
    "    edgecolor=\"white\",\n",
    "    label=\"Diesel capacity (kW)\",\n",
    ")\n",
    "ax[0].bar(\n",
    "    r2, bars2, color=\"r\", width=barWidth, edgecolor=\"white\", label=\"PV capacity (kW)\"\n",
    ")\n",
    "ax[0].bar(\n",
    "    r3, bars3, color=\"b\", width=barWidth, edgecolor=\"white\", label=\"Wind Turbine (kW)\"\n",
    ")\n",
    "ax[0].bar(\n",
    "    r4,\n",
    "    bars4,\n",
    "    color=\"g\",\n",
    "    width=barWidth,\n",
    "    edgecolor=\"white\",\n",
    "    label=\"Li-ion Battery (kWh)\",\n",
    ")\n",
    "\n",
    "ax[0].set_title(\"British Columbia\", fontweight=\"bold\", fontsize=20)\n",
    "ax[0].set_ylabel(\"Generator or storage capacity (kW or kWh)\", fontsize=14)\n",
    "ax[0].legend()\n",
    "ax[0].set_xticks(r2)\n",
    "ax[0].set_xticklabels(labels)\n",
    "ax[0].tick_params(axis=\"x\", labelsize=14)\n",
    "ax[0].tick_params(axis=\"y\", labelsize=14)\n",
    "\n",
    "# Make the plot\n",
    "# set height of bar\n",
    "bars1 = [diesel_cap_YT, diesel_cap_100_YT]\n",
    "bars2 = [0, PV_cap_100_YT]\n",
    "bars3 = [0, WT_cap_100_YT]\n",
    "bars4 = [0, Liion_cap_100_YT]\n",
    "ax[1].bar(\n",
    "    r1,\n",
    "    bars1,\n",
    "    color=\"k\",\n",
    "    width=barWidth,\n",
    "    edgecolor=\"white\",\n",
    "    label=\"Diesel capacity (kW)\",\n",
    ")\n",
    "ax[1].bar(\n",
    "    r2, bars2, color=\"r\", width=barWidth, edgecolor=\"white\", label=\"PV capacity (kW)\"\n",
    ")\n",
    "ax[1].bar(\n",
    "    r3, bars3, color=\"b\", width=barWidth, edgecolor=\"white\", label=\"Wind Turbine (kW)\"\n",
    ")\n",
    "ax[1].bar(\n",
    "    r4,\n",
    "    bars4,\n",
    "    color=\"g\",\n",
    "    width=barWidth,\n",
    "    edgecolor=\"white\",\n",
    "    label=\"Li-ion Battery (kWh)\",\n",
    ")\n",
    "\n",
    "ax[1].set_title(\"Yukon\", fontweight=\"bold\", fontsize=20)\n",
    "ax[1].set_ylabel(\"Generator or storage capacity (kW or kWh)\", fontsize=14)\n",
    "ax[1].legend()\n",
    "ax[1].set_xticks(r2)\n",
    "ax[1].set_xticklabels(labels)\n",
    "ax[1].tick_params(axis=\"x\", labelsize=14)\n",
    "ax[1].tick_params(axis=\"y\", labelsize=14)\n",
    "\n",
    "# Make the plot\n",
    "# set height of bar\n",
    "bars1 = [total_cost_BC, total_cost_YT]\n",
    "bars2 = [total_cost_100_BC, total_cost_100_YT]\n",
    "ax[2].bar(r1, bars1, color=\"k\", width=barWidth, edgecolor=\"white\", label=\"Only diesel\")\n",
    "ax[2].bar(\n",
    "    r2, bars2, color=\"grey\", width=barWidth, edgecolor=\"white\", label=\"Diesel + RE\"\n",
    ")\n",
    "\n",
    "ax[2].set_ylabel(\"Total cost ($)\", fontsize=14)\n",
    "ax[2].legend()\n",
    "ax[2].set_xticks(r1)\n",
    "ax[2].set_xticklabels([\"BC\", \"YT\"])\n",
    "ax[2].tick_params(axis=\"x\", labelsize=14)\n",
    "ax[2].tick_params(axis=\"y\", labelsize=14)\n",
    "\n",
    "# Avoid overlapping graphs\n",
    "plt.tight_layout()"
   ]
  },
  {
   "cell_type": "markdown",
   "metadata": {},
   "source": [
    "Obviously, adding some renewable energies is cost effective in both cases!"
   ]
  },
  {
   "cell_type": "code",
   "execution_count": null,
   "metadata": {
    "jupyter": {
     "source_hidden": true
    },
    "lines_to_end_of_cell_marker": 2
   },
   "outputs": [],
   "source": [
    "total_co2_BC = results_BC[\"solution\"][\"total_carbon\"]\n",
    "total_co2_YT = results_YT[\"solution\"][\"total_carbon\"]\n",
    "total_co2_100_BC = results_100_BC[\"solution\"][\"total_carbon\"]\n",
    "total_co2_100_YT = results_100_YT[\"solution\"][\"total_carbon\"]\n",
    "\n",
    "# set a new figure\n",
    "fig, ax = plt.subplots(1, 1, figsize=(5, 5))\n",
    "\n",
    "# set width of bar\n",
    "barWidth = 0.2\n",
    "\n",
    "# Make the plot\n",
    "# set height of bar\n",
    "bars1 = [total_co2_BC, total_co2_YT]\n",
    "bars2 = [total_co2_100_BC, total_co2_100_YT]\n",
    "ax.bar(r1, bars1, color=\"k\", width=barWidth, edgecolor=\"white\", label=\"Only diesel\")\n",
    "ax.bar(r2, bars2, color=\"grey\", width=barWidth, edgecolor=\"white\", label=\"Diesel + RE\")\n",
    "\n",
    "ax.set_ylabel(\"Total carbon (kg)\", fontsize=14)\n",
    "ax.legend()\n",
    "ax.set_xticks(r1)\n",
    "ax.set_xticklabels([\"BC\", \"YT\"])\n",
    "ax.tick_params(axis=\"x\", labelsize=14)\n",
    "ax.tick_params(axis=\"y\", labelsize=14)"
   ]
  },
  {
   "cell_type": "markdown",
   "metadata": {},
   "source": [
    "...and decrease the amount of carbon emissions."
   ]
  },
  {
   "cell_type": "markdown",
   "metadata": {},
   "source": [
    "# Scenario 2 : multi-objective optimization\n",
    "What if we constraint the carbon emissions besides the cost?"
   ]
  },
  {
   "cell_type": "markdown",
   "metadata": {},
   "source": [
    "To do that, we first add a carbon constraint to the energy hub model.\n",
    "Then, by using epsilon constraint method, the model will be solved for 75%, 50% 25% of carbon emissions of scenario 1.\n",
    "## Add Carbon constraint"
   ]
  },
  {
   "cell_type": "code",
   "execution_count": null,
   "metadata": {},
   "outputs": [],
   "source": [
    "# add carbon contraint.\n",
    "\n",
    "\n",
    "class CarbonEHubModel(EHubModel):\n",
    "    MAX_CARBON = 0\n",
    "\n",
    "    def __init__(self, *, excel=None, request=None, max_carbon=0):\n",
    "        super().__init__(excel=excel, request=request)\n",
    "        if max_carbon is not None:\n",
    "            self.MAX_CARBON = max_carbon\n",
    "\n",
    "    @constraint()\n",
    "    def max_carbon_level(self):\n",
    "        return self.total_carbon <= float(self.MAX_CARBON)"
   ]
  },
  {
   "cell_type": "markdown",
   "metadata": {},
   "source": [
    "## Optimization"
   ]
  },
  {
   "cell_type": "markdown",
   "metadata": {},
   "source": [
    "### BC"
   ]
  },
  {
   "cell_type": "code",
   "execution_count": null,
   "metadata": {},
   "outputs": [],
   "source": [
    "# 75% carbon\n",
    "my_model = CarbonEHubModel(\n",
    "    excel=excel_file, max_carbon=results_100_BC[\"solution\"][\"total_carbon\"] * 0.75\n",
    ")\n",
    "results_75 = my_model.solve()  # solve the model and get back results\n",
    "with open(\"data/BC/BC_output_S3_75.results\", \"wb\") as res:\n",
    "    pickle.dump(results_75, res)\n",
    "# 50% carbon\n",
    "my_model = CarbonEHubModel(\n",
    "    excel=excel_file, max_carbon=results_100_BC[\"solution\"][\"total_carbon\"] * 0.50\n",
    ")\n",
    "results_50 = my_model.solve()  # solve the model and get back results\n",
    "with open(\"data/BC/BC_output_S2_50.results\", \"wb\") as res:\n",
    "    pickle.dump(results_50, res)\n",
    "# 25% carbon\n",
    "my_model = CarbonEHubModel(\n",
    "    excel=excel_file, max_carbon=results_100_BC[\"solution\"][\"total_carbon\"] * 0.25\n",
    ")\n",
    "results_25 = my_model.solve()  # solve the model and get back results\n",
    "with open(\"data/BC/BC_output_S1_25.results\", \"wb\") as res:\n",
    "    pickle.dump(results_25, res)\n",
    "# 0% carbon\n",
    "# This scenario doesn't work with glpk so I rerun it on my computer with Cplex!"
   ]
  },
  {
   "cell_type": "markdown",
   "metadata": {},
   "source": [
    "### Yukon"
   ]
  },
  {
   "cell_type": "code",
   "execution_count": null,
   "metadata": {},
   "outputs": [],
   "source": [
    "# 75% carbon\n",
    "my_model = CarbonEHubModel(\n",
    "    excel=excel_file, max_carbon=results_100_YT[\"solution\"][\"total_carbon\"] * 0.75\n",
    ")\n",
    "results_75 = my_model.solve()  # solve the model and get back results\n",
    "with open(\"data/YT/YT_output_S3_75.results\", \"wb\") as res:\n",
    "    pickle.dump(results_75, res)\n",
    "# 50% carbon\n",
    "my_model = CarbonEHubModel(\n",
    "    excel=excel_file, max_carbon=results_100_YT[\"solution\"][\"total_carbon\"] * 0.50\n",
    ")\n",
    "results_50 = my_model.solve()  # solve the model and get back results\n",
    "with open(\"data/YT/YT_output_S2_50.results\", \"wb\") as res:\n",
    "    pickle.dump(results_50, res)\n",
    "# 25% carbon\n",
    "my_model = CarbonEHubModel(\n",
    "    excel=excel_file, max_carbon=results_100_YT[\"solution\"][\"total_carbon\"] * 0.25\n",
    ")\n",
    "results_25 = my_model.solve()  # solve the model and get back results\n",
    "with open(\"data/YT/YT_output_S1_25.results\", \"wb\") as res:\n",
    "    pickle.dump(results_25, res)\n",
    "# 0% carbon\n",
    "# This scenario doesn't work with glpk so I rerun it on my computer with Cplex!"
   ]
  },
  {
   "cell_type": "markdown",
   "metadata": {},
   "source": [
    "## Visualization\n",
    "To facilitate the vizualisation, a dataframe is build which summarizes all the results."
   ]
  },
  {
   "cell_type": "code",
   "execution_count": null,
   "metadata": {},
   "outputs": [],
   "source": [
    "# dataframe for requiered result\n",
    "Info = {\n",
    "    \"ID\": [],\n",
    "    \"Region\": [],\n",
    "    \"Scenario\": [],\n",
    "    \"PV_cap (kW)\": [],\n",
    "    \"Wind_cap (kW)\": [],\n",
    "    \"Diesel generator_cap (kW)\": [],\n",
    "    \"Li-ion Battery (kWh)\": [],\n",
    "    \"Total_cost ($)\": [],\n",
    "    \"Total_carbon (kg)\": [],\n",
    "    \"TotalCost ($/person)\": [],\n",
    "    \"Total Carbon (kg/person)\": [],\n",
    "}\n",
    "region = [\"BC\", \"YT\"]\n",
    "Population = {\"BC\": 90, \"YT\": 221}\n",
    "findScenario = re.compile(\"[A-Z]{2}_output_S\\d_(\\d+).results\")\n",
    "\n",
    "for region in region:\n",
    "    for filename in os.listdir(\"./data/\" + region):\n",
    "        if filename.endswith(\".results\"):\n",
    "            with open(os.path.join(\"./data/\" + region, filename), \"rb\") as f:\n",
    "                Result = pickle.load(f)\n",
    "                ID = filename\n",
    "                # Test case\n",
    "                Region = region\n",
    "                Scenario = (\n",
    "                    \"RES(\" + findScenario.findall(filename)[0] + \")\"\n",
    "                    if findScenario.match(filename)\n",
    "                    else \"Base\"\n",
    "                )\n",
    "                # Converters capacity\n",
    "                Tech_cap_PV = round(Result[\"solution\"][\"capacity_tech\"][\"PV\"], 2)\n",
    "                Tech_cap_wind = round(Result[\"solution\"][\"capacity_tech\"][\"WT\"], 2)\n",
    "                Tech_cap_diesel = round(\n",
    "                    Result[\"solution\"][\"capacity_tech\"][\"Diesel generator\"], 2\n",
    "                )\n",
    "                # Storage capacity\n",
    "                battery_cap = Result[\"solution\"][\"capacity_storage\"][\"Li-ion\"]\n",
    "                # Total cost and carbon\n",
    "                cost = Result[\"solution\"][\"total_cost\"]\n",
    "                carbon = Result[\"solution\"][\"total_carbon\"]\n",
    "                cost_per_person = round(\n",
    "                    (Result[\"solution\"][\"total_cost\"]) / (Population[region])\n",
    "                )\n",
    "                carbon_per_person = round(\n",
    "                    (Result[\"solution\"][\"total_carbon\"]) / (Population[region])\n",
    "                )\n",
    "\n",
    "                Info[\"ID\"].append(ID)\n",
    "                Info[\"Region\"].append(Region)\n",
    "                Info[\"Scenario\"].append(Scenario)\n",
    "                Info[\"PV_cap (kW)\"].append(Tech_cap_PV)\n",
    "                Info[\"Wind_cap (kW)\"].append(Tech_cap_wind)\n",
    "                Info[\"Diesel generator_cap (kW)\"].append(Tech_cap_diesel)\n",
    "                Info[\"Li-ion Battery (kWh)\"].append(battery_cap)\n",
    "                Info[\"Total_cost ($)\"].append(cost)\n",
    "                Info[\"Total_carbon (kg)\"].append(carbon)\n",
    "                Info[\"TotalCost ($/person)\"].append(cost_per_person)\n",
    "                Info[\"Total Carbon (kg/person)\"].append(carbon_per_person)\n",
    "\n",
    "\n",
    "df = pd.DataFrame(data=Info)  # combine all the data in a dataframe\n",
    "\n",
    "df.sort_values(by=[\"ID\"], inplace=True)\n",
    "# df = df.reset_index()\n",
    "df.set_index(\"ID\", inplace=True)\n",
    "df"
   ]
  },
  {
   "cell_type": "markdown",
   "metadata": {},
   "source": [
    "### Optimal designs"
   ]
  },
  {
   "cell_type": "code",
   "execution_count": null,
   "metadata": {},
   "outputs": [],
   "source": [
    "Results_BC = df[df.Region == \"BC\"]\n",
    "Results_YT = df[df.Region == \"YT\"]\n",
    "\n",
    "fig, ax = plt.subplots(1, 2, figsize=(16, 5))\n",
    "\n",
    "viewColumns = [\n",
    "    \"Diesel generator_cap (kW)\",\n",
    "    \"PV_cap (kW)\",\n",
    "    \"Wind_cap (kW)\",\n",
    "    \"Li-ion Battery (kWh)\",\n",
    "]\n",
    "Results_BC.plot.bar(x=\"Scenario\", y=viewColumns, colormap=\"viridis\", ax=ax[0])\n",
    "\n",
    "ax[0].tick_params(axis=\"x\", labelsize=14, labelrotation=0)\n",
    "ax[0].tick_params(axis=\"y\", labelsize=15)\n",
    "ax[0].set_title(\"British Columbia\", fontweight=\"bold\", fontsize=20)\n",
    "\n",
    "viewColumns = [\n",
    "    \"Diesel generator_cap (kW)\",\n",
    "    \"PV_cap (kW)\",\n",
    "    \"Wind_cap (kW)\",\n",
    "    \"Li-ion Battery (kWh)\",\n",
    "]\n",
    "Results_YT.plot.bar(x=\"Scenario\", y=viewColumns, colormap=\"viridis\", ax=ax[1])\n",
    "\n",
    "ax[1].tick_params(axis=\"x\", labelsize=14, labelrotation=0)\n",
    "ax[1].tick_params(axis=\"y\", labelsize=15)\n",
    "ax[1].set_title(\"Yukon\", fontweight=\"bold\", fontsize=20)"
   ]
  },
  {
   "cell_type": "markdown",
   "metadata": {},
   "source": [
    "### Costs and carbon emissions"
   ]
  },
  {
   "cell_type": "code",
   "execution_count": null,
   "metadata": {
    "jupyter": {
     "source_hidden": true
    }
   },
   "outputs": [],
   "source": [
    "fig, ax = plt.subplots(1, 2, figsize=(16, 5))\n",
    "\n",
    "viewColumns = [\"TotalCost ($/person)\", \"Total Carbon (kg/person)\"]\n",
    "Results_BC.plot.bar(x=\"Scenario\", y=viewColumns, colormap=\"RdGy\", ax=ax[0])\n",
    "\n",
    "ax[0].tick_params(axis=\"x\", labelsize=14, labelrotation=0)\n",
    "ax[0].tick_params(axis=\"y\", labelsize=15)\n",
    "ax[0].set_title(\"British Columbia\", fontweight=\"bold\", fontsize=20)\n",
    "\n",
    "viewColumns = [\"TotalCost ($/person)\", \"Total Carbon (kg/person)\"]\n",
    "Results_YT.plot.bar(x=\"Scenario\", y=viewColumns, colormap=\"RdGy\", ax=ax[1])\n",
    "\n",
    "ax[1].tick_params(axis=\"x\", labelsize=14, labelrotation=0)\n",
    "ax[1].tick_params(axis=\"y\", labelsize=15)\n",
    "ax[1].set_title(\"Yukon\", fontweight=\"bold\", fontsize=20)"
   ]
  },
  {
   "cell_type": "markdown",
   "metadata": {},
   "source": [
    "### Pareto front"
   ]
  },
  {
   "cell_type": "code",
   "execution_count": null,
   "metadata": {},
   "outputs": [],
   "source": [
    "# All total demand are in GWh, here converted to MWh\n",
    "# BC\n",
    "Total_cost_BC = Results_BC[\"Total_cost ($)\"][Results_BC.Scenario != \"Base\"] / 1000\n",
    "Total_carbon_BC = Results_BC[\"Total_carbon (kg)\"][Results_BC.Scenario != \"Base\"] / 1000\n",
    "\n",
    "Total_cost_BC_b = Results_BC[\"Total_cost ($)\"][Results_BC.Scenario == \"Base\"] / 1000\n",
    "Total_carbon_BC_b = (\n",
    "    Results_BC[\"Total_carbon (kg)\"][Results_BC.Scenario == \"Base\"] / 1000\n",
    ")\n",
    "\n",
    "# Yukon\n",
    "Total_cost_YT = Results_YT[\"Total_cost ($)\"][Results_YT.Scenario != \"Base\"] / 1000\n",
    "Total_carbon_YT = Results_YT[\"Total_carbon (kg)\"][Results_YT.Scenario != \"Base\"] / 1000\n",
    "\n",
    "Total_cost_YT_b = Results_YT[\"Total_cost ($)\"][Results_YT.Scenario == \"Base\"] / 1000\n",
    "Total_carbon_YT_b = (\n",
    "    Results_YT[\"Total_carbon (kg)\"][Results_YT.Scenario == \"Base\"] / 1000\n",
    ")\n",
    "\n",
    "plt.plot(Total_cost_BC, Total_carbon_BC, label=\"BC\", color=\"g\")\n",
    "plt.plot(Total_cost_BC_b, Total_carbon_BC_b, label=\"BC_base\", marker=11, color=\"g\")\n",
    "plt.plot(Total_cost_YT, Total_carbon_YT, label=\"YT\", color=\"maroon\")\n",
    "plt.plot(Total_cost_YT_b, Total_carbon_YT_b, label=\"YT_base\", marker=11, color=\"maroon\")\n",
    "# plt.plot(xvals_AB, yinterp_AB, '-x')\n",
    "plt.xlabel(\"Total Cost (k$)\", fontsize=15)\n",
    "plt.ylabel(\"Total Carbon (Tons)\", fontsize=15)\n",
    "plt.xticks(fontsize=15)\n",
    "plt.yticks(fontsize=15)\n",
    "# plt.xlim(0,500)\n",
    "# plt.ylim(0,600)\n",
    "plt.legend()\n",
    "plt.show()"
   ]
  }
 ],
 "metadata": {
  "kernelspec": {
   "display_name": "Python 3",
   "language": "python",
   "name": "python3"
  }
 },
 "nbformat": 4,
 "nbformat_minor": 4
}
