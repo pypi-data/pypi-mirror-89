{
 "cells": [
  {
   "cell_type": "markdown",
   "metadata": {
    "papermill": {
     "duration": 0.012225,
     "end_time": "2019-10-28T22:48:54.094811",
     "exception": false,
     "start_time": "2019-10-28T22:48:54.082586",
     "status": "completed"
    },
    "tags": []
   },
   "source": [
    "# Evaluators\n",
    "\n",
    "This notebook covers how to use the three BESOS [Evaluators](https://besos.readthedocs.io/en/latest/evaluator.html):\n",
    "- the EnergyPlus Evaluator (`EvaluatorEP`)\n",
    "- the Generic Evaluator (`EvaluatorGeneric`)\n",
    "- the Energy Hub Evaluator (`EvaluatorEH`)"
   ]
  },
  {
   "cell_type": "code",
   "execution_count": null,
   "metadata": {
    "lines_to_next_cell": 2,
    "papermill": {
     "duration": 1.005274,
     "end_time": "2019-10-28T22:48:55.109585",
     "exception": false,
     "start_time": "2019-10-28T22:48:54.104311",
     "status": "completed"
    },
    "tags": []
   },
   "outputs": [],
   "source": [
    "import numpy as np\n",
    "import pandas as pd\n",
    "\n",
    "from besos.evaluator import EvaluatorEP, EvaluatorGeneric, EvaluatorEH\n",
    "from besos import eppy_funcs as ef\n",
    "from besos import pyehub_funcs as pf\n",
    "from besos.parameters import FieldSelector, Parameter, PathSelector\n",
    "from besos.problem import EPProblem, Problem, EHProblem\n",
    "from besos import sampling"
   ]
  },
  {
   "cell_type": "markdown",
   "metadata": {
    "papermill": {
     "duration": 0.006035,
     "end_time": "2019-10-28T22:48:55.122661",
     "exception": false,
     "start_time": "2019-10-28T22:48:55.116626",
     "status": "completed"
    },
    "tags": []
   },
   "source": [
    "## EvaluatorEP\n",
    "The EnergyPlus evaluator needs a problem with parameters that can modify it, objectives to report, and a building model.\n",
    "A problem (`problem = parameters + objectives`) can be easily applied to any building model (`evaluator = problem + building`)."
   ]
  },
  {
   "cell_type": "code",
   "execution_count": null,
   "metadata": {
    "papermill": {
     "duration": 0.017667,
     "end_time": "2019-10-28T22:48:55.146991",
     "exception": false,
     "start_time": "2019-10-28T22:48:55.129324",
     "status": "completed"
    },
    "tags": []
   },
   "outputs": [],
   "source": [
    "building = ef.get_building()  # load example file if no idf filename is provided\n",
    "\n",
    "parameters = [\n",
    "    Parameter(\n",
    "        FieldSelector(\n",
    "            object_name=\"Mass NonRes Wall Insulation\",  # define wall insulation thickness as a parameter\n",
    "            field_name=\"Thickness\",\n",
    "        )\n",
    "    )\n",
    "]  # options: `FieldSelector`, `FilterSelecor`, `GenericSelector`\n",
    "\n",
    "objectives = [\n",
    "    \"Electricity:Facility\",\n",
    "    \"Gas:Facility\",\n",
    "]  # these get made into `MeterReader` or `VariableReader`\n",
    "problem = EPProblem(parameters, objectives)  # problem = parameters + objectives\n",
    "\n",
    "evaluator = EvaluatorEP(problem, building)  # evaluator = problem + building"
   ]
  },
  {
   "cell_type": "code",
   "execution_count": null,
   "metadata": {
    "papermill": {
     "duration": 1.258319,
     "end_time": "2019-10-28T22:48:56.411178",
     "exception": false,
     "start_time": "2019-10-28T22:48:55.152859",
     "status": "completed"
    },
    "tags": []
   },
   "outputs": [],
   "source": [
    "result = evaluator(\n",
    "    [0.5]\n",
    ")  # run the evaluator with wall insulation thickness set to 0.5m\n",
    "values = dict(zip(objectives, result))\n",
    "for key, value in values.items():\n",
    "    print(key, \" :: \", \"{0:.2f}\".format(value / 3.6e6), \"kWh\")"
   ]
  },
  {
   "cell_type": "markdown",
   "metadata": {},
   "source": [
    "### Different version EnergyPlus"
   ]
  },
  {
   "cell_type": "markdown",
   "metadata": {},
   "source": [
    "EvaluatorEP can set the version of EnergyPlus for running simulation by 'version' parameter. See [this notebook](DifferentVersionEP.ipynb) for detail."
   ]
  },
  {
   "cell_type": "code",
   "execution_count": null,
   "metadata": {},
   "outputs": [],
   "source": [
    "evaluator = EvaluatorEP(problem, building)"
   ]
  },
  {
   "cell_type": "markdown",
   "metadata": {
    "papermill": {
     "duration": 0.006409,
     "end_time": "2019-10-28T22:48:56.424749",
     "exception": false,
     "start_time": "2019-10-28T22:48:56.418340",
     "status": "completed"
    },
    "tags": []
   },
   "source": [
    "## EvaluatorGeneric\n",
    "The generic evaluator takes a function with the correct number of inputs and produces outputs in the format `(objectives, constraints)` where objectives and constraints are tuples.\n",
    "Since this evaluator only uses it's parameters to track the number of inputs and outputs (and their names), we can use numbered placeholders that are automatically generated by `Problem`"
   ]
  },
  {
   "cell_type": "code",
   "execution_count": null,
   "metadata": {
    "papermill": {
     "duration": 0.014767,
     "end_time": "2019-10-28T22:48:56.446148",
     "exception": false,
     "start_time": "2019-10-28T22:48:56.431381",
     "status": "completed"
    },
    "tags": []
   },
   "outputs": [],
   "source": [
    "def function(values):  # define a dummy fucntion f1(x)=x, f2(x)=x^2\n",
    "    return ((values[0], values[0] ** 2))\n",
    "\n",
    "\n",
    "print(\"Function value at 4 is:\", function([4]))\n",
    "\n",
    "new_problem = Problem(\n",
    "    1, 2, 0\n",
    ")  # this denotes a problem which takes 1 input, produces 2 outputs and has no contraints\n",
    "\n",
    "# These names are used on the headings of DataFrames generated by the problem and evaluators that use it\n",
    "print(problem.names(), new_problem.names())\n",
    "\n",
    "evaluator_1 = EvaluatorGeneric(function, problem)\n",
    "evaluator_2 = EvaluatorGeneric(function, new_problem)\n",
    "print(evaluator_1([4]))\n",
    "print(evaluator_2([4]))"
   ]
  },
  {
   "cell_type": "code",
   "execution_count": null,
   "metadata": {
    "papermill": {
     "duration": 0.012825,
     "end_time": "2019-10-28T22:48:56.476870",
     "exception": false,
     "start_time": "2019-10-28T22:48:56.464045",
     "status": "completed"
    },
    "tags": []
   },
   "outputs": [],
   "source": [
    "evaluator_1([4])"
   ]
  },
  {
   "cell_type": "markdown",
   "metadata": {
    "papermill": {
     "duration": 0.006013,
     "end_time": "2019-10-28T22:48:56.489250",
     "exception": false,
     "start_time": "2019-10-28T22:48:56.483237",
     "status": "completed"
    },
    "tags": []
   },
   "source": [
    "## EvaluatorEH\n",
    "The Energy Hub evaluator needs:\n",
    "+ an energy hub model\n",
    "+ a problem with parameters that can modify it\n",
    "+ objectives that correspond to outputs from the model\n",
    "\n",
    "Parameters are provided as a list of key list mapping lists for the different variables in the model.\n",
    "Outputs are provided as a list of the keys from the results of the model."
   ]
  },
  {
   "cell_type": "code",
   "execution_count": null,
   "metadata": {
    "papermill": {
     "duration": 0.027723,
     "end_time": "2019-10-28T22:48:56.523014",
     "exception": false,
     "start_time": "2019-10-28T22:48:56.495291",
     "status": "completed"
    },
    "tags": []
   },
   "outputs": [],
   "source": [
    "hub = pf.get_hub()  # load the hub model specified in config.yaml\n",
    "\n",
    "parameters = [\n",
    "    Parameter(PathSelector(['LOADS','Elec'])),\n",
    "    Parameter(PathSelector(['LOADS','Heat'])),\n",
    "]  # the parameters are the hourly electricty and heat loads  # the parameters are the hourly electricty and heat loads\n",
    "objectives = [\n",
    "    \"total_cost\",\n",
    "    \"total_carbon\",\n",
    "]  # the objectives are the total_carbon and total_cost variables of the Energy Hub problem\n",
    "problem = EHProblem(\n",
    "    parameters, objectives\n",
    ")  # we make a problem out of the parameters and objectives\n",
    "evaluatorEH = EvaluatorEH(\n",
    "    problem, hub\n",
    ")  # and an Evaluator by combining with the hub model"
   ]
  },
  {
   "cell_type": "markdown",
   "metadata": {
    "papermill": {
     "duration": 0.006858,
     "end_time": "2019-10-28T22:48:56.537336",
     "exception": false,
     "start_time": "2019-10-28T22:48:56.530478",
     "status": "completed"
    },
    "tags": []
   },
   "source": [
    "Input values for overwritting the specified parameters can be given in the form of:\n",
    "+ single values\n",
    "+ a dictionary time series\n",
    "+ a dataframe of single values\n",
    "+ a dataframe of time series"
   ]
  },
  {
   "cell_type": "code",
   "execution_count": null,
   "metadata": {
    "papermill": {
     "duration": 0.016992,
     "end_time": "2019-10-28T22:48:56.561623",
     "exception": false,
     "start_time": "2019-10-28T22:48:56.544631",
     "status": "completed"
    },
    "tags": []
   },
   "outputs": [],
   "source": [
    "default_timeseries = [\n",
    "    {\n",
    "        0: 1.0,\n",
    "        1: 4.0,\n",
    "        2: 4.0,\n",
    "        3: 4.0,\n",
    "        4: 4.0,\n",
    "        5: 4.0,\n",
    "        6: 4.0,\n",
    "        7: 4.0,\n",
    "        8: 4.0,\n",
    "        9: 4.0,\n",
    "        10: 4.0,\n",
    "    },\n",
    "    {\n",
    "        0: 20.0,\n",
    "        1: 20.0,\n",
    "        2: 20.0,\n",
    "        3: 20.0,\n",
    "        4: 20.0,\n",
    "        5: 20.0,\n",
    "        6: 20.0,\n",
    "        7: 12.0,\n",
    "        8: 12.0,\n",
    "        9: 12.0,\n",
    "        10: 12.0,\n",
    "    },\n",
    "]\n",
    "just_modified_heat = [\n",
    "    {\n",
    "        0: 1.0,\n",
    "        1: 4.0,\n",
    "        2: 4.0,\n",
    "        3: 4.0,\n",
    "        4: 4.0,\n",
    "        5: 4.0,\n",
    "        6: 4.0,\n",
    "        7: 4.0,\n",
    "        8: 4.0,\n",
    "        9: 4.0,\n",
    "        10: 4.0,\n",
    "    },\n",
    "    {\n",
    "        0: 18.0,\n",
    "        1: 18.0,\n",
    "        2: 18.0,\n",
    "        3: 18.0,\n",
    "        4: 18.0,\n",
    "        5: 18.0,\n",
    "        6: 18.0,\n",
    "        7: 16.0,\n",
    "        8: 16.0,\n",
    "        9: 16.0,\n",
    "        10: 16.0,\n",
    "    },\n",
    "]\n",
    "just_modified_elec = [\n",
    "    {\n",
    "        0: 4.0,\n",
    "        1: 8.0,\n",
    "        2: 6.0,\n",
    "        3: 5.0,\n",
    "        4: 7.0,\n",
    "        5: 7.0,\n",
    "        6: 7.0,\n",
    "        7: 7.0,\n",
    "        8: 7.0,\n",
    "        9: 7.0,\n",
    "        10: 7.0,\n",
    "    },\n",
    "    {\n",
    "        0: 20.0,\n",
    "        1: 20.0,\n",
    "        2: 20.0,\n",
    "        3: 20.0,\n",
    "        4: 20.0,\n",
    "        5: 20.0,\n",
    "        6: 20.0,\n",
    "        7: 12.0,\n",
    "        8: 12.0,\n",
    "        9: 12.0,\n",
    "        10: 12.0,\n",
    "    },\n",
    "]\n",
    "modified_timeseries = [\n",
    "    {\n",
    "        0: 4.0,\n",
    "        1: 8.0,\n",
    "        2: 6.0,\n",
    "        3: 5.0,\n",
    "        4: 7.0,\n",
    "        5: 7.0,\n",
    "        6: 7.0,\n",
    "        7: 7.0,\n",
    "        8: 7.0,\n",
    "        9: 7.0,\n",
    "        10: 7.0,\n",
    "    },\n",
    "    {\n",
    "        0: 18.0,\n",
    "        1: 18.0,\n",
    "        2: 18.0,\n",
    "        3: 18.0,\n",
    "        4: 18.0,\n",
    "        5: 18.0,\n",
    "        6: 18.0,\n",
    "        7: 16.0,\n",
    "        8: 16.0,\n",
    "        9: 16.0,\n",
    "        10: 16.0,\n",
    "    },\n",
    "]\n",
    "timeseries_df = pd.DataFrame(\n",
    "    np.array(\n",
    "        [\n",
    "            default_timeseries,\n",
    "            just_modified_heat,\n",
    "            just_modified_elec,\n",
    "            modified_timeseries,\n",
    "        ]\n",
    "    ),\n",
    "    columns=[\"p1\", \"p2\"],\n",
    ")"
   ]
  },
  {
   "cell_type": "markdown",
   "metadata": {
    "papermill": {
     "duration": 0.006246,
     "end_time": "2019-10-28T22:48:56.574387",
     "exception": false,
     "start_time": "2019-10-28T22:48:56.568141",
     "status": "completed"
    },
    "tags": []
   },
   "source": [
    "Normally the evaluator can be called directly with the input values, but if using a dataframe as input df_apply must be used."
   ]
  },
  {
   "cell_type": "code",
   "execution_count": null,
   "metadata": {
    "papermill": {
     "duration": 0.351084,
     "end_time": "2019-10-28T22:48:56.931770",
     "exception": false,
     "start_time": "2019-10-28T22:48:56.580686",
     "status": "completed"
    },
    "tags": []
   },
   "outputs": [],
   "source": [
    "result = evaluatorEH.df_apply(timeseries_df)\n",
    "result"
   ]
  },
  {
   "cell_type": "code",
   "execution_count": null,
   "metadata": {
    "papermill": {
     "duration": 0.007944,
     "end_time": "2019-10-28T22:48:56.948146",
     "exception": false,
     "start_time": "2019-10-28T22:48:56.940202",
     "status": "completed"
    },
    "tags": []
   },
   "outputs": [],
   "source": []
  }
 ],
 "metadata": {
  "jupytext": {
   "formats": "ipynb,py:light"
  },
  "kernelspec": {
   "display_name": "Python 3",
   "language": "python",
   "name": "python3"
  },
  "language_info": {
   "codemirror_mode": {
    "name": "ipython",
    "version": 3
   },
   "file_extension": ".py",
   "mimetype": "text/x-python",
   "name": "python",
   "nbconvert_exporter": "python",
   "pygments_lexer": "ipython3",
   "version": "3.8.3"
  }
 },
 "nbformat": 4,
 "nbformat_minor": 4
}
