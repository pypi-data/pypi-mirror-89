{
 "cells": [
  {
   "cell_type": "code",
   "execution_count": null,
   "metadata": {},
   "outputs": [],
   "source": [
    "\"\"\"\n",
    "This file should test merging mulitple times. \n",
    "\n",
    "Instructions:\n",
    "- Run this cell. \n",
    "- Open the merge modal. Set the merge keys to Key1 and Key2 respectively. Toggle all on df1 to only take df2's value column.\n",
    "- Press merge and make sure df3 has been created with the first row [A, 5, A].\n",
    "- Open the merge modal. Set the merge keys to Key1 and Key2 respectively. Toggle all on df2 to only take df1's value column.\n",
    "- Press merge and make sure df4 has been created with the first row as [A, 1, A].\n",
    "- Run the generated code cell, print df3, df4, make sure they are the same as the data in the sheet.\n",
    "\"\"\"\n",
    "import pandas as pd\n",
    "import mitosheet\n",
    "df1 = pd.DataFrame(data={'Key1': ['A', 'B', 'C', 'D'], 'value': [1,2,3,4]})\n",
    "df2 = pd.DataFrame(data={'Key2': ['A', 'A', 'B', 'B'], 'value': [5,6,7,8]})\n",
    "mitosheet.sheet(df1, df2)"
   ]
  }
 ],
 "metadata": {
  "kernelspec": {
   "display_name": "Python 3",
   "language": "python",
   "name": "python3"
  },
  "language_info": {
   "codemirror_mode": {
    "name": "ipython",
    "version": 3
   },
   "file_extension": ".py",
   "mimetype": "text/x-python",
   "name": "python",
   "nbconvert_exporter": "python",
   "pygments_lexer": "ipython3",
   "version": "3.8.5"
  },
  "widgets": {
   "application/vnd.jupyter.widget-state+json": {
    "state": {},
    "version_major": 2,
    "version_minor": 0
   }
  }
 },
 "nbformat": 4,
 "nbformat_minor": 4
}
