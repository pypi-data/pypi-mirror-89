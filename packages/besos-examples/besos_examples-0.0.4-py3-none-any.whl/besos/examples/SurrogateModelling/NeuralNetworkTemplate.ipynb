{
 "cells": [
  {
   "cell_type": "code",
   "execution_count": null,
   "metadata": {
    "lines_to_end_of_cell_marker": 2
   },
   "outputs": [],
   "source": [
    "import seaborn as sns\n",
    "from sklearn import neural_network\n",
    "from sklearn.model_selection import train_test_split\n",
    "\n",
    "from besos import eppy_funcs as ef, sampling\n",
    "from besos.evaluator import EvaluatorEP\n",
    "from besos.parameters import expand_plist\n",
    "from besos.problem import EPProblem"
   ]
  },
  {
   "cell_type": "markdown",
   "metadata": {},
   "source": [
    "#  Neural Networks Template\n",
    "\n",
    "A Neural Network is a crude attempt to model and replicate what we believe is happening inside our brains. It is used as a framework for many other machine learning algorithms to work together and process complex datasets.\n",
    "\n",
    "Neural Networks take more effort to set up optimally for each specific data set but give much more accurate results on larger and less smooth data sets when compared to other algorithms such as Linear Regression or a Gaussian Process."
   ]
  },
  {
   "cell_type": "markdown",
   "metadata": {},
   "source": [
    "Before we can start creating the model and fitting data to it, we have to initialise all of the necessary EPlus variables, which include:\n",
    "\n",
    "* The building we are modifying\n",
    "* What parameters we want to modify\n",
    "* The type of problem we are solving for\n",
    "* The samples that we plan to use\n",
    "\n",
    "More info can be found on these from the jupyter notebooks inside of the \"Polished Examples\" folder."
   ]
  },
  {
   "cell_type": "code",
   "execution_count": null,
   "metadata": {},
   "outputs": [],
   "source": [
    "building = ef.get_building()\n",
    "\n",
    "parameters = expand_plist(\n",
    "    {\n",
    "        \"Mass NonRes Wall Insulation\": {\"Thickness\": (0.01, 0.99)},\n",
    "        \"NonRes Fixed Assembly Window\": {\"U-Factor\": (0.1, 5)},\n",
    "    }\n",
    ")\n",
    "\n",
    "problem = EPProblem(parameters, [\"Electricity:Facility\"])\n",
    "\n",
    "samples = sampling.dist_sampler(sampling.seeded_sampler, problem, 500)"
   ]
  },
  {
   "cell_type": "markdown",
   "metadata": {},
   "source": [
    "With those variables made we can then create the EPlus evaluator and use that to get our outputs, which we will be using to train and test our machine learning model"
   ]
  },
  {
   "cell_type": "code",
   "execution_count": null,
   "metadata": {},
   "outputs": [],
   "source": [
    "evaluator = EvaluatorEP(problem, building)\n",
    "\n",
    "outputs = evaluator.df_apply(samples)"
   ]
  },
  {
   "cell_type": "markdown",
   "metadata": {},
   "source": [
    "Now with all of that out of the way we can start on making our machine learning model.\n",
    "\n",
    "Firstly we need to split the data into training data and testing data, which will be used to test:"
   ]
  },
  {
   "cell_type": "code",
   "execution_count": null,
   "metadata": {},
   "outputs": [],
   "source": [
    "train_in, test_in, train_out, test_out = train_test_split(\n",
    "    samples, outputs.values.ravel(), test_size=0.2\n",
    ")"
   ]
  },
  {
   "cell_type": "markdown",
   "metadata": {},
   "source": [
    "Next we need to initiate the machine learning model we want to use, in this case we are using a Neural Network:"
   ]
  },
  {
   "cell_type": "code",
   "execution_count": null,
   "metadata": {},
   "outputs": [],
   "source": [
    "reg = neural_network.MLPRegressor(solver=\"lbfgs\")"
   ]
  },
  {
   "cell_type": "markdown",
   "metadata": {},
   "source": [
    "Neural Networks have many options for customization and can be tweaked according to the dataset at hand.\n",
    "\n",
    "The default values work well, but if needed you can adjust values such as the learning rate (learning_rate_init = 0.001), the maximum amount of iterations (max_iter = 200), and the amount of hidden layers (hidden_layer_sizes = 200) to work better with your particular dataset\n",
    "\n",
    "In this instance we are using a non-default solver, due to this one being much more effective on smaller sample sets. When working with much larger datasets it is recommended to use the default 'adam' solver instead.\n",
    "\n",
    "More info can be found [here](https://scikit-learn.org/stable/modules/generated/sklearn.neural_network.MLPRegressor.html)"
   ]
  },
  {
   "cell_type": "markdown",
   "metadata": {},
   "source": [
    "Afterwards we just need to calibrate the model by giving it the training input and the output data that we got before:"
   ]
  },
  {
   "cell_type": "code",
   "execution_count": null,
   "metadata": {},
   "outputs": [],
   "source": [
    "reg.fit(train_in, train_out)"
   ]
  },
  {
   "cell_type": "markdown",
   "metadata": {},
   "source": [
    "And with that we will have our results:"
   ]
  },
  {
   "cell_type": "code",
   "execution_count": null,
   "metadata": {},
   "outputs": [],
   "source": [
    "results = test_in.copy()\n",
    "results[\"Energy Use\"] = test_out\n",
    "results[\"Predicted\"] = reg.predict(test_in)\n",
    "\n",
    "results.head()"
   ]
  },
  {
   "cell_type": "markdown",
   "metadata": {},
   "source": [
    "If we want to check our accuracy with the R^2 value we can see it using score():"
   ]
  },
  {
   "cell_type": "code",
   "execution_count": null,
   "metadata": {},
   "outputs": [],
   "source": [
    "r_2 = reg.score(train_in, train_out)\n",
    "r_2"
   ]
  },
  {
   "cell_type": "code",
   "execution_count": null,
   "metadata": {},
   "outputs": [],
   "source": [
    "sns.set(style=\"darkgrid\")\n",
    "sns.relplot(\n",
    "    x=\"Thickness\",\n",
    "    y=\"U-Factor\",\n",
    "    hue=\"Energy Use\",\n",
    "    palette=\"ch:2.5,-.2,2,l=.7,d=.3\",\n",
    "    data=results,\n",
    ")"
   ]
  }
 ],
 "metadata": {
  "jupytext": {
   "formats": "ipynb,py:light"
  },
  "kernelspec": {
   "display_name": "Python 3",
   "language": "python",
   "name": "python3"
  },
  "language_info": {
   "codemirror_mode": {
    "name": "ipython",
    "version": 3
   },
   "file_extension": ".py",
   "mimetype": "text/x-python",
   "name": "python",
   "nbconvert_exporter": "python",
   "pygments_lexer": "ipython3",
   "version": "3.8.3"
  }
 },
 "nbformat": 4,
 "nbformat_minor": 4
}
