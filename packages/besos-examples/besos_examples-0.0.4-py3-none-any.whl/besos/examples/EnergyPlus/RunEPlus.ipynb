{
 "cells": [
  {
   "cell_type": "markdown",
   "metadata": {
    "papermill": {
     "duration": 0.009035,
     "end_time": "2019-10-28T23:04:50.401463",
     "exception": false,
     "start_time": "2019-10-28T23:04:50.392428",
     "status": "completed"
    },
    "tags": []
   },
   "source": [
    "# Running EnergyPlus directly\n",
    "Here we demonstrate various ways of interacting with EnergyPlus models directly."
   ]
  },
  {
   "cell_type": "code",
   "execution_count": null,
   "metadata": {
    "lines_to_next_cell": 2,
    "papermill": {
     "duration": 1.147014,
     "end_time": "2019-10-28T23:04:51.559764",
     "exception": false,
     "start_time": "2019-10-28T23:04:50.412750",
     "status": "completed"
    },
    "tags": []
   },
   "outputs": [],
   "source": [
    "import os\n",
    "\n",
    "from besos import eppy_funcs as ef\n",
    "from besos.evaluator import EvaluatorEP\n",
    "from besos.problem import EPProblem"
   ]
  },
  {
   "cell_type": "markdown",
   "metadata": {
    "papermill": {
     "duration": 0.003936,
     "end_time": "2019-10-28T23:04:51.569630",
     "exception": false,
     "start_time": "2019-10-28T23:04:51.565694",
     "status": "completed"
    },
    "tags": []
   },
   "source": [
    "### Using an Evaluator with no Parameters\n",
    "Here we run in.idf and sum the Meter `Electricity:Facility`, but don't vary any parameters."
   ]
  },
  {
   "cell_type": "code",
   "execution_count": null,
   "metadata": {
    "papermill": {
     "duration": 5.406063,
     "end_time": "2019-10-28T23:04:56.980064",
     "exception": false,
     "start_time": "2019-10-28T23:04:51.574001",
     "status": "completed"
    },
    "tags": []
   },
   "outputs": [],
   "source": [
    "building = ef.get_building(\"in.idf\")\n",
    "evaluator = EvaluatorEP(EPProblem(outputs=[\"Electricity:Facility\"]), building)\n",
    "evaluator([])"
   ]
  },
  {
   "cell_type": "markdown",
   "metadata": {
    "papermill": {
     "duration": 0.004035,
     "end_time": "2019-10-28T23:04:56.989731",
     "exception": false,
     "start_time": "2019-10-28T23:04:56.985696",
     "status": "completed"
    },
    "tags": []
   },
   "source": [
    "### Using EPPy\n",
    "BESOS building objects are actually EPPy building objects.\n",
    "[Eppy's documentation](https://eppy.readthedocs.io/en/latest/) describes how to explore and modify the IDF object directly.\n",
    "Here we list the materials present in in.idf, then run it."
   ]
  },
  {
   "cell_type": "code",
   "execution_count": null,
   "metadata": {
    "papermill": {
     "duration": 3.544206,
     "end_time": "2019-10-28T23:05:00.538320",
     "exception": false,
     "start_time": "2019-10-28T23:04:56.994114",
     "status": "completed"
    },
    "tags": []
   },
   "outputs": [],
   "source": [
    "building = ef.get_building(\"in.idf\")\n",
    "building.savecopy(\"in_copy.idf\")\n",
    "print([materials.Name for materials in building.idfobjects[\"MATERIAL\"]])\n",
    "building.epw = \"./weatherfile.epw\"\n",
    "try:\n",
    "    building.run(output_directory=\"output_folder\")\n",
    "finally:\n",
    "    os.rename(\"in_copy.idf\", \"in.idf\")"
   ]
  },
  {
   "cell_type": "markdown",
   "metadata": {
    "papermill": {
     "duration": 0.005892,
     "end_time": "2019-10-28T23:05:00.552243",
     "exception": false,
     "start_time": "2019-10-28T23:05:00.546351",
     "status": "completed"
    },
    "tags": []
   },
   "source": [
    "### Using a bash cell to execute it from the command line\n",
    "Run `energyplus -h` for more commands."
   ]
  },
  {
   "cell_type": "code",
   "execution_count": null,
   "metadata": {
    "papermill": {
     "duration": 3.603416,
     "end_time": "2019-10-28T23:05:04.161130",
     "exception": false,
     "start_time": "2019-10-28T23:05:00.557714",
     "status": "completed"
    },
    "tags": []
   },
   "outputs": [],
   "source": [
    "!energyplus -w weatherfile.epw in.idf"
   ]
  },
  {
   "cell_type": "code",
   "execution_count": null,
   "metadata": {
    "papermill": {
     "duration": 0.010352,
     "end_time": "2019-10-28T23:05:04.185553",
     "exception": false,
     "start_time": "2019-10-28T23:05:04.175201",
     "status": "completed"
    },
    "tags": []
   },
   "outputs": [],
   "source": []
  }
 ],
 "metadata": {
  "kernelspec": {
   "display_name": "Python 3",
   "language": "python",
   "name": "python3"
  }
 },
 "nbformat": 4,
 "nbformat_minor": 4
}
