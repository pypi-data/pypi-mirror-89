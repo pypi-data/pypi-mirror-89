{
 "cells": [
  {
   "cell_type": "markdown",
   "metadata": {
    "papermill": {
     "duration": 0.008451,
     "end_time": "2019-10-28T23:04:05.560075",
     "exception": false,
     "start_time": "2019-10-28T23:04:05.551624",
     "status": "completed"
    },
    "tags": []
   },
   "source": [
    "# Editing the Excel Network model inside a notebook\n",
    "\n",
    "\n",
    "This notebook displays each sheet of the Excel input file.\n",
    "These sheets are interactive: edit them inline by clicking on the cells.\n",
    "Specify the excel filenames below.\n",
    "\n",
    "In the longer term, notebooks will become the main way of specifying models and the Excel format will be depreciated."
   ]
  },
  {
   "cell_type": "code",
   "execution_count": null,
   "metadata": {
    "lines_to_next_cell": 2,
    "papermill": {
     "duration": 0.475218,
     "end_time": "2019-10-28T23:04:06.041890",
     "exception": false,
     "start_time": "2019-10-28T23:04:05.566672",
     "status": "completed"
    },
    "tags": []
   },
   "outputs": [],
   "source": [
    "import pandas as pd\n",
    "from ipysheet import from_dataframe, to_dataframe\n",
    "from openpyxl import load_workbook"
   ]
  },
  {
   "cell_type": "code",
   "execution_count": null,
   "metadata": {
    "papermill": {
     "duration": 0.074479,
     "end_time": "2019-10-28T23:04:06.122298",
     "exception": false,
     "start_time": "2019-10-28T23:04:06.047819",
     "status": "completed"
    },
    "tags": []
   },
   "outputs": [],
   "source": [
    "excel_file = \"network2.xlsx\"  # specify the name of your input excel file\n",
    "book = load_workbook(excel_file)\n",
    "\n",
    "reader = pd.ExcelWriter(excel_file, engine=\"openpyxl\")\n",
    "# the writer object\n",
    "writer = pd.ExcelWriter(\n",
    "    excel_file, engine=\"openpyxl\", options={\"strings_to_numbers\": True}\n",
    ")\n",
    "writer.book = book\n",
    "writer.sheets = dict((ws.title, ws) for ws in book.worksheets)\n",
    "sheet_names = [\"Network\", \"Network links\", \"Capacities\"]\n",
    "\n",
    "dfr = []\n",
    "sheetr = []\n",
    "i = 0\n",
    "for current_sheet in sheet_names:\n",
    "    dfr.append(pd.read_excel(\"network2.xlsx\", sheet_name=current_sheet))\n",
    "    dfr[i] = dfr[i].fillna(\"\")\n",
    "    sheetr.append(from_dataframe(dfr[i]))\n",
    "    i += 1"
   ]
  },
  {
   "cell_type": "markdown",
   "metadata": {
    "papermill": {
     "duration": 0.004827,
     "end_time": "2019-10-28T23:04:06.132137",
     "exception": false,
     "start_time": "2019-10-28T23:04:06.127310",
     "status": "completed"
    },
    "tags": []
   },
   "source": [
    "To save changes to a sheet, run the cell just below.\n",
    "\n",
    "Important points to note when working with `ipysheets`:\n",
    "+ `ipysheets` takes some time to save the changes from the edit to memory. These are then saved to the excel file from memory using the 'save' cell.\n",
    "+ Review the changes to memory by rerunning the `ipysheets` cell again to make sure the changes persist in the sheet. Repeat if change isn't seen.\n",
    "+ When your change persists, run the 'save' cell. After executing, a `DataFrame` is displayed below to reflect the changes made to the excel file.\n",
    "+ `ipysheets` can't edit column headings, so we keep a blank row for this, don't remove it.\n",
    "\n",
    "## Network"
   ]
  },
  {
   "cell_type": "code",
   "execution_count": null,
   "metadata": {
    "papermill": {
     "duration": 0.01252,
     "end_time": "2019-10-28T23:04:06.149573",
     "exception": false,
     "start_time": "2019-10-28T23:04:06.137053",
     "status": "completed"
    },
    "tags": []
   },
   "outputs": [],
   "source": [
    "sheetr[0]"
   ]
  },
  {
   "cell_type": "code",
   "execution_count": null,
   "metadata": {
    "papermill": {
     "duration": 0.03333,
     "end_time": "2019-10-28T23:04:06.189533",
     "exception": false,
     "start_time": "2019-10-28T23:04:06.156203",
     "status": "completed"
    },
    "tags": []
   },
   "outputs": [],
   "source": [
    "df_0 = to_dataframe(sheetr[0])\n",
    "df_0.to_excel(\n",
    "    writer, sheet_name=sheet_names[0], index=False, engine=\"openpyxl\", na_rep=\"\"\n",
    ")\n",
    "writer.save()\n",
    "df_0"
   ]
  },
  {
   "cell_type": "markdown",
   "metadata": {
    "papermill": {
     "duration": 0.005594,
     "end_time": "2019-10-28T23:04:06.204828",
     "exception": false,
     "start_time": "2019-10-28T23:04:06.199234",
     "status": "completed"
    },
    "tags": []
   },
   "source": [
    "## Network links"
   ]
  },
  {
   "cell_type": "code",
   "execution_count": null,
   "metadata": {
    "papermill": {
     "duration": 0.01274,
     "end_time": "2019-10-28T23:04:06.223236",
     "exception": false,
     "start_time": "2019-10-28T23:04:06.210496",
     "status": "completed"
    },
    "tags": []
   },
   "outputs": [],
   "source": [
    "sheetr[1]"
   ]
  },
  {
   "cell_type": "code",
   "execution_count": null,
   "metadata": {
    "papermill": {
     "duration": 0.027563,
     "end_time": "2019-10-28T23:04:06.256819",
     "exception": false,
     "start_time": "2019-10-28T23:04:06.229256",
     "status": "completed"
    },
    "tags": []
   },
   "outputs": [],
   "source": [
    "df_1 = to_dataframe(sheetr[1])\n",
    "df_1.to_excel(\n",
    "    writer, sheet_name=sheet_names[1], index=False, engine=\"openpyxl\", na_rep=\"\"\n",
    ")\n",
    "writer.save()\n",
    "df_1"
   ]
  },
  {
   "cell_type": "markdown",
   "metadata": {
    "papermill": {
     "duration": 0.006536,
     "end_time": "2019-10-28T23:04:06.270598",
     "exception": false,
     "start_time": "2019-10-28T23:04:06.264062",
     "status": "completed"
    },
    "tags": []
   },
   "source": [
    "## Capacities"
   ]
  },
  {
   "cell_type": "code",
   "execution_count": null,
   "metadata": {
    "papermill": {
     "duration": 0.014096,
     "end_time": "2019-10-28T23:04:06.291342",
     "exception": false,
     "start_time": "2019-10-28T23:04:06.277246",
     "status": "completed"
    },
    "tags": []
   },
   "outputs": [],
   "source": [
    "sheetr[2]"
   ]
  },
  {
   "cell_type": "code",
   "execution_count": null,
   "metadata": {
    "papermill": {
     "duration": 0.027968,
     "end_time": "2019-10-28T23:04:06.325893",
     "exception": false,
     "start_time": "2019-10-28T23:04:06.297925",
     "status": "completed"
    },
    "tags": []
   },
   "outputs": [],
   "source": [
    "df_2 = to_dataframe(sheetr[2])\n",
    "df_2.to_excel(\n",
    "    writer, sheet_name=sheet_names[2], index=False, engine=\"openpyxl\", na_rep=\"\"\n",
    ")\n",
    "writer.save()\n",
    "df_2"
   ]
  },
  {
   "cell_type": "code",
   "execution_count": null,
   "metadata": {
    "papermill": {
     "duration": 0.006704,
     "end_time": "2019-10-28T23:04:06.339291",
     "exception": false,
     "start_time": "2019-10-28T23:04:06.332587",
     "status": "completed"
    },
    "tags": []
   },
   "outputs": [],
   "source": []
  }
 ],
 "metadata": {
  "kernelspec": {
   "display_name": "Python 3",
   "language": "python",
   "name": "python3"
  }
 },
 "nbformat": 4,
 "nbformat_minor": 4
}
