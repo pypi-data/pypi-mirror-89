{
 "cells": [
  {
   "cell_type": "markdown",
   "metadata": {
    "deletable": true,
    "editable": true
   },
   "source": [
    "# Use the `DockerImage` class to dockerize a python function"
   ]
  },
  {
   "cell_type": "markdown",
   "metadata": {},
   "source": [
    "The cloudknot `Knot` class creates its own docker image. For most users, it should work well \"out of the box.\" For very complicated programs, you may need to edit the Dockerfile that cloudknot creates for your function. In that case, you can use the `DockerImage` class to dockerize your python function, make any edits that you need to make, and then send that `DockerImage` instance to a `Knot` using `Knot(..., docker_image=<your customized DockerImage instance>, ...)`."
   ]
  },
  {
   "cell_type": "code",
   "execution_count": 1,
   "metadata": {
    "collapsed": false,
    "deletable": true,
    "editable": true
   },
   "outputs": [],
   "source": [
    "import logging\n",
    "import uuid\n",
    "import cloudknot as ck"
   ]
  },
  {
   "cell_type": "markdown",
   "metadata": {
    "deletable": true,
    "editable": true
   },
   "source": [
    "Set the logging level to print loging statements in the notebook"
   ]
  },
  {
   "cell_type": "code",
   "execution_count": 2,
   "metadata": {
    "collapsed": true,
    "deletable": true,
    "editable": true
   },
   "outputs": [],
   "source": [
    "logger = logging.getLogger()\n",
    "logger.setLevel(logging.INFO)  # Change this to logging.DEBUG if you want more verbose output"
   ]
  },
  {
   "cell_type": "markdown",
   "metadata": {
    "deletable": true,
    "editable": true
   },
   "source": [
    "## Initialization"
   ]
  },
  {
   "cell_type": "markdown",
   "metadata": {
    "deletable": true,
    "editable": true
   },
   "source": [
    "Create a test function, `test_func`, that `DockerImage` will dockerize. Sprinkle a bunch of import statements everywhere."
   ]
  },
  {
   "cell_type": "code",
   "execution_count": 3,
   "metadata": {
    "collapsed": true,
    "deletable": true,
    "editable": true
   },
   "outputs": [],
   "source": [
    "def test_func(name=None, *, no_capitalize=False):\n",
    "    \"\"\"Test function for unit testing of cloudknot.DockerReqs\n",
    "\n",
    "    Import statements of various formats are deliberately scattered\n",
    "    throughout the function to test the pipreqs components of\n",
    "    clouknot.DockerReqs\n",
    "    \"\"\"\n",
    "    import AFQ\n",
    "    import sys\n",
    "    import boto3.ec2\n",
    "    if name:\n",
    "        from docker import api\n",
    "        from os.path import join\n",
    "\n",
    "        if not no_capitalize:\n",
    "            import pytest as pt\n",
    "            import h5py.utils as h5utils\n",
    "\n",
    "            name = name.title()\n",
    "\n",
    "        return 'Hello {0}!'.format(name)\n",
    "\n",
    "    from six import binary_type as bt\n",
    "    from dask.base import curry as dbc\n",
    "\n",
    "    return 'Hello world!'"
   ]
  },
  {
   "cell_type": "markdown",
   "metadata": {
    "deletable": true,
    "editable": true
   },
   "source": [
    "Create a `DockerImage` instance from the test function. Since `AFQ` is not available via `pip install`, give the `DockerImage` its github address to install from github."
   ]
  },
  {
   "cell_type": "code",
   "execution_count": 4,
   "metadata": {
    "collapsed": false,
    "deletable": true,
    "editable": true
   },
   "outputs": [
    {
     "name": "stdout",
     "output_type": "stream",
     "text": [
      "test_func\n",
      "/Users/Adam/code/projects/cloudknot/examples/cloudknot_docker_test_func_4vkenxtc\n",
      "/Users/Adam/code/projects/cloudknot/examples/cloudknot_docker_test_func_4vkenxtc/requirements.txt\n",
      "/Users/Adam/code/projects/cloudknot/examples/cloudknot_docker_test_func_4vkenxtc/Dockerfile\n",
      "/Users/Adam/code/projects/cloudknot/examples/cloudknot_docker_test_func_4vkenxtc/test_func.py\n",
      "[{'name': 'boto3', 'version': '1.4.7'}, {'name': 'cloudpickle', 'version': '0.4.1'}, {'name': 'dask', 'version': '0.15.4'}, {'name': 'docker', 'version': '2.5.1'}, {'name': 'h5py', 'version': '2.7.1'}, {'name': 'pytest', 'version': '3.2.3'}, {'name': 'six', 'version': '1.11.0'}]\n",
      "['https://github.com/yeatmanlab/pyAFQ.git']\n",
      "['AFQ']\n",
      "cloudknot-user\n",
      "<function test_func at 0x113e36d08>\n"
     ]
    }
   ],
   "source": [
    "image = ck.DockerImage(func=test_func,\n",
    "                       base_image=\"python:3.7\",\n",
    "                       github_installs=(\n",
    "                           'https://github.com/yeatmanlab/pyAFQ.git',\n",
    "                       ))\n",
    "print(image.name)\n",
    "print(image.build_path)\n",
    "print(image.req_path)\n",
    "print(image.docker_path)\n",
    "print(image.script_path)\n",
    "print(image.pip_imports)\n",
    "print(image.github_installs)\n",
    "print(image.missing_imports)\n",
    "print(image.username)\n",
    "print(image.func)"
   ]
  },
  {
   "cell_type": "markdown",
   "metadata": {},
   "source": [
    "If you didn't supply the github address, or if your dependencies require a bit more work to install, simply head to the Dockerfile at `image.docker_path` and edit the Dockerfile by hand with your more complicated install. Then resume with the following commands."
   ]
  },
  {
   "cell_type": "markdown",
   "metadata": {
    "deletable": true,
    "editable": true
   },
   "source": [
    "## Building the image"
   ]
  },
  {
   "cell_type": "markdown",
   "metadata": {
    "deletable": true,
    "editable": true
   },
   "source": [
    "On `__init__`, `DockerImage` just creates all of the pre-requisite files: a Dockerfile, requirements.txt, and a CLI script. Since we haven't built or pushed this docker image yet, some of the parameters are empty or `None`."
   ]
  },
  {
   "cell_type": "code",
   "execution_count": 5,
   "metadata": {
    "collapsed": false,
    "deletable": true,
    "editable": true
   },
   "outputs": [
    {
     "name": "stdout",
     "output_type": "stream",
     "text": [
      "[]\n",
      "None\n"
     ]
    }
   ],
   "source": [
    "print(image.images)\n",
    "print(image.repo_uri)"
   ]
  },
  {
   "cell_type": "markdown",
   "metadata": {
    "deletable": true,
    "editable": true
   },
   "source": [
    "Let's actually build this image locally. You'll need Docker running on your machine for this to work. We'll pass in a list of tags. You can use any tag you want, as long as it isn't \"latest.\""
   ]
  },
  {
   "cell_type": "code",
   "execution_count": 6,
   "metadata": {
    "collapsed": false,
    "deletable": true,
    "editable": true
   },
   "outputs": [],
   "source": [
    "image.build(tags=['example'])"
   ]
  },
  {
   "cell_type": "markdown",
   "metadata": {
    "deletable": true,
    "editable": true
   },
   "source": [
    "Now that we've built the image, the `image_name` and `tags` parameters should be set. Since we haven't pushed the image to a repository, the `repo_uri` parameter is still `None`."
   ]
  },
  {
   "cell_type": "code",
   "execution_count": 7,
   "metadata": {
    "collapsed": false,
    "deletable": true,
    "editable": true
   },
   "outputs": [
    {
     "name": "stdout",
     "output_type": "stream",
     "text": [
      "[{'name': 'cloudknot/test_func', 'tag': 'example'}]\n",
      "None\n"
     ]
    }
   ],
   "source": [
    "print(image.images)\n",
    "print(image.repo_uri)"
   ]
  },
  {
   "cell_type": "markdown",
   "metadata": {
    "deletable": true,
    "editable": true
   },
   "source": [
    "## Pushing to a remote repository (by specifying a `DockerRepo` instance)"
   ]
  },
  {
   "cell_type": "markdown",
   "metadata": {
    "deletable": true,
    "editable": true
   },
   "source": [
    "`DockerImage` instances know how to interact with `DockerRepo` instances. So we could create a new repo using cloudknot's `DockerRepo` class and pass that instance to the `image.push()` method."
   ]
  },
  {
   "cell_type": "code",
   "execution_count": 8,
   "metadata": {
    "collapsed": false,
    "deletable": true,
    "editable": true
   },
   "outputs": [],
   "source": [
    "repo = ck.aws.DockerRepo(name=str(uuid.uuid4()))\n",
    "image.push(repo=repo)"
   ]
  },
  {
   "cell_type": "markdown",
   "metadata": {
    "deletable": true,
    "editable": true
   },
   "source": [
    "Get the URI of the remote repo"
   ]
  },
  {
   "cell_type": "code",
   "execution_count": 9,
   "metadata": {
    "collapsed": false,
    "deletable": true,
    "editable": true
   },
   "outputs": [
    {
     "name": "stdout",
     "output_type": "stream",
     "text": [
      "[{'name': 'cloudknot/test_func', 'tag': 'example'}]\n",
      "455598791984.dkr.ecr.us-east-1.amazonaws.com/4852adc8-89df-4ddd-a434-e4154677bdd7:example\n"
     ]
    }
   ],
   "source": [
    "print(image.images)\n",
    "print(image.repo_uri)"
   ]
  },
  {
   "cell_type": "markdown",
   "metadata": {
    "deletable": true,
    "editable": true
   },
   "source": [
    "Clean up after ourselves using the `clobber` method. This will remove the associated local docker images and the pre-requisite files. By design, it will not delete the remote repository or remote image. This must be done by calling the `DockerRepo.clobber()` method."
   ]
  },
  {
   "cell_type": "code",
   "execution_count": 10,
   "metadata": {
    "collapsed": false,
    "deletable": true,
    "editable": true
   },
   "outputs": [],
   "source": [
    "image.clobber()\n",
    "repo.clobber()"
   ]
  },
  {
   "cell_type": "code",
   "execution_count": null,
   "metadata": {
    "collapsed": true,
    "deletable": true,
    "editable": true
   },
   "outputs": [],
   "source": []
  }
 ],
 "metadata": {
  "kernelspec": {
   "display_name": "Python 3",
   "language": "python",
   "name": "python3"
  },
  "language_info": {
   "codemirror_mode": {
    "name": "ipython",
    "version": 3
   },
   "file_extension": ".py",
   "mimetype": "text/x-python",
   "name": "python",
   "nbconvert_exporter": "python",
   "pygments_lexer": "ipython3",
   "version": "3.7.2"
  }
 },
 "nbformat": 4,
 "nbformat_minor": 2
}
