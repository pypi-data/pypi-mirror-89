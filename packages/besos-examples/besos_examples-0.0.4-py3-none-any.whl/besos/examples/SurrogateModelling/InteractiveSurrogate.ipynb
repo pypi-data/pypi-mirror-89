{
 "cells": [
  {
   "cell_type": "markdown",
   "metadata": {
    "papermill": {
     "duration": 0.014487,
     "end_time": "2019-10-28T22:55:46.909905",
     "exception": false,
     "start_time": "2019-10-28T22:55:46.895418",
     "status": "completed"
    },
    "tags": []
   },
   "source": [
    "# Interactive Surrogate Modelling\n",
    "\n",
    "In this notebook we:\n",
    "+ define a problem consisting of parameters to vary with ranges and an objective function\n",
    "+ sample the problem space\n",
    "+ define an Evaluator by linking the problem to an EnergyPlus model\n",
    "+ run the Evaluator for the samples\n",
    "+ train a surrogate model over the samples\n",
    "+ explore the design space using an interactive plot that queries the surrogate model"
   ]
  },
  {
   "cell_type": "code",
   "execution_count": null,
   "metadata": {
    "lines_to_next_cell": 2,
    "papermill": {
     "duration": 1.304249,
     "end_time": "2019-10-28T22:55:48.229882",
     "exception": false,
     "start_time": "2019-10-28T22:55:46.925633",
     "status": "completed"
    },
    "tags": []
   },
   "outputs": [],
   "source": [
    "import numpy as np\n",
    "import pandas as pd\n",
    "import seaborn as sns\n",
    "from besos import eppy_funcs as ef, sampling\n",
    "from besos.evaluator import EvaluatorEP\n",
    "from besos.parameters import FieldSelector, Parameter, RangeParameter\n",
    "from besos.problem import EPProblem\n",
    "from ipywidgets import FloatSlider, interact\n",
    "from matplotlib import pyplot as plt\n",
    "from sklearn import linear_model, pipeline\n",
    "from sklearn.preprocessing import StandardScaler"
   ]
  },
  {
   "cell_type": "markdown",
   "metadata": {
    "papermill": {
     "duration": 0.011194,
     "end_time": "2019-10-28T22:55:48.252689",
     "exception": false,
     "start_time": "2019-10-28T22:55:48.241495",
     "status": "completed"
    },
    "tags": []
   },
   "source": [
    "## Parameters and Objectives\n",
    "We start by defining `Parameters` that govern how we would like to modify the building.\n",
    "Here they are the solar heat gain coefficient and the lighting power density."
   ]
  },
  {
   "cell_type": "code",
   "execution_count": null,
   "metadata": {
    "papermill": {
     "duration": 0.021206,
     "end_time": "2019-10-28T22:55:48.284497",
     "exception": false,
     "start_time": "2019-10-28T22:55:48.263291",
     "status": "completed"
    },
    "tags": []
   },
   "outputs": [],
   "source": [
    "parameters = [\n",
    "    Parameter(\n",
    "        FieldSelector(\n",
    "            object_name=\"NonRes Fixed Assembly Window\",\n",
    "            field_name=\"Solar Heat Gain Coefficient\",\n",
    "        ),\n",
    "        value_descriptor=RangeParameter(0.01, 0.99),\n",
    "    ),\n",
    "    Parameter(\n",
    "        FieldSelector(\"Lights\", \"*\", \"Watts per Zone Floor Area\"),\n",
    "        value_descriptor=RangeParameter(8, 12),\n",
    "        name=\"Lights Watts/Area\",\n",
    "    ),\n",
    "]"
   ]
  },
  {
   "cell_type": "markdown",
   "metadata": {
    "papermill": {
     "duration": 0.00987,
     "end_time": "2019-10-28T22:55:48.305075",
     "exception": false,
     "start_time": "2019-10-28T22:55:48.295205",
     "status": "completed"
    },
    "tags": []
   },
   "source": [
    "Now, we specify that we would like to optimize for electricity use of the entire facility. We then bundle all of this information together."
   ]
  },
  {
   "cell_type": "code",
   "execution_count": null,
   "metadata": {
    "papermill": {
     "duration": 0.01605,
     "end_time": "2019-10-28T22:55:48.331527",
     "exception": false,
     "start_time": "2019-10-28T22:55:48.315477",
     "status": "completed"
    },
    "tags": []
   },
   "outputs": [],
   "source": [
    "objectives = [\"Electricity:Facility\"]\n",
    "\n",
    "problem = EPProblem(parameters, objectives)"
   ]
  },
  {
   "cell_type": "markdown",
   "metadata": {
    "papermill": {
     "duration": 0.010894,
     "end_time": "2019-10-28T22:55:48.353807",
     "exception": false,
     "start_time": "2019-10-28T22:55:48.342913",
     "status": "completed"
    },
    "tags": []
   },
   "source": [
    "## Sampling\n",
    "\n",
    "We need to generate samples on which to train a surrogate model.\n",
    "The `sampler` uses Latin Hypercube Sampling to distribute the samples in the design space defined by the `Parameters`.\n",
    "We can check how well distributed they are using `describe()`."
   ]
  },
  {
   "cell_type": "code",
   "execution_count": null,
   "metadata": {
    "papermill": {
     "duration": 0.033569,
     "end_time": "2019-10-28T22:55:48.398067",
     "exception": false,
     "start_time": "2019-10-28T22:55:48.364498",
     "status": "completed"
    },
    "tags": []
   },
   "outputs": [],
   "source": [
    "inputs = sampling.dist_sampler(sampling.lhs, problem, 5)\n",
    "inputs.describe()  # properties of the sample set"
   ]
  },
  {
   "cell_type": "markdown",
   "metadata": {
    "papermill": {
     "duration": 0.009808,
     "end_time": "2019-10-28T22:55:48.418366",
     "exception": false,
     "start_time": "2019-10-28T22:55:48.408558",
     "status": "completed"
    },
    "tags": []
   },
   "source": [
    "## Building model\n",
    "Next we load an EnergyPlus model. The example is a small office, or we could pass in the IDF filename."
   ]
  },
  {
   "cell_type": "code",
   "execution_count": null,
   "metadata": {
    "papermill": {
     "duration": 0.019596,
     "end_time": "2019-10-28T22:55:48.448582",
     "exception": false,
     "start_time": "2019-10-28T22:55:48.428986",
     "status": "completed"
    },
    "tags": []
   },
   "outputs": [],
   "source": [
    "building = ef.get_building()"
   ]
  },
  {
   "cell_type": "markdown",
   "metadata": {
    "papermill": {
     "duration": 0.011805,
     "end_time": "2019-10-28T22:55:48.473061",
     "exception": false,
     "start_time": "2019-10-28T22:55:48.461256",
     "status": "completed"
    },
    "tags": []
   },
   "source": [
    "## Evaluator\n",
    "We now define and run the Evaluator, which will run the EnergyPlus instances with the different inputs generated in the previous cell."
   ]
  },
  {
   "cell_type": "code",
   "execution_count": null,
   "metadata": {
    "papermill": {
     "duration": 6.968001,
     "end_time": "2019-10-28T22:55:55.452169",
     "exception": false,
     "start_time": "2019-10-28T22:55:48.484168",
     "status": "completed"
    },
    "tags": []
   },
   "outputs": [],
   "source": [
    "evaluator = EvaluatorEP(problem, building)\n",
    "train = evaluator.df_apply(inputs, keep_input=True)\n",
    "train.head()  # first 5 lines"
   ]
  },
  {
   "cell_type": "markdown",
   "metadata": {
    "papermill": {
     "duration": 0.012422,
     "end_time": "2019-10-28T22:55:55.476198",
     "exception": false,
     "start_time": "2019-10-28T22:55:55.463776",
     "status": "completed"
    },
    "tags": []
   },
   "source": [
    "We can save results at this point:"
   ]
  },
  {
   "cell_type": "code",
   "execution_count": null,
   "metadata": {
    "papermill": {
     "duration": 0.017532,
     "end_time": "2019-10-28T22:55:55.504936",
     "exception": false,
     "start_time": "2019-10-28T22:55:55.487404",
     "status": "completed"
    },
    "tags": []
   },
   "outputs": [],
   "source": [
    "train.to_pickle(\"samples.p\")"
   ]
  },
  {
   "cell_type": "markdown",
   "metadata": {
    "papermill": {
     "duration": 0.010716,
     "end_time": "2019-10-28T22:55:55.526989",
     "exception": false,
     "start_time": "2019-10-28T22:55:55.516273",
     "status": "completed"
    },
    "tags": []
   },
   "source": [
    "And load them again later:"
   ]
  },
  {
   "cell_type": "code",
   "execution_count": null,
   "metadata": {
    "papermill": {
     "duration": 0.01646,
     "end_time": "2019-10-28T22:55:55.554247",
     "exception": false,
     "start_time": "2019-10-28T22:55:55.537787",
     "status": "completed"
    },
    "tags": []
   },
   "outputs": [],
   "source": [
    "train = pd.read_pickle(\"samples.p\")"
   ]
  },
  {
   "cell_type": "markdown",
   "metadata": {
    "papermill": {
     "duration": 0.011886,
     "end_time": "2019-10-28T22:55:55.578323",
     "exception": false,
     "start_time": "2019-10-28T22:55:55.566437",
     "status": "completed"
    },
    "tags": []
   },
   "source": [
    "## Exploring the training data\n",
    "Let's look at the correlation amongst the inputs and the output using a built-in [Seaborn](http://seaborn.pydata.org/) plot:"
   ]
  },
  {
   "cell_type": "code",
   "execution_count": null,
   "metadata": {
    "papermill": {
     "duration": 1.841446,
     "end_time": "2019-10-28T22:55:57.431248",
     "exception": false,
     "start_time": "2019-10-28T22:55:55.589802",
     "status": "completed"
    },
    "tags": []
   },
   "outputs": [],
   "source": [
    "g = sns.pairplot(train)"
   ]
  },
  {
   "cell_type": "markdown",
   "metadata": {
    "papermill": {
     "duration": 0.011643,
     "end_time": "2019-10-28T22:55:57.455921",
     "exception": false,
     "start_time": "2019-10-28T22:55:57.444278",
     "status": "completed"
    },
    "tags": []
   },
   "source": [
    "Here's a plot of the _design space_ defined by the samples."
   ]
  },
  {
   "cell_type": "code",
   "execution_count": null,
   "metadata": {
    "papermill": {
     "duration": 0.251437,
     "end_time": "2019-10-28T22:55:57.721132",
     "exception": false,
     "start_time": "2019-10-28T22:55:57.469695",
     "status": "completed"
    },
    "tags": []
   },
   "outputs": [],
   "source": [
    "x, y, obj = problem.names()\n",
    "train.plot.hexbin(x=x, y=y, C=obj, cmap=\"plasma\", sharex=False, gridsize=50)"
   ]
  },
  {
   "cell_type": "markdown",
   "metadata": {
    "papermill": {
     "duration": 0.012904,
     "end_time": "2019-10-28T22:55:57.746902",
     "exception": false,
     "start_time": "2019-10-28T22:55:57.733998",
     "status": "completed"
    },
    "tags": []
   },
   "source": [
    "## Fitting a surrogate model\n",
    "\n",
    "Now we can train the model using a ScikitLearn pipeline:"
   ]
  },
  {
   "cell_type": "code",
   "execution_count": null,
   "metadata": {
    "papermill": {
     "duration": 0.027518,
     "end_time": "2019-10-28T22:55:57.788509",
     "exception": false,
     "start_time": "2019-10-28T22:55:57.760991",
     "status": "completed"
    },
    "tags": []
   },
   "outputs": [],
   "source": [
    "model = pipeline.make_pipeline(StandardScaler(), linear_model.Ridge())\n",
    "model.fit(train[[x, y]].values, train[obj].values)"
   ]
  },
  {
   "cell_type": "markdown",
   "metadata": {
    "papermill": {
     "duration": 0.013395,
     "end_time": "2019-10-28T22:55:57.815502",
     "exception": false,
     "start_time": "2019-10-28T22:55:57.802107",
     "status": "completed"
    },
    "tags": []
   },
   "source": [
    "## Running the surrogate model\n",
    "\n",
    "We can query the model at a specific point in the design space:"
   ]
  },
  {
   "cell_type": "code",
   "execution_count": null,
   "metadata": {
    "papermill": {
     "duration": 0.020999,
     "end_time": "2019-10-28T22:55:57.851037",
     "exception": false,
     "start_time": "2019-10-28T22:55:57.830038",
     "status": "completed"
    },
    "tags": []
   },
   "outputs": [],
   "source": [
    "model.predict([[0.5, 10]])"
   ]
  },
  {
   "cell_type": "markdown",
   "metadata": {
    "papermill": {
     "duration": 0.013712,
     "end_time": "2019-10-28T22:55:57.879711",
     "exception": false,
     "start_time": "2019-10-28T22:55:57.865999",
     "status": "completed"
    },
    "tags": []
   },
   "source": [
    "Or for a `dataframe` made from a `dictionary` of points:"
   ]
  },
  {
   "cell_type": "code",
   "execution_count": null,
   "metadata": {
    "papermill": {
     "duration": 0.023373,
     "end_time": "2019-10-28T22:55:57.918358",
     "exception": false,
     "start_time": "2019-10-28T22:55:57.894985",
     "status": "completed"
    },
    "tags": []
   },
   "outputs": [],
   "source": [
    "points = pd.DataFrame(data={\"SHGC\": [0, 1], \"LPD\": [8, 12]})\n",
    "model.predict(points)"
   ]
  },
  {
   "cell_type": "markdown",
   "metadata": {
    "papermill": {
     "duration": 0.013425,
     "end_time": "2019-10-28T22:55:57.945577",
     "exception": false,
     "start_time": "2019-10-28T22:55:57.932152",
     "status": "completed"
    },
    "tags": []
   },
   "source": [
    "Next we define a function for querying the surrogate model across the domain at a given density, and plot the result."
   ]
  },
  {
   "cell_type": "code",
   "execution_count": null,
   "metadata": {
    "papermill": {
     "duration": 1.289345,
     "end_time": "2019-10-28T22:55:59.248685",
     "exception": false,
     "start_time": "2019-10-28T22:55:57.959340",
     "status": "completed"
    },
    "tags": []
   },
   "outputs": [],
   "source": [
    "def run_model(model, density):\n",
    "    p1 = problem.inputs[0].value_descriptor\n",
    "    a = np.linspace(p1.min, p1.max, density)\n",
    "    p2 = problem.inputs[1].value_descriptor\n",
    "    b = np.linspace(p2.min, p2.max, density)\n",
    "    plot_data = pd.DataFrame(\n",
    "        np.transpose([np.tile(a, len(b)), np.repeat(b, len(a))]),\n",
    "        columns=problem.names(\"inputs\"),\n",
    "    )\n",
    "    return pd.concat([plot_data, pd.Series(model.predict(plot_data))], axis=1)\n",
    "\n",
    "\n",
    "density = 200\n",
    "df = run_model(model, density)\n",
    "df.plot.hexbin(x=x, y=y, C=0, cmap=\"plasma\", gridsize=density, sharex=False)"
   ]
  },
  {
   "cell_type": "markdown",
   "metadata": {
    "papermill": {
     "duration": 0.016874,
     "end_time": "2019-10-28T22:55:59.282458",
     "exception": false,
     "start_time": "2019-10-28T22:55:59.265584",
     "status": "completed"
    },
    "tags": []
   },
   "source": [
    "## Interactive surrogate\n",
    "Finally we make an interactive plot using `ipywidgets`, which executes the model every time a slider is moved."
   ]
  },
  {
   "cell_type": "code",
   "execution_count": null,
   "metadata": {
    "papermill": {
     "duration": 0.387193,
     "end_time": "2019-10-28T22:55:59.685186",
     "exception": false,
     "start_time": "2019-10-28T22:55:59.297993",
     "status": "completed"
    },
    "tags": []
   },
   "outputs": [],
   "source": [
    "# get the min and max of the two variables\n",
    "(min1, max1), (min2, max2) = (\n",
    "    (float(p.value_descriptor.min), p.value_descriptor.max) for p in problem.inputs\n",
    ")\n",
    "# get the data to plot in the background\n",
    "df = run_model(model, 100)\n",
    "\n",
    "# define a wrapper to be queried by interact\n",
    "def model_wrapper(v1, v2):\n",
    "    df.plot.hexbin(\n",
    "        x=x, y=y, C=0, cmap=\"plasma\", gridsize=30, sharex=False\n",
    "    )  # background plot\n",
    "    x_lims = plt.xlim()\n",
    "    y_lims = plt.ylim()\n",
    "    plt.scatter(x=v1, y=v2)  # plot the marker\n",
    "    plt.xlim((x_lims))\n",
    "    plt.ylim((y_lims))\n",
    "\n",
    "    value = (\n",
    "        model.predict([[v1, v2]])[0] / 3.6e6\n",
    "    )  # find the current value and convert to kWh\n",
    "    output = (\n",
    "        \"Electricity use = \" + str(value.round()) + \" kWh\"\n",
    "    )  # return the string to display\n",
    "    return output\n",
    "\n",
    "\n",
    "# make the interactive plot with two sliders\n",
    "continuous_update = False\n",
    "interact(\n",
    "    model_wrapper,\n",
    "    v1=FloatSlider(\n",
    "        min=min1,\n",
    "        max=max1,\n",
    "        value=(min1 + max1) / 2,\n",
    "        description=\"SHGC\",\n",
    "        step=0.01,\n",
    "        continuous_update=continuous_update,\n",
    "    ),\n",
    "    v2=FloatSlider(\n",
    "        min=min2,\n",
    "        max=max2,\n",
    "        value=(min2 + max2) / 2,\n",
    "        description=\"LPD [W/m2]\",\n",
    "        continuous_update=continuous_update,\n",
    "    ),\n",
    ")"
   ]
  }
 ],
 "metadata": {
  "jupytext": {
   "formats": "ipynb,py:light"
  },
  "kernelspec": {
   "display_name": "Python 3",
   "language": "python",
   "name": "python3"
  }
 },
 "nbformat": 4,
 "nbformat_minor": 4
}
