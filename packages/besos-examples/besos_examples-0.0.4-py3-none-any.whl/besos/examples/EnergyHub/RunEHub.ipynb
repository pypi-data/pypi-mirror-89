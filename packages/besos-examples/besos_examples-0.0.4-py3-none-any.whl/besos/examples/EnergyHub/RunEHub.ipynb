{
 "cells": [
  {
   "cell_type": "markdown",
   "metadata": {
    "papermill": {
     "duration": 0.005641,
     "end_time": "2019-10-28T23:04:01.529786",
     "exception": false,
     "start_time": "2019-10-28T23:04:01.524145",
     "status": "completed"
    },
    "tags": []
   },
   "source": [
    "# Running EHub on BESOS\n",
    "\n",
    "This notebook loads an Excel-based model and runs it.\n",
    "You can make an `Excel (.xlsx)` input file by following the format of `test_file.xlsx`.\n",
    "An overview of the model is given [here](#TODO)."
   ]
  },
  {
   "cell_type": "code",
   "execution_count": null,
   "metadata": {
    "lines_to_next_cell": 2,
    "papermill": {
     "duration": 0.886857,
     "end_time": "2019-10-28T23:04:02.423598",
     "exception": false,
     "start_time": "2019-10-28T23:04:01.536741",
     "status": "completed"
    },
    "tags": []
   },
   "outputs": [],
   "source": [
    "from pyehub.energy_hub.ehub_model import EHubModel\n",
    "from pyehub.outputter import pretty_print"
   ]
  },
  {
   "cell_type": "code",
   "execution_count": null,
   "metadata": {
    "papermill": {
     "duration": 0.180409,
     "end_time": "2019-10-28T23:04:02.607772",
     "exception": false,
     "start_time": "2019-10-28T23:04:02.427363",
     "status": "completed"
    },
    "tags": []
   },
   "outputs": [],
   "source": [
    "excel_file = (\n",
    "    \"test_file.xlsx\"  # name of the excel file. [This must be in the current directory]\n",
    ")\n",
    "my_model = EHubModel(\n",
    "    excel=excel_file\n",
    ")  # instantiate our model. Nothing is solved at this point.\n",
    "results = my_model.solve()  # solve the model and get back our results\n",
    "pretty_print(results)  # print the results to the console"
   ]
  },
  {
   "cell_type": "code",
   "execution_count": null,
   "metadata": {
    "papermill": {
     "duration": 0.003328,
     "end_time": "2019-10-28T23:04:02.615257",
     "exception": false,
     "start_time": "2019-10-28T23:04:02.611929",
     "status": "completed"
    },
    "tags": []
   },
   "outputs": [],
   "source": []
  }
 ],
 "metadata": {
  "kernelspec": {
   "display_name": "Python 3",
   "language": "python",
   "name": "python3"
  }
 },
 "nbformat": 4,
 "nbformat_minor": 4
}
