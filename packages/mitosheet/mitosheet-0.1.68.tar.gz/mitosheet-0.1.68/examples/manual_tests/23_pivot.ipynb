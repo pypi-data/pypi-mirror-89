{
 "cells": [
  {
   "cell_type": "code",
   "execution_count": 5,
   "metadata": {},
   "outputs": [
    {
     "data": {
      "application/vnd.jupyter.widget-view+json": {
       "model_id": "1beefe91e5934103a88f0227fbd87903",
       "version_major": 2,
       "version_minor": 0
      },
      "text/plain": [
       "MitoWidget(analysis_name='UUID-421dd902-818e-4c0d-a04f-5946df6fd5df', code_json='{\"imports\": \"from mitosheet i…"
      ]
     },
     "metadata": {},
     "output_type": "display_data"
    }
   ],
   "source": [
    "\"\"\"\n",
    "This file tests that grouping on multiple rows and a column works correctly\n",
    "\n",
    "1. run this cell\n",
    "2. click on the group modal \n",
    "    - select 'gender' and 'species' as rows\n",
    "    - select 'size' as columns\n",
    "    - aggregate 'weight' using 'sum'\n",
    "    - run the group\n",
    "3. check to make sure a new df, df2 is created that has the top row of [female, dog, 95, NaN]\n",
    "4. run the generated code and print out df2\n",
    "5. make sure df2 is the same as in the mitosheet\n",
    "\"\"\"\n",
    "\n",
    "\n",
    "import mitosheet\n",
    "import pandas as pd\n",
    "df = pd.DataFrame({\n",
    "    'gender': ['male','male','female', 'female', 'female'],\n",
    "    'species': ['human','dog','human', 'human', 'dog'],\n",
    "    'size': ['big', 'small', 'small', 'big', 'big'],\n",
    "    'weight': [160, 20, 110, 175, 95]\n",
    "})\n",
    "mitosheet.sheet(df, tutorial_mode=True)"
   ]
  },
  {
   "cell_type": "code",
   "execution_count": null,
   "metadata": {},
   "outputs": [],
   "source": []
  },
  {
   "cell_type": "code",
   "execution_count": null,
   "metadata": {},
   "outputs": [],
   "source": []
  },
  {
   "cell_type": "code",
   "execution_count": null,
   "metadata": {},
   "outputs": [],
   "source": []
  },
  {
   "cell_type": "code",
   "execution_count": null,
   "metadata": {},
   "outputs": [],
   "source": []
  },
  {
   "cell_type": "code",
   "execution_count": null,
   "metadata": {},
   "outputs": [],
   "source": []
  },
  {
   "cell_type": "code",
   "execution_count": null,
   "metadata": {},
   "outputs": [],
   "source": []
  },
  {
   "cell_type": "code",
   "execution_count": null,
   "metadata": {},
   "outputs": [],
   "source": []
  },
  {
   "cell_type": "code",
   "execution_count": null,
   "metadata": {},
   "outputs": [],
   "source": []
  },
  {
   "cell_type": "code",
   "execution_count": null,
   "metadata": {},
   "outputs": [],
   "source": []
  }
 ],
 "metadata": {
  "kernelspec": {
   "display_name": "Python 3",
   "language": "python",
   "name": "python3"
  },
  "language_info": {
   "codemirror_mode": {
    "name": "ipython",
    "version": 3
   },
   "file_extension": ".py",
   "mimetype": "text/x-python",
   "name": "python",
   "nbconvert_exporter": "python",
   "pygments_lexer": "ipython3",
   "version": "3.8.5"
  },
  "widgets": {
   "application/vnd.jupyter.widget-state+json": {
    "state": {
     "1beefe91e5934103a88f0227fbd87903": {
      "model_module": "mitosheet",
      "model_module_version": "^0.1.67",
      "model_name": "ExampleModel",
      "state": {
       "_model_module_version": "^0.1.67",
       "_view_module_version": "^0.1.67",
       "analysis_name": "UUID-421dd902-818e-4c0d-a04f-5946df6fd5df",
       "code_json": "{\"imports\": \"from mitosheet import *\", \"code\": []}",
       "column_filters_json": "[{\"gender\": {\"operator\": \"And\", \"filters\": []}, \"species\": {\"operator\": \"And\", \"filters\": []}, \"size\": {\"operator\": \"And\", \"filters\": []}, \"weight\": {\"operator\": \"And\", \"filters\": []}}]",
       "column_spreadsheet_code_json": "[{\"gender\": \"\", \"species\": \"\", \"size\": \"\", \"weight\": \"\"}]",
       "column_type_json": "[{\"gender\": \"string\", \"species\": \"string\", \"size\": \"string\", \"weight\": \"number\"}]",
       "df_names_json": "{\"df_names\": [\"df\", \"tutorial_mode=True\"]}",
       "df_shape_json": "[{\"rows\": 5, \"cols\": 4}]",
       "layout": "IPY_MODEL_b41d6f6e673b4e20abb9c0b886453d79",
       "saved_analysis_names_json": "[\"1\", \"28\", \"Double Import\", \"File Import Get Length\", \"File Import\", \"Testing\", \"aaa\", \"new\"]",
       "sheet_json": "[{\"columns\": [\"gender\", \"species\", \"size\", \"weight\"], \"index\": [0, 1, 2, 3, 4], \"data\": [[\"male\", \"human\", \"big\", 160], [\"male\", \"dog\", \"small\", 20], [\"female\", \"human\", \"small\", 110], [\"female\", \"human\", \"big\", 175], [\"female\", \"dog\", \"big\", 95]]}]",
       "tutorial_mode": true,
       "user_id": "nate",
       "value": "Hello World"
      }
     },
     "49c7696d66094f59a8192444e2aa343e": {
      "model_module": "@jupyter-widgets/base",
      "model_module_version": "1.2.0",
      "model_name": "LayoutModel",
      "state": {}
     },
     "51a329af6e1a4fb594d8e0fdcc312c88": {
      "model_module": "mitosheet",
      "model_module_version": "^0.1.67",
      "model_name": "ExampleModel",
      "state": {
       "_model_module_version": "^0.1.67",
       "_view_module_version": "^0.1.67",
       "analysis_name": "UUID-d598d413-6f91-473b-815d-5167a374c1de",
       "code_json": "{\"imports\": \"from mitosheet import *\", \"code\": []}",
       "column_filters_json": "[{\"gender\": {\"operator\": \"And\", \"filters\": []}, \"species\": {\"operator\": \"And\", \"filters\": []}, \"size\": {\"operator\": \"And\", \"filters\": []}, \"weight\": {\"operator\": \"And\", \"filters\": []}}]",
       "column_spreadsheet_code_json": "[{\"gender\": \"\", \"species\": \"\", \"size\": \"\", \"weight\": \"\"}]",
       "column_type_json": "[{\"gender\": \"string\", \"species\": \"string\", \"size\": \"string\", \"weight\": \"number\"}]",
       "df_names_json": "{\"df_names\": [\"df\"]}",
       "df_shape_json": "[{\"rows\": 5, \"cols\": 4}]",
       "layout": "IPY_MODEL_933ef1f8c7a0429f9d55dcae2af8f8a9",
       "saved_analysis_names_json": "[\"1\", \"28\", \"Double Import\", \"File Import Get Length\", \"File Import\", \"Testing\", \"aaa\", \"new\"]",
       "sheet_json": "[{\"columns\": [\"gender\", \"species\", \"size\", \"weight\"], \"index\": [0, 1, 2, 3, 4], \"data\": [[\"male\", \"human\", \"big\", 160], [\"male\", \"dog\", \"small\", 20], [\"female\", \"human\", \"small\", 110], [\"female\", \"human\", \"big\", 175], [\"female\", \"dog\", \"big\", 95]]}]",
       "tutorial_mode": false,
       "user_id": "nate",
       "value": "Hello World"
      }
     },
     "7cf17b648b70431090a21680a78c802b": {
      "model_module": "mitosheet",
      "model_module_version": "^0.1.67",
      "model_name": "ExampleModel",
      "state": {
       "_model_module_version": "^0.1.67",
       "_view_module_version": "^0.1.67",
       "analysis_name": "UUID-f9babe3c-729f-4ac9-9267-5dc189e1da18",
       "code_json": "{\"imports\": \"from mitosheet import *\", \"code\": []}",
       "column_filters_json": "[{\"gender\": {\"operator\": \"And\", \"filters\": []}, \"species\": {\"operator\": \"And\", \"filters\": []}, \"size\": {\"operator\": \"And\", \"filters\": []}, \"weight\": {\"operator\": \"And\", \"filters\": []}}]",
       "column_spreadsheet_code_json": "[{\"gender\": \"\", \"species\": \"\", \"size\": \"\", \"weight\": \"\"}]",
       "column_type_json": "[{\"gender\": \"string\", \"species\": \"string\", \"size\": \"string\", \"weight\": \"number\"}]",
       "df_names_json": "{\"df_names\": [\"df\"]}",
       "df_shape_json": "[{\"rows\": 5, \"cols\": 4}]",
       "layout": "IPY_MODEL_49c7696d66094f59a8192444e2aa343e",
       "saved_analysis_names_json": "[\"1\", \"28\", \"Double Import\", \"File Import Get Length\", \"File Import\", \"Testing\", \"aaa\", \"new\"]",
       "sheet_json": "[{\"columns\": [\"gender\", \"species\", \"size\", \"weight\"], \"index\": [0, 1, 2, 3, 4], \"data\": [[\"male\", \"human\", \"big\", 160], [\"male\", \"dog\", \"small\", 20], [\"female\", \"human\", \"small\", 110], [\"female\", \"human\", \"big\", 175], [\"female\", \"dog\", \"big\", 95]]}]",
       "tutorial_mode": false,
       "user_id": "nate",
       "value": "Hello World"
      }
     },
     "933ef1f8c7a0429f9d55dcae2af8f8a9": {
      "model_module": "@jupyter-widgets/base",
      "model_module_version": "1.2.0",
      "model_name": "LayoutModel",
      "state": {}
     },
     "a08040de3e3d4195a394abb6b25d967a": {
      "model_module": "mitosheet",
      "model_module_version": "^0.1.67",
      "model_name": "ExampleModel",
      "state": {
       "_model_module_version": "^0.1.67",
       "_view_module_version": "^0.1.67",
       "analysis_name": "UUID-a6e9ad51-f9e0-443b-8b09-c1386bac92ad",
       "code_json": "{\"imports\": \"from mitosheet import *\", \"code\": []}",
       "column_filters_json": "[{\"gender\": {\"operator\": \"And\", \"filters\": []}, \"species\": {\"operator\": \"And\", \"filters\": []}, \"size\": {\"operator\": \"And\", \"filters\": []}, \"weight\": {\"operator\": \"And\", \"filters\": []}}]",
       "column_spreadsheet_code_json": "[{\"gender\": \"\", \"species\": \"\", \"size\": \"\", \"weight\": \"\"}]",
       "column_type_json": "[{\"gender\": \"string\", \"species\": \"string\", \"size\": \"string\", \"weight\": \"number\"}]",
       "df_names_json": "{\"df_names\": [\"df\"]}",
       "df_shape_json": "[{\"rows\": 5, \"cols\": 4}]",
       "layout": "IPY_MODEL_a2c36c231dbe4f359c967280a2b71d95",
       "saved_analysis_names_json": "[\"1\", \"28\", \"Double Import\", \"File Import Get Length\", \"File Import\", \"Testing\", \"aaa\", \"new\"]",
       "sheet_json": "[{\"columns\": [\"gender\", \"species\", \"size\", \"weight\"], \"index\": [0, 1, 2, 3, 4], \"data\": [[\"male\", \"human\", \"big\", 160], [\"male\", \"dog\", \"small\", 20], [\"female\", \"human\", \"small\", 110], [\"female\", \"human\", \"big\", 175], [\"female\", \"dog\", \"big\", 95]]}]",
       "tutorial_mode": false,
       "user_id": "nate",
       "value": "Hello World"
      }
     },
     "a2c36c231dbe4f359c967280a2b71d95": {
      "model_module": "@jupyter-widgets/base",
      "model_module_version": "1.2.0",
      "model_name": "LayoutModel",
      "state": {}
     },
     "aced76f344a44c7d9675d7cdd93bc963": {
      "model_module": "mitosheet",
      "model_module_version": "^0.1.67",
      "model_name": "ExampleModel",
      "state": {
       "_model_module_version": "^0.1.67",
       "_view_module_version": "^0.1.67",
       "analysis_name": "UUID-d9847489-6431-44a9-a798-a79e910817b9",
       "code_json": "{\"imports\": \"from mitosheet import *\", \"code\": []}",
       "column_filters_json": "[{\"gender\": {\"operator\": \"And\", \"filters\": []}, \"species\": {\"operator\": \"And\", \"filters\": []}, \"size\": {\"operator\": \"And\", \"filters\": []}, \"weight\": {\"operator\": \"And\", \"filters\": []}}]",
       "column_spreadsheet_code_json": "[{\"gender\": \"\", \"species\": \"\", \"size\": \"\", \"weight\": \"\"}]",
       "column_type_json": "[{\"gender\": \"string\", \"species\": \"string\", \"size\": \"string\", \"weight\": \"number\"}]",
       "df_names_json": "{\"df_names\": [\"df\", \"tutorial_mode=True\"]}",
       "df_shape_json": "[{\"rows\": 5, \"cols\": 4}]",
       "layout": "IPY_MODEL_ba58c4e81c0146828c2e63248bcb98d3",
       "saved_analysis_names_json": "[\"1\", \"28\", \"Double Import\", \"File Import Get Length\", \"File Import\", \"Testing\", \"aaa\", \"new\"]",
       "sheet_json": "[{\"columns\": [\"gender\", \"species\", \"size\", \"weight\"], \"index\": [0, 1, 2, 3, 4], \"data\": [[\"male\", \"human\", \"big\", 160], [\"male\", \"dog\", \"small\", 20], [\"female\", \"human\", \"small\", 110], [\"female\", \"human\", \"big\", 175], [\"female\", \"dog\", \"big\", 95]]}]",
       "tutorial_mode": true,
       "user_id": "nate",
       "value": "Hello World"
      }
     },
     "b41d6f6e673b4e20abb9c0b886453d79": {
      "model_module": "@jupyter-widgets/base",
      "model_module_version": "1.2.0",
      "model_name": "LayoutModel",
      "state": {}
     },
     "ba58c4e81c0146828c2e63248bcb98d3": {
      "model_module": "@jupyter-widgets/base",
      "model_module_version": "1.2.0",
      "model_name": "LayoutModel",
      "state": {}
     }
    },
    "version_major": 2,
    "version_minor": 0
   }
  }
 },
 "nbformat": 4,
 "nbformat_minor": 4
}
