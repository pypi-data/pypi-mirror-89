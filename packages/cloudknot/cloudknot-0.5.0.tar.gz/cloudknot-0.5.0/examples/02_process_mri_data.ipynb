{
 "cells": [
  {
   "cell_type": "markdown",
   "metadata": {
    "deletable": true,
    "editable": true
   },
   "source": [
    "# MRI data analysis with `cloudknot`\n",
    "\n",
    "This example demonstrates analysis of MRI data using software that depends on the scipy stack, \n",
    "as well as on smaller open-source software projects\n",
    "\n",
    "The data for each participant in the study is non-trivial in size (about 140 MB per subject),\n",
    "and complexity (4D arrays representing MRI measurements in every location in the brain with \n",
    "diffusion gradients in multiple directions). The analysis requires non-trivial computations \n",
    "(e.g., fitting a linear model over directions in every spatial location). \n",
    "\n",
    "The data we will use is publicly accessible through a URL pointing to the Stanford Data Repository\n",
    "We will pull down each participant's data using a URL that the function constructs based on its \n",
    "input."
   ]
  },
  {
   "cell_type": "code",
   "execution_count": 1,
   "metadata": {
    "collapsed": true,
    "deletable": true,
    "editable": true
   },
   "outputs": [],
   "source": [
    "import cloudknot as ck"
   ]
  },
  {
   "cell_type": "code",
   "execution_count": 2,
   "metadata": {
    "collapsed": true,
    "deletable": true,
    "editable": true
   },
   "outputs": [],
   "source": [
    "def calculate_fa(sub):\n",
    "    \"\"\" \n",
    "    Process MRI data from a single subject. \n",
    "    \n",
    "    Saves results to S3.\n",
    "\n",
    "    Parameters\n",
    "    ----------\n",
    "\n",
    "    sub : str\n",
    "        The ID string forone of the subjects in this data-set. \n",
    "        One of  {'SUB1', 'SUB2', 'SUB3', 'SUB4', 'SUB5', 'SUB6'}\n",
    "    \n",
    "    \"\"\"\n",
    "    import os\n",
    "    import os.path as op\n",
    "    import requests\n",
    "\n",
    "    # Helper function to download files and save them:\n",
    "    def download_file(url, fname):\n",
    "        if not op.exists(fname):\n",
    "            r = requests.get(url)\n",
    "            with open(fname , 'wb') as fd:\n",
    "                for chunk in r.iter_content(chunk_size=128):\n",
    "                    fd.write(chunk)\n",
    "    \n",
    "    print(\"Creating folder structure for data\")\n",
    "    base_folder = op.join(op.expanduser('~'), 'data')\n",
    "    if not op.exists(base_folder):\n",
    "        os.mkdir(base_folder)\n",
    "        os.mkdir(op.join(base_folder, 'sub-01'))\n",
    "        os.mkdir(op.join(base_folder, 'sub-01', 'sess-01'))\n",
    "        anat_folder = op.join(base_folder, 'sub-01', 'sess-01', 'anat')\n",
    "        os.mkdir(anat_folder)\n",
    "        dwi_folder = op.join(base_folder, 'sub-01', 'sess-01', 'dwi')\n",
    "        os.mkdir(dwi_folder)\n",
    "\n",
    "    print(\"Downloading data from the Stanford Data Repository\")\n",
    "    data_url = 'https://stacks.stanford.edu/file/druid:rt034xr8593/'\n",
    "    sub_data = data_url + sub\n",
    "    fbvals_url = sub_data + \"_1.bvals\"\n",
    "    fbvecs_url = sub_data + \"_1.bvecs\"\n",
    "    fnii_url = sub_data + \"_1.nii.gz\"\n",
    "    \n",
    "    download_file(fnii_url, op.join(dwi_folder, 'dwi.nii.gz'))\n",
    "    download_file(fbvals_url, op.join(dwi_folder, 'dwi.bvals'))\n",
    "    download_file(fbvecs_url, op.join(dwi_folder, 'dwi.bvecs'))\n",
    "\n",
    "    print(\"Creating AFQ object\")   \n",
    "    from AFQ.api import AFQ\n",
    "    my_afq = AFQ(preproc_path=base_folder, sub_prefix='sub')\n",
    "    \n",
    "    print(\"Calculating FA\")\n",
    "    fa_file = my_afq.dti_fa[0]\n",
    "\n",
    "    print(\"Uploading to S3\")\n",
    "    client = boto3.resource('s3')\n",
    "    bucket_name = 'escience.washington.edu.public'\n",
    "    b = client.Bucket(bucket_name)\n",
    "    b.upload_file(fa_file, '%s_FA.nii.gz' % sub)    \n",
    "    print(\"Return FA back to user\")\n",
    "    import nibabel as nib\n",
    "    fa = nib.load(fa_file).get_data()\n",
    "    return fa"
   ]
  },
  {
   "cell_type": "code",
   "execution_count": 3,
   "metadata": {
    "collapsed": true,
    "deletable": true,
    "editable": true
   },
   "outputs": [],
   "source": [
    "knot = ck.Knot(name='calculate-fa',\n",
    "               # With image_github_installs, we can select a fork/branch to install from:\n",
    "               image_github_installs=(\"https://github.com/arokem/pyAFQ.git@no-anat\"),\n",
    "               base_image=\"python:3.7\",\n",
    "               # Or even a specific commit:\n",
    "               #image_github_installs=(\"https://github.com/arokem/pyAFQ.git@afd7221\"),\n",
    "               func=calculate_fa, pars_policies=('AmazonS3FullAccess',))"
   ]
  },
  {
   "cell_type": "code",
   "execution_count": 4,
   "metadata": {
    "collapsed": true,
    "deletable": true,
    "editable": true
   },
   "outputs": [],
   "source": [
    "result_futures = knot.map(['SUB1', 'SUB2', 'SUB3', 'SUB4', 'SUB5', 'SUB6'])"
   ]
  },
  {
   "cell_type": "code",
   "execution_count": 12,
   "metadata": {
    "collapsed": false,
    "deletable": true,
    "editable": true
   },
   "outputs": [
    {
     "name": "stdout",
     "output_type": "stream",
     "text": [
      "Job ID              Name                        Status   \n",
      "---------------------------------------------------------\n",
      "d43dc89b-745e-4b6b-80ab-e53c4438f688        calculate_fa-5              SUCCEEDED\n",
      "33262a8b-91ec-48f5-ba3a-a95c1a5a21bc        calculate_fa-4              SUCCEEDED\n",
      "49f4e299-bf36-45b6-a7c8-af0446d64f6e        calculate_fa-2              SUCCEEDED\n",
      "0314b338-4b3f-4ff9-9b9b-e211cb51f2ae        calculate_fa-3              SUCCEEDED\n",
      "799d06f5-37fe-460b-802d-ca87b92f3aaf        calculate_fa-0              SUCCEEDED\n",
      "56fd41c1-6841-4f83-ab9e-08ed36251a94        calculate_fa-1              SUCCEEDED\n"
     ]
    }
   ],
   "source": [
    "knot.view_jobs()"
   ]
  },
  {
   "cell_type": "code",
   "execution_count": 14,
   "metadata": {
    "collapsed": true,
    "deletable": true,
    "editable": true
   },
   "outputs": [],
   "source": [
    "r0 = result_futures[0]"
   ]
  },
  {
   "cell_type": "code",
   "execution_count": 17,
   "metadata": {
    "collapsed": true,
    "deletable": true,
    "editable": true
   },
   "outputs": [],
   "source": [
    "fa0 = r0.result()"
   ]
  },
  {
   "cell_type": "code",
   "execution_count": 19,
   "metadata": {
    "collapsed": true,
    "deletable": true,
    "editable": true
   },
   "outputs": [],
   "source": [
    "import matplotlib.pyplot as plt\n",
    "%matplotlib inline"
   ]
  },
  {
   "cell_type": "code",
   "execution_count": 20,
   "metadata": {
    "collapsed": false,
    "deletable": true,
    "editable": true
   },
   "outputs": [
    {
     "data": {
      "text/plain": [
       "<matplotlib.image.AxesImage at 0x1120a68d0>"
      ]
     },
     "execution_count": 20,
     "metadata": {},
     "output_type": "execute_result"
    },
    {
     "data": {
      "image/png": "[encoded data removed]",
      "text/plain": [
       "<matplotlib.figure.Figure at 0x111ed7630>"
      ]
     },
     "metadata": {},
     "output_type": "display_data"
    }
   ],
   "source": [
    "plt.matshow(fa0[:, :, fa0.shape[-1]//2])"
   ]
  },
  {
   "cell_type": "code",
   "execution_count": 20,
   "metadata": {
    "collapsed": true,
    "deletable": true,
    "editable": true
   },
   "outputs": [],
   "source": [
    "#knot.clobber(clobber_pars=True, clobber_repo=True, clobber_image=True)"
   ]
  },
  {
   "cell_type": "code",
   "execution_count": null,
   "metadata": {
    "collapsed": true,
    "deletable": true,
    "editable": true
   },
   "outputs": [],
   "source": []
  }
 ],
 "metadata": {
  "kernelspec": {
   "display_name": "Python 3",
   "language": "python",
   "name": "python3"
  },
  "language_info": {
   "codemirror_mode": {
    "name": "ipython",
    "version": 3
   },
   "file_extension": ".py",
   "mimetype": "text/x-python",
   "name": "python",
   "nbconvert_exporter": "python",
   "pygments_lexer": "ipython3",
   "version": "3.7.2"
  }
 },
 "nbformat": 4,
 "nbformat_minor": 2
}
