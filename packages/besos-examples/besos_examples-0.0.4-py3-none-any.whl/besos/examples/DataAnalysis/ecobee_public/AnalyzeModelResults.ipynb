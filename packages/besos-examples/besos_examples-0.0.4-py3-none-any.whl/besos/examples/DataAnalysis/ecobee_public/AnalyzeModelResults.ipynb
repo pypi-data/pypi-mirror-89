{
 "cells": [
  {
   "cell_type": "code",
   "execution_count": null,
   "metadata": {
    "lines_to_next_cell": 2,
    "papermill": {
     "duration": 0.721798,
     "end_time": "2019-10-28T22:48:36.494891",
     "exception": false,
     "start_time": "2019-10-28T22:48:35.773093",
     "status": "completed"
    },
    "tags": []
   },
   "outputs": [],
   "source": [
    "\n",
    "import numpy as np\n",
    "import pandas as pd\n",
    "import seaborn as sns\n",
    "from matplotlib import pyplot as plt\n",
    "from scipy import stats\n",
    "from scripts import analysis as a"
   ]
  },
  {
   "cell_type": "markdown",
   "metadata": {
    "papermill": {
     "duration": 0.010164,
     "end_time": "2019-10-28T22:48:36.514955",
     "exception": false,
     "start_time": "2019-10-28T22:48:36.504791",
     "status": "completed"
    },
    "tags": []
   },
   "source": [
    "# Model Results and Comparisons"
   ]
  },
  {
   "cell_type": "markdown",
   "metadata": {
    "papermill": {
     "duration": 0.008718,
     "end_time": "2019-10-28T22:48:36.533317",
     "exception": false,
     "start_time": "2019-10-28T22:48:36.524599",
     "status": "completed"
    },
    "tags": []
   },
   "source": [
    "This notebook is used to analyze the results from the models. More information can be found in the paper that was published alongside this repository."
   ]
  },
  {
   "cell_type": "markdown",
   "metadata": {
    "papermill": {
     "duration": 0.00833,
     "end_time": "2019-10-28T22:48:36.550467",
     "exception": false,
     "start_time": "2019-10-28T22:48:36.542137",
     "status": "completed"
    },
    "tags": []
   },
   "source": [
    "### 1. Load the Data"
   ]
  },
  {
   "cell_type": "markdown",
   "metadata": {
    "papermill": {
     "duration": 0.008317,
     "end_time": "2019-10-28T22:48:36.567338",
     "exception": false,
     "start_time": "2019-10-28T22:48:36.559021",
     "status": "completed"
    },
    "tags": []
   },
   "source": [
    "Change the directory to analyze different results from different runs. If you run the main python file you can do this using the file path returned from `run_analysis` however there may not be enough buildings with valuable data to view the visualizations properly. This pipeline should be used with the `example_results_from_paper.csv` or with a larger dataset inputed by the user and run with `main.ipynb`."
   ]
  },
  {
   "cell_type": "code",
   "execution_count": null,
   "metadata": {
    "papermill": {
     "duration": 0.040038,
     "end_time": "2019-10-28T22:48:36.615889",
     "exception": false,
     "start_time": "2019-10-28T22:48:36.575851",
     "status": "completed"
    },
    "tags": []
   },
   "outputs": [],
   "source": [
    "# Change this directory to analyze different results from different runs.\n",
    "data_file = \"data/example_results_from_paper.csv\"\n",
    "summary_df = pd.read_csv(data_file)\n",
    "summary_df.head()"
   ]
  },
  {
   "cell_type": "markdown",
   "metadata": {
    "papermill": {
     "duration": 0.009476,
     "end_time": "2019-10-28T22:48:36.635581",
     "exception": false,
     "start_time": "2019-10-28T22:48:36.626105",
     "status": "completed"
    },
    "tags": []
   },
   "source": [
    "### 2. Remove instances where the models did not perform well"
   ]
  },
  {
   "cell_type": "markdown",
   "metadata": {
    "papermill": {
     "duration": 0.008805,
     "end_time": "2019-10-28T22:48:36.653934",
     "exception": false,
     "start_time": "2019-10-28T22:48:36.645129",
     "status": "completed"
    },
    "tags": []
   },
   "source": [
    "Remove the buildings for which the models couldn't obtain good results. To see the results without outliers removed, comment out these lines of code."
   ]
  },
  {
   "cell_type": "code",
   "execution_count": null,
   "metadata": {
    "papermill": {
     "duration": 0.03298,
     "end_time": "2019-10-28T22:48:36.696091",
     "exception": false,
     "start_time": "2019-10-28T22:48:36.663111",
     "status": "completed"
    },
    "tags": []
   },
   "outputs": [],
   "source": [
    "## === REMOVE OUTLIERS ACCORDING TO STD AND FITTING ERROR\n",
    "summary_df = summary_df[summary_df[\"euler_RC_std\"] < (1000 / 12)]\n",
    "summary_df = summary_df[summary_df[\"balance_stderr\"] < 0.009]\n",
    "summary_df = summary_df[summary_df[\"euler_cost_mean\"] < 25]\n",
    "summary_df = summary_df[summary_df[\"balance_p_value\"] < 0.05]\n",
    "\n",
    "summary_df.head()"
   ]
  },
  {
   "cell_type": "markdown",
   "metadata": {
    "papermill": {
     "duration": 0.009747,
     "end_time": "2019-10-28T22:48:36.715383",
     "exception": false,
     "start_time": "2019-10-28T22:48:36.705636",
     "status": "completed"
    },
    "tags": []
   },
   "source": [
    "### 3. Visualize the Performance of the decay curve method"
   ]
  },
  {
   "cell_type": "code",
   "execution_count": null,
   "metadata": {
    "papermill": {
     "duration": 0.688279,
     "end_time": "2019-10-28T22:48:37.413318",
     "exception": false,
     "start_time": "2019-10-28T22:48:36.725039",
     "status": "completed"
    },
    "tags": []
   },
   "outputs": [],
   "source": [
    "g = sns.jointplot(x=\"decay_RC_cost\", y=\"decay_RC_std\", data=summary_df, color=\"grey\",)\n",
    "g.set_axis_labels(\n",
    "    xlabel=\"Mean fitting error ($K^2$)\", ylabel=\"Standard deviation for RC (h)\"\n",
    ")"
   ]
  },
  {
   "cell_type": "markdown",
   "metadata": {
    "papermill": {
     "duration": 0.010238,
     "end_time": "2019-10-28T22:48:37.434831",
     "exception": false,
     "start_time": "2019-10-28T22:48:37.424593",
     "status": "completed"
    },
    "tags": []
   },
   "source": [
    "### 4. Visualize Performance of the Energy Balance Method"
   ]
  },
  {
   "cell_type": "code",
   "execution_count": null,
   "metadata": {
    "papermill": {
     "duration": 2.263092,
     "end_time": "2019-10-28T22:48:39.710443",
     "exception": false,
     "start_time": "2019-10-28T22:48:37.447351",
     "status": "completed"
    },
    "tags": []
   },
   "outputs": [],
   "source": [
    "g = sns.jointplot(x=\"euler_cost\", y=\"euler_RC_std\", data=summary_df, color=\"grey\",)\n",
    "g.set_axis_labels(\n",
    "    xlabel=\"Mean fitting error ($K^2$)\", ylabel=\"Standard deviation in RC (h)\"\n",
    ")\n",
    "\n",
    "# =======================\n",
    "g = sns.jointplot(x=\"euler_cost\", y=\"euler_RK_std\", data=summary_df, color=\"grey\",)\n",
    "g.set_axis_labels(\n",
    "    xlabel=\"Mean fitting error  ($K^2$)\", ylabel=\"Standard deviation in RK ($K$)\"\n",
    ")\n",
    "\n",
    "# ========================\n",
    "g = sns.jointplot(x=\"euler_cost\", y=\"euler_cost_mean\", data=summary_df, color=\"grey\",)\n",
    "g.set_axis_labels(\n",
    "    xlabel=\"Mean fitting error ($K^2$)\", ylabel=\"Mean overfitting cost ($K^2$)\"\n",
    ")\n",
    "\n",
    "# ========================\n",
    "g = sns.jointplot(x=\"euler_RC_std\", y=\"euler_RK_std\", data=summary_df, color=\"grey\",)\n",
    "g.set_axis_labels(\n",
    "    xlabel=\"Standard deviation for RC (h)\", ylabel=\"Standard deviation for RK ($K$)\"\n",
    ")"
   ]
  },
  {
   "cell_type": "markdown",
   "metadata": {
    "papermill": {
     "duration": 0.015906,
     "end_time": "2019-10-28T22:48:39.740361",
     "exception": false,
     "start_time": "2019-10-28T22:48:39.724455",
     "status": "completed"
    },
    "tags": []
   },
   "source": [
    "### 5. Compare the results from the models"
   ]
  },
  {
   "cell_type": "code",
   "execution_count": null,
   "metadata": {
    "papermill": {
     "duration": 0.555531,
     "end_time": "2019-10-28T22:48:40.308087",
     "exception": false,
     "start_time": "2019-10-28T22:48:39.752556",
     "status": "completed"
    },
    "tags": []
   },
   "outputs": [],
   "source": [
    "fix, axes = plt.subplots(1, 2, figsize=(20, 10), sharey=True, sharex=True)\n",
    "\n",
    "for tick in axes[0].yaxis.get_major_ticks():\n",
    "    tick.label.set_fontsize(20)\n",
    "\n",
    "for tick in axes[0].xaxis.get_major_ticks():\n",
    "    tick.label.set_fontsize(20)\n",
    "\n",
    "for tick in axes[1].xaxis.get_major_ticks():\n",
    "    tick.label.set_fontsize(20)\n",
    "\n",
    "\n",
    "def plot_ax(\n",
    "    ax,\n",
    "    x_val,\n",
    "    y_val,\n",
    "    x_axis,\n",
    "    y_axis,\n",
    "    title,\n",
    "    x_lim=None,\n",
    "    y_lim=None,\n",
    "    xlabel_size=35,\n",
    "    ylabel_size=35,\n",
    "):\n",
    "    mask = ~np.isnan(x_val) & ~np.isnan(y_val)\n",
    "    line = stats.linregress(x_val[mask], y_val[mask])\n",
    "    slope, intercept, r_value, p_value, std_err = line\n",
    "\n",
    "    for tick in ax.xaxis.get_major_ticks():\n",
    "        tick.label.set_fontsize(25)\n",
    "    for tick in ax.yaxis.get_major_ticks():\n",
    "        tick.label.set_fontsize(25)\n",
    "\n",
    "    ax.scatter(x_val, y_val, marker=\"o\", color=\"grey\")\n",
    "    x = np.linspace(0, 350, 1000)\n",
    "    ax.plot(x, x, color=\"purple\", label=\"Perfect Result\", ls=\"dashed\", linewidth=3)\n",
    "    ax.set_xlabel(x_axis, fontsize=xlabel_size)\n",
    "    ax.set_ylabel(y_axis, fontsize=ylabel_size)\n",
    "    if x_lim:\n",
    "        plt.xlim(x_lim[0], x_lim[1])\n",
    "\n",
    "    if y_lim:\n",
    "        plt.ylim(y_lim[0], y_lim[1])\n",
    "    ax.plot(x, intercept + slope * x, \"orange\", label=\"Fitted Line\", linewidth=3)\n",
    "    ax.grid()\n",
    "    ax.legend(fontsize=xlabel_size)\n",
    "\n",
    "\n",
    "plot_ax(\n",
    "    ax=axes[0],\n",
    "    x_val=summary_df[\"balance_RK\"],\n",
    "    y_val=summary_df[\"euler_RK_mean\"],\n",
    "    x_axis=\"RK from balance points ($K$)\",\n",
    "    y_axis=\"Mean RK from\\nenergy balance method ($K$)\",\n",
    "    title=\"RK: FONI vs. Balance Point\",\n",
    ")\n",
    "\n",
    "plot_ax(\n",
    "    ax=axes[1],\n",
    "    x_val=summary_df[\"decay_RC_mean\"],\n",
    "    y_val=summary_df[\"euler_RC_mean\"],\n",
    "    x_axis=\"Mean RC from decay curves (h)\",\n",
    "    y_axis=\"Mean RC from\\nenergy balance method (h)\",\n",
    "    title=\"RC: FONI Method vs. Decay Curves\",\n",
    ")\n",
    "plt.show()"
   ]
  },
  {
   "cell_type": "markdown",
   "metadata": {
    "papermill": {
     "duration": 0.01619,
     "end_time": "2019-10-28T22:48:40.339922",
     "exception": false,
     "start_time": "2019-10-28T22:48:40.323732",
     "status": "completed"
    },
    "tags": []
   },
   "source": [
    "### 6. Compare Population Means"
   ]
  },
  {
   "cell_type": "code",
   "execution_count": null,
   "metadata": {
    "papermill": {
     "duration": 0.024445,
     "end_time": "2019-10-28T22:48:40.380131",
     "exception": false,
     "start_time": "2019-10-28T22:48:40.355686",
     "status": "completed"
    },
    "tags": []
   },
   "outputs": [],
   "source": [
    "new_df = summary_df[[\"euler_RC_mean\", \"decay_RC_mean\"]].dropna()\n",
    "print(\n",
    "    stats.ttest_ind(new_df[\"euler_RC_mean\"], new_df[\"decay_RC_mean\"], equal_var=False)\n",
    ")\n",
    "print(\n",
    "    stats.ttest_ind(\n",
    "        summary_df[\"euler_RK_mean\"], summary_df[\"balance_RK\"], equal_var=False\n",
    "    )\n",
    ")"
   ]
  },
  {
   "cell_type": "markdown",
   "metadata": {
    "papermill": {
     "duration": 0.014806,
     "end_time": "2019-10-28T22:48:40.410485",
     "exception": false,
     "start_time": "2019-10-28T22:48:40.395679",
     "status": "completed"
    },
    "tags": []
   },
   "source": [
    "### 7. Compare the Standard Deviations and Model Fitting Errors"
   ]
  },
  {
   "cell_type": "code",
   "execution_count": null,
   "metadata": {
    "papermill": {
     "duration": 3.225842,
     "end_time": "2019-10-28T22:48:43.652397",
     "exception": false,
     "start_time": "2019-10-28T22:48:40.426555",
     "status": "completed"
    },
    "tags": []
   },
   "outputs": [],
   "source": [
    "sns.set(font_scale=10)\n",
    "fig, axes = plt.subplots(2, 2, figsize=(50, 40), sharey=\"row\", sharex=\"row\")\n",
    "first = axes[0, 0]\n",
    "second = axes[0, 1]\n",
    "third = axes[1, 0]\n",
    "fourth = axes[1, 1]\n",
    "\n",
    "labelsize = 70\n",
    "axislabelsize = 90\n",
    "legenfontsize = 75\n",
    "\n",
    "first.set_ylabel(\"Frequency\", fontsize=axislabelsize)\n",
    "first.set_xlabel(\"RC standard Deviation (h)\", fontsize=axislabelsize)\n",
    "second.set_xlabel(\"RC mean (h)\", fontsize=axislabelsize)\n",
    "\n",
    "# =================== Plot the first row, RC\n",
    "for tick in first.yaxis.get_major_ticks():\n",
    "    tick.label.set_fontsize(labelsize)\n",
    "\n",
    "for tick in first.xaxis.get_major_ticks():\n",
    "    tick.label.set_fontsize(labelsize)\n",
    "\n",
    "for tick in second.xaxis.get_major_ticks():\n",
    "    tick.label.set_fontsize(labelsize)\n",
    "\n",
    "summary_df[\"euler_RC_std\"].hist(bins=25, ax=first)\n",
    "summary_df[\"decay_RC_std\"].hist(bins=25, ax=first)\n",
    "first.legend([\"Energy balance\", \"Decay curves\"], prop={\"size\": legenfontsize})\n",
    "\n",
    "\n",
    "summary_df[\"euler_RC_mean\"].hist(bins=25, ax=second)\n",
    "summary_df[\"decay_RC_mean\"].hist(bins=25, ax=second)\n",
    "second.legend([\"Energy balance\", \"Decay curves\"], prop={\"size\": legenfontsize})\n",
    "\n",
    "\n",
    "# ===================== Plot the second row, RK\n",
    "third.set_ylabel(\"Frequency\", fontsize=axislabelsize)\n",
    "third.set_xlabel(\n",
    "    \"RK standard deviation ($K$)/\\nStandard error (0.0-1.0, scaled)\",\n",
    "    fontsize=legenfontsize,\n",
    ")\n",
    "fourth.set_xlabel(\"RK mean ($K$)\", fontsize=axislabelsize)\n",
    "\n",
    "for tick in third.yaxis.get_major_ticks():\n",
    "    tick.label.set_fontsize(labelsize)\n",
    "\n",
    "for tick in third.xaxis.get_major_ticks():\n",
    "    tick.label.set_fontsize(labelsize)\n",
    "\n",
    "for tick in fourth.xaxis.get_major_ticks():\n",
    "    tick.label.set_fontsize(labelsize)\n",
    "\n",
    "summary_df[\"balance_stderr_mult\"] = summary_df[\"balance_stderr\"] * 10000\n",
    "\n",
    "summary_df[\"euler_RK_std\"].hist(bins=25, ax=third)\n",
    "summary_df[\"balance_stderr_mult\"].hist(bins=50, ax=third)\n",
    "third.legend([\"Energy balance\", \"Balance point plots\"], prop={\"size\": legenfontsize})\n",
    "\n",
    "summary_df[\"euler_RK_mean\"].hist(bins=25, ax=fourth)\n",
    "summary_df[\"balance_RK\"].hist(bins=50, ax=fourth)\n",
    "fourth.legend([\"Energy balance\", \"Balance point plots\"], prop={\"size\": legenfontsize})\n",
    "\n",
    "plt.grid()\n",
    "plt.tight_layout()\n",
    "plt.show()"
   ]
  },
  {
   "cell_type": "markdown",
   "metadata": {
    "papermill": {
     "duration": 0.02011,
     "end_time": "2019-10-28T22:48:43.693141",
     "exception": false,
     "start_time": "2019-10-28T22:48:43.673031",
     "status": "completed"
    },
    "tags": []
   },
   "source": [
    "### 8. Find the proportionate difference in results"
   ]
  },
  {
   "cell_type": "code",
   "execution_count": null,
   "metadata": {
    "papermill": {
     "duration": 0.375823,
     "end_time": "2019-10-28T22:48:44.090229",
     "exception": false,
     "start_time": "2019-10-28T22:48:43.714406",
     "status": "completed"
    },
    "tags": []
   },
   "outputs": [],
   "source": [
    "summary_df[\"RC_diffs\"] = (\n",
    "    (summary_df[\"euler_RC_mean\"] - summary_df[\"decay_RC_mean\"])\n",
    "    / summary_df[\"euler_RC_mean\"]\n",
    ") * 100\n",
    "summary_df[\"RK_diffs\"] = (\n",
    "    (summary_df[\"euler_RK_mean\"] - summary_df[\"balance_RK\"])\n",
    "    / summary_df[\"euler_RK_mean\"]\n",
    ") * 100\n",
    "\n",
    "plt.figure(figsize=(15, 15))\n",
    "sns.set(font_scale=1)\n",
    "sns.violinplot(data=summary_df[[\"RC_diffs\", \"RK_diffs\"]],)\n",
    "\n",
    "plt.xticks([0, 1], [\"RC\", \"RK\"], fontsize=40)\n",
    "plt.yticks(fontsize=25)\n",
    "plt.ylabel(\"Difference between the models (%)\", fontsize=35)"
   ]
  },
  {
   "cell_type": "markdown",
   "metadata": {
    "papermill": {
     "duration": 0.022074,
     "end_time": "2019-10-28T22:48:44.134428",
     "exception": false,
     "start_time": "2019-10-28T22:48:44.112354",
     "status": "completed"
    },
    "tags": []
   },
   "source": [
    "### 9. Show the amount of decay curves that were found for each building"
   ]
  },
  {
   "cell_type": "code",
   "execution_count": null,
   "metadata": {
    "papermill": {
     "duration": 0.298447,
     "end_time": "2019-10-28T22:48:44.454672",
     "exception": false,
     "start_time": "2019-10-28T22:48:44.156225",
     "status": "completed"
    },
    "tags": []
   },
   "outputs": [],
   "source": [
    "summary_df[\"decay_amnt\"].plot(kind=\"hist\", figsize=(7, 7), grid=True, fontsize=17)\n",
    "plt.xlabel(\"Decay curves found\", fontsize=17)\n",
    "plt.ylabel(\"Frequency\", fontsize=17)"
   ]
  },
  {
   "cell_type": "markdown",
   "metadata": {
    "papermill": {
     "duration": 0.023621,
     "end_time": "2019-10-28T22:48:44.501953",
     "exception": false,
     "start_time": "2019-10-28T22:48:44.478332",
     "status": "completed"
    },
    "tags": []
   },
   "source": [
    "### 10. Correlate with the metadata"
   ]
  },
  {
   "cell_type": "markdown",
   "metadata": {
    "papermill": {
     "duration": 0.02097,
     "end_time": "2019-10-28T22:48:44.544811",
     "exception": false,
     "start_time": "2019-10-28T22:48:44.523841",
     "status": "completed"
    },
    "tags": []
   },
   "source": [
    "The code is here for reference but the full metadata was not released for privacy reasons"
   ]
  },
  {
   "cell_type": "code",
   "execution_count": null,
   "metadata": {
    "papermill": {
     "duration": 0.370391,
     "end_time": "2019-10-28T22:48:44.936573",
     "exception": false,
     "start_time": "2019-10-28T22:48:44.566182",
     "status": "completed"
    },
    "tags": []
   },
   "outputs": [],
   "source": [
    "_, _, _, metadata_file, _ = a.get_paths(data_file)\n",
    "metadata_df = pd.read_csv(metadata_file)\n",
    "\n",
    "corr_vals = [\n",
    "    \"decay_RC_mean\",\n",
    "    \"euler_RC_mean\",\n",
    "    \"euler_RK_mean\",\n",
    "    \"balance_RK\",\n",
    "    \"Age of Home [years]\",\n",
    "    \"Floor Area [ft2]\",\n",
    "    \"Number of Floors\",\n",
    "]\n",
    "\n",
    "val_names = [\n",
    "    \"Mean RC:\\ndecay curves\",\n",
    "    \"Mean RC:\\nenergy balance\",\n",
    "    \"Mean RK:\\nenergy balance\",\n",
    "    \"RK:\\nbalance points\",\n",
    "    \"Age of home\",\n",
    "    \"Floor area\",\n",
    "    \"Number\\nof floors\",\n",
    "]\n",
    "\n",
    "size = \"Floor Area [ft2]\"\n",
    "age = \"Age of Home [years]\"\n",
    "\n",
    "join_df = summary_df.join(metadata_df.set_index(\"filename\"), on=\"filename\")\n",
    "join_df[\"euler_R\"] = join_df[\"euler_RK_mean\"] / join_df[size]\n",
    "\n",
    "# TODO\n",
    "join_df[\"area_per_floor\"] = join_df[size] / join_df[\"Number of Floors\"]\n",
    "\n",
    "\n",
    "def plot_corr(df, size=10):\n",
    "    \"\"\"Function plots a graphical correlation matrix for each pair of columns in the dataframe.\n",
    "\n",
    "    Input:\n",
    "        df: pandas DataFrame\n",
    "        size: vertical and horizontal size of the plot\"\"\"\n",
    "\n",
    "    plt.figure(figsize=(10, 8))\n",
    "    corr = df.corr()\n",
    "    sns.set(font_scale=1.4)\n",
    "    sns.heatmap(\n",
    "        corr,\n",
    "        cmap=\"coolwarm\",\n",
    "        annot=True,\n",
    "        xticklabels=val_names,\n",
    "        yticklabels=val_names,\n",
    "        annot_kws={\"size\": 17},\n",
    "    )\n",
    "    plt.tight_layout()\n",
    "\n",
    "\n",
    "plot_corr(join_df[corr_vals])"
   ]
  },
  {
   "cell_type": "code",
   "execution_count": null,
   "metadata": {
    "papermill": {
     "duration": 0.024933,
     "end_time": "2019-10-28T22:48:44.986973",
     "exception": false,
     "start_time": "2019-10-28T22:48:44.962040",
     "status": "completed"
    },
    "tags": []
   },
   "outputs": [],
   "source": []
  }
 ],
 "metadata": {
  "kernelspec": {
   "display_name": "Python 3",
   "language": "python",
   "name": "python3"
  }
 },
 "nbformat": 4,
 "nbformat_minor": 4
}
