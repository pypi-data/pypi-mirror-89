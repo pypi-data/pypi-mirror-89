{
 "cells": [
  {
   "cell_type": "markdown",
   "metadata": {},
   "source": [
    "# Notebook Testing"
   ]
  },
  {
   "cell_type": "markdown",
   "metadata": {},
   "source": [
    "This notebook will execute every notebook under given directory and subdirectory."
   ]
  },
  {
   "cell_type": "code",
   "execution_count": null,
   "metadata": {},
   "outputs": [],
   "source": [
    "import os"
   ]
  },
  {
   "cell_type": "code",
   "execution_count": null,
   "metadata": {
    "lines_to_next_cell": 2
   },
   "outputs": [],
   "source": [
    "import papermill as pm\n",
    "from papermill.exceptions import PapermillExecutionError"
   ]
  },
  {
   "cell_type": "code",
   "execution_count": null,
   "metadata": {},
   "outputs": [],
   "source": [
    "# path to the target folder\n",
    "target_directory = \"./\"\n",
    "\n",
    "# path to the folder for storing executed notebooks.\n",
    "output_directory = \"./ErrorNotebooks\"\n",
    "\n",
    "# whether or not to delete the executed notebook that has no error\n",
    "delete_executed = True"
   ]
  },
  {
   "cell_type": "code",
   "execution_count": null,
   "metadata": {},
   "outputs": [],
   "source": [
    "ipynb_list = []\n",
    "for root, dirs, files in os.walk(target_directory):\n",
    "    dirs[:] = [\n",
    "        d\n",
    "        for d in dirs\n",
    "        if not d.startswith(\".\") and d != output_directory.split(\"/\")[-1]\n",
    "    ]\n",
    "    for file in files:\n",
    "        if file.endswith(\".ipynb\") and file != \"NotebookTest.ipynb\":\n",
    "            ipynb_list.append((file, os.path.join(root, file)))\n",
    "\n",
    "if ipynb_list == []:\n",
    "    print(f\"No notebook found under {target_directory}\")\n",
    "else:\n",
    "    for ipynb in ipynb_list:\n",
    "        print(ipynb[1].split(target_directory)[1])"
   ]
  },
  {
   "cell_type": "code",
   "execution_count": null,
   "metadata": {},
   "outputs": [],
   "source": [
    "if output_directory is not None and not os.path.isdir(output_directory):\n",
    "    os.mkdir(output_directory)\n",
    "\n",
    "error_list = []\n",
    "try:\n",
    "    for ipynb in ipynb_list:\n",
    "        try:\n",
    "            print(f\"Executing {ipynb[0]}\")\n",
    "            if output_directory is not None:\n",
    "                output_notebook = f\"{output_directory}/{ipynb[0]}\"\n",
    "            else:\n",
    "                output_notebook = ipynb[1]\n",
    "            pm.execute_notebook(\n",
    "                ipynb[1], output_notebook, cwd=ipynb[1].split(ipynb[0])[0]\n",
    "            )\n",
    "            if delete_executed:\n",
    "                os.remove(output_notebook)\n",
    "        except PapermillExecutionError:\n",
    "            error_list.append(ipynb[1])\n",
    "finally:\n",
    "    if error_list != []:\n",
    "        print(\n",
    "            \"Error has occured in the following notebook(s), check the first cell of the notebook(s) in output_folder for error information.\"\n",
    "        )\n",
    "        for ipynb in error_list:\n",
    "            print(ipynb)\n",
    "    else:\n",
    "        print(\"Test has completed/interrupted. No error has occured during the test.\")"
   ]
  }
 ],
 "metadata": {
  "kernelspec": {
   "display_name": "Python 3",
   "language": "python",
   "name": "python3"
  }
 },
 "nbformat": 4,
 "nbformat_minor": 4
}
