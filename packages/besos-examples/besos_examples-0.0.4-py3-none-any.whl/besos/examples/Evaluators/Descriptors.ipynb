{
 "cells": [
  {
   "cell_type": "markdown",
   "metadata": {
    "papermill": {
     "duration": 0.007177,
     "end_time": "2019-10-28T22:50:11.211540",
     "exception": false,
     "start_time": "2019-10-28T22:50:11.204363",
     "status": "completed"
    },
    "tags": []
   },
   "source": [
    "# Descriptors\n",
    "\n",
    "Descriptors specify what kinds of values are valid for a parameter.\n",
    "There are currently, three variants: `RangeParameter`, `DependentParameter` and `CategoryParameter`."
   ]
  },
  {
   "cell_type": "code",
   "execution_count": null,
   "metadata": {
    "lines_to_next_cell": 2,
    "papermill": {
     "duration": 1.056189,
     "end_time": "2019-10-28T22:50:12.273175",
     "exception": false,
     "start_time": "2019-10-28T22:50:11.216986",
     "status": "completed"
    },
    "tags": []
   },
   "outputs": [],
   "source": [
    "\n",
    "from besos import sampling\n",
    "from besos.evaluator import EvaluatorGeneric\n",
    "from besos.parameters import (\n",
    "    CategoryParameter,\n",
    "    DependentParameter,\n",
    "    Parameter,\n",
    "    RangeParameter,\n",
    ")\n",
    "from besos.problem import Problem"
   ]
  },
  {
   "cell_type": "markdown",
   "metadata": {
    "papermill": {
     "duration": 0.004912,
     "end_time": "2019-10-28T22:50:12.283603",
     "exception": false,
     "start_time": "2019-10-28T22:50:12.278691",
     "status": "completed"
    },
    "tags": []
   },
   "source": [
    "### RangeParameters\n",
    "$min \\leq x \\leq max$"
   ]
  },
  {
   "cell_type": "code",
   "execution_count": null,
   "metadata": {
    "papermill": {
     "duration": 0.01397,
     "end_time": "2019-10-28T22:50:12.304946",
     "exception": false,
     "start_time": "2019-10-28T22:50:12.290976",
     "status": "completed"
    },
    "tags": []
   },
   "outputs": [],
   "source": [
    "zero_to_one_exclusive = RangeParameter(min_val=0.01, max_val=0.99)"
   ]
  },
  {
   "cell_type": "markdown",
   "metadata": {},
   "source": [
    "### DependentParameter\n",
    "\n",
    "The value of dependent parameter depends on a range parameter.\n",
    "\n",
    "For mode = 'sum', x = factor - target_val\n",
    "\n",
    "For mode = 'subtract', x = target_val - factor\n",
    "\n",
    "For mode = 'multiple', x = factor * target_val\n",
    "\n",
    "For mode = 'power', x = target_val ^ factor\n",
    "\n",
    "index represents the index of the target range parameter in the parameter list\n",
    "\n",
    "Check out [this](Evaluators/DependParamAndNonObj.ipynb) notebook for more examples."
   ]
  },
  {
   "cell_type": "code",
   "execution_count": null,
   "metadata": {},
   "outputs": [],
   "source": [
    "dp = DependentParameter(mode=\"sum\", factor=1, index=0)"
   ]
  },
  {
   "cell_type": "markdown",
   "metadata": {
    "papermill": {
     "duration": 0.004436,
     "end_time": "2019-10-28T22:50:12.314291",
     "exception": false,
     "start_time": "2019-10-28T22:50:12.309855",
     "status": "completed"
    },
    "tags": []
   },
   "source": [
    "### CategoryParameters\n",
    "A list of options."
   ]
  },
  {
   "cell_type": "code",
   "execution_count": null,
   "metadata": {
    "papermill": {
     "duration": 0.009385,
     "end_time": "2019-10-28T22:50:12.328129",
     "exception": false,
     "start_time": "2019-10-28T22:50:12.318744",
     "status": "completed"
    },
    "tags": []
   },
   "outputs": [],
   "source": [
    "text_example = CategoryParameter(options=[\"a\", \"b\", \"c\", \"other\"])\n",
    "single_digit_integers = CategoryParameter(options=range(10))"
   ]
  },
  {
   "cell_type": "markdown",
   "metadata": {
    "papermill": {
     "duration": 0.004336,
     "end_time": "2019-10-28T22:50:12.337015",
     "exception": false,
     "start_time": "2019-10-28T22:50:12.332679",
     "status": "completed"
    },
    "tags": []
   },
   "source": [
    "### Sampling\n",
    "These descriptors can be used to make `Parameters`.\n",
    "Then we can generate samples."
   ]
  },
  {
   "cell_type": "code",
   "execution_count": null,
   "metadata": {
    "papermill": {
     "duration": 0.021458,
     "end_time": "2019-10-28T22:50:12.362905",
     "exception": false,
     "start_time": "2019-10-28T22:50:12.341447",
     "status": "completed"
    },
    "tags": []
   },
   "outputs": [],
   "source": [
    "parameters = [\n",
    "    Parameter(value_descriptor=zero_to_one_exclusive, name=\"0-1\"),\n",
    "    Parameter(value_descriptor=dp, name=\"dp\"),\n",
    "    Parameter(value_descriptor=single_digit_integers, name=\"single digit\"),\n",
    "    Parameter(value_descriptor=text_example, name=\"text\"),\n",
    "]\n",
    "problem = Problem(parameters, outputs=[\"output\"])\n",
    "\n",
    "samples = sampling.dist_sampler(sampling.lhs, problem, num_samples=10)\n",
    "samples"
   ]
  },
  {
   "cell_type": "markdown",
   "metadata": {
    "papermill": {
     "duration": 0.004504,
     "end_time": "2019-10-28T22:50:12.372177",
     "exception": false,
     "start_time": "2019-10-28T22:50:12.367673",
     "status": "completed"
    },
    "tags": []
   },
   "source": [
    "### Evaluation\n",
    "Since we did not specify selectors for the parameters, we cannot evaluate them using an EnergyPlus simulation.\n",
    "Instead, we will use a custom evaluation function."
   ]
  },
  {
   "cell_type": "code",
   "execution_count": null,
   "metadata": {
    "papermill": {
     "duration": 0.038359,
     "end_time": "2019-10-28T22:50:12.415265",
     "exception": false,
     "start_time": "2019-10-28T22:50:12.376906",
     "status": "completed"
    },
    "tags": []
   },
   "outputs": [],
   "source": [
    "def evaluation_function(values):\n",
    "    v, x, y, z = values\n",
    "    if z == \"other\":\n",
    "        return (v,), ()\n",
    "    else:\n",
    "        return (x * y,), ()\n",
    "\n",
    "\n",
    "evaluator = EvaluatorGeneric(evaluation_function, problem)\n",
    "# The evaluator will use this objective by default\n",
    "outputs = evaluator.df_apply(samples, keep_input=True)\n",
    "# outputs is a pandas dataframe with one column since only one objective was requested"
   ]
  },
  {
   "cell_type": "code",
   "execution_count": null,
   "metadata": {
    "papermill": {
     "duration": 0.018132,
     "end_time": "2019-10-28T22:50:12.440161",
     "exception": false,
     "start_time": "2019-10-28T22:50:12.422029",
     "status": "completed"
    },
    "tags": []
   },
   "outputs": [],
   "source": [
    "outputs"
   ]
  },
  {
   "cell_type": "code",
   "execution_count": null,
   "metadata": {
    "papermill": {
     "duration": 0.005969,
     "end_time": "2019-10-28T22:50:12.452010",
     "exception": false,
     "start_time": "2019-10-28T22:50:12.446041",
     "status": "completed"
    },
    "tags": []
   },
   "outputs": [],
   "source": []
  }
 ],
 "metadata": {
  "jupytext": {
   "formats": "ipynb,py:light"
  },
  "kernelspec": {
   "display_name": "Python 3",
   "language": "python",
   "name": "python3"
  }
 },
 "nbformat": 4,
 "nbformat_minor": 4
}
