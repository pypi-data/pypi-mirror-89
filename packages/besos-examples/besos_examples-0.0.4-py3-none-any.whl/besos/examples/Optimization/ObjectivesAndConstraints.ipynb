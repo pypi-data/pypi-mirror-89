{
 "cells": [
  {
   "cell_type": "markdown",
   "metadata": {
    "papermill": {
     "duration": 0.021592,
     "end_time": "2019-10-28T22:56:00.961501",
     "exception": false,
     "start_time": "2019-10-28T22:56:00.939909",
     "status": "completed"
    },
    "tags": []
   },
   "source": [
    "import libraries"
   ]
  },
  {
   "cell_type": "code",
   "execution_count": null,
   "metadata": {
    "lines_to_next_cell": 2,
    "papermill": {
     "duration": 2.16592,
     "end_time": "2019-10-28T22:56:03.143892",
     "exception": false,
     "start_time": "2019-10-28T22:56:00.977972",
     "status": "completed"
    },
    "tags": []
   },
   "outputs": [],
   "source": [
    "from besos import eppy_funcs as ef\n",
    "from besos.eplus_funcs import print_available_outputs\n",
    "from besos.evaluator import EvaluatorEP\n",
    "from besos.objectives import MeterReader, clear_outputs\n",
    "from besos.optimizer import NSGAII\n",
    "from besos.parameters import FieldSelector, Parameter, RangeParameter, wwr\n",
    "from besos.problem import EPProblem, Problem"
   ]
  },
  {
   "cell_type": "markdown",
   "metadata": {
    "papermill": {
     "duration": 0.012095,
     "end_time": "2019-10-28T22:56:03.168666",
     "exception": false,
     "start_time": "2019-10-28T22:56:03.156571",
     "status": "completed"
    },
    "tags": []
   },
   "source": [
    "# Objectives and Constraints\n",
    "\n",
    "`Evaluators` support two types of outputs: Objectives and Constraints.\n",
    "These are both made using the `MeterReader` and `VariableReader` classes.\n",
    "The only difference is how they are used by the problem."
   ]
  },
  {
   "cell_type": "markdown",
   "metadata": {
    "papermill": {
     "duration": 0.008487,
     "end_time": "2019-10-28T22:56:03.185951",
     "exception": false,
     "start_time": "2019-10-28T22:56:03.177464",
     "status": "completed"
    },
    "tags": []
   },
   "source": [
    "First we load the EnergyPlus example file, clear any output data and define some parameters."
   ]
  },
  {
   "cell_type": "code",
   "execution_count": null,
   "metadata": {
    "papermill": {
     "duration": 0.020441,
     "end_time": "2019-10-28T22:56:03.214574",
     "exception": false,
     "start_time": "2019-10-28T22:56:03.194133",
     "status": "completed"
    },
    "tags": []
   },
   "outputs": [],
   "source": [
    "building = ef.get_building()\n",
    "clear_outputs(building)\n",
    "inputs = [\n",
    "    wwr(),\n",
    "    Parameter(\n",
    "        FieldSelector(\n",
    "            class_name=\"Material\",\n",
    "            object_name=\"Mass NonRes Wall Insulation\",\n",
    "            field_name=\"Thickness\",\n",
    "        ),\n",
    "        RangeParameter(0.01, 0.99),\n",
    "    ),\n",
    "]"
   ]
  },
  {
   "cell_type": "markdown",
   "metadata": {
    "papermill": {
     "duration": 0.007098,
     "end_time": "2019-10-28T22:56:03.230077",
     "exception": false,
     "start_time": "2019-10-28T22:56:03.222979",
     "status": "completed"
    },
    "tags": []
   },
   "source": [
    "Objectives and constraints can be specified in various ways.\n",
    "+ The most explicit is by calling the relevant constructor."
   ]
  },
  {
   "cell_type": "code",
   "execution_count": null,
   "metadata": {
    "papermill": {
     "duration": 0.015227,
     "end_time": "2019-10-28T22:56:03.252623",
     "exception": false,
     "start_time": "2019-10-28T22:56:03.237396",
     "status": "completed"
    },
    "tags": []
   },
   "outputs": [],
   "source": [
    "objectives = [\n",
    "    MeterReader(\n",
    "        key_name=\"Electricity:Facility\", class_name=\"Output:Meter\", frequency=\"Hourly\"\n",
    "    )\n",
    "]\n",
    "EPProblem(outputs=objectives)"
   ]
  },
  {
   "cell_type": "markdown",
   "metadata": {
    "papermill": {
     "duration": 0.008619,
     "end_time": "2019-10-28T22:56:03.270011",
     "exception": false,
     "start_time": "2019-10-28T22:56:03.261392",
     "status": "completed"
    },
    "tags": []
   },
   "source": [
    "+ The most concise is a list of the `key_names`.\n",
    "\n",
    "The constructor has defaults, so we can often omit `class_name` and `frequency`.\n",
    "A list of key names will be automatically be converted by `EPProblem`.\n",
    "Meters and variables that do not have a `frequency` specified will default to any frequency that is already used for that output, or if none is used yet then they will use Hourly."
   ]
  },
  {
   "cell_type": "code",
   "execution_count": null,
   "metadata": {
    "papermill": {
     "duration": 0.015407,
     "end_time": "2019-10-28T22:56:03.295022",
     "exception": false,
     "start_time": "2019-10-28T22:56:03.279615",
     "status": "completed"
    },
    "tags": []
   },
   "outputs": [],
   "source": [
    "objectives = [\"Electricity:Facility\"]\n",
    "EPProblem(outputs=objectives)"
   ]
  },
  {
   "cell_type": "markdown",
   "metadata": {
    "papermill": {
     "duration": 0.007633,
     "end_time": "2019-10-28T22:56:03.310868",
     "exception": false,
     "start_time": "2019-10-28T22:56:03.303235",
     "status": "completed"
    },
    "tags": []
   },
   "source": [
    "+ Using `Problem`\n",
    "\n",
    "If we do not need the output-reading features of meters, we can use `Problem` instead of `EPProblem`, and they will be converted to `Objective` objects which act as placeholders.\n",
    "`EPProblem` converts them to `Meter:Reader` objects.\n",
    "Either of these conversions can be overriden using the converters argument."
   ]
  },
  {
   "cell_type": "code",
   "execution_count": null,
   "metadata": {
    "papermill": {
     "duration": 0.015037,
     "end_time": "2019-10-28T22:56:03.333559",
     "exception": false,
     "start_time": "2019-10-28T22:56:03.318522",
     "status": "completed"
    },
    "tags": []
   },
   "outputs": [],
   "source": [
    "objectives = [\"any\", \"names\", \"work\"]\n",
    "Problem(outputs=objectives)"
   ]
  },
  {
   "cell_type": "markdown",
   "metadata": {
    "papermill": {
     "duration": 0.007845,
     "end_time": "2019-10-28T22:56:03.349707",
     "exception": false,
     "start_time": "2019-10-28T22:56:03.341862",
     "status": "completed"
    },
    "tags": []
   },
   "source": [
    "+ Specifying the aggregation function\n",
    "\n",
    "The `func` argument is used define how to aggregate the individual time series results.\n",
    "By default, all measurements are summed.\n",
    "If we wanted to instead minimize the variance, we can write our own aggrgation function.\n",
    "Here we define two electricity objectives, the first summing the hourly values and the second taking the variance."
   ]
  },
  {
   "cell_type": "code",
   "execution_count": null,
   "metadata": {
    "papermill": {
     "duration": 0.013545,
     "end_time": "2019-10-28T22:56:03.371315",
     "exception": false,
     "start_time": "2019-10-28T22:56:03.357770",
     "status": "completed"
    },
    "tags": []
   },
   "outputs": [],
   "source": [
    "def variance(result):\n",
    "    return result.data[\"Value\"].var()\n",
    "\n",
    "\n",
    "objectives = [\n",
    "    MeterReader(\"Electricity:Facility\", name=\"Electricity Usage\"),\n",
    "    MeterReader(\"Electricity:Facility\", func=variance, name=\"Electricity Variance\"),\n",
    "]"
   ]
  },
  {
   "cell_type": "markdown",
   "metadata": {
    "papermill": {
     "duration": 0.009115,
     "end_time": "2019-10-28T22:56:03.390060",
     "exception": false,
     "start_time": "2019-10-28T22:56:03.380945",
     "status": "completed"
    },
    "tags": []
   },
   "source": [
    "When we want to specify the direction of optimisation, we can use `minmize_outputs` (defaults to `true` for all objectives).\n",
    "Here we say we want to search for a design that has:\n",
    "+ low electricty use (minimize objective 1 defined above)\n",
    "+ high variability of electricity use (maximize objective 2 defined above)\n",
    "+ less than 800 kgCO2 (constraint)"
   ]
  },
  {
   "cell_type": "code",
   "execution_count": null,
   "metadata": {
    "papermill": {
     "duration": 0.014822,
     "end_time": "2019-10-28T22:56:03.414981",
     "exception": false,
     "start_time": "2019-10-28T22:56:03.400159",
     "status": "completed"
    },
    "tags": []
   },
   "outputs": [],
   "source": [
    "evaluator = EvaluatorEP(\n",
    "    EPProblem(\n",
    "        inputs=inputs,\n",
    "        outputs=objectives,\n",
    "        minimize_outputs=[True, True],\n",
    "        constraints=[\"CO2:Facility\"],\n",
    "        constraint_bounds=[\"<=800\"],\n",
    "    ),\n",
    "    building,\n",
    "    out_dir=\"outputdir\",\n",
    ")"
   ]
  },
  {
   "cell_type": "code",
   "execution_count": null,
   "metadata": {
    "papermill": {
     "duration": 12.116569,
     "end_time": "2019-10-28T22:56:15.539809",
     "exception": false,
     "start_time": "2019-10-28T22:56:03.423240",
     "status": "completed"
    },
    "tags": []
   },
   "outputs": [],
   "source": [
    "# this cell runs the optimisation\n",
    "results1 = NSGAII(evaluator, evaluations=1, population_size=10)\n",
    "results1"
   ]
  },
  {
   "cell_type": "code",
   "execution_count": null,
   "metadata": {
    "papermill": {
     "duration": 0.042463,
     "end_time": "2019-10-28T22:56:15.592515",
     "exception": false,
     "start_time": "2019-10-28T22:56:15.550052",
     "status": "completed"
    },
    "tags": []
   },
   "outputs": [],
   "source": [
    "results1.describe()"
   ]
  },
  {
   "cell_type": "code",
   "execution_count": null,
   "metadata": {
    "papermill": {
     "duration": 12.845066,
     "end_time": "2019-10-28T22:56:28.448046",
     "exception": false,
     "start_time": "2019-10-28T22:56:15.602980",
     "status": "completed"
    },
    "tags": []
   },
   "outputs": [],
   "source": [
    "# this cell runs the optimisation\n",
    "results2 = NSGAII(evaluator, evaluations=10, population_size=10)\n",
    "results2"
   ]
  },
  {
   "cell_type": "code",
   "execution_count": null,
   "metadata": {
    "papermill": {
     "duration": 0.038189,
     "end_time": "2019-10-28T22:56:28.496490",
     "exception": false,
     "start_time": "2019-10-28T22:56:28.458301",
     "status": "completed"
    },
    "tags": []
   },
   "outputs": [],
   "source": [
    "results2.describe()"
   ]
  },
  {
   "cell_type": "markdown",
   "metadata": {
    "papermill": {
     "duration": 0.009172,
     "end_time": "2019-10-28T22:56:28.515233",
     "exception": false,
     "start_time": "2019-10-28T22:56:28.506061",
     "status": "completed"
    },
    "tags": []
   },
   "source": [
    "## Get available objectives\n",
    "\n",
    "The user can use print_available_outputs to print out the available objectives for this building"
   ]
  },
  {
   "cell_type": "code",
   "execution_count": null,
   "metadata": {},
   "outputs": [],
   "source": [
    "\n",
    "building = ef.get_building(mode=\"idf\")\n",
    "print_available_outputs(building, name=\"facility\", frequency=\"monthly\")"
   ]
  }
 ],
 "metadata": {
  "jupytext": {
   "formats": "ipynb,py:light"
  },
  "kernelspec": {
   "display_name": "Python 3",
   "language": "python",
   "name": "python3"
  }
 },
 "nbformat": 4,
 "nbformat_minor": 4
}
